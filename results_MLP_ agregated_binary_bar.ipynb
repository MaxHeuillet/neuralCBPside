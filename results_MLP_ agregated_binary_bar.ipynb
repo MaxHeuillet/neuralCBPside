{
 "cells": [
  {
   "cell_type": "code",
   "execution_count": 1,
   "metadata": {},
   "outputs": [],
   "source": [
    "import os\n",
    "import numpy as np\n",
    "import plotly.graph_objects as go\n",
    "\n",
    "import gzip\n",
    "import pickle as pkl\n",
    "\n",
    "def loadall_results2(path, n_folds):\n",
    "    regret = []\n",
    "    history_actions = []\n",
    "    history_outcomes = []\n",
    "    perf = []\n",
    "    with gzip.open(  path ,'rb') as f:\n",
    "        for i in range(n_folds+1):\n",
    "            try:\n",
    "                data = pkl.load(f)\n",
    "            except EOFError:\n",
    "                break\n",
    "\n",
    "            if type(data) == dict:\n",
    "                regret.append( data['regret'] ) \n",
    "                history_actions.append( data['action_history'] )\n",
    "                history_outcomes.append( data['outcome_history'] ) \n",
    "                perf.append( data['pred'] ) \n",
    "\n",
    "    \n",
    "    return regret, history_actions, history_outcomes, perf"
   ]
  },
  {
   "cell_type": "code",
   "execution_count": 3,
   "metadata": {},
   "outputs": [],
   "source": [
    "n_folds = 1\n",
    "horizon = 9999\n",
    "context = 'MNISTbinary'\n",
    "model = 'MLP'\n",
    "case = 'case1'\n",
    "agent_name = 'EEneuralcbpside_v6' #ineural6, neuronal6\n",
    "\n",
    "direct = './results/'\n",
    "path = os.path.join(direct, '{}_{}_{}_{}_{}_{}.pkl.gz'.format(case,model,context,horizon,n_folds,agent_name) )\n",
    "regret, action_history,outcome_history, perf = loadall_results2(path, n_folds)\n"
   ]
  },
  {
   "cell_type": "code",
   "execution_count": 14,
   "metadata": {},
   "outputs": [
    {
     "name": "stdout",
     "output_type": "stream",
     "text": [
      "./results/case1_MLP_MNISTbinary_9999_25_cesa.pkl.gz\n",
      "24\n",
      "m [[3, 'MNISTbinary', 'Cesa'], [3, 'MNISTbinary', 'Cesa'], [1, 'MNISTbinary', 'Cesa'], [1, 'MNISTbinary', 'Cesa'], [1, 'MNISTbinary', 'Cesa'], [1, 'MNISTbinary', 'Cesa'], [1, 'MNISTbinary', 'Cesa'], [1, 'MNISTbinary', 'Cesa'], [3, 'MNISTbinary', 'Cesa'], [1, 'MNISTbinary', 'Cesa'], [2, 'MNISTbinary', 'Cesa'], [1, 'MNISTbinary', 'Cesa'], [1, 'MNISTbinary', 'Cesa'], [1, 'MNISTbinary', 'Cesa'], [1, 'MNISTbinary', 'Cesa'], [1, 'MNISTbinary', 'Cesa'], [1, 'MNISTbinary', 'Cesa'], [2, 'MNISTbinary', 'Cesa'], [1, 'MNISTbinary', 'Cesa'], [1, 'MNISTbinary', 'Cesa'], [1, 'MNISTbinary', 'Cesa'], [1, 'MNISTbinary', 'Cesa'], [1, 'MNISTbinary', 'Cesa'], [1, 'MNISTbinary', 'Cesa']]\n",
      "./results/case1_MLP_MagicTelescope_9999_25_cesa.pkl.gz\n",
      "25\n",
      "m [[232, 'MagicTelescope', 'Cesa'], [12, 'MagicTelescope', 'Cesa'], [230, 'MagicTelescope', 'Cesa'], [341, 'MagicTelescope', 'Cesa'], [393, 'MagicTelescope', 'Cesa'], [445, 'MagicTelescope', 'Cesa'], [401, 'MagicTelescope', 'Cesa'], [510, 'MagicTelescope', 'Cesa'], [369, 'MagicTelescope', 'Cesa'], [450, 'MagicTelescope', 'Cesa'], [5, 'MagicTelescope', 'Cesa'], [42, 'MagicTelescope', 'Cesa'], [495, 'MagicTelescope', 'Cesa'], [3, 'MagicTelescope', 'Cesa'], [2, 'MagicTelescope', 'Cesa'], [111, 'MagicTelescope', 'Cesa'], [296, 'MagicTelescope', 'Cesa'], [352, 'MagicTelescope', 'Cesa'], [265, 'MagicTelescope', 'Cesa'], [94, 'MagicTelescope', 'Cesa'], [266, 'MagicTelescope', 'Cesa'], [48, 'MagicTelescope', 'Cesa'], [432, 'MagicTelescope', 'Cesa'], [238, 'MagicTelescope', 'Cesa'], [205, 'MagicTelescope', 'Cesa']]\n",
      "./results/case1_MLP_adult_9999_25_cesa.pkl.gz\n",
      "25\n",
      "m [[316, 'adult', 'Cesa'], [536, 'adult', 'Cesa'], [5, 'adult', 'Cesa'], [4, 'adult', 'Cesa'], [518, 'adult', 'Cesa'], [3, 'adult', 'Cesa'], [525, 'adult', 'Cesa'], [273, 'adult', 'Cesa'], [520, 'adult', 'Cesa'], [565, 'adult', 'Cesa'], [538, 'adult', 'Cesa'], [4, 'adult', 'Cesa'], [2, 'adult', 'Cesa'], [243, 'adult', 'Cesa'], [526, 'adult', 'Cesa'], [549, 'adult', 'Cesa'], [245, 'adult', 'Cesa'], [3, 'adult', 'Cesa'], [551, 'adult', 'Cesa'], [522, 'adult', 'Cesa'], [534, 'adult', 'Cesa'], [4, 'adult', 'Cesa'], [3, 'adult', 'Cesa'], [93, 'adult', 'Cesa'], [210, 'adult', 'Cesa']]\n"
     ]
    }
   ],
   "source": [
    "def convert_action_history(action_history,data, l_label):\n",
    "    counters = []\n",
    "    for history in action_history:\n",
    "\n",
    "        counter = sum([ 1 if action == 0 else 0 for action in history ])\n",
    "        counters.append( [counter, data, l_label] )\n",
    "\n",
    "    # counters.append(data)\n",
    "    # counters.append(l_label)\n",
    "    # std = 2.575 * np.std(counters, axis = 0) / n_folds \n",
    "    # std = np.std(counters, axis = 0) #/ n_folds \n",
    "\n",
    "    return counters#np.mean(counters, axis = 0), std \n",
    "\n",
    "n_folds = 25\n",
    "horizon = 9999\n",
    "model = 'MLP'\n",
    "\n",
    "\n",
    "material = {\n",
    "    #'EEneuralcbpside_v5': {'color': [255, 255, 0], 'label': 'EEneuralcbpside_v5'},  # Red\n",
    "    # 'EEneuralcbpside_v6': {'color': [255, 0, 0], 'label': 'Neural-CBP'},  # Red\n",
    "    # 'ineural6': {'color': [51, 255, 255], 'label':'IneurAL (official)'},                    # Yellow\n",
    "    # 'ineural3': {'color': [0, 0, 255], 'label':'IneurAL (tuned)'},                    # Cyan\n",
    "    # 'neuronal6': {'color': [255, 0, 255], 'label':'Neuronal (official)'},                  # Magenta\n",
    "    # 'neuronal3': {'color': [160, 160, 160], 'label':'Neuronal (tuned)'},                   # Orange\n",
    "    # 'margin': {'color': [160, 160, 160], 'label':'Margin'},\n",
    "    'cesa': {'color': [0, 0, 255], 'label':'Cesa'},\n",
    "}\n",
    "\n",
    "#  'random':{'color':[204,0,204],'label':'e-greedy'}\n",
    "\n",
    "fig = go.Figure( )\n",
    "\n",
    "\n",
    "exploration_dataset = []\n",
    "data_models = {}\n",
    "for model in ['MLP']: #, 'LeNet'\n",
    "\n",
    "    # if model == 'MLP':\n",
    "    n_folds = 25\n",
    "    datasets = ['MNISTbinary', 'MagicTelescope', 'adult', ]\n",
    "    # else:\n",
    "    #     datasets = ['MNIST', 'FASHION', 'CIFAR10',]\n",
    "    #     n_folds = 25  'MNIST', 'FASHION', 'covertype', 'shuttle',\n",
    "\n",
    "    data_regrets = {} \n",
    "    for data in datasets: \n",
    "\n",
    "        # if data in ['MNIST', 'FASHION', 'CIFAR10']:\n",
    "        #     case = 'case2' \n",
    "        # elif data in ['covertype', 'shuttle']:\n",
    "        #     case = 'game_case_seven'\n",
    "        # else:\n",
    "        case = 'case1'\n",
    "            \n",
    "        final_regrets = {}\n",
    "        for agent_name in material.keys():\n",
    "\n",
    "            color, l_label = material[agent_name]['color'], material[agent_name]['label']\n",
    "\n",
    "            r,g,b = color\n",
    "\n",
    "            direct = './results/'\n",
    "            path = os.path.join(direct, '{}_{}_{}_{}_{}_{}.pkl.gz'.format(case, model, data, horizon,n_folds,agent_name) )\n",
    "            print(path)\n",
    "            result, history_actions, history_outcomes, perf = loadall_results2(path, n_folds)\n",
    "            result = np.array(result)\n",
    "            # result = result[1:]\n",
    "            result = result.astype(np.float32)\n",
    "            print(  len(history_actions) )\n",
    "            final_regrets[l_label] = result[:,-1] \n",
    "            m = convert_action_history(history_actions, data, l_label)\n",
    "            print('m', m)\n",
    "\n",
    "            exploration_dataset.extend( m )\n",
    "            # except:\n",
    "            #     result = np.zeros((n_folds,horizon))\n",
    "\n",
    "        if data == 'MNISTbinary':\n",
    "            data = 'MNIST binary'\n",
    "        if data == 'FASHION':\n",
    "            data = 'Fashion'\n",
    "            \n",
    "        data_regrets[data] = final_regrets\n",
    "        \n",
    "    data_models[model] = data_regrets\n",
    "\n",
    "\n",
    "# fig.show()\n",
    "# fig.write_image(\"./figures/case1_{}_{}.pdf\".format(model, context) )"
   ]
  },
  {
   "cell_type": "code",
   "execution_count": 13,
   "metadata": {},
   "outputs": [
    {
     "data": {
      "text/plain": [
       "[[316, 'adult', 'Cesa'],\n",
       " [536, 'adult', 'Cesa'],\n",
       " [5, 'adult', 'Cesa'],\n",
       " [4, 'adult', 'Cesa'],\n",
       " [518, 'adult', 'Cesa'],\n",
       " [3, 'adult', 'Cesa'],\n",
       " [525, 'adult', 'Cesa'],\n",
       " [273, 'adult', 'Cesa'],\n",
       " [520, 'adult', 'Cesa'],\n",
       " [565, 'adult', 'Cesa'],\n",
       " [538, 'adult', 'Cesa'],\n",
       " [4, 'adult', 'Cesa'],\n",
       " [2, 'adult', 'Cesa'],\n",
       " [243, 'adult', 'Cesa'],\n",
       " [526, 'adult', 'Cesa'],\n",
       " [549, 'adult', 'Cesa'],\n",
       " [245, 'adult', 'Cesa'],\n",
       " [3, 'adult', 'Cesa'],\n",
       " [551, 'adult', 'Cesa'],\n",
       " [522, 'adult', 'Cesa'],\n",
       " [534, 'adult', 'Cesa'],\n",
       " [4, 'adult', 'Cesa'],\n",
       " [3, 'adult', 'Cesa'],\n",
       " [93, 'adult', 'Cesa'],\n",
       " [210, 'adult', 'Cesa']]"
      ]
     },
     "execution_count": 13,
     "metadata": {},
     "output_type": "execute_result"
    }
   ],
   "source": [
    "m"
   ]
  },
  {
   "cell_type": "code",
   "execution_count": 3,
   "metadata": {},
   "outputs": [],
   "source": [
    "import pandas as pd\n",
    "exploration_dataset = np.array(exploration_dataset)\n",
    "exploration_dataset = pd.DataFrame(exploration_dataset)\n",
    "exploration_dataset.dtypes\n",
    "exploration_dataset[0].astype(float)\n",
    "\n",
    "exploration_dataset.columns = ['Explore', 'Dataset', 'Approach']\n",
    "exploration_dataset['Explore'] = exploration_dataset['Explore'].astype(int)"
   ]
  },
  {
   "cell_type": "code",
   "execution_count": 4,
   "metadata": {},
   "outputs": [],
   "source": [
    "import pandas as pd\n",
    "# pd.DataFrame(data_regrets)\n",
    "# data_regrets\n",
    "\n",
    "samples = []\n",
    "\n",
    "# Iterate over the dictionary to extract data\n",
    "for model, dataset in data_models.items():\n",
    "    for data, approach in dataset.items():\n",
    "        for appr, values in approach.items():\n",
    "            for val in values:\n",
    "                samples.append([model, data, appr, val])\n",
    "\n",
    "# Create a DataFrame\n",
    "df = pd.DataFrame(samples, columns=['Model','Dataset', 'Approach', 'Value'])\n",
    "\n",
    "# Calculate mean and standard error for each group\n",
    "grouped = df.groupby(['Model', 'Dataset', 'Approach'])\n",
    "mean = grouped['Value'].mean().reset_index()\n",
    "std_error =  2.576 * grouped['Value'].std() / np.sqrt(grouped['Value'].count()) \n",
    "std_error = std_error.reset_index()\n",
    "\n",
    "# Merge the mean and standard error into a single DataFrame\n",
    "result = pd.merge(mean, std_error, on=['Model', 'Dataset', 'Approach'])\n",
    "result.rename(columns={'Value_x': 'Mean', 'Value_y': 'StdError'}, inplace=True)\n",
    "\n",
    "result['merge'] = result['Model'] + result['Approach']\n",
    "result['merge2'] = result['Model'] + result['Dataset']"
   ]
  },
  {
   "cell_type": "code",
   "execution_count": 7,
   "metadata": {},
   "outputs": [
    {
     "name": "stdout",
     "output_type": "stream",
     "text": [
      "4.0415965273411017e-25 4857.3335 1.3333333333333333\n",
      "1.2192730916775842e-06 3216.72 107.56\n",
      "0.546954672332411 3550.48 249.48\n",
      "0.1920958295872607 3801.08 35.24\n",
      "0.4121937512146573 2666.72 291.68\n",
      "0.8575096490900073 2889.9583 33.041666666666664\n"
     ]
    }
   ],
   "source": [
    "from scipy.stats import ttest_ind,mannwhitneyu\n",
    "# np.set_printoptions(suppress=True)\n",
    "\n",
    "\n",
    "final_values = []\n",
    "\n",
    "for data_name in ['MNIST binary', 'MagicTelescope', 'adult'] : \n",
    "    subdf = df[ df['Dataset']== data_name ]\n",
    "\n",
    "    data_name2 = data_name if data_name != 'MNIST binary' else 'MNISTbinary'\n",
    "    subdf_exp = exploration_dataset[ exploration_dataset['Dataset']== data_name2 ]\n",
    "\n",
    "    dataset = pd.DataFrame([data_name] * 25)\n",
    "    # dataset_expl = pd.DataFrame([data_name] * 25)\n",
    "\n",
    "    final_dataset = []\n",
    "    references = []\n",
    "\n",
    "#'Neural-CBP', 'IneurAL (official)', 'IneurAL (tuned)', 'Neuronal (official)', 'Neuronal (tuned)',\n",
    "    for approach in [ 'Cesa', 'Margin',]:\n",
    "        \n",
    "        values = subdf[ subdf['Approach'] == approach]['Value']\n",
    "        values.name = '{}'.format(approach)\n",
    "        values = values.reset_index(drop=True)\n",
    "        dataset['{}'.format(approach)] = values\n",
    "\n",
    "        mean = np.mean(values)\n",
    "\n",
    "        s, p = ttest_ind(df[  (df['Approach'] == 'Neural-CBP') & (df['Dataset'] == data_name)  ]['Value'], \n",
    "                    df[  (df['Approach'] == approach) & (df['Dataset'] == data_name)  ]['Value'], equal_var=False)\n",
    "\n",
    "        \n",
    "        values_exp = subdf_exp[ subdf_exp['Approach'] == approach]['Explore']\n",
    "        values_exp.name = '{}'.format(approach)\n",
    "        values_exp = values_exp.reset_index(drop=True)\n",
    "        values_exp = values_exp.astype(int)\n",
    "\n",
    "        mean_exp = np.mean(values_exp)\n",
    "\n",
    "        s, p_exp = ttest_ind( exploration_dataset[  (exploration_dataset['Approach'] == 'Neural-CBP') & (exploration_dataset['Dataset'] == data_name2)  ]['Explore'], \n",
    "                    exploration_dataset[  (exploration_dataset['Approach'] == approach) & (exploration_dataset['Dataset'] == data_name2)  ]['Explore'], equal_var=False)\n",
    "\n",
    "        print(p, mean, mean_exp)\n",
    "        \n",
    "        final_dataset.append( [  mean, p, mean_exp, p_exp ] )\n",
    "        references.append([ data_name ,  approach, ] )\n",
    "\n",
    "    final_dataset = np.array(final_dataset)\n",
    "    references = np.array(references)\n",
    "        \n",
    "\n",
    "    df_dropped = dataset.drop(columns=[0])\n",
    "    results = []\n",
    "    for i in range(25):\n",
    "        perfs = np.array( df_dropped.iloc[i].tolist() )\n",
    "        minimum = min( perfs )\n",
    "        strategy_won = (perfs == minimum)\n",
    "        results.append(strategy_won)  \n",
    "\n",
    "    results = np.array( results )  \n",
    "    true_counts = results.sum(axis=0)\n",
    "    true_counts = true_counts.reshape(-1, 1)\n",
    "\n",
    "\n",
    "    final = np.hstack( (final_dataset, true_counts) )\n",
    "    final = np.round(final,3)\n",
    "    final = np.hstack( (references, final) )\n",
    "\n",
    "    final_values.append(final)\n",
    "\n",
    "final_values = np.array(final_values)\n",
    "final_values = np.vstack(final_values)\n",
    "dataframe = pd.DataFrame(final_values)\n",
    "dataframe.columns = ['Dataset', 'Approach', 'Mean regret', 'p-value', 'Mean Exploration', 'p-value (exploration)', 'win count',]\n",
    "\n",
    "dataframe = dataframe[ ['Dataset', 'Approach', 'Mean regret', 'p-value', 'win count', 'Mean Exploration', 'p-value (exploration)'  ] ]\n",
    "# dataframe.to_csv('figures/results_binary_MLP.csv', index = False)"
   ]
  },
  {
   "cell_type": "code",
   "execution_count": 6,
   "metadata": {},
   "outputs": [
    {
     "data": {
      "text/html": [
       "<div>\n",
       "<style scoped>\n",
       "    .dataframe tbody tr th:only-of-type {\n",
       "        vertical-align: middle;\n",
       "    }\n",
       "\n",
       "    .dataframe tbody tr th {\n",
       "        vertical-align: top;\n",
       "    }\n",
       "\n",
       "    .dataframe thead th {\n",
       "        text-align: right;\n",
       "    }\n",
       "</style>\n",
       "<table border=\"1\" class=\"dataframe\">\n",
       "  <thead>\n",
       "    <tr style=\"text-align: right;\">\n",
       "      <th></th>\n",
       "      <th>Dataset</th>\n",
       "      <th>Approach</th>\n",
       "      <th>Mean regret</th>\n",
       "      <th>p-value</th>\n",
       "      <th>win count</th>\n",
       "      <th>Mean Exploration</th>\n",
       "      <th>p-value (exploration)</th>\n",
       "    </tr>\n",
       "  </thead>\n",
       "  <tbody>\n",
       "    <tr>\n",
       "      <th>0</th>\n",
       "      <td>MNIST binary</td>\n",
       "      <td>Neural-CBP</td>\n",
       "      <td>1351.92</td>\n",
       "      <td>1.0</td>\n",
       "      <td>17.0</td>\n",
       "      <td>638.32</td>\n",
       "      <td>1.0</td>\n",
       "    </tr>\n",
       "    <tr>\n",
       "      <th>1</th>\n",
       "      <td>MNIST binary</td>\n",
       "      <td>IneurAL (official)</td>\n",
       "      <td>3929.48</td>\n",
       "      <td>0.0</td>\n",
       "      <td>0.0</td>\n",
       "      <td>3882.92</td>\n",
       "      <td>0.0</td>\n",
       "    </tr>\n",
       "    <tr>\n",
       "      <th>2</th>\n",
       "      <td>MNIST binary</td>\n",
       "      <td>IneurAL (tuned)</td>\n",
       "      <td>1726.96</td>\n",
       "      <td>0.014</td>\n",
       "      <td>0.0</td>\n",
       "      <td>1272.28</td>\n",
       "      <td>0.0</td>\n",
       "    </tr>\n",
       "    <tr>\n",
       "      <th>3</th>\n",
       "      <td>MNIST binary</td>\n",
       "      <td>Neuronal (official)</td>\n",
       "      <td>1721.88</td>\n",
       "      <td>0.0</td>\n",
       "      <td>0.0</td>\n",
       "      <td>1547.64</td>\n",
       "      <td>0.0</td>\n",
       "    </tr>\n",
       "    <tr>\n",
       "      <th>4</th>\n",
       "      <td>MNIST binary</td>\n",
       "      <td>Neuronal (tuned)</td>\n",
       "      <td>1721.44</td>\n",
       "      <td>0.088</td>\n",
       "      <td>8.0</td>\n",
       "      <td>906.72</td>\n",
       "      <td>0.0</td>\n",
       "    </tr>\n",
       "    <tr>\n",
       "      <th>5</th>\n",
       "      <td>MNIST binary</td>\n",
       "      <td>Cesa</td>\n",
       "      <td>4857.333</td>\n",
       "      <td>0.0</td>\n",
       "      <td>0.0</td>\n",
       "      <td>1.333</td>\n",
       "      <td>0.0</td>\n",
       "    </tr>\n",
       "    <tr>\n",
       "      <th>6</th>\n",
       "      <td>MNIST binary</td>\n",
       "      <td>Margin</td>\n",
       "      <td>3216.72</td>\n",
       "      <td>0.0</td>\n",
       "      <td>0.0</td>\n",
       "      <td>107.56</td>\n",
       "      <td>0.0</td>\n",
       "    </tr>\n",
       "    <tr>\n",
       "      <th>7</th>\n",
       "      <td>MagicTelescope</td>\n",
       "      <td>Neural-CBP</td>\n",
       "      <td>3370.36</td>\n",
       "      <td>1.0</td>\n",
       "      <td>18.0</td>\n",
       "      <td>496.68</td>\n",
       "      <td>1.0</td>\n",
       "    </tr>\n",
       "    <tr>\n",
       "      <th>8</th>\n",
       "      <td>MagicTelescope</td>\n",
       "      <td>IneurAL (official)</td>\n",
       "      <td>9010.64</td>\n",
       "      <td>0.0</td>\n",
       "      <td>0.0</td>\n",
       "      <td>8646.32</td>\n",
       "      <td>0.0</td>\n",
       "    </tr>\n",
       "    <tr>\n",
       "      <th>9</th>\n",
       "      <td>MagicTelescope</td>\n",
       "      <td>IneurAL (tuned)</td>\n",
       "      <td>5946.04</td>\n",
       "      <td>0.0</td>\n",
       "      <td>0.0</td>\n",
       "      <td>3643.76</td>\n",
       "      <td>0.0</td>\n",
       "    </tr>\n",
       "    <tr>\n",
       "      <th>10</th>\n",
       "      <td>MagicTelescope</td>\n",
       "      <td>Neuronal (official)</td>\n",
       "      <td>4324.56</td>\n",
       "      <td>0.001</td>\n",
       "      <td>0.0</td>\n",
       "      <td>2415.32</td>\n",
       "      <td>0.0</td>\n",
       "    </tr>\n",
       "    <tr>\n",
       "      <th>11</th>\n",
       "      <td>MagicTelescope</td>\n",
       "      <td>Neuronal (tuned)</td>\n",
       "      <td>4442.16</td>\n",
       "      <td>0.006</td>\n",
       "      <td>1.0</td>\n",
       "      <td>18.6</td>\n",
       "      <td>0.0</td>\n",
       "    </tr>\n",
       "    <tr>\n",
       "      <th>12</th>\n",
       "      <td>MagicTelescope</td>\n",
       "      <td>Cesa</td>\n",
       "      <td>3550.48</td>\n",
       "      <td>0.547</td>\n",
       "      <td>4.0</td>\n",
       "      <td>249.48</td>\n",
       "      <td>0.003</td>\n",
       "    </tr>\n",
       "    <tr>\n",
       "      <th>13</th>\n",
       "      <td>MagicTelescope</td>\n",
       "      <td>Margin</td>\n",
       "      <td>3801.08</td>\n",
       "      <td>0.192</td>\n",
       "      <td>2.0</td>\n",
       "      <td>35.24</td>\n",
       "      <td>0.0</td>\n",
       "    </tr>\n",
       "    <tr>\n",
       "      <th>14</th>\n",
       "      <td>adult</td>\n",
       "      <td>Neural-CBP</td>\n",
       "      <td>2968.88</td>\n",
       "      <td>1.0</td>\n",
       "      <td>11.0</td>\n",
       "      <td>127.64</td>\n",
       "      <td>1.0</td>\n",
       "    </tr>\n",
       "    <tr>\n",
       "      <th>15</th>\n",
       "      <td>adult</td>\n",
       "      <td>IneurAL (official)</td>\n",
       "      <td>8165.56</td>\n",
       "      <td>0.0</td>\n",
       "      <td>0.0</td>\n",
       "      <td>5391.32</td>\n",
       "      <td>0.0</td>\n",
       "    </tr>\n",
       "    <tr>\n",
       "      <th>16</th>\n",
       "      <td>adult</td>\n",
       "      <td>IneurAL (tuned)</td>\n",
       "      <td>4421.84</td>\n",
       "      <td>0.009</td>\n",
       "      <td>1.0</td>\n",
       "      <td>925.52</td>\n",
       "      <td>0.018</td>\n",
       "    </tr>\n",
       "    <tr>\n",
       "      <th>17</th>\n",
       "      <td>adult</td>\n",
       "      <td>Neuronal (official)</td>\n",
       "      <td>4949.8</td>\n",
       "      <td>0.0</td>\n",
       "      <td>1.0</td>\n",
       "      <td>3567.48</td>\n",
       "      <td>0.0</td>\n",
       "    </tr>\n",
       "    <tr>\n",
       "      <th>18</th>\n",
       "      <td>adult</td>\n",
       "      <td>Neuronal (tuned)</td>\n",
       "      <td>3292.64</td>\n",
       "      <td>0.51</td>\n",
       "      <td>3.0</td>\n",
       "      <td>148.16</td>\n",
       "      <td>0.747</td>\n",
       "    </tr>\n",
       "    <tr>\n",
       "      <th>19</th>\n",
       "      <td>adult</td>\n",
       "      <td>Cesa</td>\n",
       "      <td>2666.72</td>\n",
       "      <td>0.412</td>\n",
       "      <td>3.0</td>\n",
       "      <td>291.68</td>\n",
       "      <td>0.003</td>\n",
       "    </tr>\n",
       "    <tr>\n",
       "      <th>20</th>\n",
       "      <td>adult</td>\n",
       "      <td>Margin</td>\n",
       "      <td>2889.958</td>\n",
       "      <td>0.858</td>\n",
       "      <td>7.0</td>\n",
       "      <td>33.042</td>\n",
       "      <td>0.002</td>\n",
       "    </tr>\n",
       "  </tbody>\n",
       "</table>\n",
       "</div>"
      ],
      "text/plain": [
       "           Dataset             Approach Mean regret p-value win count  \\\n",
       "0     MNIST binary           Neural-CBP     1351.92     1.0      17.0   \n",
       "1     MNIST binary   IneurAL (official)     3929.48     0.0       0.0   \n",
       "2     MNIST binary      IneurAL (tuned)     1726.96   0.014       0.0   \n",
       "3     MNIST binary  Neuronal (official)     1721.88     0.0       0.0   \n",
       "4     MNIST binary     Neuronal (tuned)     1721.44   0.088       8.0   \n",
       "5     MNIST binary                 Cesa    4857.333     0.0       0.0   \n",
       "6     MNIST binary               Margin     3216.72     0.0       0.0   \n",
       "7   MagicTelescope           Neural-CBP     3370.36     1.0      18.0   \n",
       "8   MagicTelescope   IneurAL (official)     9010.64     0.0       0.0   \n",
       "9   MagicTelescope      IneurAL (tuned)     5946.04     0.0       0.0   \n",
       "10  MagicTelescope  Neuronal (official)     4324.56   0.001       0.0   \n",
       "11  MagicTelescope     Neuronal (tuned)     4442.16   0.006       1.0   \n",
       "12  MagicTelescope                 Cesa     3550.48   0.547       4.0   \n",
       "13  MagicTelescope               Margin     3801.08   0.192       2.0   \n",
       "14           adult           Neural-CBP     2968.88     1.0      11.0   \n",
       "15           adult   IneurAL (official)     8165.56     0.0       0.0   \n",
       "16           adult      IneurAL (tuned)     4421.84   0.009       1.0   \n",
       "17           adult  Neuronal (official)      4949.8     0.0       1.0   \n",
       "18           adult     Neuronal (tuned)     3292.64    0.51       3.0   \n",
       "19           adult                 Cesa     2666.72   0.412       3.0   \n",
       "20           adult               Margin    2889.958   0.858       7.0   \n",
       "\n",
       "   Mean Exploration p-value (exploration)  \n",
       "0            638.32                   1.0  \n",
       "1           3882.92                   0.0  \n",
       "2           1272.28                   0.0  \n",
       "3           1547.64                   0.0  \n",
       "4            906.72                   0.0  \n",
       "5             1.333                   0.0  \n",
       "6            107.56                   0.0  \n",
       "7            496.68                   1.0  \n",
       "8           8646.32                   0.0  \n",
       "9           3643.76                   0.0  \n",
       "10          2415.32                   0.0  \n",
       "11             18.6                   0.0  \n",
       "12           249.48                 0.003  \n",
       "13            35.24                   0.0  \n",
       "14           127.64                   1.0  \n",
       "15          5391.32                   0.0  \n",
       "16           925.52                 0.018  \n",
       "17          3567.48                   0.0  \n",
       "18           148.16                 0.747  \n",
       "19           291.68                 0.003  \n",
       "20           33.042                 0.002  "
      ]
     },
     "execution_count": 6,
     "metadata": {},
     "output_type": "execute_result"
    }
   ],
   "source": [
    "dataframe"
   ]
  },
  {
   "cell_type": "code",
   "execution_count": 13,
   "metadata": {},
   "outputs": [
    {
     "data": {
      "text/html": [
       "<div>\n",
       "<style scoped>\n",
       "    .dataframe tbody tr th:only-of-type {\n",
       "        vertical-align: middle;\n",
       "    }\n",
       "\n",
       "    .dataframe tbody tr th {\n",
       "        vertical-align: top;\n",
       "    }\n",
       "\n",
       "    .dataframe thead th {\n",
       "        text-align: right;\n",
       "    }\n",
       "</style>\n",
       "<table border=\"1\" class=\"dataframe\">\n",
       "  <thead>\n",
       "    <tr style=\"text-align: right;\">\n",
       "      <th></th>\n",
       "      <th>Explore</th>\n",
       "      <th>Dataset</th>\n",
       "      <th>Approach</th>\n",
       "    </tr>\n",
       "  </thead>\n",
       "  <tbody>\n",
       "    <tr>\n",
       "      <th>349</th>\n",
       "      <td>87</td>\n",
       "      <td>adult</td>\n",
       "      <td>Neural-CBP</td>\n",
       "    </tr>\n",
       "    <tr>\n",
       "      <th>350</th>\n",
       "      <td>49</td>\n",
       "      <td>adult</td>\n",
       "      <td>Neural-CBP</td>\n",
       "    </tr>\n",
       "    <tr>\n",
       "      <th>351</th>\n",
       "      <td>1</td>\n",
       "      <td>adult</td>\n",
       "      <td>Neural-CBP</td>\n",
       "    </tr>\n",
       "    <tr>\n",
       "      <th>352</th>\n",
       "      <td>2</td>\n",
       "      <td>adult</td>\n",
       "      <td>Neural-CBP</td>\n",
       "    </tr>\n",
       "    <tr>\n",
       "      <th>353</th>\n",
       "      <td>132</td>\n",
       "      <td>adult</td>\n",
       "      <td>Neural-CBP</td>\n",
       "    </tr>\n",
       "    <tr>\n",
       "      <th>...</th>\n",
       "      <td>...</td>\n",
       "      <td>...</td>\n",
       "      <td>...</td>\n",
       "    </tr>\n",
       "    <tr>\n",
       "      <th>519</th>\n",
       "      <td>4</td>\n",
       "      <td>adult</td>\n",
       "      <td>Cesa</td>\n",
       "    </tr>\n",
       "    <tr>\n",
       "      <th>520</th>\n",
       "      <td>539</td>\n",
       "      <td>adult</td>\n",
       "      <td>Cesa</td>\n",
       "    </tr>\n",
       "    <tr>\n",
       "      <th>521</th>\n",
       "      <td>3</td>\n",
       "      <td>adult</td>\n",
       "      <td>Cesa</td>\n",
       "    </tr>\n",
       "    <tr>\n",
       "      <th>522</th>\n",
       "      <td>1</td>\n",
       "      <td>adult</td>\n",
       "      <td>Cesa</td>\n",
       "    </tr>\n",
       "    <tr>\n",
       "      <th>523</th>\n",
       "      <td>544</td>\n",
       "      <td>adult</td>\n",
       "      <td>Cesa</td>\n",
       "    </tr>\n",
       "  </tbody>\n",
       "</table>\n",
       "<p>175 rows × 3 columns</p>\n",
       "</div>"
      ],
      "text/plain": [
       "    Explore Dataset    Approach\n",
       "349      87   adult  Neural-CBP\n",
       "350      49   adult  Neural-CBP\n",
       "351       1   adult  Neural-CBP\n",
       "352       2   adult  Neural-CBP\n",
       "353     132   adult  Neural-CBP\n",
       "..      ...     ...         ...\n",
       "519       4   adult        Cesa\n",
       "520     539   adult        Cesa\n",
       "521       3   adult        Cesa\n",
       "522       1   adult        Cesa\n",
       "523     544   adult        Cesa\n",
       "\n",
       "[175 rows x 3 columns]"
      ]
     },
     "execution_count": 13,
     "metadata": {},
     "output_type": "execute_result"
    }
   ],
   "source": [
    "subdf_exp"
   ]
  },
  {
   "cell_type": "code",
   "execution_count": 181,
   "metadata": {},
   "outputs": [
    {
     "data": {
      "text/plain": [
       "25"
      ]
     },
     "execution_count": 181,
     "metadata": {},
     "output_type": "execute_result"
    }
   ],
   "source": [
    "len( subdf_exp[ subdf_exp['Approach'] == approach]['Explore'] )"
   ]
  },
  {
   "cell_type": "code",
   "execution_count": 183,
   "metadata": {},
   "outputs": [
    {
     "data": {
      "text/html": [
       "<div>\n",
       "<style scoped>\n",
       "    .dataframe tbody tr th:only-of-type {\n",
       "        vertical-align: middle;\n",
       "    }\n",
       "\n",
       "    .dataframe tbody tr th {\n",
       "        vertical-align: top;\n",
       "    }\n",
       "\n",
       "    .dataframe thead th {\n",
       "        text-align: right;\n",
       "    }\n",
       "</style>\n",
       "<table border=\"1\" class=\"dataframe\">\n",
       "  <thead>\n",
       "    <tr style=\"text-align: right;\">\n",
       "      <th></th>\n",
       "      <th>Dataset</th>\n",
       "      <th>Approach</th>\n",
       "      <th>Mean regret</th>\n",
       "      <th>p-value</th>\n",
       "      <th>Mean Exploration</th>\n",
       "      <th>win count</th>\n",
       "    </tr>\n",
       "  </thead>\n",
       "  <tbody>\n",
       "    <tr>\n",
       "      <th>0</th>\n",
       "      <td>MNIST binary</td>\n",
       "      <td>Neural-CBP</td>\n",
       "      <td>1351.92</td>\n",
       "      <td>1.0</td>\n",
       "      <td>1351.92</td>\n",
       "      <td>18.0</td>\n",
       "    </tr>\n",
       "    <tr>\n",
       "      <th>1</th>\n",
       "      <td>MNIST binary</td>\n",
       "      <td>IneurAL (official)</td>\n",
       "      <td>3941.917</td>\n",
       "      <td>0.0</td>\n",
       "      <td>3941.917</td>\n",
       "      <td>0.0</td>\n",
       "    </tr>\n",
       "    <tr>\n",
       "      <th>2</th>\n",
       "      <td>MNIST binary</td>\n",
       "      <td>IneurAL (tuned)</td>\n",
       "      <td>1726.96</td>\n",
       "      <td>0.014</td>\n",
       "      <td>1726.96</td>\n",
       "      <td>0.0</td>\n",
       "    </tr>\n",
       "    <tr>\n",
       "      <th>3</th>\n",
       "      <td>MNIST binary</td>\n",
       "      <td>Neuronal (official)</td>\n",
       "      <td>1721.88</td>\n",
       "      <td>0.0</td>\n",
       "      <td>1721.88</td>\n",
       "      <td>0.0</td>\n",
       "    </tr>\n",
       "    <tr>\n",
       "      <th>4</th>\n",
       "      <td>MNIST binary</td>\n",
       "      <td>Neuronal (tuned)</td>\n",
       "      <td>1721.44</td>\n",
       "      <td>0.088</td>\n",
       "      <td>1721.44</td>\n",
       "      <td>7.0</td>\n",
       "    </tr>\n",
       "    <tr>\n",
       "      <th>5</th>\n",
       "      <td>MNIST binary</td>\n",
       "      <td>Cesa</td>\n",
       "      <td>4853.44</td>\n",
       "      <td>0.0</td>\n",
       "      <td>4853.44</td>\n",
       "      <td>0.0</td>\n",
       "    </tr>\n",
       "    <tr>\n",
       "      <th>6</th>\n",
       "      <td>MNIST binary</td>\n",
       "      <td>Margin</td>\n",
       "      <td>3216.72</td>\n",
       "      <td>0.0</td>\n",
       "      <td>3216.72</td>\n",
       "      <td>0.0</td>\n",
       "    </tr>\n",
       "    <tr>\n",
       "      <th>7</th>\n",
       "      <td>MagicTelescope</td>\n",
       "      <td>Neural-CBP</td>\n",
       "      <td>3151.6</td>\n",
       "      <td>1.0</td>\n",
       "      <td>3151.6</td>\n",
       "      <td>17.0</td>\n",
       "    </tr>\n",
       "    <tr>\n",
       "      <th>8</th>\n",
       "      <td>MagicTelescope</td>\n",
       "      <td>IneurAL (official)</td>\n",
       "      <td>8876.28</td>\n",
       "      <td>0.0</td>\n",
       "      <td>8876.28</td>\n",
       "      <td>0.0</td>\n",
       "    </tr>\n",
       "    <tr>\n",
       "      <th>9</th>\n",
       "      <td>MagicTelescope</td>\n",
       "      <td>IneurAL (tuned)</td>\n",
       "      <td>5738.2</td>\n",
       "      <td>0.0</td>\n",
       "      <td>5738.2</td>\n",
       "      <td>0.0</td>\n",
       "    </tr>\n",
       "    <tr>\n",
       "      <th>10</th>\n",
       "      <td>MagicTelescope</td>\n",
       "      <td>Neuronal (official)</td>\n",
       "      <td>4503.36</td>\n",
       "      <td>0.0</td>\n",
       "      <td>4503.36</td>\n",
       "      <td>0.0</td>\n",
       "    </tr>\n",
       "    <tr>\n",
       "      <th>11</th>\n",
       "      <td>MagicTelescope</td>\n",
       "      <td>Neuronal (tuned)</td>\n",
       "      <td>4356.2</td>\n",
       "      <td>0.0</td>\n",
       "      <td>4356.2</td>\n",
       "      <td>0.0</td>\n",
       "    </tr>\n",
       "    <tr>\n",
       "      <th>12</th>\n",
       "      <td>MagicTelescope</td>\n",
       "      <td>Cesa</td>\n",
       "      <td>3397.44</td>\n",
       "      <td>0.248</td>\n",
       "      <td>3397.44</td>\n",
       "      <td>4.0</td>\n",
       "    </tr>\n",
       "    <tr>\n",
       "      <th>13</th>\n",
       "      <td>MagicTelescope</td>\n",
       "      <td>Margin</td>\n",
       "      <td>3761.36</td>\n",
       "      <td>0.029</td>\n",
       "      <td>3761.36</td>\n",
       "      <td>4.0</td>\n",
       "    </tr>\n",
       "    <tr>\n",
       "      <th>14</th>\n",
       "      <td>adult</td>\n",
       "      <td>Neural-CBP</td>\n",
       "      <td>2543.36</td>\n",
       "      <td>1.0</td>\n",
       "      <td>2543.36</td>\n",
       "      <td>12.0</td>\n",
       "    </tr>\n",
       "    <tr>\n",
       "      <th>15</th>\n",
       "      <td>adult</td>\n",
       "      <td>IneurAL (official)</td>\n",
       "      <td>8429.6</td>\n",
       "      <td>0.0</td>\n",
       "      <td>8429.6</td>\n",
       "      <td>0.0</td>\n",
       "    </tr>\n",
       "    <tr>\n",
       "      <th>16</th>\n",
       "      <td>adult</td>\n",
       "      <td>IneurAL (tuned)</td>\n",
       "      <td>4691.8</td>\n",
       "      <td>0.0</td>\n",
       "      <td>4691.8</td>\n",
       "      <td>1.0</td>\n",
       "    </tr>\n",
       "    <tr>\n",
       "      <th>17</th>\n",
       "      <td>adult</td>\n",
       "      <td>Neuronal (official)</td>\n",
       "      <td>4580.72</td>\n",
       "      <td>0.0</td>\n",
       "      <td>4580.72</td>\n",
       "      <td>1.0</td>\n",
       "    </tr>\n",
       "    <tr>\n",
       "      <th>18</th>\n",
       "      <td>adult</td>\n",
       "      <td>Neuronal (tuned)</td>\n",
       "      <td>2690.56</td>\n",
       "      <td>0.624</td>\n",
       "      <td>2690.56</td>\n",
       "      <td>0.0</td>\n",
       "    </tr>\n",
       "    <tr>\n",
       "      <th>19</th>\n",
       "      <td>adult</td>\n",
       "      <td>Cesa</td>\n",
       "      <td>2670.84</td>\n",
       "      <td>0.67</td>\n",
       "      <td>2670.84</td>\n",
       "      <td>4.0</td>\n",
       "    </tr>\n",
       "    <tr>\n",
       "      <th>20</th>\n",
       "      <td>adult</td>\n",
       "      <td>Margin</td>\n",
       "      <td>2774.88</td>\n",
       "      <td>0.526</td>\n",
       "      <td>2774.88</td>\n",
       "      <td>7.0</td>\n",
       "    </tr>\n",
       "  </tbody>\n",
       "</table>\n",
       "</div>"
      ],
      "text/plain": [
       "           Dataset             Approach Mean regret p-value Mean Exploration  \\\n",
       "0     MNIST binary           Neural-CBP     1351.92     1.0          1351.92   \n",
       "1     MNIST binary   IneurAL (official)    3941.917     0.0         3941.917   \n",
       "2     MNIST binary      IneurAL (tuned)     1726.96   0.014          1726.96   \n",
       "3     MNIST binary  Neuronal (official)     1721.88     0.0          1721.88   \n",
       "4     MNIST binary     Neuronal (tuned)     1721.44   0.088          1721.44   \n",
       "5     MNIST binary                 Cesa     4853.44     0.0          4853.44   \n",
       "6     MNIST binary               Margin     3216.72     0.0          3216.72   \n",
       "7   MagicTelescope           Neural-CBP      3151.6     1.0           3151.6   \n",
       "8   MagicTelescope   IneurAL (official)     8876.28     0.0          8876.28   \n",
       "9   MagicTelescope      IneurAL (tuned)      5738.2     0.0           5738.2   \n",
       "10  MagicTelescope  Neuronal (official)     4503.36     0.0          4503.36   \n",
       "11  MagicTelescope     Neuronal (tuned)      4356.2     0.0           4356.2   \n",
       "12  MagicTelescope                 Cesa     3397.44   0.248          3397.44   \n",
       "13  MagicTelescope               Margin     3761.36   0.029          3761.36   \n",
       "14           adult           Neural-CBP     2543.36     1.0          2543.36   \n",
       "15           adult   IneurAL (official)      8429.6     0.0           8429.6   \n",
       "16           adult      IneurAL (tuned)      4691.8     0.0           4691.8   \n",
       "17           adult  Neuronal (official)     4580.72     0.0          4580.72   \n",
       "18           adult     Neuronal (tuned)     2690.56   0.624          2690.56   \n",
       "19           adult                 Cesa     2670.84    0.67          2670.84   \n",
       "20           adult               Margin     2774.88   0.526          2774.88   \n",
       "\n",
       "   win count  \n",
       "0       18.0  \n",
       "1        0.0  \n",
       "2        0.0  \n",
       "3        0.0  \n",
       "4        7.0  \n",
       "5        0.0  \n",
       "6        0.0  \n",
       "7       17.0  \n",
       "8        0.0  \n",
       "9        0.0  \n",
       "10       0.0  \n",
       "11       0.0  \n",
       "12       4.0  \n",
       "13       4.0  \n",
       "14      12.0  \n",
       "15       0.0  \n",
       "16       1.0  \n",
       "17       1.0  \n",
       "18       0.0  \n",
       "19       4.0  \n",
       "20       7.0  "
      ]
     },
     "execution_count": 183,
     "metadata": {},
     "output_type": "execute_result"
    }
   ],
   "source": [
    "dataframe"
   ]
  },
  {
   "cell_type": "code",
   "execution_count": 36,
   "metadata": {},
   "outputs": [
    {
     "name": "stdout",
     "output_type": "stream",
     "text": [
      "MLPNeural-CBP\n",
      "MLPIneurAL (official)\n",
      "MLPIneurAL (tuned)\n",
      "MLPNeuronal (official)\n",
      "MLPNeuronal (tuned)\n",
      "MLPMargin\n",
      "MLPCesa\n",
      "['MLPMNIST binary' 'MLPMagicTelescope' 'MLPadult']\n"
     ]
    },
    {
     "data": {
      "application/vnd.plotly.v1+json": {
       "config": {
        "plotlyServerURL": "https://plot.ly"
       },
       "data": [
        {
         "error_y": {
          "array": [
           63.256916746073976,
           619.7547621787908,
           777.3723449773266
          ],
          "thickness": 1,
          "type": "data",
          "visible": true
         },
         "marker": {
          "color": "rgba(171,99,250,1)",
          "pattern": {
           "fgcolor": "black",
           "shape": "x"
          }
         },
         "name": "Neural-CBP",
         "showlegend": true,
         "type": "bar",
         "x": [
          "MLPMNIST binary",
          "MLPMagicTelescope",
          "MLPadult"
         ],
         "y": [
          1351.9200439453125,
          3370.360107421875,
          2968.8798828125
         ]
        },
        {
         "error_y": {
          "array": [
           115.02468549902844,
           255.09744792301666,
           1088.8790502813401
          ],
          "thickness": 1,
          "type": "data",
          "visible": true
         },
         "marker": {
          "color": "rgba(255,161,90,1)"
         },
         "name": "IneurAL (official)",
         "showlegend": true,
         "type": "bar",
         "x": [
          "MLPMNIST binary",
          "MLPMagicTelescope",
          "MLPadult"
         ],
         "y": [
          3929.47998046875,
          9010.6396484375,
          8165.56005859375
         ]
        },
        {
         "error_y": {
          "array": [
           361.2226706885587,
           359.0341059433978,
           1118.6408718187854
          ],
          "thickness": 1,
          "type": "data",
          "visible": true
         },
         "marker": {
          "color": "rgba(25,211,243,1)"
         },
         "name": "IneurAL (tuned)",
         "showlegend": true,
         "type": "bar",
         "x": [
          "MLPMNIST binary",
          "MLPMagicTelescope",
          "MLPadult"
         ],
         "y": [
          1726.9599609375,
          5946.0400390625,
          4421.83984375
         ]
        },
        {
         "error_y": {
          "array": [
           24.49653652745764,
           316.2629759811818,
           1070.5559822017963
          ],
          "thickness": 1,
          "type": "data",
          "visible": true
         },
         "marker": {
          "color": "rgba(255,102,146,1)"
         },
         "name": "Neuronal (official)",
         "showlegend": true,
         "type": "bar",
         "x": [
          "MLPMNIST binary",
          "MLPMagicTelescope",
          "MLPadult"
         ],
         "y": [
          1721.8800048828125,
          4324.56005859375,
          4949.7998046875
         ]
        },
        {
         "error_y": {
          "array": [
           532.4367479065725,
           735.994196101916,
           986.0389622837068
          ],
          "thickness": 1,
          "type": "data",
          "visible": true
         },
         "marker": {
          "color": "rgba(182,232,128,1)"
         },
         "name": "Neuronal (tuned)",
         "showlegend": true,
         "type": "bar",
         "x": [
          "MLPMNIST binary",
          "MLPMagicTelescope",
          "MLPadult"
         ],
         "y": [
          1721.43994140625,
          4442.16015625,
          3292.639892578125
         ]
        },
        {
         "error_y": {
          "array": [
           748.5836131857094,
           283.6366475662627,
           1013.007581105005
          ],
          "thickness": 1,
          "type": "data",
          "visible": true
         },
         "marker": {
          "color": "rgba(255,151,255,1)"
         },
         "name": "Margin",
         "showlegend": true,
         "type": "bar",
         "x": [
          "MLPMNIST binary",
          "MLPMagicTelescope",
          "MLPadult"
         ],
         "y": [
          3216.719970703125,
          3536.0400390625,
          3186.199951171875
         ]
        },
        {
         "error_y": {
          "array": [
           138.2817242769904,
           406.1817348169219,
           69.47069717187719
          ],
          "thickness": 1,
          "type": "data",
          "visible": true
         },
         "marker": {
          "color": "rgba(254,203,82,1)"
         },
         "name": "Cesa",
         "showlegend": true,
         "type": "bar",
         "x": [
          "MLPMNIST binary",
          "MLPMagicTelescope",
          "MLPadult"
         ],
         "y": [
          4910.240234375,
          3398.239990234375,
          2500.199951171875
         ]
        }
       ],
       "layout": {
        "barmode": "group",
        "height": 180,
        "margin": {
         "b": 0,
         "l": 0,
         "r": 1,
         "t": 0
        },
        "paper_bgcolor": "white",
        "plot_bgcolor": "white",
        "shapes": [
         {
          "line": {
           "color": "black",
           "dash": "dot",
           "width": 2
          },
          "type": "line",
          "x0": 0.5,
          "x1": 0.5,
          "xref": "x",
          "y0": 0,
          "y1": 1,
          "yref": "y domain"
         },
         {
          "line": {
           "color": "black",
           "dash": "dot",
           "width": 2
          },
          "type": "line",
          "x0": 1.5,
          "x1": 1.5,
          "xref": "x",
          "y0": 0,
          "y1": 1,
          "yref": "y domain"
         }
        ],
        "showlegend": false,
        "template": {
         "data": {
          "bar": [
           {
            "error_x": {
             "color": "#2a3f5f"
            },
            "error_y": {
             "color": "#2a3f5f"
            },
            "marker": {
             "line": {
              "color": "#E5ECF6",
              "width": 0.5
             },
             "pattern": {
              "fillmode": "overlay",
              "size": 10,
              "solidity": 0.2
             }
            },
            "type": "bar"
           }
          ],
          "barpolar": [
           {
            "marker": {
             "line": {
              "color": "#E5ECF6",
              "width": 0.5
             },
             "pattern": {
              "fillmode": "overlay",
              "size": 10,
              "solidity": 0.2
             }
            },
            "type": "barpolar"
           }
          ],
          "carpet": [
           {
            "aaxis": {
             "endlinecolor": "#2a3f5f",
             "gridcolor": "white",
             "linecolor": "white",
             "minorgridcolor": "white",
             "startlinecolor": "#2a3f5f"
            },
            "baxis": {
             "endlinecolor": "#2a3f5f",
             "gridcolor": "white",
             "linecolor": "white",
             "minorgridcolor": "white",
             "startlinecolor": "#2a3f5f"
            },
            "type": "carpet"
           }
          ],
          "choropleth": [
           {
            "colorbar": {
             "outlinewidth": 0,
             "ticks": ""
            },
            "type": "choropleth"
           }
          ],
          "contour": [
           {
            "colorbar": {
             "outlinewidth": 0,
             "ticks": ""
            },
            "colorscale": [
             [
              0,
              "#0d0887"
             ],
             [
              0.1111111111111111,
              "#46039f"
             ],
             [
              0.2222222222222222,
              "#7201a8"
             ],
             [
              0.3333333333333333,
              "#9c179e"
             ],
             [
              0.4444444444444444,
              "#bd3786"
             ],
             [
              0.5555555555555556,
              "#d8576b"
             ],
             [
              0.6666666666666666,
              "#ed7953"
             ],
             [
              0.7777777777777778,
              "#fb9f3a"
             ],
             [
              0.8888888888888888,
              "#fdca26"
             ],
             [
              1,
              "#f0f921"
             ]
            ],
            "type": "contour"
           }
          ],
          "contourcarpet": [
           {
            "colorbar": {
             "outlinewidth": 0,
             "ticks": ""
            },
            "type": "contourcarpet"
           }
          ],
          "heatmap": [
           {
            "colorbar": {
             "outlinewidth": 0,
             "ticks": ""
            },
            "colorscale": [
             [
              0,
              "#0d0887"
             ],
             [
              0.1111111111111111,
              "#46039f"
             ],
             [
              0.2222222222222222,
              "#7201a8"
             ],
             [
              0.3333333333333333,
              "#9c179e"
             ],
             [
              0.4444444444444444,
              "#bd3786"
             ],
             [
              0.5555555555555556,
              "#d8576b"
             ],
             [
              0.6666666666666666,
              "#ed7953"
             ],
             [
              0.7777777777777778,
              "#fb9f3a"
             ],
             [
              0.8888888888888888,
              "#fdca26"
             ],
             [
              1,
              "#f0f921"
             ]
            ],
            "type": "heatmap"
           }
          ],
          "heatmapgl": [
           {
            "colorbar": {
             "outlinewidth": 0,
             "ticks": ""
            },
            "colorscale": [
             [
              0,
              "#0d0887"
             ],
             [
              0.1111111111111111,
              "#46039f"
             ],
             [
              0.2222222222222222,
              "#7201a8"
             ],
             [
              0.3333333333333333,
              "#9c179e"
             ],
             [
              0.4444444444444444,
              "#bd3786"
             ],
             [
              0.5555555555555556,
              "#d8576b"
             ],
             [
              0.6666666666666666,
              "#ed7953"
             ],
             [
              0.7777777777777778,
              "#fb9f3a"
             ],
             [
              0.8888888888888888,
              "#fdca26"
             ],
             [
              1,
              "#f0f921"
             ]
            ],
            "type": "heatmapgl"
           }
          ],
          "histogram": [
           {
            "marker": {
             "pattern": {
              "fillmode": "overlay",
              "size": 10,
              "solidity": 0.2
             }
            },
            "type": "histogram"
           }
          ],
          "histogram2d": [
           {
            "colorbar": {
             "outlinewidth": 0,
             "ticks": ""
            },
            "colorscale": [
             [
              0,
              "#0d0887"
             ],
             [
              0.1111111111111111,
              "#46039f"
             ],
             [
              0.2222222222222222,
              "#7201a8"
             ],
             [
              0.3333333333333333,
              "#9c179e"
             ],
             [
              0.4444444444444444,
              "#bd3786"
             ],
             [
              0.5555555555555556,
              "#d8576b"
             ],
             [
              0.6666666666666666,
              "#ed7953"
             ],
             [
              0.7777777777777778,
              "#fb9f3a"
             ],
             [
              0.8888888888888888,
              "#fdca26"
             ],
             [
              1,
              "#f0f921"
             ]
            ],
            "type": "histogram2d"
           }
          ],
          "histogram2dcontour": [
           {
            "colorbar": {
             "outlinewidth": 0,
             "ticks": ""
            },
            "colorscale": [
             [
              0,
              "#0d0887"
             ],
             [
              0.1111111111111111,
              "#46039f"
             ],
             [
              0.2222222222222222,
              "#7201a8"
             ],
             [
              0.3333333333333333,
              "#9c179e"
             ],
             [
              0.4444444444444444,
              "#bd3786"
             ],
             [
              0.5555555555555556,
              "#d8576b"
             ],
             [
              0.6666666666666666,
              "#ed7953"
             ],
             [
              0.7777777777777778,
              "#fb9f3a"
             ],
             [
              0.8888888888888888,
              "#fdca26"
             ],
             [
              1,
              "#f0f921"
             ]
            ],
            "type": "histogram2dcontour"
           }
          ],
          "mesh3d": [
           {
            "colorbar": {
             "outlinewidth": 0,
             "ticks": ""
            },
            "type": "mesh3d"
           }
          ],
          "parcoords": [
           {
            "line": {
             "colorbar": {
              "outlinewidth": 0,
              "ticks": ""
             }
            },
            "type": "parcoords"
           }
          ],
          "pie": [
           {
            "automargin": true,
            "type": "pie"
           }
          ],
          "scatter": [
           {
            "fillpattern": {
             "fillmode": "overlay",
             "size": 10,
             "solidity": 0.2
            },
            "type": "scatter"
           }
          ],
          "scatter3d": [
           {
            "line": {
             "colorbar": {
              "outlinewidth": 0,
              "ticks": ""
             }
            },
            "marker": {
             "colorbar": {
              "outlinewidth": 0,
              "ticks": ""
             }
            },
            "type": "scatter3d"
           }
          ],
          "scattercarpet": [
           {
            "marker": {
             "colorbar": {
              "outlinewidth": 0,
              "ticks": ""
             }
            },
            "type": "scattercarpet"
           }
          ],
          "scattergeo": [
           {
            "marker": {
             "colorbar": {
              "outlinewidth": 0,
              "ticks": ""
             }
            },
            "type": "scattergeo"
           }
          ],
          "scattergl": [
           {
            "marker": {
             "colorbar": {
              "outlinewidth": 0,
              "ticks": ""
             }
            },
            "type": "scattergl"
           }
          ],
          "scattermapbox": [
           {
            "marker": {
             "colorbar": {
              "outlinewidth": 0,
              "ticks": ""
             }
            },
            "type": "scattermapbox"
           }
          ],
          "scatterpolar": [
           {
            "marker": {
             "colorbar": {
              "outlinewidth": 0,
              "ticks": ""
             }
            },
            "type": "scatterpolar"
           }
          ],
          "scatterpolargl": [
           {
            "marker": {
             "colorbar": {
              "outlinewidth": 0,
              "ticks": ""
             }
            },
            "type": "scatterpolargl"
           }
          ],
          "scatterternary": [
           {
            "marker": {
             "colorbar": {
              "outlinewidth": 0,
              "ticks": ""
             }
            },
            "type": "scatterternary"
           }
          ],
          "surface": [
           {
            "colorbar": {
             "outlinewidth": 0,
             "ticks": ""
            },
            "colorscale": [
             [
              0,
              "#0d0887"
             ],
             [
              0.1111111111111111,
              "#46039f"
             ],
             [
              0.2222222222222222,
              "#7201a8"
             ],
             [
              0.3333333333333333,
              "#9c179e"
             ],
             [
              0.4444444444444444,
              "#bd3786"
             ],
             [
              0.5555555555555556,
              "#d8576b"
             ],
             [
              0.6666666666666666,
              "#ed7953"
             ],
             [
              0.7777777777777778,
              "#fb9f3a"
             ],
             [
              0.8888888888888888,
              "#fdca26"
             ],
             [
              1,
              "#f0f921"
             ]
            ],
            "type": "surface"
           }
          ],
          "table": [
           {
            "cells": {
             "fill": {
              "color": "#EBF0F8"
             },
             "line": {
              "color": "white"
             }
            },
            "header": {
             "fill": {
              "color": "#C8D4E3"
             },
             "line": {
              "color": "white"
             }
            },
            "type": "table"
           }
          ]
         },
         "layout": {
          "annotationdefaults": {
           "arrowcolor": "#2a3f5f",
           "arrowhead": 0,
           "arrowwidth": 1
          },
          "autotypenumbers": "strict",
          "coloraxis": {
           "colorbar": {
            "outlinewidth": 0,
            "ticks": ""
           }
          },
          "colorscale": {
           "diverging": [
            [
             0,
             "#8e0152"
            ],
            [
             0.1,
             "#c51b7d"
            ],
            [
             0.2,
             "#de77ae"
            ],
            [
             0.3,
             "#f1b6da"
            ],
            [
             0.4,
             "#fde0ef"
            ],
            [
             0.5,
             "#f7f7f7"
            ],
            [
             0.6,
             "#e6f5d0"
            ],
            [
             0.7,
             "#b8e186"
            ],
            [
             0.8,
             "#7fbc41"
            ],
            [
             0.9,
             "#4d9221"
            ],
            [
             1,
             "#276419"
            ]
           ],
           "sequential": [
            [
             0,
             "#0d0887"
            ],
            [
             0.1111111111111111,
             "#46039f"
            ],
            [
             0.2222222222222222,
             "#7201a8"
            ],
            [
             0.3333333333333333,
             "#9c179e"
            ],
            [
             0.4444444444444444,
             "#bd3786"
            ],
            [
             0.5555555555555556,
             "#d8576b"
            ],
            [
             0.6666666666666666,
             "#ed7953"
            ],
            [
             0.7777777777777778,
             "#fb9f3a"
            ],
            [
             0.8888888888888888,
             "#fdca26"
            ],
            [
             1,
             "#f0f921"
            ]
           ],
           "sequentialminus": [
            [
             0,
             "#0d0887"
            ],
            [
             0.1111111111111111,
             "#46039f"
            ],
            [
             0.2222222222222222,
             "#7201a8"
            ],
            [
             0.3333333333333333,
             "#9c179e"
            ],
            [
             0.4444444444444444,
             "#bd3786"
            ],
            [
             0.5555555555555556,
             "#d8576b"
            ],
            [
             0.6666666666666666,
             "#ed7953"
            ],
            [
             0.7777777777777778,
             "#fb9f3a"
            ],
            [
             0.8888888888888888,
             "#fdca26"
            ],
            [
             1,
             "#f0f921"
            ]
           ]
          },
          "colorway": [
           "#636efa",
           "#EF553B",
           "#00cc96",
           "#ab63fa",
           "#FFA15A",
           "#19d3f3",
           "#FF6692",
           "#B6E880",
           "#FF97FF",
           "#FECB52"
          ],
          "font": {
           "color": "#2a3f5f"
          },
          "geo": {
           "bgcolor": "white",
           "lakecolor": "white",
           "landcolor": "#E5ECF6",
           "showlakes": true,
           "showland": true,
           "subunitcolor": "white"
          },
          "hoverlabel": {
           "align": "left"
          },
          "hovermode": "closest",
          "mapbox": {
           "style": "light"
          },
          "paper_bgcolor": "white",
          "plot_bgcolor": "#E5ECF6",
          "polar": {
           "angularaxis": {
            "gridcolor": "white",
            "linecolor": "white",
            "ticks": ""
           },
           "bgcolor": "#E5ECF6",
           "radialaxis": {
            "gridcolor": "white",
            "linecolor": "white",
            "ticks": ""
           }
          },
          "scene": {
           "xaxis": {
            "backgroundcolor": "#E5ECF6",
            "gridcolor": "white",
            "gridwidth": 2,
            "linecolor": "white",
            "showbackground": true,
            "ticks": "",
            "zerolinecolor": "white"
           },
           "yaxis": {
            "backgroundcolor": "#E5ECF6",
            "gridcolor": "white",
            "gridwidth": 2,
            "linecolor": "white",
            "showbackground": true,
            "ticks": "",
            "zerolinecolor": "white"
           },
           "zaxis": {
            "backgroundcolor": "#E5ECF6",
            "gridcolor": "white",
            "gridwidth": 2,
            "linecolor": "white",
            "showbackground": true,
            "ticks": "",
            "zerolinecolor": "white"
           }
          },
          "shapedefaults": {
           "line": {
            "color": "#2a3f5f"
           }
          },
          "ternary": {
           "aaxis": {
            "gridcolor": "white",
            "linecolor": "white",
            "ticks": ""
           },
           "baxis": {
            "gridcolor": "white",
            "linecolor": "white",
            "ticks": ""
           },
           "bgcolor": "#E5ECF6",
           "caxis": {
            "gridcolor": "white",
            "linecolor": "white",
            "ticks": ""
           }
          },
          "title": {
           "x": 0.05
          },
          "xaxis": {
           "automargin": true,
           "gridcolor": "white",
           "linecolor": "white",
           "ticks": "",
           "title": {
            "standoff": 15
           },
           "zerolinecolor": "white",
           "zerolinewidth": 2
          },
          "yaxis": {
           "automargin": true,
           "gridcolor": "white",
           "linecolor": "white",
           "ticks": "",
           "title": {
            "standoff": 15
           },
           "zerolinecolor": "white",
           "zerolinewidth": 2
          }
         }
        },
        "width": 440,
        "xaxis": {
         "tickfont": {
          "size": 11
         },
         "tickmode": "array",
         "ticktext": [
          "MNIST binary",
          "MagicTelescope",
          "adult"
         ],
         "tickvals": [
          "MLPMNIST binary",
          "MLPMagicTelescope",
          "MLPadult"
         ]
        },
        "yaxis": {
         "gridcolor": "lightgrey",
         "tickfont": {
          "size": 10
         },
         "tickmode": "array",
         "ticktext": [
          "1k",
          "2k",
          "3k",
          "4k",
          "5k",
          "7k",
          "9k"
         ],
         "tickvals": [
          1000,
          2000,
          3000,
          4000,
          5000,
          7000,
          9000
         ],
         "title": {
          "font": {
           "size": 13
          },
          "standoff": 5,
          "text": "Final regret ± 99% CI"
         }
        }
       }
      }
     },
     "metadata": {},
     "output_type": "display_data"
    }
   ],
   "source": [
    "import pandas as pd\n",
    "import plotly.graph_objects as go\n",
    "import numpy as np\n",
    "import plotly.express as px\n",
    "# Assuming df is your DataFrame and it has columns 'Dataset', 'Value', 'Model'\n",
    "\n",
    "w = 0.1\n",
    "def remove_substrings(s, substrings):\n",
    "    for substring in substrings:\n",
    "        s = s.replace(substring, '')\n",
    "    return s\n",
    "\n",
    "\n",
    "approaches = {\n",
    "    #'EEneuralcbpside_v5': {'color': [255, 255, 0], 'label': 'EEneuralcbpside_v5'},  # Red\n",
    "    'MLPNeural-CBP': {'color': [171, 99, 250], 'label': 'Neural-CBP'},  # Red\n",
    "    'MLPIneurAL (official)': {'color': [255, 161, 90], 'label':'IneurAL (official)'},                    # Yellow\n",
    "    'MLPIneurAL (tuned)': {'color': [25, 211, 243], 'label':'IneurAL (tuned)'},                    # Cyan\n",
    "    'MLPNeuronal (official)': {'color': [255, 102, 146], 'label':'Neuronal (official)'},                  # Magenta\n",
    "    'MLPNeuronal (tuned)': {'color': [182, 232, 128], 'label':'Neuronal (tuned)'},                   # Orange\n",
    "    'MLPMargin': {'color': [255, 151, 255], 'label':'Margin'},\n",
    "    'MLPCesa': {'color': [254, 203, 82], 'label':'Cesa'},\n",
    "}\n",
    "\n",
    "\n",
    "# Create an empty figure\n",
    "fig = go.Figure()\n",
    "\n",
    "\n",
    "views = []\n",
    "for appr in approaches.keys():\n",
    "    print(appr)\n",
    "    appr_name = approaches[appr]['label']\n",
    "    r,g,b = approaches[appr]['color']\n",
    "\n",
    "    subset = result[result['merge'] == appr]\n",
    "    dec = False\n",
    "    if appr_name not in views:\n",
    "        dec = True\n",
    "        views.append(appr_name)\n",
    "    \n",
    "\n",
    "    if 'CBP' in appr_name:\n",
    "        fig.add_trace(go.Bar(\n",
    "            x=subset['merge2'],\n",
    "            y=subset['Mean'],\n",
    "            name=appr_name,\n",
    "            error_y=dict(type='data', array=subset['StdError'], visible=True,thickness=1 ),\n",
    "            marker_color='rgba({},{},{},1)'.format(r,g,b),marker_pattern_shape='x',marker_pattern_fgcolor='black', \n",
    "            showlegend = dec,\n",
    "            # width=w\n",
    "            ))\n",
    "    else: \n",
    "        fig.add_trace(go.Bar(\n",
    "            x=subset['merge2'],\n",
    "            y=subset['Mean'],\n",
    "            name=appr_name,\n",
    "            error_y=dict(type='data', array=subset['StdError'], visible=True,thickness=1 ),\n",
    "            marker_color='rgba({},{},{},1)'.format(r,g,b), \n",
    "            showlegend = dec,\n",
    "            # width=w\n",
    "            ))\n",
    "\n",
    "\n",
    "# Add vertical black lines between data groups\n",
    "\n",
    "datasets = result['merge2'].unique()\n",
    "print(datasets)\n",
    "for i, dataset in enumerate(datasets[:-1]):\n",
    "    if i == 2:\n",
    "        fig.add_vline(x=i + 0.5, line_width=2, line_color=\"black\")\n",
    "    else:\n",
    "        fig.add_vline(x=i + 0.5, line_width=2, line_color=\"black\",  line_dash=\"dot\")\n",
    "\n",
    "\n",
    "siz = 13\n",
    "\n",
    "def format_tick(val):\n",
    "    \"\"\" Custom function to format the tick labels. \"\"\"\n",
    "    return f'{int(val / 1000)}k' if val >= 1000 else str(val)\n",
    "\n",
    "\n",
    "fig.update_layout(\n",
    "    width=440,\n",
    "    height=180,\n",
    "    plot_bgcolor='white',  # Sets the plot background color\n",
    "    paper_bgcolor='white',  # Sets the overall figure background color\n",
    "    barmode='group',\n",
    "    margin=dict(l=0, r=1, t=0, b=0),  # Small margins\n",
    "    xaxis=dict(\n",
    "        tickmode='array',\n",
    "        tickvals=result['merge2'].unique(),\n",
    "        ticktext = [ remove_substrings(model, ['LeNet', 'MLP']) for model in result['merge2'].unique() ],\n",
    "        tickfont=dict(size=siz-2)  # Increase X-axis tick font size\n",
    "    ),\n",
    "\n",
    "    yaxis=dict(\n",
    "        # type=\"log\",\n",
    "        gridcolor='lightgrey',\n",
    "        title=\"Final regret ± 99% CI\",\n",
    "        title_standoff=5,\n",
    "        title_font=dict(size=siz),\n",
    "        tickfont=dict(size=siz-3) , # Increase Y-axis tick font size\n",
    "        tickmode='array',\n",
    "        tickvals=[1000, 2000, 3000, 4000, 5000, 7000, 9000 ],  # Specify the values where you want ticks\n",
    "        ticktext=[format_tick(val) for val in [1000, 2000, 3000, 4000, 5000, 7000, 9000]]  # Format those values\n",
    "    ),\n",
    "    showlegend=False\n",
    "\n",
    ")\n",
    "\n",
    "fig.show()\n",
    "fig.write_image(\"./figures/results_binary_MLP.pdf\" )\n",
    "fig.write_image(\"./figures/results_binary_MLP.pdf\" )"
   ]
  }
 ],
 "metadata": {
  "kernelspec": {
   "display_name": ".venv",
   "language": "python",
   "name": "python3"
  },
  "language_info": {
   "codemirror_mode": {
    "name": "ipython",
    "version": 3
   },
   "file_extension": ".py",
   "mimetype": "text/x-python",
   "name": "python",
   "nbconvert_exporter": "python",
   "pygments_lexer": "ipython3",
   "version": "3.8.16"
  },
  "orig_nbformat": 4
 },
 "nbformat": 4,
 "nbformat_minor": 2
}
