{
 "cells": [
  {
   "cell_type": "code",
   "execution_count": 27,
   "metadata": {},
   "outputs": [],
   "source": [
    "import os\n",
    "import numpy as np\n",
    "import plotly.graph_objects as go\n",
    "\n",
    "import gzip\n",
    "import pickle as pkl\n",
    "\n",
    "def loadall_results2(path, n_folds):\n",
    "    regret = []\n",
    "    history_actions = []\n",
    "    history_outcomes = []\n",
    "    perf = []\n",
    "    with gzip.open(  path ,'rb') as f:\n",
    "        for i in range(n_folds+1):\n",
    "            try:\n",
    "                data = pkl.load(f)\n",
    "            except EOFError:\n",
    "                break\n",
    "\n",
    "            if type(data) == dict:\n",
    "                regret.append( data['regret'] ) \n",
    "                history_actions.append( data['action_history'] )\n",
    "                history_outcomes.append( data['outcome_history'] ) \n",
    "                perf.append( data['pred'] ) \n",
    "\n",
    "    \n",
    "    return regret, history_actions, history_outcomes, perf"
   ]
  },
  {
   "cell_type": "code",
   "execution_count": 3,
   "metadata": {},
   "outputs": [],
   "source": [
    "n_folds = 1\n",
    "horizon = 9999\n",
    "context = 'MNISTbinary'\n",
    "model = 'MLP'\n",
    "case = 'case1'\n",
    "agent_name = 'EEneuralcbpside_v6' #ineural6, neuronal6\n",
    "\n",
    "direct = './results/'\n",
    "path = os.path.join(direct, '{}_{}_{}_{}_{}_{}.pkl.gz'.format(case,model,context,horizon,n_folds,agent_name) )\n",
    "regret, action_history,outcome_history, perf = loadall_results2(path, n_folds)\n"
   ]
  },
  {
   "cell_type": "code",
   "execution_count": 29,
   "metadata": {},
   "outputs": [
    {
     "name": "stdout",
     "output_type": "stream",
     "text": [
      "./results_neuronal_grid/case1_MLP_MNISTbinary_9999_25_EEneuralcbpside_v6.pkl.gz\n",
      "25\n",
      "m [[752, 'MNISTbinary', 'Neural-CBP'], [505, 'MNISTbinary', 'Neural-CBP'], [742, 'MNISTbinary', 'Neural-CBP'], [688, 'MNISTbinary', 'Neural-CBP'], [682, 'MNISTbinary', 'Neural-CBP'], [422, 'MNISTbinary', 'Neural-CBP'], [635, 'MNISTbinary', 'Neural-CBP'], [458, 'MNISTbinary', 'Neural-CBP'], [696, 'MNISTbinary', 'Neural-CBP'], [671, 'MNISTbinary', 'Neural-CBP'], [753, 'MNISTbinary', 'Neural-CBP'], [649, 'MNISTbinary', 'Neural-CBP'], [709, 'MNISTbinary', 'Neural-CBP'], [571, 'MNISTbinary', 'Neural-CBP'], [789, 'MNISTbinary', 'Neural-CBP'], [641, 'MNISTbinary', 'Neural-CBP'], [608, 'MNISTbinary', 'Neural-CBP'], [550, 'MNISTbinary', 'Neural-CBP'], [537, 'MNISTbinary', 'Neural-CBP'], [791, 'MNISTbinary', 'Neural-CBP'], [633, 'MNISTbinary', 'Neural-CBP'], [633, 'MNISTbinary', 'Neural-CBP'], [715, 'MNISTbinary', 'Neural-CBP'], [604, 'MNISTbinary', 'Neural-CBP'], [524, 'MNISTbinary', 'Neural-CBP']]\n",
      "./results_neuronal_grid/case1_MLP_MNISTbinary_9999_25_ineural6.pkl.gz\n",
      "25\n",
      "m [[1294, 'MNISTbinary', 'IneurAL (official)'], [1292, 'MNISTbinary', 'IneurAL (official)'], [1308, 'MNISTbinary', 'IneurAL (official)'], [1233, 'MNISTbinary', 'IneurAL (official)'], [1406, 'MNISTbinary', 'IneurAL (official)'], [1304, 'MNISTbinary', 'IneurAL (official)'], [1331, 'MNISTbinary', 'IneurAL (official)'], [1425, 'MNISTbinary', 'IneurAL (official)'], [1463, 'MNISTbinary', 'IneurAL (official)'], [1208, 'MNISTbinary', 'IneurAL (official)'], [1312, 'MNISTbinary', 'IneurAL (official)'], [1373, 'MNISTbinary', 'IneurAL (official)'], [1391, 'MNISTbinary', 'IneurAL (official)'], [419, 'MNISTbinary', 'IneurAL (official)'], [1403, 'MNISTbinary', 'IneurAL (official)'], [1395, 'MNISTbinary', 'IneurAL (official)'], [1386, 'MNISTbinary', 'IneurAL (official)'], [1262, 'MNISTbinary', 'IneurAL (official)'], [1299, 'MNISTbinary', 'IneurAL (official)'], [1254, 'MNISTbinary', 'IneurAL (official)'], [1277, 'MNISTbinary', 'IneurAL (official)'], [1251, 'MNISTbinary', 'IneurAL (official)'], [1321, 'MNISTbinary', 'IneurAL (official)'], [1339, 'MNISTbinary', 'IneurAL (official)'], [1293, 'MNISTbinary', 'IneurAL (official)']]\n",
      "./results_neuronal_grid/case1_MLP_MNISTbinary_9999_25_ineural3.pkl.gz\n",
      "25\n",
      "m [[668, 'MNISTbinary', 'IneurAL (tuned)'], [621, 'MNISTbinary', 'IneurAL (tuned)'], [695, 'MNISTbinary', 'IneurAL (tuned)'], [3, 'MNISTbinary', 'IneurAL (tuned)'], [615, 'MNISTbinary', 'IneurAL (tuned)'], [707, 'MNISTbinary', 'IneurAL (tuned)'], [619, 'MNISTbinary', 'IneurAL (tuned)'], [777, 'MNISTbinary', 'IneurAL (tuned)'], [696, 'MNISTbinary', 'IneurAL (tuned)'], [690, 'MNISTbinary', 'IneurAL (tuned)'], [3, 'MNISTbinary', 'IneurAL (tuned)'], [648, 'MNISTbinary', 'IneurAL (tuned)'], [663, 'MNISTbinary', 'IneurAL (tuned)'], [705, 'MNISTbinary', 'IneurAL (tuned)'], [4, 'MNISTbinary', 'IneurAL (tuned)'], [3, 'MNISTbinary', 'IneurAL (tuned)'], [684, 'MNISTbinary', 'IneurAL (tuned)'], [650, 'MNISTbinary', 'IneurAL (tuned)'], [691, 'MNISTbinary', 'IneurAL (tuned)'], [657, 'MNISTbinary', 'IneurAL (tuned)'], [688, 'MNISTbinary', 'IneurAL (tuned)'], [735, 'MNISTbinary', 'IneurAL (tuned)'], [753, 'MNISTbinary', 'IneurAL (tuned)'], [672, 'MNISTbinary', 'IneurAL (tuned)'], [833, 'MNISTbinary', 'IneurAL (tuned)']]\n",
      "./results_neuronal_grid/case1_MLP_MNISTbinary_9999_25_neuronal6.pkl.gz\n",
      "25\n",
      "m [[1332, 'MNISTbinary', 'Neuronal (official)'], [1315, 'MNISTbinary', 'Neuronal (official)'], [1328, 'MNISTbinary', 'Neuronal (official)'], [1390, 'MNISTbinary', 'Neuronal (official)'], [1183, 'MNISTbinary', 'Neuronal (official)'], [1331, 'MNISTbinary', 'Neuronal (official)'], [1264, 'MNISTbinary', 'Neuronal (official)'], [1338, 'MNISTbinary', 'Neuronal (official)'], [1401, 'MNISTbinary', 'Neuronal (official)'], [1392, 'MNISTbinary', 'Neuronal (official)'], [1461, 'MNISTbinary', 'Neuronal (official)'], [1327, 'MNISTbinary', 'Neuronal (official)'], [1364, 'MNISTbinary', 'Neuronal (official)'], [1345, 'MNISTbinary', 'Neuronal (official)'], [1571, 'MNISTbinary', 'Neuronal (official)'], [1343, 'MNISTbinary', 'Neuronal (official)'], [1286, 'MNISTbinary', 'Neuronal (official)'], [1278, 'MNISTbinary', 'Neuronal (official)'], [1321, 'MNISTbinary', 'Neuronal (official)'], [7, 'MNISTbinary', 'Neuronal (official)'], [1247, 'MNISTbinary', 'Neuronal (official)'], [1384, 'MNISTbinary', 'Neuronal (official)'], [1405, 'MNISTbinary', 'Neuronal (official)'], [1349, 'MNISTbinary', 'Neuronal (official)'], [1377, 'MNISTbinary', 'Neuronal (official)']]\n",
      "./results_neuronal_grid/case1_MLP_MNISTbinary_9999_25_neuronal3.pkl.gz\n",
      "25\n",
      "m [[799, 'MNISTbinary', 'Neuronal (tuned)'], [824, 'MNISTbinary', 'Neuronal (tuned)'], [795, 'MNISTbinary', 'Neuronal (tuned)'], [865, 'MNISTbinary', 'Neuronal (tuned)'], [843, 'MNISTbinary', 'Neuronal (tuned)'], [866, 'MNISTbinary', 'Neuronal (tuned)'], [815, 'MNISTbinary', 'Neuronal (tuned)'], [866, 'MNISTbinary', 'Neuronal (tuned)'], [869, 'MNISTbinary', 'Neuronal (tuned)'], [930, 'MNISTbinary', 'Neuronal (tuned)'], [2, 'MNISTbinary', 'Neuronal (tuned)'], [4, 'MNISTbinary', 'Neuronal (tuned)'], [853, 'MNISTbinary', 'Neuronal (tuned)'], [871, 'MNISTbinary', 'Neuronal (tuned)'], [771, 'MNISTbinary', 'Neuronal (tuned)'], [829, 'MNISTbinary', 'Neuronal (tuned)'], [842, 'MNISTbinary', 'Neuronal (tuned)'], [851, 'MNISTbinary', 'Neuronal (tuned)'], [890, 'MNISTbinary', 'Neuronal (tuned)'], [829, 'MNISTbinary', 'Neuronal (tuned)'], [910, 'MNISTbinary', 'Neuronal (tuned)'], [845, 'MNISTbinary', 'Neuronal (tuned)'], [892, 'MNISTbinary', 'Neuronal (tuned)'], [866, 'MNISTbinary', 'Neuronal (tuned)'], [858, 'MNISTbinary', 'Neuronal (tuned)']]\n",
      "./results_neuronal_grid/case1_MLP_MNISTbinary_9999_25_margin.pkl.gz\n",
      "25\n",
      "m [[133, 'MNISTbinary', 'Margin'], [175, 'MNISTbinary', 'Margin'], [145, 'MNISTbinary', 'Margin'], [162, 'MNISTbinary', 'Margin'], [3, 'MNISTbinary', 'Margin'], [1, 'MNISTbinary', 'Margin'], [2, 'MNISTbinary', 'Margin'], [99, 'MNISTbinary', 'Margin'], [153, 'MNISTbinary', 'Margin'], [176, 'MNISTbinary', 'Margin'], [173, 'MNISTbinary', 'Margin'], [147, 'MNISTbinary', 'Margin'], [3, 'MNISTbinary', 'Margin'], [125, 'MNISTbinary', 'Margin'], [174, 'MNISTbinary', 'Margin'], [162, 'MNISTbinary', 'Margin'], [147, 'MNISTbinary', 'Margin'], [3, 'MNISTbinary', 'Margin'], [13, 'MNISTbinary', 'Margin'], [172, 'MNISTbinary', 'Margin'], [2, 'MNISTbinary', 'Margin'], [3, 'MNISTbinary', 'Margin'], [2, 'MNISTbinary', 'Margin'], [159, 'MNISTbinary', 'Margin'], [173, 'MNISTbinary', 'Margin']]\n",
      "./results_neuronal_grid/case1_MLP_MNISTbinary_9999_25_cesa.pkl.gz\n",
      "25\n",
      "m [[324, 'MNISTbinary', 'Cesa'], [364, 'MNISTbinary', 'Cesa'], [396, 'MNISTbinary', 'Cesa'], [390, 'MNISTbinary', 'Cesa'], [4, 'MNISTbinary', 'Cesa'], [312, 'MNISTbinary', 'Cesa'], [336, 'MNISTbinary', 'Cesa'], [352, 'MNISTbinary', 'Cesa'], [227, 'MNISTbinary', 'Cesa'], [376, 'MNISTbinary', 'Cesa'], [399, 'MNISTbinary', 'Cesa'], [345, 'MNISTbinary', 'Cesa'], [416, 'MNISTbinary', 'Cesa'], [313, 'MNISTbinary', 'Cesa'], [371, 'MNISTbinary', 'Cesa'], [311, 'MNISTbinary', 'Cesa'], [330, 'MNISTbinary', 'Cesa'], [330, 'MNISTbinary', 'Cesa'], [298, 'MNISTbinary', 'Cesa'], [377, 'MNISTbinary', 'Cesa'], [355, 'MNISTbinary', 'Cesa'], [4, 'MNISTbinary', 'Cesa'], [279, 'MNISTbinary', 'Cesa'], [2, 'MNISTbinary', 'Cesa'], [371, 'MNISTbinary', 'Cesa']]\n",
      "./results_neuronal_grid/case1_MLP_MagicTelescope_9999_25_EEneuralcbpside_v6.pkl.gz\n",
      "25\n",
      "m [[811, 'MagicTelescope', 'Neural-CBP'], [477, 'MagicTelescope', 'Neural-CBP'], [629, 'MagicTelescope', 'Neural-CBP'], [536, 'MagicTelescope', 'Neural-CBP'], [743, 'MagicTelescope', 'Neural-CBP'], [399, 'MagicTelescope', 'Neural-CBP'], [810, 'MagicTelescope', 'Neural-CBP'], [710, 'MagicTelescope', 'Neural-CBP'], [2, 'MagicTelescope', 'Neural-CBP'], [3, 'MagicTelescope', 'Neural-CBP'], [2, 'MagicTelescope', 'Neural-CBP'], [542, 'MagicTelescope', 'Neural-CBP'], [3, 'MagicTelescope', 'Neural-CBP'], [592, 'MagicTelescope', 'Neural-CBP'], [871, 'MagicTelescope', 'Neural-CBP'], [643, 'MagicTelescope', 'Neural-CBP'], [985, 'MagicTelescope', 'Neural-CBP'], [704, 'MagicTelescope', 'Neural-CBP'], [3, 'MagicTelescope', 'Neural-CBP'], [3, 'MagicTelescope', 'Neural-CBP'], [903, 'MagicTelescope', 'Neural-CBP'], [2, 'MagicTelescope', 'Neural-CBP'], [657, 'MagicTelescope', 'Neural-CBP'], [790, 'MagicTelescope', 'Neural-CBP'], [597, 'MagicTelescope', 'Neural-CBP']]\n",
      "./results_neuronal_grid/case1_MLP_MagicTelescope_9999_25_ineural6.pkl.gz\n",
      "25\n",
      "m [[2, 'MagicTelescope', 'IneurAL (official)'], [5699, 'MagicTelescope', 'IneurAL (official)'], [3082, 'MagicTelescope', 'IneurAL (official)'], [5823, 'MagicTelescope', 'IneurAL (official)'], [7768, 'MagicTelescope', 'IneurAL (official)'], [7446, 'MagicTelescope', 'IneurAL (official)'], [7219, 'MagicTelescope', 'IneurAL (official)'], [8032, 'MagicTelescope', 'IneurAL (official)'], [6711, 'MagicTelescope', 'IneurAL (official)'], [7033, 'MagicTelescope', 'IneurAL (official)'], [6901, 'MagicTelescope', 'IneurAL (official)'], [6976, 'MagicTelescope', 'IneurAL (official)'], [7743, 'MagicTelescope', 'IneurAL (official)'], [5082, 'MagicTelescope', 'IneurAL (official)'], [7643, 'MagicTelescope', 'IneurAL (official)'], [7069, 'MagicTelescope', 'IneurAL (official)'], [7118, 'MagicTelescope', 'IneurAL (official)'], [7817, 'MagicTelescope', 'IneurAL (official)'], [6304, 'MagicTelescope', 'IneurAL (official)'], [7391, 'MagicTelescope', 'IneurAL (official)'], [7771, 'MagicTelescope', 'IneurAL (official)'], [6801, 'MagicTelescope', 'IneurAL (official)'], [7448, 'MagicTelescope', 'IneurAL (official)'], [7353, 'MagicTelescope', 'IneurAL (official)'], [7100, 'MagicTelescope', 'IneurAL (official)']]\n",
      "./results_neuronal_grid/case1_MLP_MagicTelescope_9999_25_ineural3.pkl.gz\n",
      "25\n",
      "m [[4, 'MagicTelescope', 'IneurAL (tuned)'], [2, 'MagicTelescope', 'IneurAL (tuned)'], [3962, 'MagicTelescope', 'IneurAL (tuned)'], [4202, 'MagicTelescope', 'IneurAL (tuned)'], [4416, 'MagicTelescope', 'IneurAL (tuned)'], [3768, 'MagicTelescope', 'IneurAL (tuned)'], [4040, 'MagicTelescope', 'IneurAL (tuned)'], [4007, 'MagicTelescope', 'IneurAL (tuned)'], [3192, 'MagicTelescope', 'IneurAL (tuned)'], [2, 'MagicTelescope', 'IneurAL (tuned)'], [4096, 'MagicTelescope', 'IneurAL (tuned)'], [3850, 'MagicTelescope', 'IneurAL (tuned)'], [3657, 'MagicTelescope', 'IneurAL (tuned)'], [4133, 'MagicTelescope', 'IneurAL (tuned)'], [3139, 'MagicTelescope', 'IneurAL (tuned)'], [3366, 'MagicTelescope', 'IneurAL (tuned)'], [2736, 'MagicTelescope', 'IneurAL (tuned)'], [3895, 'MagicTelescope', 'IneurAL (tuned)'], [3092, 'MagicTelescope', 'IneurAL (tuned)'], [4150, 'MagicTelescope', 'IneurAL (tuned)'], [3506, 'MagicTelescope', 'IneurAL (tuned)'], [2946, 'MagicTelescope', 'IneurAL (tuned)'], [4381, 'MagicTelescope', 'IneurAL (tuned)'], [4403, 'MagicTelescope', 'IneurAL (tuned)'], [4565, 'MagicTelescope', 'IneurAL (tuned)']]\n",
      "./results_neuronal_grid/case1_MLP_MagicTelescope_9999_25_neuronal6.pkl.gz\n",
      "25\n",
      "m [[1, 'MagicTelescope', 'Neuronal (official)'], [1, 'MagicTelescope', 'Neuronal (official)'], [1, 'MagicTelescope', 'Neuronal (official)'], [1, 'MagicTelescope', 'Neuronal (official)'], [1, 'MagicTelescope', 'Neuronal (official)'], [1, 'MagicTelescope', 'Neuronal (official)'], [1, 'MagicTelescope', 'Neuronal (official)'], [1, 'MagicTelescope', 'Neuronal (official)'], [1, 'MagicTelescope', 'Neuronal (official)'], [1, 'MagicTelescope', 'Neuronal (official)'], [1, 'MagicTelescope', 'Neuronal (official)'], [1, 'MagicTelescope', 'Neuronal (official)'], [1, 'MagicTelescope', 'Neuronal (official)'], [1, 'MagicTelescope', 'Neuronal (official)'], [1, 'MagicTelescope', 'Neuronal (official)'], [1, 'MagicTelescope', 'Neuronal (official)'], [1, 'MagicTelescope', 'Neuronal (official)'], [1, 'MagicTelescope', 'Neuronal (official)'], [1, 'MagicTelescope', 'Neuronal (official)'], [1, 'MagicTelescope', 'Neuronal (official)'], [1, 'MagicTelescope', 'Neuronal (official)'], [1, 'MagicTelescope', 'Neuronal (official)'], [1, 'MagicTelescope', 'Neuronal (official)'], [1, 'MagicTelescope', 'Neuronal (official)'], [1, 'MagicTelescope', 'Neuronal (official)']]\n",
      "./results_neuronal_grid/case1_MLP_MagicTelescope_9999_25_neuronal3.pkl.gz\n",
      "25\n",
      "m [[1, 'MagicTelescope', 'Neuronal (tuned)'], [1, 'MagicTelescope', 'Neuronal (tuned)'], [1, 'MagicTelescope', 'Neuronal (tuned)'], [1, 'MagicTelescope', 'Neuronal (tuned)'], [1, 'MagicTelescope', 'Neuronal (tuned)'], [1, 'MagicTelescope', 'Neuronal (tuned)'], [1, 'MagicTelescope', 'Neuronal (tuned)'], [1, 'MagicTelescope', 'Neuronal (tuned)'], [1, 'MagicTelescope', 'Neuronal (tuned)'], [1, 'MagicTelescope', 'Neuronal (tuned)'], [1, 'MagicTelescope', 'Neuronal (tuned)'], [1, 'MagicTelescope', 'Neuronal (tuned)'], [1, 'MagicTelescope', 'Neuronal (tuned)'], [1, 'MagicTelescope', 'Neuronal (tuned)'], [1, 'MagicTelescope', 'Neuronal (tuned)'], [1, 'MagicTelescope', 'Neuronal (tuned)'], [1, 'MagicTelescope', 'Neuronal (tuned)'], [1, 'MagicTelescope', 'Neuronal (tuned)'], [1, 'MagicTelescope', 'Neuronal (tuned)'], [1, 'MagicTelescope', 'Neuronal (tuned)'], [1, 'MagicTelescope', 'Neuronal (tuned)'], [1, 'MagicTelescope', 'Neuronal (tuned)'], [1, 'MagicTelescope', 'Neuronal (tuned)'], [1, 'MagicTelescope', 'Neuronal (tuned)'], [1, 'MagicTelescope', 'Neuronal (tuned)']]\n",
      "./results_neuronal_grid/case1_MLP_MagicTelescope_9999_25_margin.pkl.gz\n",
      "25\n",
      "m [[80, 'MagicTelescope', 'Margin'], [118, 'MagicTelescope', 'Margin'], [3, 'MagicTelescope', 'Margin'], [10, 'MagicTelescope', 'Margin'], [46, 'MagicTelescope', 'Margin'], [26, 'MagicTelescope', 'Margin'], [88, 'MagicTelescope', 'Margin'], [120, 'MagicTelescope', 'Margin'], [96, 'MagicTelescope', 'Margin'], [66, 'MagicTelescope', 'Margin'], [63, 'MagicTelescope', 'Margin'], [56, 'MagicTelescope', 'Margin'], [83, 'MagicTelescope', 'Margin'], [56, 'MagicTelescope', 'Margin'], [3, 'MagicTelescope', 'Margin'], [70, 'MagicTelescope', 'Margin'], [3, 'MagicTelescope', 'Margin'], [3, 'MagicTelescope', 'Margin'], [52, 'MagicTelescope', 'Margin'], [43, 'MagicTelescope', 'Margin'], [133, 'MagicTelescope', 'Margin'], [72, 'MagicTelescope', 'Margin'], [100, 'MagicTelescope', 'Margin'], [40, 'MagicTelescope', 'Margin'], [21, 'MagicTelescope', 'Margin']]\n",
      "./results_neuronal_grid/case1_MLP_MagicTelescope_9999_25_cesa.pkl.gz\n",
      "25\n",
      "m [[437, 'MagicTelescope', 'Cesa'], [290, 'MagicTelescope', 'Cesa'], [466, 'MagicTelescope', 'Cesa'], [472, 'MagicTelescope', 'Cesa'], [491, 'MagicTelescope', 'Cesa'], [336, 'MagicTelescope', 'Cesa'], [381, 'MagicTelescope', 'Cesa'], [303, 'MagicTelescope', 'Cesa'], [398, 'MagicTelescope', 'Cesa'], [432, 'MagicTelescope', 'Cesa'], [105, 'MagicTelescope', 'Cesa'], [2, 'MagicTelescope', 'Cesa'], [2, 'MagicTelescope', 'Cesa'], [514, 'MagicTelescope', 'Cesa'], [450, 'MagicTelescope', 'Cesa'], [240, 'MagicTelescope', 'Cesa'], [486, 'MagicTelescope', 'Cesa'], [204, 'MagicTelescope', 'Cesa'], [402, 'MagicTelescope', 'Cesa'], [183, 'MagicTelescope', 'Cesa'], [2, 'MagicTelescope', 'Cesa'], [438, 'MagicTelescope', 'Cesa'], [424, 'MagicTelescope', 'Cesa'], [287, 'MagicTelescope', 'Cesa'], [474, 'MagicTelescope', 'Cesa']]\n",
      "./results_neuronal_grid/case1_MLP_adult_9999_25_EEneuralcbpside_v6.pkl.gz\n",
      "25\n",
      "m [[2, 'adult', 'Neural-CBP'], [54, 'adult', 'Neural-CBP'], [265, 'adult', 'Neural-CBP'], [121, 'adult', 'Neural-CBP'], [322, 'adult', 'Neural-CBP'], [284, 'adult', 'Neural-CBP'], [110, 'adult', 'Neural-CBP'], [90, 'adult', 'Neural-CBP'], [133, 'adult', 'Neural-CBP'], [5, 'adult', 'Neural-CBP'], [45, 'adult', 'Neural-CBP'], [52, 'adult', 'Neural-CBP'], [41, 'adult', 'Neural-CBP'], [5, 'adult', 'Neural-CBP'], [170, 'adult', 'Neural-CBP'], [102, 'adult', 'Neural-CBP'], [185, 'adult', 'Neural-CBP'], [15, 'adult', 'Neural-CBP'], [137, 'adult', 'Neural-CBP'], [163, 'adult', 'Neural-CBP'], [269, 'adult', 'Neural-CBP'], [186, 'adult', 'Neural-CBP'], [337, 'adult', 'Neural-CBP'], [2, 'adult', 'Neural-CBP'], [96, 'adult', 'Neural-CBP']]\n",
      "./results_neuronal_grid/case1_MLP_adult_9999_25_ineural6.pkl.gz\n",
      "25\n",
      "m [[3563, 'adult', 'IneurAL (official)'], [3909, 'adult', 'IneurAL (official)'], [6686, 'adult', 'IneurAL (official)'], [4175, 'adult', 'IneurAL (official)'], [6674, 'adult', 'IneurAL (official)'], [6967, 'adult', 'IneurAL (official)'], [7383, 'adult', 'IneurAL (official)'], [3, 'adult', 'IneurAL (official)'], [1, 'adult', 'IneurAL (official)'], [8355, 'adult', 'IneurAL (official)'], [6034, 'adult', 'IneurAL (official)'], [3504, 'adult', 'IneurAL (official)'], [7090, 'adult', 'IneurAL (official)'], [8287, 'adult', 'IneurAL (official)'], [2985, 'adult', 'IneurAL (official)'], [8884, 'adult', 'IneurAL (official)'], [5824, 'adult', 'IneurAL (official)'], [7756, 'adult', 'IneurAL (official)'], [44, 'adult', 'IneurAL (official)'], [5, 'adult', 'IneurAL (official)'], [9679, 'adult', 'IneurAL (official)'], [8933, 'adult', 'IneurAL (official)'], [5704, 'adult', 'IneurAL (official)'], [9350, 'adult', 'IneurAL (official)'], [9330, 'adult', 'IneurAL (official)']]\n",
      "./results_neuronal_grid/case1_MLP_adult_9999_25_ineural3.pkl.gz\n",
      "25\n",
      "m [[1654, 'adult', 'IneurAL (tuned)'], [2, 'adult', 'IneurAL (tuned)'], [1, 'adult', 'IneurAL (tuned)'], [1, 'adult', 'IneurAL (tuned)'], [1, 'adult', 'IneurAL (tuned)'], [1, 'adult', 'IneurAL (tuned)'], [1, 'adult', 'IneurAL (tuned)'], [1, 'adult', 'IneurAL (tuned)'], [2, 'adult', 'IneurAL (tuned)'], [1362, 'adult', 'IneurAL (tuned)'], [2, 'adult', 'IneurAL (tuned)'], [3791, 'adult', 'IneurAL (tuned)'], [1279, 'adult', 'IneurAL (tuned)'], [1389, 'adult', 'IneurAL (tuned)'], [1, 'adult', 'IneurAL (tuned)'], [1634, 'adult', 'IneurAL (tuned)'], [1, 'adult', 'IneurAL (tuned)'], [1, 'adult', 'IneurAL (tuned)'], [1, 'adult', 'IneurAL (tuned)'], [1, 'adult', 'IneurAL (tuned)'], [1062, 'adult', 'IneurAL (tuned)'], [1055, 'adult', 'IneurAL (tuned)'], [1708, 'adult', 'IneurAL (tuned)'], [1, 'adult', 'IneurAL (tuned)'], [1, 'adult', 'IneurAL (tuned)']]\n",
      "./results_neuronal_grid/case1_MLP_adult_9999_25_neuronal6.pkl.gz\n",
      "25\n",
      "m [[1, 'adult', 'Neuronal (official)'], [1, 'adult', 'Neuronal (official)'], [1, 'adult', 'Neuronal (official)'], [1, 'adult', 'Neuronal (official)'], [1, 'adult', 'Neuronal (official)'], [1, 'adult', 'Neuronal (official)'], [1, 'adult', 'Neuronal (official)'], [1, 'adult', 'Neuronal (official)'], [1, 'adult', 'Neuronal (official)'], [1, 'adult', 'Neuronal (official)'], [1, 'adult', 'Neuronal (official)'], [1, 'adult', 'Neuronal (official)'], [1, 'adult', 'Neuronal (official)'], [1, 'adult', 'Neuronal (official)'], [1, 'adult', 'Neuronal (official)'], [1, 'adult', 'Neuronal (official)'], [1, 'adult', 'Neuronal (official)'], [1, 'adult', 'Neuronal (official)'], [1, 'adult', 'Neuronal (official)'], [1, 'adult', 'Neuronal (official)'], [1, 'adult', 'Neuronal (official)'], [1, 'adult', 'Neuronal (official)'], [1, 'adult', 'Neuronal (official)'], [1, 'adult', 'Neuronal (official)'], [1, 'adult', 'Neuronal (official)']]\n",
      "./results_neuronal_grid/case1_MLP_adult_9999_25_neuronal3.pkl.gz\n",
      "25\n",
      "m [[1, 'adult', 'Neuronal (tuned)'], [1, 'adult', 'Neuronal (tuned)'], [1, 'adult', 'Neuronal (tuned)'], [1, 'adult', 'Neuronal (tuned)'], [1, 'adult', 'Neuronal (tuned)'], [1, 'adult', 'Neuronal (tuned)'], [1, 'adult', 'Neuronal (tuned)'], [1, 'adult', 'Neuronal (tuned)'], [1, 'adult', 'Neuronal (tuned)'], [1, 'adult', 'Neuronal (tuned)'], [1, 'adult', 'Neuronal (tuned)'], [1, 'adult', 'Neuronal (tuned)'], [1, 'adult', 'Neuronal (tuned)'], [1, 'adult', 'Neuronal (tuned)'], [1, 'adult', 'Neuronal (tuned)'], [1, 'adult', 'Neuronal (tuned)'], [1, 'adult', 'Neuronal (tuned)'], [1, 'adult', 'Neuronal (tuned)'], [1, 'adult', 'Neuronal (tuned)'], [1, 'adult', 'Neuronal (tuned)'], [1, 'adult', 'Neuronal (tuned)'], [1, 'adult', 'Neuronal (tuned)'], [1, 'adult', 'Neuronal (tuned)'], [1, 'adult', 'Neuronal (tuned)'], [1, 'adult', 'Neuronal (tuned)']]\n",
      "./results_neuronal_grid/case1_MLP_adult_9999_25_margin.pkl.gz\n",
      "25\n",
      "m [[3, 'adult', 'Margin'], [3, 'adult', 'Margin'], [3, 'adult', 'Margin'], [3, 'adult', 'Margin'], [3, 'adult', 'Margin'], [3, 'adult', 'Margin'], [3, 'adult', 'Margin'], [30, 'adult', 'Margin'], [19, 'adult', 'Margin'], [3, 'adult', 'Margin'], [69, 'adult', 'Margin'], [3, 'adult', 'Margin'], [3, 'adult', 'Margin'], [4, 'adult', 'Margin'], [4, 'adult', 'Margin'], [189, 'adult', 'Margin'], [92, 'adult', 'Margin'], [3, 'adult', 'Margin'], [3, 'adult', 'Margin'], [3, 'adult', 'Margin'], [40, 'adult', 'Margin'], [3, 'adult', 'Margin'], [3, 'adult', 'Margin'], [3, 'adult', 'Margin'], [3, 'adult', 'Margin']]\n",
      "./results_neuronal_grid/case1_MLP_adult_9999_25_cesa.pkl.gz\n",
      "25\n",
      "m [[3, 'adult', 'Cesa'], [1, 'adult', 'Cesa'], [333, 'adult', 'Cesa'], [1, 'adult', 'Cesa'], [512, 'adult', 'Cesa'], [327, 'adult', 'Cesa'], [522, 'adult', 'Cesa'], [558, 'adult', 'Cesa'], [6, 'adult', 'Cesa'], [127, 'adult', 'Cesa'], [529, 'adult', 'Cesa'], [527, 'adult', 'Cesa'], [536, 'adult', 'Cesa'], [532, 'adult', 'Cesa'], [1, 'adult', 'Cesa'], [2, 'adult', 'Cesa'], [3, 'adult', 'Cesa'], [283, 'adult', 'Cesa'], [530, 'adult', 'Cesa'], [271, 'adult', 'Cesa'], [542, 'adult', 'Cesa'], [543, 'adult', 'Cesa'], [235, 'adult', 'Cesa'], [549, 'adult', 'Cesa'], [530, 'adult', 'Cesa']]\n"
     ]
    }
   ],
   "source": [
    "def convert_action_history(action_history,data, l_label):\n",
    "    counters = []\n",
    "    for history in action_history:\n",
    "\n",
    "        counter = sum([ 1 if action == 0 else 0 for action in history ])\n",
    "        counters.append( [counter, data, l_label] )\n",
    "\n",
    "    # counters.append(data)\n",
    "    # counters.append(l_label)\n",
    "    # std = 2.575 * np.std(counters, axis = 0) / n_folds \n",
    "    # std = np.std(counters, axis = 0) #/ n_folds \n",
    "\n",
    "    return counters#np.mean(counters, axis = 0), std \n",
    "\n",
    "n_folds = 25\n",
    "horizon = 9999\n",
    "model = 'MLP'\n",
    "\n",
    "\n",
    "material = {\n",
    "    \n",
    "    'EEneuralcbpside_v6': {'color': [255, 0, 0], 'label': 'Neural-CBP'},  # Red\n",
    "    'ineural6': {'color': [51, 255, 255], 'label':'IneurAL (official)'},                    # Yellow\n",
    "    'ineural3': {'color': [0, 0, 255], 'label':'IneurAL (tuned)'},                    # Cyan\n",
    "    'neuronal6': {'color': [255, 0, 255], 'label':'Neuronal (official)'},                  # Magenta\n",
    "    'neuronal3': {'color': [160, 160, 160], 'label':'Neuronal (tuned)'},                   # Orange\n",
    "    'margin': {'color': [160, 160, 160], 'label':'Margin'},\n",
    "    'cesa': {'color': [0, 0, 255], 'label':'Cesa'},\n",
    "}\n",
    "\n",
    "#  'random':{'color':[204,0,204],'label':'e-greedy'}\n",
    "\n",
    "fig = go.Figure( )\n",
    "\n",
    "\n",
    "exploration_dataset = []\n",
    "data_models = {}\n",
    "for model in ['MLP']: #, 'LeNet'\n",
    "\n",
    "    # if model == 'MLP':\n",
    "    n_folds = 25\n",
    "    datasets = ['MNISTbinary', 'MagicTelescope', 'adult', ]\n",
    "    # else:\n",
    "    #     datasets = ['MNIST', 'FASHION', 'CIFAR10',]\n",
    "    #     n_folds = 25  'MNIST', 'FASHION', 'covertype', 'shuttle',\n",
    "\n",
    "    data_regrets = {} \n",
    "    for data in datasets: \n",
    "\n",
    "        # if data in ['MNIST', 'FASHION', 'CIFAR10']:\n",
    "        #     case = 'case2' \n",
    "        # elif data in ['covertype', 'shuttle']:\n",
    "        #     case = 'game_case_seven'\n",
    "        # else:\n",
    "        case = 'case1'\n",
    "            \n",
    "        final_regrets = {}\n",
    "        for agent_name in material.keys():\n",
    "\n",
    "            color, l_label = material[agent_name]['color'], material[agent_name]['label']\n",
    "\n",
    "            r,g,b = color\n",
    "\n",
    "            direct = './results_neuronal_grid/'\n",
    "            path = os.path.join(direct, '{}_{}_{}_{}_{}_{}.pkl.gz'.format(case, model, data, horizon,n_folds,agent_name) )\n",
    "            print(path)\n",
    "            result, history_actions, history_outcomes, perf = loadall_results2(path, n_folds)\n",
    "            result = np.array(result)\n",
    "            # result = result[1:]\n",
    "            result = result.astype(np.float32)\n",
    "            print(  len(history_actions) )\n",
    "            final_regrets[l_label] = result[:,-1] \n",
    "            m = convert_action_history(history_actions, data, l_label)\n",
    "            print('m', m)\n",
    "\n",
    "            exploration_dataset.extend( m )\n",
    "            # except:\n",
    "            #     result = np.zeros((n_folds,horizon))\n",
    "\n",
    "        if data == 'MNISTbinary':\n",
    "            data = 'MNIST binary'\n",
    "        if data == 'FASHION':\n",
    "            data = 'Fashion'\n",
    "            \n",
    "        data_regrets[data] = final_regrets\n",
    "        \n",
    "    data_models[model] = data_regrets\n"
   ]
  },
  {
   "cell_type": "code",
   "execution_count": 30,
   "metadata": {},
   "outputs": [],
   "source": [
    "import pandas as pd\n",
    "exploration_dataset = np.array(exploration_dataset)\n",
    "exploration_dataset = pd.DataFrame(exploration_dataset)\n",
    "exploration_dataset.dtypes\n",
    "exploration_dataset[0].astype(float)\n",
    "\n",
    "exploration_dataset.columns = ['Explore', 'Dataset', 'Approach']\n",
    "exploration_dataset['Explore'] = exploration_dataset['Explore'].astype(int)"
   ]
  },
  {
   "cell_type": "code",
   "execution_count": 31,
   "metadata": {},
   "outputs": [],
   "source": [
    "import pandas as pd\n",
    "# pd.DataFrame(data_regrets)\n",
    "# data_regrets\n",
    "\n",
    "samples = []\n",
    "\n",
    "# Iterate over the dictionary to extract data\n",
    "for model, dataset in data_models.items():\n",
    "    for data, approach in dataset.items():\n",
    "        for appr, values in approach.items():\n",
    "            for val in values:\n",
    "                samples.append([model, data, appr, val])\n",
    "\n",
    "# Create a DataFrame\n",
    "df = pd.DataFrame(samples, columns=['Model','Dataset', 'Approach', 'Value'])\n",
    "\n",
    "# Calculate mean and standard error for each group\n",
    "grouped = df.groupby(['Model', 'Dataset', 'Approach'])\n",
    "mean = grouped['Value'].mean().reset_index()\n",
    "std_error =  2.576 * grouped['Value'].std() / np.sqrt(grouped['Value'].count()) \n",
    "std_error = std_error.reset_index()\n",
    "\n",
    "# Merge the mean and standard error into a single DataFrame\n",
    "result = pd.merge(mean, std_error, on=['Model', 'Dataset', 'Approach'])\n",
    "result.rename(columns={'Value_x': 'Mean', 'Value_y': 'StdError'}, inplace=True)\n",
    "\n",
    "result['merge'] = result['Model'] + result['Approach']\n",
    "result['merge2'] = result['Model'] + result['Dataset']"
   ]
  },
  {
   "cell_type": "code",
   "execution_count": 32,
   "metadata": {},
   "outputs": [
    {
     "name": "stdout",
     "output_type": "stream",
     "text": [
      "1.0 1351.92 638.32\n",
      "0.004263818654730236 1781.44 1289.56\n",
      "0.01486155647872307 2066.52 579.2\n",
      "0.02773405109755263 1687.24 1293.56\n",
      "0.11958964538959403 1700.56 783.4\n",
      "2.626786412239539e-06 2627.52 303.28\n",
      "2.651073582596671e-06 3169.6 100.28\n",
      "1.0 3370.36 496.68\n",
      "1.3326942030743095e-16 7495.04 6613.28\n",
      "2.29246451941471e-07 5085.36 3340.4\n",
      "0.0023223535124957846 4591.4 1.0\n",
      "0.00470437990251384 4472.4 1.0\n",
      "0.6228841320828247 3245.64 328.76\n",
      "0.48311417598710915 3574.12 58.04\n",
      "1.0 2968.88 127.64\n",
      "2.749213565832728e-14 7477.92 5645.0\n",
      "0.13512767362829448 3729.16 598.12\n",
      "0.06457068527630204 4072.84 1.0\n",
      "0.368551213884481 3441.96 1.0\n",
      "0.6425677658212707 3180.0 320.12\n",
      "0.6824650299767763 3166.56 19.92\n"
     ]
    },
    {
     "name": "stderr",
     "output_type": "stream",
     "text": [
      "/tmp/ipykernel_70400/26035867.py:40: RuntimeWarning:\n",
      "\n",
      "Precision loss occurred in moment calculation due to catastrophic cancellation. This occurs when the data are nearly identical. Results may be unreliable.\n",
      "\n",
      "/tmp/ipykernel_70400/26035867.py:40: RuntimeWarning:\n",
      "\n",
      "Precision loss occurred in moment calculation due to catastrophic cancellation. This occurs when the data are nearly identical. Results may be unreliable.\n",
      "\n",
      "/tmp/ipykernel_70400/26035867.py:40: RuntimeWarning:\n",
      "\n",
      "Precision loss occurred in moment calculation due to catastrophic cancellation. This occurs when the data are nearly identical. Results may be unreliable.\n",
      "\n",
      "/tmp/ipykernel_70400/26035867.py:40: RuntimeWarning:\n",
      "\n",
      "Precision loss occurred in moment calculation due to catastrophic cancellation. This occurs when the data are nearly identical. Results may be unreliable.\n",
      "\n"
     ]
    }
   ],
   "source": [
    "from scipy.stats import ttest_ind,mannwhitneyu\n",
    "# np.set_printoptions(suppress=True)\n",
    "\n",
    "\n",
    "final_values = []\n",
    "\n",
    "for data_name in ['MNIST binary', 'MagicTelescope', 'adult'] : \n",
    "    subdf = df[ df['Dataset']== data_name ]\n",
    "\n",
    "    data_name2 = data_name if data_name != 'MNIST binary' else 'MNISTbinary'\n",
    "    subdf_exp = exploration_dataset[ exploration_dataset['Dataset']== data_name2 ]\n",
    "\n",
    "    dataset = pd.DataFrame([data_name] * 25)\n",
    "    # dataset_expl = pd.DataFrame([data_name] * 25)\n",
    "\n",
    "    final_dataset = []\n",
    "    references = []\n",
    "\n",
    "\n",
    "    for approach in ['Neural-CBP', 'IneurAL (official)', 'IneurAL (tuned)', 'Neuronal (official)', 'Neuronal (tuned)', 'Cesa', 'Margin',]:\n",
    "        \n",
    "        values = subdf[ subdf['Approach'] == approach]['Value']\n",
    "        values.name = '{}'.format(approach)\n",
    "        values = values.reset_index(drop=True)\n",
    "        dataset['{}'.format(approach)] = values\n",
    "\n",
    "        mean = np.mean(values)\n",
    "\n",
    "        s, p = ttest_ind(df[  (df['Approach'] == 'Neural-CBP') & (df['Dataset'] == data_name)  ]['Value'], \n",
    "                    df[  (df['Approach'] == approach) & (df['Dataset'] == data_name)  ]['Value'], equal_var=False)\n",
    "\n",
    "        \n",
    "        values_exp = subdf_exp[ subdf_exp['Approach'] == approach]['Explore']\n",
    "        values_exp.name = '{}'.format(approach)\n",
    "        values_exp = values_exp.reset_index(drop=True)\n",
    "        values_exp = values_exp.astype(int)\n",
    "\n",
    "        mean_exp = np.mean(values_exp)\n",
    "\n",
    "        s, p_exp = ttest_ind( exploration_dataset[  (exploration_dataset['Approach'] == 'Neural-CBP') & (exploration_dataset['Dataset'] == data_name2)  ]['Explore'], \n",
    "                    exploration_dataset[  (exploration_dataset['Approach'] == approach) & (exploration_dataset['Dataset'] == data_name2)  ]['Explore'], equal_var=False)\n",
    "\n",
    "        print(p, mean, mean_exp)\n",
    "        \n",
    "        final_dataset.append( [  mean, p, mean_exp, p_exp ] )\n",
    "        references.append([ data_name ,  approach, ] )\n",
    "\n",
    "    final_dataset = np.array(final_dataset)\n",
    "    references = np.array(references)\n",
    "        \n",
    "    df_dropped = dataset.drop(columns=[0])\n",
    "    results = []\n",
    "    for i in range(25):\n",
    "        perfs = np.array( df_dropped.iloc[i].tolist() )\n",
    "        minimum = min( perfs )\n",
    "        strategy_won = (perfs == minimum)\n",
    "        results.append(strategy_won)  \n",
    "\n",
    "    results = np.array( results )  \n",
    "    true_counts = results.sum(axis=0)\n",
    "    true_counts = true_counts.reshape(-1, 1)\n",
    "\n",
    "\n",
    "    final = np.hstack( (final_dataset, true_counts) )\n",
    "    final = np.round(final,3)\n",
    "    final = np.hstack( (references, final) )\n",
    "\n",
    "    final_values.append(final)\n",
    "\n",
    "final_values = np.array(final_values)\n",
    "final_values = np.vstack(final_values)\n",
    "dataframe = pd.DataFrame(final_values)\n",
    "dataframe.columns = ['Dataset', 'Approach', 'Mean regret', 'p-value', 'Mean Exploration', 'p-value (exploration)', 'win count',]\n",
    "\n",
    "dataframe = dataframe[ ['Dataset', 'Approach', 'Mean regret', 'p-value', 'win count', 'Mean Exploration', 'p-value (exploration)'  ] ]\n",
    "# dataframe.to_csv('figures/results_binary_MLP.csv', index = False)"
   ]
  },
  {
   "cell_type": "code",
   "execution_count": 34,
   "metadata": {},
   "outputs": [
    {
     "data": {
      "text/html": [
       "<div>\n",
       "<style scoped>\n",
       "    .dataframe tbody tr th:only-of-type {\n",
       "        vertical-align: middle;\n",
       "    }\n",
       "\n",
       "    .dataframe tbody tr th {\n",
       "        vertical-align: top;\n",
       "    }\n",
       "\n",
       "    .dataframe thead th {\n",
       "        text-align: right;\n",
       "    }\n",
       "</style>\n",
       "<table border=\"1\" class=\"dataframe\">\n",
       "  <thead>\n",
       "    <tr style=\"text-align: right;\">\n",
       "      <th></th>\n",
       "      <th>Dataset</th>\n",
       "      <th>Approach</th>\n",
       "      <th>Mean regret</th>\n",
       "      <th>p-value</th>\n",
       "      <th>win count</th>\n",
       "      <th>Mean Exploration</th>\n",
       "      <th>p-value (exploration)</th>\n",
       "    </tr>\n",
       "  </thead>\n",
       "  <tbody>\n",
       "    <tr>\n",
       "      <th>0</th>\n",
       "      <td>MNIST binary</td>\n",
       "      <td>Neural-CBP</td>\n",
       "      <td>1351.92</td>\n",
       "      <td>1.0</td>\n",
       "      <td>14.0</td>\n",
       "      <td>638.32</td>\n",
       "      <td>1.0</td>\n",
       "    </tr>\n",
       "    <tr>\n",
       "      <th>1</th>\n",
       "      <td>MNIST binary</td>\n",
       "      <td>IneurAL (official)</td>\n",
       "      <td>1781.44</td>\n",
       "      <td>0.004</td>\n",
       "      <td>0.0</td>\n",
       "      <td>1289.56</td>\n",
       "      <td>0.0</td>\n",
       "    </tr>\n",
       "    <tr>\n",
       "      <th>2</th>\n",
       "      <td>MNIST binary</td>\n",
       "      <td>IneurAL (tuned)</td>\n",
       "      <td>2066.52</td>\n",
       "      <td>0.015</td>\n",
       "      <td>2.0</td>\n",
       "      <td>579.2</td>\n",
       "      <td>0.298</td>\n",
       "    </tr>\n",
       "    <tr>\n",
       "      <th>3</th>\n",
       "      <td>MNIST binary</td>\n",
       "      <td>Neuronal (official)</td>\n",
       "      <td>1687.24</td>\n",
       "      <td>0.028</td>\n",
       "      <td>0.0</td>\n",
       "      <td>1293.56</td>\n",
       "      <td>0.0</td>\n",
       "    </tr>\n",
       "    <tr>\n",
       "      <th>4</th>\n",
       "      <td>MNIST binary</td>\n",
       "      <td>Neuronal (tuned)</td>\n",
       "      <td>1700.56</td>\n",
       "      <td>0.12</td>\n",
       "      <td>9.0</td>\n",
       "      <td>783.4</td>\n",
       "      <td>0.008</td>\n",
       "    </tr>\n",
       "    <tr>\n",
       "      <th>5</th>\n",
       "      <td>MNIST binary</td>\n",
       "      <td>Cesa</td>\n",
       "      <td>2627.52</td>\n",
       "      <td>0.0</td>\n",
       "      <td>0.0</td>\n",
       "      <td>303.28</td>\n",
       "      <td>0.0</td>\n",
       "    </tr>\n",
       "    <tr>\n",
       "      <th>6</th>\n",
       "      <td>MNIST binary</td>\n",
       "      <td>Margin</td>\n",
       "      <td>3169.6</td>\n",
       "      <td>0.0</td>\n",
       "      <td>0.0</td>\n",
       "      <td>100.28</td>\n",
       "      <td>0.0</td>\n",
       "    </tr>\n",
       "    <tr>\n",
       "      <th>7</th>\n",
       "      <td>MagicTelescope</td>\n",
       "      <td>Neural-CBP</td>\n",
       "      <td>3370.36</td>\n",
       "      <td>1.0</td>\n",
       "      <td>17.0</td>\n",
       "      <td>496.68</td>\n",
       "      <td>1.0</td>\n",
       "    </tr>\n",
       "    <tr>\n",
       "      <th>8</th>\n",
       "      <td>MagicTelescope</td>\n",
       "      <td>IneurAL (official)</td>\n",
       "      <td>7495.04</td>\n",
       "      <td>0.0</td>\n",
       "      <td>0.0</td>\n",
       "      <td>6613.28</td>\n",
       "      <td>0.0</td>\n",
       "    </tr>\n",
       "    <tr>\n",
       "      <th>9</th>\n",
       "      <td>MagicTelescope</td>\n",
       "      <td>IneurAL (tuned)</td>\n",
       "      <td>5085.36</td>\n",
       "      <td>0.0</td>\n",
       "      <td>0.0</td>\n",
       "      <td>3340.4</td>\n",
       "      <td>0.0</td>\n",
       "    </tr>\n",
       "    <tr>\n",
       "      <th>10</th>\n",
       "      <td>MagicTelescope</td>\n",
       "      <td>Neuronal (official)</td>\n",
       "      <td>4591.4</td>\n",
       "      <td>0.002</td>\n",
       "      <td>0.0</td>\n",
       "      <td>1.0</td>\n",
       "      <td>0.0</td>\n",
       "    </tr>\n",
       "    <tr>\n",
       "      <th>11</th>\n",
       "      <td>MagicTelescope</td>\n",
       "      <td>Neuronal (tuned)</td>\n",
       "      <td>4472.4</td>\n",
       "      <td>0.005</td>\n",
       "      <td>0.0</td>\n",
       "      <td>1.0</td>\n",
       "      <td>0.0</td>\n",
       "    </tr>\n",
       "    <tr>\n",
       "      <th>12</th>\n",
       "      <td>MagicTelescope</td>\n",
       "      <td>Cesa</td>\n",
       "      <td>3245.64</td>\n",
       "      <td>0.623</td>\n",
       "      <td>4.0</td>\n",
       "      <td>328.76</td>\n",
       "      <td>0.033</td>\n",
       "    </tr>\n",
       "    <tr>\n",
       "      <th>13</th>\n",
       "      <td>MagicTelescope</td>\n",
       "      <td>Margin</td>\n",
       "      <td>3574.12</td>\n",
       "      <td>0.483</td>\n",
       "      <td>4.0</td>\n",
       "      <td>58.04</td>\n",
       "      <td>0.0</td>\n",
       "    </tr>\n",
       "    <tr>\n",
       "      <th>14</th>\n",
       "      <td>adult</td>\n",
       "      <td>Neural-CBP</td>\n",
       "      <td>2968.88</td>\n",
       "      <td>1.0</td>\n",
       "      <td>10.0</td>\n",
       "      <td>127.64</td>\n",
       "      <td>1.0</td>\n",
       "    </tr>\n",
       "    <tr>\n",
       "      <th>15</th>\n",
       "      <td>adult</td>\n",
       "      <td>IneurAL (official)</td>\n",
       "      <td>7477.92</td>\n",
       "      <td>0.0</td>\n",
       "      <td>0.0</td>\n",
       "      <td>5645.0</td>\n",
       "      <td>0.0</td>\n",
       "    </tr>\n",
       "    <tr>\n",
       "      <th>16</th>\n",
       "      <td>adult</td>\n",
       "      <td>IneurAL (tuned)</td>\n",
       "      <td>3729.16</td>\n",
       "      <td>0.135</td>\n",
       "      <td>4.0</td>\n",
       "      <td>598.12</td>\n",
       "      <td>0.021</td>\n",
       "    </tr>\n",
       "    <tr>\n",
       "      <th>17</th>\n",
       "      <td>adult</td>\n",
       "      <td>Neuronal (official)</td>\n",
       "      <td>4072.84</td>\n",
       "      <td>0.065</td>\n",
       "      <td>0.0</td>\n",
       "      <td>1.0</td>\n",
       "      <td>0.0</td>\n",
       "    </tr>\n",
       "    <tr>\n",
       "      <th>18</th>\n",
       "      <td>adult</td>\n",
       "      <td>Neuronal (tuned)</td>\n",
       "      <td>3441.96</td>\n",
       "      <td>0.369</td>\n",
       "      <td>2.0</td>\n",
       "      <td>1.0</td>\n",
       "      <td>0.0</td>\n",
       "    </tr>\n",
       "    <tr>\n",
       "      <th>19</th>\n",
       "      <td>adult</td>\n",
       "      <td>Cesa</td>\n",
       "      <td>3180.0</td>\n",
       "      <td>0.643</td>\n",
       "      <td>2.0</td>\n",
       "      <td>320.12</td>\n",
       "      <td>0.001</td>\n",
       "    </tr>\n",
       "    <tr>\n",
       "      <th>20</th>\n",
       "      <td>adult</td>\n",
       "      <td>Margin</td>\n",
       "      <td>3166.56</td>\n",
       "      <td>0.682</td>\n",
       "      <td>8.0</td>\n",
       "      <td>19.92</td>\n",
       "      <td>0.0</td>\n",
       "    </tr>\n",
       "  </tbody>\n",
       "</table>\n",
       "</div>"
      ],
      "text/plain": [
       "           Dataset             Approach Mean regret p-value win count  \\\n",
       "0     MNIST binary           Neural-CBP     1351.92     1.0      14.0   \n",
       "1     MNIST binary   IneurAL (official)     1781.44   0.004       0.0   \n",
       "2     MNIST binary      IneurAL (tuned)     2066.52   0.015       2.0   \n",
       "3     MNIST binary  Neuronal (official)     1687.24   0.028       0.0   \n",
       "4     MNIST binary     Neuronal (tuned)     1700.56    0.12       9.0   \n",
       "5     MNIST binary                 Cesa     2627.52     0.0       0.0   \n",
       "6     MNIST binary               Margin      3169.6     0.0       0.0   \n",
       "7   MagicTelescope           Neural-CBP     3370.36     1.0      17.0   \n",
       "8   MagicTelescope   IneurAL (official)     7495.04     0.0       0.0   \n",
       "9   MagicTelescope      IneurAL (tuned)     5085.36     0.0       0.0   \n",
       "10  MagicTelescope  Neuronal (official)      4591.4   0.002       0.0   \n",
       "11  MagicTelescope     Neuronal (tuned)      4472.4   0.005       0.0   \n",
       "12  MagicTelescope                 Cesa     3245.64   0.623       4.0   \n",
       "13  MagicTelescope               Margin     3574.12   0.483       4.0   \n",
       "14           adult           Neural-CBP     2968.88     1.0      10.0   \n",
       "15           adult   IneurAL (official)     7477.92     0.0       0.0   \n",
       "16           adult      IneurAL (tuned)     3729.16   0.135       4.0   \n",
       "17           adult  Neuronal (official)     4072.84   0.065       0.0   \n",
       "18           adult     Neuronal (tuned)     3441.96   0.369       2.0   \n",
       "19           adult                 Cesa      3180.0   0.643       2.0   \n",
       "20           adult               Margin     3166.56   0.682       8.0   \n",
       "\n",
       "   Mean Exploration p-value (exploration)  \n",
       "0            638.32                   1.0  \n",
       "1           1289.56                   0.0  \n",
       "2             579.2                 0.298  \n",
       "3           1293.56                   0.0  \n",
       "4             783.4                 0.008  \n",
       "5            303.28                   0.0  \n",
       "6            100.28                   0.0  \n",
       "7            496.68                   1.0  \n",
       "8           6613.28                   0.0  \n",
       "9            3340.4                   0.0  \n",
       "10              1.0                   0.0  \n",
       "11              1.0                   0.0  \n",
       "12           328.76                 0.033  \n",
       "13            58.04                   0.0  \n",
       "14           127.64                   1.0  \n",
       "15           5645.0                   0.0  \n",
       "16           598.12                 0.021  \n",
       "17              1.0                   0.0  \n",
       "18              1.0                   0.0  \n",
       "19           320.12                 0.001  \n",
       "20            19.92                   0.0  "
      ]
     },
     "execution_count": 34,
     "metadata": {},
     "output_type": "execute_result"
    }
   ],
   "source": [
    "dataframe"
   ]
  },
  {
   "cell_type": "code",
   "execution_count": 33,
   "metadata": {},
   "outputs": [
    {
     "name": "stdout",
     "output_type": "stream",
     "text": [
      "MLPNeural-CBP\n",
      "MLPIneurAL (official)\n",
      "MLPIneurAL (tuned)\n",
      "MLPNeuronal (official)\n",
      "MLPNeuronal (tuned)\n",
      "MLPMargin\n",
      "MLPCesa\n",
      "['MLPMNIST binary' 'MLPMagicTelescope' 'MLPadult']\n"
     ]
    },
    {
     "data": {
      "application/vnd.plotly.v1+json": {
       "config": {
        "plotlyServerURL": "https://plot.ly"
       },
       "data": [
        {
         "error_y": {
          "array": [
           63.256916746073976,
           619.7547621787908,
           777.3723449773266
          ],
          "thickness": 1,
          "type": "data",
          "visible": true
         },
         "marker": {
          "color": "rgba(171,99,250,1)",
          "pattern": {
           "fgcolor": "black",
           "shape": "x"
          }
         },
         "name": "Neural-CBP",
         "showlegend": true,
         "type": "bar",
         "x": [
          "MLPMNIST binary",
          "MLPMagicTelescope",
          "MLPadult"
         ],
         "y": [
          1351.9200439453125,
          3370.360107421875,
          2968.8798828125
         ]
        },
        {
         "error_y": {
          "array": [
           347.04090490206903,
           246.8233926445147,
           759.2294480607427
          ],
          "thickness": 1,
          "type": "data",
          "visible": true
         },
         "marker": {
          "color": "rgba(255,161,90,1)"
         },
         "name": "IneurAL (official)",
         "showlegend": true,
         "type": "bar",
         "x": [
          "MLPMNIST binary",
          "MLPMagicTelescope",
          "MLPadult"
         ],
         "y": [
          1781.43994140625,
          7495.0400390625,
          7477.919921875
         ]
        },
        {
         "error_y": {
          "array": [
           699.4463038492976,
           300.2941686869664,
           1025.7646844442631
          ],
          "thickness": 1,
          "type": "data",
          "visible": true
         },
         "marker": {
          "color": "rgba(25,211,243,1)"
         },
         "name": "IneurAL (tuned)",
         "showlegend": true,
         "type": "bar",
         "x": [
          "MLPMNIST binary",
          "MLPMagicTelescope",
          "MLPadult"
         ],
         "y": [
          2066.52001953125,
          5085.35986328125,
          3729.159912109375
         ]
        },
        {
         "error_y": {
          "array": [
           364.52303216838163,
           753.6369508557464,
           1277.9531991388205
          ],
          "thickness": 1,
          "type": "data",
          "visible": true
         },
         "marker": {
          "color": "rgba(255,102,146,1)"
         },
         "name": "Neuronal (official)",
         "showlegend": true,
         "type": "bar",
         "x": [
          "MLPMNIST binary",
          "MLPMagicTelescope",
          "MLPadult"
         ],
         "y": [
          1687.239990234375,
          4591.39990234375,
          4072.840087890625
         ]
        },
        {
         "error_y": {
          "array": [
           553.3450286656181,
           728.2865450594018,
           1092.866934686104
          ],
          "thickness": 1,
          "type": "data",
          "visible": true
         },
         "marker": {
          "color": "rgba(182,232,128,1)"
         },
         "name": "Neuronal (tuned)",
         "showlegend": true,
         "type": "bar",
         "x": [
          "MLPMNIST binary",
          "MLPMagicTelescope",
          "MLPadult"
         ],
         "y": [
          1700.56005859375,
          4472.39990234375,
          3441.9599609375
         ]
        },
        {
         "error_y": {
          "array": [
           767.6284780515464,
           407.4982675086949,
           962.0248046324207
          ],
          "thickness": 1,
          "type": "data",
          "visible": true
         },
         "marker": {
          "color": "rgba(255,151,255,1)"
         },
         "name": "Margin",
         "showlegend": true,
         "type": "bar",
         "x": [
          "MLPMNIST binary",
          "MLPMagicTelescope",
          "MLPadult"
         ],
         "y": [
          3169.60009765625,
          3574.1201171875,
          3166.56005859375
         ]
        },
        {
         "error_y": {
          "array": [
           538.5544352008164,
           182.7159469334015,
           866.7761532114273
          ],
          "thickness": 1,
          "type": "data",
          "visible": true
         },
         "marker": {
          "color": "rgba(254,203,82,1)"
         },
         "name": "Cesa",
         "showlegend": true,
         "type": "bar",
         "x": [
          "MLPMNIST binary",
          "MLPMagicTelescope",
          "MLPadult"
         ],
         "y": [
          2627.52001953125,
          3245.639892578125,
          3180
         ]
        }
       ],
       "layout": {
        "barmode": "group",
        "height": 180,
        "margin": {
         "b": 0,
         "l": 0,
         "r": 1,
         "t": 0
        },
        "paper_bgcolor": "white",
        "plot_bgcolor": "white",
        "shapes": [
         {
          "line": {
           "color": "black",
           "dash": "dot",
           "width": 2
          },
          "type": "line",
          "x0": 0.5,
          "x1": 0.5,
          "xref": "x",
          "y0": 0,
          "y1": 1,
          "yref": "y domain"
         },
         {
          "line": {
           "color": "black",
           "dash": "dot",
           "width": 2
          },
          "type": "line",
          "x0": 1.5,
          "x1": 1.5,
          "xref": "x",
          "y0": 0,
          "y1": 1,
          "yref": "y domain"
         }
        ],
        "showlegend": false,
        "template": {
         "data": {
          "bar": [
           {
            "error_x": {
             "color": "#2a3f5f"
            },
            "error_y": {
             "color": "#2a3f5f"
            },
            "marker": {
             "line": {
              "color": "#E5ECF6",
              "width": 0.5
             },
             "pattern": {
              "fillmode": "overlay",
              "size": 10,
              "solidity": 0.2
             }
            },
            "type": "bar"
           }
          ],
          "barpolar": [
           {
            "marker": {
             "line": {
              "color": "#E5ECF6",
              "width": 0.5
             },
             "pattern": {
              "fillmode": "overlay",
              "size": 10,
              "solidity": 0.2
             }
            },
            "type": "barpolar"
           }
          ],
          "carpet": [
           {
            "aaxis": {
             "endlinecolor": "#2a3f5f",
             "gridcolor": "white",
             "linecolor": "white",
             "minorgridcolor": "white",
             "startlinecolor": "#2a3f5f"
            },
            "baxis": {
             "endlinecolor": "#2a3f5f",
             "gridcolor": "white",
             "linecolor": "white",
             "minorgridcolor": "white",
             "startlinecolor": "#2a3f5f"
            },
            "type": "carpet"
           }
          ],
          "choropleth": [
           {
            "colorbar": {
             "outlinewidth": 0,
             "ticks": ""
            },
            "type": "choropleth"
           }
          ],
          "contour": [
           {
            "colorbar": {
             "outlinewidth": 0,
             "ticks": ""
            },
            "colorscale": [
             [
              0,
              "#0d0887"
             ],
             [
              0.1111111111111111,
              "#46039f"
             ],
             [
              0.2222222222222222,
              "#7201a8"
             ],
             [
              0.3333333333333333,
              "#9c179e"
             ],
             [
              0.4444444444444444,
              "#bd3786"
             ],
             [
              0.5555555555555556,
              "#d8576b"
             ],
             [
              0.6666666666666666,
              "#ed7953"
             ],
             [
              0.7777777777777778,
              "#fb9f3a"
             ],
             [
              0.8888888888888888,
              "#fdca26"
             ],
             [
              1,
              "#f0f921"
             ]
            ],
            "type": "contour"
           }
          ],
          "contourcarpet": [
           {
            "colorbar": {
             "outlinewidth": 0,
             "ticks": ""
            },
            "type": "contourcarpet"
           }
          ],
          "heatmap": [
           {
            "colorbar": {
             "outlinewidth": 0,
             "ticks": ""
            },
            "colorscale": [
             [
              0,
              "#0d0887"
             ],
             [
              0.1111111111111111,
              "#46039f"
             ],
             [
              0.2222222222222222,
              "#7201a8"
             ],
             [
              0.3333333333333333,
              "#9c179e"
             ],
             [
              0.4444444444444444,
              "#bd3786"
             ],
             [
              0.5555555555555556,
              "#d8576b"
             ],
             [
              0.6666666666666666,
              "#ed7953"
             ],
             [
              0.7777777777777778,
              "#fb9f3a"
             ],
             [
              0.8888888888888888,
              "#fdca26"
             ],
             [
              1,
              "#f0f921"
             ]
            ],
            "type": "heatmap"
           }
          ],
          "heatmapgl": [
           {
            "colorbar": {
             "outlinewidth": 0,
             "ticks": ""
            },
            "colorscale": [
             [
              0,
              "#0d0887"
             ],
             [
              0.1111111111111111,
              "#46039f"
             ],
             [
              0.2222222222222222,
              "#7201a8"
             ],
             [
              0.3333333333333333,
              "#9c179e"
             ],
             [
              0.4444444444444444,
              "#bd3786"
             ],
             [
              0.5555555555555556,
              "#d8576b"
             ],
             [
              0.6666666666666666,
              "#ed7953"
             ],
             [
              0.7777777777777778,
              "#fb9f3a"
             ],
             [
              0.8888888888888888,
              "#fdca26"
             ],
             [
              1,
              "#f0f921"
             ]
            ],
            "type": "heatmapgl"
           }
          ],
          "histogram": [
           {
            "marker": {
             "pattern": {
              "fillmode": "overlay",
              "size": 10,
              "solidity": 0.2
             }
            },
            "type": "histogram"
           }
          ],
          "histogram2d": [
           {
            "colorbar": {
             "outlinewidth": 0,
             "ticks": ""
            },
            "colorscale": [
             [
              0,
              "#0d0887"
             ],
             [
              0.1111111111111111,
              "#46039f"
             ],
             [
              0.2222222222222222,
              "#7201a8"
             ],
             [
              0.3333333333333333,
              "#9c179e"
             ],
             [
              0.4444444444444444,
              "#bd3786"
             ],
             [
              0.5555555555555556,
              "#d8576b"
             ],
             [
              0.6666666666666666,
              "#ed7953"
             ],
             [
              0.7777777777777778,
              "#fb9f3a"
             ],
             [
              0.8888888888888888,
              "#fdca26"
             ],
             [
              1,
              "#f0f921"
             ]
            ],
            "type": "histogram2d"
           }
          ],
          "histogram2dcontour": [
           {
            "colorbar": {
             "outlinewidth": 0,
             "ticks": ""
            },
            "colorscale": [
             [
              0,
              "#0d0887"
             ],
             [
              0.1111111111111111,
              "#46039f"
             ],
             [
              0.2222222222222222,
              "#7201a8"
             ],
             [
              0.3333333333333333,
              "#9c179e"
             ],
             [
              0.4444444444444444,
              "#bd3786"
             ],
             [
              0.5555555555555556,
              "#d8576b"
             ],
             [
              0.6666666666666666,
              "#ed7953"
             ],
             [
              0.7777777777777778,
              "#fb9f3a"
             ],
             [
              0.8888888888888888,
              "#fdca26"
             ],
             [
              1,
              "#f0f921"
             ]
            ],
            "type": "histogram2dcontour"
           }
          ],
          "mesh3d": [
           {
            "colorbar": {
             "outlinewidth": 0,
             "ticks": ""
            },
            "type": "mesh3d"
           }
          ],
          "parcoords": [
           {
            "line": {
             "colorbar": {
              "outlinewidth": 0,
              "ticks": ""
             }
            },
            "type": "parcoords"
           }
          ],
          "pie": [
           {
            "automargin": true,
            "type": "pie"
           }
          ],
          "scatter": [
           {
            "fillpattern": {
             "fillmode": "overlay",
             "size": 10,
             "solidity": 0.2
            },
            "type": "scatter"
           }
          ],
          "scatter3d": [
           {
            "line": {
             "colorbar": {
              "outlinewidth": 0,
              "ticks": ""
             }
            },
            "marker": {
             "colorbar": {
              "outlinewidth": 0,
              "ticks": ""
             }
            },
            "type": "scatter3d"
           }
          ],
          "scattercarpet": [
           {
            "marker": {
             "colorbar": {
              "outlinewidth": 0,
              "ticks": ""
             }
            },
            "type": "scattercarpet"
           }
          ],
          "scattergeo": [
           {
            "marker": {
             "colorbar": {
              "outlinewidth": 0,
              "ticks": ""
             }
            },
            "type": "scattergeo"
           }
          ],
          "scattergl": [
           {
            "marker": {
             "colorbar": {
              "outlinewidth": 0,
              "ticks": ""
             }
            },
            "type": "scattergl"
           }
          ],
          "scattermapbox": [
           {
            "marker": {
             "colorbar": {
              "outlinewidth": 0,
              "ticks": ""
             }
            },
            "type": "scattermapbox"
           }
          ],
          "scatterpolar": [
           {
            "marker": {
             "colorbar": {
              "outlinewidth": 0,
              "ticks": ""
             }
            },
            "type": "scatterpolar"
           }
          ],
          "scatterpolargl": [
           {
            "marker": {
             "colorbar": {
              "outlinewidth": 0,
              "ticks": ""
             }
            },
            "type": "scatterpolargl"
           }
          ],
          "scatterternary": [
           {
            "marker": {
             "colorbar": {
              "outlinewidth": 0,
              "ticks": ""
             }
            },
            "type": "scatterternary"
           }
          ],
          "surface": [
           {
            "colorbar": {
             "outlinewidth": 0,
             "ticks": ""
            },
            "colorscale": [
             [
              0,
              "#0d0887"
             ],
             [
              0.1111111111111111,
              "#46039f"
             ],
             [
              0.2222222222222222,
              "#7201a8"
             ],
             [
              0.3333333333333333,
              "#9c179e"
             ],
             [
              0.4444444444444444,
              "#bd3786"
             ],
             [
              0.5555555555555556,
              "#d8576b"
             ],
             [
              0.6666666666666666,
              "#ed7953"
             ],
             [
              0.7777777777777778,
              "#fb9f3a"
             ],
             [
              0.8888888888888888,
              "#fdca26"
             ],
             [
              1,
              "#f0f921"
             ]
            ],
            "type": "surface"
           }
          ],
          "table": [
           {
            "cells": {
             "fill": {
              "color": "#EBF0F8"
             },
             "line": {
              "color": "white"
             }
            },
            "header": {
             "fill": {
              "color": "#C8D4E3"
             },
             "line": {
              "color": "white"
             }
            },
            "type": "table"
           }
          ]
         },
         "layout": {
          "annotationdefaults": {
           "arrowcolor": "#2a3f5f",
           "arrowhead": 0,
           "arrowwidth": 1
          },
          "autotypenumbers": "strict",
          "coloraxis": {
           "colorbar": {
            "outlinewidth": 0,
            "ticks": ""
           }
          },
          "colorscale": {
           "diverging": [
            [
             0,
             "#8e0152"
            ],
            [
             0.1,
             "#c51b7d"
            ],
            [
             0.2,
             "#de77ae"
            ],
            [
             0.3,
             "#f1b6da"
            ],
            [
             0.4,
             "#fde0ef"
            ],
            [
             0.5,
             "#f7f7f7"
            ],
            [
             0.6,
             "#e6f5d0"
            ],
            [
             0.7,
             "#b8e186"
            ],
            [
             0.8,
             "#7fbc41"
            ],
            [
             0.9,
             "#4d9221"
            ],
            [
             1,
             "#276419"
            ]
           ],
           "sequential": [
            [
             0,
             "#0d0887"
            ],
            [
             0.1111111111111111,
             "#46039f"
            ],
            [
             0.2222222222222222,
             "#7201a8"
            ],
            [
             0.3333333333333333,
             "#9c179e"
            ],
            [
             0.4444444444444444,
             "#bd3786"
            ],
            [
             0.5555555555555556,
             "#d8576b"
            ],
            [
             0.6666666666666666,
             "#ed7953"
            ],
            [
             0.7777777777777778,
             "#fb9f3a"
            ],
            [
             0.8888888888888888,
             "#fdca26"
            ],
            [
             1,
             "#f0f921"
            ]
           ],
           "sequentialminus": [
            [
             0,
             "#0d0887"
            ],
            [
             0.1111111111111111,
             "#46039f"
            ],
            [
             0.2222222222222222,
             "#7201a8"
            ],
            [
             0.3333333333333333,
             "#9c179e"
            ],
            [
             0.4444444444444444,
             "#bd3786"
            ],
            [
             0.5555555555555556,
             "#d8576b"
            ],
            [
             0.6666666666666666,
             "#ed7953"
            ],
            [
             0.7777777777777778,
             "#fb9f3a"
            ],
            [
             0.8888888888888888,
             "#fdca26"
            ],
            [
             1,
             "#f0f921"
            ]
           ]
          },
          "colorway": [
           "#636efa",
           "#EF553B",
           "#00cc96",
           "#ab63fa",
           "#FFA15A",
           "#19d3f3",
           "#FF6692",
           "#B6E880",
           "#FF97FF",
           "#FECB52"
          ],
          "font": {
           "color": "#2a3f5f"
          },
          "geo": {
           "bgcolor": "white",
           "lakecolor": "white",
           "landcolor": "#E5ECF6",
           "showlakes": true,
           "showland": true,
           "subunitcolor": "white"
          },
          "hoverlabel": {
           "align": "left"
          },
          "hovermode": "closest",
          "mapbox": {
           "style": "light"
          },
          "paper_bgcolor": "white",
          "plot_bgcolor": "#E5ECF6",
          "polar": {
           "angularaxis": {
            "gridcolor": "white",
            "linecolor": "white",
            "ticks": ""
           },
           "bgcolor": "#E5ECF6",
           "radialaxis": {
            "gridcolor": "white",
            "linecolor": "white",
            "ticks": ""
           }
          },
          "scene": {
           "xaxis": {
            "backgroundcolor": "#E5ECF6",
            "gridcolor": "white",
            "gridwidth": 2,
            "linecolor": "white",
            "showbackground": true,
            "ticks": "",
            "zerolinecolor": "white"
           },
           "yaxis": {
            "backgroundcolor": "#E5ECF6",
            "gridcolor": "white",
            "gridwidth": 2,
            "linecolor": "white",
            "showbackground": true,
            "ticks": "",
            "zerolinecolor": "white"
           },
           "zaxis": {
            "backgroundcolor": "#E5ECF6",
            "gridcolor": "white",
            "gridwidth": 2,
            "linecolor": "white",
            "showbackground": true,
            "ticks": "",
            "zerolinecolor": "white"
           }
          },
          "shapedefaults": {
           "line": {
            "color": "#2a3f5f"
           }
          },
          "ternary": {
           "aaxis": {
            "gridcolor": "white",
            "linecolor": "white",
            "ticks": ""
           },
           "baxis": {
            "gridcolor": "white",
            "linecolor": "white",
            "ticks": ""
           },
           "bgcolor": "#E5ECF6",
           "caxis": {
            "gridcolor": "white",
            "linecolor": "white",
            "ticks": ""
           }
          },
          "title": {
           "x": 0.05
          },
          "xaxis": {
           "automargin": true,
           "gridcolor": "white",
           "linecolor": "white",
           "ticks": "",
           "title": {
            "standoff": 15
           },
           "zerolinecolor": "white",
           "zerolinewidth": 2
          },
          "yaxis": {
           "automargin": true,
           "gridcolor": "white",
           "linecolor": "white",
           "ticks": "",
           "title": {
            "standoff": 15
           },
           "zerolinecolor": "white",
           "zerolinewidth": 2
          }
         }
        },
        "width": 440,
        "xaxis": {
         "tickfont": {
          "size": 11
         },
         "tickmode": "array",
         "ticktext": [
          "MNIST binary",
          "MagicTelescope",
          "adult"
         ],
         "tickvals": [
          "MLPMNIST binary",
          "MLPMagicTelescope",
          "MLPadult"
         ]
        },
        "yaxis": {
         "gridcolor": "lightgrey",
         "tickfont": {
          "size": 10
         },
         "tickmode": "array",
         "ticktext": [
          "1k",
          "2k",
          "3k",
          "4k",
          "5k",
          "7k",
          "9k"
         ],
         "tickvals": [
          1000,
          2000,
          3000,
          4000,
          5000,
          7000,
          9000
         ],
         "title": {
          "font": {
           "size": 13
          },
          "standoff": 5,
          "text": "Final regret ± 99% CI"
         }
        }
       }
      }
     },
     "metadata": {},
     "output_type": "display_data"
    }
   ],
   "source": [
    "import pandas as pd\n",
    "import plotly.graph_objects as go\n",
    "import numpy as np\n",
    "import plotly.express as px\n",
    "# Assuming df is your DataFrame and it has columns 'Dataset', 'Value', 'Model'\n",
    "\n",
    "w = 0.1\n",
    "def remove_substrings(s, substrings):\n",
    "    for substring in substrings:\n",
    "        s = s.replace(substring, '')\n",
    "    return s\n",
    "\n",
    "\n",
    "approaches = {\n",
    "    #'EEneuralcbpside_v5': {'color': [255, 255, 0], 'label': 'EEneuralcbpside_v5'},  # Red\n",
    "    'MLPNeural-CBP': {'color': [171, 99, 250], 'label': 'Neural-CBP'},  # Red\n",
    "    'MLPIneurAL (official)': {'color': [255, 161, 90], 'label':'IneurAL (official)'},                    # Yellow\n",
    "    'MLPIneurAL (tuned)': {'color': [25, 211, 243], 'label':'IneurAL (tuned)'},                    # Cyan\n",
    "    'MLPNeuronal (official)': {'color': [255, 102, 146], 'label':'Neuronal (official)'},                  # Magenta\n",
    "    'MLPNeuronal (tuned)': {'color': [182, 232, 128], 'label':'Neuronal (tuned)'},                   # Orange\n",
    "    'MLPMargin': {'color': [255, 151, 255], 'label':'Margin'},\n",
    "    'MLPCesa': {'color': [254, 203, 82], 'label':'Cesa'},\n",
    "}\n",
    "\n",
    "\n",
    "# Create an empty figure\n",
    "fig = go.Figure()\n",
    "\n",
    "\n",
    "views = []\n",
    "for appr in approaches.keys():\n",
    "    print(appr)\n",
    "    appr_name = approaches[appr]['label']\n",
    "    r,g,b = approaches[appr]['color']\n",
    "\n",
    "    subset = result[result['merge'] == appr]\n",
    "    dec = False\n",
    "    if appr_name not in views:\n",
    "        dec = True\n",
    "        views.append(appr_name)\n",
    "    \n",
    "\n",
    "    if 'CBP' in appr_name:\n",
    "        fig.add_trace(go.Bar(\n",
    "            x=subset['merge2'],\n",
    "            y=subset['Mean'],\n",
    "            name=appr_name,\n",
    "            error_y=dict(type='data', array=subset['StdError'], visible=True,thickness=1 ),\n",
    "            marker_color='rgba({},{},{},1)'.format(r,g,b),marker_pattern_shape='x',marker_pattern_fgcolor='black', \n",
    "            showlegend = dec,\n",
    "            # width=w\n",
    "            ))\n",
    "    else: \n",
    "        fig.add_trace(go.Bar(\n",
    "            x=subset['merge2'],\n",
    "            y=subset['Mean'],\n",
    "            name=appr_name,\n",
    "            error_y=dict(type='data', array=subset['StdError'], visible=True,thickness=1 ),\n",
    "            marker_color='rgba({},{},{},1)'.format(r,g,b), \n",
    "            showlegend = dec,\n",
    "            # width=w\n",
    "            ))\n",
    "\n",
    "\n",
    "# Add vertical black lines between data groups\n",
    "\n",
    "datasets = result['merge2'].unique()\n",
    "print(datasets)\n",
    "for i, dataset in enumerate(datasets[:-1]):\n",
    "    if i == 2:\n",
    "        fig.add_vline(x=i + 0.5, line_width=2, line_color=\"black\")\n",
    "    else:\n",
    "        fig.add_vline(x=i + 0.5, line_width=2, line_color=\"black\",  line_dash=\"dot\")\n",
    "\n",
    "\n",
    "siz = 13\n",
    "\n",
    "def format_tick(val):\n",
    "    \"\"\" Custom function to format the tick labels. \"\"\"\n",
    "    return f'{int(val / 1000)}k' if val >= 1000 else str(val)\n",
    "\n",
    "\n",
    "fig.update_layout(\n",
    "    width=440,\n",
    "    height=180,\n",
    "    plot_bgcolor='white',  # Sets the plot background color\n",
    "    paper_bgcolor='white',  # Sets the overall figure background color\n",
    "    barmode='group',\n",
    "    margin=dict(l=0, r=1, t=0, b=0),  # Small margins\n",
    "    xaxis=dict(\n",
    "        tickmode='array',\n",
    "        tickvals=result['merge2'].unique(),\n",
    "        ticktext = [ remove_substrings(model, ['LeNet', 'MLP']) for model in result['merge2'].unique() ],\n",
    "        tickfont=dict(size=siz-2)  # Increase X-axis tick font size\n",
    "    ),\n",
    "\n",
    "    yaxis=dict(\n",
    "        # type=\"log\",\n",
    "        gridcolor='lightgrey',\n",
    "        title=\"Final regret ± 99% CI\",\n",
    "        title_standoff=5,\n",
    "        title_font=dict(size=siz),\n",
    "        tickfont=dict(size=siz-3) , # Increase Y-axis tick font size\n",
    "        tickmode='array',\n",
    "        tickvals=[1000, 2000, 3000, 4000, 5000, 7000, 9000 ],  # Specify the values where you want ticks\n",
    "        ticktext=[format_tick(val) for val in [1000, 2000, 3000, 4000, 5000, 7000, 9000]]  # Format those values\n",
    "    ),\n",
    "    showlegend=False\n",
    "\n",
    ")\n",
    "\n",
    "fig.show()\n",
    "fig.write_image(\"./figures/results_binary_MLP_grid.pdf\" )\n",
    "fig.write_image(\"./figures/results_binary_MLP_grid.pdf\" )"
   ]
  }
 ],
 "metadata": {
  "kernelspec": {
   "display_name": ".venv",
   "language": "python",
   "name": "python3"
  },
  "language_info": {
   "codemirror_mode": {
    "name": "ipython",
    "version": 3
   },
   "file_extension": ".py",
   "mimetype": "text/x-python",
   "name": "python",
   "nbconvert_exporter": "python",
   "pygments_lexer": "ipython3",
   "version": "3.8.16"
  },
  "orig_nbformat": 4
 },
 "nbformat": 4,
 "nbformat_minor": 2
}
