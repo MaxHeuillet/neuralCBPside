{
 "cells": [
  {
   "cell_type": "code",
   "execution_count": 1,
   "metadata": {},
   "outputs": [],
   "source": [
    "import os\n",
    "import numpy as np\n",
    "import plotly.graph_objects as go\n",
    "\n",
    "import gzip\n",
    "import pickle as pkl\n",
    "\n",
    "def loadall_results2(path, n_folds):\n",
    "    regret = []\n",
    "    history_actions = []\n",
    "    history_outcomes = []\n",
    "    perf = []\n",
    "    with gzip.open(  path ,'rb') as f:\n",
    "        for i in range(n_folds+1):\n",
    "            try:\n",
    "                data = pkl.load(f)\n",
    "            except EOFError:\n",
    "                break\n",
    "\n",
    "            if type(data) == dict:\n",
    "                regret.append( data['regret'] ) \n",
    "                history_actions.append( data['action_history'] )\n",
    "                history_outcomes.append( data['outcome_history'] ) \n",
    "                perf.append( data['pred'] ) \n",
    "\n",
    "    \n",
    "    return regret, history_actions, history_outcomes, perf"
   ]
  },
  {
   "cell_type": "code",
   "execution_count": 3,
   "metadata": {},
   "outputs": [],
   "source": [
    "n_folds = 1\n",
    "horizon = 9999\n",
    "context = 'MNISTbinary'\n",
    "model = 'MLP'\n",
    "case = 'case1'\n",
    "agent_name = 'EEneuralcbpside_v6' #ineural6, neuronal6\n",
    "\n",
    "direct = './results/'\n",
    "path = os.path.join(direct, '{}_{}_{}_{}_{}_{}.pkl.gz'.format(case,model,context,horizon,n_folds,agent_name) )\n",
    "regret, action_history,outcome_history, perf = loadall_results2(path, n_folds)\n"
   ]
  },
  {
   "cell_type": "code",
   "execution_count": 2,
   "metadata": {},
   "outputs": [
    {
     "name": "stdout",
     "output_type": "stream",
     "text": [
      "./results/case1_MLP_MNISTbinary_9999_25_EEneuralcbpside_v6.pkl.gz\n",
      "25\n",
      "m [[1, 'MNISTbinary', 'Neural-CBP'], [1, 'MNISTbinary', 'Neural-CBP'], [1, 'MNISTbinary', 'Neural-CBP'], [1, 'MNISTbinary', 'Neural-CBP'], [1, 'MNISTbinary', 'Neural-CBP'], [657, 'MNISTbinary', 'Neural-CBP'], [667, 'MNISTbinary', 'Neural-CBP'], [691, 'MNISTbinary', 'Neural-CBP'], [602, 'MNISTbinary', 'Neural-CBP'], [674, 'MNISTbinary', 'Neural-CBP'], [692, 'MNISTbinary', 'Neural-CBP'], [659, 'MNISTbinary', 'Neural-CBP'], [676, 'MNISTbinary', 'Neural-CBP'], [527, 'MNISTbinary', 'Neural-CBP'], [665, 'MNISTbinary', 'Neural-CBP'], [790, 'MNISTbinary', 'Neural-CBP'], [753, 'MNISTbinary', 'Neural-CBP'], [669, 'MNISTbinary', 'Neural-CBP'], [765, 'MNISTbinary', 'Neural-CBP'], [826, 'MNISTbinary', 'Neural-CBP'], [649, 'MNISTbinary', 'Neural-CBP'], [725, 'MNISTbinary', 'Neural-CBP'], [780, 'MNISTbinary', 'Neural-CBP'], [705, 'MNISTbinary', 'Neural-CBP'], [764, 'MNISTbinary', 'Neural-CBP']]\n",
      "./results/case1_MLP_MNISTbinary_9999_25_ineural6.pkl.gz\n",
      "25\n",
      "m [[1061, 'MNISTbinary', 'IneurAL (official)'], [1126, 'MNISTbinary', 'IneurAL (official)'], [1238, 'MNISTbinary', 'IneurAL (official)'], [1184, 'MNISTbinary', 'IneurAL (official)'], [958, 'MNISTbinary', 'IneurAL (official)'], [1322, 'MNISTbinary', 'IneurAL (official)'], [1115, 'MNISTbinary', 'IneurAL (official)'], [1124, 'MNISTbinary', 'IneurAL (official)'], [1182, 'MNISTbinary', 'IneurAL (official)'], [1162, 'MNISTbinary', 'IneurAL (official)'], [1095, 'MNISTbinary', 'IneurAL (official)'], [1183, 'MNISTbinary', 'IneurAL (official)'], [1201, 'MNISTbinary', 'IneurAL (official)'], [918, 'MNISTbinary', 'IneurAL (official)'], [1043, 'MNISTbinary', 'IneurAL (official)'], [1095, 'MNISTbinary', 'IneurAL (official)'], [1047, 'MNISTbinary', 'IneurAL (official)'], [1251, 'MNISTbinary', 'IneurAL (official)'], [1157, 'MNISTbinary', 'IneurAL (official)'], [1122, 'MNISTbinary', 'IneurAL (official)'], [1157, 'MNISTbinary', 'IneurAL (official)'], [1185, 'MNISTbinary', 'IneurAL (official)'], [1167, 'MNISTbinary', 'IneurAL (official)'], [1117, 'MNISTbinary', 'IneurAL (official)'], [1235, 'MNISTbinary', 'IneurAL (official)']]\n",
      "./results/case1_MLP_MNISTbinary_9999_25_ineural3.pkl.gz\n",
      "25\n",
      "m [[596, 'MNISTbinary', 'IneurAL (tuned)'], [631, 'MNISTbinary', 'IneurAL (tuned)'], [610, 'MNISTbinary', 'IneurAL (tuned)'], [582, 'MNISTbinary', 'IneurAL (tuned)'], [624, 'MNISTbinary', 'IneurAL (tuned)'], [648, 'MNISTbinary', 'IneurAL (tuned)'], [33, 'MNISTbinary', 'IneurAL (tuned)'], [611, 'MNISTbinary', 'IneurAL (tuned)'], [606, 'MNISTbinary', 'IneurAL (tuned)'], [604, 'MNISTbinary', 'IneurAL (tuned)'], [609, 'MNISTbinary', 'IneurAL (tuned)'], [607, 'MNISTbinary', 'IneurAL (tuned)'], [660, 'MNISTbinary', 'IneurAL (tuned)'], [623, 'MNISTbinary', 'IneurAL (tuned)'], [3, 'MNISTbinary', 'IneurAL (tuned)'], [622, 'MNISTbinary', 'IneurAL (tuned)'], [378, 'MNISTbinary', 'IneurAL (tuned)'], [590, 'MNISTbinary', 'IneurAL (tuned)'], [665, 'MNISTbinary', 'IneurAL (tuned)'], [581, 'MNISTbinary', 'IneurAL (tuned)'], [290, 'MNISTbinary', 'IneurAL (tuned)'], [632, 'MNISTbinary', 'IneurAL (tuned)'], [617, 'MNISTbinary', 'IneurAL (tuned)'], [623, 'MNISTbinary', 'IneurAL (tuned)'], [616, 'MNISTbinary', 'IneurAL (tuned)']]\n",
      "./results/case1_MLP_MNISTbinary_9999_25_neuronal6.pkl.gz\n",
      "25\n",
      "m [[954, 'MNISTbinary', 'Neuronal (official)'], [1042, 'MNISTbinary', 'Neuronal (official)'], [1092, 'MNISTbinary', 'Neuronal (official)'], [1070, 'MNISTbinary', 'Neuronal (official)'], [1061, 'MNISTbinary', 'Neuronal (official)'], [1113, 'MNISTbinary', 'Neuronal (official)'], [1069, 'MNISTbinary', 'Neuronal (official)'], [1123, 'MNISTbinary', 'Neuronal (official)'], [1119, 'MNISTbinary', 'Neuronal (official)'], [1071, 'MNISTbinary', 'Neuronal (official)'], [1118, 'MNISTbinary', 'Neuronal (official)'], [1150, 'MNISTbinary', 'Neuronal (official)'], [1157, 'MNISTbinary', 'Neuronal (official)'], [998, 'MNISTbinary', 'Neuronal (official)'], [1032, 'MNISTbinary', 'Neuronal (official)'], [1030, 'MNISTbinary', 'Neuronal (official)'], [1057, 'MNISTbinary', 'Neuronal (official)'], [1063, 'MNISTbinary', 'Neuronal (official)'], [1051, 'MNISTbinary', 'Neuronal (official)'], [1043, 'MNISTbinary', 'Neuronal (official)'], [1062, 'MNISTbinary', 'Neuronal (official)'], [1128, 'MNISTbinary', 'Neuronal (official)'], [1105, 'MNISTbinary', 'Neuronal (official)'], [1167, 'MNISTbinary', 'Neuronal (official)'], [1153, 'MNISTbinary', 'Neuronal (official)']]\n",
      "./results/case1_MLP_MNISTbinary_9999_25_neuronal3.pkl.gz\n",
      "25\n",
      "m [[665, 'MNISTbinary', 'Neuronal (tuned)'], [650, 'MNISTbinary', 'Neuronal (tuned)'], [710, 'MNISTbinary', 'Neuronal (tuned)'], [643, 'MNISTbinary', 'Neuronal (tuned)'], [643, 'MNISTbinary', 'Neuronal (tuned)'], [689, 'MNISTbinary', 'Neuronal (tuned)'], [665, 'MNISTbinary', 'Neuronal (tuned)'], [667, 'MNISTbinary', 'Neuronal (tuned)'], [688, 'MNISTbinary', 'Neuronal (tuned)'], [688, 'MNISTbinary', 'Neuronal (tuned)'], [689, 'MNISTbinary', 'Neuronal (tuned)'], [631, 'MNISTbinary', 'Neuronal (tuned)'], [653, 'MNISTbinary', 'Neuronal (tuned)'], [676, 'MNISTbinary', 'Neuronal (tuned)'], [678, 'MNISTbinary', 'Neuronal (tuned)'], [639, 'MNISTbinary', 'Neuronal (tuned)'], [647, 'MNISTbinary', 'Neuronal (tuned)'], [700, 'MNISTbinary', 'Neuronal (tuned)'], [740, 'MNISTbinary', 'Neuronal (tuned)'], [621, 'MNISTbinary', 'Neuronal (tuned)'], [690, 'MNISTbinary', 'Neuronal (tuned)'], [723, 'MNISTbinary', 'Neuronal (tuned)'], [663, 'MNISTbinary', 'Neuronal (tuned)'], [713, 'MNISTbinary', 'Neuronal (tuned)'], [629, 'MNISTbinary', 'Neuronal (tuned)']]\n",
      "./results/case1_MLP_MNISTbinary_9999_25_margin.pkl.gz\n",
      "25\n",
      "m [[164, 'MNISTbinary', 'Margin'], [168, 'MNISTbinary', 'Margin'], [151, 'MNISTbinary', 'Margin'], [11, 'MNISTbinary', 'Margin'], [164, 'MNISTbinary', 'Margin'], [191, 'MNISTbinary', 'Margin'], [132, 'MNISTbinary', 'Margin'], [144, 'MNISTbinary', 'Margin'], [3, 'MNISTbinary', 'Margin'], [145, 'MNISTbinary', 'Margin'], [153, 'MNISTbinary', 'Margin'], [162, 'MNISTbinary', 'Margin'], [5, 'MNISTbinary', 'Margin'], [156, 'MNISTbinary', 'Margin'], [154, 'MNISTbinary', 'Margin'], [151, 'MNISTbinary', 'Margin'], [144, 'MNISTbinary', 'Margin'], [142, 'MNISTbinary', 'Margin'], [162, 'MNISTbinary', 'Margin'], [122, 'MNISTbinary', 'Margin'], [140, 'MNISTbinary', 'Margin'], [153, 'MNISTbinary', 'Margin'], [163, 'MNISTbinary', 'Margin'], [153, 'MNISTbinary', 'Margin'], [136, 'MNISTbinary', 'Margin']]\n",
      "./results/case1_MLP_MNISTbinary_9999_25_cesa.pkl.gz\n",
      "25\n",
      "m [[372, 'MNISTbinary', 'Cesa'], [380, 'MNISTbinary', 'Cesa'], [335, 'MNISTbinary', 'Cesa'], [319, 'MNISTbinary', 'Cesa'], [343, 'MNISTbinary', 'Cesa'], [357, 'MNISTbinary', 'Cesa'], [352, 'MNISTbinary', 'Cesa'], [367, 'MNISTbinary', 'Cesa'], [323, 'MNISTbinary', 'Cesa'], [374, 'MNISTbinary', 'Cesa'], [400, 'MNISTbinary', 'Cesa'], [365, 'MNISTbinary', 'Cesa'], [350, 'MNISTbinary', 'Cesa'], [379, 'MNISTbinary', 'Cesa'], [253, 'MNISTbinary', 'Cesa'], [347, 'MNISTbinary', 'Cesa'], [381, 'MNISTbinary', 'Cesa'], [361, 'MNISTbinary', 'Cesa'], [363, 'MNISTbinary', 'Cesa'], [390, 'MNISTbinary', 'Cesa'], [371, 'MNISTbinary', 'Cesa'], [354, 'MNISTbinary', 'Cesa'], [322, 'MNISTbinary', 'Cesa'], [325, 'MNISTbinary', 'Cesa'], [352, 'MNISTbinary', 'Cesa']]\n",
      "./results/case1_MLP_MagicTelescope_9999_25_EEneuralcbpside_v6.pkl.gz\n",
      "25\n",
      "m [[4, 'MagicTelescope', 'Neural-CBP'], [3, 'MagicTelescope', 'Neural-CBP'], [1, 'MagicTelescope', 'Neural-CBP'], [1, 'MagicTelescope', 'Neural-CBP'], [2, 'MagicTelescope', 'Neural-CBP'], [1, 'MagicTelescope', 'Neural-CBP'], [1, 'MagicTelescope', 'Neural-CBP'], [2, 'MagicTelescope', 'Neural-CBP'], [1, 'MagicTelescope', 'Neural-CBP'], [1, 'MagicTelescope', 'Neural-CBP'], [1, 'MagicTelescope', 'Neural-CBP'], [1, 'MagicTelescope', 'Neural-CBP'], [1, 'MagicTelescope', 'Neural-CBP'], [3, 'MagicTelescope', 'Neural-CBP'], [737, 'MagicTelescope', 'Neural-CBP'], [782, 'MagicTelescope', 'Neural-CBP'], [788, 'MagicTelescope', 'Neural-CBP'], [795, 'MagicTelescope', 'Neural-CBP'], [810, 'MagicTelescope', 'Neural-CBP'], [883, 'MagicTelescope', 'Neural-CBP'], [876, 'MagicTelescope', 'Neural-CBP'], [937, 'MagicTelescope', 'Neural-CBP'], [960, 'MagicTelescope', 'Neural-CBP'], [984, 'MagicTelescope', 'Neural-CBP'], [1026, 'MagicTelescope', 'Neural-CBP']]\n",
      "./results/case1_MLP_MagicTelescope_9999_25_ineural6.pkl.gz\n",
      "25\n",
      "m [[2061, 'MagicTelescope', 'IneurAL (official)'], [2178, 'MagicTelescope', 'IneurAL (official)'], [2455, 'MagicTelescope', 'IneurAL (official)'], [2186, 'MagicTelescope', 'IneurAL (official)'], [2119, 'MagicTelescope', 'IneurAL (official)'], [2310, 'MagicTelescope', 'IneurAL (official)'], [2491, 'MagicTelescope', 'IneurAL (official)'], [2310, 'MagicTelescope', 'IneurAL (official)'], [2317, 'MagicTelescope', 'IneurAL (official)'], [2270, 'MagicTelescope', 'IneurAL (official)'], [2479, 'MagicTelescope', 'IneurAL (official)'], [2388, 'MagicTelescope', 'IneurAL (official)'], [2516, 'MagicTelescope', 'IneurAL (official)'], [2486, 'MagicTelescope', 'IneurAL (official)'], [2317, 'MagicTelescope', 'IneurAL (official)'], [2695, 'MagicTelescope', 'IneurAL (official)'], [2670, 'MagicTelescope', 'IneurAL (official)'], [2532, 'MagicTelescope', 'IneurAL (official)'], [2494, 'MagicTelescope', 'IneurAL (official)'], [2608, 'MagicTelescope', 'IneurAL (official)'], [2363, 'MagicTelescope', 'IneurAL (official)'], [2601, 'MagicTelescope', 'IneurAL (official)'], [2567, 'MagicTelescope', 'IneurAL (official)'], [2604, 'MagicTelescope', 'IneurAL (official)'], [2619, 'MagicTelescope', 'IneurAL (official)']]\n",
      "./results/case1_MLP_MagicTelescope_9999_25_ineural3.pkl.gz\n",
      "25\n",
      "m [[29, 'MagicTelescope', 'IneurAL (tuned)'], [857, 'MagicTelescope', 'IneurAL (tuned)'], [1141, 'MagicTelescope', 'IneurAL (tuned)'], [4, 'MagicTelescope', 'IneurAL (tuned)'], [796, 'MagicTelescope', 'IneurAL (tuned)'], [798, 'MagicTelescope', 'IneurAL (tuned)'], [962, 'MagicTelescope', 'IneurAL (tuned)'], [831, 'MagicTelescope', 'IneurAL (tuned)'], [18, 'MagicTelescope', 'IneurAL (tuned)'], [819, 'MagicTelescope', 'IneurAL (tuned)'], [861, 'MagicTelescope', 'IneurAL (tuned)'], [938, 'MagicTelescope', 'IneurAL (tuned)'], [960, 'MagicTelescope', 'IneurAL (tuned)'], [1187, 'MagicTelescope', 'IneurAL (tuned)'], [1061, 'MagicTelescope', 'IneurAL (tuned)'], [1140, 'MagicTelescope', 'IneurAL (tuned)'], [1004, 'MagicTelescope', 'IneurAL (tuned)'], [1036, 'MagicTelescope', 'IneurAL (tuned)'], [1056, 'MagicTelescope', 'IneurAL (tuned)'], [1132, 'MagicTelescope', 'IneurAL (tuned)'], [1251, 'MagicTelescope', 'IneurAL (tuned)'], [1069, 'MagicTelescope', 'IneurAL (tuned)'], [1097, 'MagicTelescope', 'IneurAL (tuned)'], [1009, 'MagicTelescope', 'IneurAL (tuned)'], [1134, 'MagicTelescope', 'IneurAL (tuned)']]\n",
      "./results/case1_MLP_MagicTelescope_9999_25_neuronal6.pkl.gz\n",
      "25\n",
      "m [[6, 'MagicTelescope', 'Neuronal (official)'], [7, 'MagicTelescope', 'Neuronal (official)'], [955, 'MagicTelescope', 'Neuronal (official)'], [1123, 'MagicTelescope', 'Neuronal (official)'], [1172, 'MagicTelescope', 'Neuronal (official)'], [1185, 'MagicTelescope', 'Neuronal (official)'], [1236, 'MagicTelescope', 'Neuronal (official)'], [1239, 'MagicTelescope', 'Neuronal (official)'], [1236, 'MagicTelescope', 'Neuronal (official)'], [1240, 'MagicTelescope', 'Neuronal (official)'], [1283, 'MagicTelescope', 'Neuronal (official)'], [1300, 'MagicTelescope', 'Neuronal (official)'], [1326, 'MagicTelescope', 'Neuronal (official)'], [1308, 'MagicTelescope', 'Neuronal (official)'], [1369, 'MagicTelescope', 'Neuronal (official)'], [1398, 'MagicTelescope', 'Neuronal (official)'], [1369, 'MagicTelescope', 'Neuronal (official)'], [1369, 'MagicTelescope', 'Neuronal (official)'], [1403, 'MagicTelescope', 'Neuronal (official)'], [1419, 'MagicTelescope', 'Neuronal (official)'], [1420, 'MagicTelescope', 'Neuronal (official)'], [1447, 'MagicTelescope', 'Neuronal (official)'], [1472, 'MagicTelescope', 'Neuronal (official)'], [1518, 'MagicTelescope', 'Neuronal (official)'], [1605, 'MagicTelescope', 'Neuronal (official)']]\n",
      "./results/case1_MLP_MagicTelescope_9999_25_neuronal3.pkl.gz\n",
      "25\n",
      "m [[241, 'MagicTelescope', 'Neuronal (tuned)'], [7, 'MagicTelescope', 'Neuronal (tuned)'], [4, 'MagicTelescope', 'Neuronal (tuned)'], [11, 'MagicTelescope', 'Neuronal (tuned)'], [535, 'MagicTelescope', 'Neuronal (tuned)'], [4, 'MagicTelescope', 'Neuronal (tuned)'], [7, 'MagicTelescope', 'Neuronal (tuned)'], [5, 'MagicTelescope', 'Neuronal (tuned)'], [7, 'MagicTelescope', 'Neuronal (tuned)'], [614, 'MagicTelescope', 'Neuronal (tuned)'], [10, 'MagicTelescope', 'Neuronal (tuned)'], [512, 'MagicTelescope', 'Neuronal (tuned)'], [692, 'MagicTelescope', 'Neuronal (tuned)'], [693, 'MagicTelescope', 'Neuronal (tuned)'], [780, 'MagicTelescope', 'Neuronal (tuned)'], [586, 'MagicTelescope', 'Neuronal (tuned)'], [765, 'MagicTelescope', 'Neuronal (tuned)'], [499, 'MagicTelescope', 'Neuronal (tuned)'], [629, 'MagicTelescope', 'Neuronal (tuned)'], [617, 'MagicTelescope', 'Neuronal (tuned)'], [662, 'MagicTelescope', 'Neuronal (tuned)'], [541, 'MagicTelescope', 'Neuronal (tuned)'], [626, 'MagicTelescope', 'Neuronal (tuned)'], [605, 'MagicTelescope', 'Neuronal (tuned)'], [586, 'MagicTelescope', 'Neuronal (tuned)']]\n",
      "./results/case1_MLP_MagicTelescope_9999_25_margin.pkl.gz\n",
      "25\n",
      "m [[58, 'MagicTelescope', 'Margin'], [59, 'MagicTelescope', 'Margin'], [170, 'MagicTelescope', 'Margin'], [4, 'MagicTelescope', 'Margin'], [96, 'MagicTelescope', 'Margin'], [3, 'MagicTelescope', 'Margin'], [3, 'MagicTelescope', 'Margin'], [38, 'MagicTelescope', 'Margin'], [4, 'MagicTelescope', 'Margin'], [3, 'MagicTelescope', 'Margin'], [4, 'MagicTelescope', 'Margin'], [151, 'MagicTelescope', 'Margin'], [245, 'MagicTelescope', 'Margin'], [3, 'MagicTelescope', 'Margin'], [3, 'MagicTelescope', 'Margin'], [5, 'MagicTelescope', 'Margin'], [3, 'MagicTelescope', 'Margin'], [42, 'MagicTelescope', 'Margin'], [3, 'MagicTelescope', 'Margin'], [44, 'MagicTelescope', 'Margin'], [4, 'MagicTelescope', 'Margin'], [151, 'MagicTelescope', 'Margin'], [4, 'MagicTelescope', 'Margin'], [57, 'MagicTelescope', 'Margin'], [51, 'MagicTelescope', 'Margin']]\n",
      "./results/case1_MLP_MagicTelescope_9999_25_cesa.pkl.gz\n",
      "25\n",
      "m [[432, 'MagicTelescope', 'Cesa'], [58, 'MagicTelescope', 'Cesa'], [464, 'MagicTelescope', 'Cesa'], [447, 'MagicTelescope', 'Cesa'], [275, 'MagicTelescope', 'Cesa'], [307, 'MagicTelescope', 'Cesa'], [409, 'MagicTelescope', 'Cesa'], [351, 'MagicTelescope', 'Cesa'], [489, 'MagicTelescope', 'Cesa'], [470, 'MagicTelescope', 'Cesa'], [444, 'MagicTelescope', 'Cesa'], [479, 'MagicTelescope', 'Cesa'], [347, 'MagicTelescope', 'Cesa'], [229, 'MagicTelescope', 'Cesa'], [281, 'MagicTelescope', 'Cesa'], [185, 'MagicTelescope', 'Cesa'], [399, 'MagicTelescope', 'Cesa'], [146, 'MagicTelescope', 'Cesa'], [247, 'MagicTelescope', 'Cesa'], [157, 'MagicTelescope', 'Cesa'], [233, 'MagicTelescope', 'Cesa'], [406, 'MagicTelescope', 'Cesa'], [277, 'MagicTelescope', 'Cesa'], [347, 'MagicTelescope', 'Cesa'], [485, 'MagicTelescope', 'Cesa']]\n",
      "./results/case1_MLP_adult_9999_25_EEneuralcbpside_v6.pkl.gz\n",
      "25\n",
      "m [[1, 'adult', 'Neural-CBP'], [1, 'adult', 'Neural-CBP'], [1, 'adult', 'Neural-CBP'], [1, 'adult', 'Neural-CBP'], [1, 'adult', 'Neural-CBP'], [1, 'adult', 'Neural-CBP'], [1, 'adult', 'Neural-CBP'], [1, 'adult', 'Neural-CBP'], [1, 'adult', 'Neural-CBP'], [3, 'adult', 'Neural-CBP'], [1, 'adult', 'Neural-CBP'], [2, 'adult', 'Neural-CBP'], [1, 'adult', 'Neural-CBP'], [1, 'adult', 'Neural-CBP'], [1, 'adult', 'Neural-CBP'], [1, 'adult', 'Neural-CBP'], [1, 'adult', 'Neural-CBP'], [1, 'adult', 'Neural-CBP'], [1, 'adult', 'Neural-CBP'], [2, 'adult', 'Neural-CBP'], [49, 'adult', 'Neural-CBP'], [77, 'adult', 'Neural-CBP'], [1, 'adult', 'Neural-CBP'], [1, 'adult', 'Neural-CBP'], [1, 'adult', 'Neural-CBP']]\n",
      "./results/case1_MLP_adult_9999_25_ineural6.pkl.gz\n",
      "25\n",
      "m [[4, 'adult', 'IneurAL (official)'], [3645, 'adult', 'IneurAL (official)'], [5554, 'adult', 'IneurAL (official)'], [5705, 'adult', 'IneurAL (official)'], [5873, 'adult', 'IneurAL (official)'], [5876, 'adult', 'IneurAL (official)'], [6203, 'adult', 'IneurAL (official)'], [6197, 'adult', 'IneurAL (official)'], [6423, 'adult', 'IneurAL (official)'], [6493, 'adult', 'IneurAL (official)'], [6710, 'adult', 'IneurAL (official)'], [6691, 'adult', 'IneurAL (official)'], [6790, 'adult', 'IneurAL (official)'], [6823, 'adult', 'IneurAL (official)'], [6983, 'adult', 'IneurAL (official)'], [6952, 'adult', 'IneurAL (official)'], [6930, 'adult', 'IneurAL (official)'], [7134, 'adult', 'IneurAL (official)'], [6986, 'adult', 'IneurAL (official)'], [7227, 'adult', 'IneurAL (official)'], [7392, 'adult', 'IneurAL (official)'], [7339, 'adult', 'IneurAL (official)'], [7537, 'adult', 'IneurAL (official)'], [7664, 'adult', 'IneurAL (official)'], [7876, 'adult', 'IneurAL (official)']]\n",
      "./results/case1_MLP_adult_9999_25_ineural3.pkl.gz\n",
      "25\n",
      "m [[332, 'adult', 'IneurAL (tuned)'], [145, 'adult', 'IneurAL (tuned)'], [7, 'adult', 'IneurAL (tuned)'], [3, 'adult', 'IneurAL (tuned)'], [39, 'adult', 'IneurAL (tuned)'], [17, 'adult', 'IneurAL (tuned)'], [5, 'adult', 'IneurAL (tuned)'], [9, 'adult', 'IneurAL (tuned)'], [5, 'adult', 'IneurAL (tuned)'], [14, 'adult', 'IneurAL (tuned)'], [1170, 'adult', 'IneurAL (tuned)'], [3381, 'adult', 'IneurAL (tuned)'], [3373, 'adult', 'IneurAL (tuned)'], [3379, 'adult', 'IneurAL (tuned)'], [3697, 'adult', 'IneurAL (tuned)'], [3977, 'adult', 'IneurAL (tuned)'], [3974, 'adult', 'IneurAL (tuned)'], [4130, 'adult', 'IneurAL (tuned)'], [4139, 'adult', 'IneurAL (tuned)'], [4062, 'adult', 'IneurAL (tuned)'], [4368, 'adult', 'IneurAL (tuned)'], [4749, 'adult', 'IneurAL (tuned)'], [5081, 'adult', 'IneurAL (tuned)'], [5373, 'adult', 'IneurAL (tuned)'], [5729, 'adult', 'IneurAL (tuned)']]\n",
      "./results/case1_MLP_adult_9999_25_neuronal6.pkl.gz\n",
      "22\n",
      "m [[23, 'adult', 'Neuronal (official)'], [467, 'adult', 'Neuronal (official)'], [487, 'adult', 'Neuronal (official)'], [514, 'adult', 'Neuronal (official)'], [608, 'adult', 'Neuronal (official)'], [659, 'adult', 'Neuronal (official)'], [813, 'adult', 'Neuronal (official)'], [961, 'adult', 'Neuronal (official)'], [985, 'adult', 'Neuronal (official)'], [1091, 'adult', 'Neuronal (official)'], [1150, 'adult', 'Neuronal (official)'], [1863, 'adult', 'Neuronal (official)'], [1886, 'adult', 'Neuronal (official)'], [2491, 'adult', 'Neuronal (official)'], [2969, 'adult', 'Neuronal (official)'], [2996, 'adult', 'Neuronal (official)'], [3181, 'adult', 'Neuronal (official)'], [3292, 'adult', 'Neuronal (official)'], [3410, 'adult', 'Neuronal (official)'], [3433, 'adult', 'Neuronal (official)'], [3515, 'adult', 'Neuronal (official)'], [3689, 'adult', 'Neuronal (official)']]\n",
      "./results/case1_MLP_adult_9999_25_neuronal3.pkl.gz\n",
      "25\n",
      "m [[8, 'adult', 'Neuronal (tuned)'], [13, 'adult', 'Neuronal (tuned)'], [66, 'adult', 'Neuronal (tuned)'], [174, 'adult', 'Neuronal (tuned)'], [215, 'adult', 'Neuronal (tuned)'], [6, 'adult', 'Neuronal (tuned)'], [292, 'adult', 'Neuronal (tuned)'], [291, 'adult', 'Neuronal (tuned)'], [287, 'adult', 'Neuronal (tuned)'], [59, 'adult', 'Neuronal (tuned)'], [217, 'adult', 'Neuronal (tuned)'], [233, 'adult', 'Neuronal (tuned)'], [366, 'adult', 'Neuronal (tuned)'], [367, 'adult', 'Neuronal (tuned)'], [295, 'adult', 'Neuronal (tuned)'], [373, 'adult', 'Neuronal (tuned)'], [290, 'adult', 'Neuronal (tuned)'], [401, 'adult', 'Neuronal (tuned)'], [282, 'adult', 'Neuronal (tuned)'], [270, 'adult', 'Neuronal (tuned)'], [502, 'adult', 'Neuronal (tuned)'], [593, 'adult', 'Neuronal (tuned)'], [661, 'adult', 'Neuronal (tuned)'], [737, 'adult', 'Neuronal (tuned)'], [743, 'adult', 'Neuronal (tuned)']]\n",
      "./results/case1_MLP_adult_9999_25_margin.pkl.gz\n",
      "25\n",
      "m [[7, 'adult', 'Margin'], [49, 'adult', 'Margin'], [3, 'adult', 'Margin'], [6, 'adult', 'Margin'], [4, 'adult', 'Margin'], [3, 'adult', 'Margin'], [8, 'adult', 'Margin'], [6, 'adult', 'Margin'], [10, 'adult', 'Margin'], [3, 'adult', 'Margin'], [30, 'adult', 'Margin'], [71, 'adult', 'Margin'], [105, 'adult', 'Margin'], [3, 'adult', 'Margin'], [3, 'adult', 'Margin'], [3, 'adult', 'Margin'], [3, 'adult', 'Margin'], [5, 'adult', 'Margin'], [3, 'adult', 'Margin'], [3, 'adult', 'Margin'], [3, 'adult', 'Margin'], [3, 'adult', 'Margin'], [58, 'adult', 'Margin'], [3, 'adult', 'Margin'], [60, 'adult', 'Margin']]\n",
      "./results/case1_MLP_adult_9999_25_cesa.pkl.gz\n",
      "25\n",
      "m [[241, 'adult', 'Cesa'], [287, 'adult', 'Cesa'], [171, 'adult', 'Cesa'], [515, 'adult', 'Cesa'], [173, 'adult', 'Cesa'], [291, 'adult', 'Cesa'], [253, 'adult', 'Cesa'], [535, 'adult', 'Cesa'], [244, 'adult', 'Cesa'], [541, 'adult', 'Cesa'], [175, 'adult', 'Cesa'], [532, 'adult', 'Cesa'], [219, 'adult', 'Cesa'], [45, 'adult', 'Cesa'], [512, 'adult', 'Cesa'], [500, 'adult', 'Cesa'], [223, 'adult', 'Cesa'], [482, 'adult', 'Cesa'], [550, 'adult', 'Cesa'], [260, 'adult', 'Cesa'], [223, 'adult', 'Cesa'], [219, 'adult', 'Cesa'], [290, 'adult', 'Cesa'], [501, 'adult', 'Cesa'], [558, 'adult', 'Cesa']]\n"
     ]
    }
   ],
   "source": [
    "def convert_action_history(action_history,data, l_label):\n",
    "    counters = []\n",
    "    for history in action_history:\n",
    "\n",
    "        counter = sum([ 1 if action == 0 else 0 for action in history ])\n",
    "        counters.append( [counter, data, l_label] )\n",
    "\n",
    "    # counters.append(data)\n",
    "    # counters.append(l_label)\n",
    "    # std = 2.575 * np.std(counters, axis = 0) / n_folds \n",
    "    # std = np.std(counters, axis = 0) #/ n_folds \n",
    "\n",
    "    return counters#np.mean(counters, axis = 0), std \n",
    "\n",
    "n_folds = 25\n",
    "horizon = 9999\n",
    "model = 'MLP'\n",
    "\n",
    "\n",
    "material = {\n",
    "    \n",
    "    'EEneuralcbpside_v6': {'color': [255, 0, 0], 'label': 'Neural-CBP'},  # Red\n",
    "    'ineural6': {'color': [51, 255, 255], 'label':'IneurAL (official)'},                    # Yellow\n",
    "    'ineural3': {'color': [0, 0, 255], 'label':'IneurAL (tuned)'},                    # Cyan\n",
    "    'neuronal6': {'color': [255, 0, 255], 'label':'Neuronal (official)'},                  # Magenta\n",
    "    'neuronal3': {'color': [160, 160, 160], 'label':'Neuronal (tuned)'},                   # Orange\n",
    "    'margin': {'color': [160, 160, 160], 'label':'Margin'},\n",
    "    'cesa': {'color': [0, 0, 255], 'label':'Cesa'},\n",
    "}\n",
    "\n",
    "#  'random':{'color':[204,0,204],'label':'e-greedy'}\n",
    "\n",
    "fig = go.Figure( )\n",
    "\n",
    "\n",
    "exploration_dataset = []\n",
    "data_models = {}\n",
    "for model in ['MLP']: #, 'LeNet'\n",
    "\n",
    "    # if model == 'MLP':\n",
    "    n_folds = 25\n",
    "    datasets = ['MNISTbinary', 'MagicTelescope', 'adult', ]\n",
    "    # else:\n",
    "    #     datasets = ['MNIST', 'FASHION', 'CIFAR10',]\n",
    "    #     n_folds = 25  'MNIST', 'FASHION', 'covertype', 'shuttle',\n",
    "\n",
    "    data_regrets = {} \n",
    "    for data in datasets: \n",
    "\n",
    "        # if data in ['MNIST', 'FASHION', 'CIFAR10']:\n",
    "        #     case = 'case2' \n",
    "        # elif data in ['covertype', 'shuttle']:\n",
    "        #     case = 'game_case_seven'\n",
    "        # else:\n",
    "        case = 'case1'\n",
    "            \n",
    "        final_regrets = {}\n",
    "        for agent_name in material.keys():\n",
    "\n",
    "            color, l_label = material[agent_name]['color'], material[agent_name]['label']\n",
    "\n",
    "            r,g,b = color\n",
    "\n",
    "            direct = './results/'\n",
    "            path = os.path.join(direct, '{}_{}_{}_{}_{}_{}.pkl.gz'.format(case, model, data, horizon,n_folds,agent_name) )\n",
    "            print(path)\n",
    "            result, history_actions, history_outcomes, perf = loadall_results2(path, n_folds)\n",
    "            result = np.array(result)\n",
    "            # result = result[1:]\n",
    "            result = result.astype(np.float32)\n",
    "            print(  len(history_actions) )\n",
    "            final_regrets[l_label] = result[:,-1] \n",
    "            m = convert_action_history(history_actions, data, l_label)\n",
    "            print('m', m)\n",
    "\n",
    "            exploration_dataset.extend( m )\n",
    "            # except:\n",
    "            #     result = np.zeros((n_folds,horizon))\n",
    "\n",
    "        if data == 'MNISTbinary':\n",
    "            data = 'MNIST binary'\n",
    "        if data == 'FASHION':\n",
    "            data = 'Fashion'\n",
    "            \n",
    "        data_regrets[data] = final_regrets\n",
    "        \n",
    "    data_models[model] = data_regrets\n"
   ]
  },
  {
   "cell_type": "code",
   "execution_count": 3,
   "metadata": {},
   "outputs": [],
   "source": [
    "import pandas as pd\n",
    "exploration_dataset = np.array(exploration_dataset)\n",
    "exploration_dataset = pd.DataFrame(exploration_dataset)\n",
    "exploration_dataset.dtypes\n",
    "exploration_dataset[0].astype(float)\n",
    "\n",
    "exploration_dataset.columns = ['Explore', 'Dataset', 'Approach']\n",
    "exploration_dataset['Explore'] = exploration_dataset['Explore'].astype(int)"
   ]
  },
  {
   "cell_type": "code",
   "execution_count": 4,
   "metadata": {},
   "outputs": [],
   "source": [
    "import pandas as pd\n",
    "# pd.DataFrame(data_regrets)\n",
    "# data_regrets\n",
    "\n",
    "samples = []\n",
    "\n",
    "# Iterate over the dictionary to extract data\n",
    "for model, dataset in data_models.items():\n",
    "    for data, approach in dataset.items():\n",
    "        for appr, values in approach.items():\n",
    "            for val in values:\n",
    "                samples.append([model, data, appr, val])\n",
    "\n",
    "# Create a DataFrame\n",
    "df = pd.DataFrame(samples, columns=['Model','Dataset', 'Approach', 'Value'])\n",
    "\n",
    "# Calculate mean and standard error for each group\n",
    "grouped = df.groupby(['Model', 'Dataset', 'Approach'])\n",
    "mean = grouped['Value'].mean().reset_index()\n",
    "std_error =  2.576 * grouped['Value'].std() / np.sqrt(grouped['Value'].count()) \n",
    "std_error = std_error.reset_index()\n",
    "\n",
    "# Merge the mean and standard error into a single DataFrame\n",
    "result = pd.merge(mean, std_error, on=['Model', 'Dataset', 'Approach'])\n",
    "result.rename(columns={'Value_x': 'Mean', 'Value_y': 'StdError'}, inplace=True)\n",
    "\n",
    "result['merge'] = result['Model'] + result['Approach']\n",
    "result['merge2'] = result['Model'] + result['Dataset']"
   ]
  },
  {
   "cell_type": "code",
   "execution_count": 5,
   "metadata": {},
   "outputs": [
    {
     "name": "stdout",
     "output_type": "stream",
     "text": [
      "1.0 2149.96 557.64\n",
      "0.06928082314696338 1478.2 1137.8\n",
      "0.3090047535591992 1714.92 546.44\n",
      "0.020731102465153646 1281.28 1081.12\n",
      "0.005193002482561334 1071.32 672.0\n",
      "0.7977462510642599 2057.84 353.4\n",
      "0.6989029924748205 2310.92 134.76\n",
      "1.0 4038.68 384.04\n",
      "0.9533734584518108 4020.08 2425.44\n",
      "0.07786036832601666 3418.64 887.6\n",
      "0.010725343612144006 3168.8 1216.2\n",
      "0.020928055436080225 3189.68 409.52\n",
      "0.005952851993371396 3079.12 334.56\n",
      "0.9031199980500938 3988.4 48.32\n",
      "1.0 4458.6 6.12\n",
      "3.43707264731449e-05 7206.36 6360.28\n",
      "0.7349782305710395 4665.72 2446.32\n",
      "0.04290144950770496 3291.5 1840.1363636363637\n",
      "0.0006024907980006502 2384.6 309.64\n",
      "0.0007289386666004284 2423.88 341.6\n",
      "0.2061982079203498 3582.28 18.2\n"
     ]
    }
   ],
   "source": [
    "from scipy.stats import ttest_ind,mannwhitneyu\n",
    "# np.set_printoptions(suppress=True)\n",
    "\n",
    "\n",
    "final_values = []\n",
    "\n",
    "for data_name in ['MNIST binary', 'MagicTelescope', 'adult'] : \n",
    "    subdf = df[ df['Dataset']== data_name ]\n",
    "\n",
    "    data_name2 = data_name if data_name != 'MNIST binary' else 'MNISTbinary'\n",
    "    subdf_exp = exploration_dataset[ exploration_dataset['Dataset']== data_name2 ]\n",
    "\n",
    "    dataset = pd.DataFrame([data_name] * 25)\n",
    "    # dataset_expl = pd.DataFrame([data_name] * 25)\n",
    "\n",
    "    final_dataset = []\n",
    "    references = []\n",
    "\n",
    "\n",
    "    for approach in ['Neural-CBP', 'IneurAL (official)', 'IneurAL (tuned)', 'Neuronal (official)', 'Neuronal (tuned)', 'Cesa', 'Margin',]:\n",
    "        \n",
    "        values = subdf[ subdf['Approach'] == approach]['Value']\n",
    "        values.name = '{}'.format(approach)\n",
    "        values = values.reset_index(drop=True)\n",
    "        dataset['{}'.format(approach)] = values\n",
    "\n",
    "        mean = np.mean(values)\n",
    "\n",
    "        s, p = ttest_ind(df[  (df['Approach'] == 'Neural-CBP') & (df['Dataset'] == data_name)  ]['Value'], \n",
    "                    df[  (df['Approach'] == approach) & (df['Dataset'] == data_name)  ]['Value'], equal_var=False)\n",
    "\n",
    "        \n",
    "        values_exp = subdf_exp[ subdf_exp['Approach'] == approach]['Explore']\n",
    "        values_exp.name = '{}'.format(approach)\n",
    "        values_exp = values_exp.reset_index(drop=True)\n",
    "        values_exp = values_exp.astype(int)\n",
    "\n",
    "        mean_exp = np.mean(values_exp)\n",
    "\n",
    "        s, p_exp = ttest_ind( exploration_dataset[  (exploration_dataset['Approach'] == 'Neural-CBP') & (exploration_dataset['Dataset'] == data_name2)  ]['Explore'], \n",
    "                    exploration_dataset[  (exploration_dataset['Approach'] == approach) & (exploration_dataset['Dataset'] == data_name2)  ]['Explore'], equal_var=False)\n",
    "\n",
    "        print(p, mean, mean_exp)\n",
    "        \n",
    "        final_dataset.append( [  mean, p, mean_exp, p_exp ] )\n",
    "        references.append([ data_name ,  approach, ] )\n",
    "\n",
    "    final_dataset = np.array(final_dataset)\n",
    "    references = np.array(references)\n",
    "        \n",
    "    df_dropped = dataset.drop(columns=[0])\n",
    "    results = []\n",
    "    for i in range(25):\n",
    "        perfs = np.array( df_dropped.iloc[i].tolist() )\n",
    "        minimum = min( perfs )\n",
    "        strategy_won = (perfs == minimum)\n",
    "        results.append(strategy_won)  \n",
    "\n",
    "    results = np.array( results )  \n",
    "    true_counts = results.sum(axis=0)\n",
    "    true_counts = true_counts.reshape(-1, 1)\n",
    "\n",
    "\n",
    "    final = np.hstack( (final_dataset, true_counts) )\n",
    "    final = np.round(final,3)\n",
    "    final = np.hstack( (references, final) )\n",
    "\n",
    "    final_values.append(final)\n",
    "\n",
    "final_values = np.array(final_values)\n",
    "final_values = np.vstack(final_values)\n",
    "dataframe = pd.DataFrame(final_values)\n",
    "dataframe.columns = ['Dataset', 'Approach', 'Mean regret', 'p-value', 'Mean Exploration', 'p-value (exploration)', 'win count',]\n",
    "\n",
    "dataframe = dataframe[ ['Dataset', 'Approach', 'Mean regret', 'p-value', 'win count', 'Mean Exploration', 'p-value (exploration)'  ] ]\n",
    "# dataframe.to_csv('figures/results_binary_MLP.csv', index = False)"
   ]
  },
  {
   "cell_type": "code",
   "execution_count": 6,
   "metadata": {},
   "outputs": [
    {
     "name": "stdout",
     "output_type": "stream",
     "text": [
      "MLPNeural-CBP\n",
      "MLPIneurAL (official)\n",
      "MLPIneurAL (tuned)\n",
      "MLPNeuronal (official)\n",
      "MLPNeuronal (tuned)\n",
      "MLPMargin\n",
      "MLPCesa\n",
      "['MLPMNIST binary' 'MLPMagicTelescope' 'MLPadult']\n"
     ]
    },
    {
     "data": {
      "application/vnd.plotly.v1+json": {
       "config": {
        "plotlyServerURL": "https://plot.ly"
       },
       "data": [
        {
         "error_y": {
          "array": [
           903.5375905575678,
           806.8581906265947,
           1353.4015214277247
          ],
          "thickness": 1,
          "type": "data",
          "visible": true
         },
         "marker": {
          "color": "rgba(171,99,250,1)",
          "pattern": {
           "fgcolor": "black",
           "shape": "x"
          }
         },
         "name": "Neural-CBP",
         "showlegend": true,
         "type": "bar",
         "x": [
          "MLPMNIST binary",
          "MLPMagicTelescope",
          "MLPadult"
         ],
         "y": [
          2149.9599609375,
          4038.679931640625,
          4458.60009765625
         ]
        },
        {
         "error_y": {
          "array": [
           119.36251178054188,
           82.76258388269264,
           592.2071962879512
          ],
          "thickness": 1,
          "type": "data",
          "visible": true
         },
         "marker": {
          "color": "rgba(255,161,90,1)"
         },
         "name": "IneurAL (official)",
         "showlegend": true,
         "type": "bar",
         "x": [
          "MLPMNIST binary",
          "MLPMagicTelescope",
          "MLPadult"
         ],
         "y": [
          1478.199951171875,
          4020.080078125,
          7206.35986328125
         ]
        },
        {
         "error_y": {
          "array": [
           606.5401360435596,
           344.1333500389777,
           785.3714460979329
          ],
          "thickness": 1,
          "type": "data",
          "visible": true
         },
         "marker": {
          "color": "rgba(25,211,243,1)"
         },
         "name": "IneurAL (tuned)",
         "showlegend": true,
         "type": "bar",
         "x": [
          "MLPMNIST binary",
          "MLPMagicTelescope",
          "MLPadult"
         ],
         "y": [
          1714.9200439453125,
          3418.639892578125,
          4665.72021484375
         ]
        },
        {
         "error_y": {
          "array": [
           24.04505241496468,
           85.91272178236083,
           426.45085110848555
          ],
          "thickness": 1,
          "type": "data",
          "visible": true
         },
         "marker": {
          "color": "rgba(255,102,146,1)"
         },
         "name": "Neuronal (official)",
         "showlegend": true,
         "type": "bar",
         "x": [
          "MLPMNIST binary",
          "MLPMagicTelescope",
          "MLPadult"
         ],
         "y": [
          1281.280029296875,
          3168.800048828125,
          3291.5
         ]
        },
        {
         "error_y": {
          "array": [
           21.31952962322888,
           410.02154372289067,
           38.08300411679729
          ],
          "thickness": 1,
          "type": "data",
          "visible": true
         },
         "marker": {
          "color": "rgba(182,232,128,1)"
         },
         "name": "Neuronal (tuned)",
         "showlegend": true,
         "type": "bar",
         "x": [
          "MLPMNIST binary",
          "MLPMagicTelescope",
          "MLPadult"
         ],
         "y": [
          1071.3199462890625,
          3189.679931640625,
          2384.60009765625
         ]
        },
        {
         "error_y": {
          "array": [
           562.4543252785892,
           684.8614823247497,
           1126.418444495549
          ],
          "thickness": 1,
          "type": "data",
          "visible": true
         },
         "marker": {
          "color": "rgba(255,151,255,1)"
         },
         "name": "Margin",
         "showlegend": true,
         "type": "bar",
         "x": [
          "MLPMNIST binary",
          "MLPMagicTelescope",
          "MLPadult"
         ],
         "y": [
          2310.919921875,
          3988.39990234375,
          3582.280029296875
         ]
        },
        {
         "error_y": {
          "array": [
           152.49221447063758,
           177.2236404365242,
           57.13444115278513
          ],
          "thickness": 1,
          "type": "data",
          "visible": true
         },
         "marker": {
          "color": "rgba(254,203,82,1)"
         },
         "name": "Cesa",
         "showlegend": true,
         "type": "bar",
         "x": [
          "MLPMNIST binary",
          "MLPMagicTelescope",
          "MLPadult"
         ],
         "y": [
          2057.840087890625,
          3079.1201171875,
          2423.8798828125
         ]
        }
       ],
       "layout": {
        "barmode": "group",
        "height": 180,
        "margin": {
         "b": 0,
         "l": 0,
         "r": 1,
         "t": 0
        },
        "paper_bgcolor": "white",
        "plot_bgcolor": "white",
        "shapes": [
         {
          "line": {
           "color": "black",
           "dash": "dot",
           "width": 2
          },
          "type": "line",
          "x0": 0.5,
          "x1": 0.5,
          "xref": "x",
          "y0": 0,
          "y1": 1,
          "yref": "y domain"
         },
         {
          "line": {
           "color": "black",
           "dash": "dot",
           "width": 2
          },
          "type": "line",
          "x0": 1.5,
          "x1": 1.5,
          "xref": "x",
          "y0": 0,
          "y1": 1,
          "yref": "y domain"
         }
        ],
        "showlegend": false,
        "template": {
         "data": {
          "bar": [
           {
            "error_x": {
             "color": "#2a3f5f"
            },
            "error_y": {
             "color": "#2a3f5f"
            },
            "marker": {
             "line": {
              "color": "#E5ECF6",
              "width": 0.5
             },
             "pattern": {
              "fillmode": "overlay",
              "size": 10,
              "solidity": 0.2
             }
            },
            "type": "bar"
           }
          ],
          "barpolar": [
           {
            "marker": {
             "line": {
              "color": "#E5ECF6",
              "width": 0.5
             },
             "pattern": {
              "fillmode": "overlay",
              "size": 10,
              "solidity": 0.2
             }
            },
            "type": "barpolar"
           }
          ],
          "carpet": [
           {
            "aaxis": {
             "endlinecolor": "#2a3f5f",
             "gridcolor": "white",
             "linecolor": "white",
             "minorgridcolor": "white",
             "startlinecolor": "#2a3f5f"
            },
            "baxis": {
             "endlinecolor": "#2a3f5f",
             "gridcolor": "white",
             "linecolor": "white",
             "minorgridcolor": "white",
             "startlinecolor": "#2a3f5f"
            },
            "type": "carpet"
           }
          ],
          "choropleth": [
           {
            "colorbar": {
             "outlinewidth": 0,
             "ticks": ""
            },
            "type": "choropleth"
           }
          ],
          "contour": [
           {
            "colorbar": {
             "outlinewidth": 0,
             "ticks": ""
            },
            "colorscale": [
             [
              0,
              "#0d0887"
             ],
             [
              0.1111111111111111,
              "#46039f"
             ],
             [
              0.2222222222222222,
              "#7201a8"
             ],
             [
              0.3333333333333333,
              "#9c179e"
             ],
             [
              0.4444444444444444,
              "#bd3786"
             ],
             [
              0.5555555555555556,
              "#d8576b"
             ],
             [
              0.6666666666666666,
              "#ed7953"
             ],
             [
              0.7777777777777778,
              "#fb9f3a"
             ],
             [
              0.8888888888888888,
              "#fdca26"
             ],
             [
              1,
              "#f0f921"
             ]
            ],
            "type": "contour"
           }
          ],
          "contourcarpet": [
           {
            "colorbar": {
             "outlinewidth": 0,
             "ticks": ""
            },
            "type": "contourcarpet"
           }
          ],
          "heatmap": [
           {
            "colorbar": {
             "outlinewidth": 0,
             "ticks": ""
            },
            "colorscale": [
             [
              0,
              "#0d0887"
             ],
             [
              0.1111111111111111,
              "#46039f"
             ],
             [
              0.2222222222222222,
              "#7201a8"
             ],
             [
              0.3333333333333333,
              "#9c179e"
             ],
             [
              0.4444444444444444,
              "#bd3786"
             ],
             [
              0.5555555555555556,
              "#d8576b"
             ],
             [
              0.6666666666666666,
              "#ed7953"
             ],
             [
              0.7777777777777778,
              "#fb9f3a"
             ],
             [
              0.8888888888888888,
              "#fdca26"
             ],
             [
              1,
              "#f0f921"
             ]
            ],
            "type": "heatmap"
           }
          ],
          "heatmapgl": [
           {
            "colorbar": {
             "outlinewidth": 0,
             "ticks": ""
            },
            "colorscale": [
             [
              0,
              "#0d0887"
             ],
             [
              0.1111111111111111,
              "#46039f"
             ],
             [
              0.2222222222222222,
              "#7201a8"
             ],
             [
              0.3333333333333333,
              "#9c179e"
             ],
             [
              0.4444444444444444,
              "#bd3786"
             ],
             [
              0.5555555555555556,
              "#d8576b"
             ],
             [
              0.6666666666666666,
              "#ed7953"
             ],
             [
              0.7777777777777778,
              "#fb9f3a"
             ],
             [
              0.8888888888888888,
              "#fdca26"
             ],
             [
              1,
              "#f0f921"
             ]
            ],
            "type": "heatmapgl"
           }
          ],
          "histogram": [
           {
            "marker": {
             "pattern": {
              "fillmode": "overlay",
              "size": 10,
              "solidity": 0.2
             }
            },
            "type": "histogram"
           }
          ],
          "histogram2d": [
           {
            "colorbar": {
             "outlinewidth": 0,
             "ticks": ""
            },
            "colorscale": [
             [
              0,
              "#0d0887"
             ],
             [
              0.1111111111111111,
              "#46039f"
             ],
             [
              0.2222222222222222,
              "#7201a8"
             ],
             [
              0.3333333333333333,
              "#9c179e"
             ],
             [
              0.4444444444444444,
              "#bd3786"
             ],
             [
              0.5555555555555556,
              "#d8576b"
             ],
             [
              0.6666666666666666,
              "#ed7953"
             ],
             [
              0.7777777777777778,
              "#fb9f3a"
             ],
             [
              0.8888888888888888,
              "#fdca26"
             ],
             [
              1,
              "#f0f921"
             ]
            ],
            "type": "histogram2d"
           }
          ],
          "histogram2dcontour": [
           {
            "colorbar": {
             "outlinewidth": 0,
             "ticks": ""
            },
            "colorscale": [
             [
              0,
              "#0d0887"
             ],
             [
              0.1111111111111111,
              "#46039f"
             ],
             [
              0.2222222222222222,
              "#7201a8"
             ],
             [
              0.3333333333333333,
              "#9c179e"
             ],
             [
              0.4444444444444444,
              "#bd3786"
             ],
             [
              0.5555555555555556,
              "#d8576b"
             ],
             [
              0.6666666666666666,
              "#ed7953"
             ],
             [
              0.7777777777777778,
              "#fb9f3a"
             ],
             [
              0.8888888888888888,
              "#fdca26"
             ],
             [
              1,
              "#f0f921"
             ]
            ],
            "type": "histogram2dcontour"
           }
          ],
          "mesh3d": [
           {
            "colorbar": {
             "outlinewidth": 0,
             "ticks": ""
            },
            "type": "mesh3d"
           }
          ],
          "parcoords": [
           {
            "line": {
             "colorbar": {
              "outlinewidth": 0,
              "ticks": ""
             }
            },
            "type": "parcoords"
           }
          ],
          "pie": [
           {
            "automargin": true,
            "type": "pie"
           }
          ],
          "scatter": [
           {
            "fillpattern": {
             "fillmode": "overlay",
             "size": 10,
             "solidity": 0.2
            },
            "type": "scatter"
           }
          ],
          "scatter3d": [
           {
            "line": {
             "colorbar": {
              "outlinewidth": 0,
              "ticks": ""
             }
            },
            "marker": {
             "colorbar": {
              "outlinewidth": 0,
              "ticks": ""
             }
            },
            "type": "scatter3d"
           }
          ],
          "scattercarpet": [
           {
            "marker": {
             "colorbar": {
              "outlinewidth": 0,
              "ticks": ""
             }
            },
            "type": "scattercarpet"
           }
          ],
          "scattergeo": [
           {
            "marker": {
             "colorbar": {
              "outlinewidth": 0,
              "ticks": ""
             }
            },
            "type": "scattergeo"
           }
          ],
          "scattergl": [
           {
            "marker": {
             "colorbar": {
              "outlinewidth": 0,
              "ticks": ""
             }
            },
            "type": "scattergl"
           }
          ],
          "scattermapbox": [
           {
            "marker": {
             "colorbar": {
              "outlinewidth": 0,
              "ticks": ""
             }
            },
            "type": "scattermapbox"
           }
          ],
          "scatterpolar": [
           {
            "marker": {
             "colorbar": {
              "outlinewidth": 0,
              "ticks": ""
             }
            },
            "type": "scatterpolar"
           }
          ],
          "scatterpolargl": [
           {
            "marker": {
             "colorbar": {
              "outlinewidth": 0,
              "ticks": ""
             }
            },
            "type": "scatterpolargl"
           }
          ],
          "scatterternary": [
           {
            "marker": {
             "colorbar": {
              "outlinewidth": 0,
              "ticks": ""
             }
            },
            "type": "scatterternary"
           }
          ],
          "surface": [
           {
            "colorbar": {
             "outlinewidth": 0,
             "ticks": ""
            },
            "colorscale": [
             [
              0,
              "#0d0887"
             ],
             [
              0.1111111111111111,
              "#46039f"
             ],
             [
              0.2222222222222222,
              "#7201a8"
             ],
             [
              0.3333333333333333,
              "#9c179e"
             ],
             [
              0.4444444444444444,
              "#bd3786"
             ],
             [
              0.5555555555555556,
              "#d8576b"
             ],
             [
              0.6666666666666666,
              "#ed7953"
             ],
             [
              0.7777777777777778,
              "#fb9f3a"
             ],
             [
              0.8888888888888888,
              "#fdca26"
             ],
             [
              1,
              "#f0f921"
             ]
            ],
            "type": "surface"
           }
          ],
          "table": [
           {
            "cells": {
             "fill": {
              "color": "#EBF0F8"
             },
             "line": {
              "color": "white"
             }
            },
            "header": {
             "fill": {
              "color": "#C8D4E3"
             },
             "line": {
              "color": "white"
             }
            },
            "type": "table"
           }
          ]
         },
         "layout": {
          "annotationdefaults": {
           "arrowcolor": "#2a3f5f",
           "arrowhead": 0,
           "arrowwidth": 1
          },
          "autotypenumbers": "strict",
          "coloraxis": {
           "colorbar": {
            "outlinewidth": 0,
            "ticks": ""
           }
          },
          "colorscale": {
           "diverging": [
            [
             0,
             "#8e0152"
            ],
            [
             0.1,
             "#c51b7d"
            ],
            [
             0.2,
             "#de77ae"
            ],
            [
             0.3,
             "#f1b6da"
            ],
            [
             0.4,
             "#fde0ef"
            ],
            [
             0.5,
             "#f7f7f7"
            ],
            [
             0.6,
             "#e6f5d0"
            ],
            [
             0.7,
             "#b8e186"
            ],
            [
             0.8,
             "#7fbc41"
            ],
            [
             0.9,
             "#4d9221"
            ],
            [
             1,
             "#276419"
            ]
           ],
           "sequential": [
            [
             0,
             "#0d0887"
            ],
            [
             0.1111111111111111,
             "#46039f"
            ],
            [
             0.2222222222222222,
             "#7201a8"
            ],
            [
             0.3333333333333333,
             "#9c179e"
            ],
            [
             0.4444444444444444,
             "#bd3786"
            ],
            [
             0.5555555555555556,
             "#d8576b"
            ],
            [
             0.6666666666666666,
             "#ed7953"
            ],
            [
             0.7777777777777778,
             "#fb9f3a"
            ],
            [
             0.8888888888888888,
             "#fdca26"
            ],
            [
             1,
             "#f0f921"
            ]
           ],
           "sequentialminus": [
            [
             0,
             "#0d0887"
            ],
            [
             0.1111111111111111,
             "#46039f"
            ],
            [
             0.2222222222222222,
             "#7201a8"
            ],
            [
             0.3333333333333333,
             "#9c179e"
            ],
            [
             0.4444444444444444,
             "#bd3786"
            ],
            [
             0.5555555555555556,
             "#d8576b"
            ],
            [
             0.6666666666666666,
             "#ed7953"
            ],
            [
             0.7777777777777778,
             "#fb9f3a"
            ],
            [
             0.8888888888888888,
             "#fdca26"
            ],
            [
             1,
             "#f0f921"
            ]
           ]
          },
          "colorway": [
           "#636efa",
           "#EF553B",
           "#00cc96",
           "#ab63fa",
           "#FFA15A",
           "#19d3f3",
           "#FF6692",
           "#B6E880",
           "#FF97FF",
           "#FECB52"
          ],
          "font": {
           "color": "#2a3f5f"
          },
          "geo": {
           "bgcolor": "white",
           "lakecolor": "white",
           "landcolor": "#E5ECF6",
           "showlakes": true,
           "showland": true,
           "subunitcolor": "white"
          },
          "hoverlabel": {
           "align": "left"
          },
          "hovermode": "closest",
          "mapbox": {
           "style": "light"
          },
          "paper_bgcolor": "white",
          "plot_bgcolor": "#E5ECF6",
          "polar": {
           "angularaxis": {
            "gridcolor": "white",
            "linecolor": "white",
            "ticks": ""
           },
           "bgcolor": "#E5ECF6",
           "radialaxis": {
            "gridcolor": "white",
            "linecolor": "white",
            "ticks": ""
           }
          },
          "scene": {
           "xaxis": {
            "backgroundcolor": "#E5ECF6",
            "gridcolor": "white",
            "gridwidth": 2,
            "linecolor": "white",
            "showbackground": true,
            "ticks": "",
            "zerolinecolor": "white"
           },
           "yaxis": {
            "backgroundcolor": "#E5ECF6",
            "gridcolor": "white",
            "gridwidth": 2,
            "linecolor": "white",
            "showbackground": true,
            "ticks": "",
            "zerolinecolor": "white"
           },
           "zaxis": {
            "backgroundcolor": "#E5ECF6",
            "gridcolor": "white",
            "gridwidth": 2,
            "linecolor": "white",
            "showbackground": true,
            "ticks": "",
            "zerolinecolor": "white"
           }
          },
          "shapedefaults": {
           "line": {
            "color": "#2a3f5f"
           }
          },
          "ternary": {
           "aaxis": {
            "gridcolor": "white",
            "linecolor": "white",
            "ticks": ""
           },
           "baxis": {
            "gridcolor": "white",
            "linecolor": "white",
            "ticks": ""
           },
           "bgcolor": "#E5ECF6",
           "caxis": {
            "gridcolor": "white",
            "linecolor": "white",
            "ticks": ""
           }
          },
          "title": {
           "x": 0.05
          },
          "xaxis": {
           "automargin": true,
           "gridcolor": "white",
           "linecolor": "white",
           "ticks": "",
           "title": {
            "standoff": 15
           },
           "zerolinecolor": "white",
           "zerolinewidth": 2
          },
          "yaxis": {
           "automargin": true,
           "gridcolor": "white",
           "linecolor": "white",
           "ticks": "",
           "title": {
            "standoff": 15
           },
           "zerolinecolor": "white",
           "zerolinewidth": 2
          }
         }
        },
        "width": 440,
        "xaxis": {
         "tickfont": {
          "size": 11
         },
         "tickmode": "array",
         "ticktext": [
          "MNIST binary",
          "MagicTelescope",
          "adult"
         ],
         "tickvals": [
          "MLPMNIST binary",
          "MLPMagicTelescope",
          "MLPadult"
         ]
        },
        "yaxis": {
         "gridcolor": "lightgrey",
         "tickfont": {
          "size": 10
         },
         "tickmode": "array",
         "ticktext": [
          "1k",
          "2k",
          "3k",
          "4k",
          "5k",
          "7k",
          "9k"
         ],
         "tickvals": [
          1000,
          2000,
          3000,
          4000,
          5000,
          7000,
          9000
         ],
         "title": {
          "font": {
           "size": 13
          },
          "standoff": 5,
          "text": "Final regret ± 99% CI"
         }
        }
       }
      }
     },
     "metadata": {},
     "output_type": "display_data"
    }
   ],
   "source": [
    "import pandas as pd\n",
    "import plotly.graph_objects as go\n",
    "import numpy as np\n",
    "import plotly.express as px\n",
    "# Assuming df is your DataFrame and it has columns 'Dataset', 'Value', 'Model'\n",
    "\n",
    "w = 0.1\n",
    "def remove_substrings(s, substrings):\n",
    "    for substring in substrings:\n",
    "        s = s.replace(substring, '')\n",
    "    return s\n",
    "\n",
    "\n",
    "approaches = {\n",
    "    #'EEneuralcbpside_v5': {'color': [255, 255, 0], 'label': 'EEneuralcbpside_v5'},  # Red\n",
    "    'MLPNeural-CBP': {'color': [171, 99, 250], 'label': 'Neural-CBP'},  # Red\n",
    "    'MLPIneurAL (official)': {'color': [255, 161, 90], 'label':'IneurAL (official)'},                    # Yellow\n",
    "    'MLPIneurAL (tuned)': {'color': [25, 211, 243], 'label':'IneurAL (tuned)'},                    # Cyan\n",
    "    'MLPNeuronal (official)': {'color': [255, 102, 146], 'label':'Neuronal (official)'},                  # Magenta\n",
    "    'MLPNeuronal (tuned)': {'color': [182, 232, 128], 'label':'Neuronal (tuned)'},                   # Orange\n",
    "    'MLPMargin': {'color': [255, 151, 255], 'label':'Margin'},\n",
    "    'MLPCesa': {'color': [254, 203, 82], 'label':'Cesa'},\n",
    "}\n",
    "\n",
    "\n",
    "# Create an empty figure\n",
    "fig = go.Figure()\n",
    "\n",
    "\n",
    "views = []\n",
    "for appr in approaches.keys():\n",
    "    print(appr)\n",
    "    appr_name = approaches[appr]['label']\n",
    "    r,g,b = approaches[appr]['color']\n",
    "\n",
    "    subset = result[result['merge'] == appr]\n",
    "    dec = False\n",
    "    if appr_name not in views:\n",
    "        dec = True\n",
    "        views.append(appr_name)\n",
    "    \n",
    "\n",
    "    if 'CBP' in appr_name:\n",
    "        fig.add_trace(go.Bar(\n",
    "            x=subset['merge2'],\n",
    "            y=subset['Mean'],\n",
    "            name=appr_name,\n",
    "            error_y=dict(type='data', array=subset['StdError'], visible=True,thickness=1 ),\n",
    "            marker_color='rgba({},{},{},1)'.format(r,g,b),marker_pattern_shape='x',marker_pattern_fgcolor='black', \n",
    "            showlegend = dec,\n",
    "            # width=w\n",
    "            ))\n",
    "    else: \n",
    "        fig.add_trace(go.Bar(\n",
    "            x=subset['merge2'],\n",
    "            y=subset['Mean'],\n",
    "            name=appr_name,\n",
    "            error_y=dict(type='data', array=subset['StdError'], visible=True,thickness=1 ),\n",
    "            marker_color='rgba({},{},{},1)'.format(r,g,b), \n",
    "            showlegend = dec,\n",
    "            # width=w\n",
    "            ))\n",
    "\n",
    "\n",
    "# Add vertical black lines between data groups\n",
    "\n",
    "datasets = result['merge2'].unique()\n",
    "print(datasets)\n",
    "for i, dataset in enumerate(datasets[:-1]):\n",
    "    if i == 2:\n",
    "        fig.add_vline(x=i + 0.5, line_width=2, line_color=\"black\")\n",
    "    else:\n",
    "        fig.add_vline(x=i + 0.5, line_width=2, line_color=\"black\",  line_dash=\"dot\")\n",
    "\n",
    "\n",
    "siz = 13\n",
    "\n",
    "def format_tick(val):\n",
    "    \"\"\" Custom function to format the tick labels. \"\"\"\n",
    "    return f'{int(val / 1000)}k' if val >= 1000 else str(val)\n",
    "\n",
    "\n",
    "fig.update_layout(\n",
    "    width=440,\n",
    "    height=180,\n",
    "    plot_bgcolor='white',  # Sets the plot background color\n",
    "    paper_bgcolor='white',  # Sets the overall figure background color\n",
    "    barmode='group',\n",
    "    margin=dict(l=0, r=1, t=0, b=0),  # Small margins\n",
    "    xaxis=dict(\n",
    "        tickmode='array',\n",
    "        tickvals=result['merge2'].unique(),\n",
    "        ticktext = [ remove_substrings(model, ['LeNet', 'MLP']) for model in result['merge2'].unique() ],\n",
    "        tickfont=dict(size=siz-2)  # Increase X-axis tick font size\n",
    "    ),\n",
    "\n",
    "    yaxis=dict(\n",
    "        # type=\"log\",\n",
    "        gridcolor='lightgrey',\n",
    "        title=\"Final regret ± 99% CI\",\n",
    "        title_standoff=5,\n",
    "        title_font=dict(size=siz),\n",
    "        tickfont=dict(size=siz-3) , # Increase Y-axis tick font size\n",
    "        tickmode='array',\n",
    "        tickvals=[1000, 2000, 3000, 4000, 5000, 7000, 9000 ],  # Specify the values where you want ticks\n",
    "        ticktext=[format_tick(val) for val in [1000, 2000, 3000, 4000, 5000, 7000, 9000]]  # Format those values\n",
    "    ),\n",
    "    showlegend=False\n",
    "\n",
    ")\n",
    "\n",
    "fig.show()\n",
    "# fig.write_image(\"./figures/results_binary_MLP.pdf\" )\n",
    "# fig.write_image(\"./figures/results_binary_MLP.pdf\" )"
   ]
  }
 ],
 "metadata": {
  "kernelspec": {
   "display_name": ".venv",
   "language": "python",
   "name": "python3"
  },
  "language_info": {
   "codemirror_mode": {
    "name": "ipython",
    "version": 3
   },
   "file_extension": ".py",
   "mimetype": "text/x-python",
   "name": "python",
   "nbconvert_exporter": "python",
   "pygments_lexer": "ipython3",
   "version": "3.8.16"
  },
  "orig_nbformat": 4
 },
 "nbformat": 4,
 "nbformat_minor": 2
}
