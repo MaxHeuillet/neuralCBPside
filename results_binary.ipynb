{
 "cells": [
  {
   "cell_type": "code",
   "execution_count": 2,
   "metadata": {},
   "outputs": [],
   "source": [
    "import os\n",
    "import numpy as np\n",
    "import plotly.graph_objects as go\n",
    "\n",
    "import gzip\n",
    "import pickle as pkl\n",
    "\n",
    "def loadall_results2(path, n_folds):\n",
    "    result = []#np.zeros( (n_folds, 20000) )\n",
    "    with gzip.open(  path ,'rb') as f:\n",
    "        for i in range(n_folds):\n",
    "            try:\n",
    "                result.append( pkl.load(f) ) #[:20000]\n",
    "            except EOFError:\n",
    "                break\n",
    "    \n",
    "    return np.array(result)\n",
    "\n"
   ]
  },
  {
   "cell_type": "code",
   "execution_count": 3,
   "metadata": {},
   "outputs": [],
   "source": [
    "horizon = 2500\n",
    "nfolds = 20\n",
    "strategy = 'random'\n",
    "direct = './results/LE/'\n",
    "path = os.path.join(direct, 'benchmark_MNISTbinary_{}_{}_{}.pkl.gz'.format(horizon,nfolds,strategy) )\n",
    "result = loadall_results2(path, nfolds)"
   ]
  },
  {
   "cell_type": "code",
   "execution_count": 5,
   "metadata": {},
   "outputs": [
    {
     "data": {
      "text/plain": [
       "array([None, None, None, ..., None, None, None], dtype=object)"
      ]
     },
     "execution_count": 5,
     "metadata": {},
     "output_type": "execute_result"
    }
   ],
   "source": [
    "result[0]"
   ]
  }
 ],
 "metadata": {
  "kernelspec": {
   "display_name": ".venv",
   "language": "python",
   "name": "python3"
  },
  "language_info": {
   "codemirror_mode": {
    "name": "ipython",
    "version": 3
   },
   "file_extension": ".py",
   "mimetype": "text/x-python",
   "name": "python",
   "nbconvert_exporter": "python",
   "pygments_lexer": "ipython3",
   "version": "3.8.10"
  },
  "orig_nbformat": 4
 },
 "nbformat": 4,
 "nbformat_minor": 2
}
