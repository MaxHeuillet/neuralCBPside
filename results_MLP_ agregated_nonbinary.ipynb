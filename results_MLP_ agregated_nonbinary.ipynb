{
 "cells": [
  {
   "cell_type": "code",
   "execution_count": 1,
   "metadata": {},
   "outputs": [],
   "source": [
    "import os\n",
    "import numpy as np\n",
    "import plotly.graph_objects as go\n",
    "import pandas as pd\n",
    "import gzip\n",
    "import pickle as pkl\n",
    "import pandas as pd\n",
    "\n",
    "def loadall_results2(path, n_folds):\n",
    "    regret = []\n",
    "    history_actions = []\n",
    "    history_outcomes = []\n",
    "    perf = []\n",
    "    with gzip.open(  path ,'rb') as f:\n",
    "        for i in range(n_folds+1):\n",
    "            try:\n",
    "                data = pkl.load(f)\n",
    "            except EOFError:\n",
    "                break\n",
    "\n",
    "            if type(data) == dict:\n",
    "                regret.append( data['regret'] ) \n",
    "                history_actions.append( data['action_history'] )\n",
    "                history_outcomes.append( data['outcome_history'] ) \n",
    "                perf.append( data['pred'] ) \n",
    "\n",
    "    return regret, history_actions, history_outcomes, perf"
   ]
  },
  {
   "cell_type": "code",
   "execution_count": 3,
   "metadata": {},
   "outputs": [],
   "source": [
    "n_folds = 25\n",
    "horizon = 9999\n",
    "context = 'MNISTbinary'\n",
    "model = 'MLP'\n",
    "case = 'case1'\n",
    "agent_name = 'EEneuralcbpside_v6' #ineural6, neuronal6\n",
    "\n",
    "direct = './results/'\n",
    "path = os.path.join(direct, '{}_{}_{}_{}_{}_{}.pkl.gz'.format(case,model,context,horizon,n_folds,agent_name) )\n",
    "regret, action_history, outcome_history, perf = loadall_results2(path, n_folds)\n"
   ]
  },
  {
   "cell_type": "code",
   "execution_count": 2,
   "metadata": {},
   "outputs": [
    {
     "name": "stdout",
     "output_type": "stream",
     "text": [
      "./results/case2_MLP_MNIST_9999_25_ineural6.pkl.gz\n",
      "[[1.000e+00 2.000e+00 3.000e+00 ... 3.629e+03 3.629e+03 3.629e+03]\n",
      " [1.000e+00 2.000e+00 3.000e+00 ... 4.404e+03 4.404e+03 4.405e+03]\n",
      " [1.000e+00 2.000e+00 3.000e+00 ... 4.212e+03 4.212e+03 4.212e+03]\n",
      " ...\n",
      " [1.000e+00 1.000e+00 2.000e+00 ... 4.041e+03 4.042e+03 4.042e+03]\n",
      " [1.000e+00 1.000e+00 2.000e+00 ... 3.989e+03 3.989e+03 3.989e+03]\n",
      " [1.000e+00 2.000e+00 3.000e+00 ... 3.761e+03 3.761e+03 3.761e+03]]\n",
      "./results/case2_MLP_MNIST_9999_25_ineural3.pkl.gz\n",
      "[[1.000e+00 2.000e+00 3.000e+00 ... 2.293e+03 2.293e+03 2.293e+03]\n",
      " [1.000e+00 2.000e+00 3.000e+00 ... 2.469e+03 2.469e+03 2.469e+03]\n",
      " [1.000e+00 1.000e+00 2.000e+00 ... 2.321e+03 2.321e+03 2.321e+03]\n",
      " ...\n",
      " [1.000e+00 2.000e+00 3.000e+00 ... 2.381e+03 2.381e+03 2.381e+03]\n",
      " [1.000e+00 1.000e+00 2.000e+00 ... 2.388e+03 2.388e+03 2.388e+03]\n",
      " [1.000e+00 2.000e+00 3.000e+00 ... 2.383e+03 2.384e+03 2.384e+03]]\n",
      "./results/case2_MLP_MNIST_9999_25_neuronal6.pkl.gz\n",
      "[[1.000e+00 2.000e+00 3.000e+00 ... 4.056e+03 4.056e+03 4.057e+03]\n",
      " [1.000e+00 2.000e+00 3.000e+00 ... 4.058e+03 4.058e+03 4.059e+03]\n",
      " [1.000e+00 2.000e+00 3.000e+00 ... 4.139e+03 4.139e+03 4.139e+03]\n",
      " ...\n",
      " [1.000e+00 2.000e+00 3.000e+00 ... 4.119e+03 4.119e+03 4.119e+03]\n",
      " [1.000e+00 2.000e+00 3.000e+00 ... 4.185e+03 4.185e+03 4.186e+03]\n",
      " [1.000e+00 1.000e+00 2.000e+00 ... 4.132e+03 4.132e+03 4.132e+03]]\n",
      "./results/case2_MLP_MNIST_9999_25_neuronal3.pkl.gz\n",
      "[[1.000e+00 2.000e+00 3.000e+00 ... 2.704e+03 2.704e+03 2.705e+03]\n",
      " [1.000e+00 2.000e+00 3.000e+00 ... 2.692e+03 2.692e+03 2.692e+03]\n",
      " [1.000e+00 2.000e+00 3.000e+00 ... 2.726e+03 2.727e+03 2.727e+03]\n",
      " ...\n",
      " [1.000e+00 1.000e+00 2.000e+00 ... 2.721e+03 2.722e+03 2.722e+03]\n",
      " [1.000e+00 1.000e+00 2.000e+00 ... 2.663e+03 2.663e+03 2.663e+03]\n",
      " [1.000e+00 2.000e+00 3.000e+00 ... 2.756e+03 2.756e+03 2.756e+03]]\n",
      "./results/case2_MLP_MNIST_9999_25_EEneuralcbpside_v6.pkl.gz\n",
      "[[1.000e+00 2.000e+00 3.000e+00 ... 2.411e+03 2.411e+03 2.411e+03]\n",
      " [1.000e+00 2.000e+00 3.000e+00 ... 2.364e+03 2.364e+03 2.365e+03]\n",
      " [1.000e+00 2.000e+00 3.000e+00 ... 1.985e+03 1.985e+03 1.985e+03]\n",
      " ...\n",
      " [1.000e+00 2.000e+00 3.000e+00 ... 2.230e+03 2.230e+03 2.230e+03]\n",
      " [1.000e+00 2.000e+00 3.000e+00 ... 2.429e+03 2.429e+03 2.429e+03]\n",
      " [1.000e+00 2.000e+00 3.000e+00 ... 2.391e+03 2.391e+03 2.391e+03]]\n",
      "./results/case2_MLP_FASHION_9999_25_ineural6.pkl.gz\n",
      "[[1.000e+00 2.000e+00 3.000e+00 ... 4.816e+03 4.816e+03 4.816e+03]\n",
      " [1.000e+00 2.000e+00 3.000e+00 ... 5.009e+03 5.010e+03 5.010e+03]\n",
      " [1.000e+00 2.000e+00 3.000e+00 ... 4.822e+03 4.823e+03 4.824e+03]\n",
      " ...\n",
      " [1.000e+00 2.000e+00 3.000e+00 ... 4.677e+03 4.677e+03 4.678e+03]\n",
      " [1.000e+00 2.000e+00 3.000e+00 ... 4.804e+03 4.804e+03 4.804e+03]\n",
      " [1.000e+00 1.000e+00 2.000e+00 ... 5.135e+03 5.136e+03 5.136e+03]]\n",
      "./results/case2_MLP_FASHION_9999_25_ineural3.pkl.gz\n",
      "[[1.000e+00 2.000e+00 3.000e+00 ... 3.426e+03 3.426e+03 3.426e+03]\n",
      " [1.000e+00 2.000e+00 3.000e+00 ... 3.522e+03 3.523e+03 3.523e+03]\n",
      " [1.000e+00 2.000e+00 3.000e+00 ... 3.857e+03 3.857e+03 3.857e+03]\n",
      " ...\n",
      " [1.000e+00 1.000e+00 2.000e+00 ... 3.422e+03 3.422e+03 3.422e+03]\n",
      " [1.000e+00 2.000e+00 3.000e+00 ... 3.395e+03 3.395e+03 3.396e+03]\n",
      " [1.000e+00 2.000e+00 3.000e+00 ... 3.509e+03 3.509e+03 3.509e+03]]\n",
      "./results/case2_MLP_FASHION_9999_25_neuronal6.pkl.gz\n",
      "[[1.000e+00 2.000e+00 3.000e+00 ... 4.828e+03 4.828e+03 4.829e+03]\n",
      " [1.000e+00 2.000e+00 3.000e+00 ... 4.763e+03 4.763e+03 4.764e+03]\n",
      " [1.000e+00 2.000e+00 3.000e+00 ... 4.843e+03 4.844e+03 4.845e+03]\n",
      " ...\n",
      " [1.000e+00 1.000e+00 2.000e+00 ... 4.938e+03 4.939e+03 4.940e+03]\n",
      " [1.000e+00 2.000e+00 3.000e+00 ... 5.055e+03 5.055e+03 5.055e+03]\n",
      " [1.000e+00 2.000e+00 3.000e+00 ... 4.970e+03 4.971e+03 4.971e+03]]\n",
      "./results/case2_MLP_FASHION_9999_25_neuronal3.pkl.gz\n",
      "[[1.000e+00 2.000e+00 3.000e+00 ... 3.510e+03 3.510e+03 3.511e+03]\n",
      " [1.000e+00 2.000e+00 3.000e+00 ... 3.532e+03 3.532e+03 3.532e+03]\n",
      " [1.000e+00 1.000e+00 2.000e+00 ... 3.580e+03 3.581e+03 3.581e+03]\n",
      " ...\n",
      " [1.000e+00 2.000e+00 3.000e+00 ... 3.511e+03 3.511e+03 3.511e+03]\n",
      " [1.000e+00 2.000e+00 3.000e+00 ... 3.551e+03 3.551e+03 3.552e+03]\n",
      " [1.000e+00 1.000e+00 2.000e+00 ... 3.653e+03 3.654e+03 3.654e+03]]\n",
      "./results/case2_MLP_FASHION_9999_25_EEneuralcbpside_v6.pkl.gz\n",
      "[[1.000e+00 2.000e+00 3.000e+00 ... 3.045e+03 3.045e+03 3.045e+03]\n",
      " [1.000e+00 2.000e+00 3.000e+00 ... 3.080e+03 3.080e+03 3.080e+03]\n",
      " [1.000e+00 1.000e+00 2.000e+00 ... 2.923e+03 2.923e+03 2.923e+03]\n",
      " ...\n",
      " [1.000e+00 2.000e+00 3.000e+00 ... 3.494e+03 3.495e+03 3.495e+03]\n",
      " [1.000e+00 2.000e+00 3.000e+00 ... 3.352e+03 3.352e+03 3.352e+03]\n",
      " [1.000e+00 2.000e+00 3.000e+00 ... 3.003e+03 3.003e+03 3.003e+03]]\n",
      "./results/game_case_seven_MLP_covertype_9999_25_ineural6.pkl.gz\n",
      "[[1.000e+00 2.000e+00 3.000e+00 ... 5.130e+03 5.131e+03 5.132e+03]\n",
      " [1.000e+00 2.000e+00 3.000e+00 ... 9.359e+03 9.360e+03 9.361e+03]\n",
      " [1.000e+00 2.000e+00 3.000e+00 ... 5.185e+03 5.185e+03 5.186e+03]\n",
      " ...\n",
      " [1.000e+00 2.000e+00 3.000e+00 ... 9.408e+03 9.409e+03 9.410e+03]\n",
      " [1.000e+00 2.000e+00 3.000e+00 ... 5.126e+03 5.127e+03 5.127e+03]\n",
      " [1.000e+00 2.000e+00 2.000e+00 ... 5.135e+03 5.135e+03 5.136e+03]]\n",
      "./results/game_case_seven_MLP_covertype_9999_25_ineural3.pkl.gz\n",
      "[[1.000e+00 2.000e+00 2.000e+00 ... 5.114e+03 5.115e+03 5.115e+03]\n",
      " [1.000e+00 2.000e+00 3.000e+00 ... 9.637e+03 9.638e+03 9.639e+03]\n",
      " [1.000e+00 2.000e+00 3.000e+00 ... 6.405e+03 6.406e+03 6.407e+03]\n",
      " ...\n",
      " [1.000e+00 2.000e+00 2.000e+00 ... 5.156e+03 5.156e+03 5.156e+03]\n",
      " [1.000e+00 2.000e+00 3.000e+00 ... 5.161e+03 5.162e+03 5.162e+03]\n",
      " [1.000e+00 2.000e+00 3.000e+00 ... 6.323e+03 6.324e+03 6.324e+03]]\n",
      "./results/game_case_seven_MLP_covertype_9999_25_neuronal6.pkl.gz\n",
      "[[1.000e+00 2.000e+00 3.000e+00 ... 7.722e+03 7.722e+03 7.723e+03]\n",
      " [1.000e+00 2.000e+00 3.000e+00 ... 7.856e+03 7.857e+03 7.858e+03]\n",
      " [1.000e+00 2.000e+00 3.000e+00 ... 7.759e+03 7.760e+03 7.760e+03]\n",
      " ...\n",
      " [1.000e+00 2.000e+00 3.000e+00 ... 7.971e+03 7.972e+03 7.973e+03]\n",
      " [1.000e+00 2.000e+00 3.000e+00 ... 7.958e+03 7.958e+03 7.959e+03]\n",
      " [1.000e+00 1.000e+00 2.000e+00 ... 8.254e+03 8.254e+03 8.255e+03]]\n",
      "./results/game_case_seven_MLP_covertype_9999_25_neuronal3.pkl.gz\n",
      "[[1.000e+00 2.000e+00 3.000e+00 ... 5.159e+03 5.160e+03 5.160e+03]\n",
      " [1.000e+00 2.000e+00 3.000e+00 ... 5.120e+03 5.120e+03 5.120e+03]\n",
      " [1.000e+00 1.000e+00 2.000e+00 ... 6.332e+03 6.332e+03 6.333e+03]\n",
      " ...\n",
      " [1.000e+00 2.000e+00 3.000e+00 ... 5.947e+03 5.947e+03 5.947e+03]\n",
      " [1.000e+00 2.000e+00 3.000e+00 ... 6.017e+03 6.017e+03 6.017e+03]\n",
      " [1.000e+00 2.000e+00 3.000e+00 ... 5.915e+03 5.915e+03 5.915e+03]]\n",
      "./results/game_case_seven_MLP_covertype_9999_25_EEneuralcbpside_v6.pkl.gz\n",
      "[[1.000e+00 2.000e+00 2.000e+00 ... 5.128e+03 5.129e+03 5.129e+03]\n",
      " [1.000e+00 2.000e+00 3.000e+00 ... 5.142e+03 5.142e+03 5.142e+03]\n",
      " [1.000e+00 2.000e+00 3.000e+00 ... 6.297e+03 6.297e+03 6.297e+03]\n",
      " ...\n",
      " [1.000e+00 2.000e+00 2.000e+00 ... 4.297e+03 4.297e+03 4.297e+03]\n",
      " [1.000e+00 1.000e+00 2.000e+00 ... 4.215e+03 4.215e+03 4.215e+03]\n",
      " [1.000e+00 2.000e+00 2.000e+00 ... 4.195e+03 4.196e+03 4.197e+03]]\n",
      "./results/game_case_seven_MLP_shuttle_9999_25_ineural6.pkl.gz\n",
      "[[1.000e+00 2.000e+00 3.000e+00 ... 8.185e+03 8.186e+03 8.187e+03]\n",
      " [1.000e+00 1.000e+00 2.000e+00 ... 8.279e+03 8.280e+03 8.281e+03]\n",
      " [1.000e+00 2.000e+00 3.000e+00 ... 5.846e+03 5.846e+03 5.846e+03]\n",
      " ...\n",
      " [1.000e+00 2.000e+00 3.000e+00 ... 7.692e+03 7.693e+03 7.694e+03]\n",
      " [1.000e+00 2.000e+00 3.000e+00 ... 7.871e+03 7.872e+03 7.873e+03]\n",
      " [1.000e+00 2.000e+00 2.000e+00 ... 7.026e+03 7.027e+03 7.028e+03]]\n",
      "./results/game_case_seven_MLP_shuttle_9999_25_ineural3.pkl.gz\n",
      "[[1.000e+00 2.000e+00 3.000e+00 ... 2.420e+03 2.421e+03 2.422e+03]\n",
      " [1.000e+00 2.000e+00 2.000e+00 ... 3.467e+03 3.467e+03 3.468e+03]\n",
      " [1.000e+00 1.000e+00 2.000e+00 ... 2.981e+03 2.981e+03 2.981e+03]\n",
      " ...\n",
      " [1.000e+00 1.000e+00 2.000e+00 ... 2.626e+03 2.626e+03 2.626e+03]\n",
      " [1.000e+00 2.000e+00 3.000e+00 ... 1.899e+03 1.899e+03 1.899e+03]\n",
      " [1.000e+00 2.000e+00 3.000e+00 ... 4.280e+03 4.281e+03 4.282e+03]]\n",
      "./results/game_case_seven_MLP_shuttle_9999_25_neuronal6.pkl.gz\n",
      "[[1.000e+00 1.000e+00 2.000e+00 ... 2.037e+03 2.037e+03 2.037e+03]\n",
      " [1.000e+00 2.000e+00 3.000e+00 ... 2.115e+03 2.115e+03 2.115e+03]\n",
      " [1.000e+00 1.000e+00 2.000e+00 ... 2.182e+03 2.182e+03 2.182e+03]\n",
      " ...\n",
      " [1.000e+00 2.000e+00 3.000e+00 ... 1.472e+03 1.472e+03 1.472e+03]\n",
      " [1.000e+00 2.000e+00 2.000e+00 ... 2.232e+03 2.232e+03 2.232e+03]\n",
      " [1.000e+00 2.000e+00 3.000e+00 ... 1.521e+03 1.521e+03 1.521e+03]]\n",
      "./results/game_case_seven_MLP_shuttle_9999_25_neuronal3.pkl.gz\n",
      "[[1.000e+00 2.000e+00 2.000e+00 ... 2.196e+03 2.196e+03 2.197e+03]\n",
      " [1.000e+00 1.000e+00 2.000e+00 ... 2.181e+03 2.182e+03 2.182e+03]\n",
      " [1.000e+00 1.000e+00 2.000e+00 ... 2.122e+03 2.122e+03 2.123e+03]\n",
      " ...\n",
      " [1.000e+00 2.000e+00 3.000e+00 ... 8.503e+03 8.504e+03 8.505e+03]\n",
      " [1.000e+00 2.000e+00 2.000e+00 ... 2.221e+03 2.221e+03 2.221e+03]\n",
      " [1.000e+00 2.000e+00 3.000e+00 ... 2.121e+03 2.121e+03 2.121e+03]]\n",
      "./results/game_case_seven_MLP_shuttle_9999_25_EEneuralcbpside_v6.pkl.gz\n",
      "[[1.000e+00 2.000e+00 3.000e+00 ... 2.116e+03 2.117e+03 2.117e+03]\n",
      " [1.000e+00 1.000e+00 2.000e+00 ... 2.174e+03 2.175e+03 2.175e+03]\n",
      " [1.000e+00 1.000e+00 2.000e+00 ... 2.186e+03 2.186e+03 2.187e+03]\n",
      " ...\n",
      " [1.000e+00 2.000e+00 2.000e+00 ... 1.163e+03 1.163e+03 1.163e+03]\n",
      " [1.000e+00 2.000e+00 3.000e+00 ... 1.306e+03 1.306e+03 1.307e+03]\n",
      " [1.000e+00 1.000e+00 2.000e+00 ... 1.329e+03 1.329e+03 1.329e+03]]\n"
     ]
    }
   ],
   "source": [
    "def format_perf(perf, model, dataset, l_label):\n",
    "\n",
    "    processed_data = []\n",
    "    i = 0\n",
    "    for item in perf:\n",
    "        processed_item = {}\n",
    "        # key_mapping = dict( zip( item.keys(), [10, 50, 100, 250, 500, 750, 1000, 2500, 5000, 7500, 9000]))\n",
    "        new_dict = item #{key_mapping[old_key]: value for old_key, value in item.items()}\n",
    "        for key in new_dict:\n",
    "            # processed_item[f'accuracy_{key}'] = new_dict[key]['accuracy']\n",
    "            processed_item[f'f1_{key}'] = new_dict[key]['f1']\n",
    "        processed_item['Seed'] = i\n",
    "        processed_item['Model'] = model\n",
    "        processed_item['Dataset'] = dataset\n",
    "        processed_item['Approach'] = l_label\n",
    "        i = i+1\n",
    "        processed_data.append(processed_item)\n",
    "    return processed_data\n",
    "\n",
    "\n",
    "def convert_action_history(action_history, n_folds):\n",
    "    counters = []\n",
    "    for history in action_history:\n",
    "        counter = np.cumsum([ 1 if action == 0 else 0 for action in history ])\n",
    "        counters.append(counter)\n",
    "\n",
    "    std = 2.575 * np.std(counters, axis = 0) / np.sqrt(n_folds )\n",
    "    # std = np.std(counters, axis = 0) #/ n_folds \n",
    "\n",
    "    return np.mean(counters, axis = 0), std \n",
    "\n",
    "n_folds = 26\n",
    "horizon = 9999\n",
    "model = 'MLP'\n",
    "\n",
    "material = {\n",
    "    #'EEneuralcbpside_v5': {'color': [255, 255, 0], 'label': 'EEneuralcbpside_v5'},  # Red\n",
    "    'ineural6': {'color': [51, 255, 255], 'label':'IneurAL (official)'},                    # Yellow\n",
    "    'ineural3': {'color': [0, 0, 255], 'label':'IneurAL (tuned)'},                    # Cyan\n",
    "    'neuronal6': {'color': [255, 0, 255], 'label':'Neuronal (official)'},                  # Magenta\n",
    "    'neuronal3': {'color': [160, 160, 160], 'label':'Neuronal (tuned)'},                   # Orange\n",
    "    'EEneuralcbpside_v6': {'color': [255, 0, 0], 'label': 'Neural-CBP'},  # Red\n",
    "    # 'margin': {'color': [160, 160, 160], 'label':'Margin'},\n",
    "    # 'cesa': {'color': [0, 0, 255], 'label':'Cesa'},\n",
    "}\n",
    "\n",
    "fig = go.Figure( )\n",
    "\n",
    "data_models = {}\n",
    "perfs_final = {}\n",
    "explo_final = {}\n",
    "explo2_final = {}\n",
    "\n",
    "for model in ['MLP']:  # 'LeNet'\n",
    "\n",
    "    if model == 'MLP':\n",
    "        n_folds = 25\n",
    "        datasets = ['MNIST', 'FASHION', 'covertype', 'shuttle',] # \n",
    "    # else:\n",
    "    #     datasets = ['MNIST', 'FASHION', 'CIFAR10',]\n",
    "    #     n_folds = 25\n",
    "\n",
    "    data_regrets = {} \n",
    "    data_perfs = {} \n",
    "    data_explo = {}\n",
    "    data_explo2 = {}\n",
    "    for data in datasets: \n",
    "\n",
    "        if data in ['MNIST', 'FASHION', 'CIFAR10']:\n",
    "            case = 'case2' \n",
    "        elif data in ['covertype', 'shuttle']:\n",
    "            case = 'game_case_seven'\n",
    "        # else:\n",
    "        # case = 'case2'\n",
    "        \n",
    "        final_regrets = {}\n",
    "        final_perfs = {}\n",
    "        explo_perfs = {}\n",
    "        explo2_perfs = {}\n",
    "        for agent_name in material.keys():\n",
    "\n",
    "            color, l_label = material[agent_name]['color'], material[agent_name]['label']\n",
    "\n",
    "            r,g,b = color\n",
    "\n",
    "            # try:\n",
    "            direct = './results/'\n",
    "            path = os.path.join(direct, '{}_{}_{}_{}_{}_{}.pkl.gz'.format(case, model, data, horizon,n_folds,agent_name) )\n",
    "            print(path)\n",
    "            regret, action_history,outcome_history, perf = loadall_results2(path, n_folds)\n",
    "            regret = np.array(regret)\n",
    "            print(regret)\n",
    "            regret = regret#[1:]\n",
    "\n",
    "            final_regrets[l_label] = regret[:,-1] \n",
    "            final_perfs[l_label] = pd.DataFrame( format_perf(perf, model, data, l_label) )\n",
    "\n",
    "            m, s = convert_action_history(action_history, n_folds)\n",
    "            explo_perfs[l_label] = m\n",
    "            explo2_perfs[l_label] = s\n",
    "\n",
    "\n",
    "        if data == 'MNISTbinary':\n",
    "            data = 'MNISTbinary'\n",
    "        if data == 'FASHION':\n",
    "            data = 'FASHION'\n",
    "            \n",
    "        data_regrets[data] = final_regrets\n",
    "\n",
    "        dataframes_list = list(final_perfs.values())\n",
    "        concatenated_df = pd.concat(dataframes_list, axis=0)\n",
    "        data_perfs[data] = concatenated_df\n",
    "\n",
    "        data_explo[data] = explo_perfs\n",
    "        data_explo2[data] = explo2_perfs\n",
    "        \n",
    "    data_models[model] = data_regrets\n",
    "    dataframes_list = list(data_perfs.values())\n",
    "    concatenated_df = pd.concat(dataframes_list, axis=0)\n",
    "\n",
    "    explo_final[model] = data_explo\n",
    "    explo2_final[model] = data_explo2\n",
    "\n",
    "# fig.show()\n",
    "# fig.write_image(\"./figures/case1_{}_{}.pdf\".format(model, context) )"
   ]
  },
  {
   "cell_type": "code",
   "execution_count": 3,
   "metadata": {},
   "outputs": [],
   "source": [
    "import pandas as pd\n",
    "# pd.DataFrame(data_regrets)\n",
    "# data_regrets\n",
    "\n",
    "samples = []\n",
    "# Iterate over the dictionary to extract data\n",
    "for model, dataset in data_models.items():\n",
    "    for data, approach in dataset.items():\n",
    "        for appr, values in approach.items():\n",
    "            i = 0\n",
    "            for val in values:\n",
    "                # print(i, appr,val)\n",
    "                samples.append([i, model, data, appr, val])\n",
    "                i = i+1\n",
    "\n",
    "# Create a DataFrame\n",
    "df = pd.DataFrame(samples, columns=['Seed','Model', 'Dataset', 'Approach', 'Value'])\n",
    "df = pd.merge(df, concatenated_df, on=['Model', 'Dataset', 'Approach', 'Seed'])\n"
   ]
  },
  {
   "cell_type": "code",
   "execution_count": 4,
   "metadata": {},
   "outputs": [],
   "source": [
    "exclude_columns = ['Seed', 'Model', 'Dataset', 'Approach']\n",
    "\n",
    "agg_columns = [col for col in df.columns if col not in exclude_columns]\n",
    "\n",
    "df_mean = df.groupby(['Model', 'Dataset', 'Approach'])[agg_columns].agg(['mean',]) # 'std'\n",
    "df_mean.columns = df_mean.columns.get_level_values(0)\n",
    "df_mean = df_mean.reset_index()\n",
    "\n",
    "df_std = df.groupby(['Model', 'Dataset', 'Approach'])[agg_columns].agg(['std',]) # 'std'\n",
    "df_std.columns = df_std.columns.get_level_values(0)\n",
    "df_std = df_std.reset_index()\n"
   ]
  },
  {
   "cell_type": "code",
   "execution_count": 8,
   "metadata": {},
   "outputs": [
    {
     "data": {
      "application/vnd.plotly.v1+json": {
       "config": {
        "plotlyServerURL": "https://plot.ly"
       },
       "data": [
        {
         "error_y": {
          "array": [
           0.12368266829037758,
           0.12564609387955916,
           0.1525878549582992,
           0.1428607550481307,
           0.06382340139431193,
           0.06461668811939379,
           0.08020971170387682,
           0.07031487571713045,
           0.09363665427414239,
           0.07462415551864435,
           0.032268531388913654,
           0.01078132321833963,
           0.004679001334568936
          ],
          "thickness": 1,
          "type": "data",
          "visible": true,
          "width": 3
         },
         "line": {
          "color": "rgba(255,161,90,1)",
          "dash": "solid",
          "width": 1
         },
         "marker": {
          "size": 2.5
         },
         "name": "IneurAL (official)",
         "type": "scatter",
         "x": [
          10,
          25,
          50,
          100,
          150,
          250,
          300,
          400,
          500,
          750,
          1000,
          2500,
          5000,
          7500,
          9000
         ],
         "xaxis": "x",
         "y": [
          0.5995099025275284,
          0.6440571000307691,
          0.5863398537884723,
          0.6905862791749047,
          0.8274129467971114,
          0.8800291204903816,
          0.853534970871308,
          0.8898897340407538,
          0.8768216506700819,
          0.9036532014787491,
          0.929827517846258,
          0.9627404830125238,
          0.9801825179166578
         ],
         "yaxis": "y"
        },
        {
         "error_y": {
          "array": [
           0.15337817219222422,
           0.14800271304826496,
           0.14243220506832835,
           0.1382038330853437,
           0.12021736539109973,
           0.12380027222885784,
           0.12852513178760122,
           0.1554823849569053,
           0.13422233730231184,
           0.11686295466227344,
           0.07406398343893608,
           0.010756577843719882,
           null
          ],
          "thickness": 1,
          "type": "data",
          "visible": true,
          "width": 3
         },
         "line": {
          "color": "rgba(25,211,243,1)",
          "dash": "solid",
          "width": 1
         },
         "marker": {
          "size": 2.5
         },
         "name": "IneurAL (tuned)",
         "type": "scatter",
         "x": [
          10,
          25,
          50,
          100,
          150,
          250,
          300,
          400,
          500,
          750,
          1000,
          2500,
          5000,
          7500,
          9000
         ],
         "xaxis": "x",
         "y": [
          0.511483872697204,
          0.4722037635040839,
          0.5372843343846204,
          0.6083888533339497,
          0.6955670195609701,
          0.7317832501881507,
          0.7204369893687007,
          0.7188002856862737,
          0.7452150340532362,
          0.7985167141952672,
          0.8769879199595132,
          0.9631051342579909,
          null
         ],
         "yaxis": "y"
        },
        {
         "error_y": {
          "array": [
           0.02587496626208142,
           0.03751693371149586,
           0.040842630763075885,
           0.043324186921765366,
           0.04305764608011132,
           0.04135246320874284,
           0.041594189947966445,
           0.04218015166164748,
           0.043548200256821254,
           0.03431695057099114,
           0.015518650490827578,
           null,
           null
          ],
          "thickness": 1,
          "type": "data",
          "visible": true,
          "width": 3
         },
         "line": {
          "color": "rgba(255,102,146,1)",
          "dash": "solid",
          "width": 1
         },
         "marker": {
          "size": 2.5
         },
         "name": "Neuronal (official)",
         "type": "scatter",
         "x": [
          10,
          25,
          50,
          100,
          150,
          250,
          300,
          400,
          500,
          750,
          1000,
          2500,
          5000,
          7500,
          9000
         ],
         "xaxis": "x",
         "y": [
          0.7340919162908353,
          0.7713041084486287,
          0.7802123046541439,
          0.8034169721401466,
          0.8211867860367944,
          0.85006629887028,
          0.8581843488914017,
          0.8592901444992946,
          0.8635487078542026,
          0.8939468572007071,
          0.931714356710385,
          null,
          null
         ],
         "yaxis": "y"
        },
        {
         "error_y": {
          "array": [
           null,
           null,
           null,
           null,
           null,
           null,
           null,
           null,
           null,
           null,
           null,
           null,
           null
          ],
          "thickness": 1,
          "type": "data",
          "visible": true,
          "width": 3
         },
         "line": {
          "color": "rgba(182,232,128,1)",
          "dash": "solid",
          "width": 1
         },
         "marker": {
          "size": 2.5
         },
         "name": "Neuronal (tuned)",
         "type": "scatter",
         "x": [
          10,
          25,
          50,
          100,
          150,
          250,
          300,
          400,
          500,
          750,
          1000,
          2500,
          5000,
          7500,
          9000
         ],
         "xaxis": "x",
         "y": [
          0.6801188722666361,
          0.7339735745237146,
          null,
          null,
          null,
          null,
          null,
          null,
          null,
          null,
          null,
          null,
          null
         ],
         "yaxis": "y"
        },
        {
         "error_y": {
          "array": [
           0.023508109520862908,
           0.02073637014748878,
           0.020204771829542632,
           0.02044513907779793,
           0.023652631372273972,
           0.021826572310057323,
           0.023246649493907007,
           0.026853841932672828,
           null,
           null,
           null,
           null,
           null
          ],
          "thickness": 1,
          "type": "data",
          "visible": true,
          "width": 3
         },
         "line": {
          "color": "rgba(171,99,250,1)",
          "dash": "solid",
          "width": 1
         },
         "marker": {
          "size": 2.5
         },
         "name": "Neural-CBP",
         "type": "scatter",
         "x": [
          10,
          25,
          50,
          100,
          150,
          250,
          300,
          400,
          500,
          750,
          1000,
          2500,
          5000,
          7500,
          9000
         ],
         "xaxis": "x",
         "y": [
          0.7940021706476588,
          0.8289769701085559,
          0.8472730590900871,
          0.8827727730810749,
          0.8888878069384463,
          0.9084814710692762,
          0.9269874166562668,
          0.936311155195643,
          0.8910168814993963,
          null,
          null,
          null,
          null
         ],
         "yaxis": "y"
        }
       ],
       "layout": {
        "height": 180,
        "margin": {
         "b": 0,
         "l": 0,
         "r": 0,
         "t": 3
        },
        "paper_bgcolor": "white",
        "plot_bgcolor": "white",
        "showlegend": false,
        "template": {
         "data": {
          "bar": [
           {
            "error_x": {
             "color": "#2a3f5f"
            },
            "error_y": {
             "color": "#2a3f5f"
            },
            "marker": {
             "line": {
              "color": "#E5ECF6",
              "width": 0.5
             },
             "pattern": {
              "fillmode": "overlay",
              "size": 10,
              "solidity": 0.2
             }
            },
            "type": "bar"
           }
          ],
          "barpolar": [
           {
            "marker": {
             "line": {
              "color": "#E5ECF6",
              "width": 0.5
             },
             "pattern": {
              "fillmode": "overlay",
              "size": 10,
              "solidity": 0.2
             }
            },
            "type": "barpolar"
           }
          ],
          "carpet": [
           {
            "aaxis": {
             "endlinecolor": "#2a3f5f",
             "gridcolor": "white",
             "linecolor": "white",
             "minorgridcolor": "white",
             "startlinecolor": "#2a3f5f"
            },
            "baxis": {
             "endlinecolor": "#2a3f5f",
             "gridcolor": "white",
             "linecolor": "white",
             "minorgridcolor": "white",
             "startlinecolor": "#2a3f5f"
            },
            "type": "carpet"
           }
          ],
          "choropleth": [
           {
            "colorbar": {
             "outlinewidth": 0,
             "ticks": ""
            },
            "type": "choropleth"
           }
          ],
          "contour": [
           {
            "colorbar": {
             "outlinewidth": 0,
             "ticks": ""
            },
            "colorscale": [
             [
              0,
              "#0d0887"
             ],
             [
              0.1111111111111111,
              "#46039f"
             ],
             [
              0.2222222222222222,
              "#7201a8"
             ],
             [
              0.3333333333333333,
              "#9c179e"
             ],
             [
              0.4444444444444444,
              "#bd3786"
             ],
             [
              0.5555555555555556,
              "#d8576b"
             ],
             [
              0.6666666666666666,
              "#ed7953"
             ],
             [
              0.7777777777777778,
              "#fb9f3a"
             ],
             [
              0.8888888888888888,
              "#fdca26"
             ],
             [
              1,
              "#f0f921"
             ]
            ],
            "type": "contour"
           }
          ],
          "contourcarpet": [
           {
            "colorbar": {
             "outlinewidth": 0,
             "ticks": ""
            },
            "type": "contourcarpet"
           }
          ],
          "heatmap": [
           {
            "colorbar": {
             "outlinewidth": 0,
             "ticks": ""
            },
            "colorscale": [
             [
              0,
              "#0d0887"
             ],
             [
              0.1111111111111111,
              "#46039f"
             ],
             [
              0.2222222222222222,
              "#7201a8"
             ],
             [
              0.3333333333333333,
              "#9c179e"
             ],
             [
              0.4444444444444444,
              "#bd3786"
             ],
             [
              0.5555555555555556,
              "#d8576b"
             ],
             [
              0.6666666666666666,
              "#ed7953"
             ],
             [
              0.7777777777777778,
              "#fb9f3a"
             ],
             [
              0.8888888888888888,
              "#fdca26"
             ],
             [
              1,
              "#f0f921"
             ]
            ],
            "type": "heatmap"
           }
          ],
          "heatmapgl": [
           {
            "colorbar": {
             "outlinewidth": 0,
             "ticks": ""
            },
            "colorscale": [
             [
              0,
              "#0d0887"
             ],
             [
              0.1111111111111111,
              "#46039f"
             ],
             [
              0.2222222222222222,
              "#7201a8"
             ],
             [
              0.3333333333333333,
              "#9c179e"
             ],
             [
              0.4444444444444444,
              "#bd3786"
             ],
             [
              0.5555555555555556,
              "#d8576b"
             ],
             [
              0.6666666666666666,
              "#ed7953"
             ],
             [
              0.7777777777777778,
              "#fb9f3a"
             ],
             [
              0.8888888888888888,
              "#fdca26"
             ],
             [
              1,
              "#f0f921"
             ]
            ],
            "type": "heatmapgl"
           }
          ],
          "histogram": [
           {
            "marker": {
             "pattern": {
              "fillmode": "overlay",
              "size": 10,
              "solidity": 0.2
             }
            },
            "type": "histogram"
           }
          ],
          "histogram2d": [
           {
            "colorbar": {
             "outlinewidth": 0,
             "ticks": ""
            },
            "colorscale": [
             [
              0,
              "#0d0887"
             ],
             [
              0.1111111111111111,
              "#46039f"
             ],
             [
              0.2222222222222222,
              "#7201a8"
             ],
             [
              0.3333333333333333,
              "#9c179e"
             ],
             [
              0.4444444444444444,
              "#bd3786"
             ],
             [
              0.5555555555555556,
              "#d8576b"
             ],
             [
              0.6666666666666666,
              "#ed7953"
             ],
             [
              0.7777777777777778,
              "#fb9f3a"
             ],
             [
              0.8888888888888888,
              "#fdca26"
             ],
             [
              1,
              "#f0f921"
             ]
            ],
            "type": "histogram2d"
           }
          ],
          "histogram2dcontour": [
           {
            "colorbar": {
             "outlinewidth": 0,
             "ticks": ""
            },
            "colorscale": [
             [
              0,
              "#0d0887"
             ],
             [
              0.1111111111111111,
              "#46039f"
             ],
             [
              0.2222222222222222,
              "#7201a8"
             ],
             [
              0.3333333333333333,
              "#9c179e"
             ],
             [
              0.4444444444444444,
              "#bd3786"
             ],
             [
              0.5555555555555556,
              "#d8576b"
             ],
             [
              0.6666666666666666,
              "#ed7953"
             ],
             [
              0.7777777777777778,
              "#fb9f3a"
             ],
             [
              0.8888888888888888,
              "#fdca26"
             ],
             [
              1,
              "#f0f921"
             ]
            ],
            "type": "histogram2dcontour"
           }
          ],
          "mesh3d": [
           {
            "colorbar": {
             "outlinewidth": 0,
             "ticks": ""
            },
            "type": "mesh3d"
           }
          ],
          "parcoords": [
           {
            "line": {
             "colorbar": {
              "outlinewidth": 0,
              "ticks": ""
             }
            },
            "type": "parcoords"
           }
          ],
          "pie": [
           {
            "automargin": true,
            "type": "pie"
           }
          ],
          "scatter": [
           {
            "fillpattern": {
             "fillmode": "overlay",
             "size": 10,
             "solidity": 0.2
            },
            "type": "scatter"
           }
          ],
          "scatter3d": [
           {
            "line": {
             "colorbar": {
              "outlinewidth": 0,
              "ticks": ""
             }
            },
            "marker": {
             "colorbar": {
              "outlinewidth": 0,
              "ticks": ""
             }
            },
            "type": "scatter3d"
           }
          ],
          "scattercarpet": [
           {
            "marker": {
             "colorbar": {
              "outlinewidth": 0,
              "ticks": ""
             }
            },
            "type": "scattercarpet"
           }
          ],
          "scattergeo": [
           {
            "marker": {
             "colorbar": {
              "outlinewidth": 0,
              "ticks": ""
             }
            },
            "type": "scattergeo"
           }
          ],
          "scattergl": [
           {
            "marker": {
             "colorbar": {
              "outlinewidth": 0,
              "ticks": ""
             }
            },
            "type": "scattergl"
           }
          ],
          "scattermapbox": [
           {
            "marker": {
             "colorbar": {
              "outlinewidth": 0,
              "ticks": ""
             }
            },
            "type": "scattermapbox"
           }
          ],
          "scatterpolar": [
           {
            "marker": {
             "colorbar": {
              "outlinewidth": 0,
              "ticks": ""
             }
            },
            "type": "scatterpolar"
           }
          ],
          "scatterpolargl": [
           {
            "marker": {
             "colorbar": {
              "outlinewidth": 0,
              "ticks": ""
             }
            },
            "type": "scatterpolargl"
           }
          ],
          "scatterternary": [
           {
            "marker": {
             "colorbar": {
              "outlinewidth": 0,
              "ticks": ""
             }
            },
            "type": "scatterternary"
           }
          ],
          "surface": [
           {
            "colorbar": {
             "outlinewidth": 0,
             "ticks": ""
            },
            "colorscale": [
             [
              0,
              "#0d0887"
             ],
             [
              0.1111111111111111,
              "#46039f"
             ],
             [
              0.2222222222222222,
              "#7201a8"
             ],
             [
              0.3333333333333333,
              "#9c179e"
             ],
             [
              0.4444444444444444,
              "#bd3786"
             ],
             [
              0.5555555555555556,
              "#d8576b"
             ],
             [
              0.6666666666666666,
              "#ed7953"
             ],
             [
              0.7777777777777778,
              "#fb9f3a"
             ],
             [
              0.8888888888888888,
              "#fdca26"
             ],
             [
              1,
              "#f0f921"
             ]
            ],
            "type": "surface"
           }
          ],
          "table": [
           {
            "cells": {
             "fill": {
              "color": "#EBF0F8"
             },
             "line": {
              "color": "white"
             }
            },
            "header": {
             "fill": {
              "color": "#C8D4E3"
             },
             "line": {
              "color": "white"
             }
            },
            "type": "table"
           }
          ]
         },
         "layout": {
          "annotationdefaults": {
           "arrowcolor": "#2a3f5f",
           "arrowhead": 0,
           "arrowwidth": 1
          },
          "autotypenumbers": "strict",
          "coloraxis": {
           "colorbar": {
            "outlinewidth": 0,
            "ticks": ""
           }
          },
          "colorscale": {
           "diverging": [
            [
             0,
             "#8e0152"
            ],
            [
             0.1,
             "#c51b7d"
            ],
            [
             0.2,
             "#de77ae"
            ],
            [
             0.3,
             "#f1b6da"
            ],
            [
             0.4,
             "#fde0ef"
            ],
            [
             0.5,
             "#f7f7f7"
            ],
            [
             0.6,
             "#e6f5d0"
            ],
            [
             0.7,
             "#b8e186"
            ],
            [
             0.8,
             "#7fbc41"
            ],
            [
             0.9,
             "#4d9221"
            ],
            [
             1,
             "#276419"
            ]
           ],
           "sequential": [
            [
             0,
             "#0d0887"
            ],
            [
             0.1111111111111111,
             "#46039f"
            ],
            [
             0.2222222222222222,
             "#7201a8"
            ],
            [
             0.3333333333333333,
             "#9c179e"
            ],
            [
             0.4444444444444444,
             "#bd3786"
            ],
            [
             0.5555555555555556,
             "#d8576b"
            ],
            [
             0.6666666666666666,
             "#ed7953"
            ],
            [
             0.7777777777777778,
             "#fb9f3a"
            ],
            [
             0.8888888888888888,
             "#fdca26"
            ],
            [
             1,
             "#f0f921"
            ]
           ],
           "sequentialminus": [
            [
             0,
             "#0d0887"
            ],
            [
             0.1111111111111111,
             "#46039f"
            ],
            [
             0.2222222222222222,
             "#7201a8"
            ],
            [
             0.3333333333333333,
             "#9c179e"
            ],
            [
             0.4444444444444444,
             "#bd3786"
            ],
            [
             0.5555555555555556,
             "#d8576b"
            ],
            [
             0.6666666666666666,
             "#ed7953"
            ],
            [
             0.7777777777777778,
             "#fb9f3a"
            ],
            [
             0.8888888888888888,
             "#fdca26"
            ],
            [
             1,
             "#f0f921"
            ]
           ]
          },
          "colorway": [
           "#636efa",
           "#EF553B",
           "#00cc96",
           "#ab63fa",
           "#FFA15A",
           "#19d3f3",
           "#FF6692",
           "#B6E880",
           "#FF97FF",
           "#FECB52"
          ],
          "font": {
           "color": "#2a3f5f"
          },
          "geo": {
           "bgcolor": "white",
           "lakecolor": "white",
           "landcolor": "#E5ECF6",
           "showlakes": true,
           "showland": true,
           "subunitcolor": "white"
          },
          "hoverlabel": {
           "align": "left"
          },
          "hovermode": "closest",
          "mapbox": {
           "style": "light"
          },
          "paper_bgcolor": "white",
          "plot_bgcolor": "#E5ECF6",
          "polar": {
           "angularaxis": {
            "gridcolor": "white",
            "linecolor": "white",
            "ticks": ""
           },
           "bgcolor": "#E5ECF6",
           "radialaxis": {
            "gridcolor": "white",
            "linecolor": "white",
            "ticks": ""
           }
          },
          "scene": {
           "xaxis": {
            "backgroundcolor": "#E5ECF6",
            "gridcolor": "white",
            "gridwidth": 2,
            "linecolor": "white",
            "showbackground": true,
            "ticks": "",
            "zerolinecolor": "white"
           },
           "yaxis": {
            "backgroundcolor": "#E5ECF6",
            "gridcolor": "white",
            "gridwidth": 2,
            "linecolor": "white",
            "showbackground": true,
            "ticks": "",
            "zerolinecolor": "white"
           },
           "zaxis": {
            "backgroundcolor": "#E5ECF6",
            "gridcolor": "white",
            "gridwidth": 2,
            "linecolor": "white",
            "showbackground": true,
            "ticks": "",
            "zerolinecolor": "white"
           }
          },
          "shapedefaults": {
           "line": {
            "color": "#2a3f5f"
           }
          },
          "ternary": {
           "aaxis": {
            "gridcolor": "white",
            "linecolor": "white",
            "ticks": ""
           },
           "baxis": {
            "gridcolor": "white",
            "linecolor": "white",
            "ticks": ""
           },
           "bgcolor": "#E5ECF6",
           "caxis": {
            "gridcolor": "white",
            "linecolor": "white",
            "ticks": ""
           }
          },
          "title": {
           "x": 0.05
          },
          "xaxis": {
           "automargin": true,
           "gridcolor": "white",
           "linecolor": "white",
           "ticks": "",
           "title": {
            "standoff": 15
           },
           "zerolinecolor": "white",
           "zerolinewidth": 2
          },
          "yaxis": {
           "automargin": true,
           "gridcolor": "white",
           "linecolor": "white",
           "ticks": "",
           "title": {
            "standoff": 15
           },
           "zerolinecolor": "white",
           "zerolinewidth": 2
          }
         }
        },
        "width": 220,
        "xaxis": {
         "anchor": "y",
         "domain": [
          0,
          1
         ],
         "gridcolor": "lightgrey",
         "tickfont": {
          "size": 10.5
         },
         "tickmode": "array",
         "title": {
          "font": {
           "size": 10.5
          },
          "standoff": 5,
          "text": "Expert query volume"
         },
         "type": "log"
        },
        "yaxis": {
         "anchor": "x",
         "domain": [
          0,
          1
         ],
         "gridcolor": "lightgrey",
         "tickfont": {
          "size": 10.5
         },
         "tickvals": [
          0,
          0.1,
          0.2,
          0.3,
          0.4,
          0.5,
          0.6,
          0.7,
          0.8,
          0.9,
          1
         ],
         "title": {
          "font": {
           "size": 10.5
          },
          "standoff": 5,
          "text": "f1-score ± 99% CI"
         }
        }
       }
      }
     },
     "metadata": {},
     "output_type": "display_data"
    }
   ],
   "source": [
    "import plotly.graph_objects as go\n",
    "from plotly.subplots import make_subplots\n",
    "import numpy as np\n",
    "\n",
    "import plotly.graph_objects as go\n",
    "import plotly.express as px\n",
    "\n",
    "dataset = 'shuttle'\n",
    "\n",
    "approaches = {\n",
    "    #'EEneuralcbpside_v5': {'color': [255, 255, 0], 'label': 'EEneuralcbpside_v5'},  # Red\n",
    "    'IneurAL (official)': {'color': [255, 161, 90], 'label':'IneurAL6'},                    # Yellow\n",
    "    'IneurAL (tuned)': {'color': [25, 211, 243], 'label':'IneurAL3'},                    # Cyan\n",
    "    'Neuronal (official)': {'color': [255, 102, 146], 'label':'neuronal6'},                  # Magenta\n",
    "    'Neuronal (tuned)': {'color': [182, 232, 128], 'label':'neuronal3'} ,                  # Orange\n",
    "    'Neural-CBP': {'color': [171, 99, 250], 'label': 'EEneuralcbpside_v6'},  # Red\n",
    "    # 'margin': {'color': [160, 160, 160], 'label':'margin'},\n",
    "    # 'cesa': {'color': [0, 0, 255], 'label':'cesa'},\n",
    "}\n",
    "\n",
    "thresholds = ['f1_10', 'f1_25', 'f1_50', 'f1_100', 'f1_150',\n",
    "              'f1_250', 'f1_300', 'f1_400', 'f1_500', 'f1_750', \n",
    "              'f1_1000', 'f1_2500', 'f1_5000', ] #'f1_7500',\n",
    "\n",
    "\n",
    "# Create a subplot with 1 row and 2 columns\n",
    "fig = make_subplots(rows=1, cols=1, ) #subplot_titles=(\"f1-score\", \"# of labelled observations\")\n",
    "\n",
    "# Add your traces for the first figure to the first subplot\n",
    "for approach in approaches.keys():\n",
    "    # ... [your existing code for calculating mean_values, std_values, and color] ...\n",
    "    mean_values = [] \n",
    "    std_values = []\n",
    "    r,g,b = approaches[approach]['color']\n",
    "    \n",
    "    for threshold in thresholds:\n",
    "        mean_value = df_mean[(df_mean['Dataset'] == dataset) & (df_mean['Approach'] == approach)][threshold].values[0]\n",
    "        mean_values.append(mean_value)\n",
    "\n",
    "        std_value = df_std[(df_std['Dataset'] == dataset) & (df_std['Approach'] == approach)][threshold].values[0]\n",
    "        # std_values.append(std_value)\n",
    "        std_values.append( 2.575 * std_value / np.sqrt(n_folds)  )\n",
    "\n",
    "    fig.add_trace(go.Scatter(\n",
    "        x=[10, 25, 50, 100, 150, 250, 300, 400, 500, 750, 1000, 2500, 5000, 7500, 9000], \n",
    "        y=mean_values,\n",
    "        error_y=dict(type='data', array=std_values, visible=True, thickness=1, width=3),\n",
    "        line=dict(dash='solid', width=1, color='rgba({},{},{},1)'.format(r,g,b)),\n",
    "        marker=dict(size=2.5),\n",
    "        name=approach), \n",
    "        row=1, col=1)\n",
    "\n",
    "# Add your traces for the second figure to the second subplot\n",
    "# for approach in approaches.keys():\n",
    "#     # ... [your existing code for calculating explo_value, upper, and color] ...\n",
    "#     r,g,b = approaches[approach]['color']\n",
    "#     explo_value = explo_final['MLP'][dataset][approach]\n",
    "#     upper = explo_value + explo2_final['MLP'][dataset][approach]\n",
    "#     xcoords = np.arange(0,horizon,1).tolist()\n",
    "\n",
    "#     fig.add_trace(go.Scatter(\n",
    "#         x=xcoords+xcoords[::-1], \n",
    "#         y=upper.tolist()+explo_value.tolist()[::-1],  \n",
    "#         fill='toself',\n",
    "#         fillcolor='rgba({},{},{},0.2)'.format(r,g,b),\n",
    "#         line=dict(color='rgba({},{},{},1)'.format(r,g,b), width=0),\n",
    "#         hoverinfo=\"skip\"),\n",
    "#         row=1, col=2)\n",
    "    \n",
    "#     fig.add_trace(go.Scatter(\n",
    "#         x=xcoords, \n",
    "#         y=explo_value,\n",
    "#         line=dict(dash='solid', width=2, color='rgba({},{},{},1)'.format(r,g,b)),\n",
    "#         name=approach), \n",
    "#         row=1, col=2)\n",
    "\n",
    "# Update layout and axes for the combined figure\n",
    "siz = 12.5\n",
    "fig.update_layout(\n",
    "    width=220,  # Adjusted for two subplots\n",
    "    height=180,\n",
    "    plot_bgcolor='white',\n",
    "    paper_bgcolor='white',\n",
    "    margin=dict(l=0, r=0, t=3, b=0),\n",
    "    showlegend=False\n",
    ")\n",
    "\n",
    "# Update xaxis and yaxis properties for each subplot\n",
    "fig.update_xaxes(title_text=\"Expert query volume\", row=1, col=1, gridcolor='lightgrey', tickmode='array', type=\"log\", title_standoff=5, title_font=dict(size=siz-2), tickfont=dict(size=siz-2))\n",
    "fig.update_yaxes(title_text=\"f1-score ± 99% CI\", row=1, col=1,  gridcolor='lightgrey', title_standoff=5, \n",
    "                 title_font=dict(size=siz-2), tickfont=dict(size=siz-2), tickvals=[0, 0.1, 0.2, 0.3, 0.4, 0.5, 0.6, 0.7, 0.8, 0.9, 1])\n",
    "\n",
    "# fig.update_xaxes(title_text=\"Round\", row=1, col=2, gridcolor='lightgrey', tickmode='array', title_standoff=5, title_font=dict(size=siz-2), tickfont=dict(size=siz-2))\n",
    "# fig.update_yaxes(title_text=\"# of labels ± 99% CI\", row=1, col=2,range=[0,4.5], gridcolor='lightgrey',type=\"log\", title_standoff=0, title_font=dict(size=siz-2), tickfont=dict(size=siz-2))\n",
    "\n",
    "fig.show()\n",
    "#range=[0,1.05],\n",
    "\n",
    "# Save the combined figure as a PDF\n",
    "# fig.write_image(\"./figures/combined_{}_{}_{}.pdf\".format(case, model, dataset))\n",
    "# fig.write_image(\"./figures/tst.pdf\".format(case, model, dataset))\n",
    "# fig.write_image(\"./figures/f1_{}_{}_{}.pdf\".format(case, model, dataset))\n"
   ]
  }
 ],
 "metadata": {
  "kernelspec": {
   "display_name": ".venv",
   "language": "python",
   "name": "python3"
  },
  "language_info": {
   "codemirror_mode": {
    "name": "ipython",
    "version": 3
   },
   "file_extension": ".py",
   "mimetype": "text/x-python",
   "name": "python",
   "nbconvert_exporter": "python",
   "pygments_lexer": "ipython3",
   "version": "3.8.16"
  },
  "orig_nbformat": 4
 },
 "nbformat": 4,
 "nbformat_minor": 2
}
