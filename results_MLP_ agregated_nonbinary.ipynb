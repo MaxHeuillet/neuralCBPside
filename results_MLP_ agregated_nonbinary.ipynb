{
 "cells": [
  {
   "cell_type": "code",
   "execution_count": 7,
   "metadata": {},
   "outputs": [],
   "source": [
    "import os\n",
    "import numpy as np\n",
    "import plotly.graph_objects as go\n",
    "import pandas as pd\n",
    "import gzip\n",
    "import pickle as pkl\n",
    "import pandas as pd\n",
    "\n",
    "def loadall_results2(path, n_folds):\n",
    "    regret = []\n",
    "    history_actions = []\n",
    "    history_outcomes = []\n",
    "    perf = []\n",
    "    with gzip.open(  path ,'rb') as f:\n",
    "        for i in range(n_folds+1):\n",
    "            try:\n",
    "                data = pkl.load(f)\n",
    "            except EOFError:\n",
    "                break\n",
    "\n",
    "            if type(data) == dict:\n",
    "                regret.append( data['regret'] ) \n",
    "                history_actions.append( data['action_history'] )\n",
    "                history_outcomes.append( data['outcome_history'] ) \n",
    "                perf.append( data['pred'] ) \n",
    "\n",
    "    return regret, history_actions, history_outcomes, perf"
   ]
  },
  {
   "cell_type": "code",
   "execution_count": 3,
   "metadata": {},
   "outputs": [],
   "source": [
    "n_folds = 25\n",
    "horizon = 9999\n",
    "context = 'MNISTbinary'\n",
    "model = 'MLP'\n",
    "case = 'case1'\n",
    "agent_name = 'EEneuralcbpside_v6' #ineural6, neuronal6\n",
    "\n",
    "direct = './results/'\n",
    "path = os.path.join(direct, '{}_{}_{}_{}_{}_{}.pkl.gz'.format(case,model,context,horizon,n_folds,agent_name) )\n",
    "regret, action_history, outcome_history, perf = loadall_results2(path, n_folds)\n"
   ]
  },
  {
   "cell_type": "code",
   "execution_count": 8,
   "metadata": {},
   "outputs": [
    {
     "name": "stdout",
     "output_type": "stream",
     "text": [
      "./results/case2_MLP_MNIST_9999_25_ineural6.pkl.gz\n",
      "[[1.000e+00 2.000e+00 3.000e+00 ... 3.095e+03 3.095e+03 3.095e+03]\n",
      " [1.000e+00 2.000e+00 3.000e+00 ... 3.303e+03 3.303e+03 3.304e+03]\n",
      " [1.000e+00 2.000e+00 3.000e+00 ... 3.342e+03 3.343e+03 3.343e+03]\n",
      " ...\n",
      " [1.000e+00 2.000e+00 3.000e+00 ... 3.324e+03 3.325e+03 3.325e+03]\n",
      " [1.000e+00 1.000e+00 2.000e+00 ... 3.480e+03 3.480e+03 3.480e+03]\n",
      " [1.000e+00 2.000e+00 3.000e+00 ... 3.441e+03 3.441e+03 3.441e+03]]\n",
      "./results/case2_MLP_MNIST_9999_25_ineural3.pkl.gz\n",
      "[[1.000e+00 2.000e+00 3.000e+00 ... 2.063e+03 2.063e+03 2.063e+03]\n",
      " [1.000e+00 2.000e+00 3.000e+00 ... 2.152e+03 2.152e+03 2.152e+03]\n",
      " [1.000e+00 1.000e+00 2.000e+00 ... 2.098e+03 2.098e+03 2.098e+03]\n",
      " ...\n",
      " [1.000e+00 1.000e+00 2.000e+00 ... 2.129e+03 2.129e+03 2.129e+03]\n",
      " [1.000e+00 2.000e+00 3.000e+00 ... 2.122e+03 2.122e+03 2.122e+03]\n",
      " [1.000e+00 2.000e+00 3.000e+00 ... 2.178e+03 2.178e+03 2.178e+03]]\n",
      "./results/case2_MLP_MNIST_9999_25_neuronal6.pkl.gz\n",
      "[[1.000e+00 2.000e+00 3.000e+00 ... 3.285e+03 3.285e+03 3.286e+03]\n",
      " [1.000e+00 1.000e+00 2.000e+00 ... 3.266e+03 3.266e+03 3.266e+03]\n",
      " [1.000e+00 2.000e+00 3.000e+00 ... 3.344e+03 3.345e+03 3.345e+03]\n",
      " ...\n",
      " [1.000e+00 2.000e+00 3.000e+00 ... 3.602e+03 3.602e+03 3.602e+03]\n",
      " [1.000e+00 1.000e+00 2.000e+00 ... 3.726e+03 3.727e+03 3.727e+03]\n",
      " [1.000e+00 2.000e+00 3.000e+00 ... 3.668e+03 3.668e+03 3.668e+03]]\n",
      "./results/case2_MLP_MNIST_9999_25_neuronal3.pkl.gz\n",
      "[[1.000e+00 2.000e+00 3.000e+00 ... 2.350e+03 2.350e+03 2.350e+03]\n",
      " [1.000e+00 2.000e+00 3.000e+00 ... 2.360e+03 2.361e+03 2.361e+03]\n",
      " [1.000e+00 2.000e+00 3.000e+00 ... 2.277e+03 2.277e+03 2.277e+03]\n",
      " ...\n",
      " [1.000e+00 2.000e+00 3.000e+00 ... 2.353e+03 2.353e+03 2.353e+03]\n",
      " [1.000e+00 2.000e+00 3.000e+00 ... 2.329e+03 2.330e+03 2.330e+03]\n",
      " [1.000e+00 2.000e+00 3.000e+00 ... 2.471e+03 2.471e+03 2.471e+03]]\n",
      "./results/case2_MLP_MNIST_9999_25_EEneuralcbpside_v6.pkl.gz\n",
      "[[1.000e+00 2.000e+00 3.000e+00 ... 2.251e+03 2.251e+03 2.252e+03]\n",
      " [1.000e+00 2.000e+00 3.000e+00 ... 2.188e+03 2.188e+03 2.189e+03]\n",
      " [1.000e+00 2.000e+00 3.000e+00 ... 2.317e+03 2.318e+03 2.319e+03]\n",
      " ...\n",
      " [1.000e+00 2.000e+00 3.000e+00 ... 2.321e+03 2.321e+03 2.321e+03]\n",
      " [1.000e+00 1.000e+00 2.000e+00 ... 2.216e+03 2.216e+03 2.216e+03]\n",
      " [1.000e+00 2.000e+00 3.000e+00 ... 2.264e+03 2.264e+03 2.264e+03]]\n",
      "./results/case2_MLP_FASHION_9999_25_ineural6.pkl.gz\n",
      "[[1.000e+00 2.000e+00 3.000e+00 ... 4.189e+03 4.189e+03 4.190e+03]\n",
      " [1.000e+00 2.000e+00 3.000e+00 ... 4.361e+03 4.362e+03 4.363e+03]\n",
      " [1.000e+00 2.000e+00 3.000e+00 ... 4.353e+03 4.353e+03 4.353e+03]\n",
      " ...\n",
      " [1.000e+00 2.000e+00 3.000e+00 ... 4.298e+03 4.298e+03 4.298e+03]\n",
      " [1.000e+00 2.000e+00 3.000e+00 ... 4.453e+03 4.453e+03 4.453e+03]\n",
      " [1.000e+00 1.000e+00 2.000e+00 ... 4.350e+03 4.351e+03 4.351e+03]]\n",
      "./results/case2_MLP_FASHION_9999_25_ineural3.pkl.gz\n",
      "[[1.000e+00 2.000e+00 3.000e+00 ... 3.190e+03 3.190e+03 3.190e+03]\n",
      " [1.000e+00 2.000e+00 3.000e+00 ... 3.408e+03 3.409e+03 3.409e+03]\n",
      " [1.000e+00 2.000e+00 3.000e+00 ... 3.432e+03 3.432e+03 3.433e+03]\n",
      " ...\n",
      " [1.000e+00 1.000e+00 2.000e+00 ... 3.456e+03 3.456e+03 3.456e+03]\n",
      " [1.000e+00 2.000e+00 3.000e+00 ... 3.267e+03 3.267e+03 3.267e+03]\n",
      " [1.000e+00 2.000e+00 3.000e+00 ... 3.347e+03 3.347e+03 3.347e+03]]\n",
      "./results/case2_MLP_FASHION_9999_25_neuronal6.pkl.gz\n",
      "[[1.000e+00 2.000e+00 3.000e+00 ... 4.310e+03 4.310e+03 4.310e+03]\n",
      " [1.000e+00 2.000e+00 3.000e+00 ... 4.383e+03 4.383e+03 4.383e+03]\n",
      " [1.000e+00 2.000e+00 3.000e+00 ... 4.438e+03 4.438e+03 4.438e+03]\n",
      " ...\n",
      " [1.000e+00 2.000e+00 3.000e+00 ... 4.522e+03 4.522e+03 4.523e+03]\n",
      " [1.000e+00 2.000e+00 3.000e+00 ... 4.575e+03 4.575e+03 4.575e+03]\n",
      " [1.000e+00 1.000e+00 2.000e+00 ... 4.754e+03 4.755e+03 4.756e+03]]\n",
      "./results/case2_MLP_FASHION_9999_25_neuronal3.pkl.gz\n",
      "[[1.000e+00 2.000e+00 3.000e+00 ... 3.154e+03 3.154e+03 3.155e+03]\n",
      " [1.000e+00 2.000e+00 3.000e+00 ... 3.180e+03 3.180e+03 3.180e+03]\n",
      " [1.000e+00 1.000e+00 2.000e+00 ... 3.227e+03 3.228e+03 3.228e+03]\n",
      " ...\n",
      " [1.000e+00 2.000e+00 3.000e+00 ... 3.246e+03 3.246e+03 3.246e+03]\n",
      " [1.000e+00 2.000e+00 3.000e+00 ... 3.297e+03 3.297e+03 3.298e+03]\n",
      " [1.000e+00 1.000e+00 2.000e+00 ... 3.429e+03 3.430e+03 3.430e+03]]\n",
      "./results/case2_MLP_FASHION_9999_25_EEneuralcbpside_v6.pkl.gz\n",
      "[[1.000e+00 2.000e+00 3.000e+00 ... 3.285e+03 3.286e+03 3.286e+03]\n",
      " [1.000e+00 2.000e+00 3.000e+00 ... 3.250e+03 3.250e+03 3.250e+03]\n",
      " [1.000e+00 2.000e+00 3.000e+00 ... 3.189e+03 3.189e+03 3.190e+03]\n",
      " ...\n",
      " [1.000e+00 1.000e+00 2.000e+00 ... 3.274e+03 3.274e+03 3.274e+03]\n",
      " [1.000e+00 2.000e+00 3.000e+00 ... 3.321e+03 3.321e+03 3.321e+03]\n",
      " [1.000e+00 2.000e+00 3.000e+00 ... 3.252e+03 3.252e+03 3.252e+03]]\n",
      "./results/game_case_seven_MLP_covertype_9999_25_ineural6.pkl.gz\n",
      "[[1.000e+00 2.000e+00 2.000e+00 ... 5.175e+03 5.176e+03 5.176e+03]\n",
      " [1.000e+00 2.000e+00 2.000e+00 ... 5.073e+03 5.074e+03 5.075e+03]\n",
      " [1.000e+00 2.000e+00 3.000e+00 ... 5.135e+03 5.135e+03 5.136e+03]\n",
      " ...\n",
      " [1.000e+00 2.000e+00 3.000e+00 ... 6.900e+03 6.901e+03 6.902e+03]\n",
      " [1.000e+00 2.000e+00 3.000e+00 ... 6.961e+03 6.962e+03 6.962e+03]\n",
      " [1.000e+00 2.000e+00 3.000e+00 ... 7.002e+03 7.003e+03 7.003e+03]]\n",
      "./results/game_case_seven_MLP_covertype_9999_25_ineural3.pkl.gz\n",
      "[[1.000e+00 2.000e+00 3.000e+00 ... 5.034e+03 5.034e+03 5.035e+03]\n",
      " [1.000e+00 2.000e+00 3.000e+00 ... 5.160e+03 5.160e+03 5.161e+03]\n",
      " [1.000e+00 1.000e+00 2.000e+00 ... 6.373e+03 6.374e+03 6.374e+03]\n",
      " ...\n",
      " [1.000e+00 2.000e+00 2.000e+00 ... 5.384e+03 5.384e+03 5.384e+03]\n",
      " [1.000e+00 2.000e+00 3.000e+00 ... 5.743e+03 5.744e+03 5.744e+03]\n",
      " [1.000e+00 2.000e+00 3.000e+00 ... 5.456e+03 5.457e+03 5.458e+03]]\n",
      "./results/game_case_seven_MLP_covertype_9999_25_neuronal6.pkl.gz\n",
      "[[1.000e+00 1.000e+00 2.000e+00 ... 4.574e+03 4.574e+03 4.574e+03]\n",
      " [1.000e+00 2.000e+00 3.000e+00 ... 4.968e+03 4.968e+03 4.969e+03]\n",
      " [1.000e+00 2.000e+00 2.000e+00 ... 4.984e+03 4.984e+03 4.985e+03]\n",
      " ...\n",
      " [1.000e+00 2.000e+00 3.000e+00 ... 4.890e+03 4.890e+03 4.891e+03]\n",
      " [1.000e+00 2.000e+00 3.000e+00 ... 4.942e+03 4.942e+03 4.943e+03]\n",
      " [1.000e+00 1.000e+00 2.000e+00 ... 5.006e+03 5.007e+03 5.007e+03]]\n",
      "./results/game_case_seven_MLP_covertype_9999_25_neuronal3.pkl.gz\n",
      "[[1.000e+00 2.000e+00 3.000e+00 ... 4.141e+03 4.142e+03 4.143e+03]\n",
      " [1.000e+00 2.000e+00 3.000e+00 ... 4.195e+03 4.195e+03 4.195e+03]\n",
      " [1.000e+00 2.000e+00 3.000e+00 ... 4.193e+03 4.194e+03 4.194e+03]\n",
      " ...\n",
      " [1.000e+00 2.000e+00 2.000e+00 ... 3.976e+03 3.976e+03 3.976e+03]\n",
      " [1.000e+00 2.000e+00 3.000e+00 ... 4.170e+03 4.171e+03 4.171e+03]\n",
      " [1.000e+00 2.000e+00 2.000e+00 ... 4.244e+03 4.244e+03 4.244e+03]]\n",
      "./results/game_case_seven_MLP_covertype_9999_25_EEneuralcbpside_v6.pkl.gz\n",
      "[[1.000e+00 2.000e+00 3.000e+00 ... 9.934e+03 9.935e+03 9.936e+03]\n",
      " [1.000e+00 2.000e+00 3.000e+00 ... 5.135e+03 5.136e+03 5.137e+03]\n",
      " [1.000e+00 2.000e+00 3.000e+00 ... 5.050e+03 5.050e+03 5.050e+03]\n",
      " ...\n",
      " [1.000e+00 2.000e+00 3.000e+00 ... 4.392e+03 4.393e+03 4.393e+03]\n",
      " [1.000e+00 2.000e+00 3.000e+00 ... 4.461e+03 4.461e+03 4.462e+03]\n",
      " [1.000e+00 2.000e+00 2.000e+00 ... 4.324e+03 4.324e+03 4.325e+03]]\n",
      "./results/game_case_seven_MLP_shuttle_9999_25_ineural6.pkl.gz\n",
      "[[1.000e+00 2.000e+00 3.000e+00 ... 1.987e+03 1.987e+03 1.987e+03]\n",
      " [1.000e+00 2.000e+00 2.000e+00 ... 1.769e+03 1.769e+03 1.769e+03]\n",
      " [1.000e+00 2.000e+00 3.000e+00 ... 1.711e+03 1.711e+03 1.711e+03]\n",
      " ...\n",
      " [1.000e+00 2.000e+00 3.000e+00 ... 2.287e+03 2.288e+03 2.288e+03]\n",
      " [1.000e+00 2.000e+00 3.000e+00 ... 2.545e+03 2.545e+03 2.545e+03]\n",
      " [1.000e+00 2.000e+00 3.000e+00 ... 2.860e+03 2.860e+03 2.861e+03]]\n",
      "./results/game_case_seven_MLP_shuttle_9999_25_ineural3.pkl.gz\n",
      "[[1.000e+00 2.000e+00 3.000e+00 ... 1.268e+03 1.268e+03 1.268e+03]\n",
      " [1.000e+00 2.000e+00 3.000e+00 ... 1.085e+03 1.086e+03 1.086e+03]\n",
      " [1.000e+00 2.000e+00 2.000e+00 ... 1.356e+03 1.356e+03 1.357e+03]\n",
      " ...\n",
      " [1.000e+00 2.000e+00 3.000e+00 ... 1.032e+03 1.032e+03 1.032e+03]\n",
      " [1.000e+00 2.000e+00 2.000e+00 ... 1.164e+03 1.164e+03 1.165e+03]\n",
      " [1.000e+00 2.000e+00 2.000e+00 ... 1.172e+03 1.172e+03 1.172e+03]]\n",
      "./results/game_case_seven_MLP_shuttle_9999_25_neuronal6.pkl.gz\n",
      "[[  1.   2.   3. ... 358. 358. 358.]\n",
      " [  1.   2.   3. ... 432. 432. 432.]\n",
      " [  1.   2.   2. ... 406. 406. 406.]\n",
      " ...\n",
      " [  1.   2.   2. ... 385. 385. 385.]\n",
      " [  1.   2.   3. ... 436. 436. 436.]\n",
      " [  1.   2.   3. ... 413. 413. 413.]]\n",
      "./results/game_case_seven_MLP_shuttle_9999_25_neuronal3.pkl.gz\n",
      "[[1.000e+00 2.000e+00 3.000e+00 ... 2.171e+03 2.171e+03 2.171e+03]\n",
      " [1.000e+00 2.000e+00 3.000e+00 ... 3.000e+02 3.000e+02 3.000e+02]\n",
      " [1.000e+00 2.000e+00 3.000e+00 ... 1.421e+03 1.421e+03 1.421e+03]\n",
      " ...\n",
      " [1.000e+00 2.000e+00 3.000e+00 ... 3.940e+02 3.940e+02 3.940e+02]\n",
      " [1.000e+00 2.000e+00 3.000e+00 ... 7.630e+02 7.630e+02 7.630e+02]\n",
      " [1.000e+00 2.000e+00 3.000e+00 ... 4.660e+02 4.660e+02 4.660e+02]]\n",
      "./results/game_case_seven_MLP_shuttle_9999_25_EEneuralcbpside_v6.pkl.gz\n",
      "[[1.000e+00 2.000e+00 2.000e+00 ... 2.421e+03 2.421e+03 2.421e+03]\n",
      " [1.000e+00 2.000e+00 3.000e+00 ... 6.930e+02 6.930e+02 6.930e+02]\n",
      " [1.000e+00 2.000e+00 3.000e+00 ... 1.540e+02 1.540e+02 1.540e+02]\n",
      " ...\n",
      " [1.000e+00 2.000e+00 2.000e+00 ... 2.163e+03 2.163e+03 2.163e+03]\n",
      " [1.000e+00 1.000e+00 2.000e+00 ... 3.210e+02 3.210e+02 3.210e+02]\n",
      " [1.000e+00 2.000e+00 2.000e+00 ... 2.210e+02 2.210e+02 2.210e+02]]\n"
     ]
    }
   ],
   "source": [
    "def format_perf(perf, model, dataset, l_label):\n",
    "\n",
    "    processed_data = []\n",
    "    i = 0\n",
    "    for item in perf:\n",
    "        processed_item = {}\n",
    "        # key_mapping = dict( zip( item.keys(), [10, 50, 100, 250, 500, 750, 1000, 2500, 5000, 7500, 9000]))\n",
    "        new_dict = item #{key_mapping[old_key]: value for old_key, value in item.items()}\n",
    "        for key in new_dict:\n",
    "            # processed_item[f'accuracy_{key}'] = new_dict[key]['accuracy']\n",
    "            processed_item[f'f1_{key}'] = new_dict[key]['f1']\n",
    "        processed_item['Seed'] = i\n",
    "        processed_item['Model'] = model\n",
    "        processed_item['Dataset'] = dataset\n",
    "        processed_item['Approach'] = l_label\n",
    "        i = i+1\n",
    "        processed_data.append(processed_item)\n",
    "    return processed_data\n",
    "\n",
    "\n",
    "def convert_action_history(action_history, n_folds):\n",
    "    counters = []\n",
    "    for history in action_history:\n",
    "        counter = np.cumsum([ 1 if action == 0 else 0 for action in history ])\n",
    "        counters.append(counter)\n",
    "\n",
    "    std = 2.575 * np.std(counters, axis = 0) / np.sqrt(n_folds )\n",
    "    # std = np.std(counters, axis = 0) #/ n_folds \n",
    "\n",
    "    return np.mean(counters, axis = 0), std \n",
    "\n",
    "n_folds = 26\n",
    "horizon = 9999\n",
    "model = 'MLP'\n",
    "\n",
    "material = {\n",
    "    #'EEneuralcbpside_v5': {'color': [255, 255, 0], 'label': 'EEneuralcbpside_v5'},  # Red\n",
    "    'ineural6': {'color': [51, 255, 255], 'label':'IneurAL (official)'},                    # Yellow\n",
    "    'ineural3': {'color': [0, 0, 255], 'label':'IneurAL (tuned)'},                    # Cyan\n",
    "    'neuronal6': {'color': [255, 0, 255], 'label':'Neuronal (official)'},                  # Magenta\n",
    "    'neuronal3': {'color': [160, 160, 160], 'label':'Neuronal (tuned)'},                   # Orange\n",
    "    'EEneuralcbpside_v6': {'color': [255, 0, 0], 'label': 'Neural-CBP'},  # Red\n",
    "    # 'margin': {'color': [160, 160, 160], 'label':'Margin'},\n",
    "    # 'cesa': {'color': [0, 0, 255], 'label':'Cesa'},\n",
    "}\n",
    "\n",
    "fig = go.Figure( )\n",
    "\n",
    "data_models = {}\n",
    "perfs_final = {}\n",
    "explo_final = {}\n",
    "explo2_final = {}\n",
    "\n",
    "for model in ['MLP']:  # 'LeNet'\n",
    "\n",
    "    if model == 'MLP':\n",
    "        n_folds = 25\n",
    "        datasets = ['MNIST', 'FASHION', 'covertype', 'shuttle',] # \n",
    "    # else:\n",
    "    #     datasets = ['MNIST', 'FASHION', 'CIFAR10',]\n",
    "    #     n_folds = 25\n",
    "\n",
    "    data_regrets = {} \n",
    "    data_perfs = {} \n",
    "    data_explo = {}\n",
    "    data_explo2 = {}\n",
    "    for data in datasets: \n",
    "\n",
    "        if data in ['MNIST', 'FASHION', 'CIFAR10']:\n",
    "            case = 'case2' \n",
    "        elif data in ['covertype', 'shuttle']:\n",
    "            case = 'game_case_seven'\n",
    "        # else:\n",
    "        # case = 'case2'\n",
    "        \n",
    "        final_regrets = {}\n",
    "        final_perfs = {}\n",
    "        explo_perfs = {}\n",
    "        explo2_perfs = {}\n",
    "        for agent_name in material.keys():\n",
    "\n",
    "            color, l_label = material[agent_name]['color'], material[agent_name]['label']\n",
    "\n",
    "            r,g,b = color\n",
    "\n",
    "            # try:\n",
    "            direct = './results/'\n",
    "            path = os.path.join(direct, '{}_{}_{}_{}_{}_{}.pkl.gz'.format(case, model, data, horizon,n_folds,agent_name) )\n",
    "            print(path)\n",
    "            regret, action_history,outcome_history, perf = loadall_results2(path, n_folds)\n",
    "            regret = np.array(regret)\n",
    "            print(regret)\n",
    "            regret = regret#[1:]\n",
    "\n",
    "            final_regrets[l_label] = regret[:,-1] \n",
    "            final_perfs[l_label] = pd.DataFrame( format_perf(perf, model, data, l_label) )\n",
    "\n",
    "            m, s = convert_action_history(action_history, n_folds)\n",
    "            explo_perfs[l_label] = m\n",
    "            explo2_perfs[l_label] = s\n",
    "\n",
    "\n",
    "        if data == 'MNISTbinary':\n",
    "            data = 'MNISTbinary'\n",
    "        if data == 'FASHION':\n",
    "            data = 'FASHION'\n",
    "            \n",
    "        data_regrets[data] = final_regrets\n",
    "\n",
    "        dataframes_list = list(final_perfs.values())\n",
    "        concatenated_df = pd.concat(dataframes_list, axis=0)\n",
    "        data_perfs[data] = concatenated_df\n",
    "\n",
    "        data_explo[data] = explo_perfs\n",
    "        data_explo2[data] = explo2_perfs\n",
    "        \n",
    "    data_models[model] = data_regrets\n",
    "    dataframes_list = list(data_perfs.values())\n",
    "    concatenated_df = pd.concat(dataframes_list, axis=0)\n",
    "\n",
    "    explo_final[model] = data_explo\n",
    "    explo2_final[model] = data_explo2\n",
    "\n",
    "# fig.show()\n",
    "# fig.write_image(\"./figures/case1_{}_{}.pdf\".format(model, context) )"
   ]
  },
  {
   "cell_type": "code",
   "execution_count": 9,
   "metadata": {},
   "outputs": [],
   "source": [
    "import pandas as pd\n",
    "# pd.DataFrame(data_regrets)\n",
    "# data_regrets\n",
    "\n",
    "samples = []\n",
    "# Iterate over the dictionary to extract data\n",
    "for model, dataset in data_models.items():\n",
    "    for data, approach in dataset.items():\n",
    "        for appr, values in approach.items():\n",
    "            i = 0\n",
    "            for val in values:\n",
    "                # print(i, appr,val)\n",
    "                samples.append([i, model, data, appr, val])\n",
    "                i = i+1\n",
    "\n",
    "# Create a DataFrame\n",
    "df = pd.DataFrame(samples, columns=['Seed','Model', 'Dataset', 'Approach', 'Value'])\n",
    "df = pd.merge(df, concatenated_df, on=['Model', 'Dataset', 'Approach', 'Seed'])\n"
   ]
  },
  {
   "cell_type": "code",
   "execution_count": 10,
   "metadata": {},
   "outputs": [],
   "source": [
    "exclude_columns = ['Seed', 'Model', 'Dataset', 'Approach']\n",
    "\n",
    "agg_columns = [col for col in df.columns if col not in exclude_columns]\n",
    "\n",
    "df_mean = df.groupby(['Model', 'Dataset', 'Approach'])[agg_columns].agg(['mean',]) # 'std'\n",
    "df_mean.columns = df_mean.columns.get_level_values(0)\n",
    "df_mean = df_mean.reset_index()\n",
    "\n",
    "df_std = df.groupby(['Model', 'Dataset', 'Approach'])[agg_columns].agg(['std',]) # 'std'\n",
    "df_std.columns = df_std.columns.get_level_values(0)\n",
    "df_std = df_std.reset_index()\n"
   ]
  },
  {
   "cell_type": "code",
   "execution_count": 15,
   "metadata": {},
   "outputs": [
    {
     "data": {
      "application/vnd.plotly.v1+json": {
       "config": {
        "plotlyServerURL": "https://plot.ly"
       },
       "data": [
        {
         "error_y": {
          "array": [
           0.04302364667923171,
           0.0356228131648072,
           0.038460534581760866,
           0.02864615763690371,
           0.022207648068519225,
           0.017725254815371665,
           0.010063000597162251,
           0.009258694693236445,
           0.009701984557689213,
           0.0057974025858659635,
           0.005261628717016601,
           0.005812578053828806,
           null
          ],
          "thickness": 1,
          "type": "data",
          "visible": true,
          "width": 3
         },
         "line": {
          "color": "rgba(255,161,90,1)",
          "dash": "solid",
          "width": 1
         },
         "marker": {
          "size": 2.5
         },
         "name": "IneurAL (official)",
         "type": "scatter",
         "x": [
          10,
          25,
          50,
          100,
          150,
          250,
          300,
          400,
          500,
          750,
          1000,
          2500,
          5000,
          7500,
          9000
         ],
         "xaxis": "x",
         "y": [
          0.19135317062917834,
          0.324111830202453,
          0.42122944602694473,
          0.5713961060179623,
          0.6217231287975319,
          0.6780419514341015,
          0.697334902803984,
          0.716962013488339,
          0.7245126066851253,
          0.7444977654361544,
          0.752249970356959,
          0.762019029096974,
          null
         ],
         "yaxis": "y"
        },
        {
         "error_y": {
          "array": [
           0.03957014679222861,
           0.04951457220080781,
           0.0317636654452167,
           0.020485655625306867,
           0.016961278196352833,
           0.010469439494974139,
           0.010190186623045851,
           0.005065601928607772,
           0.00683472905259558,
           0.004156844533002652,
           0.0031299361077587193,
           null,
           null
          ],
          "thickness": 1,
          "type": "data",
          "visible": true,
          "width": 3
         },
         "line": {
          "color": "rgba(25,211,243,1)",
          "dash": "solid",
          "width": 1
         },
         "marker": {
          "size": 2.5
         },
         "name": "IneurAL (tuned)",
         "type": "scatter",
         "x": [
          10,
          25,
          50,
          100,
          150,
          250,
          300,
          400,
          500,
          750,
          1000,
          2500,
          5000,
          7500,
          9000
         ],
         "xaxis": "x",
         "y": [
          0.2063779441158931,
          0.3253832130039568,
          0.45904766350295206,
          0.575253890444809,
          0.646519095989841,
          0.6899813329774392,
          0.6990599794109892,
          0.7230144494933312,
          0.7373081277067896,
          0.7536605317203104,
          0.7647597763369026,
          null,
          null
         ],
         "yaxis": "y"
        },
        {
         "error_y": {
          "array": [
           0.02043751966543552,
           0.03209727173559508,
           0.022183806658801493,
           0.012378781929561863,
           0.007128616880947977,
           0.004303038309416605,
           0.0035322702549216247,
           0.0029006983098543,
           0.003423598930866206,
           0.002995299739165776,
           0.0026352766107365913,
           0.0018649271197367513,
           null
          ],
          "thickness": 1,
          "type": "data",
          "visible": true,
          "width": 3
         },
         "line": {
          "color": "rgba(255,102,146,1)",
          "dash": "solid",
          "width": 1
         },
         "marker": {
          "size": 2.5
         },
         "name": "Neuronal (official)",
         "type": "scatter",
         "x": [
          10,
          25,
          50,
          100,
          150,
          250,
          300,
          400,
          500,
          750,
          1000,
          2500,
          5000,
          7500,
          9000
         ],
         "xaxis": "x",
         "y": [
          0.13571725746328425,
          0.3328229206543965,
          0.509421206380617,
          0.6566857051156129,
          0.7089504893645979,
          0.7506402633806242,
          0.7610014696457514,
          0.7741440078345814,
          0.7835754838014306,
          0.796709283906894,
          0.8027171516026231,
          0.8117035253613173,
          null
         ],
         "yaxis": "y"
        },
        {
         "error_y": {
          "array": [
           0.019640069515981854,
           0.02729033365973938,
           0.024900468969905047,
           0.01810431589901569,
           0.008940035054333172,
           0.0032443625270334488,
           0.0035948797264545016,
           0.003458000269009899,
           0.002471520709753534,
           0.0019307996086473465,
           0.002259812624249091,
           0.0013141034732359995,
           null
          ],
          "thickness": 1,
          "type": "data",
          "visible": true,
          "width": 3
         },
         "line": {
          "color": "rgba(182,232,128,1)",
          "dash": "solid",
          "width": 1
         },
         "marker": {
          "size": 2.5
         },
         "name": "Neuronal (tuned)",
         "type": "scatter",
         "x": [
          10,
          25,
          50,
          100,
          150,
          250,
          300,
          400,
          500,
          750,
          1000,
          2500,
          5000,
          7500,
          9000
         ],
         "xaxis": "x",
         "y": [
          0.13674788812960023,
          0.3290523139734793,
          0.5238189572396998,
          0.659692462296008,
          0.7132138282302805,
          0.7558887977098897,
          0.7660225970319771,
          0.7785442395264454,
          0.7869497283332116,
          0.7987255593661976,
          0.8036301724783935,
          0.8111223869246118,
          null
         ],
         "yaxis": "y"
        },
        {
         "error_y": {
          "array": [
           0.019175972562949846,
           0.03119287309289643,
           0.024592898818979185,
           0.01331500461915094,
           0.008068110151330628,
           0.005932896320711982,
           0.005216278271611053,
           0.0030207669218937716,
           0.0032414477409899987,
           0.0031828287322605347,
           0.0025222523859736185,
           null,
           null
          ],
          "thickness": 1,
          "type": "data",
          "visible": true,
          "width": 3
         },
         "line": {
          "color": "rgba(171,99,250,1)",
          "dash": "solid",
          "width": 1
         },
         "marker": {
          "size": 2.5
         },
         "name": "Neural-CBP",
         "type": "scatter",
         "x": [
          10,
          25,
          50,
          100,
          150,
          250,
          300,
          400,
          500,
          750,
          1000,
          2500,
          5000,
          7500,
          9000
         ],
         "xaxis": "x",
         "y": [
          0.2254025698479644,
          0.36059107679634717,
          0.48826254574391614,
          0.6375937121090955,
          0.7099819002586156,
          0.7440508551402095,
          0.7534006881625728,
          0.7726400757447393,
          0.7801184666118924,
          0.7923569233844177,
          0.7989253114500068,
          null,
          null
         ],
         "yaxis": "y"
        }
       ],
       "layout": {
        "height": 180,
        "margin": {
         "b": 0,
         "l": 0,
         "r": 0,
         "t": 3
        },
        "paper_bgcolor": "white",
        "plot_bgcolor": "white",
        "showlegend": false,
        "template": {
         "data": {
          "bar": [
           {
            "error_x": {
             "color": "#2a3f5f"
            },
            "error_y": {
             "color": "#2a3f5f"
            },
            "marker": {
             "line": {
              "color": "#E5ECF6",
              "width": 0.5
             },
             "pattern": {
              "fillmode": "overlay",
              "size": 10,
              "solidity": 0.2
             }
            },
            "type": "bar"
           }
          ],
          "barpolar": [
           {
            "marker": {
             "line": {
              "color": "#E5ECF6",
              "width": 0.5
             },
             "pattern": {
              "fillmode": "overlay",
              "size": 10,
              "solidity": 0.2
             }
            },
            "type": "barpolar"
           }
          ],
          "carpet": [
           {
            "aaxis": {
             "endlinecolor": "#2a3f5f",
             "gridcolor": "white",
             "linecolor": "white",
             "minorgridcolor": "white",
             "startlinecolor": "#2a3f5f"
            },
            "baxis": {
             "endlinecolor": "#2a3f5f",
             "gridcolor": "white",
             "linecolor": "white",
             "minorgridcolor": "white",
             "startlinecolor": "#2a3f5f"
            },
            "type": "carpet"
           }
          ],
          "choropleth": [
           {
            "colorbar": {
             "outlinewidth": 0,
             "ticks": ""
            },
            "type": "choropleth"
           }
          ],
          "contour": [
           {
            "colorbar": {
             "outlinewidth": 0,
             "ticks": ""
            },
            "colorscale": [
             [
              0,
              "#0d0887"
             ],
             [
              0.1111111111111111,
              "#46039f"
             ],
             [
              0.2222222222222222,
              "#7201a8"
             ],
             [
              0.3333333333333333,
              "#9c179e"
             ],
             [
              0.4444444444444444,
              "#bd3786"
             ],
             [
              0.5555555555555556,
              "#d8576b"
             ],
             [
              0.6666666666666666,
              "#ed7953"
             ],
             [
              0.7777777777777778,
              "#fb9f3a"
             ],
             [
              0.8888888888888888,
              "#fdca26"
             ],
             [
              1,
              "#f0f921"
             ]
            ],
            "type": "contour"
           }
          ],
          "contourcarpet": [
           {
            "colorbar": {
             "outlinewidth": 0,
             "ticks": ""
            },
            "type": "contourcarpet"
           }
          ],
          "heatmap": [
           {
            "colorbar": {
             "outlinewidth": 0,
             "ticks": ""
            },
            "colorscale": [
             [
              0,
              "#0d0887"
             ],
             [
              0.1111111111111111,
              "#46039f"
             ],
             [
              0.2222222222222222,
              "#7201a8"
             ],
             [
              0.3333333333333333,
              "#9c179e"
             ],
             [
              0.4444444444444444,
              "#bd3786"
             ],
             [
              0.5555555555555556,
              "#d8576b"
             ],
             [
              0.6666666666666666,
              "#ed7953"
             ],
             [
              0.7777777777777778,
              "#fb9f3a"
             ],
             [
              0.8888888888888888,
              "#fdca26"
             ],
             [
              1,
              "#f0f921"
             ]
            ],
            "type": "heatmap"
           }
          ],
          "heatmapgl": [
           {
            "colorbar": {
             "outlinewidth": 0,
             "ticks": ""
            },
            "colorscale": [
             [
              0,
              "#0d0887"
             ],
             [
              0.1111111111111111,
              "#46039f"
             ],
             [
              0.2222222222222222,
              "#7201a8"
             ],
             [
              0.3333333333333333,
              "#9c179e"
             ],
             [
              0.4444444444444444,
              "#bd3786"
             ],
             [
              0.5555555555555556,
              "#d8576b"
             ],
             [
              0.6666666666666666,
              "#ed7953"
             ],
             [
              0.7777777777777778,
              "#fb9f3a"
             ],
             [
              0.8888888888888888,
              "#fdca26"
             ],
             [
              1,
              "#f0f921"
             ]
            ],
            "type": "heatmapgl"
           }
          ],
          "histogram": [
           {
            "marker": {
             "pattern": {
              "fillmode": "overlay",
              "size": 10,
              "solidity": 0.2
             }
            },
            "type": "histogram"
           }
          ],
          "histogram2d": [
           {
            "colorbar": {
             "outlinewidth": 0,
             "ticks": ""
            },
            "colorscale": [
             [
              0,
              "#0d0887"
             ],
             [
              0.1111111111111111,
              "#46039f"
             ],
             [
              0.2222222222222222,
              "#7201a8"
             ],
             [
              0.3333333333333333,
              "#9c179e"
             ],
             [
              0.4444444444444444,
              "#bd3786"
             ],
             [
              0.5555555555555556,
              "#d8576b"
             ],
             [
              0.6666666666666666,
              "#ed7953"
             ],
             [
              0.7777777777777778,
              "#fb9f3a"
             ],
             [
              0.8888888888888888,
              "#fdca26"
             ],
             [
              1,
              "#f0f921"
             ]
            ],
            "type": "histogram2d"
           }
          ],
          "histogram2dcontour": [
           {
            "colorbar": {
             "outlinewidth": 0,
             "ticks": ""
            },
            "colorscale": [
             [
              0,
              "#0d0887"
             ],
             [
              0.1111111111111111,
              "#46039f"
             ],
             [
              0.2222222222222222,
              "#7201a8"
             ],
             [
              0.3333333333333333,
              "#9c179e"
             ],
             [
              0.4444444444444444,
              "#bd3786"
             ],
             [
              0.5555555555555556,
              "#d8576b"
             ],
             [
              0.6666666666666666,
              "#ed7953"
             ],
             [
              0.7777777777777778,
              "#fb9f3a"
             ],
             [
              0.8888888888888888,
              "#fdca26"
             ],
             [
              1,
              "#f0f921"
             ]
            ],
            "type": "histogram2dcontour"
           }
          ],
          "mesh3d": [
           {
            "colorbar": {
             "outlinewidth": 0,
             "ticks": ""
            },
            "type": "mesh3d"
           }
          ],
          "parcoords": [
           {
            "line": {
             "colorbar": {
              "outlinewidth": 0,
              "ticks": ""
             }
            },
            "type": "parcoords"
           }
          ],
          "pie": [
           {
            "automargin": true,
            "type": "pie"
           }
          ],
          "scatter": [
           {
            "fillpattern": {
             "fillmode": "overlay",
             "size": 10,
             "solidity": 0.2
            },
            "type": "scatter"
           }
          ],
          "scatter3d": [
           {
            "line": {
             "colorbar": {
              "outlinewidth": 0,
              "ticks": ""
             }
            },
            "marker": {
             "colorbar": {
              "outlinewidth": 0,
              "ticks": ""
             }
            },
            "type": "scatter3d"
           }
          ],
          "scattercarpet": [
           {
            "marker": {
             "colorbar": {
              "outlinewidth": 0,
              "ticks": ""
             }
            },
            "type": "scattercarpet"
           }
          ],
          "scattergeo": [
           {
            "marker": {
             "colorbar": {
              "outlinewidth": 0,
              "ticks": ""
             }
            },
            "type": "scattergeo"
           }
          ],
          "scattergl": [
           {
            "marker": {
             "colorbar": {
              "outlinewidth": 0,
              "ticks": ""
             }
            },
            "type": "scattergl"
           }
          ],
          "scattermapbox": [
           {
            "marker": {
             "colorbar": {
              "outlinewidth": 0,
              "ticks": ""
             }
            },
            "type": "scattermapbox"
           }
          ],
          "scatterpolar": [
           {
            "marker": {
             "colorbar": {
              "outlinewidth": 0,
              "ticks": ""
             }
            },
            "type": "scatterpolar"
           }
          ],
          "scatterpolargl": [
           {
            "marker": {
             "colorbar": {
              "outlinewidth": 0,
              "ticks": ""
             }
            },
            "type": "scatterpolargl"
           }
          ],
          "scatterternary": [
           {
            "marker": {
             "colorbar": {
              "outlinewidth": 0,
              "ticks": ""
             }
            },
            "type": "scatterternary"
           }
          ],
          "surface": [
           {
            "colorbar": {
             "outlinewidth": 0,
             "ticks": ""
            },
            "colorscale": [
             [
              0,
              "#0d0887"
             ],
             [
              0.1111111111111111,
              "#46039f"
             ],
             [
              0.2222222222222222,
              "#7201a8"
             ],
             [
              0.3333333333333333,
              "#9c179e"
             ],
             [
              0.4444444444444444,
              "#bd3786"
             ],
             [
              0.5555555555555556,
              "#d8576b"
             ],
             [
              0.6666666666666666,
              "#ed7953"
             ],
             [
              0.7777777777777778,
              "#fb9f3a"
             ],
             [
              0.8888888888888888,
              "#fdca26"
             ],
             [
              1,
              "#f0f921"
             ]
            ],
            "type": "surface"
           }
          ],
          "table": [
           {
            "cells": {
             "fill": {
              "color": "#EBF0F8"
             },
             "line": {
              "color": "white"
             }
            },
            "header": {
             "fill": {
              "color": "#C8D4E3"
             },
             "line": {
              "color": "white"
             }
            },
            "type": "table"
           }
          ]
         },
         "layout": {
          "annotationdefaults": {
           "arrowcolor": "#2a3f5f",
           "arrowhead": 0,
           "arrowwidth": 1
          },
          "autotypenumbers": "strict",
          "coloraxis": {
           "colorbar": {
            "outlinewidth": 0,
            "ticks": ""
           }
          },
          "colorscale": {
           "diverging": [
            [
             0,
             "#8e0152"
            ],
            [
             0.1,
             "#c51b7d"
            ],
            [
             0.2,
             "#de77ae"
            ],
            [
             0.3,
             "#f1b6da"
            ],
            [
             0.4,
             "#fde0ef"
            ],
            [
             0.5,
             "#f7f7f7"
            ],
            [
             0.6,
             "#e6f5d0"
            ],
            [
             0.7,
             "#b8e186"
            ],
            [
             0.8,
             "#7fbc41"
            ],
            [
             0.9,
             "#4d9221"
            ],
            [
             1,
             "#276419"
            ]
           ],
           "sequential": [
            [
             0,
             "#0d0887"
            ],
            [
             0.1111111111111111,
             "#46039f"
            ],
            [
             0.2222222222222222,
             "#7201a8"
            ],
            [
             0.3333333333333333,
             "#9c179e"
            ],
            [
             0.4444444444444444,
             "#bd3786"
            ],
            [
             0.5555555555555556,
             "#d8576b"
            ],
            [
             0.6666666666666666,
             "#ed7953"
            ],
            [
             0.7777777777777778,
             "#fb9f3a"
            ],
            [
             0.8888888888888888,
             "#fdca26"
            ],
            [
             1,
             "#f0f921"
            ]
           ],
           "sequentialminus": [
            [
             0,
             "#0d0887"
            ],
            [
             0.1111111111111111,
             "#46039f"
            ],
            [
             0.2222222222222222,
             "#7201a8"
            ],
            [
             0.3333333333333333,
             "#9c179e"
            ],
            [
             0.4444444444444444,
             "#bd3786"
            ],
            [
             0.5555555555555556,
             "#d8576b"
            ],
            [
             0.6666666666666666,
             "#ed7953"
            ],
            [
             0.7777777777777778,
             "#fb9f3a"
            ],
            [
             0.8888888888888888,
             "#fdca26"
            ],
            [
             1,
             "#f0f921"
            ]
           ]
          },
          "colorway": [
           "#636efa",
           "#EF553B",
           "#00cc96",
           "#ab63fa",
           "#FFA15A",
           "#19d3f3",
           "#FF6692",
           "#B6E880",
           "#FF97FF",
           "#FECB52"
          ],
          "font": {
           "color": "#2a3f5f"
          },
          "geo": {
           "bgcolor": "white",
           "lakecolor": "white",
           "landcolor": "#E5ECF6",
           "showlakes": true,
           "showland": true,
           "subunitcolor": "white"
          },
          "hoverlabel": {
           "align": "left"
          },
          "hovermode": "closest",
          "mapbox": {
           "style": "light"
          },
          "paper_bgcolor": "white",
          "plot_bgcolor": "#E5ECF6",
          "polar": {
           "angularaxis": {
            "gridcolor": "white",
            "linecolor": "white",
            "ticks": ""
           },
           "bgcolor": "#E5ECF6",
           "radialaxis": {
            "gridcolor": "white",
            "linecolor": "white",
            "ticks": ""
           }
          },
          "scene": {
           "xaxis": {
            "backgroundcolor": "#E5ECF6",
            "gridcolor": "white",
            "gridwidth": 2,
            "linecolor": "white",
            "showbackground": true,
            "ticks": "",
            "zerolinecolor": "white"
           },
           "yaxis": {
            "backgroundcolor": "#E5ECF6",
            "gridcolor": "white",
            "gridwidth": 2,
            "linecolor": "white",
            "showbackground": true,
            "ticks": "",
            "zerolinecolor": "white"
           },
           "zaxis": {
            "backgroundcolor": "#E5ECF6",
            "gridcolor": "white",
            "gridwidth": 2,
            "linecolor": "white",
            "showbackground": true,
            "ticks": "",
            "zerolinecolor": "white"
           }
          },
          "shapedefaults": {
           "line": {
            "color": "#2a3f5f"
           }
          },
          "ternary": {
           "aaxis": {
            "gridcolor": "white",
            "linecolor": "white",
            "ticks": ""
           },
           "baxis": {
            "gridcolor": "white",
            "linecolor": "white",
            "ticks": ""
           },
           "bgcolor": "#E5ECF6",
           "caxis": {
            "gridcolor": "white",
            "linecolor": "white",
            "ticks": ""
           }
          },
          "title": {
           "x": 0.05
          },
          "xaxis": {
           "automargin": true,
           "gridcolor": "white",
           "linecolor": "white",
           "ticks": "",
           "title": {
            "standoff": 15
           },
           "zerolinecolor": "white",
           "zerolinewidth": 2
          },
          "yaxis": {
           "automargin": true,
           "gridcolor": "white",
           "linecolor": "white",
           "ticks": "",
           "title": {
            "standoff": 15
           },
           "zerolinecolor": "white",
           "zerolinewidth": 2
          }
         }
        },
        "width": 220,
        "xaxis": {
         "anchor": "y",
         "domain": [
          0,
          1
         ],
         "gridcolor": "lightgrey",
         "tickfont": {
          "size": 10.5
         },
         "tickmode": "array",
         "title": {
          "font": {
           "size": 10.5
          },
          "standoff": 5,
          "text": "Expert query volume"
         },
         "type": "log"
        },
        "yaxis": {
         "anchor": "x",
         "domain": [
          0,
          1
         ],
         "gridcolor": "lightgrey",
         "tickfont": {
          "size": 10.5
         },
         "tickvals": [
          0,
          0.1,
          0.2,
          0.3,
          0.4,
          0.5,
          0.6,
          0.7,
          0.8,
          0.9,
          1
         ],
         "title": {
          "font": {
           "size": 10.5
          },
          "standoff": 5,
          "text": "f1-score ± 99% CI"
         }
        }
       }
      }
     },
     "metadata": {},
     "output_type": "display_data"
    }
   ],
   "source": [
    "import plotly.graph_objects as go\n",
    "from plotly.subplots import make_subplots\n",
    "import numpy as np\n",
    "\n",
    "import plotly.graph_objects as go\n",
    "import plotly.express as px\n",
    "\n",
    "dataset = 'FASHION'\n",
    "\n",
    "approaches = {\n",
    "    #'EEneuralcbpside_v5': {'color': [255, 255, 0], 'label': 'EEneuralcbpside_v5'},  # Red\n",
    "    'IneurAL (official)': {'color': [255, 161, 90], 'label':'IneurAL6'},                    # Yellow\n",
    "    'IneurAL (tuned)': {'color': [25, 211, 243], 'label':'IneurAL3'},                    # Cyan\n",
    "    'Neuronal (official)': {'color': [255, 102, 146], 'label':'neuronal6'},                  # Magenta\n",
    "    'Neuronal (tuned)': {'color': [182, 232, 128], 'label':'neuronal3'} ,                  # Orange\n",
    "    'Neural-CBP': {'color': [171, 99, 250], 'label': 'EEneuralcbpside_v6'},  # Red\n",
    "    # 'margin': {'color': [160, 160, 160], 'label':'margin'},\n",
    "    # 'cesa': {'color': [0, 0, 255], 'label':'cesa'},\n",
    "}\n",
    "\n",
    "thresholds = ['f1_10', 'f1_25', 'f1_50', 'f1_100', 'f1_150',\n",
    "              'f1_250', 'f1_300', 'f1_400', 'f1_500', 'f1_750', \n",
    "              'f1_1000', 'f1_2500', 'f1_5000', ] #'f1_7500',\n",
    "\n",
    "\n",
    "# Create a subplot with 1 row and 2 columns\n",
    "fig = make_subplots(rows=1, cols=1, ) #subplot_titles=(\"f1-score\", \"# of labelled observations\")\n",
    "\n",
    "# Add your traces for the first figure to the first subplot\n",
    "for approach in approaches.keys():\n",
    "    # ... [your existing code for calculating mean_values, std_values, and color] ...\n",
    "    mean_values = [] \n",
    "    std_values = []\n",
    "    r,g,b = approaches[approach]['color']\n",
    "    \n",
    "    for threshold in thresholds:\n",
    "        mean_value = df_mean[(df_mean['Dataset'] == dataset) & (df_mean['Approach'] == approach)][threshold].values[0]\n",
    "        mean_values.append(mean_value)\n",
    "\n",
    "        std_value = df_std[(df_std['Dataset'] == dataset) & (df_std['Approach'] == approach)][threshold].values[0]\n",
    "        # std_values.append(std_value)\n",
    "        std_values.append( 2.575 * std_value / np.sqrt(n_folds)  )\n",
    "\n",
    "    fig.add_trace(go.Scatter(\n",
    "        x=[10, 25, 50, 100, 150, 250, 300, 400, 500, 750, 1000, 2500, 5000, 7500, 9000], \n",
    "        y=mean_values,\n",
    "        error_y=dict(type='data', array=std_values, visible=True, thickness=1, width=3),\n",
    "        line=dict(dash='solid', width=1, color='rgba({},{},{},1)'.format(r,g,b)),\n",
    "        marker=dict(size=2.5),\n",
    "        name=approach), \n",
    "        row=1, col=1)\n",
    "\n",
    "# Add your traces for the second figure to the second subplot\n",
    "# for approach in approaches.keys():\n",
    "#     # ... [your existing code for calculating explo_value, upper, and color] ...\n",
    "#     r,g,b = approaches[approach]['color']\n",
    "#     explo_value = explo_final['MLP'][dataset][approach]\n",
    "#     upper = explo_value + explo2_final['MLP'][dataset][approach]\n",
    "#     xcoords = np.arange(0,horizon,1).tolist()\n",
    "\n",
    "#     fig.add_trace(go.Scatter(\n",
    "#         x=xcoords+xcoords[::-1], \n",
    "#         y=upper.tolist()+explo_value.tolist()[::-1],  \n",
    "#         fill='toself',\n",
    "#         fillcolor='rgba({},{},{},0.2)'.format(r,g,b),\n",
    "#         line=dict(color='rgba({},{},{},1)'.format(r,g,b), width=0),\n",
    "#         hoverinfo=\"skip\"),\n",
    "#         row=1, col=2)\n",
    "    \n",
    "#     fig.add_trace(go.Scatter(\n",
    "#         x=xcoords, \n",
    "#         y=explo_value,\n",
    "#         line=dict(dash='solid', width=2, color='rgba({},{},{},1)'.format(r,g,b)),\n",
    "#         name=approach), \n",
    "#         row=1, col=2)\n",
    "\n",
    "# Update layout and axes for the combined figure\n",
    "siz = 12.5\n",
    "fig.update_layout(\n",
    "    width=220,  # Adjusted for two subplots\n",
    "    height=180,\n",
    "    plot_bgcolor='white',\n",
    "    paper_bgcolor='white',\n",
    "    margin=dict(l=0, r=0, t=3, b=0),\n",
    "    showlegend=False\n",
    ")\n",
    "\n",
    "# Update xaxis and yaxis properties for each subplot\n",
    "fig.update_xaxes(title_text=\"Expert query volume\", row=1, col=1, gridcolor='lightgrey', tickmode='array', type=\"log\", title_standoff=5, title_font=dict(size=siz-2), tickfont=dict(size=siz-2))\n",
    "fig.update_yaxes(title_text=\"f1-score ± 99% CI\", row=1, col=1,  gridcolor='lightgrey', title_standoff=5, \n",
    "                 title_font=dict(size=siz-2), tickfont=dict(size=siz-2), tickvals=[0, 0.1, 0.2, 0.3, 0.4, 0.5, 0.6, 0.7, 0.8, 0.9, 1])\n",
    "\n",
    "# fig.update_xaxes(title_text=\"Round\", row=1, col=2, gridcolor='lightgrey', tickmode='array', title_standoff=5, title_font=dict(size=siz-2), tickfont=dict(size=siz-2))\n",
    "# fig.update_yaxes(title_text=\"# of labels ± 99% CI\", row=1, col=2,range=[0,4.5], gridcolor='lightgrey',type=\"log\", title_standoff=0, title_font=dict(size=siz-2), tickfont=dict(size=siz-2))\n",
    "\n",
    "fig.show()\n",
    "#range=[0,1.05],\n",
    "\n",
    "# Save the combined figure as a PDF\n",
    "# fig.write_image(\"./figures/combined_{}_{}_{}.pdf\".format(case, model, dataset))\n",
    "# fig.write_image(\"./figures/tst.pdf\".format(case, model, dataset))\n",
    "# fig.write_image(\"./figures/f1_{}_{}_{}.pdf\".format(case, model, dataset))\n"
   ]
  }
 ],
 "metadata": {
  "kernelspec": {
   "display_name": ".venv",
   "language": "python",
   "name": "python3"
  },
  "language_info": {
   "codemirror_mode": {
    "name": "ipython",
    "version": 3
   },
   "file_extension": ".py",
   "mimetype": "text/x-python",
   "name": "python",
   "nbconvert_exporter": "python",
   "pygments_lexer": "ipython3",
   "version": "3.8.16"
  },
  "orig_nbformat": 4
 },
 "nbformat": 4,
 "nbformat_minor": 2
}
