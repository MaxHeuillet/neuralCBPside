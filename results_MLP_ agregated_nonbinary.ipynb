{
 "cells": [
  {
   "cell_type": "code",
   "execution_count": 1,
   "metadata": {},
   "outputs": [],
   "source": [
    "import os\n",
    "import numpy as np\n",
    "import plotly.graph_objects as go\n",
    "import pandas as pd\n",
    "import gzip\n",
    "import pickle as pkl\n",
    "import pandas as pd\n",
    "\n",
    "def loadall_results2(path, n_folds):\n",
    "    regret = []\n",
    "    history_actions = []\n",
    "    history_outcomes = []\n",
    "    perf = []\n",
    "    with gzip.open(  path ,'rb') as f:\n",
    "        for i in range(n_folds+1):\n",
    "            try:\n",
    "                data = pkl.load(f)\n",
    "            except EOFError:\n",
    "                break\n",
    "\n",
    "            if type(data) == dict:\n",
    "                regret.append( data['regret'] ) \n",
    "                history_actions.append( data['action_history'] )\n",
    "                history_outcomes.append( data['outcome_history'] ) \n",
    "                perf.append( data['pred'] ) \n",
    "\n",
    "    return regret, history_actions, history_outcomes, perf"
   ]
  },
  {
   "cell_type": "code",
   "execution_count": 3,
   "metadata": {},
   "outputs": [],
   "source": [
    "n_folds = 25\n",
    "horizon = 9999\n",
    "context = 'MNISTbinary'\n",
    "model = 'MLP'\n",
    "case = 'case1'\n",
    "agent_name = 'EEneuralcbpside_v6' #ineural6, neuronal6\n",
    "\n",
    "direct = './results/'\n",
    "path = os.path.join(direct, '{}_{}_{}_{}_{}_{}.pkl.gz'.format(case,model,context,horizon,n_folds,agent_name) )\n",
    "regret, action_history, outcome_history, perf = loadall_results2(path, n_folds)\n"
   ]
  },
  {
   "cell_type": "code",
   "execution_count": 2,
   "metadata": {},
   "outputs": [
    {
     "name": "stdout",
     "output_type": "stream",
     "text": [
      "./results/case2_MLP_MNIST_9999_25_ineural6.pkl.gz\n",
      "[[1.000e+00 2.000e+00 3.000e+00 ... 4.002e+03 4.003e+03 4.003e+03]\n",
      " [1.000e+00 2.000e+00 3.000e+00 ... 3.898e+03 3.898e+03 3.899e+03]\n",
      " [1.000e+00 1.000e+00 2.000e+00 ... 3.814e+03 3.815e+03 3.815e+03]\n",
      " ...\n",
      " [1.000e+00 1.000e+00 2.000e+00 ... 3.985e+03 3.986e+03 3.986e+03]\n",
      " [1.000e+00 1.000e+00 2.000e+00 ... 3.909e+03 3.910e+03 3.910e+03]\n",
      " [1.000e+00 2.000e+00 3.000e+00 ... 4.133e+03 4.133e+03 4.134e+03]]\n",
      "./results/case2_MLP_MNIST_9999_25_ineural3.pkl.gz\n",
      "[[1.000e+00 2.000e+00 3.000e+00 ... 2.388e+03 2.388e+03 2.388e+03]\n",
      " [1.000e+00 2.000e+00 3.000e+00 ... 2.256e+03 2.256e+03 2.256e+03]\n",
      " [1.000e+00 2.000e+00 3.000e+00 ... 2.230e+03 2.230e+03 2.230e+03]\n",
      " ...\n",
      " [1.000e+00 1.000e+00 2.000e+00 ... 2.376e+03 2.376e+03 2.376e+03]\n",
      " [1.000e+00 1.000e+00 2.000e+00 ... 2.303e+03 2.303e+03 2.303e+03]\n",
      " [1.000e+00 2.000e+00 3.000e+00 ... 2.426e+03 2.426e+03 2.426e+03]]\n",
      "./results/case2_MLP_MNIST_9999_25_neuronal6a.pkl.gz\n",
      "[[1.000e+00 2.000e+00 3.000e+00 ... 4.120e+03 4.120e+03 4.120e+03]\n",
      " [1.000e+00 2.000e+00 3.000e+00 ... 4.134e+03 4.134e+03 4.135e+03]\n",
      " [1.000e+00 2.000e+00 3.000e+00 ... 4.109e+03 4.109e+03 4.109e+03]\n",
      " ...\n",
      " [1.000e+00 2.000e+00 3.000e+00 ... 4.307e+03 4.307e+03 4.307e+03]\n",
      " [1.000e+00 2.000e+00 3.000e+00 ... 4.184e+03 4.184e+03 4.185e+03]\n",
      " [1.000e+00 2.000e+00 3.000e+00 ... 4.138e+03 4.138e+03 4.138e+03]]\n",
      "./results/case2_MLP_MNIST_9999_25_neuronal3a.pkl.gz\n",
      "[[1.000e+00 2.000e+00 3.000e+00 ... 2.698e+03 2.698e+03 2.699e+03]\n",
      " [1.000e+00 2.000e+00 3.000e+00 ... 2.700e+03 2.700e+03 2.701e+03]\n",
      " [1.000e+00 2.000e+00 3.000e+00 ... 2.742e+03 2.742e+03 2.742e+03]\n",
      " ...\n",
      " [1.000e+00 1.000e+00 2.000e+00 ... 2.735e+03 2.736e+03 2.736e+03]\n",
      " [1.000e+00 1.000e+00 2.000e+00 ... 2.661e+03 2.661e+03 2.661e+03]\n",
      " [1.000e+00 2.000e+00 3.000e+00 ... 2.763e+03 2.763e+03 2.763e+03]]\n",
      "./results/case2_MLP_MNIST_9999_25_EEneuralcbpside_v6.pkl.gz\n",
      "[[1.000e+00 2.000e+00 3.000e+00 ... 1.816e+03 1.816e+03 1.816e+03]\n",
      " [1.000e+00 2.000e+00 3.000e+00 ... 1.816e+03 1.816e+03 1.817e+03]\n",
      " [1.000e+00 1.000e+00 2.000e+00 ... 1.757e+03 1.757e+03 1.757e+03]\n",
      " ...\n",
      " [1.000e+00 1.000e+00 2.000e+00 ... 1.731e+03 1.731e+03 1.731e+03]\n",
      " [1.000e+00 1.000e+00 2.000e+00 ... 1.807e+03 1.807e+03 1.807e+03]\n",
      " [1.000e+00 2.000e+00 3.000e+00 ... 1.878e+03 1.878e+03 1.878e+03]]\n",
      "./results/case2_MLP_FASHION_9999_25_ineural6.pkl.gz\n",
      "[[1.000e+00 2.000e+00 3.000e+00 ... 4.794e+03 4.794e+03 4.794e+03]\n",
      " [1.000e+00 1.000e+00 2.000e+00 ... 4.721e+03 4.722e+03 4.722e+03]\n",
      " [1.000e+00 2.000e+00 3.000e+00 ... 4.830e+03 4.830e+03 4.830e+03]\n",
      " ...\n",
      " [1.000e+00 1.000e+00 2.000e+00 ... 4.950e+03 4.951e+03 4.951e+03]\n",
      " [1.000e+00 2.000e+00 3.000e+00 ... 5.105e+03 5.105e+03 5.106e+03]\n",
      " [1.000e+00 2.000e+00 3.000e+00 ... 4.901e+03 4.902e+03 4.903e+03]]\n",
      "./results/case2_MLP_FASHION_9999_25_ineural3.pkl.gz\n",
      "[[1.000e+00 2.000e+00 3.000e+00 ... 3.413e+03 3.413e+03 3.413e+03]\n",
      " [1.000e+00 2.000e+00 3.000e+00 ... 3.339e+03 3.339e+03 3.340e+03]\n",
      " [1.000e+00 2.000e+00 3.000e+00 ... 3.435e+03 3.435e+03 3.436e+03]\n",
      " ...\n",
      " [1.000e+00 1.000e+00 2.000e+00 ... 3.419e+03 3.420e+03 3.421e+03]\n",
      " [1.000e+00 2.000e+00 3.000e+00 ... 3.515e+03 3.515e+03 3.516e+03]\n",
      " [1.000e+00 2.000e+00 3.000e+00 ... 3.355e+03 3.355e+03 3.355e+03]]\n",
      "./results/case2_MLP_FASHION_9999_25_neuronal6a.pkl.gz\n",
      "[[1.000e+00 2.000e+00 3.000e+00 ... 4.857e+03 4.858e+03 4.858e+03]\n",
      " [1.000e+00 2.000e+00 3.000e+00 ... 4.836e+03 4.836e+03 4.837e+03]\n",
      " [1.000e+00 1.000e+00 2.000e+00 ... 4.868e+03 4.869e+03 4.869e+03]\n",
      " ...\n",
      " [1.000e+00 2.000e+00 3.000e+00 ... 4.861e+03 4.861e+03 4.862e+03]\n",
      " [1.000e+00 2.000e+00 3.000e+00 ... 5.020e+03 5.020e+03 5.020e+03]\n",
      " [1.000e+00 2.000e+00 3.000e+00 ... 4.969e+03 4.970e+03 4.970e+03]]\n",
      "./results/case2_MLP_FASHION_9999_25_neuronal3a.pkl.gz\n",
      "[[1.000e+00 2.000e+00 3.000e+00 ... 3.500e+03 3.500e+03 3.501e+03]\n",
      " [1.000e+00 2.000e+00 3.000e+00 ... 3.514e+03 3.514e+03 3.514e+03]\n",
      " [1.000e+00 2.000e+00 3.000e+00 ... 3.503e+03 3.503e+03 3.504e+03]\n",
      " ...\n",
      " [1.000e+00 2.000e+00 3.000e+00 ... 3.566e+03 3.566e+03 3.566e+03]\n",
      " [1.000e+00 2.000e+00 3.000e+00 ... 3.640e+03 3.640e+03 3.640e+03]\n",
      " [1.000e+00 2.000e+00 3.000e+00 ... 3.630e+03 3.631e+03 3.631e+03]]\n",
      "./results/case2_MLP_FASHION_9999_25_EEneuralcbpside_v6.pkl.gz\n",
      "[[1.000e+00 2.000e+00 3.000e+00 ... 2.864e+03 2.864e+03 2.864e+03]\n",
      " [1.000e+00 1.000e+00 2.000e+00 ... 2.768e+03 2.769e+03 2.769e+03]\n",
      " [1.000e+00 1.000e+00 2.000e+00 ... 2.855e+03 2.855e+03 2.856e+03]\n",
      " ...\n",
      " [1.000e+00 2.000e+00 3.000e+00 ... 2.986e+03 2.986e+03 2.986e+03]\n",
      " [1.000e+00 2.000e+00 3.000e+00 ... 2.909e+03 2.909e+03 2.909e+03]\n",
      " [1.000e+00 2.000e+00 3.000e+00 ... 2.814e+03 2.814e+03 2.814e+03]]\n",
      "./results/game_case_seven_MLP_covertype_9999_25_ineural6.pkl.gz\n",
      "[[1.000e+00 2.000e+00 2.000e+00 ... 5.097e+03 5.098e+03 5.099e+03]\n",
      " [1.000e+00 1.000e+00 2.000e+00 ... 9.463e+03 9.464e+03 9.465e+03]\n",
      " [1.000e+00 1.000e+00 1.000e+00 ... 8.761e+03 8.762e+03 8.763e+03]\n",
      " ...\n",
      " [1.000e+00 2.000e+00 3.000e+00 ... 9.465e+03 9.466e+03 9.467e+03]\n",
      " [1.000e+00 2.000e+00 3.000e+00 ... 9.336e+03 9.337e+03 9.338e+03]\n",
      " [1.000e+00 1.000e+00 2.000e+00 ... 9.355e+03 9.356e+03 9.357e+03]]\n",
      "./results/game_case_seven_MLP_covertype_9999_25_ineural3.pkl.gz\n",
      "[[1.000e+00 2.000e+00 2.000e+00 ... 6.305e+03 6.306e+03 6.307e+03]\n",
      " [1.000e+00 2.000e+00 2.000e+00 ... 6.387e+03 6.387e+03 6.387e+03]\n",
      " [1.000e+00 2.000e+00 3.000e+00 ... 9.691e+03 9.692e+03 9.693e+03]\n",
      " ...\n",
      " [1.000e+00 2.000e+00 3.000e+00 ... 8.217e+03 8.217e+03 8.218e+03]\n",
      " [1.000e+00 2.000e+00 3.000e+00 ... 8.644e+03 8.644e+03 8.645e+03]\n",
      " [1.000e+00 2.000e+00 3.000e+00 ... 7.897e+03 7.898e+03 7.899e+03]]\n",
      "./results/game_case_seven_MLP_covertype_9999_25_neuronal6a.pkl.gz\n",
      "[[1.000e+00 2.000e+00 3.000e+00 ... 7.204e+03 7.204e+03 7.204e+03]\n",
      " [1.000e+00 1.000e+00 2.000e+00 ... 7.615e+03 7.616e+03 7.616e+03]\n",
      " [1.000e+00 2.000e+00 3.000e+00 ... 7.359e+03 7.359e+03 7.359e+03]\n",
      " ...\n",
      " [1.000e+00 1.000e+00 2.000e+00 ... 7.978e+03 7.978e+03 7.979e+03]\n",
      " [1.000e+00 1.000e+00 2.000e+00 ... 7.990e+03 7.991e+03 7.991e+03]\n",
      " [1.000e+00 2.000e+00 3.000e+00 ... 8.098e+03 8.098e+03 8.099e+03]]\n",
      "./results/game_case_seven_MLP_covertype_9999_25_neuronal3a.pkl.gz\n",
      "[[1.000e+00 2.000e+00 3.000e+00 ... 5.158e+03 5.158e+03 5.159e+03]\n",
      " [1.000e+00 2.000e+00 3.000e+00 ... 5.141e+03 5.142e+03 5.142e+03]\n",
      " [1.000e+00 2.000e+00 3.000e+00 ... 5.508e+03 5.509e+03 5.509e+03]\n",
      " ...\n",
      " [1.000e+00 2.000e+00 3.000e+00 ... 5.536e+03 5.536e+03 5.536e+03]\n",
      " [1.000e+00 2.000e+00 3.000e+00 ... 5.897e+03 5.898e+03 5.899e+03]\n",
      " [1.000e+00 2.000e+00 3.000e+00 ... 5.749e+03 5.749e+03 5.750e+03]]\n",
      "./results/game_case_seven_MLP_covertype_9999_25_EEneuralcbpside_v6.pkl.gz\n",
      "[[1.000e+00 2.000e+00 3.000e+00 ... 6.358e+03 6.358e+03 6.358e+03]\n",
      " [1.000e+00 1.000e+00 2.000e+00 ... 5.139e+03 5.140e+03 5.140e+03]\n",
      " [1.000e+00 2.000e+00 3.000e+00 ... 6.274e+03 6.274e+03 6.275e+03]\n",
      " ...\n",
      " [1.000e+00 1.000e+00 2.000e+00 ... 4.219e+03 4.219e+03 4.219e+03]\n",
      " [1.000e+00 2.000e+00 2.000e+00 ... 4.189e+03 4.190e+03 4.191e+03]\n",
      " [1.000e+00 2.000e+00 3.000e+00 ... 4.931e+03 4.931e+03 4.931e+03]]\n",
      "./results/game_case_seven_MLP_shuttle_9999_25_ineural6.pkl.gz\n",
      "[[1.000e+00 2.000e+00 3.000e+00 ... 7.330e+03 7.331e+03 7.331e+03]\n",
      " [1.000e+00 2.000e+00 3.000e+00 ... 8.204e+03 8.205e+03 8.206e+03]\n",
      " [1.000e+00 2.000e+00 3.000e+00 ... 8.644e+03 8.645e+03 8.645e+03]\n",
      " ...\n",
      " [1.000e+00 2.000e+00 3.000e+00 ... 8.393e+03 8.393e+03 8.394e+03]\n",
      " [1.000e+00 2.000e+00 3.000e+00 ... 7.831e+03 7.831e+03 7.832e+03]\n",
      " [1.000e+00 2.000e+00 3.000e+00 ... 7.644e+03 7.645e+03 7.646e+03]]\n",
      "./results/game_case_seven_MLP_shuttle_9999_25_ineural3.pkl.gz\n",
      "[[1.000e+00 2.000e+00 3.000e+00 ... 3.108e+03 3.108e+03 3.108e+03]\n",
      " [1.000e+00 2.000e+00 2.000e+00 ... 2.456e+03 2.456e+03 2.456e+03]\n",
      " [1.000e+00 2.000e+00 3.000e+00 ... 1.307e+03 1.307e+03 1.307e+03]\n",
      " ...\n",
      " [1.000e+00 2.000e+00 3.000e+00 ... 2.230e+03 2.231e+03 2.231e+03]\n",
      " [1.000e+00 2.000e+00 3.000e+00 ... 3.715e+03 3.715e+03 3.715e+03]\n",
      " [1.000e+00 2.000e+00 3.000e+00 ... 3.708e+03 3.708e+03 3.709e+03]]\n",
      "./results/game_case_seven_MLP_shuttle_9999_25_neuronal6a.pkl.gz\n",
      "[[1.000e+00 2.000e+00 3.000e+00 ... 1.904e+03 1.904e+03 1.905e+03]\n",
      " [1.000e+00 2.000e+00 3.000e+00 ... 1.386e+03 1.386e+03 1.386e+03]\n",
      " [1.000e+00 2.000e+00 2.000e+00 ... 2.657e+03 2.658e+03 2.658e+03]\n",
      " ...\n",
      " [1.000e+00 2.000e+00 3.000e+00 ... 2.143e+03 2.143e+03 2.143e+03]\n",
      " [1.000e+00 2.000e+00 3.000e+00 ... 1.277e+03 1.277e+03 1.277e+03]\n",
      " [1.000e+00 2.000e+00 2.000e+00 ... 1.359e+03 1.359e+03 1.359e+03]]\n",
      "./results/game_case_seven_MLP_shuttle_9999_25_neuronal3a.pkl.gz\n",
      "[[1.000e+00 2.000e+00 3.000e+00 ... 2.157e+03 2.158e+03 2.158e+03]\n",
      " [1.000e+00 2.000e+00 3.000e+00 ... 2.201e+03 2.202e+03 2.203e+03]\n",
      " [1.000e+00 2.000e+00 3.000e+00 ... 2.110e+03 2.110e+03 2.110e+03]\n",
      " ...\n",
      " [1.000e+00 2.000e+00 3.000e+00 ... 2.415e+03 2.415e+03 2.415e+03]\n",
      " [1.000e+00 2.000e+00 3.000e+00 ... 1.027e+03 1.027e+03 1.027e+03]\n",
      " [1.000e+00 2.000e+00 3.000e+00 ... 1.051e+03 1.051e+03 1.051e+03]]\n",
      "./results/game_case_seven_MLP_shuttle_9999_25_EEneuralcbpside_v6.pkl.gz\n",
      "[[1.000e+00 2.000e+00 3.000e+00 ... 7.230e+02 7.230e+02 7.230e+02]\n",
      " [1.000e+00 2.000e+00 3.000e+00 ... 3.560e+02 3.560e+02 3.560e+02]\n",
      " [1.000e+00 1.000e+00 2.000e+00 ... 6.570e+02 6.570e+02 6.570e+02]\n",
      " ...\n",
      " [1.000e+00 1.000e+00 2.000e+00 ... 1.304e+03 1.304e+03 1.304e+03]\n",
      " [1.000e+00 2.000e+00 3.000e+00 ... 6.680e+02 6.680e+02 6.680e+02]\n",
      " [1.000e+00 2.000e+00 3.000e+00 ... 3.750e+02 3.750e+02 3.750e+02]]\n"
     ]
    }
   ],
   "source": [
    "def format_perf(perf, model, dataset, l_label):\n",
    "\n",
    "    processed_data = []\n",
    "    i = 0\n",
    "    for item in perf:\n",
    "        processed_item = {}\n",
    "        # key_mapping = dict( zip( item.keys(), [10, 50, 100, 250, 500, 750, 1000, 2500, 5000, 7500, 9000]))\n",
    "        new_dict = item #{key_mapping[old_key]: value for old_key, value in item.items()}\n",
    "        for key in new_dict:\n",
    "            # processed_item[f'accuracy_{key}'] = new_dict[key]['accuracy']\n",
    "            processed_item[f'f1_{key}'] = new_dict[key]['f1']\n",
    "        processed_item['Seed'] = i\n",
    "        processed_item['Model'] = model\n",
    "        processed_item['Dataset'] = dataset\n",
    "        processed_item['Approach'] = l_label\n",
    "        i = i+1\n",
    "        processed_data.append(processed_item)\n",
    "    return processed_data\n",
    "\n",
    "\n",
    "def convert_action_history(action_history, n_folds):\n",
    "    counters = []\n",
    "    for history in action_history:\n",
    "        counter = np.cumsum([ 1 if action == 0 else 0 for action in history ])\n",
    "        counters.append(counter)\n",
    "\n",
    "    std = 2.575 * np.std(counters, axis = 0) / np.sqrt(n_folds )\n",
    "    # std = np.std(counters, axis = 0) #/ n_folds \n",
    "\n",
    "    return np.mean(counters, axis = 0), std \n",
    "\n",
    "n_folds = 26\n",
    "horizon = 9999\n",
    "model = 'MLP'\n",
    "\n",
    "material = {\n",
    "    #'EEneuralcbpside_v5': {'color': [255, 255, 0], 'label': 'EEneuralcbpside_v5'},  # Red\n",
    "    'ineural6': {'color': [51, 255, 255], 'label':'IneurAL (official)'},                    # Yellow\n",
    "    'ineural3': {'color': [0, 0, 255], 'label':'IneurAL (less exploration)'},                    # Cyan\n",
    "    'neuronal6a': {'color': [255, 0, 255], 'label':'Neuronal (official)'},                  # Magenta\n",
    "    'neuronal3a': {'color': [160, 160, 160], 'label':'Neuronal (less exploration)'},                   # Orange\n",
    "    'EEneuralcbpside_v6': {'color': [255, 0, 0], 'label': 'Neural-CBP'},  # Red\n",
    "    # 'margin': {'color': [160, 160, 160], 'label':'Margin'},\n",
    "    # 'cesa': {'color': [0, 0, 255], 'label':'Cesa'},\n",
    "}\n",
    "\n",
    "fig = go.Figure( )\n",
    "\n",
    "data_models = {}\n",
    "perfs_final = {}\n",
    "explo_final = {}\n",
    "explo2_final = {}\n",
    "\n",
    "for model in ['MLP']:  # 'LeNet'\n",
    "\n",
    "    if model == 'MLP':\n",
    "        n_folds = 25\n",
    "        datasets = ['MNIST', 'FASHION', 'covertype', 'shuttle',] # \n",
    "    # else:\n",
    "    #     datasets = ['MNIST', 'FASHION', 'CIFAR10',]\n",
    "    #     n_folds = 25\n",
    "\n",
    "    data_regrets = {} \n",
    "    data_perfs = {} \n",
    "    data_explo = {}\n",
    "    data_explo2 = {}\n",
    "    for data in datasets: \n",
    "\n",
    "        if data in ['MNIST', 'FASHION', 'CIFAR10']:\n",
    "            case = 'case2' \n",
    "        elif data in ['covertype', 'shuttle']:\n",
    "            case = 'game_case_seven'\n",
    "        # else:\n",
    "        # case = 'case2'\n",
    "        \n",
    "        final_regrets = {}\n",
    "        final_perfs = {}\n",
    "        explo_perfs = {}\n",
    "        explo2_perfs = {}\n",
    "        for agent_name in material.keys():\n",
    "\n",
    "            color, l_label = material[agent_name]['color'], material[agent_name]['label']\n",
    "\n",
    "            r,g,b = color\n",
    "\n",
    "            # try:\n",
    "            direct = './results/'\n",
    "            path = os.path.join(direct, '{}_{}_{}_{}_{}_{}.pkl.gz'.format(case, model, data, horizon,n_folds,agent_name) )\n",
    "            print(path)\n",
    "            regret, action_history,outcome_history, perf = loadall_results2(path, n_folds)\n",
    "            regret = np.array(regret)\n",
    "            print(regret)\n",
    "            regret = regret#[1:]\n",
    "\n",
    "            final_regrets[l_label] = regret[:,-1] \n",
    "            final_perfs[l_label] = pd.DataFrame( format_perf(perf, model, data, l_label) )\n",
    "\n",
    "            m, s = convert_action_history(action_history, n_folds)\n",
    "            explo_perfs[l_label] = m\n",
    "            explo2_perfs[l_label] = s\n",
    "\n",
    "\n",
    "        if data == 'MNISTbinary':\n",
    "            data = 'MNISTbinary'\n",
    "        if data == 'FASHION':\n",
    "            data = 'FASHION'\n",
    "            \n",
    "        data_regrets[data] = final_regrets\n",
    "\n",
    "        dataframes_list = list(final_perfs.values())\n",
    "        concatenated_df = pd.concat(dataframes_list, axis=0)\n",
    "        data_perfs[data] = concatenated_df\n",
    "\n",
    "        data_explo[data] = explo_perfs\n",
    "        data_explo2[data] = explo2_perfs\n",
    "        \n",
    "    data_models[model] = data_regrets\n",
    "    dataframes_list = list(data_perfs.values())\n",
    "    concatenated_df = pd.concat(dataframes_list, axis=0)\n",
    "\n",
    "    explo_final[model] = data_explo\n",
    "    explo2_final[model] = data_explo2\n",
    "\n",
    "# fig.show()\n",
    "# fig.write_image(\"./figures/case1_{}_{}.pdf\".format(model, context) )"
   ]
  },
  {
   "cell_type": "code",
   "execution_count": 3,
   "metadata": {},
   "outputs": [],
   "source": [
    "import pandas as pd\n",
    "# pd.DataFrame(data_regrets)\n",
    "# data_regrets\n",
    "\n",
    "samples = []\n",
    "# Iterate over the dictionary to extract data\n",
    "for model, dataset in data_models.items():\n",
    "    for data, approach in dataset.items():\n",
    "        for appr, values in approach.items():\n",
    "            i = 0\n",
    "            for val in values:\n",
    "                # print(i, appr,val)\n",
    "                samples.append([i, model, data, appr, val])\n",
    "                i = i+1\n",
    "\n",
    "# Create a DataFrame\n",
    "df = pd.DataFrame(samples, columns=['Seed','Model', 'Dataset', 'Approach', 'Value'])\n",
    "df = pd.merge(df, concatenated_df, on=['Model', 'Dataset', 'Approach', 'Seed'])\n"
   ]
  },
  {
   "cell_type": "code",
   "execution_count": 4,
   "metadata": {},
   "outputs": [],
   "source": [
    "exclude_columns = ['Seed', 'Model', 'Dataset', 'Approach']\n",
    "\n",
    "agg_columns = [col for col in df.columns if col not in exclude_columns]\n",
    "\n",
    "df_mean = df.groupby(['Model', 'Dataset', 'Approach'])[agg_columns].agg(['mean',]) # 'std'\n",
    "df_mean.columns = df_mean.columns.get_level_values(0)\n",
    "df_mean = df_mean.reset_index()\n",
    "\n",
    "df_std = df.groupby(['Model', 'Dataset', 'Approach'])[agg_columns].agg(['std',]) # 'std'\n",
    "df_std.columns = df_std.columns.get_level_values(0)\n",
    "df_std = df_std.reset_index()\n"
   ]
  },
  {
   "cell_type": "code",
   "execution_count": 6,
   "metadata": {},
   "outputs": [
    {
     "data": {
      "application/vnd.plotly.v1+json": {
       "config": {
        "plotlyServerURL": "https://plot.ly"
       },
       "data": [
        {
         "error_y": {
          "array": [
           0.05695102872921311,
           0.029270765954086887,
           0.044691569448892784,
           0.07993074134606669,
           0.08124264782744664,
           0.044219483983594335,
           0.04562198688600894,
           0.0551215400461834,
           0.029334368440094277,
           0.0094221472778243,
           0.009941604500779456,
           0.007730087738003587,
           0.005834790509624653,
           0.0049594533560506126
          ],
          "thickness": 1,
          "type": "data",
          "visible": true,
          "width": 3
         },
         "line": {
          "color": "rgba(255,161,90,1)",
          "dash": "solid",
          "width": 1
         },
         "marker": {
          "size": 2.5
         },
         "name": "IneurAL (official)",
         "type": "scatter",
         "x": [
          10,
          25,
          50,
          100,
          150,
          250,
          300,
          400,
          500,
          750,
          1000,
          2500,
          5000,
          7500,
          9000
         ],
         "xaxis": "x",
         "y": [
          0.39249420644738864,
          0.4421817445494613,
          0.4309381223871662,
          0.31191225165218167,
          0.41612609044180626,
          0.5082211334899951,
          0.5306551250516849,
          0.5604844433138251,
          0.5868546318940843,
          0.6298882207200532,
          0.641797286911691,
          0.6664280905470917,
          0.6962626518199063,
          0.711372058380039
         ],
         "yaxis": "y"
        },
        {
         "error_y": {
          "array": [
           0.04908690298977298,
           0.034646798182626094,
           0.07918449566526631,
           0.06213230642724972,
           0.06475987063025848,
           0.039571361543810205,
           0.03273996369609617,
           0.050785006021682975,
           0.05279054980326562,
           0.05451550542460935,
           0.03652941645060119,
           0.013497627249948458,
           0.005106538962549152,
           null
          ],
          "thickness": 1,
          "type": "data",
          "visible": true,
          "width": 3
         },
         "line": {
          "color": "rgba(25,211,243,1)",
          "dash": "solid",
          "width": 1
         },
         "marker": {
          "size": 2.5
         },
         "name": "IneurAL (less exploration)",
         "type": "scatter",
         "x": [
          10,
          25,
          50,
          100,
          150,
          250,
          300,
          400,
          500,
          750,
          1000,
          2500,
          5000,
          7500,
          9000
         ],
         "xaxis": "x",
         "y": [
          0.3642850509903456,
          0.4073690958863959,
          0.3197053648416503,
          0.31358444984364664,
          0.40482198962911475,
          0.5376944870226091,
          0.555905755038245,
          0.5717927401549325,
          0.5913003867056438,
          0.5993571396822388,
          0.6063341459859162,
          0.6594251607685063,
          0.7047846448226421,
          null
         ],
         "yaxis": "y"
        },
        {
         "error_y": {
          "array": [
           0.039822103811126955,
           0.03469359019721725,
           0.027896582553667032,
           0.023535136234371902,
           0.012226561906037827,
           0.02457004251864937,
           0.03209140312670859,
           0.03757245465469761,
           0.019721630726816725,
           0.005560549013275214,
           0.006473831811278424,
           0.006032934908088821,
           0.007685958146182276,
           0.002167294621347053
          ],
          "thickness": 1,
          "type": "data",
          "visible": true,
          "width": 3
         },
         "line": {
          "color": "rgba(255,102,146,1)",
          "dash": "solid",
          "width": 1
         },
         "marker": {
          "size": 2.5
         },
         "name": "Neuronal (official)",
         "type": "scatter",
         "x": [
          10,
          25,
          50,
          100,
          150,
          250,
          300,
          400,
          500,
          750,
          1000,
          2500,
          5000,
          7500,
          9000
         ],
         "xaxis": "x",
         "y": [
          0.30100250387098865,
          0.31959155323368615,
          0.3295499177861226,
          0.3439238963990985,
          0.3305202814097556,
          0.3442155674206921,
          0.37101498715643444,
          0.4426022777213914,
          0.5386893527605413,
          0.5820228096969757,
          0.593255487623982,
          0.6106881230248795,
          0.6606311892420581,
          0.6975348477576107
         ],
         "yaxis": "y"
        },
        {
         "error_y": {
          "array": [
           0.03708641108378228,
           0.03670696966664832,
           0.04395013236809464,
           0.02726014456582542,
           0.01623646127823256,
           0.024526836437542616,
           0.02425019054514465,
           0.033848155910326236,
           0.020011066007704355,
           0.008324515156005324,
           0.007446369955099208,
           0.007514659777877487,
           null,
           null
          ],
          "thickness": 1,
          "type": "data",
          "visible": true,
          "width": 3
         },
         "line": {
          "color": "rgba(182,232,128,1)",
          "dash": "solid",
          "width": 1
         },
         "marker": {
          "size": 2.5
         },
         "name": "Neuronal (less exploration)",
         "type": "scatter",
         "x": [
          10,
          25,
          50,
          100,
          150,
          250,
          300,
          400,
          500,
          750,
          1000,
          2500,
          5000,
          7500,
          9000
         ],
         "xaxis": "x",
         "y": [
          0.2674157700110155,
          0.2833585565185113,
          0.30219064096473197,
          0.3341738166652455,
          0.33153695801268435,
          0.3408553233145536,
          0.35463409746026103,
          0.442745346934872,
          0.5379655974936625,
          0.5875945996031456,
          0.5954221682991089,
          0.6322998432259715,
          null,
          null
         ],
         "yaxis": "y"
        },
        {
         "error_y": {
          "array": [
           0.0294803246132349,
           0.038873514888440694,
           0.0439992430838327,
           0.06779125370568288,
           0.07811858694810006,
           0.08651109504837834,
           0.08815348036069921,
           0.09132246503752486,
           0.014132748848215198,
           0.019812926418850105,
           0.01060354655674568,
           null,
           null,
           null
          ],
          "thickness": 1,
          "type": "data",
          "visible": true,
          "width": 3
         },
         "line": {
          "color": "rgba(171,99,250,1)",
          "dash": "solid",
          "width": 1
         },
         "marker": {
          "size": 2.5
         },
         "name": "Neural-CBP",
         "type": "scatter",
         "x": [
          10,
          25,
          50,
          100,
          150,
          250,
          300,
          400,
          500,
          750,
          1000,
          2500,
          5000,
          7500,
          9000
         ],
         "xaxis": "x",
         "y": [
          0.31902240953118255,
          0.3411591381849174,
          0.351901954018188,
          0.40912097309278733,
          0.46229631276498856,
          0.4928080603162996,
          0.49917123799005575,
          0.5123072117167795,
          0.6012873571965696,
          0.6193746414545857,
          0.6501216748432125,
          null,
          null,
          null
         ],
         "yaxis": "y"
        }
       ],
       "layout": {
        "height": 180,
        "margin": {
         "b": 0,
         "l": 0,
         "r": 0,
         "t": 3
        },
        "paper_bgcolor": "white",
        "plot_bgcolor": "white",
        "showlegend": false,
        "template": {
         "data": {
          "bar": [
           {
            "error_x": {
             "color": "#2a3f5f"
            },
            "error_y": {
             "color": "#2a3f5f"
            },
            "marker": {
             "line": {
              "color": "#E5ECF6",
              "width": 0.5
             },
             "pattern": {
              "fillmode": "overlay",
              "size": 10,
              "solidity": 0.2
             }
            },
            "type": "bar"
           }
          ],
          "barpolar": [
           {
            "marker": {
             "line": {
              "color": "#E5ECF6",
              "width": 0.5
             },
             "pattern": {
              "fillmode": "overlay",
              "size": 10,
              "solidity": 0.2
             }
            },
            "type": "barpolar"
           }
          ],
          "carpet": [
           {
            "aaxis": {
             "endlinecolor": "#2a3f5f",
             "gridcolor": "white",
             "linecolor": "white",
             "minorgridcolor": "white",
             "startlinecolor": "#2a3f5f"
            },
            "baxis": {
             "endlinecolor": "#2a3f5f",
             "gridcolor": "white",
             "linecolor": "white",
             "minorgridcolor": "white",
             "startlinecolor": "#2a3f5f"
            },
            "type": "carpet"
           }
          ],
          "choropleth": [
           {
            "colorbar": {
             "outlinewidth": 0,
             "ticks": ""
            },
            "type": "choropleth"
           }
          ],
          "contour": [
           {
            "colorbar": {
             "outlinewidth": 0,
             "ticks": ""
            },
            "colorscale": [
             [
              0,
              "#0d0887"
             ],
             [
              0.1111111111111111,
              "#46039f"
             ],
             [
              0.2222222222222222,
              "#7201a8"
             ],
             [
              0.3333333333333333,
              "#9c179e"
             ],
             [
              0.4444444444444444,
              "#bd3786"
             ],
             [
              0.5555555555555556,
              "#d8576b"
             ],
             [
              0.6666666666666666,
              "#ed7953"
             ],
             [
              0.7777777777777778,
              "#fb9f3a"
             ],
             [
              0.8888888888888888,
              "#fdca26"
             ],
             [
              1,
              "#f0f921"
             ]
            ],
            "type": "contour"
           }
          ],
          "contourcarpet": [
           {
            "colorbar": {
             "outlinewidth": 0,
             "ticks": ""
            },
            "type": "contourcarpet"
           }
          ],
          "heatmap": [
           {
            "colorbar": {
             "outlinewidth": 0,
             "ticks": ""
            },
            "colorscale": [
             [
              0,
              "#0d0887"
             ],
             [
              0.1111111111111111,
              "#46039f"
             ],
             [
              0.2222222222222222,
              "#7201a8"
             ],
             [
              0.3333333333333333,
              "#9c179e"
             ],
             [
              0.4444444444444444,
              "#bd3786"
             ],
             [
              0.5555555555555556,
              "#d8576b"
             ],
             [
              0.6666666666666666,
              "#ed7953"
             ],
             [
              0.7777777777777778,
              "#fb9f3a"
             ],
             [
              0.8888888888888888,
              "#fdca26"
             ],
             [
              1,
              "#f0f921"
             ]
            ],
            "type": "heatmap"
           }
          ],
          "heatmapgl": [
           {
            "colorbar": {
             "outlinewidth": 0,
             "ticks": ""
            },
            "colorscale": [
             [
              0,
              "#0d0887"
             ],
             [
              0.1111111111111111,
              "#46039f"
             ],
             [
              0.2222222222222222,
              "#7201a8"
             ],
             [
              0.3333333333333333,
              "#9c179e"
             ],
             [
              0.4444444444444444,
              "#bd3786"
             ],
             [
              0.5555555555555556,
              "#d8576b"
             ],
             [
              0.6666666666666666,
              "#ed7953"
             ],
             [
              0.7777777777777778,
              "#fb9f3a"
             ],
             [
              0.8888888888888888,
              "#fdca26"
             ],
             [
              1,
              "#f0f921"
             ]
            ],
            "type": "heatmapgl"
           }
          ],
          "histogram": [
           {
            "marker": {
             "pattern": {
              "fillmode": "overlay",
              "size": 10,
              "solidity": 0.2
             }
            },
            "type": "histogram"
           }
          ],
          "histogram2d": [
           {
            "colorbar": {
             "outlinewidth": 0,
             "ticks": ""
            },
            "colorscale": [
             [
              0,
              "#0d0887"
             ],
             [
              0.1111111111111111,
              "#46039f"
             ],
             [
              0.2222222222222222,
              "#7201a8"
             ],
             [
              0.3333333333333333,
              "#9c179e"
             ],
             [
              0.4444444444444444,
              "#bd3786"
             ],
             [
              0.5555555555555556,
              "#d8576b"
             ],
             [
              0.6666666666666666,
              "#ed7953"
             ],
             [
              0.7777777777777778,
              "#fb9f3a"
             ],
             [
              0.8888888888888888,
              "#fdca26"
             ],
             [
              1,
              "#f0f921"
             ]
            ],
            "type": "histogram2d"
           }
          ],
          "histogram2dcontour": [
           {
            "colorbar": {
             "outlinewidth": 0,
             "ticks": ""
            },
            "colorscale": [
             [
              0,
              "#0d0887"
             ],
             [
              0.1111111111111111,
              "#46039f"
             ],
             [
              0.2222222222222222,
              "#7201a8"
             ],
             [
              0.3333333333333333,
              "#9c179e"
             ],
             [
              0.4444444444444444,
              "#bd3786"
             ],
             [
              0.5555555555555556,
              "#d8576b"
             ],
             [
              0.6666666666666666,
              "#ed7953"
             ],
             [
              0.7777777777777778,
              "#fb9f3a"
             ],
             [
              0.8888888888888888,
              "#fdca26"
             ],
             [
              1,
              "#f0f921"
             ]
            ],
            "type": "histogram2dcontour"
           }
          ],
          "mesh3d": [
           {
            "colorbar": {
             "outlinewidth": 0,
             "ticks": ""
            },
            "type": "mesh3d"
           }
          ],
          "parcoords": [
           {
            "line": {
             "colorbar": {
              "outlinewidth": 0,
              "ticks": ""
             }
            },
            "type": "parcoords"
           }
          ],
          "pie": [
           {
            "automargin": true,
            "type": "pie"
           }
          ],
          "scatter": [
           {
            "fillpattern": {
             "fillmode": "overlay",
             "size": 10,
             "solidity": 0.2
            },
            "type": "scatter"
           }
          ],
          "scatter3d": [
           {
            "line": {
             "colorbar": {
              "outlinewidth": 0,
              "ticks": ""
             }
            },
            "marker": {
             "colorbar": {
              "outlinewidth": 0,
              "ticks": ""
             }
            },
            "type": "scatter3d"
           }
          ],
          "scattercarpet": [
           {
            "marker": {
             "colorbar": {
              "outlinewidth": 0,
              "ticks": ""
             }
            },
            "type": "scattercarpet"
           }
          ],
          "scattergeo": [
           {
            "marker": {
             "colorbar": {
              "outlinewidth": 0,
              "ticks": ""
             }
            },
            "type": "scattergeo"
           }
          ],
          "scattergl": [
           {
            "marker": {
             "colorbar": {
              "outlinewidth": 0,
              "ticks": ""
             }
            },
            "type": "scattergl"
           }
          ],
          "scattermapbox": [
           {
            "marker": {
             "colorbar": {
              "outlinewidth": 0,
              "ticks": ""
             }
            },
            "type": "scattermapbox"
           }
          ],
          "scatterpolar": [
           {
            "marker": {
             "colorbar": {
              "outlinewidth": 0,
              "ticks": ""
             }
            },
            "type": "scatterpolar"
           }
          ],
          "scatterpolargl": [
           {
            "marker": {
             "colorbar": {
              "outlinewidth": 0,
              "ticks": ""
             }
            },
            "type": "scatterpolargl"
           }
          ],
          "scatterternary": [
           {
            "marker": {
             "colorbar": {
              "outlinewidth": 0,
              "ticks": ""
             }
            },
            "type": "scatterternary"
           }
          ],
          "surface": [
           {
            "colorbar": {
             "outlinewidth": 0,
             "ticks": ""
            },
            "colorscale": [
             [
              0,
              "#0d0887"
             ],
             [
              0.1111111111111111,
              "#46039f"
             ],
             [
              0.2222222222222222,
              "#7201a8"
             ],
             [
              0.3333333333333333,
              "#9c179e"
             ],
             [
              0.4444444444444444,
              "#bd3786"
             ],
             [
              0.5555555555555556,
              "#d8576b"
             ],
             [
              0.6666666666666666,
              "#ed7953"
             ],
             [
              0.7777777777777778,
              "#fb9f3a"
             ],
             [
              0.8888888888888888,
              "#fdca26"
             ],
             [
              1,
              "#f0f921"
             ]
            ],
            "type": "surface"
           }
          ],
          "table": [
           {
            "cells": {
             "fill": {
              "color": "#EBF0F8"
             },
             "line": {
              "color": "white"
             }
            },
            "header": {
             "fill": {
              "color": "#C8D4E3"
             },
             "line": {
              "color": "white"
             }
            },
            "type": "table"
           }
          ]
         },
         "layout": {
          "annotationdefaults": {
           "arrowcolor": "#2a3f5f",
           "arrowhead": 0,
           "arrowwidth": 1
          },
          "autotypenumbers": "strict",
          "coloraxis": {
           "colorbar": {
            "outlinewidth": 0,
            "ticks": ""
           }
          },
          "colorscale": {
           "diverging": [
            [
             0,
             "#8e0152"
            ],
            [
             0.1,
             "#c51b7d"
            ],
            [
             0.2,
             "#de77ae"
            ],
            [
             0.3,
             "#f1b6da"
            ],
            [
             0.4,
             "#fde0ef"
            ],
            [
             0.5,
             "#f7f7f7"
            ],
            [
             0.6,
             "#e6f5d0"
            ],
            [
             0.7,
             "#b8e186"
            ],
            [
             0.8,
             "#7fbc41"
            ],
            [
             0.9,
             "#4d9221"
            ],
            [
             1,
             "#276419"
            ]
           ],
           "sequential": [
            [
             0,
             "#0d0887"
            ],
            [
             0.1111111111111111,
             "#46039f"
            ],
            [
             0.2222222222222222,
             "#7201a8"
            ],
            [
             0.3333333333333333,
             "#9c179e"
            ],
            [
             0.4444444444444444,
             "#bd3786"
            ],
            [
             0.5555555555555556,
             "#d8576b"
            ],
            [
             0.6666666666666666,
             "#ed7953"
            ],
            [
             0.7777777777777778,
             "#fb9f3a"
            ],
            [
             0.8888888888888888,
             "#fdca26"
            ],
            [
             1,
             "#f0f921"
            ]
           ],
           "sequentialminus": [
            [
             0,
             "#0d0887"
            ],
            [
             0.1111111111111111,
             "#46039f"
            ],
            [
             0.2222222222222222,
             "#7201a8"
            ],
            [
             0.3333333333333333,
             "#9c179e"
            ],
            [
             0.4444444444444444,
             "#bd3786"
            ],
            [
             0.5555555555555556,
             "#d8576b"
            ],
            [
             0.6666666666666666,
             "#ed7953"
            ],
            [
             0.7777777777777778,
             "#fb9f3a"
            ],
            [
             0.8888888888888888,
             "#fdca26"
            ],
            [
             1,
             "#f0f921"
            ]
           ]
          },
          "colorway": [
           "#636efa",
           "#EF553B",
           "#00cc96",
           "#ab63fa",
           "#FFA15A",
           "#19d3f3",
           "#FF6692",
           "#B6E880",
           "#FF97FF",
           "#FECB52"
          ],
          "font": {
           "color": "#2a3f5f"
          },
          "geo": {
           "bgcolor": "white",
           "lakecolor": "white",
           "landcolor": "#E5ECF6",
           "showlakes": true,
           "showland": true,
           "subunitcolor": "white"
          },
          "hoverlabel": {
           "align": "left"
          },
          "hovermode": "closest",
          "mapbox": {
           "style": "light"
          },
          "paper_bgcolor": "white",
          "plot_bgcolor": "#E5ECF6",
          "polar": {
           "angularaxis": {
            "gridcolor": "white",
            "linecolor": "white",
            "ticks": ""
           },
           "bgcolor": "#E5ECF6",
           "radialaxis": {
            "gridcolor": "white",
            "linecolor": "white",
            "ticks": ""
           }
          },
          "scene": {
           "xaxis": {
            "backgroundcolor": "#E5ECF6",
            "gridcolor": "white",
            "gridwidth": 2,
            "linecolor": "white",
            "showbackground": true,
            "ticks": "",
            "zerolinecolor": "white"
           },
           "yaxis": {
            "backgroundcolor": "#E5ECF6",
            "gridcolor": "white",
            "gridwidth": 2,
            "linecolor": "white",
            "showbackground": true,
            "ticks": "",
            "zerolinecolor": "white"
           },
           "zaxis": {
            "backgroundcolor": "#E5ECF6",
            "gridcolor": "white",
            "gridwidth": 2,
            "linecolor": "white",
            "showbackground": true,
            "ticks": "",
            "zerolinecolor": "white"
           }
          },
          "shapedefaults": {
           "line": {
            "color": "#2a3f5f"
           }
          },
          "ternary": {
           "aaxis": {
            "gridcolor": "white",
            "linecolor": "white",
            "ticks": ""
           },
           "baxis": {
            "gridcolor": "white",
            "linecolor": "white",
            "ticks": ""
           },
           "bgcolor": "#E5ECF6",
           "caxis": {
            "gridcolor": "white",
            "linecolor": "white",
            "ticks": ""
           }
          },
          "title": {
           "x": 0.05
          },
          "xaxis": {
           "automargin": true,
           "gridcolor": "white",
           "linecolor": "white",
           "ticks": "",
           "title": {
            "standoff": 15
           },
           "zerolinecolor": "white",
           "zerolinewidth": 2
          },
          "yaxis": {
           "automargin": true,
           "gridcolor": "white",
           "linecolor": "white",
           "ticks": "",
           "title": {
            "standoff": 15
           },
           "zerolinecolor": "white",
           "zerolinewidth": 2
          }
         }
        },
        "width": 220,
        "xaxis": {
         "anchor": "y",
         "domain": [
          0,
          1
         ],
         "gridcolor": "lightgrey",
         "tickfont": {
          "size": 10.5
         },
         "tickmode": "array",
         "title": {
          "font": {
           "size": 10.5
          },
          "standoff": 5,
          "text": "Expert query volume"
         },
         "type": "log"
        },
        "yaxis": {
         "anchor": "x",
         "domain": [
          0,
          1
         ],
         "gridcolor": "lightgrey",
         "tickfont": {
          "size": 10.5
         },
         "tickvals": [
          0,
          0.1,
          0.2,
          0.3,
          0.4,
          0.5,
          0.6,
          0.7,
          0.8,
          0.9,
          1
         ],
         "title": {
          "font": {
           "size": 10.5
          },
          "standoff": 5,
          "text": "f1-score ± 99% CI"
         }
        }
       }
      }
     },
     "metadata": {},
     "output_type": "display_data"
    }
   ],
   "source": [
    "import plotly.graph_objects as go\n",
    "from plotly.subplots import make_subplots\n",
    "import numpy as np\n",
    "\n",
    "import plotly.graph_objects as go\n",
    "import plotly.express as px\n",
    "\n",
    "dataset = 'covertype'\n",
    "\n",
    "approaches = {\n",
    "    #'EEneuralcbpside_v5': {'color': [255, 255, 0], 'label': 'EEneuralcbpside_v5'},  # Red\n",
    "    'IneurAL (official)': {'color': [255, 161, 90], 'label':'IneurAL6'},                    # Yellow\n",
    "    'IneurAL (less exploration)': {'color': [25, 211, 243], 'label':'IneurAL3'},                    # Cyan\n",
    "    'Neuronal (official)': {'color': [255, 102, 146], 'label':'neuronal6a'},                  # Magenta\n",
    "    'Neuronal (less exploration)': {'color': [182, 232, 128], 'label':'neuronal3a'} ,                  # Orange\n",
    "    'Neural-CBP': {'color': [171, 99, 250], 'label': 'EEneuralcbpside_v6'},  # Red\n",
    "    # 'margin': {'color': [160, 160, 160], 'label':'margin'},\n",
    "    # 'cesa': {'color': [0, 0, 255], 'label':'cesa'},\n",
    "}\n",
    "\n",
    "thresholds = ['f1_10', 'f1_25', 'f1_50', 'f1_100', 'f1_150',\n",
    "              'f1_250', 'f1_300', 'f1_400', 'f1_500', 'f1_750', \n",
    "              'f1_1000', 'f1_2500', 'f1_5000', 'f1_7500',] #\n",
    "\n",
    "\n",
    "# Create a subplot with 1 row and 2 columns\n",
    "fig = make_subplots(rows=1, cols=1, ) #subplot_titles=(\"f1-score\", \"# of labelled observations\")\n",
    "\n",
    "# Add your traces for the first figure to the first subplot\n",
    "for approach in approaches.keys():\n",
    "    # ... [your existing code for calculating mean_values, std_values, and color] ...\n",
    "    mean_values = [] \n",
    "    std_values = []\n",
    "    r,g,b = approaches[approach]['color']\n",
    "    \n",
    "    for threshold in thresholds:\n",
    "        mean_value = df_mean[(df_mean['Dataset'] == dataset) & (df_mean['Approach'] == approach)][threshold].values[0]\n",
    "        mean_values.append(mean_value)\n",
    "\n",
    "        std_value = df_std[(df_std['Dataset'] == dataset) & (df_std['Approach'] == approach)][threshold].values[0]\n",
    "        # std_values.append(std_value)\n",
    "        std_values.append( 2.575 * std_value / np.sqrt(n_folds)  )\n",
    "\n",
    "    fig.add_trace(go.Scatter(\n",
    "        x=[10, 25, 50, 100, 150, 250, 300, 400, 500, 750, 1000, 2500, 5000, 7500, 9000], \n",
    "        y=mean_values,\n",
    "        error_y=dict(type='data', array=std_values, visible=True, thickness=1, width=3),\n",
    "        line=dict(dash='solid', width=1, color='rgba({},{},{},1)'.format(r,g,b)),\n",
    "        marker=dict(size=2.5),\n",
    "        name=approach), \n",
    "        row=1, col=1)\n",
    "\n",
    "# Add your traces for the second figure to the second subplot\n",
    "# for approach in approaches.keys():\n",
    "#     # ... [your existing code for calculating explo_value, upper, and color] ...\n",
    "#     r,g,b = approaches[approach]['color']\n",
    "#     explo_value = explo_final['MLP'][dataset][approach]\n",
    "#     upper = explo_value + explo2_final['MLP'][dataset][approach]\n",
    "#     xcoords = np.arange(0,horizon,1).tolist()\n",
    "\n",
    "#     fig.add_trace(go.Scatter(\n",
    "#         x=xcoords+xcoords[::-1], \n",
    "#         y=upper.tolist()+explo_value.tolist()[::-1],  \n",
    "#         fill='toself',\n",
    "#         fillcolor='rgba({},{},{},0.2)'.format(r,g,b),\n",
    "#         line=dict(color='rgba({},{},{},1)'.format(r,g,b), width=0),\n",
    "#         hoverinfo=\"skip\"),\n",
    "#         row=1, col=2)\n",
    "    \n",
    "#     fig.add_trace(go.Scatter(\n",
    "#         x=xcoords, \n",
    "#         y=explo_value,\n",
    "#         line=dict(dash='solid', width=2, color='rgba({},{},{},1)'.format(r,g,b)),\n",
    "#         name=approach), \n",
    "#         row=1, col=2)\n",
    "\n",
    "# Update layout and axes for the combined figure\n",
    "siz = 12.5\n",
    "fig.update_layout(\n",
    "    width=220,  # Adjusted for two subplots\n",
    "    height=180,\n",
    "    plot_bgcolor='white',\n",
    "    paper_bgcolor='white',\n",
    "    margin=dict(l=0, r=0, t=3, b=0),\n",
    "    showlegend=False\n",
    ")\n",
    "\n",
    "# Update xaxis and yaxis properties for each subplot\n",
    "# fig.update_xaxes(\n",
    "#     title_text=\"Expert query volume\",\n",
    "#     row=1,\n",
    "#     col=1,\n",
    "#     gridcolor='lightgrey',\n",
    "#     tickmode='array',\n",
    "#     type=\"log\",\n",
    "#     tickvals=[0, 1, 2, 3, 5],  # Logarithmic scale values for 1, 10, 100, 1,000, 10,000\n",
    "#     ticktext=['1', '10', '100', '1,000', '10,000'],  # Labels you want to show\n",
    "#     title_standoff=5,\n",
    "#     title_font=dict(size=siz-2),\n",
    "#     tickfont=dict(size=siz-2)\n",
    "# )\n",
    "\n",
    "fig.update_xaxes(title_text=\"Expert query volume\", row=1, col=1, gridcolor='lightgrey', tickmode='array', type=\"log\", title_standoff=5, title_font=dict(size=siz-2), tickfont=dict(size=siz-2))\n",
    "fig.update_yaxes(title_text=\"f1-score ± 99% CI\", row=1, col=1,  gridcolor='lightgrey', title_standoff=5, \n",
    "                 title_font=dict(size=siz-2), tickfont=dict(size=siz-2), tickvals=[0, 0.1, 0.2, 0.3, 0.4, 0.5, 0.6, 0.7, 0.8, 0.9, 1])\n",
    "\n",
    "# fig.update_xaxes(title_text=\"Round\", row=1, col=2, gridcolor='lightgrey', tickmode='array', title_standoff=5, title_font=dict(size=siz-2), tickfont=dict(size=siz-2))\n",
    "# fig.update_yaxes(title_text=\"# of labels ± 99% CI\", row=1, col=2,range=[0,4.5], gridcolor='lightgrey',type=\"log\", title_standoff=0, title_font=dict(size=siz-2), tickfont=dict(size=siz-2))\n",
    "\n",
    "fig.show()\n",
    "#range=[0,1.05],\n",
    "\n",
    "# Save the combined figure as a PDF\n",
    "fig.write_image(\"./cr_figures/f1_{}_{}_{}_a.pdf\".format(case, model, dataset))\n",
    "fig.write_image(\"./cr_figures/f1_{}_{}_{}_a.pdf\".format(case, model, dataset))\n"
   ]
  }
 ],
 "metadata": {
  "kernelspec": {
   "display_name": ".venv",
   "language": "python",
   "name": "python3"
  },
  "language_info": {
   "codemirror_mode": {
    "name": "ipython",
    "version": 3
   },
   "file_extension": ".py",
   "mimetype": "text/x-python",
   "name": "python",
   "nbconvert_exporter": "python",
   "pygments_lexer": "ipython3",
   "version": "3.8.16"
  },
  "orig_nbformat": 4
 },
 "nbformat": 4,
 "nbformat_minor": 2
}
