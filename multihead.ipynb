{
 "cells": [
  {
   "cell_type": "code",
   "execution_count": 3,
   "metadata": {},
   "outputs": [],
   "source": [
    "import numpy as np\n",
    "import torch\n",
    "import torch.nn as nn\n",
    "import torch.optim as optim\n",
    "from torch.utils.data import TensorDataset, DataLoader\n",
    "import copy\n",
    "\n",
    "class Network(nn.Module):\n",
    "    def __init__(self,  d, m):\n",
    "        super(Network, self).__init__()\n",
    "        self.fc1 = nn.Linear(d, m)\n",
    "        self.activate1 = nn.ReLU()\n",
    "        self.fc2 = nn.Linear(m, m)\n",
    "        self.activate2 = nn.ReLU()\n",
    "    def forward(self, x):\n",
    "        x = self.activate2( self.fc2( self.activate1( self.fc1(x) ) ) )\n",
    "        # x = self.fc2( self.activate1( self.fc1(x) ) ) \n",
    "        return x\n",
    "\n",
    "size = 5\n",
    "w = np.array([1/size]*size)\n",
    "# context_generator = synthetic_data.LinearContexts( w,'imbalanced' )\n"
   ]
  },
  {
   "cell_type": "code",
   "execution_count": 7,
   "metadata": {},
   "outputs": [
    {
     "name": "stdout",
     "output_type": "stream",
     "text": [
      "tensor([[ 4,  5,  6],\n",
      "        [10, 11, 12]])\n"
     ]
    }
   ],
   "source": [
    "import torch\n",
    "\n",
    "# Example tensor\n",
    "tensor = torch.tensor([[1, 2, 3],\n",
    "                       [4, 5, 6],\n",
    "                       [7, 8, 9],\n",
    "                       [10, 11, 12]])\n",
    "\n",
    "# Example list\n",
    "values_list = [0, 1, 2, 1]\n",
    "\n",
    "# Filter the tensor based on the values list\n",
    "filtered_tensor = tensor[torch.tensor(values_list) == 1]\n",
    "\n",
    "print(filtered_tensor)"
   ]
  }
 ],
 "metadata": {
  "kernelspec": {
   "display_name": ".venv",
   "language": "python",
   "name": "python3"
  },
  "language_info": {
   "codemirror_mode": {
    "name": "ipython",
    "version": 3
   },
   "file_extension": ".py",
   "mimetype": "text/x-python",
   "name": "python",
   "nbconvert_exporter": "python",
   "pygments_lexer": "ipython3",
   "version": "3.8.10"
  },
  "orig_nbformat": 4
 },
 "nbformat": 4,
 "nbformat_minor": 2
}
