{
 "cells": [
  {
   "cell_type": "code",
   "execution_count": 1,
   "metadata": {},
   "outputs": [],
   "source": [
    "import os\n",
    "import numpy as np\n",
    "import plotly.graph_objects as go\n",
    "\n",
    "import gzip\n",
    "import pickle as pkl\n",
    "\n",
    "import collections\n",
    "\n",
    "def loadall_results2(path, n_folds):\n",
    "    regret = []\n",
    "    history_actions = []\n",
    "    history_outcomes = []\n",
    "    perf = []\n",
    "    with gzip.open(  path ,'rb') as f:\n",
    "        for i in range(n_folds+1):\n",
    "            try:\n",
    "                data = pkl.load(f)\n",
    "            except EOFError:\n",
    "                break\n",
    "\n",
    "            if type(data) == dict:\n",
    "                regret.append( data['regret'] ) \n",
    "                history_actions.append( data['action_history'] )\n",
    "                history_outcomes.append( data['outcome_history'] ) \n",
    "                perf.append( data['pred'] ) \n",
    "\n",
    "    \n",
    "    return regret, history_actions, history_outcomes, perf"
   ]
  },
  {
   "cell_type": "code",
   "execution_count": 24,
   "metadata": {},
   "outputs": [],
   "source": [
    "n_folds = 25\n",
    "horizon = 9999\n",
    "context = 'MNISTbinary'\n",
    "model = 'MLP'\n",
    "case = 'case1'\n",
    "agent_name = 'EEneuralcbpside_v6' #ineural6, neuronal6\n",
    "\n",
    "direct = './results/'\n",
    "path = os.path.join(direct, '{}_{}_{}_{}_{}_{}.pkl.gz'.format(case,model,context,horizon,n_folds,agent_name) )\n",
    "regret, action_history, outcome_history, perf = loadall_results2(path, n_folds)\n"
   ]
  },
  {
   "cell_type": "code",
   "execution_count": 2,
   "metadata": {},
   "outputs": [
    {
     "name": "stdout",
     "output_type": "stream",
     "text": [
      "./results/case1_MLP_MNISTbinary_9999_25_EEneuralcbpside_v6.pkl.gz\n",
      "./results/case1_MLP_MagicTelescope_9999_25_EEneuralcbpside_v6.pkl.gz\n",
      "./results/case1_MLP_adult_9999_25_EEneuralcbpside_v6.pkl.gz\n",
      "./results/case1b_MLP_MNISTbinary_9999_25_EEneuralcbpside_v6.pkl.gz\n",
      "./results/case1b_MLP_MagicTelescope_9999_25_EEneuralcbpside_v6.pkl.gz\n",
      "./results/case1b_MLP_adult_9999_25_EEneuralcbpside_v6.pkl.gz\n"
     ]
    }
   ],
   "source": [
    "def action_counter(action_history, n_folds):\n",
    "    total = []\n",
    "    for i in range(n_folds):\n",
    "        counter = collections.Counter(action_history[i])\n",
    "        array_counter = np.array( list(counter.values()) )\n",
    "        total.append(array_counter)\n",
    "    return np.mean(total,0), np.std(total,0)\n",
    "\n",
    "n_folds = 25\n",
    "horizon = 9999\n",
    "model = 'MLP'\n",
    "\n",
    "material = {\n",
    "    #'EEneuralcbpside_v5': {'color': [255, 255, 0], 'label': 'EEneuralcbpside_v5'},  # Red\n",
    "    'EEneuralcbpside_v6': {'color': [255, 0, 0], 'label': 'Neural-CBP'},  # Red\n",
    "    # 'ineural6': {'color': [51, 255, 255], 'label':'IneurAL (official)'},                    # Yellow\n",
    "    # 'ineural3': {'color': [0, 0, 255], 'label':'IneurAL (tuned)'},                    # Cyan\n",
    "    # 'neuronal6': {'color': [255, 0, 255], 'label':'Neuronal (official)'},                  # Magenta\n",
    "    # 'neuronal3': {'color': [160, 160, 160], 'label':'Neuronal (tuned)'},                   # Orange\n",
    "    # 'margin': {'color': [160, 160, 160], 'label':'Margin'},\n",
    "    # 'cesa': {'color': [0, 0, 255], 'label':'Cesa'},\n",
    "}\n",
    "\n",
    "\n",
    "fig = go.Figure( )\n",
    "\n",
    "data_cases = {}\n",
    "meanaction_cases = {}\n",
    "stdaction_cases = {}\n",
    "for case in ['case1', 'case1b']:\n",
    "\n",
    "    n_folds = 25\n",
    "    datasets = ['MNISTbinary', 'MagicTelescope', 'adult', ]\n",
    "\n",
    "    data_regrets = {} \n",
    "    data_meanactions = {} \n",
    "    data_stdactions = {} \n",
    "    for data in datasets: \n",
    "            \n",
    "        final_regrets = {}\n",
    "        final_meanactions = {}\n",
    "        final_stdactions = {}\n",
    "        for agent_name in material.keys():\n",
    "\n",
    "            color, l_label = material[agent_name]['color'], material[agent_name]['label']\n",
    "\n",
    "            r,g,b = color\n",
    "\n",
    "            direct = './results/'\n",
    "            path = os.path.join(direct, '{}_{}_{}_{}_{}_{}.pkl.gz'.format(case, model, data, horizon,n_folds,agent_name) )\n",
    "            print(path)\n",
    "            result, history_actions, history_outcomes, perf = loadall_results2(path, n_folds)\n",
    "            result = np.array(result)\n",
    "            result = result.astype(np.float32)\n",
    "            mean, std = action_counter(history_actions, n_folds) \n",
    "            \n",
    "            final_regrets[l_label] = result[:,-1]\n",
    "            final_meanactions[l_label] = mean\n",
    "            final_stdactions[l_label] = 2.576 * std / n_folds\n",
    "\n",
    "        if data == 'MNISTbinary':\n",
    "            data = 'MNISTbinary'\n",
    "        if data == 'FASHION':\n",
    "            data = 'Fashion'\n",
    "            \n",
    "        data_regrets[data] = final_regrets\n",
    "        data_meanactions[data] = final_meanactions\n",
    "        data_stdactions[data] = final_stdactions\n",
    "        \n",
    "    data_cases[case] = data_regrets\n",
    "    meanaction_cases[case] = data_meanactions\n",
    "    stdaction_cases[case] = data_stdactions\n",
    "    \n",
    "\n",
    "\n",
    "# fig.show()\n",
    "# fig.write_image(\"./figures/case1_{}_{}.pdf\".format(model, context) )"
   ]
  },
  {
   "cell_type": "code",
   "execution_count": 125,
   "metadata": {},
   "outputs": [
    {
     "data": {
      "text/plain": [
       "{'case1': {'MNISTbinary': {'Neural-CBP': array([10.04359248, 21.55888602, 20.90077949])},\n",
       "  'MagicTelescope': {'Neural-CBP': array([ 27.98088156, 310.19202685, 322.39539062])},\n",
       "  'adult': {'Neural-CBP': array([  7.72064466, 478.81092516, 480.26885831])}},\n",
       " 'case1b': {'MNISTbinary': {'Neural-CBP': array([12.2280419 , 19.50291037, 20.38600858])},\n",
       "  'MagicTelescope': {'Neural-CBP': array([ 48.73379282, 273.87212673, 301.56533424])},\n",
       "  'adult': {'Neural-CBP': array([ 16.55349706, 441.90683869, 449.162998  ])}}}"
      ]
     },
     "execution_count": 125,
     "metadata": {},
     "output_type": "execute_result"
    }
   ],
   "source": [
    "stdaction_cases"
   ]
  },
  {
   "cell_type": "code",
   "execution_count": 6,
   "metadata": {},
   "outputs": [
    {
     "name": "stdout",
     "output_type": "stream",
     "text": [
      "['case1-MNISTbinary', 'case1b-MNISTbinary', 'case1-adult', 'case1b-adult', 'case1-MagicTelescope', 'case1b-MagicTelescope']\n"
     ]
    },
    {
     "data": {
      "application/vnd.plotly.v1+json": {
       "config": {
        "plotlyServerURL": "https://plot.ly"
       },
       "data": [
        {
         "error_y": {
          "array": [
           10.043592481065936,
           21.558886021385412,
           20.90077949323958
          ],
          "thickness": 1,
          "type": "data",
          "visible": true
         },
         "marker": {
          "color": "#aacaff"
         },
         "name": "Ask label",
         "offsetgroup": "0",
         "showlegend": true,
         "type": "bar",
         "x": [
          "case1-MNISTbinary"
         ],
         "y": [
          638.32
         ]
        },
        {
         "error_y": {
          "array": [
           10.043592481065936,
           21.558886021385412,
           20.90077949323958
          ],
          "thickness": 1,
          "type": "data",
          "visible": true
         },
         "marker": {
          "color": "#008080"
         },
         "name": "Class 1",
         "offsetgroup": "1",
         "showlegend": true,
         "type": "bar",
         "x": [
          "case1-MNISTbinary"
         ],
         "y": [
          4643.48
         ]
        },
        {
         "error_y": {
          "array": [
           10.043592481065936,
           21.558886021385412,
           20.90077949323958
          ],
          "thickness": 1,
          "type": "data",
          "visible": true
         },
         "marker": {
          "color": "#b0e0e6"
         },
         "name": "Class 2",
         "offsetgroup": "2",
         "showlegend": true,
         "type": "bar",
         "x": [
          "case1-MNISTbinary"
         ],
         "y": [
          4717.2
         ]
        },
        {
         "error_y": {
          "array": [
           12.228041899768948,
           19.50291036516708,
           20.3860085825907
          ],
          "thickness": 1,
          "type": "data",
          "visible": true
         },
         "marker": {
          "color": "#aacaff"
         },
         "name": "Ask label",
         "offsetgroup": "0",
         "showlegend": false,
         "type": "bar",
         "x": [
          "case1b-MNISTbinary"
         ],
         "y": [
          777.88
         ]
        },
        {
         "error_y": {
          "array": [
           12.228041899768948,
           19.50291036516708,
           20.3860085825907
          ],
          "thickness": 1,
          "type": "data",
          "visible": true
         },
         "marker": {
          "color": "#008080"
         },
         "name": "Class 1",
         "offsetgroup": "1",
         "showlegend": false,
         "type": "bar",
         "x": [
          "case1b-MNISTbinary"
         ],
         "y": [
          3884.04
         ]
        },
        {
         "error_y": {
          "array": [
           12.228041899768948,
           19.50291036516708,
           20.3860085825907
          ],
          "thickness": 1,
          "type": "data",
          "visible": true
         },
         "marker": {
          "color": "#b0e0e6"
         },
         "name": "Class 2",
         "offsetgroup": "2",
         "showlegend": false,
         "type": "bar",
         "x": [
          "case1b-MNISTbinary"
         ],
         "y": [
          5337.08
         ]
        },
        {
         "error_y": {
          "array": [
           7.72064466437228,
           478.810925159836,
           480.2688583066823
          ],
          "thickness": 1,
          "type": "data",
          "visible": true
         },
         "marker": {
          "color": "#aacaff"
         },
         "name": "Ask label",
         "offsetgroup": "0",
         "showlegend": false,
         "type": "bar",
         "x": [
          "case1-adult"
         ],
         "y": [
          73.68
         ]
        },
        {
         "error_y": {
          "array": [
           7.72064466437228,
           478.810925159836,
           480.2688583066823
          ],
          "thickness": 1,
          "type": "data",
          "visible": true
         },
         "marker": {
          "color": "#008080"
         },
         "name": "Class 1",
         "offsetgroup": "1",
         "showlegend": false,
         "type": "bar",
         "x": [
          "case1-adult"
         ],
         "y": [
          5521.48
         ]
        },
        {
         "error_y": {
          "array": [
           7.72064466437228,
           478.810925159836,
           480.2688583066823
          ],
          "thickness": 1,
          "type": "data",
          "visible": true
         },
         "marker": {
          "color": "#b0e0e6"
         },
         "name": "Class 2",
         "offsetgroup": "2",
         "showlegend": false,
         "type": "bar",
         "x": [
          "case1-adult"
         ],
         "y": [
          4403.84
         ]
        },
        {
         "error_y": {
          "array": [
           16.55349706273813,
           441.90683868585387,
           449.16299800329534
          ],
          "thickness": 1,
          "type": "data",
          "visible": true
         },
         "marker": {
          "color": "#aacaff"
         },
         "name": "Ask label",
         "offsetgroup": "0",
         "showlegend": false,
         "type": "bar",
         "x": [
          "case1b-adult"
         ],
         "y": [
          129.6
         ]
        },
        {
         "error_y": {
          "array": [
           16.55349706273813,
           441.90683868585387,
           449.16299800329534
          ],
          "thickness": 1,
          "type": "data",
          "visible": true
         },
         "marker": {
          "color": "#008080"
         },
         "name": "Class 1",
         "offsetgroup": "1",
         "showlegend": false,
         "type": "bar",
         "x": [
          "case1b-adult"
         ],
         "y": [
          4400.2
         ]
        },
        {
         "error_y": {
          "array": [
           16.55349706273813,
           441.90683868585387,
           449.16299800329534
          ],
          "thickness": 1,
          "type": "data",
          "visible": true
         },
         "marker": {
          "color": "#b0e0e6"
         },
         "name": "Class 2",
         "offsetgroup": "2",
         "showlegend": false,
         "type": "bar",
         "x": [
          "case1b-adult"
         ],
         "y": [
          5469.2
         ]
        },
        {
         "error_y": {
          "array": [
           27.980881564151208,
           310.19202684537237,
           322.39539061892697
          ],
          "thickness": 1,
          "type": "data",
          "visible": true
         },
         "marker": {
          "color": "#aacaff"
         },
         "name": "Ask label",
         "offsetgroup": "0",
         "showlegend": false,
         "type": "bar",
         "x": [
          "case1-MagicTelescope"
         ],
         "y": [
          492.64
         ]
        },
        {
         "error_y": {
          "array": [
           27.980881564151208,
           310.19202684537237,
           322.39539061892697
          ],
          "thickness": 1,
          "type": "data",
          "visible": true
         },
         "marker": {
          "color": "#008080"
         },
         "name": "Class 1",
         "offsetgroup": "1",
         "showlegend": false,
         "type": "bar",
         "x": [
          "case1-MagicTelescope"
         ],
         "y": [
          4396.56
         ]
        },
        {
         "error_y": {
          "array": [
           27.980881564151208,
           310.19202684537237,
           322.39539061892697
          ],
          "thickness": 1,
          "type": "data",
          "visible": true
         },
         "marker": {
          "color": "#b0e0e6"
         },
         "name": "Class 2",
         "offsetgroup": "2",
         "showlegend": false,
         "type": "bar",
         "x": [
          "case1-MagicTelescope"
         ],
         "y": [
          5109.8
         ]
        },
        {
         "error_y": {
          "array": [
           48.733792822733115,
           273.87212673209274,
           301.5653342436474
          ],
          "thickness": 1,
          "type": "data",
          "visible": true
         },
         "marker": {
          "color": "#aacaff"
         },
         "name": "Ask label",
         "offsetgroup": "0",
         "showlegend": false,
         "type": "bar",
         "x": [
          "case1b-MagicTelescope"
         ],
         "y": [
          571.64
         ]
        },
        {
         "error_y": {
          "array": [
           48.733792822733115,
           273.87212673209274,
           301.5653342436474
          ],
          "thickness": 1,
          "type": "data",
          "visible": true
         },
         "marker": {
          "color": "#008080"
         },
         "name": "Class 1",
         "offsetgroup": "1",
         "showlegend": false,
         "type": "bar",
         "x": [
          "case1b-MagicTelescope"
         ],
         "y": [
          2666.76
         ]
        },
        {
         "error_y": {
          "array": [
           48.733792822733115,
           273.87212673209274,
           301.5653342436474
          ],
          "thickness": 1,
          "type": "data",
          "visible": true
         },
         "marker": {
          "color": "#b0e0e6"
         },
         "name": "Class 2",
         "offsetgroup": "2",
         "showlegend": false,
         "type": "bar",
         "x": [
          "case1b-MagicTelescope"
         ],
         "y": [
          6760.6
         ]
        }
       ],
       "layout": {
        "annotations": [
         {
          "arrowhead": 0,
          "ax": 0,
          "ay": 0,
          "showarrow": false,
          "text": "<span style=\"text-decoration: underline;\">MNISTbinary</span>",
          "x": 0.2,
          "y": 6500
         },
         {
          "arrowhead": 0,
          "ax": 0,
          "ay": 0,
          "showarrow": false,
          "text": "<span style=\"text-decoration: underline;\">Adult</span>",
          "x": 1.9,
          "y": 6500
         },
         {
          "arrowhead": 0,
          "ax": 0,
          "ay": 0,
          "showarrow": false,
          "text": "<span style=\"text-decoration: underline;\">MagicTelescope</span>",
          "x": 4.25,
          "y": 6500
         }
        ],
        "barmode": "group",
        "height": 180,
        "legend": {
         "font": {
          "size": 12
         },
         "orientation": "h",
         "x": 0.5,
         "xanchor": "center",
         "y": -0.37,
         "yanchor": "bottom"
        },
        "margin": {
         "b": 0,
         "l": 0,
         "r": 0,
         "t": 0
        },
        "paper_bgcolor": "white",
        "plot_bgcolor": "white",
        "shapes": [
         {
          "line": {
           "color": "black",
           "width": 2
          },
          "type": "line",
          "x0": 1.5,
          "x1": 1.5,
          "xref": "x",
          "y0": 0,
          "y1": 1,
          "yref": "y domain"
         },
         {
          "line": {
           "color": "black",
           "width": 2
          },
          "type": "line",
          "x0": 3.5,
          "x1": 3.5,
          "xref": "x",
          "y0": 0,
          "y1": 1,
          "yref": "y domain"
         }
        ],
        "showlegend": true,
        "template": {
         "data": {
          "bar": [
           {
            "error_x": {
             "color": "#2a3f5f"
            },
            "error_y": {
             "color": "#2a3f5f"
            },
            "marker": {
             "line": {
              "color": "#E5ECF6",
              "width": 0.5
             },
             "pattern": {
              "fillmode": "overlay",
              "size": 10,
              "solidity": 0.2
             }
            },
            "type": "bar"
           }
          ],
          "barpolar": [
           {
            "marker": {
             "line": {
              "color": "#E5ECF6",
              "width": 0.5
             },
             "pattern": {
              "fillmode": "overlay",
              "size": 10,
              "solidity": 0.2
             }
            },
            "type": "barpolar"
           }
          ],
          "carpet": [
           {
            "aaxis": {
             "endlinecolor": "#2a3f5f",
             "gridcolor": "white",
             "linecolor": "white",
             "minorgridcolor": "white",
             "startlinecolor": "#2a3f5f"
            },
            "baxis": {
             "endlinecolor": "#2a3f5f",
             "gridcolor": "white",
             "linecolor": "white",
             "minorgridcolor": "white",
             "startlinecolor": "#2a3f5f"
            },
            "type": "carpet"
           }
          ],
          "choropleth": [
           {
            "colorbar": {
             "outlinewidth": 0,
             "ticks": ""
            },
            "type": "choropleth"
           }
          ],
          "contour": [
           {
            "colorbar": {
             "outlinewidth": 0,
             "ticks": ""
            },
            "colorscale": [
             [
              0,
              "#0d0887"
             ],
             [
              0.1111111111111111,
              "#46039f"
             ],
             [
              0.2222222222222222,
              "#7201a8"
             ],
             [
              0.3333333333333333,
              "#9c179e"
             ],
             [
              0.4444444444444444,
              "#bd3786"
             ],
             [
              0.5555555555555556,
              "#d8576b"
             ],
             [
              0.6666666666666666,
              "#ed7953"
             ],
             [
              0.7777777777777778,
              "#fb9f3a"
             ],
             [
              0.8888888888888888,
              "#fdca26"
             ],
             [
              1,
              "#f0f921"
             ]
            ],
            "type": "contour"
           }
          ],
          "contourcarpet": [
           {
            "colorbar": {
             "outlinewidth": 0,
             "ticks": ""
            },
            "type": "contourcarpet"
           }
          ],
          "heatmap": [
           {
            "colorbar": {
             "outlinewidth": 0,
             "ticks": ""
            },
            "colorscale": [
             [
              0,
              "#0d0887"
             ],
             [
              0.1111111111111111,
              "#46039f"
             ],
             [
              0.2222222222222222,
              "#7201a8"
             ],
             [
              0.3333333333333333,
              "#9c179e"
             ],
             [
              0.4444444444444444,
              "#bd3786"
             ],
             [
              0.5555555555555556,
              "#d8576b"
             ],
             [
              0.6666666666666666,
              "#ed7953"
             ],
             [
              0.7777777777777778,
              "#fb9f3a"
             ],
             [
              0.8888888888888888,
              "#fdca26"
             ],
             [
              1,
              "#f0f921"
             ]
            ],
            "type": "heatmap"
           }
          ],
          "heatmapgl": [
           {
            "colorbar": {
             "outlinewidth": 0,
             "ticks": ""
            },
            "colorscale": [
             [
              0,
              "#0d0887"
             ],
             [
              0.1111111111111111,
              "#46039f"
             ],
             [
              0.2222222222222222,
              "#7201a8"
             ],
             [
              0.3333333333333333,
              "#9c179e"
             ],
             [
              0.4444444444444444,
              "#bd3786"
             ],
             [
              0.5555555555555556,
              "#d8576b"
             ],
             [
              0.6666666666666666,
              "#ed7953"
             ],
             [
              0.7777777777777778,
              "#fb9f3a"
             ],
             [
              0.8888888888888888,
              "#fdca26"
             ],
             [
              1,
              "#f0f921"
             ]
            ],
            "type": "heatmapgl"
           }
          ],
          "histogram": [
           {
            "marker": {
             "pattern": {
              "fillmode": "overlay",
              "size": 10,
              "solidity": 0.2
             }
            },
            "type": "histogram"
           }
          ],
          "histogram2d": [
           {
            "colorbar": {
             "outlinewidth": 0,
             "ticks": ""
            },
            "colorscale": [
             [
              0,
              "#0d0887"
             ],
             [
              0.1111111111111111,
              "#46039f"
             ],
             [
              0.2222222222222222,
              "#7201a8"
             ],
             [
              0.3333333333333333,
              "#9c179e"
             ],
             [
              0.4444444444444444,
              "#bd3786"
             ],
             [
              0.5555555555555556,
              "#d8576b"
             ],
             [
              0.6666666666666666,
              "#ed7953"
             ],
             [
              0.7777777777777778,
              "#fb9f3a"
             ],
             [
              0.8888888888888888,
              "#fdca26"
             ],
             [
              1,
              "#f0f921"
             ]
            ],
            "type": "histogram2d"
           }
          ],
          "histogram2dcontour": [
           {
            "colorbar": {
             "outlinewidth": 0,
             "ticks": ""
            },
            "colorscale": [
             [
              0,
              "#0d0887"
             ],
             [
              0.1111111111111111,
              "#46039f"
             ],
             [
              0.2222222222222222,
              "#7201a8"
             ],
             [
              0.3333333333333333,
              "#9c179e"
             ],
             [
              0.4444444444444444,
              "#bd3786"
             ],
             [
              0.5555555555555556,
              "#d8576b"
             ],
             [
              0.6666666666666666,
              "#ed7953"
             ],
             [
              0.7777777777777778,
              "#fb9f3a"
             ],
             [
              0.8888888888888888,
              "#fdca26"
             ],
             [
              1,
              "#f0f921"
             ]
            ],
            "type": "histogram2dcontour"
           }
          ],
          "mesh3d": [
           {
            "colorbar": {
             "outlinewidth": 0,
             "ticks": ""
            },
            "type": "mesh3d"
           }
          ],
          "parcoords": [
           {
            "line": {
             "colorbar": {
              "outlinewidth": 0,
              "ticks": ""
             }
            },
            "type": "parcoords"
           }
          ],
          "pie": [
           {
            "automargin": true,
            "type": "pie"
           }
          ],
          "scatter": [
           {
            "fillpattern": {
             "fillmode": "overlay",
             "size": 10,
             "solidity": 0.2
            },
            "type": "scatter"
           }
          ],
          "scatter3d": [
           {
            "line": {
             "colorbar": {
              "outlinewidth": 0,
              "ticks": ""
             }
            },
            "marker": {
             "colorbar": {
              "outlinewidth": 0,
              "ticks": ""
             }
            },
            "type": "scatter3d"
           }
          ],
          "scattercarpet": [
           {
            "marker": {
             "colorbar": {
              "outlinewidth": 0,
              "ticks": ""
             }
            },
            "type": "scattercarpet"
           }
          ],
          "scattergeo": [
           {
            "marker": {
             "colorbar": {
              "outlinewidth": 0,
              "ticks": ""
             }
            },
            "type": "scattergeo"
           }
          ],
          "scattergl": [
           {
            "marker": {
             "colorbar": {
              "outlinewidth": 0,
              "ticks": ""
             }
            },
            "type": "scattergl"
           }
          ],
          "scattermapbox": [
           {
            "marker": {
             "colorbar": {
              "outlinewidth": 0,
              "ticks": ""
             }
            },
            "type": "scattermapbox"
           }
          ],
          "scatterpolar": [
           {
            "marker": {
             "colorbar": {
              "outlinewidth": 0,
              "ticks": ""
             }
            },
            "type": "scatterpolar"
           }
          ],
          "scatterpolargl": [
           {
            "marker": {
             "colorbar": {
              "outlinewidth": 0,
              "ticks": ""
             }
            },
            "type": "scatterpolargl"
           }
          ],
          "scatterternary": [
           {
            "marker": {
             "colorbar": {
              "outlinewidth": 0,
              "ticks": ""
             }
            },
            "type": "scatterternary"
           }
          ],
          "surface": [
           {
            "colorbar": {
             "outlinewidth": 0,
             "ticks": ""
            },
            "colorscale": [
             [
              0,
              "#0d0887"
             ],
             [
              0.1111111111111111,
              "#46039f"
             ],
             [
              0.2222222222222222,
              "#7201a8"
             ],
             [
              0.3333333333333333,
              "#9c179e"
             ],
             [
              0.4444444444444444,
              "#bd3786"
             ],
             [
              0.5555555555555556,
              "#d8576b"
             ],
             [
              0.6666666666666666,
              "#ed7953"
             ],
             [
              0.7777777777777778,
              "#fb9f3a"
             ],
             [
              0.8888888888888888,
              "#fdca26"
             ],
             [
              1,
              "#f0f921"
             ]
            ],
            "type": "surface"
           }
          ],
          "table": [
           {
            "cells": {
             "fill": {
              "color": "#EBF0F8"
             },
             "line": {
              "color": "white"
             }
            },
            "header": {
             "fill": {
              "color": "#C8D4E3"
             },
             "line": {
              "color": "white"
             }
            },
            "type": "table"
           }
          ]
         },
         "layout": {
          "annotationdefaults": {
           "arrowcolor": "#2a3f5f",
           "arrowhead": 0,
           "arrowwidth": 1
          },
          "autotypenumbers": "strict",
          "coloraxis": {
           "colorbar": {
            "outlinewidth": 0,
            "ticks": ""
           }
          },
          "colorscale": {
           "diverging": [
            [
             0,
             "#8e0152"
            ],
            [
             0.1,
             "#c51b7d"
            ],
            [
             0.2,
             "#de77ae"
            ],
            [
             0.3,
             "#f1b6da"
            ],
            [
             0.4,
             "#fde0ef"
            ],
            [
             0.5,
             "#f7f7f7"
            ],
            [
             0.6,
             "#e6f5d0"
            ],
            [
             0.7,
             "#b8e186"
            ],
            [
             0.8,
             "#7fbc41"
            ],
            [
             0.9,
             "#4d9221"
            ],
            [
             1,
             "#276419"
            ]
           ],
           "sequential": [
            [
             0,
             "#0d0887"
            ],
            [
             0.1111111111111111,
             "#46039f"
            ],
            [
             0.2222222222222222,
             "#7201a8"
            ],
            [
             0.3333333333333333,
             "#9c179e"
            ],
            [
             0.4444444444444444,
             "#bd3786"
            ],
            [
             0.5555555555555556,
             "#d8576b"
            ],
            [
             0.6666666666666666,
             "#ed7953"
            ],
            [
             0.7777777777777778,
             "#fb9f3a"
            ],
            [
             0.8888888888888888,
             "#fdca26"
            ],
            [
             1,
             "#f0f921"
            ]
           ],
           "sequentialminus": [
            [
             0,
             "#0d0887"
            ],
            [
             0.1111111111111111,
             "#46039f"
            ],
            [
             0.2222222222222222,
             "#7201a8"
            ],
            [
             0.3333333333333333,
             "#9c179e"
            ],
            [
             0.4444444444444444,
             "#bd3786"
            ],
            [
             0.5555555555555556,
             "#d8576b"
            ],
            [
             0.6666666666666666,
             "#ed7953"
            ],
            [
             0.7777777777777778,
             "#fb9f3a"
            ],
            [
             0.8888888888888888,
             "#fdca26"
            ],
            [
             1,
             "#f0f921"
            ]
           ]
          },
          "colorway": [
           "#636efa",
           "#EF553B",
           "#00cc96",
           "#ab63fa",
           "#FFA15A",
           "#19d3f3",
           "#FF6692",
           "#B6E880",
           "#FF97FF",
           "#FECB52"
          ],
          "font": {
           "color": "#2a3f5f"
          },
          "geo": {
           "bgcolor": "white",
           "lakecolor": "white",
           "landcolor": "#E5ECF6",
           "showlakes": true,
           "showland": true,
           "subunitcolor": "white"
          },
          "hoverlabel": {
           "align": "left"
          },
          "hovermode": "closest",
          "mapbox": {
           "style": "light"
          },
          "paper_bgcolor": "white",
          "plot_bgcolor": "#E5ECF6",
          "polar": {
           "angularaxis": {
            "gridcolor": "white",
            "linecolor": "white",
            "ticks": ""
           },
           "bgcolor": "#E5ECF6",
           "radialaxis": {
            "gridcolor": "white",
            "linecolor": "white",
            "ticks": ""
           }
          },
          "scene": {
           "xaxis": {
            "backgroundcolor": "#E5ECF6",
            "gridcolor": "white",
            "gridwidth": 2,
            "linecolor": "white",
            "showbackground": true,
            "ticks": "",
            "zerolinecolor": "white"
           },
           "yaxis": {
            "backgroundcolor": "#E5ECF6",
            "gridcolor": "white",
            "gridwidth": 2,
            "linecolor": "white",
            "showbackground": true,
            "ticks": "",
            "zerolinecolor": "white"
           },
           "zaxis": {
            "backgroundcolor": "#E5ECF6",
            "gridcolor": "white",
            "gridwidth": 2,
            "linecolor": "white",
            "showbackground": true,
            "ticks": "",
            "zerolinecolor": "white"
           }
          },
          "shapedefaults": {
           "line": {
            "color": "#2a3f5f"
           }
          },
          "ternary": {
           "aaxis": {
            "gridcolor": "white",
            "linecolor": "white",
            "ticks": ""
           },
           "baxis": {
            "gridcolor": "white",
            "linecolor": "white",
            "ticks": ""
           },
           "bgcolor": "#E5ECF6",
           "caxis": {
            "gridcolor": "white",
            "linecolor": "white",
            "ticks": ""
           }
          },
          "title": {
           "x": 0.05
          },
          "xaxis": {
           "automargin": true,
           "gridcolor": "white",
           "linecolor": "white",
           "ticks": "",
           "title": {
            "standoff": 15
           },
           "zerolinecolor": "white",
           "zerolinewidth": 2
          },
          "yaxis": {
           "automargin": true,
           "gridcolor": "white",
           "linecolor": "white",
           "ticks": "",
           "title": {
            "standoff": 15
           },
           "zerolinecolor": "white",
           "zerolinewidth": 2
          }
         }
        },
        "width": 440,
        "xaxis": {
         "tickfont": {
          "size": 10
         },
         "ticktext": [
          "unit",
          "cost",
          "unit",
          "cost",
          "unit",
          "cost"
         ],
         "tickvals": [
          "case1-MNISTbinary",
          "case1b-MNISTbinary",
          "case1-adult",
          "case1b-adult",
          "case1-MagicTelescope",
          "case1b-MagicTelescope"
         ],
         "title": {
          "font": {
           "size": 12
          },
          "standoff": 0,
          "text": "Case and dataset"
         }
        },
        "yaxis": {
         "gridcolor": "lightgrey",
         "tickfont": {
          "size": 12
         },
         "title": {
          "font": {
           "size": 12
          },
          "standoff": 5,
          "text": "Action count"
         }
        }
       }
      }
     },
     "metadata": {},
     "output_type": "display_data"
    }
   ],
   "source": [
    "import plotly.graph_objects as go\n",
    "\n",
    "# Create a figure\n",
    "fig = go.Figure()\n",
    "\n",
    "# Define the order of categories\n",
    "categories_order = ['MNISTbinary', 'adult', 'MagicTelescope']\n",
    "\n",
    "\n",
    "action = [\n",
    "    {'name': 'Ask label', 'color': '#aacaff'},\n",
    "    {'name': 'Class 1', 'color': '#008080'},\n",
    "    {'name': 'Class 2', 'color': '#b0e0e6'}\n",
    "]\n",
    "\n",
    "\n",
    "# Add traces in the specified order\n",
    "for category in categories_order:\n",
    "    for case in ['case1', 'case1b']:\n",
    "        values = meanaction_cases[case][category]['Neural-CBP']\n",
    "        for i, value in enumerate(values):\n",
    "            if case == 'case1' and category =='MNISTbinary':\n",
    "                show=True\n",
    "            else:\n",
    "                show = False\n",
    "\n",
    "            fig.add_trace(go.Bar(\n",
    "                x=[f'{case}-{category}'],\n",
    "                y=[value],\n",
    "                name=action[i]['name'],\n",
    "                offsetgroup=i,\n",
    "                marker=dict(color=action[i]['color']),\n",
    "                error_y=dict(type='data', array=stdaction_cases[case][category]['Neural-CBP'], visible=True,thickness=1 ),\n",
    "                showlegend = show\n",
    "                # base=i * 0.3  # This creates the side-by-side bars within each group\n",
    "            ))\n",
    "\n",
    "datasets = [ 'case1-MNISTbinary', 'case1b-MNISTbinary', 'case1-adult', 'case1b-adult', 'case1-MagicTelescope', 'case1b-MagicTelescope' ]\n",
    "print(datasets)\n",
    "for i, dataset in enumerate(datasets[:-1]):\n",
    "    if i in [1,3]:\n",
    "        fig.add_vline(x=i + 0.5, line_width=2, line_color=\"black\")\n",
    "\n",
    "\n",
    "fig.add_annotation(\n",
    "    x=0.2,       # X-coordinate on the plot (adjust as necessary)\n",
    "    y=6500,      # Y-coordinate on the plot (adjust as necessary)\n",
    "    text='<span style=\"text-decoration: underline;\">MNISTbinary</span>',  # Simulated underline with HTML\n",
    "    # text='MNISTbinary',\n",
    "    showarrow=False,\n",
    "    arrowhead=0,  # Ensuring no arrow head\n",
    "    ax=0,         # Ensuring no arrow x-position\n",
    "    ay=0          # Ensuring no arrow y-position\n",
    ")\n",
    "\n",
    "# Adding text annotation for each bar\n",
    "fig.add_annotation(\n",
    "    x=1.9,         # X-coordinate on the plot (adjust as necessary)\n",
    "    y=6500,      # Y-coordinate on the plot (adjust as necessary)\n",
    "    # text='adult',\n",
    "    text='<span style=\"text-decoration: underline;\">Adult</span>',  # Simulated underline with HTML\n",
    "    showarrow=False,\n",
    "    arrowhead=0,  # Ensuring no arrow head\n",
    "    ax=0,         # Ensuring no arrow x-position\n",
    "    ay=0          # Ensuring no arrow y-position\n",
    ")\n",
    "\n",
    "\n",
    "# Adding text annotation for each bar\n",
    "fig.add_annotation(\n",
    "    x=4.25,         # X-coordinate on the plot (adjust as necessary)\n",
    "    y=6500,      # Y-coordinate on the plot (adjust as necessary)\n",
    "    text='<span style=\"text-decoration: underline;\">MagicTelescope</span>',  # Simulated underline with HTML\n",
    "    # text='MagicTelescope',\n",
    "    showarrow=False,\n",
    "    arrowhead=0,  # Ensuring no arrow head\n",
    "    ax=0,         # Ensuring no arrow x-position\n",
    "    ay=0          # Ensuring no arrow y-position\n",
    ")\n",
    "\n",
    "\n",
    "siz = 12\n",
    "# Update layout\n",
    "fig.update_layout(\n",
    "    width=440,\n",
    "    height=180,\n",
    "    plot_bgcolor='white',  # Sets the plot background color\n",
    "    paper_bgcolor='white',  # Sets the overall figure background color\n",
    "    margin=dict(l=0, r=0, t=0, b=0),  # Small margins\n",
    "    barmode='group',\n",
    "    xaxis_title='Case and dataset',\n",
    "    yaxis_title='Action count',\n",
    "    # yaxis_range=[0,4],\n",
    "    showlegend=True,\n",
    "\n",
    "    xaxis=dict( \n",
    "        tickvals= datasets,\n",
    "        ticktext = ['unit', 'cost', 'unit', 'cost', 'unit', 'cost'],\n",
    "        tickfont=dict(size=siz-2), \n",
    "        title_standoff=0,\n",
    "        title_font=dict(size=siz),   ),\n",
    "        \n",
    "    yaxis=dict(\n",
    "        # type=\"log\",\n",
    "        gridcolor='lightgrey',\n",
    "        title_standoff=5,\n",
    "        title_font=dict(size=siz),\n",
    "        tickfont=dict(size=siz)  ),\n",
    "\n",
    "    legend=dict(\n",
    "        orientation=\"h\",\n",
    "        yanchor=\"bottom\",\n",
    "        y=-0.37,  # Adjust this value to position the legend\n",
    "        xanchor=\"center\",\n",
    "        x=0.5,\n",
    "        font=dict(size=siz)  # Increase legend font size\n",
    "    ),\n",
    ")\n",
    "\n",
    "fig.show()\n",
    "fig.write_image(\"./figures/cost_action_count.pdf\" )\n",
    "fig.write_image(\"./figures/cost_action_count.pdf\" )"
   ]
  }
 ],
 "metadata": {
  "kernelspec": {
   "display_name": ".venv",
   "language": "python",
   "name": "python3"
  },
  "language_info": {
   "codemirror_mode": {
    "name": "ipython",
    "version": 3
   },
   "file_extension": ".py",
   "mimetype": "text/x-python",
   "name": "python",
   "nbconvert_exporter": "python",
   "pygments_lexer": "ipython3",
   "version": "3.8.10"
  },
  "orig_nbformat": 4
 },
 "nbformat": 4,
 "nbformat_minor": 2
}
