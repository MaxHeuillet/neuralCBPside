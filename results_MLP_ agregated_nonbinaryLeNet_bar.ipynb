{
 "cells": [
  {
   "cell_type": "code",
   "execution_count": 29,
   "metadata": {},
   "outputs": [],
   "source": [
    "import os\n",
    "import numpy as np\n",
    "import plotly.graph_objects as go\n",
    "\n",
    "import gzip\n",
    "import pickle as pkl\n",
    "\n",
    "def loadall_results2(path, n_folds):\n",
    "    regret = []\n",
    "    history_actions = []\n",
    "    history_outcomes = []\n",
    "    perf = []\n",
    "    with gzip.open(  path ,'rb') as f:\n",
    "        for i in range(n_folds+1):\n",
    "            try:\n",
    "                data = pkl.load(f)\n",
    "            except EOFError:\n",
    "                break\n",
    "\n",
    "            if type(data) == dict:\n",
    "                regret.append( data['regret'] ) \n",
    "                history_actions.append( data['action_history'] )\n",
    "                history_outcomes.append( data['outcome_history'] ) \n",
    "                perf.append( data['pred'] ) \n",
    "\n",
    "    \n",
    "    return regret, history_actions, history_outcomes, perf"
   ]
  },
  {
   "cell_type": "code",
   "execution_count": 19,
   "metadata": {},
   "outputs": [],
   "source": [
    "n_folds = 1\n",
    "horizon = 9999\n",
    "context = 'MNISTbinary'\n",
    "model = 'MLP'\n",
    "case = 'case1'\n",
    "agent_name = 'EEneuralcbpside_v6' #ineural6, neuronal6\n",
    "\n",
    "direct = './results/'\n",
    "path = os.path.join(direct, '{}_{}_{}_{}_{}_{}.pkl.gz'.format(case,model,context,horizon,n_folds,agent_name) )\n",
    "regret, action_history,outcome_history, perf = loadall_results2(path, n_folds)\n"
   ]
  },
  {
   "cell_type": "code",
   "execution_count": 30,
   "metadata": {},
   "outputs": [
    {
     "name": "stdout",
     "output_type": "stream",
     "text": [
      "./results/case2_LeNet_MNIST_9999_25_EEneuralcbpside_v6.pkl.gz\n",
      "24\n",
      "m [[496, 'MNIST', 'Neural-CBP'], [443, 'MNIST', 'Neural-CBP'], [491, 'MNIST', 'Neural-CBP'], [434, 'MNIST', 'Neural-CBP'], [436, 'MNIST', 'Neural-CBP'], [476, 'MNIST', 'Neural-CBP'], [497, 'MNIST', 'Neural-CBP'], [451, 'MNIST', 'Neural-CBP'], [442, 'MNIST', 'Neural-CBP'], [399, 'MNIST', 'Neural-CBP'], [488, 'MNIST', 'Neural-CBP'], [449, 'MNIST', 'Neural-CBP'], [406, 'MNIST', 'Neural-CBP'], [453, 'MNIST', 'Neural-CBP'], [432, 'MNIST', 'Neural-CBP'], [404, 'MNIST', 'Neural-CBP'], [444, 'MNIST', 'Neural-CBP'], [439, 'MNIST', 'Neural-CBP'], [394, 'MNIST', 'Neural-CBP'], [441, 'MNIST', 'Neural-CBP'], [400, 'MNIST', 'Neural-CBP'], [370, 'MNIST', 'Neural-CBP'], [454, 'MNIST', 'Neural-CBP'], [415, 'MNIST', 'Neural-CBP']]\n",
      "./results/case2_LeNet_MNIST_9999_25_neuronal6.pkl.gz\n",
      "25\n",
      "m [[1, 'MNIST', 'Neuronal (official)'], [1, 'MNIST', 'Neuronal (official)'], [1, 'MNIST', 'Neuronal (official)'], [1, 'MNIST', 'Neuronal (official)'], [1259, 'MNIST', 'Neuronal (official)'], [1304, 'MNIST', 'Neuronal (official)'], [1360, 'MNIST', 'Neuronal (official)'], [1, 'MNIST', 'Neuronal (official)'], [1, 'MNIST', 'Neuronal (official)'], [1, 'MNIST', 'Neuronal (official)'], [1, 'MNIST', 'Neuronal (official)'], [1, 'MNIST', 'Neuronal (official)'], [1225, 'MNIST', 'Neuronal (official)'], [1236, 'MNIST', 'Neuronal (official)'], [1241, 'MNIST', 'Neuronal (official)'], [1368, 'MNIST', 'Neuronal (official)'], [1346, 'MNIST', 'Neuronal (official)'], [1, 'MNIST', 'Neuronal (official)'], [1, 'MNIST', 'Neuronal (official)'], [1, 'MNIST', 'Neuronal (official)'], [1, 'MNIST', 'Neuronal (official)'], [1, 'MNIST', 'Neuronal (official)'], [1, 'MNIST', 'Neuronal (official)'], [1220, 'MNIST', 'Neuronal (official)'], [1384, 'MNIST', 'Neuronal (official)']]\n",
      "./results/case2_LeNet_MNIST_9999_25_neuronal3.pkl.gz\n",
      "25\n",
      "m [[1, 'MNIST', 'Neuronal (less exploration)'], [1, 'MNIST', 'Neuronal (less exploration)'], [1, 'MNIST', 'Neuronal (less exploration)'], [1, 'MNIST', 'Neuronal (less exploration)'], [1, 'MNIST', 'Neuronal (less exploration)'], [1, 'MNIST', 'Neuronal (less exploration)'], [1, 'MNIST', 'Neuronal (less exploration)'], [1, 'MNIST', 'Neuronal (less exploration)'], [1, 'MNIST', 'Neuronal (less exploration)'], [1, 'MNIST', 'Neuronal (less exploration)'], [1, 'MNIST', 'Neuronal (less exploration)'], [1, 'MNIST', 'Neuronal (less exploration)'], [1, 'MNIST', 'Neuronal (less exploration)'], [1, 'MNIST', 'Neuronal (less exploration)'], [1, 'MNIST', 'Neuronal (less exploration)'], [1, 'MNIST', 'Neuronal (less exploration)'], [1, 'MNIST', 'Neuronal (less exploration)'], [1, 'MNIST', 'Neuronal (less exploration)'], [1, 'MNIST', 'Neuronal (less exploration)'], [1, 'MNIST', 'Neuronal (less exploration)'], [1, 'MNIST', 'Neuronal (less exploration)'], [1, 'MNIST', 'Neuronal (less exploration)'], [1, 'MNIST', 'Neuronal (less exploration)'], [1, 'MNIST', 'Neuronal (less exploration)'], [1, 'MNIST', 'Neuronal (less exploration)']]\n",
      "./results/case2_LeNet_FASHION_9999_25_EEneuralcbpside_v6.pkl.gz\n",
      "25\n",
      "m [[669, 'FASHION', 'Neural-CBP'], [628, 'FASHION', 'Neural-CBP'], [639, 'FASHION', 'Neural-CBP'], [589, 'FASHION', 'Neural-CBP'], [649, 'FASHION', 'Neural-CBP'], [695, 'FASHION', 'Neural-CBP'], [643, 'FASHION', 'Neural-CBP'], [628, 'FASHION', 'Neural-CBP'], [621, 'FASHION', 'Neural-CBP'], [486, 'FASHION', 'Neural-CBP'], [600, 'FASHION', 'Neural-CBP'], [512, 'FASHION', 'Neural-CBP'], [633, 'FASHION', 'Neural-CBP'], [542, 'FASHION', 'Neural-CBP'], [530, 'FASHION', 'Neural-CBP'], [612, 'FASHION', 'Neural-CBP'], [631, 'FASHION', 'Neural-CBP'], [573, 'FASHION', 'Neural-CBP'], [703, 'FASHION', 'Neural-CBP'], [605, 'FASHION', 'Neural-CBP'], [476, 'FASHION', 'Neural-CBP'], [613, 'FASHION', 'Neural-CBP'], [604, 'FASHION', 'Neural-CBP'], [676, 'FASHION', 'Neural-CBP'], [606, 'FASHION', 'Neural-CBP']]\n",
      "./results/case2_LeNet_FASHION_9999_25_neuronal6.pkl.gz\n",
      "25\n",
      "m [[1, 'FASHION', 'Neuronal (official)'], [1, 'FASHION', 'Neuronal (official)'], [1, 'FASHION', 'Neuronal (official)'], [1, 'FASHION', 'Neuronal (official)'], [1, 'FASHION', 'Neuronal (official)'], [1, 'FASHION', 'Neuronal (official)'], [1, 'FASHION', 'Neuronal (official)'], [1, 'FASHION', 'Neuronal (official)'], [1, 'FASHION', 'Neuronal (official)'], [1, 'FASHION', 'Neuronal (official)'], [1, 'FASHION', 'Neuronal (official)'], [1, 'FASHION', 'Neuronal (official)'], [1, 'FASHION', 'Neuronal (official)'], [1, 'FASHION', 'Neuronal (official)'], [1, 'FASHION', 'Neuronal (official)'], [1, 'FASHION', 'Neuronal (official)'], [2898, 'FASHION', 'Neuronal (official)'], [3009, 'FASHION', 'Neuronal (official)'], [3083, 'FASHION', 'Neuronal (official)'], [2831, 'FASHION', 'Neuronal (official)'], [2897, 'FASHION', 'Neuronal (official)'], [3088, 'FASHION', 'Neuronal (official)'], [3067, 'FASHION', 'Neuronal (official)'], [3116, 'FASHION', 'Neuronal (official)'], [3305, 'FASHION', 'Neuronal (official)']]\n",
      "./results/case2_LeNet_FASHION_9999_25_neuronal3.pkl.gz\n",
      "25\n",
      "m [[1, 'FASHION', 'Neuronal (less exploration)'], [1, 'FASHION', 'Neuronal (less exploration)'], [1, 'FASHION', 'Neuronal (less exploration)'], [1, 'FASHION', 'Neuronal (less exploration)'], [1, 'FASHION', 'Neuronal (less exploration)'], [1, 'FASHION', 'Neuronal (less exploration)'], [1, 'FASHION', 'Neuronal (less exploration)'], [1, 'FASHION', 'Neuronal (less exploration)'], [1, 'FASHION', 'Neuronal (less exploration)'], [1, 'FASHION', 'Neuronal (less exploration)'], [1, 'FASHION', 'Neuronal (less exploration)'], [1, 'FASHION', 'Neuronal (less exploration)'], [1, 'FASHION', 'Neuronal (less exploration)'], [1, 'FASHION', 'Neuronal (less exploration)'], [1, 'FASHION', 'Neuronal (less exploration)'], [1, 'FASHION', 'Neuronal (less exploration)'], [1, 'FASHION', 'Neuronal (less exploration)'], [1, 'FASHION', 'Neuronal (less exploration)'], [1, 'FASHION', 'Neuronal (less exploration)'], [1, 'FASHION', 'Neuronal (less exploration)'], [1, 'FASHION', 'Neuronal (less exploration)'], [1, 'FASHION', 'Neuronal (less exploration)'], [1, 'FASHION', 'Neuronal (less exploration)'], [1, 'FASHION', 'Neuronal (less exploration)'], [1, 'FASHION', 'Neuronal (less exploration)']]\n",
      "./results/case2_LeNet_CIFAR10_9999_25_EEneuralcbpside_v6.pkl.gz\n",
      "25\n",
      "m [[2638, 'CIFAR10', 'Neural-CBP'], [2541, 'CIFAR10', 'Neural-CBP'], [2470, 'CIFAR10', 'Neural-CBP'], [2553, 'CIFAR10', 'Neural-CBP'], [2560, 'CIFAR10', 'Neural-CBP'], [2363, 'CIFAR10', 'Neural-CBP'], [2497, 'CIFAR10', 'Neural-CBP'], [2312, 'CIFAR10', 'Neural-CBP'], [2683, 'CIFAR10', 'Neural-CBP'], [2734, 'CIFAR10', 'Neural-CBP'], [2668, 'CIFAR10', 'Neural-CBP'], [2403, 'CIFAR10', 'Neural-CBP'], [2446, 'CIFAR10', 'Neural-CBP'], [2491, 'CIFAR10', 'Neural-CBP'], [2566, 'CIFAR10', 'Neural-CBP'], [2245, 'CIFAR10', 'Neural-CBP'], [2336, 'CIFAR10', 'Neural-CBP'], [2575, 'CIFAR10', 'Neural-CBP'], [2359, 'CIFAR10', 'Neural-CBP'], [2550, 'CIFAR10', 'Neural-CBP'], [2602, 'CIFAR10', 'Neural-CBP'], [2666, 'CIFAR10', 'Neural-CBP'], [2692, 'CIFAR10', 'Neural-CBP'], [2492, 'CIFAR10', 'Neural-CBP'], [2434, 'CIFAR10', 'Neural-CBP']]\n",
      "./results/case2_LeNet_CIFAR10_9999_25_neuronal6.pkl.gz\n",
      "25\n",
      "m [[1, 'CIFAR10', 'Neuronal (official)'], [2, 'CIFAR10', 'Neuronal (official)'], [1, 'CIFAR10', 'Neuronal (official)'], [1, 'CIFAR10', 'Neuronal (official)'], [1, 'CIFAR10', 'Neuronal (official)'], [1, 'CIFAR10', 'Neuronal (official)'], [1, 'CIFAR10', 'Neuronal (official)'], [2856, 'CIFAR10', 'Neuronal (official)'], [1, 'CIFAR10', 'Neuronal (official)'], [1, 'CIFAR10', 'Neuronal (official)'], [1, 'CIFAR10', 'Neuronal (official)'], [7644, 'CIFAR10', 'Neuronal (official)'], [7787, 'CIFAR10', 'Neuronal (official)'], [7995, 'CIFAR10', 'Neuronal (official)'], [7949, 'CIFAR10', 'Neuronal (official)'], [7856, 'CIFAR10', 'Neuronal (official)'], [7922, 'CIFAR10', 'Neuronal (official)'], [7943, 'CIFAR10', 'Neuronal (official)'], [8063, 'CIFAR10', 'Neuronal (official)'], [7718, 'CIFAR10', 'Neuronal (official)'], [7935, 'CIFAR10', 'Neuronal (official)'], [7718, 'CIFAR10', 'Neuronal (official)'], [8212, 'CIFAR10', 'Neuronal (official)'], [7971, 'CIFAR10', 'Neuronal (official)'], [7986, 'CIFAR10', 'Neuronal (official)']]\n",
      "./results/case2_LeNet_CIFAR10_9999_25_neuronal3.pkl.gz\n",
      "25\n",
      "m [[1, 'CIFAR10', 'Neuronal (less exploration)'], [1, 'CIFAR10', 'Neuronal (less exploration)'], [1, 'CIFAR10', 'Neuronal (less exploration)'], [1, 'CIFAR10', 'Neuronal (less exploration)'], [1, 'CIFAR10', 'Neuronal (less exploration)'], [1, 'CIFAR10', 'Neuronal (less exploration)'], [1, 'CIFAR10', 'Neuronal (less exploration)'], [1, 'CIFAR10', 'Neuronal (less exploration)'], [1, 'CIFAR10', 'Neuronal (less exploration)'], [1, 'CIFAR10', 'Neuronal (less exploration)'], [1, 'CIFAR10', 'Neuronal (less exploration)'], [1, 'CIFAR10', 'Neuronal (less exploration)'], [1, 'CIFAR10', 'Neuronal (less exploration)'], [1, 'CIFAR10', 'Neuronal (less exploration)'], [1, 'CIFAR10', 'Neuronal (less exploration)'], [1, 'CIFAR10', 'Neuronal (less exploration)'], [1, 'CIFAR10', 'Neuronal (less exploration)'], [1, 'CIFAR10', 'Neuronal (less exploration)'], [1, 'CIFAR10', 'Neuronal (less exploration)'], [1, 'CIFAR10', 'Neuronal (less exploration)'], [1, 'CIFAR10', 'Neuronal (less exploration)'], [1, 'CIFAR10', 'Neuronal (less exploration)'], [1, 'CIFAR10', 'Neuronal (less exploration)'], [1, 'CIFAR10', 'Neuronal (less exploration)'], [1, 'CIFAR10', 'Neuronal (less exploration)']]\n"
     ]
    }
   ],
   "source": [
    "def convert_action_history(action_history,data, l_label):\n",
    "    counters = []\n",
    "    for history in action_history:\n",
    "\n",
    "        counter = sum([ 1 if action == 0 else 0 for action in history ])\n",
    "        counters.append( [counter, data, l_label] )\n",
    "\n",
    "    return counters\n",
    "\n",
    "\n",
    "n_folds = 25\n",
    "horizon = 9999\n",
    "model = 'LeNet'\n",
    "\n",
    "\n",
    "material = {\n",
    "    'EEneuralcbpside_v6': {'color': [255, 0, 0], 'label': 'Neural-CBP'},  # Red\n",
    "    'neuronal6': {'color': [255, 0, 255], 'label':'Neuronal (official)'},                  # Magenta\n",
    "    'neuronal3': {'color': [160, 160, 160], 'label':'Neuronal (less exploration)'},                   # Orange\n",
    "}\n",
    "\n",
    "fig = go.Figure( )\n",
    "\n",
    "exploration_dataset = []\n",
    "data_models = {}\n",
    "for model in ['LeNet']: \n",
    "\n",
    "    n_folds = 25\n",
    "    datasets = [ 'MNIST', 'FASHION', 'CIFAR10', ]\n",
    "\n",
    "    data_regrets = {} \n",
    "    for data in datasets: \n",
    "\n",
    "        case = 'case2' \n",
    "            \n",
    "        final_regrets = {}\n",
    "        for agent_name in material.keys():\n",
    "\n",
    "            color, l_label = material[agent_name]['color'], material[agent_name]['label']\n",
    "\n",
    "            r,g,b = color\n",
    "            \n",
    "            direct = './results/'\n",
    "            # direct = './results_case2/'\n",
    "            path = os.path.join(direct, '{}_{}_{}_{}_{}_{}.pkl.gz'.format(case, model, data, horizon,n_folds,agent_name) )\n",
    "            print(path)\n",
    "            result, history_actions, history_outcomes, perf = loadall_results2(path, n_folds)\n",
    "            result = np.array(result)\n",
    "            # result = result[1:]\n",
    "            result = result.astype(np.float32)\n",
    "            print(  len(history_actions) )\n",
    "            final_regrets[l_label] = result[:,-1] \n",
    "            m = convert_action_history(history_actions, data, l_label)\n",
    "            print('m', m)\n",
    "\n",
    "            exploration_dataset.extend( m )\n",
    "\n",
    "        if data == 'MNISTbinary':\n",
    "            data = 'MNIST binary'\n",
    "        if data == 'FASHION':\n",
    "            data = 'Fashion'\n",
    "            \n",
    "        data_regrets[data] = final_regrets\n",
    "        \n",
    "    data_models[model] = data_regrets"
   ]
  },
  {
   "cell_type": "code",
   "execution_count": 31,
   "metadata": {},
   "outputs": [],
   "source": [
    "import pandas as pd\n",
    "exploration_dataset = np.array(exploration_dataset)\n",
    "exploration_dataset = pd.DataFrame(exploration_dataset)\n",
    "exploration_dataset.dtypes\n",
    "exploration_dataset[0].astype(float)\n",
    "\n",
    "exploration_dataset.columns = ['Explore', 'Dataset', 'Approach']\n",
    "exploration_dataset['Explore'] = exploration_dataset['Explore'].astype(int)"
   ]
  },
  {
   "cell_type": "code",
   "execution_count": 32,
   "metadata": {},
   "outputs": [],
   "source": [
    "import pandas as pd\n",
    "# pd.DataFrame(data_regrets)\n",
    "# data_regrets\n",
    "\n",
    "samples = []\n",
    "\n",
    "# Iterate over the dictionary to extract data\n",
    "for model, dataset in data_models.items():\n",
    "    for data, approach in dataset.items():\n",
    "        for appr, values in approach.items():\n",
    "            for val in values:\n",
    "                samples.append([model, data, appr, val])\n",
    "\n",
    "# Create a DataFrame\n",
    "df = pd.DataFrame(samples, columns=['Model','Dataset', 'Approach', 'Value'])\n",
    "\n",
    "# Calculate mean and standard error for each group\n",
    "grouped = df.groupby(['Model', 'Dataset', 'Approach'])\n",
    "mean = grouped['Value'].mean().reset_index()\n",
    "std_error = 2.576 * grouped['Value'].std() / np.sqrt(grouped['Value'].count())\n",
    "# std_error = grouped['Value'].std() / np.sqrt(grouped['Value'].count())\n",
    "std_error = std_error.reset_index()\n",
    "\n",
    "# Merge the mean and standard error into a single DataFrame\n",
    "result = pd.merge(mean, std_error, on=['Model', 'Dataset', 'Approach'])\n",
    "result.rename(columns={'Value_x': 'Mean', 'Value_y': 'StdError'}, inplace=True)\n",
    "\n",
    "result['merge'] = result['Model'] + result['Approach']\n",
    "result['merge2'] = result['Model'] + result['Dataset']"
   ]
  },
  {
   "cell_type": "code",
   "execution_count": 33,
   "metadata": {},
   "outputs": [
    {
     "name": "stderr",
     "output_type": "stream",
     "text": [
      "/tmp/ipykernel_92281/1997626217.py:39: RuntimeWarning:\n",
      "\n",
      "Precision loss occurred in moment calculation due to catastrophic cancellation. This occurs when the data are nearly identical. Results may be unreliable.\n",
      "\n",
      "/tmp/ipykernel_92281/1997626217.py:39: RuntimeWarning:\n",
      "\n",
      "Precision loss occurred in moment calculation due to catastrophic cancellation. This occurs when the data are nearly identical. Results may be unreliable.\n",
      "\n",
      "/tmp/ipykernel_92281/1997626217.py:39: RuntimeWarning:\n",
      "\n",
      "Precision loss occurred in moment calculation due to catastrophic cancellation. This occurs when the data are nearly identical. Results may be unreliable.\n",
      "\n"
     ]
    }
   ],
   "source": [
    "from scipy.stats import ttest_ind,mannwhitneyu\n",
    "# np.set_printoptions(suppress=True)\n",
    "\n",
    "\n",
    "final_values = []\n",
    "\n",
    "for data_name in ['MNIST', 'Fashion', 'CIFAR10'] : \n",
    "    subdf = df[ df['Dataset']== data_name ]\n",
    "\n",
    "    \n",
    "    data_name2 = 'FASHION' if data_name =='Fashion' else data_name\n",
    "    subdf_exp = exploration_dataset[ exploration_dataset['Dataset']== data_name2 ]\n",
    "\n",
    "    dataset = pd.DataFrame([data_name] * 25)\n",
    "    # dataset_expl = pd.DataFrame([data_name] * 25)\n",
    "\n",
    "    final_dataset = []\n",
    "    references = []\n",
    "\n",
    "    for approach in ['Neural-CBP', 'Neuronal (official)', 'Neuronal (less exploration)', ]:\n",
    "        \n",
    "        values = subdf[ subdf['Approach'] == approach]['Value']\n",
    "        values.name = '{}'.format(approach)\n",
    "        values = values.reset_index(drop=True)\n",
    "        dataset['{}'.format(approach)] = values\n",
    "\n",
    "        mean = np.mean(values)\n",
    "\n",
    "        s, p = ttest_ind(df[  (df['Approach'] == 'Neural-CBP') & (df['Dataset'] == data_name)  ]['Value'], \n",
    "                    df[  (df['Approach'] == approach) & (df['Dataset'] == data_name)  ]['Value'], equal_var=False)\n",
    "\n",
    "        values_exp = subdf_exp[ subdf_exp['Approach'] == approach]['Explore']\n",
    "        values_exp.name = '{}'.format(approach)\n",
    "        values_exp = values_exp.reset_index(drop=True)\n",
    "        values_exp = values_exp.astype(int)\n",
    "\n",
    "        mean_exp = np.mean(values_exp)\n",
    "\n",
    "        s, p_exp = ttest_ind( exploration_dataset[  (exploration_dataset['Approach'] == 'Neural-CBP') & (exploration_dataset['Dataset'] == data_name2)  ]['Explore'], \n",
    "                    exploration_dataset[  (exploration_dataset['Approach'] == approach) & (exploration_dataset['Dataset'] == data_name2)  ]['Explore'], equal_var=False)\n",
    "        \n",
    "        final_dataset.append( [  mean, p, mean_exp, p_exp ] )\n",
    "        references.append([ data_name ,  approach, ] )\n",
    "\n",
    "    final_dataset = np.array(final_dataset)\n",
    "    references = np.array(references)\n",
    "        \n",
    "\n",
    "    df_dropped = dataset.drop(columns=[0])\n",
    "    results = []\n",
    "    for i in range(25):\n",
    "        perfs = np.array( df_dropped.iloc[i].tolist() )\n",
    "        minimum = min( perfs )\n",
    "        strategy_won = (perfs == minimum)\n",
    "        results.append(strategy_won)  \n",
    "\n",
    "    results = np.array( results )  \n",
    "    true_counts = results.sum(axis=0)\n",
    "    true_counts = true_counts.reshape(-1, 1)\n",
    "\n",
    "\n",
    "    final = np.hstack( (final_dataset, true_counts) )\n",
    "    final = np.round(final,3)\n",
    "    final = np.hstack( (references, final) )\n",
    "\n",
    "    final_values.append(final)\n",
    "\n",
    "final_values = np.array(final_values)\n",
    "final_values = np.vstack(final_values)\n",
    "dataframe = pd.DataFrame(final_values)\n",
    "dataframe.columns = ['Dataset', 'Approach', 'Mean regret', 'p-value', 'Mean Exploration', 'p-value (exploration)', 'win count',]\n",
    "\n",
    "dataframe = dataframe[ ['Dataset', 'Approach', 'Mean regret', 'p-value', 'win count', 'Mean Exploration', 'p-value (exploration)'  ] ]\n",
    "# dataframe.to_csv('figures/results_nonbinary_LeNet.csv', index = False)"
   ]
  },
  {
   "cell_type": "code",
   "execution_count": 6,
   "metadata": {},
   "outputs": [
    {
     "data": {
      "text/html": [
       "<div>\n",
       "<style scoped>\n",
       "    .dataframe tbody tr th:only-of-type {\n",
       "        vertical-align: middle;\n",
       "    }\n",
       "\n",
       "    .dataframe tbody tr th {\n",
       "        vertical-align: top;\n",
       "    }\n",
       "\n",
       "    .dataframe thead th {\n",
       "        text-align: right;\n",
       "    }\n",
       "</style>\n",
       "<table border=\"1\" class=\"dataframe\">\n",
       "  <thead>\n",
       "    <tr style=\"text-align: right;\">\n",
       "      <th></th>\n",
       "      <th>Dataset</th>\n",
       "      <th>Approach</th>\n",
       "      <th>Mean regret</th>\n",
       "      <th>p-value</th>\n",
       "      <th>win count</th>\n",
       "      <th>Mean Exploration</th>\n",
       "      <th>p-value (exploration)</th>\n",
       "    </tr>\n",
       "  </thead>\n",
       "  <tbody>\n",
       "    <tr>\n",
       "      <th>0</th>\n",
       "      <td>MNIST</td>\n",
       "      <td>Neural-CBP</td>\n",
       "      <td>954.458</td>\n",
       "      <td>1.0</td>\n",
       "      <td>24.0</td>\n",
       "      <td>439.75</td>\n",
       "      <td>1.0</td>\n",
       "    </tr>\n",
       "    <tr>\n",
       "      <th>1</th>\n",
       "      <td>MNIST</td>\n",
       "      <td>Neuronal (official)</td>\n",
       "      <td>3575.72</td>\n",
       "      <td>0.0</td>\n",
       "      <td>0.0</td>\n",
       "      <td>1570.8</td>\n",
       "      <td>0.0</td>\n",
       "    </tr>\n",
       "    <tr>\n",
       "      <th>2</th>\n",
       "      <td>MNIST</td>\n",
       "      <td>Neuronal (tuned)</td>\n",
       "      <td>7579.08</td>\n",
       "      <td>0.0</td>\n",
       "      <td>0.0</td>\n",
       "      <td>279.6</td>\n",
       "      <td>0.134</td>\n",
       "    </tr>\n",
       "    <tr>\n",
       "      <th>3</th>\n",
       "      <td>Fashion</td>\n",
       "      <td>Neural-CBP</td>\n",
       "      <td>2749.72</td>\n",
       "      <td>1.0</td>\n",
       "      <td>25.0</td>\n",
       "      <td>606.52</td>\n",
       "      <td>1.0</td>\n",
       "    </tr>\n",
       "    <tr>\n",
       "      <th>4</th>\n",
       "      <td>Fashion</td>\n",
       "      <td>Neuronal (official)</td>\n",
       "      <td>4417.48</td>\n",
       "      <td>0.0</td>\n",
       "      <td>0.0</td>\n",
       "      <td>3766.52</td>\n",
       "      <td>0.0</td>\n",
       "    </tr>\n",
       "    <tr>\n",
       "      <th>5</th>\n",
       "      <td>Fashion</td>\n",
       "      <td>Neuronal (tuned)</td>\n",
       "      <td>7247.292</td>\n",
       "      <td>0.0</td>\n",
       "      <td>0.0</td>\n",
       "      <td>771.0</td>\n",
       "      <td>0.478</td>\n",
       "    </tr>\n",
       "    <tr>\n",
       "      <th>6</th>\n",
       "      <td>CIFAR10</td>\n",
       "      <td>Neural-CBP</td>\n",
       "      <td>6865.92</td>\n",
       "      <td>1.0</td>\n",
       "      <td>25.0</td>\n",
       "      <td>2515.04</td>\n",
       "      <td>1.0</td>\n",
       "    </tr>\n",
       "    <tr>\n",
       "      <th>7</th>\n",
       "      <td>CIFAR10</td>\n",
       "      <td>Neuronal (official)</td>\n",
       "      <td>9376.92</td>\n",
       "      <td>0.0</td>\n",
       "      <td>0.0</td>\n",
       "      <td>8545.0</td>\n",
       "      <td>0.0</td>\n",
       "    </tr>\n",
       "    <tr>\n",
       "      <th>8</th>\n",
       "      <td>CIFAR10</td>\n",
       "      <td>Neuronal (tuned)</td>\n",
       "      <td>8773.56</td>\n",
       "      <td>0.0</td>\n",
       "      <td>0.0</td>\n",
       "      <td>2295.44</td>\n",
       "      <td>0.735</td>\n",
       "    </tr>\n",
       "  </tbody>\n",
       "</table>\n",
       "</div>"
      ],
      "text/plain": [
       "   Dataset             Approach Mean regret p-value win count  \\\n",
       "0    MNIST           Neural-CBP     954.458     1.0      24.0   \n",
       "1    MNIST  Neuronal (official)     3575.72     0.0       0.0   \n",
       "2    MNIST     Neuronal (tuned)     7579.08     0.0       0.0   \n",
       "3  Fashion           Neural-CBP     2749.72     1.0      25.0   \n",
       "4  Fashion  Neuronal (official)     4417.48     0.0       0.0   \n",
       "5  Fashion     Neuronal (tuned)    7247.292     0.0       0.0   \n",
       "6  CIFAR10           Neural-CBP     6865.92     1.0      25.0   \n",
       "7  CIFAR10  Neuronal (official)     9376.92     0.0       0.0   \n",
       "8  CIFAR10     Neuronal (tuned)     8773.56     0.0       0.0   \n",
       "\n",
       "  Mean Exploration p-value (exploration)  \n",
       "0           439.75                   1.0  \n",
       "1           1570.8                   0.0  \n",
       "2            279.6                 0.134  \n",
       "3           606.52                   1.0  \n",
       "4          3766.52                   0.0  \n",
       "5            771.0                 0.478  \n",
       "6          2515.04                   1.0  \n",
       "7           8545.0                   0.0  \n",
       "8          2295.44                 0.735  "
      ]
     },
     "execution_count": 6,
     "metadata": {},
     "output_type": "execute_result"
    }
   ],
   "source": [
    "dataframe"
   ]
  },
  {
   "cell_type": "code",
   "execution_count": 34,
   "metadata": {},
   "outputs": [
    {
     "name": "stdout",
     "output_type": "stream",
     "text": [
      "LeNetNeural-CBP\n",
      "LeNetNeuronal (official)\n",
      "LeNetNeuronal (less exploration)\n",
      "['LeNetCIFAR10' 'LeNetFashion' 'LeNetMNIST']\n"
     ]
    },
    {
     "data": {
      "application/vnd.plotly.v1+json": {
       "config": {
        "plotlyServerURL": "https://plot.ly"
       },
       "data": [
        {
         "error_y": {
          "array": [
           45.44795073465601,
           83.26479465119144,
           32.18654941293197
          ],
          "thickness": 1,
          "type": "data",
          "visible": true
         },
         "marker": {
          "color": "rgba(171,99,250,1)",
          "pattern": {
           "fgcolor": "black",
           "shape": "x"
          }
         },
         "name": "Neural-CBP",
         "showlegend": true,
         "type": "bar",
         "x": [
          "LeNetCIFAR10",
          "LeNetFashion",
          "LeNetMNIST"
         ],
         "y": [
          6865.919921875,
          2749.719970703125,
          954.4583129882812
         ]
        },
        {
         "error_y": {
          "array": [
           117.66267568584814,
           1367.5541018515362,
           1969.629259168433
          ],
          "thickness": 1,
          "type": "data",
          "visible": true
         },
         "marker": {
          "color": "rgba(255,102,146,1)"
         },
         "name": "Neuronal (official)",
         "showlegend": true,
         "type": "bar",
         "x": [
          "LeNetCIFAR10",
          "LeNetFashion",
          "LeNetMNIST"
         ],
         "y": [
          8768.919921875,
          7052.8798828125,
          5940.47998046875
         ]
        },
        {
         "error_y": {
          "array": [
           12.408550376789767,
           16.137031204728917,
           24.90601706756018
          ],
          "thickness": 1,
          "type": "data",
          "visible": true
         },
         "marker": {
          "color": "rgba(182,232,128,1)"
         },
         "name": "Neuronal (less exploration)",
         "showlegend": true,
         "type": "bar",
         "x": [
          "LeNetCIFAR10",
          "LeNetFashion",
          "LeNetMNIST"
         ],
         "y": [
          9007,
          9000.6796875,
          9007.3603515625
         ]
        }
       ],
       "layout": {
        "barmode": "group",
        "height": 180,
        "margin": {
         "b": 0,
         "l": 0,
         "r": 0,
         "t": 0
        },
        "paper_bgcolor": "white",
        "plot_bgcolor": "white",
        "shapes": [
         {
          "line": {
           "color": "black",
           "dash": "dot",
           "width": 2
          },
          "type": "line",
          "x0": 0.5,
          "x1": 0.5,
          "xref": "x",
          "y0": 0,
          "y1": 1,
          "yref": "y domain"
         },
         {
          "line": {
           "color": "black",
           "dash": "dot",
           "width": 2
          },
          "type": "line",
          "x0": 1.5,
          "x1": 1.5,
          "xref": "x",
          "y0": 0,
          "y1": 1,
          "yref": "y domain"
         }
        ],
        "showlegend": false,
        "template": {
         "data": {
          "bar": [
           {
            "error_x": {
             "color": "#2a3f5f"
            },
            "error_y": {
             "color": "#2a3f5f"
            },
            "marker": {
             "line": {
              "color": "#E5ECF6",
              "width": 0.5
             },
             "pattern": {
              "fillmode": "overlay",
              "size": 10,
              "solidity": 0.2
             }
            },
            "type": "bar"
           }
          ],
          "barpolar": [
           {
            "marker": {
             "line": {
              "color": "#E5ECF6",
              "width": 0.5
             },
             "pattern": {
              "fillmode": "overlay",
              "size": 10,
              "solidity": 0.2
             }
            },
            "type": "barpolar"
           }
          ],
          "carpet": [
           {
            "aaxis": {
             "endlinecolor": "#2a3f5f",
             "gridcolor": "white",
             "linecolor": "white",
             "minorgridcolor": "white",
             "startlinecolor": "#2a3f5f"
            },
            "baxis": {
             "endlinecolor": "#2a3f5f",
             "gridcolor": "white",
             "linecolor": "white",
             "minorgridcolor": "white",
             "startlinecolor": "#2a3f5f"
            },
            "type": "carpet"
           }
          ],
          "choropleth": [
           {
            "colorbar": {
             "outlinewidth": 0,
             "ticks": ""
            },
            "type": "choropleth"
           }
          ],
          "contour": [
           {
            "colorbar": {
             "outlinewidth": 0,
             "ticks": ""
            },
            "colorscale": [
             [
              0,
              "#0d0887"
             ],
             [
              0.1111111111111111,
              "#46039f"
             ],
             [
              0.2222222222222222,
              "#7201a8"
             ],
             [
              0.3333333333333333,
              "#9c179e"
             ],
             [
              0.4444444444444444,
              "#bd3786"
             ],
             [
              0.5555555555555556,
              "#d8576b"
             ],
             [
              0.6666666666666666,
              "#ed7953"
             ],
             [
              0.7777777777777778,
              "#fb9f3a"
             ],
             [
              0.8888888888888888,
              "#fdca26"
             ],
             [
              1,
              "#f0f921"
             ]
            ],
            "type": "contour"
           }
          ],
          "contourcarpet": [
           {
            "colorbar": {
             "outlinewidth": 0,
             "ticks": ""
            },
            "type": "contourcarpet"
           }
          ],
          "heatmap": [
           {
            "colorbar": {
             "outlinewidth": 0,
             "ticks": ""
            },
            "colorscale": [
             [
              0,
              "#0d0887"
             ],
             [
              0.1111111111111111,
              "#46039f"
             ],
             [
              0.2222222222222222,
              "#7201a8"
             ],
             [
              0.3333333333333333,
              "#9c179e"
             ],
             [
              0.4444444444444444,
              "#bd3786"
             ],
             [
              0.5555555555555556,
              "#d8576b"
             ],
             [
              0.6666666666666666,
              "#ed7953"
             ],
             [
              0.7777777777777778,
              "#fb9f3a"
             ],
             [
              0.8888888888888888,
              "#fdca26"
             ],
             [
              1,
              "#f0f921"
             ]
            ],
            "type": "heatmap"
           }
          ],
          "heatmapgl": [
           {
            "colorbar": {
             "outlinewidth": 0,
             "ticks": ""
            },
            "colorscale": [
             [
              0,
              "#0d0887"
             ],
             [
              0.1111111111111111,
              "#46039f"
             ],
             [
              0.2222222222222222,
              "#7201a8"
             ],
             [
              0.3333333333333333,
              "#9c179e"
             ],
             [
              0.4444444444444444,
              "#bd3786"
             ],
             [
              0.5555555555555556,
              "#d8576b"
             ],
             [
              0.6666666666666666,
              "#ed7953"
             ],
             [
              0.7777777777777778,
              "#fb9f3a"
             ],
             [
              0.8888888888888888,
              "#fdca26"
             ],
             [
              1,
              "#f0f921"
             ]
            ],
            "type": "heatmapgl"
           }
          ],
          "histogram": [
           {
            "marker": {
             "pattern": {
              "fillmode": "overlay",
              "size": 10,
              "solidity": 0.2
             }
            },
            "type": "histogram"
           }
          ],
          "histogram2d": [
           {
            "colorbar": {
             "outlinewidth": 0,
             "ticks": ""
            },
            "colorscale": [
             [
              0,
              "#0d0887"
             ],
             [
              0.1111111111111111,
              "#46039f"
             ],
             [
              0.2222222222222222,
              "#7201a8"
             ],
             [
              0.3333333333333333,
              "#9c179e"
             ],
             [
              0.4444444444444444,
              "#bd3786"
             ],
             [
              0.5555555555555556,
              "#d8576b"
             ],
             [
              0.6666666666666666,
              "#ed7953"
             ],
             [
              0.7777777777777778,
              "#fb9f3a"
             ],
             [
              0.8888888888888888,
              "#fdca26"
             ],
             [
              1,
              "#f0f921"
             ]
            ],
            "type": "histogram2d"
           }
          ],
          "histogram2dcontour": [
           {
            "colorbar": {
             "outlinewidth": 0,
             "ticks": ""
            },
            "colorscale": [
             [
              0,
              "#0d0887"
             ],
             [
              0.1111111111111111,
              "#46039f"
             ],
             [
              0.2222222222222222,
              "#7201a8"
             ],
             [
              0.3333333333333333,
              "#9c179e"
             ],
             [
              0.4444444444444444,
              "#bd3786"
             ],
             [
              0.5555555555555556,
              "#d8576b"
             ],
             [
              0.6666666666666666,
              "#ed7953"
             ],
             [
              0.7777777777777778,
              "#fb9f3a"
             ],
             [
              0.8888888888888888,
              "#fdca26"
             ],
             [
              1,
              "#f0f921"
             ]
            ],
            "type": "histogram2dcontour"
           }
          ],
          "mesh3d": [
           {
            "colorbar": {
             "outlinewidth": 0,
             "ticks": ""
            },
            "type": "mesh3d"
           }
          ],
          "parcoords": [
           {
            "line": {
             "colorbar": {
              "outlinewidth": 0,
              "ticks": ""
             }
            },
            "type": "parcoords"
           }
          ],
          "pie": [
           {
            "automargin": true,
            "type": "pie"
           }
          ],
          "scatter": [
           {
            "fillpattern": {
             "fillmode": "overlay",
             "size": 10,
             "solidity": 0.2
            },
            "type": "scatter"
           }
          ],
          "scatter3d": [
           {
            "line": {
             "colorbar": {
              "outlinewidth": 0,
              "ticks": ""
             }
            },
            "marker": {
             "colorbar": {
              "outlinewidth": 0,
              "ticks": ""
             }
            },
            "type": "scatter3d"
           }
          ],
          "scattercarpet": [
           {
            "marker": {
             "colorbar": {
              "outlinewidth": 0,
              "ticks": ""
             }
            },
            "type": "scattercarpet"
           }
          ],
          "scattergeo": [
           {
            "marker": {
             "colorbar": {
              "outlinewidth": 0,
              "ticks": ""
             }
            },
            "type": "scattergeo"
           }
          ],
          "scattergl": [
           {
            "marker": {
             "colorbar": {
              "outlinewidth": 0,
              "ticks": ""
             }
            },
            "type": "scattergl"
           }
          ],
          "scattermapbox": [
           {
            "marker": {
             "colorbar": {
              "outlinewidth": 0,
              "ticks": ""
             }
            },
            "type": "scattermapbox"
           }
          ],
          "scatterpolar": [
           {
            "marker": {
             "colorbar": {
              "outlinewidth": 0,
              "ticks": ""
             }
            },
            "type": "scatterpolar"
           }
          ],
          "scatterpolargl": [
           {
            "marker": {
             "colorbar": {
              "outlinewidth": 0,
              "ticks": ""
             }
            },
            "type": "scatterpolargl"
           }
          ],
          "scatterternary": [
           {
            "marker": {
             "colorbar": {
              "outlinewidth": 0,
              "ticks": ""
             }
            },
            "type": "scatterternary"
           }
          ],
          "surface": [
           {
            "colorbar": {
             "outlinewidth": 0,
             "ticks": ""
            },
            "colorscale": [
             [
              0,
              "#0d0887"
             ],
             [
              0.1111111111111111,
              "#46039f"
             ],
             [
              0.2222222222222222,
              "#7201a8"
             ],
             [
              0.3333333333333333,
              "#9c179e"
             ],
             [
              0.4444444444444444,
              "#bd3786"
             ],
             [
              0.5555555555555556,
              "#d8576b"
             ],
             [
              0.6666666666666666,
              "#ed7953"
             ],
             [
              0.7777777777777778,
              "#fb9f3a"
             ],
             [
              0.8888888888888888,
              "#fdca26"
             ],
             [
              1,
              "#f0f921"
             ]
            ],
            "type": "surface"
           }
          ],
          "table": [
           {
            "cells": {
             "fill": {
              "color": "#EBF0F8"
             },
             "line": {
              "color": "white"
             }
            },
            "header": {
             "fill": {
              "color": "#C8D4E3"
             },
             "line": {
              "color": "white"
             }
            },
            "type": "table"
           }
          ]
         },
         "layout": {
          "annotationdefaults": {
           "arrowcolor": "#2a3f5f",
           "arrowhead": 0,
           "arrowwidth": 1
          },
          "autotypenumbers": "strict",
          "coloraxis": {
           "colorbar": {
            "outlinewidth": 0,
            "ticks": ""
           }
          },
          "colorscale": {
           "diverging": [
            [
             0,
             "#8e0152"
            ],
            [
             0.1,
             "#c51b7d"
            ],
            [
             0.2,
             "#de77ae"
            ],
            [
             0.3,
             "#f1b6da"
            ],
            [
             0.4,
             "#fde0ef"
            ],
            [
             0.5,
             "#f7f7f7"
            ],
            [
             0.6,
             "#e6f5d0"
            ],
            [
             0.7,
             "#b8e186"
            ],
            [
             0.8,
             "#7fbc41"
            ],
            [
             0.9,
             "#4d9221"
            ],
            [
             1,
             "#276419"
            ]
           ],
           "sequential": [
            [
             0,
             "#0d0887"
            ],
            [
             0.1111111111111111,
             "#46039f"
            ],
            [
             0.2222222222222222,
             "#7201a8"
            ],
            [
             0.3333333333333333,
             "#9c179e"
            ],
            [
             0.4444444444444444,
             "#bd3786"
            ],
            [
             0.5555555555555556,
             "#d8576b"
            ],
            [
             0.6666666666666666,
             "#ed7953"
            ],
            [
             0.7777777777777778,
             "#fb9f3a"
            ],
            [
             0.8888888888888888,
             "#fdca26"
            ],
            [
             1,
             "#f0f921"
            ]
           ],
           "sequentialminus": [
            [
             0,
             "#0d0887"
            ],
            [
             0.1111111111111111,
             "#46039f"
            ],
            [
             0.2222222222222222,
             "#7201a8"
            ],
            [
             0.3333333333333333,
             "#9c179e"
            ],
            [
             0.4444444444444444,
             "#bd3786"
            ],
            [
             0.5555555555555556,
             "#d8576b"
            ],
            [
             0.6666666666666666,
             "#ed7953"
            ],
            [
             0.7777777777777778,
             "#fb9f3a"
            ],
            [
             0.8888888888888888,
             "#fdca26"
            ],
            [
             1,
             "#f0f921"
            ]
           ]
          },
          "colorway": [
           "#636efa",
           "#EF553B",
           "#00cc96",
           "#ab63fa",
           "#FFA15A",
           "#19d3f3",
           "#FF6692",
           "#B6E880",
           "#FF97FF",
           "#FECB52"
          ],
          "font": {
           "color": "#2a3f5f"
          },
          "geo": {
           "bgcolor": "white",
           "lakecolor": "white",
           "landcolor": "#E5ECF6",
           "showlakes": true,
           "showland": true,
           "subunitcolor": "white"
          },
          "hoverlabel": {
           "align": "left"
          },
          "hovermode": "closest",
          "mapbox": {
           "style": "light"
          },
          "paper_bgcolor": "white",
          "plot_bgcolor": "#E5ECF6",
          "polar": {
           "angularaxis": {
            "gridcolor": "white",
            "linecolor": "white",
            "ticks": ""
           },
           "bgcolor": "#E5ECF6",
           "radialaxis": {
            "gridcolor": "white",
            "linecolor": "white",
            "ticks": ""
           }
          },
          "scene": {
           "xaxis": {
            "backgroundcolor": "#E5ECF6",
            "gridcolor": "white",
            "gridwidth": 2,
            "linecolor": "white",
            "showbackground": true,
            "ticks": "",
            "zerolinecolor": "white"
           },
           "yaxis": {
            "backgroundcolor": "#E5ECF6",
            "gridcolor": "white",
            "gridwidth": 2,
            "linecolor": "white",
            "showbackground": true,
            "ticks": "",
            "zerolinecolor": "white"
           },
           "zaxis": {
            "backgroundcolor": "#E5ECF6",
            "gridcolor": "white",
            "gridwidth": 2,
            "linecolor": "white",
            "showbackground": true,
            "ticks": "",
            "zerolinecolor": "white"
           }
          },
          "shapedefaults": {
           "line": {
            "color": "#2a3f5f"
           }
          },
          "ternary": {
           "aaxis": {
            "gridcolor": "white",
            "linecolor": "white",
            "ticks": ""
           },
           "baxis": {
            "gridcolor": "white",
            "linecolor": "white",
            "ticks": ""
           },
           "bgcolor": "#E5ECF6",
           "caxis": {
            "gridcolor": "white",
            "linecolor": "white",
            "ticks": ""
           }
          },
          "title": {
           "x": 0.05
          },
          "xaxis": {
           "automargin": true,
           "gridcolor": "white",
           "linecolor": "white",
           "ticks": "",
           "title": {
            "standoff": 15
           },
           "zerolinecolor": "white",
           "zerolinewidth": 2
          },
          "yaxis": {
           "automargin": true,
           "gridcolor": "white",
           "linecolor": "white",
           "ticks": "",
           "title": {
            "standoff": 15
           },
           "zerolinecolor": "white",
           "zerolinewidth": 2
          }
         }
        },
        "width": 440,
        "xaxis": {
         "tickfont": {
          "size": 11
         },
         "tickmode": "array",
         "ticktext": [
          "CIFAR10",
          "Fashion",
          "MNIST"
         ],
         "tickvals": [
          "LeNetCIFAR10",
          "LeNetFashion",
          "LeNetMNIST"
         ]
        },
        "yaxis": {
         "gridcolor": "lightgrey",
         "tickfont": {
          "size": 10
         },
         "tickmode": "array",
         "ticktext": [
          "1k",
          "2k",
          "3k",
          "4k",
          "5k",
          "7k",
          "9k"
         ],
         "tickvals": [
          1000,
          2000,
          3000,
          4000,
          5000,
          7000,
          9000
         ],
         "title": {
          "font": {
           "size": 13
          },
          "standoff": 5,
          "text": "Final regret ± 99% CI"
         }
        }
       }
      }
     },
     "metadata": {},
     "output_type": "display_data"
    }
   ],
   "source": [
    "import pandas as pd\n",
    "import plotly.graph_objects as go\n",
    "import numpy as np\n",
    "import plotly.express as px\n",
    "# Assuming df is your DataFrame and it has columns 'Dataset', 'Value', 'Model'\n",
    "\n",
    "w = 0.1\n",
    "def remove_substrings(s, substrings):\n",
    "    for substring in substrings:\n",
    "        s = s.replace(substring, '')\n",
    "    return s\n",
    "\n",
    "\n",
    "# approaches = result['merge'].unique()\n",
    "# 'LeNetNeural-CBP', 'LeNetNeuronal (official)', 'LeNetNeuronal (tuned)',\n",
    "# approaches = np.array([ 'MLPNeural-CBP', 'MLPNeuronal (official)','MLPNeuronal (tuned)', 'MLPIneurAL (official)', \n",
    "#                         'MLPIneurAL (tuned)',  'MLPCesa', 'MLPMargin' ], dtype=object) \n",
    "# approaches_names = [ remove_substrings(model, ['LeNet', 'MLP']) for model in approaches ]\n",
    "# default_colors = px.colors.qualitative.Plotly\n",
    "# model_colors = {model_n:col for model_n,col in zip(approaches_names,default_colors) }\n",
    "\n",
    "approaches = {\n",
    "    #'EEneuralcbpside_v5': {'color': [255, 255, 0], 'label': 'EEneuralcbpside_v5'},  # Red\n",
    "    'LeNetNeural-CBP': {'color': [171, 99, 250], 'label': 'Neural-CBP'},  # Red\n",
    "    # 'MLPIneurAL (official)': {'color': [255, 161, 90], 'label':'IneurAL (official)'},                    # Yellow\n",
    "    # 'MLPIneurAL (tuned)': {'color': [25, 211, 243], 'label':'IneurAL (tuned)'},                    # Cyan\n",
    "    'LeNetNeuronal (official)': {'color': [255, 102, 146], 'label':'Neuronal (official)'},                  # Magenta\n",
    "    'LeNetNeuronal (less exploration)': {'color': [182, 232, 128], 'label':'Neuronal (less exploration)'},                   # Orange\n",
    "    # 'MLPMargin': {'color': [255, 151, 255], 'label':'Margin'},\n",
    "    # 'MLPCesa': {'color': [254, 203, 82], 'label':'Cesa'},\n",
    "}\n",
    "\n",
    "\n",
    "# Create an empty figure\n",
    "fig = go.Figure()\n",
    "\n",
    "\n",
    "views = []\n",
    "for appr in approaches.keys():\n",
    "    print(appr)\n",
    "    appr_name = approaches[appr]['label']\n",
    "    r,g,b = approaches[appr]['color']\n",
    "\n",
    "    subset = result[result['merge'] == appr]\n",
    "    dec = False\n",
    "    if appr_name not in views:\n",
    "        dec = True\n",
    "        views.append(appr_name)\n",
    "    \n",
    "\n",
    "    if 'CBP' in appr_name:\n",
    "        fig.add_trace(go.Bar(\n",
    "            x=subset['merge2'],\n",
    "            y=subset['Mean'],\n",
    "            name=appr_name,\n",
    "            error_y=dict(type='data', array=subset['StdError'], visible=True,thickness=1 ),\n",
    "            marker_color='rgba({},{},{},1)'.format(r,g,b),marker_pattern_shape='x',marker_pattern_fgcolor='black', \n",
    "            showlegend = dec,\n",
    "            # width=w\n",
    "            ))\n",
    "    else: \n",
    "        fig.add_trace(go.Bar(\n",
    "            x=subset['merge2'],\n",
    "            y=subset['Mean'],\n",
    "            name=appr_name,\n",
    "            error_y=dict(type='data', array=subset['StdError'], visible=True,thickness=1 ),\n",
    "            marker_color='rgba({},{},{},1)'.format(r,g,b), \n",
    "            showlegend = dec,\n",
    "            # width=w\n",
    "            ))\n",
    "\n",
    "\n",
    "# Add vertical black lines between data groups\n",
    "\n",
    "datasets = result['merge2'].unique()\n",
    "print(datasets)\n",
    "for i, dataset in enumerate(datasets[:-1]):\n",
    "    if i == 2:\n",
    "        fig.add_vline(x=i + 0.5, line_width=2, line_color=\"black\")\n",
    "    else:\n",
    "        fig.add_vline(x=i + 0.5, line_width=2, line_color=\"black\",  line_dash=\"dot\")\n",
    "\n",
    "\n",
    "siz = 13\n",
    "\n",
    "def format_tick(val):\n",
    "    \"\"\" Custom function to format the tick labels. \"\"\"\n",
    "    return f'{int(val / 1000)}k' if val >= 1000 else str(val)\n",
    "\n",
    "\n",
    "fig.update_layout(\n",
    "    width=440,\n",
    "    height=180,\n",
    "    plot_bgcolor='white',  # Sets the plot background color\n",
    "    paper_bgcolor='white',  # Sets the overall figure background color\n",
    "    barmode='group',\n",
    "    margin=dict(l=0, r=0, t=0, b=0),  # Small margins\n",
    "    xaxis=dict(\n",
    "        tickmode='array',\n",
    "        tickvals=result['merge2'].unique(),\n",
    "        ticktext = [ remove_substrings(model, ['LeNet', 'MLP']) for model in result['merge2'].unique() ],\n",
    "        tickfont=dict(size=siz-2)  # Increase X-axis tick font size\n",
    "    ),\n",
    "    yaxis=dict(\n",
    "        # type=\"log\",\n",
    "        gridcolor='lightgrey',\n",
    "        title=\"Final regret ± 99% CI\",\n",
    "        title_standoff=5,\n",
    "        title_font=dict(size=siz),\n",
    "        tickfont=dict(size=siz-3) , # Increase Y-axis tick font size\n",
    "        tickmode='array',\n",
    "        tickvals=[1000, 2000, 3000, 4000, 5000, 7000, 9000 ],  # Specify the values where you want ticks\n",
    "        ticktext=[format_tick(val) for val in [1000, 2000, 3000, 4000, 5000, 7000, 9000]]  # Format those values\n",
    "    ),\n",
    "    showlegend=False\n",
    "\n",
    "    # legend=dict(\n",
    "    #     orientation=\"h\",\n",
    "    #     yanchor=\"bottom\",\n",
    "    #     y=-0.3,  # Adjust this value to position the legend\n",
    "    #     xanchor=\"center\",\n",
    "    #     x=0.5,\n",
    "    #     font=dict(size=siz)  # Increase legend font size\n",
    "    # ),\n",
    ")\n",
    "\n",
    "fig.show()\n",
    "fig.write_image(\"./figures/tst.pdf\" )\n",
    "fig.write_image(\"./figures/tst2.pdf\" )\n",
    "fig.write_image(\"./figures/results_nonbinary_LeNet_cr.pdf\" )"
   ]
  }
 ],
 "metadata": {
  "kernelspec": {
   "display_name": ".venv",
   "language": "python",
   "name": "python3"
  },
  "language_info": {
   "codemirror_mode": {
    "name": "ipython",
    "version": 3
   },
   "file_extension": ".py",
   "mimetype": "text/x-python",
   "name": "python",
   "nbconvert_exporter": "python",
   "pygments_lexer": "ipython3",
   "version": "3.8.16"
  },
  "orig_nbformat": 4
 },
 "nbformat": 4,
 "nbformat_minor": 2
}
