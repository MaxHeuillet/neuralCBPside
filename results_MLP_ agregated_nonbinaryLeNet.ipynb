{
 "cells": [
  {
   "cell_type": "code",
   "execution_count": 10,
   "metadata": {},
   "outputs": [],
   "source": [
    "import os\n",
    "import numpy as np\n",
    "import plotly.graph_objects as go\n",
    "import pandas as pd\n",
    "import gzip\n",
    "import pickle as pkl\n",
    "import pandas as pd\n",
    "\n",
    "def loadall_results2(path, n_folds):\n",
    "    regret = []\n",
    "    history_actions = []\n",
    "    history_outcomes = []\n",
    "    perf = []\n",
    "    with gzip.open(  path ,'rb') as f:\n",
    "        for i in range(n_folds+1):\n",
    "            try:\n",
    "                data = pkl.load(f)\n",
    "            except EOFError:\n",
    "                break\n",
    "\n",
    "            if type(data) == dict:\n",
    "                regret.append( data['regret'] ) \n",
    "                history_actions.append( data['action_history'] )\n",
    "                history_outcomes.append( data['outcome_history'] ) \n",
    "                perf.append( data['pred'] ) \n",
    "\n",
    "    return regret, history_actions, history_outcomes, perf"
   ]
  },
  {
   "cell_type": "code",
   "execution_count": 3,
   "metadata": {},
   "outputs": [],
   "source": [
    "n_folds = 25\n",
    "horizon = 9999\n",
    "context = 'MNISTbinary'\n",
    "model = 'MLP'\n",
    "case = 'case1'\n",
    "agent_name = 'EEneuralcbpside_v6' #ineural6, neuronal6\n",
    "\n",
    "direct = './results/'\n",
    "path = os.path.join(direct, '{}_{}_{}_{}_{}_{}.pkl.gz'.format(case,model,context,horizon,n_folds,agent_name) )\n",
    "regret, action_history, outcome_history, perf = loadall_results2(path, n_folds)\n"
   ]
  },
  {
   "cell_type": "code",
   "execution_count": 11,
   "metadata": {},
   "outputs": [
    {
     "name": "stdout",
     "output_type": "stream",
     "text": [
      "./results/case2_LeNet_MNIST_9999_25_neuronal6b.pkl.gz\n",
      "[[1.000e+00 2.000e+00 3.000e+00 ... 1.303e+03 1.303e+03 1.303e+03]\n",
      " [1.000e+00 2.000e+00 3.000e+00 ... 1.355e+03 1.355e+03 1.355e+03]\n",
      " [1.000e+00 2.000e+00 3.000e+00 ... 1.373e+03 1.373e+03 1.373e+03]\n",
      " ...\n",
      " [1.000e+00 2.000e+00 3.000e+00 ... 1.337e+03 1.337e+03 1.337e+03]\n",
      " [1.000e+00 1.000e+00 2.000e+00 ... 1.301e+03 1.301e+03 1.301e+03]\n",
      " [1.000e+00 2.000e+00 3.000e+00 ... 1.309e+03 1.309e+03 1.309e+03]]\n",
      "./results/case2_LeNet_MNIST_9999_25_neuronal3b.pkl.gz\n",
      "[[1.000e+00 2.000e+00 3.000e+00 ... 9.780e+02 9.780e+02 9.780e+02]\n",
      " [1.000e+00 2.000e+00 3.000e+00 ... 1.038e+03 1.038e+03 1.038e+03]\n",
      " [1.000e+00 2.000e+00 3.000e+00 ... 1.008e+03 1.008e+03 1.009e+03]\n",
      " ...\n",
      " [1.000e+00 2.000e+00 3.000e+00 ... 9.740e+02 9.740e+02 9.740e+02]\n",
      " [1.000e+00 2.000e+00 3.000e+00 ... 9.780e+02 9.780e+02 9.780e+02]\n",
      " [1.000e+00 2.000e+00 3.000e+00 ... 1.030e+03 1.030e+03 1.030e+03]]\n",
      "./results/case2_LeNet_MNIST_9999_25_EEneuralcbpside_v6.pkl.gz\n",
      "[[1.000e+00 2.000e+00 3.000e+00 ... 9.430e+02 9.430e+02 9.430e+02]\n",
      " [1.000e+00 2.000e+00 3.000e+00 ... 8.660e+02 8.660e+02 8.660e+02]\n",
      " [1.000e+00 2.000e+00 3.000e+00 ... 9.430e+02 9.430e+02 9.430e+02]\n",
      " ...\n",
      " [1.000e+00 2.000e+00 3.000e+00 ... 8.910e+02 8.910e+02 8.910e+02]\n",
      " [1.000e+00 2.000e+00 3.000e+00 ... 1.062e+03 1.062e+03 1.062e+03]\n",
      " [1.000e+00 2.000e+00 3.000e+00 ... 9.480e+02 9.480e+02 9.480e+02]]\n",
      "./results/case2_LeNet_FASHION_9999_25_neuronal6b.pkl.gz\n",
      "[[1.000e+00 2.000e+00 3.000e+00 ... 3.311e+03 3.311e+03 3.312e+03]\n",
      " [1.000e+00 2.000e+00 3.000e+00 ... 3.452e+03 3.452e+03 3.452e+03]\n",
      " [1.000e+00 2.000e+00 3.000e+00 ... 3.450e+03 3.450e+03 3.450e+03]\n",
      " ...\n",
      " [1.000e+00 1.000e+00 2.000e+00 ... 3.758e+03 3.759e+03 3.760e+03]\n",
      " [1.000e+00 2.000e+00 3.000e+00 ... 3.770e+03 3.771e+03 3.771e+03]\n",
      " [1.000e+00 2.000e+00 3.000e+00 ... 3.712e+03 3.712e+03 3.712e+03]]\n",
      "./results/case2_LeNet_FASHION_9999_25_neuronal3b.pkl.gz\n",
      "[[1.000e+00 2.000e+00 3.000e+00 ... 2.695e+03 2.695e+03 2.695e+03]\n",
      " [1.000e+00 2.000e+00 3.000e+00 ... 2.813e+03 2.813e+03 2.814e+03]\n",
      " [1.000e+00 2.000e+00 3.000e+00 ... 2.732e+03 2.732e+03 2.732e+03]\n",
      " ...\n",
      " [1.000e+00 1.000e+00 2.000e+00 ... 2.850e+03 2.850e+03 2.851e+03]\n",
      " [1.000e+00 2.000e+00 3.000e+00 ... 2.908e+03 2.908e+03 2.909e+03]\n",
      " [1.000e+00 2.000e+00 3.000e+00 ... 2.847e+03 2.847e+03 2.847e+03]]\n",
      "./results/case2_LeNet_FASHION_9999_25_EEneuralcbpside_v6.pkl.gz\n",
      "[[1.000e+00 1.000e+00 2.000e+00 ... 2.603e+03 2.604e+03 2.604e+03]\n",
      " [1.000e+00 2.000e+00 3.000e+00 ... 2.731e+03 2.732e+03 2.733e+03]\n",
      " [1.000e+00 2.000e+00 3.000e+00 ... 2.608e+03 2.608e+03 2.608e+03]\n",
      " ...\n",
      " [1.000e+00 2.000e+00 3.000e+00 ... 2.959e+03 2.959e+03 2.960e+03]\n",
      " [1.000e+00 2.000e+00 3.000e+00 ... 2.706e+03 2.706e+03 2.706e+03]\n",
      " [1.000e+00 2.000e+00 3.000e+00 ... 2.739e+03 2.740e+03 2.740e+03]]\n",
      "./results/case2_LeNet_CIFAR10_9999_25_neuronal6b.pkl.gz\n",
      "[[1.000e+00 2.000e+00 3.000e+00 ... 8.378e+03 8.379e+03 8.379e+03]\n",
      " [1.000e+00 2.000e+00 3.000e+00 ... 8.362e+03 8.363e+03 8.364e+03]\n",
      " [1.000e+00 2.000e+00 3.000e+00 ... 8.448e+03 8.449e+03 8.449e+03]\n",
      " ...\n",
      " [1.000e+00 2.000e+00 2.000e+00 ... 8.520e+03 8.521e+03 8.522e+03]\n",
      " [1.000e+00 2.000e+00 3.000e+00 ... 8.589e+03 8.590e+03 8.590e+03]\n",
      " [1.000e+00 1.000e+00 2.000e+00 ... 8.604e+03 8.605e+03 8.605e+03]]\n",
      "./results/case2_LeNet_CIFAR10_9999_25_neuronal3b.pkl.gz\n",
      "[[1.000e+00 2.000e+00 3.000e+00 ... 7.403e+03 7.403e+03 7.404e+03]\n",
      " [1.000e+00 2.000e+00 3.000e+00 ... 7.449e+03 7.450e+03 7.450e+03]\n",
      " [1.000e+00 2.000e+00 3.000e+00 ... 7.354e+03 7.355e+03 7.356e+03]\n",
      " ...\n",
      " [1.000e+00 1.000e+00 2.000e+00 ... 7.529e+03 7.529e+03 7.530e+03]\n",
      " [1.000e+00 2.000e+00 3.000e+00 ... 7.457e+03 7.458e+03 7.459e+03]\n",
      " [1.000e+00 2.000e+00 3.000e+00 ... 7.372e+03 7.373e+03 7.374e+03]]\n",
      "./results/case2_LeNet_CIFAR10_9999_25_EEneuralcbpside_v6.pkl.gz\n",
      "[[1.000e+00 2.000e+00 3.000e+00 ... 7.025e+03 7.026e+03 7.027e+03]\n",
      " [1.000e+00 2.000e+00 3.000e+00 ... 6.871e+03 6.872e+03 6.873e+03]\n",
      " [1.000e+00 2.000e+00 3.000e+00 ... 6.891e+03 6.891e+03 6.892e+03]\n",
      " ...\n",
      " [1.000e+00 2.000e+00 3.000e+00 ... 6.769e+03 6.769e+03 6.769e+03]\n",
      " [1.000e+00 2.000e+00 3.000e+00 ... 6.700e+03 6.700e+03 6.701e+03]\n",
      " [1.000e+00 2.000e+00 3.000e+00 ... 6.783e+03 6.783e+03 6.783e+03]]\n"
     ]
    }
   ],
   "source": [
    "def format_perf(perf, model, dataset, l_label):\n",
    "\n",
    "    processed_data = []\n",
    "    i = 0\n",
    "    for item in perf:\n",
    "        processed_item = {}\n",
    "        # key_mapping = dict( zip( item.keys(), [10, 50, 100, 250, 500, 750, 1000, 2500, 5000, 7500, 9000]))\n",
    "        new_dict = item #{key_mapping[old_key]: value for old_key, value in item.items()}\n",
    "        for key in new_dict:\n",
    "            # processed_item[f'accuracy_{key}'] = new_dict[key]['accuracy']\n",
    "            processed_item[f'f1_{key}'] = new_dict[key]['f1']\n",
    "        processed_item['Seed'] = i\n",
    "        processed_item['Model'] = model\n",
    "        processed_item['Dataset'] = dataset\n",
    "        processed_item['Approach'] = l_label\n",
    "        i = i+1\n",
    "        processed_data.append(processed_item)\n",
    "    return processed_data\n",
    "\n",
    "\n",
    "def convert_action_history(action_history,n_folds):\n",
    "    counters = []\n",
    "    for history in action_history:\n",
    "        counter = np.cumsum([ 1 if action == 0 else 0 for action in history ])\n",
    "        counters.append(counter)\n",
    "\n",
    "    std = 2.575 * np.std(counters, axis = 0) / n_folds \n",
    "    # std = np.std(counters, axis = 0) #/ n_folds \n",
    "\n",
    "    return np.mean(counters, axis = 0), std \n",
    "\n",
    "n_folds = 26\n",
    "horizon = 9999\n",
    "model = 'LeNet'\n",
    "\n",
    "material = {\n",
    "    #'EEneuralcbpside_v5': {'color': [255, 255, 0], 'label': 'EEneuralcbpside_v5'},  # Red\n",
    "    # 'ineural6': {'color': [51, 255, 255], 'label':'IneurAL (official)'},                    # Yellow\n",
    "    # 'ineural3': {'color': [0, 0, 255], 'label':'IneurAL (tuned)'},                    # Cyan\n",
    "    'neuronal6b': {'color': [255, 0, 255], 'label':'Neuronal (official)'},                  # Magenta\n",
    "    'neuronal3b': {'color': [160, 160, 160], 'label':'Neuronal (less exploration)'},                   # Orange\n",
    "    'EEneuralcbpside_v6': {'color': [255, 0, 0], 'label': 'Neural-CBP'},  # Red\n",
    "    # 'margin': {'color': [160, 160, 160], 'label':'Margin'},\n",
    "    # 'cesa': {'color': [0, 0, 255], 'label':'Cesa'},\n",
    "}\n",
    "\n",
    "fig = go.Figure( )\n",
    "\n",
    "data_models = {}\n",
    "perfs_final = {}\n",
    "explo_final = {}\n",
    "explo2_final = {}\n",
    "\n",
    "for model in ['LeNet']:  # 'LeNet'\n",
    "\n",
    "    # if model == 'MLP':\n",
    "    n_folds = 25\n",
    "    datasets = ['MNIST', 'FASHION', 'CIFAR10',] # \n",
    "    # else:\n",
    "    #     datasets = ['MNIST', 'FASHION', 'CIFAR10',]\n",
    "    #     n_folds = 25\n",
    "\n",
    "    data_regrets = {} \n",
    "    data_perfs = {} \n",
    "    data_explo = {}\n",
    "    data_explo2 = {}\n",
    "    for data in datasets: \n",
    "\n",
    "        # if data in ['MNIST', 'FASHION', 'CIFAR10']:\n",
    "        case = 'case2' \n",
    "        # elif data in ['covertype', 'shuttle']:\n",
    "        #     case = 'game_case_seven'\n",
    "        # else:\n",
    "        # case = 'case2'\n",
    "        \n",
    "        final_regrets = {}\n",
    "        final_perfs = {}\n",
    "        explo_perfs = {}\n",
    "        explo2_perfs = {}\n",
    "        for agent_name in material.keys():\n",
    "\n",
    "            color, l_label = material[agent_name]['color'], material[agent_name]['label']\n",
    "\n",
    "            r,g,b = color\n",
    "\n",
    "            # try:\n",
    "            direct = './results/'\n",
    "            path = os.path.join(direct, '{}_{}_{}_{}_{}_{}.pkl.gz'.format(case, model, data, horizon,n_folds,agent_name) )\n",
    "            print(path)\n",
    "            regret, action_history,outcome_history, perf = loadall_results2(path, n_folds)\n",
    "            regret = np.array(regret)\n",
    "            print(regret)\n",
    "            regret = regret#[1:]\n",
    "\n",
    "            final_regrets[l_label] = regret[:,-1] \n",
    "            final_perfs[l_label] = pd.DataFrame( format_perf(perf, model, data, l_label) )\n",
    "\n",
    "            m, s = convert_action_history(action_history, n_folds)\n",
    "            explo_perfs[l_label] = m\n",
    "            explo2_perfs[l_label] = s\n",
    "\n",
    "\n",
    "        if data == 'MNISTbinary':\n",
    "            data = 'MNISTbinary'\n",
    "        if data == 'FASHION':\n",
    "            data = 'FASHION'\n",
    "            \n",
    "        data_regrets[data] = final_regrets\n",
    "\n",
    "        dataframes_list = list(final_perfs.values())\n",
    "        concatenated_df = pd.concat(dataframes_list, axis=0)\n",
    "        data_perfs[data] = concatenated_df\n",
    "\n",
    "        data_explo[data] = explo_perfs\n",
    "        data_explo2[data] = explo2_perfs\n",
    "        \n",
    "    data_models[model] = data_regrets\n",
    "    dataframes_list = list(data_perfs.values())\n",
    "    concatenated_df = pd.concat(dataframes_list, axis=0)\n",
    "\n",
    "    explo_final[model] = data_explo\n",
    "    explo2_final[model] = data_explo2\n",
    "\n",
    "# fig.show()\n",
    "# fig.write_image(\"./figures/case1_{}_{}.pdf\".format(model, context) )"
   ]
  },
  {
   "cell_type": "code",
   "execution_count": 12,
   "metadata": {},
   "outputs": [],
   "source": [
    "import pandas as pd\n",
    "# pd.DataFrame(data_regrets)\n",
    "# data_regrets\n",
    "\n",
    "samples = []\n",
    "# Iterate over the dictionary to extract data\n",
    "for model, dataset in data_models.items():\n",
    "    for data, approach in dataset.items():\n",
    "        for appr, values in approach.items():\n",
    "            i = 0\n",
    "            for val in values:\n",
    "                # print(i, appr,val)\n",
    "                samples.append([i, model, data, appr, val])\n",
    "                i = i+1\n",
    "\n",
    "# Create a DataFrame\n",
    "df = pd.DataFrame(samples, columns=['Seed','Model', 'Dataset', 'Approach', 'Value'])\n",
    "df = pd.merge(df, concatenated_df, on=['Model', 'Dataset', 'Approach', 'Seed'])\n"
   ]
  },
  {
   "cell_type": "code",
   "execution_count": 13,
   "metadata": {},
   "outputs": [],
   "source": [
    "exclude_columns = ['Seed', 'Model', 'Dataset', 'Approach']\n",
    "\n",
    "agg_columns = [col for col in df.columns if col not in exclude_columns]\n",
    "\n",
    "df_mean = df.groupby(['Model', 'Dataset', 'Approach'])[agg_columns].agg(['mean',]) # 'std'\n",
    "df_mean.columns = df_mean.columns.get_level_values(0)\n",
    "df_mean = df_mean.reset_index()\n",
    "\n",
    "df_std = df.groupby(['Model', 'Dataset', 'Approach'])[agg_columns].agg(['std',]) # 'std'\n",
    "df_std.columns = df_std.columns.get_level_values(0)\n",
    "df_std = df_std.reset_index()\n"
   ]
  },
  {
   "cell_type": "code",
   "execution_count": 36,
   "metadata": {},
   "outputs": [
    {
     "data": {
      "text/html": [
       "<div>\n",
       "<style scoped>\n",
       "    .dataframe tbody tr th:only-of-type {\n",
       "        vertical-align: middle;\n",
       "    }\n",
       "\n",
       "    .dataframe tbody tr th {\n",
       "        vertical-align: top;\n",
       "    }\n",
       "\n",
       "    .dataframe thead th {\n",
       "        text-align: right;\n",
       "    }\n",
       "</style>\n",
       "<table border=\"1\" class=\"dataframe\">\n",
       "  <thead>\n",
       "    <tr style=\"text-align: right;\">\n",
       "      <th></th>\n",
       "      <th>Model</th>\n",
       "      <th>Dataset</th>\n",
       "      <th>Approach</th>\n",
       "      <th>Value</th>\n",
       "      <th>f1_10</th>\n",
       "      <th>f1_25</th>\n",
       "      <th>f1_50</th>\n",
       "      <th>f1_100</th>\n",
       "      <th>f1_150</th>\n",
       "      <th>f1_250</th>\n",
       "      <th>f1_300</th>\n",
       "      <th>f1_400</th>\n",
       "      <th>f1_500</th>\n",
       "      <th>f1_750</th>\n",
       "      <th>f1_1000</th>\n",
       "      <th>f1_2500</th>\n",
       "      <th>f1_5000</th>\n",
       "      <th>f1_7500</th>\n",
       "    </tr>\n",
       "  </thead>\n",
       "  <tbody>\n",
       "    <tr>\n",
       "      <th>0</th>\n",
       "      <td>LeNet</td>\n",
       "      <td>CIFAR10</td>\n",
       "      <td>Neural-CBP</td>\n",
       "      <td>6865.920000</td>\n",
       "      <td>0.097385</td>\n",
       "      <td>0.115331</td>\n",
       "      <td>0.168589</td>\n",
       "      <td>0.219163</td>\n",
       "      <td>0.247541</td>\n",
       "      <td>0.285635</td>\n",
       "      <td>0.292686</td>\n",
       "      <td>0.306059</td>\n",
       "      <td>0.320159</td>\n",
       "      <td>0.355317</td>\n",
       "      <td>0.380590</td>\n",
       "      <td>0.422157</td>\n",
       "      <td>NaN</td>\n",
       "      <td>NaN</td>\n",
       "    </tr>\n",
       "    <tr>\n",
       "      <th>1</th>\n",
       "      <td>LeNet</td>\n",
       "      <td>CIFAR10</td>\n",
       "      <td>Neuronal (less exploration)</td>\n",
       "      <td>9007.000000</td>\n",
       "      <td>NaN</td>\n",
       "      <td>NaN</td>\n",
       "      <td>NaN</td>\n",
       "      <td>NaN</td>\n",
       "      <td>NaN</td>\n",
       "      <td>NaN</td>\n",
       "      <td>NaN</td>\n",
       "      <td>NaN</td>\n",
       "      <td>NaN</td>\n",
       "      <td>NaN</td>\n",
       "      <td>NaN</td>\n",
       "      <td>NaN</td>\n",
       "      <td>NaN</td>\n",
       "      <td>NaN</td>\n",
       "    </tr>\n",
       "    <tr>\n",
       "      <th>2</th>\n",
       "      <td>LeNet</td>\n",
       "      <td>CIFAR10</td>\n",
       "      <td>Neuronal (official)</td>\n",
       "      <td>8768.920000</td>\n",
       "      <td>0.091751</td>\n",
       "      <td>0.133348</td>\n",
       "      <td>0.147701</td>\n",
       "      <td>0.198132</td>\n",
       "      <td>0.225937</td>\n",
       "      <td>0.258967</td>\n",
       "      <td>0.269405</td>\n",
       "      <td>0.290470</td>\n",
       "      <td>0.328279</td>\n",
       "      <td>0.358477</td>\n",
       "      <td>0.378876</td>\n",
       "      <td>0.433447</td>\n",
       "      <td>0.454055</td>\n",
       "      <td>0.439904</td>\n",
       "    </tr>\n",
       "    <tr>\n",
       "      <th>3</th>\n",
       "      <td>LeNet</td>\n",
       "      <td>FASHION</td>\n",
       "      <td>Neural-CBP</td>\n",
       "      <td>2749.720000</td>\n",
       "      <td>0.251802</td>\n",
       "      <td>0.395345</td>\n",
       "      <td>0.548451</td>\n",
       "      <td>0.669417</td>\n",
       "      <td>0.698728</td>\n",
       "      <td>0.741178</td>\n",
       "      <td>0.753342</td>\n",
       "      <td>0.771570</td>\n",
       "      <td>0.786685</td>\n",
       "      <td>NaN</td>\n",
       "      <td>NaN</td>\n",
       "      <td>NaN</td>\n",
       "      <td>NaN</td>\n",
       "      <td>NaN</td>\n",
       "    </tr>\n",
       "    <tr>\n",
       "      <th>4</th>\n",
       "      <td>LeNet</td>\n",
       "      <td>FASHION</td>\n",
       "      <td>Neuronal (less exploration)</td>\n",
       "      <td>9000.680000</td>\n",
       "      <td>NaN</td>\n",
       "      <td>NaN</td>\n",
       "      <td>NaN</td>\n",
       "      <td>NaN</td>\n",
       "      <td>NaN</td>\n",
       "      <td>NaN</td>\n",
       "      <td>NaN</td>\n",
       "      <td>NaN</td>\n",
       "      <td>NaN</td>\n",
       "      <td>NaN</td>\n",
       "      <td>NaN</td>\n",
       "      <td>NaN</td>\n",
       "      <td>NaN</td>\n",
       "      <td>NaN</td>\n",
       "    </tr>\n",
       "    <tr>\n",
       "      <th>5</th>\n",
       "      <td>LeNet</td>\n",
       "      <td>FASHION</td>\n",
       "      <td>Neuronal (official)</td>\n",
       "      <td>7052.880000</td>\n",
       "      <td>0.269878</td>\n",
       "      <td>0.460089</td>\n",
       "      <td>0.476621</td>\n",
       "      <td>0.641366</td>\n",
       "      <td>0.702059</td>\n",
       "      <td>0.743418</td>\n",
       "      <td>0.756936</td>\n",
       "      <td>0.774419</td>\n",
       "      <td>0.782827</td>\n",
       "      <td>0.798236</td>\n",
       "      <td>0.808262</td>\n",
       "      <td>0.829296</td>\n",
       "      <td>NaN</td>\n",
       "      <td>NaN</td>\n",
       "    </tr>\n",
       "    <tr>\n",
       "      <th>6</th>\n",
       "      <td>LeNet</td>\n",
       "      <td>MNIST</td>\n",
       "      <td>Neural-CBP</td>\n",
       "      <td>954.458333</td>\n",
       "      <td>0.321051</td>\n",
       "      <td>0.448586</td>\n",
       "      <td>0.727653</td>\n",
       "      <td>0.870108</td>\n",
       "      <td>0.905042</td>\n",
       "      <td>0.940454</td>\n",
       "      <td>0.948579</td>\n",
       "      <td>0.959865</td>\n",
       "      <td>NaN</td>\n",
       "      <td>NaN</td>\n",
       "      <td>NaN</td>\n",
       "      <td>NaN</td>\n",
       "      <td>NaN</td>\n",
       "      <td>NaN</td>\n",
       "    </tr>\n",
       "    <tr>\n",
       "      <th>7</th>\n",
       "      <td>LeNet</td>\n",
       "      <td>MNIST</td>\n",
       "      <td>Neuronal (less exploration)</td>\n",
       "      <td>9007.360000</td>\n",
       "      <td>NaN</td>\n",
       "      <td>NaN</td>\n",
       "      <td>NaN</td>\n",
       "      <td>NaN</td>\n",
       "      <td>NaN</td>\n",
       "      <td>NaN</td>\n",
       "      <td>NaN</td>\n",
       "      <td>NaN</td>\n",
       "      <td>NaN</td>\n",
       "      <td>NaN</td>\n",
       "      <td>NaN</td>\n",
       "      <td>NaN</td>\n",
       "      <td>NaN</td>\n",
       "      <td>NaN</td>\n",
       "    </tr>\n",
       "    <tr>\n",
       "      <th>8</th>\n",
       "      <td>LeNet</td>\n",
       "      <td>MNIST</td>\n",
       "      <td>Neuronal (official)</td>\n",
       "      <td>5940.480000</td>\n",
       "      <td>0.337975</td>\n",
       "      <td>0.546690</td>\n",
       "      <td>0.655714</td>\n",
       "      <td>0.808971</td>\n",
       "      <td>0.885965</td>\n",
       "      <td>0.929160</td>\n",
       "      <td>0.940176</td>\n",
       "      <td>0.950535</td>\n",
       "      <td>0.957709</td>\n",
       "      <td>0.968101</td>\n",
       "      <td>0.975340</td>\n",
       "      <td>NaN</td>\n",
       "      <td>NaN</td>\n",
       "      <td>NaN</td>\n",
       "    </tr>\n",
       "  </tbody>\n",
       "</table>\n",
       "</div>"
      ],
      "text/plain": [
       "   Model  Dataset                     Approach        Value     f1_10  \\\n",
       "0  LeNet  CIFAR10                   Neural-CBP  6865.920000  0.097385   \n",
       "1  LeNet  CIFAR10  Neuronal (less exploration)  9007.000000       NaN   \n",
       "2  LeNet  CIFAR10          Neuronal (official)  8768.920000  0.091751   \n",
       "3  LeNet  FASHION                   Neural-CBP  2749.720000  0.251802   \n",
       "4  LeNet  FASHION  Neuronal (less exploration)  9000.680000       NaN   \n",
       "5  LeNet  FASHION          Neuronal (official)  7052.880000  0.269878   \n",
       "6  LeNet    MNIST                   Neural-CBP   954.458333  0.321051   \n",
       "7  LeNet    MNIST  Neuronal (less exploration)  9007.360000       NaN   \n",
       "8  LeNet    MNIST          Neuronal (official)  5940.480000  0.337975   \n",
       "\n",
       "      f1_25     f1_50    f1_100    f1_150    f1_250    f1_300    f1_400  \\\n",
       "0  0.115331  0.168589  0.219163  0.247541  0.285635  0.292686  0.306059   \n",
       "1       NaN       NaN       NaN       NaN       NaN       NaN       NaN   \n",
       "2  0.133348  0.147701  0.198132  0.225937  0.258967  0.269405  0.290470   \n",
       "3  0.395345  0.548451  0.669417  0.698728  0.741178  0.753342  0.771570   \n",
       "4       NaN       NaN       NaN       NaN       NaN       NaN       NaN   \n",
       "5  0.460089  0.476621  0.641366  0.702059  0.743418  0.756936  0.774419   \n",
       "6  0.448586  0.727653  0.870108  0.905042  0.940454  0.948579  0.959865   \n",
       "7       NaN       NaN       NaN       NaN       NaN       NaN       NaN   \n",
       "8  0.546690  0.655714  0.808971  0.885965  0.929160  0.940176  0.950535   \n",
       "\n",
       "     f1_500    f1_750   f1_1000   f1_2500   f1_5000   f1_7500  \n",
       "0  0.320159  0.355317  0.380590  0.422157       NaN       NaN  \n",
       "1       NaN       NaN       NaN       NaN       NaN       NaN  \n",
       "2  0.328279  0.358477  0.378876  0.433447  0.454055  0.439904  \n",
       "3  0.786685       NaN       NaN       NaN       NaN       NaN  \n",
       "4       NaN       NaN       NaN       NaN       NaN       NaN  \n",
       "5  0.782827  0.798236  0.808262  0.829296       NaN       NaN  \n",
       "6       NaN       NaN       NaN       NaN       NaN       NaN  \n",
       "7       NaN       NaN       NaN       NaN       NaN       NaN  \n",
       "8  0.957709  0.968101  0.975340       NaN       NaN       NaN  "
      ]
     },
     "execution_count": 36,
     "metadata": {},
     "output_type": "execute_result"
    }
   ],
   "source": [
    "df_mean"
   ]
  },
  {
   "cell_type": "code",
   "execution_count": 18,
   "metadata": {},
   "outputs": [
    {
     "data": {
      "application/vnd.plotly.v1+json": {
       "config": {
        "plotlyServerURL": "https://plot.ly"
       },
       "data": [
        {
         "error_y": {
          "array": [
           0.0020708482051750433,
           0.0017024669732896589,
           0.002146280348476673,
           0.0017497832688975546,
           0.0018200647927428524,
           0.0014222875562422182,
           0.001297352449043356,
           0.001347535040921155,
           0.0011320261865554488,
           0.0009499223203841904,
           0.001051736059471948,
           0.0007915273085286821,
           0.0009899379710481026,
           0.0010220564053738243
          ],
          "thickness": 1,
          "type": "data",
          "visible": true,
          "width": 3
         },
         "line": {
          "color": "rgba(255,102,146,1)",
          "dash": "solid",
          "width": 2
         },
         "marker": {
          "size": 2.5
         },
         "name": "Neuronal (official)",
         "type": "scatter",
         "x": [
          10,
          25,
          50,
          100,
          150,
          250,
          300,
          400,
          500,
          750,
          1000,
          2500,
          5000,
          7500,
          9000
         ],
         "xaxis": "x",
         "y": [
          0.10146305029952468,
          0.1485826307180463,
          0.16804233087349071,
          0.2157016294571641,
          0.24717691431550926,
          0.28044807605799693,
          0.2936026034020094,
          0.31456687936839656,
          0.3332335352799982,
          0.36438295983700386,
          0.38098241919925413,
          0.435167897894203,
          0.4577009722676142,
          0.4470243154017044
         ],
         "yaxis": "y"
        },
        {
         "error_y": {
          "array": [
           0.0024069423042583442,
           0.002445580167733964,
           0.002137490788191553,
           0.0018837124548949837,
           0.0021421929246725454,
           0.001478401251491181,
           0.0012181337629083842,
           0.0011052757151449846,
           0.0011671441768535639,
           0.0008993287854843045,
           0.0015626152767387227,
           0.0008741096648303856,
           0.0010695362352729392,
           null
          ],
          "thickness": 1,
          "type": "data",
          "visible": true,
          "width": 3
         },
         "line": {
          "color": "rgba(182,232,128,1)",
          "dash": "solid",
          "width": 2
         },
         "marker": {
          "size": 2.5
         },
         "name": "Neuronal (less exploration)",
         "type": "scatter",
         "x": [
          10,
          25,
          50,
          100,
          150,
          250,
          300,
          400,
          500,
          750,
          1000,
          2500,
          5000,
          7500,
          9000
         ],
         "xaxis": "x",
         "y": [
          0.09396483876306257,
          0.13591891161910927,
          0.1469431624042924,
          0.21352624863280376,
          0.24346088412662484,
          0.28317875491260175,
          0.2970862968826452,
          0.3169590000321558,
          0.33529094322115677,
          0.3580381121018718,
          0.3650607363448423,
          0.4351056688228557,
          0.44122479627788685,
          null
         ],
         "yaxis": "y"
        },
        {
         "error_y": {
          "array": [
           0.0016829843736872832,
           0.002030071962984343,
           0.002295302154118877,
           0.0018659296108903226,
           0.0015170089384118287,
           0.0016708824954004442,
           0.0013217124567048385,
           0.0016922788970072835,
           0.0009491595654667514,
           0.001202827599121552,
           0.0009691899493327812,
           0.0015596977570339055,
           null,
           null
          ],
          "thickness": 1,
          "type": "data",
          "visible": true,
          "width": 3
         },
         "line": {
          "color": "rgba(171,99,250,1)",
          "dash": "solid",
          "width": 2
         },
         "marker": {
          "size": 2.5
         },
         "name": "Neural-CBP",
         "type": "scatter",
         "x": [
          10,
          25,
          50,
          100,
          150,
          250,
          300,
          400,
          500,
          750,
          1000,
          2500,
          5000,
          7500,
          9000
         ],
         "xaxis": "x",
         "y": [
          0.09738532640457398,
          0.11533104278449867,
          0.16858856514702303,
          0.21916319836806245,
          0.24754063626363454,
          0.2856345039676735,
          0.2926861010729614,
          0.3060593087413441,
          0.3201594380060242,
          0.35531690760355206,
          0.38059039701994346,
          0.42215666264373325,
          null,
          null
         ],
         "yaxis": "y"
        }
       ],
       "layout": {
        "height": 180,
        "margin": {
         "b": 0,
         "l": 0,
         "r": 0,
         "t": 3
        },
        "paper_bgcolor": "white",
        "plot_bgcolor": "white",
        "showlegend": false,
        "template": {
         "data": {
          "bar": [
           {
            "error_x": {
             "color": "#2a3f5f"
            },
            "error_y": {
             "color": "#2a3f5f"
            },
            "marker": {
             "line": {
              "color": "#E5ECF6",
              "width": 0.5
             },
             "pattern": {
              "fillmode": "overlay",
              "size": 10,
              "solidity": 0.2
             }
            },
            "type": "bar"
           }
          ],
          "barpolar": [
           {
            "marker": {
             "line": {
              "color": "#E5ECF6",
              "width": 0.5
             },
             "pattern": {
              "fillmode": "overlay",
              "size": 10,
              "solidity": 0.2
             }
            },
            "type": "barpolar"
           }
          ],
          "carpet": [
           {
            "aaxis": {
             "endlinecolor": "#2a3f5f",
             "gridcolor": "white",
             "linecolor": "white",
             "minorgridcolor": "white",
             "startlinecolor": "#2a3f5f"
            },
            "baxis": {
             "endlinecolor": "#2a3f5f",
             "gridcolor": "white",
             "linecolor": "white",
             "minorgridcolor": "white",
             "startlinecolor": "#2a3f5f"
            },
            "type": "carpet"
           }
          ],
          "choropleth": [
           {
            "colorbar": {
             "outlinewidth": 0,
             "ticks": ""
            },
            "type": "choropleth"
           }
          ],
          "contour": [
           {
            "colorbar": {
             "outlinewidth": 0,
             "ticks": ""
            },
            "colorscale": [
             [
              0,
              "#0d0887"
             ],
             [
              0.1111111111111111,
              "#46039f"
             ],
             [
              0.2222222222222222,
              "#7201a8"
             ],
             [
              0.3333333333333333,
              "#9c179e"
             ],
             [
              0.4444444444444444,
              "#bd3786"
             ],
             [
              0.5555555555555556,
              "#d8576b"
             ],
             [
              0.6666666666666666,
              "#ed7953"
             ],
             [
              0.7777777777777778,
              "#fb9f3a"
             ],
             [
              0.8888888888888888,
              "#fdca26"
             ],
             [
              1,
              "#f0f921"
             ]
            ],
            "type": "contour"
           }
          ],
          "contourcarpet": [
           {
            "colorbar": {
             "outlinewidth": 0,
             "ticks": ""
            },
            "type": "contourcarpet"
           }
          ],
          "heatmap": [
           {
            "colorbar": {
             "outlinewidth": 0,
             "ticks": ""
            },
            "colorscale": [
             [
              0,
              "#0d0887"
             ],
             [
              0.1111111111111111,
              "#46039f"
             ],
             [
              0.2222222222222222,
              "#7201a8"
             ],
             [
              0.3333333333333333,
              "#9c179e"
             ],
             [
              0.4444444444444444,
              "#bd3786"
             ],
             [
              0.5555555555555556,
              "#d8576b"
             ],
             [
              0.6666666666666666,
              "#ed7953"
             ],
             [
              0.7777777777777778,
              "#fb9f3a"
             ],
             [
              0.8888888888888888,
              "#fdca26"
             ],
             [
              1,
              "#f0f921"
             ]
            ],
            "type": "heatmap"
           }
          ],
          "heatmapgl": [
           {
            "colorbar": {
             "outlinewidth": 0,
             "ticks": ""
            },
            "colorscale": [
             [
              0,
              "#0d0887"
             ],
             [
              0.1111111111111111,
              "#46039f"
             ],
             [
              0.2222222222222222,
              "#7201a8"
             ],
             [
              0.3333333333333333,
              "#9c179e"
             ],
             [
              0.4444444444444444,
              "#bd3786"
             ],
             [
              0.5555555555555556,
              "#d8576b"
             ],
             [
              0.6666666666666666,
              "#ed7953"
             ],
             [
              0.7777777777777778,
              "#fb9f3a"
             ],
             [
              0.8888888888888888,
              "#fdca26"
             ],
             [
              1,
              "#f0f921"
             ]
            ],
            "type": "heatmapgl"
           }
          ],
          "histogram": [
           {
            "marker": {
             "pattern": {
              "fillmode": "overlay",
              "size": 10,
              "solidity": 0.2
             }
            },
            "type": "histogram"
           }
          ],
          "histogram2d": [
           {
            "colorbar": {
             "outlinewidth": 0,
             "ticks": ""
            },
            "colorscale": [
             [
              0,
              "#0d0887"
             ],
             [
              0.1111111111111111,
              "#46039f"
             ],
             [
              0.2222222222222222,
              "#7201a8"
             ],
             [
              0.3333333333333333,
              "#9c179e"
             ],
             [
              0.4444444444444444,
              "#bd3786"
             ],
             [
              0.5555555555555556,
              "#d8576b"
             ],
             [
              0.6666666666666666,
              "#ed7953"
             ],
             [
              0.7777777777777778,
              "#fb9f3a"
             ],
             [
              0.8888888888888888,
              "#fdca26"
             ],
             [
              1,
              "#f0f921"
             ]
            ],
            "type": "histogram2d"
           }
          ],
          "histogram2dcontour": [
           {
            "colorbar": {
             "outlinewidth": 0,
             "ticks": ""
            },
            "colorscale": [
             [
              0,
              "#0d0887"
             ],
             [
              0.1111111111111111,
              "#46039f"
             ],
             [
              0.2222222222222222,
              "#7201a8"
             ],
             [
              0.3333333333333333,
              "#9c179e"
             ],
             [
              0.4444444444444444,
              "#bd3786"
             ],
             [
              0.5555555555555556,
              "#d8576b"
             ],
             [
              0.6666666666666666,
              "#ed7953"
             ],
             [
              0.7777777777777778,
              "#fb9f3a"
             ],
             [
              0.8888888888888888,
              "#fdca26"
             ],
             [
              1,
              "#f0f921"
             ]
            ],
            "type": "histogram2dcontour"
           }
          ],
          "mesh3d": [
           {
            "colorbar": {
             "outlinewidth": 0,
             "ticks": ""
            },
            "type": "mesh3d"
           }
          ],
          "parcoords": [
           {
            "line": {
             "colorbar": {
              "outlinewidth": 0,
              "ticks": ""
             }
            },
            "type": "parcoords"
           }
          ],
          "pie": [
           {
            "automargin": true,
            "type": "pie"
           }
          ],
          "scatter": [
           {
            "fillpattern": {
             "fillmode": "overlay",
             "size": 10,
             "solidity": 0.2
            },
            "type": "scatter"
           }
          ],
          "scatter3d": [
           {
            "line": {
             "colorbar": {
              "outlinewidth": 0,
              "ticks": ""
             }
            },
            "marker": {
             "colorbar": {
              "outlinewidth": 0,
              "ticks": ""
             }
            },
            "type": "scatter3d"
           }
          ],
          "scattercarpet": [
           {
            "marker": {
             "colorbar": {
              "outlinewidth": 0,
              "ticks": ""
             }
            },
            "type": "scattercarpet"
           }
          ],
          "scattergeo": [
           {
            "marker": {
             "colorbar": {
              "outlinewidth": 0,
              "ticks": ""
             }
            },
            "type": "scattergeo"
           }
          ],
          "scattergl": [
           {
            "marker": {
             "colorbar": {
              "outlinewidth": 0,
              "ticks": ""
             }
            },
            "type": "scattergl"
           }
          ],
          "scattermapbox": [
           {
            "marker": {
             "colorbar": {
              "outlinewidth": 0,
              "ticks": ""
             }
            },
            "type": "scattermapbox"
           }
          ],
          "scatterpolar": [
           {
            "marker": {
             "colorbar": {
              "outlinewidth": 0,
              "ticks": ""
             }
            },
            "type": "scatterpolar"
           }
          ],
          "scatterpolargl": [
           {
            "marker": {
             "colorbar": {
              "outlinewidth": 0,
              "ticks": ""
             }
            },
            "type": "scatterpolargl"
           }
          ],
          "scatterternary": [
           {
            "marker": {
             "colorbar": {
              "outlinewidth": 0,
              "ticks": ""
             }
            },
            "type": "scatterternary"
           }
          ],
          "surface": [
           {
            "colorbar": {
             "outlinewidth": 0,
             "ticks": ""
            },
            "colorscale": [
             [
              0,
              "#0d0887"
             ],
             [
              0.1111111111111111,
              "#46039f"
             ],
             [
              0.2222222222222222,
              "#7201a8"
             ],
             [
              0.3333333333333333,
              "#9c179e"
             ],
             [
              0.4444444444444444,
              "#bd3786"
             ],
             [
              0.5555555555555556,
              "#d8576b"
             ],
             [
              0.6666666666666666,
              "#ed7953"
             ],
             [
              0.7777777777777778,
              "#fb9f3a"
             ],
             [
              0.8888888888888888,
              "#fdca26"
             ],
             [
              1,
              "#f0f921"
             ]
            ],
            "type": "surface"
           }
          ],
          "table": [
           {
            "cells": {
             "fill": {
              "color": "#EBF0F8"
             },
             "line": {
              "color": "white"
             }
            },
            "header": {
             "fill": {
              "color": "#C8D4E3"
             },
             "line": {
              "color": "white"
             }
            },
            "type": "table"
           }
          ]
         },
         "layout": {
          "annotationdefaults": {
           "arrowcolor": "#2a3f5f",
           "arrowhead": 0,
           "arrowwidth": 1
          },
          "autotypenumbers": "strict",
          "coloraxis": {
           "colorbar": {
            "outlinewidth": 0,
            "ticks": ""
           }
          },
          "colorscale": {
           "diverging": [
            [
             0,
             "#8e0152"
            ],
            [
             0.1,
             "#c51b7d"
            ],
            [
             0.2,
             "#de77ae"
            ],
            [
             0.3,
             "#f1b6da"
            ],
            [
             0.4,
             "#fde0ef"
            ],
            [
             0.5,
             "#f7f7f7"
            ],
            [
             0.6,
             "#e6f5d0"
            ],
            [
             0.7,
             "#b8e186"
            ],
            [
             0.8,
             "#7fbc41"
            ],
            [
             0.9,
             "#4d9221"
            ],
            [
             1,
             "#276419"
            ]
           ],
           "sequential": [
            [
             0,
             "#0d0887"
            ],
            [
             0.1111111111111111,
             "#46039f"
            ],
            [
             0.2222222222222222,
             "#7201a8"
            ],
            [
             0.3333333333333333,
             "#9c179e"
            ],
            [
             0.4444444444444444,
             "#bd3786"
            ],
            [
             0.5555555555555556,
             "#d8576b"
            ],
            [
             0.6666666666666666,
             "#ed7953"
            ],
            [
             0.7777777777777778,
             "#fb9f3a"
            ],
            [
             0.8888888888888888,
             "#fdca26"
            ],
            [
             1,
             "#f0f921"
            ]
           ],
           "sequentialminus": [
            [
             0,
             "#0d0887"
            ],
            [
             0.1111111111111111,
             "#46039f"
            ],
            [
             0.2222222222222222,
             "#7201a8"
            ],
            [
             0.3333333333333333,
             "#9c179e"
            ],
            [
             0.4444444444444444,
             "#bd3786"
            ],
            [
             0.5555555555555556,
             "#d8576b"
            ],
            [
             0.6666666666666666,
             "#ed7953"
            ],
            [
             0.7777777777777778,
             "#fb9f3a"
            ],
            [
             0.8888888888888888,
             "#fdca26"
            ],
            [
             1,
             "#f0f921"
            ]
           ]
          },
          "colorway": [
           "#636efa",
           "#EF553B",
           "#00cc96",
           "#ab63fa",
           "#FFA15A",
           "#19d3f3",
           "#FF6692",
           "#B6E880",
           "#FF97FF",
           "#FECB52"
          ],
          "font": {
           "color": "#2a3f5f"
          },
          "geo": {
           "bgcolor": "white",
           "lakecolor": "white",
           "landcolor": "#E5ECF6",
           "showlakes": true,
           "showland": true,
           "subunitcolor": "white"
          },
          "hoverlabel": {
           "align": "left"
          },
          "hovermode": "closest",
          "mapbox": {
           "style": "light"
          },
          "paper_bgcolor": "white",
          "plot_bgcolor": "#E5ECF6",
          "polar": {
           "angularaxis": {
            "gridcolor": "white",
            "linecolor": "white",
            "ticks": ""
           },
           "bgcolor": "#E5ECF6",
           "radialaxis": {
            "gridcolor": "white",
            "linecolor": "white",
            "ticks": ""
           }
          },
          "scene": {
           "xaxis": {
            "backgroundcolor": "#E5ECF6",
            "gridcolor": "white",
            "gridwidth": 2,
            "linecolor": "white",
            "showbackground": true,
            "ticks": "",
            "zerolinecolor": "white"
           },
           "yaxis": {
            "backgroundcolor": "#E5ECF6",
            "gridcolor": "white",
            "gridwidth": 2,
            "linecolor": "white",
            "showbackground": true,
            "ticks": "",
            "zerolinecolor": "white"
           },
           "zaxis": {
            "backgroundcolor": "#E5ECF6",
            "gridcolor": "white",
            "gridwidth": 2,
            "linecolor": "white",
            "showbackground": true,
            "ticks": "",
            "zerolinecolor": "white"
           }
          },
          "shapedefaults": {
           "line": {
            "color": "#2a3f5f"
           }
          },
          "ternary": {
           "aaxis": {
            "gridcolor": "white",
            "linecolor": "white",
            "ticks": ""
           },
           "baxis": {
            "gridcolor": "white",
            "linecolor": "white",
            "ticks": ""
           },
           "bgcolor": "#E5ECF6",
           "caxis": {
            "gridcolor": "white",
            "linecolor": "white",
            "ticks": ""
           }
          },
          "title": {
           "x": 0.05
          },
          "xaxis": {
           "automargin": true,
           "gridcolor": "white",
           "linecolor": "white",
           "ticks": "",
           "title": {
            "standoff": 15
           },
           "zerolinecolor": "white",
           "zerolinewidth": 2
          },
          "yaxis": {
           "automargin": true,
           "gridcolor": "white",
           "linecolor": "white",
           "ticks": "",
           "title": {
            "standoff": 15
           },
           "zerolinecolor": "white",
           "zerolinewidth": 2
          }
         }
        },
        "width": 220,
        "xaxis": {
         "anchor": "y",
         "domain": [
          0,
          1
         ],
         "gridcolor": "lightgrey",
         "tickfont": {
          "size": 10.5
         },
         "tickmode": "array",
         "title": {
          "font": {
           "size": 10.5
          },
          "standoff": 5,
          "text": "Expert query volume"
         },
         "type": "log"
        },
        "yaxis": {
         "anchor": "x",
         "domain": [
          0,
          1
         ],
         "gridcolor": "lightgrey",
         "tickfont": {
          "size": 10.5
         },
         "tickvals": [
          0,
          0.1,
          0.2,
          0.3,
          0.4,
          0.5,
          0.6,
          0.7,
          0.8,
          0.9,
          1
         ],
         "title": {
          "font": {
           "size": 10.5
          },
          "standoff": 5,
          "text": "f1-score"
         }
        }
       }
      }
     },
     "metadata": {},
     "output_type": "display_data"
    }
   ],
   "source": [
    "import plotly.graph_objects as go\n",
    "from plotly.subplots import make_subplots\n",
    "import numpy as np\n",
    "\n",
    "import plotly.graph_objects as go\n",
    "import plotly.express as px\n",
    "\n",
    "dataset = 'CIFAR10'\n",
    "\n",
    "approaches = {\n",
    "    #'EEneuralcbpside_v5': {'color': [255, 255, 0], 'label': 'EEneuralcbpside_v5'},  # Red\n",
    "    # 'IneurAL (official)': {'color': [255, 161, 90], 'label':'IneurAL6'},                    # Yellow\n",
    "    # 'IneurAL (tuned)': {'color': [25, 211, 243], 'label':'IneurAL3'},                    # Cyan\n",
    "    'Neuronal (official)': {'color': [255, 102, 146], 'label':'neuronal6'},                  # Magenta\n",
    "    'Neuronal (less exploration)': {'color': [182, 232, 128], 'label':'neuronal3'} ,                  # Orange\n",
    "    'Neural-CBP': {'color': [171, 99, 250], 'label': 'EEneuralcbpside_v6'},  # Red\n",
    "    # 'margin': {'color': [160, 160, 160], 'label':'margin'},\n",
    "    # 'cesa': {'color': [0, 0, 255], 'label':'cesa'},\n",
    "}\n",
    "\n",
    "thresholds = ['f1_10', 'f1_25', 'f1_50', 'f1_100', 'f1_150',\n",
    "              'f1_250', 'f1_300', 'f1_400', 'f1_500', 'f1_750', \n",
    "              'f1_1000', 'f1_2500', 'f1_5000', 'f1_7500', ]\n",
    "\n",
    "\n",
    "# Create a subplot with 1 row and 2 columns\n",
    "fig = make_subplots(rows=1, cols=1, ) #subplot_titles=(\"f1-score\", \"# of labelled observations\")\n",
    "\n",
    "# Add your traces for the first figure to the first subplot\n",
    "for approach in approaches.keys():\n",
    "    # ... [your existing code for calculating mean_values, std_values, and color] ...\n",
    "    mean_values = [] \n",
    "    std_values = []\n",
    "    r,g,b = approaches[approach]['color']\n",
    "    \n",
    "    for threshold in thresholds:\n",
    "        mean_value = df_mean[(df_mean['Dataset'] == dataset) & (df_mean['Approach'] == approach)][threshold].values[0]\n",
    "        mean_values.append(mean_value)\n",
    "\n",
    "        std_value = df_std[(df_std['Dataset'] == dataset) & (df_std['Approach'] == approach)][threshold].values[0]\n",
    "        std_values.append( 2.575 * std_value / n_folds  )\n",
    "\n",
    "        # std_values.append(std_value)\n",
    "\n",
    "    fig.add_trace(go.Scatter(\n",
    "        x=[10, 25, 50, 100, 150, 250, 300, 400, 500, 750, 1000, 2500, 5000, 7500, 9000], \n",
    "        y=mean_values,\n",
    "        error_y=dict(type='data', array=std_values, visible=True, thickness=1, width=3),\n",
    "        line=dict(dash='solid', width=2, color='rgba({},{},{},1)'.format(r,g,b)),\n",
    "        marker=dict(size=2.5),\n",
    "        name=approach), \n",
    "        row=1, col=1)\n",
    "\n",
    "# Add your traces for the second figure to the second subplot\n",
    "# for approach in approaches.keys():\n",
    "#     # ... [your existing code for calculating explo_value, upper, and color] ...\n",
    "#     r,g,b = approaches[approach]['color']\n",
    "#     explo_value = explo_final['LeNet'][dataset][approach]\n",
    "#     upper = explo_value + explo2_final['LeNet'][dataset][approach]\n",
    "#     xcoords = np.arange(0,horizon,1).tolist()\n",
    "\n",
    "#     fig.add_trace(go.Scatter(\n",
    "#         x=xcoords+xcoords[::-1], \n",
    "#         y=upper.tolist()+explo_value.tolist()[::-1],  \n",
    "#         fill='toself',\n",
    "#         fillcolor='rgba({},{},{},0.2)'.format(r,g,b),\n",
    "#         line=dict(color='rgba({},{},{},1)'.format(r,g,b), width=0),\n",
    "#         hoverinfo=\"skip\"),\n",
    "#         row=1, col=2)\n",
    "    \n",
    "#     fig.add_trace(go.Scatter(\n",
    "#         x=xcoords, \n",
    "#         y=explo_value,\n",
    "#         line=dict(dash='solid', width=2, color='rgba({},{},{},1)'.format(r,g,b)),\n",
    "#         name=approach), \n",
    "#         row=1, col=2)\n",
    "\n",
    "# Update layout and axes for the combined figure\n",
    "siz = 12.5\n",
    "fig.update_layout(\n",
    "    width=220,  # Adjusted for two subplots\n",
    "    height=180,\n",
    "    plot_bgcolor='white',\n",
    "    paper_bgcolor='white',\n",
    "    margin=dict(l=0, r=0, t=3, b=0),\n",
    "    showlegend=False\n",
    ")\n",
    "\n",
    "# Update xaxis and yaxis properties for each subplot\n",
    "fig.update_xaxes(title_text=\"Expert query volume\", row=1, col=1, gridcolor='lightgrey', tickmode='array', type=\"log\", title_standoff=5, title_font=dict(size=siz-2), tickfont=dict(size=siz-2))\n",
    "fig.update_yaxes(\n",
    "    title_text=\"f1-score\",\n",
    "    row=1, col=1,\n",
    "    #range=[0, 1.05],\n",
    "    gridcolor='lightgrey',\n",
    "    title_standoff=5,\n",
    "    title_font=dict(size=siz-2),\n",
    "    tickfont=dict(size=siz-2),\n",
    "    tickvals=[0, 0.1, 0.2, 0.3, 0.4, 0.5, 0.6, 0.7, 0.8, 0.9, 1]  # Set custom tick values\n",
    ")\n",
    "\n",
    "# fig.update_xaxes(title_text=\"Round\", row=1, col=2, gridcolor='lightgrey', tickmode='array', title_standoff=5, title_font=dict(size=siz-2), tickfont=dict(size=siz-2))\n",
    "# fig.update_yaxes(title_text=\"# of labelled observations\", row=1, col=2, range=[0,4.5], gridcolor='lightgrey',type=\"log\", title_standoff=0, title_font=dict(size=siz-2), tickfont=dict(size=siz-2))\n",
    "\n",
    "fig.show()\n",
    "\n",
    "fig.write_image(\"./cr_figures/f1_{}_{}_{}_b.pdf\".format(case, model, dataset))\n",
    "fig.write_image(\"./cr_figures/f1_{}_{}_{}_b.pdf\".format(case, model, dataset))\n"
   ]
  }
 ],
 "metadata": {
  "kernelspec": {
   "display_name": ".venv",
   "language": "python",
   "name": "python3"
  },
  "language_info": {
   "codemirror_mode": {
    "name": "ipython",
    "version": 3
   },
   "file_extension": ".py",
   "mimetype": "text/x-python",
   "name": "python",
   "nbconvert_exporter": "python",
   "pygments_lexer": "ipython3",
   "version": "3.8.16"
  },
  "orig_nbformat": 4
 },
 "nbformat": 4,
 "nbformat_minor": 2
}
