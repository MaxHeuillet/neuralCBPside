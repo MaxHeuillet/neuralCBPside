{
 "cells": [
  {
   "cell_type": "code",
   "execution_count": 3,
   "metadata": {},
   "outputs": [],
   "source": [
    "import numpy as np\n",
    "import matplotlib.pyplot as plt\n",
    "import synthetic_data\n",
    "\n",
    "\n",
    "# context_generator = QuinticContexts()\n",
    "context_generator = synthetic_data.BullsEyeContexts2()\n",
    "# context_generator = synthetic_data.MixtureContexts()\n",
    "donut_samples = []\n",
    "other_samples = []\n",
    "all = []\n",
    "for _ in range(1000000):\n",
    "    c, d = context_generator.get_context()\n",
    "    if d[0]>0.5:\n",
    "        donut_samples.append(c)\n",
    "    else:\n",
    "        other_samples.append(c)\n",
    "\n",
    "    all.append(c)\n",
    "\n",
    "donut_samples = np.array(donut_samples).squeeze(1)\n",
    "other_samples = np.array(other_samples).squeeze(1)\n",
    "\n",
    "# all = np.array(all)\n",
    "# Plot the samples\n",
    "# plt.figure(figsize=(6, 6))\n",
    "# plt.scatter(other_samples[:, 0], other_samples[:, 1], color='blue', label='Other Samples')\n",
    "# plt.scatter(donut_samples[:, 0], donut_samples[:, 1], color='orange', label='Donut Samples')\n",
    "# plt.xlim(-1, 1)\n",
    "# plt.ylim(-1, 1)\n",
    "# plt.xlabel('X')\n",
    "# plt.ylabel('Y')\n",
    "# plt.title('Uniform Samples and Donut Samples')\n",
    "# plt.legend()\n",
    "# plt.show()\n",
    "# # plt.savefig('./bullseye.png',dpi = 380)\n",
    "\n",
    "# print( len(donut_samples)/ ( len(donut_samples)+len(other_samples) ) )"
   ]
  },
  {
   "cell_type": "code",
   "execution_count": 4,
   "metadata": {},
   "outputs": [
    {
     "data": {
      "text/plain": [
       "array([[0.00031191, 0.00048158]])"
      ]
     },
     "execution_count": 4,
     "metadata": {},
     "output_type": "execute_result"
    }
   ],
   "source": [
    "np.mean(all,0)"
   ]
  },
  {
   "cell_type": "code",
   "execution_count": 5,
   "metadata": {},
   "outputs": [
    {
     "data": {
      "text/plain": [
       "array([[0.57730562, 0.57743101]])"
      ]
     },
     "execution_count": 5,
     "metadata": {},
     "output_type": "execute_result"
    }
   ],
   "source": [
    "np.std(all,0)"
   ]
  },
  {
   "cell_type": "code",
   "execution_count": 6,
   "metadata": {},
   "outputs": [
    {
     "data": {
      "text/plain": [
       "array([[[-0.23068365, -0.23068365, -0.14009862, -0.14009862,\n",
       "         -0.14009862]],\n",
       "\n",
       "       [[-0.33303447, -0.33303447,  0.19365482,  0.19365482,\n",
       "          0.19365482]],\n",
       "\n",
       "       [[ 0.06928705,  0.06928705,  0.24679116,  0.24679116,\n",
       "          0.24679116]],\n",
       "\n",
       "       ...,\n",
       "\n",
       "       [[-0.33821717, -0.33821717,  0.17067736,  0.17067736,\n",
       "          0.17067736]],\n",
       "\n",
       "       [[ 0.04858651,  0.04858651,  0.19476084,  0.19476084,\n",
       "          0.19476084]],\n",
       "\n",
       "       [[-0.23656935, -0.23656935, -0.20217409, -0.20217409,\n",
       "         -0.20217409]]])"
      ]
     },
     "execution_count": 6,
     "metadata": {},
     "output_type": "execute_result"
    }
   ],
   "source": [
    "donut_samples"
   ]
  }
 ],
 "metadata": {
  "kernelspec": {
   "display_name": ".venv",
   "language": "python",
   "name": "python3"
  },
  "language_info": {
   "codemirror_mode": {
    "name": "ipython",
    "version": 3
   },
   "file_extension": ".py",
   "mimetype": "text/x-python",
   "name": "python",
   "nbconvert_exporter": "python",
   "pygments_lexer": "ipython3",
   "version": "3.8.10"
  },
  "orig_nbformat": 4
 },
 "nbformat": 4,
 "nbformat_minor": 2
}
