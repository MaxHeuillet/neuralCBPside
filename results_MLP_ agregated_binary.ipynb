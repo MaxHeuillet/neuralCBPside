{
 "cells": [
  {
   "cell_type": "code",
   "execution_count": 22,
   "metadata": {},
   "outputs": [],
   "source": [
    "import os\n",
    "import numpy as np\n",
    "import plotly.graph_objects as go\n",
    "import pandas as pd\n",
    "import gzip\n",
    "import pickle as pkl\n",
    "import pandas as pd\n",
    "\n",
    "def loadall_results2(path, n_folds):\n",
    "    regret = []\n",
    "    history_actions = []\n",
    "    history_outcomes = []\n",
    "    perf = []\n",
    "    with gzip.open(  path ,'rb') as f:\n",
    "        for i in range(n_folds+1):\n",
    "            try:\n",
    "                data = pkl.load(f)\n",
    "            except EOFError:\n",
    "                break\n",
    "\n",
    "            if type(data) == dict:\n",
    "                regret.append( data['regret'] ) \n",
    "                history_actions.append( data['action_history'] )\n",
    "                history_outcomes.append( data['outcome_history'] ) \n",
    "                perf.append( data['pred'] ) \n",
    "\n",
    "    return regret, history_actions, history_outcomes, perf"
   ]
  },
  {
   "cell_type": "code",
   "execution_count": 25,
   "metadata": {},
   "outputs": [],
   "source": [
    "n_folds = 25\n",
    "horizon = 9999\n",
    "context = 'MNISTbinary'\n",
    "model = 'MLP'\n",
    "case = 'case1'\n",
    "agent_name = 'EEneuralcbpside_v6' #ineural6, neuronal6\n",
    "\n",
    "direct = './results/'\n",
    "path = os.path.join(direct, '{}_{}_{}_{}_{}_{}.pkl.gz'.format(case,model,context,horizon,n_folds,agent_name) )\n",
    "regret, action_history, outcome_history, perf = loadall_results2(path, n_folds)\n"
   ]
  },
  {
   "cell_type": "code",
   "execution_count": 23,
   "metadata": {},
   "outputs": [
    {
     "name": "stdout",
     "output_type": "stream",
     "text": [
      "./results/case1_MLP_MNISTbinary_9999_25_ineural6.pkl.gz\n",
      "[[1.000e+00 1.000e+00 2.000e+00 ... 4.049e+03 4.049e+03 4.050e+03]\n",
      " [1.000e+00 1.000e+00 1.000e+00 ... 4.349e+03 4.349e+03 4.350e+03]\n",
      " [1.000e+00 2.000e+00 2.000e+00 ... 3.515e+03 3.515e+03 3.515e+03]\n",
      " ...\n",
      " [1.000e+00 1.000e+00 1.000e+00 ... 3.733e+03 3.733e+03 3.733e+03]\n",
      " [1.000e+00 1.000e+00 1.000e+00 ... 4.128e+03 4.128e+03 4.128e+03]\n",
      " [1.000e+00 1.000e+00 2.000e+00 ... 4.169e+03 4.170e+03 4.171e+03]]\n",
      "./results/case1_MLP_MNISTbinary_9999_25_ineural3.pkl.gz\n",
      "[[1.000e+00 1.000e+00 2.000e+00 ... 5.080e+03 5.081e+03 5.081e+03]\n",
      " [1.000e+00 1.000e+00 2.000e+00 ... 1.673e+03 1.673e+03 1.673e+03]\n",
      " [1.000e+00 1.000e+00 1.000e+00 ... 1.475e+03 1.475e+03 1.476e+03]\n",
      " ...\n",
      " [1.000e+00 1.000e+00 1.000e+00 ... 1.521e+03 1.522e+03 1.522e+03]\n",
      " [1.000e+00 2.000e+00 2.000e+00 ... 1.522e+03 1.522e+03 1.522e+03]\n",
      " [1.000e+00 1.000e+00 2.000e+00 ... 1.600e+03 1.600e+03 1.600e+03]]\n",
      "./results/case1_MLP_MNISTbinary_9999_25_neuronal6.pkl.gz\n",
      "[[1.000e+00 1.000e+00 2.000e+00 ... 1.743e+03 1.743e+03 1.743e+03]\n",
      " [1.000e+00 1.000e+00 1.000e+00 ... 1.729e+03 1.729e+03 1.730e+03]\n",
      " [1.000e+00 2.000e+00 2.000e+00 ... 1.775e+03 1.775e+03 1.775e+03]\n",
      " ...\n",
      " [1.000e+00 2.000e+00 2.000e+00 ... 1.788e+03 1.788e+03 1.788e+03]\n",
      " [1.000e+00 2.000e+00 2.000e+00 ... 1.737e+03 1.737e+03 1.737e+03]\n",
      " [1.000e+00 1.000e+00 1.000e+00 ... 1.721e+03 1.721e+03 1.721e+03]]\n",
      "./results/case1_MLP_MNISTbinary_9999_25_neuronal3.pkl.gz\n",
      "[[1.000e+00 1.000e+00 2.000e+00 ... 1.351e+03 1.351e+03 1.351e+03]\n",
      " [1.000e+00 1.000e+00 2.000e+00 ... 1.338e+03 1.338e+03 1.338e+03]\n",
      " [1.000e+00 2.000e+00 2.000e+00 ... 1.451e+03 1.451e+03 1.452e+03]\n",
      " ...\n",
      " [1.000e+00 1.000e+00 1.000e+00 ... 1.474e+03 1.474e+03 1.474e+03]\n",
      " [1.000e+00 1.000e+00 2.000e+00 ... 1.413e+03 1.413e+03 1.413e+03]\n",
      " [1.000e+00 1.000e+00 2.000e+00 ... 1.437e+03 1.437e+03 1.437e+03]]\n",
      "./results/case1_MLP_MNISTbinary_9999_25_EEneuralcbpside_v6.pkl.gz\n",
      "[[1.000e+00 1.000e+00 2.000e+00 ... 1.353e+03 1.353e+03 1.353e+03]\n",
      " [1.000e+00 1.000e+00 1.000e+00 ... 1.352e+03 1.352e+03 1.352e+03]\n",
      " [1.000e+00 2.000e+00 2.000e+00 ... 1.556e+03 1.556e+03 1.556e+03]\n",
      " ...\n",
      " [1.000e+00 1.000e+00 1.000e+00 ... 1.284e+03 1.284e+03 1.284e+03]\n",
      " [1.000e+00 1.000e+00 1.000e+00 ... 1.376e+03 1.376e+03 1.376e+03]\n",
      " [1.000e+00 1.000e+00 2.000e+00 ... 1.322e+03 1.322e+03 1.322e+03]]\n",
      "./results/case1_MLP_MNISTbinary_9999_25_margin.pkl.gz\n",
      "[[1.000e+00 1.000e+00 2.000e+00 ... 2.048e+03 2.048e+03 2.048e+03]\n",
      " [1.000e+00 1.000e+00 1.000e+00 ... 2.120e+03 2.120e+03 2.120e+03]\n",
      " [1.000e+00 2.000e+00 2.000e+00 ... 2.016e+03 2.016e+03 2.016e+03]\n",
      " ...\n",
      " [1.000e+00 1.000e+00 1.000e+00 ... 1.911e+03 1.911e+03 1.911e+03]\n",
      " [1.000e+00 1.000e+00 1.000e+00 ... 5.076e+03 5.077e+03 5.077e+03]\n",
      " [1.000e+00 1.000e+00 2.000e+00 ... 1.952e+03 1.952e+03 1.952e+03]]\n",
      "./results/case1_MLP_MNISTbinary_9999_25_cesa.pkl.gz\n",
      "[[1.000e+00 1.000e+00 1.000e+00 ... 2.119e+03 2.119e+03 2.119e+03]\n",
      " [1.000e+00 1.000e+00 2.000e+00 ... 2.855e+03 2.855e+03 2.856e+03]\n",
      " [1.000e+00 2.000e+00 2.000e+00 ... 3.757e+03 3.757e+03 3.757e+03]\n",
      " ...\n",
      " [1.000e+00 1.000e+00 1.000e+00 ... 3.192e+03 3.193e+03 3.193e+03]\n",
      " [1.000e+00 1.000e+00 1.000e+00 ... 2.281e+03 2.281e+03 2.281e+03]\n",
      " [1.000e+00 1.000e+00 2.000e+00 ... 3.407e+03 3.407e+03 3.407e+03]]\n",
      "./results/case1_MLP_adult_9999_25_ineural6.pkl.gz\n",
      "[[1.000e+00 2.000e+00 3.000e+00 ... 7.536e+03 7.536e+03 7.536e+03]\n",
      " [1.000e+00 2.000e+00 2.000e+00 ... 2.414e+03 2.414e+03 2.415e+03]\n",
      " [1.000e+00 1.000e+00 2.000e+00 ... 7.622e+03 7.623e+03 7.623e+03]\n",
      " ...\n",
      " [1.000e+00 1.000e+00 1.000e+00 ... 9.800e+03 9.801e+03 9.802e+03]\n",
      " [1.000e+00 1.000e+00 2.000e+00 ... 9.565e+03 9.566e+03 9.567e+03]\n",
      " [1.000e+00 1.000e+00 2.000e+00 ... 9.919e+03 9.920e+03 9.921e+03]]\n",
      "./results/case1_MLP_adult_9999_25_ineural3.pkl.gz\n",
      "[[1.000e+00 1.000e+00 2.000e+00 ... 2.369e+03 2.370e+03 2.370e+03]\n",
      " [1.000e+00 2.000e+00 2.000e+00 ... 4.770e+03 4.771e+03 4.771e+03]\n",
      " [1.000e+00 2.000e+00 2.000e+00 ... 2.385e+03 2.386e+03 2.386e+03]\n",
      " ...\n",
      " [1.000e+00 2.000e+00 2.000e+00 ... 7.621e+03 7.622e+03 7.623e+03]\n",
      " [1.000e+00 1.000e+00 2.000e+00 ... 3.742e+03 3.743e+03 3.743e+03]\n",
      " [1.000e+00 2.000e+00 2.000e+00 ... 8.064e+03 8.065e+03 8.066e+03]]\n",
      "./results/case1_MLP_adult_9999_25_neuronal6.pkl.gz\n",
      "[[1.000e+00 2.000e+00 2.000e+00 ... 2.419e+03 2.419e+03 2.419e+03]\n",
      " [1.000e+00 1.000e+00 1.000e+00 ... 2.374e+03 2.374e+03 2.374e+03]\n",
      " [1.000e+00 1.000e+00 2.000e+00 ... 2.430e+03 2.430e+03 2.430e+03]\n",
      " ...\n",
      " [1.000e+00 1.000e+00 2.000e+00 ... 6.543e+03 6.544e+03 6.544e+03]\n",
      " [1.000e+00 2.000e+00 3.000e+00 ... 7.818e+03 7.818e+03 7.818e+03]\n",
      " [1.000e+00 1.000e+00 1.000e+00 ... 7.730e+03 7.730e+03 7.730e+03]]\n",
      "./results/case1_MLP_adult_9999_25_neuronal3.pkl.gz\n",
      "[[1.000e+00 1.000e+00 1.000e+00 ... 2.402e+03 2.402e+03 2.402e+03]\n",
      " [1.000e+00 1.000e+00 2.000e+00 ... 7.640e+03 7.641e+03 7.642e+03]\n",
      " [1.000e+00 1.000e+00 2.000e+00 ... 2.382e+03 2.383e+03 2.384e+03]\n",
      " ...\n",
      " [1.000e+00 1.000e+00 2.000e+00 ... 2.687e+03 2.687e+03 2.687e+03]\n",
      " [1.000e+00 1.000e+00 1.000e+00 ... 2.736e+03 2.736e+03 2.736e+03]\n",
      " [1.000e+00 1.000e+00 2.000e+00 ... 2.736e+03 2.737e+03 2.737e+03]]\n",
      "./results/case1_MLP_adult_9999_25_EEneuralcbpside_v6.pkl.gz\n",
      "[[1.000e+00 2.000e+00 2.000e+00 ... 2.367e+03 2.367e+03 2.367e+03]\n",
      " [1.000e+00 2.000e+00 2.000e+00 ... 2.210e+03 2.210e+03 2.210e+03]\n",
      " [1.000e+00 2.000e+00 2.000e+00 ... 3.201e+03 3.201e+03 3.202e+03]\n",
      " ...\n",
      " [1.000e+00 2.000e+00 3.000e+00 ... 4.351e+03 4.352e+03 4.353e+03]\n",
      " [1.000e+00 2.000e+00 2.000e+00 ... 7.545e+03 7.546e+03 7.547e+03]\n",
      " [1.000e+00 1.000e+00 1.000e+00 ... 2.117e+03 2.117e+03 2.117e+03]]\n",
      "./results/case1_MLP_adult_9999_25_margin.pkl.gz\n",
      "[[1.000e+00 2.000e+00 2.000e+00 ... 2.377e+03 2.377e+03 2.378e+03]\n",
      " [1.000e+00 2.000e+00 2.000e+00 ... 2.344e+03 2.344e+03 2.344e+03]\n",
      " [1.000e+00 1.000e+00 2.000e+00 ... 2.330e+03 2.330e+03 2.330e+03]\n",
      " ...\n",
      " [1.000e+00 1.000e+00 2.000e+00 ... 2.379e+03 2.380e+03 2.380e+03]\n",
      " [1.000e+00 2.000e+00 2.000e+00 ... 2.450e+03 2.450e+03 2.450e+03]\n",
      " [1.000e+00 2.000e+00 3.000e+00 ... 2.407e+03 2.407e+03 2.408e+03]]\n",
      "./results/case1_MLP_adult_9999_25_cesa.pkl.gz\n",
      "[[1.000e+00 2.000e+00 3.000e+00 ... 2.577e+03 2.577e+03 2.577e+03]\n",
      " [1.000e+00 1.000e+00 1.000e+00 ... 2.323e+03 2.323e+03 2.323e+03]\n",
      " [1.000e+00 1.000e+00 2.000e+00 ... 2.422e+03 2.422e+03 2.423e+03]\n",
      " ...\n",
      " [1.000e+00 1.000e+00 2.000e+00 ... 2.331e+03 2.332e+03 2.333e+03]\n",
      " [1.000e+00 2.000e+00 3.000e+00 ... 2.592e+03 2.592e+03 2.592e+03]\n",
      " [1.000e+00 2.000e+00 2.000e+00 ... 2.535e+03 2.536e+03 2.536e+03]]\n",
      "./results/case1_MLP_MagicTelescope_9999_25_ineural6.pkl.gz\n",
      "[[1.000e+00 2.000e+00 3.000e+00 ... 6.987e+03 6.987e+03 6.988e+03]\n",
      " [1.000e+00 1.000e+00 1.000e+00 ... 8.977e+03 8.978e+03 8.979e+03]\n",
      " [1.000e+00 1.000e+00 2.000e+00 ... 8.198e+03 8.199e+03 8.200e+03]\n",
      " ...\n",
      " [1.000e+00 2.000e+00 3.000e+00 ... 9.324e+03 9.325e+03 9.326e+03]\n",
      " [1.000e+00 2.000e+00 3.000e+00 ... 9.164e+03 9.165e+03 9.166e+03]\n",
      " [1.000e+00 1.000e+00 1.000e+00 ... 8.815e+03 8.816e+03 8.817e+03]]\n",
      "./results/case1_MLP_MagicTelescope_9999_25_ineural3.pkl.gz\n",
      "[[1.000e+00 2.000e+00 2.000e+00 ... 6.513e+03 6.514e+03 6.514e+03]\n",
      " [1.000e+00 2.000e+00 3.000e+00 ... 6.539e+03 6.540e+03 6.541e+03]\n",
      " [1.000e+00 1.000e+00 1.000e+00 ... 6.456e+03 6.456e+03 6.456e+03]\n",
      " ...\n",
      " [1.000e+00 1.000e+00 2.000e+00 ... 5.897e+03 5.898e+03 5.898e+03]\n",
      " [1.000e+00 1.000e+00 1.000e+00 ... 5.979e+03 5.980e+03 5.981e+03]\n",
      " [1.000e+00 1.000e+00 1.000e+00 ... 6.839e+03 6.840e+03 6.841e+03]]\n",
      "./results/case1_MLP_MagicTelescope_9999_25_neuronal6.pkl.gz\n",
      "[[1.000e+00 1.000e+00 1.000e+00 ... 3.514e+03 3.515e+03 3.515e+03]\n",
      " [1.000e+00 2.000e+00 3.000e+00 ... 3.556e+03 3.557e+03 3.557e+03]\n",
      " [1.000e+00 2.000e+00 2.000e+00 ... 3.542e+03 3.543e+03 3.543e+03]\n",
      " ...\n",
      " [1.000e+00 2.000e+00 2.000e+00 ... 5.123e+03 5.124e+03 5.125e+03]\n",
      " [1.000e+00 2.000e+00 2.000e+00 ... 5.187e+03 5.187e+03 5.187e+03]\n",
      " [1.000e+00 1.000e+00 2.000e+00 ... 5.067e+03 5.067e+03 5.067e+03]]\n",
      "./results/case1_MLP_MagicTelescope_9999_25_neuronal3.pkl.gz\n",
      "[[1.000e+00 2.000e+00 3.000e+00 ... 6.463e+03 6.463e+03 6.463e+03]\n",
      " [1.000e+00 2.000e+00 3.000e+00 ... 3.489e+03 3.490e+03 3.490e+03]\n",
      " [1.000e+00 2.000e+00 2.000e+00 ... 6.445e+03 6.446e+03 6.446e+03]\n",
      " ...\n",
      " [1.000e+00 1.000e+00 2.000e+00 ... 3.551e+03 3.551e+03 3.551e+03]\n",
      " [1.000e+00 2.000e+00 3.000e+00 ... 6.504e+03 6.505e+03 6.506e+03]\n",
      " [1.000e+00 1.000e+00 2.000e+00 ... 3.482e+03 3.482e+03 3.483e+03]]\n",
      "./results/case1_MLP_MagicTelescope_9999_25_EEneuralcbpside_v6.pkl.gz\n",
      "[[1.000e+00 1.000e+00 2.000e+00 ... 2.714e+03 2.714e+03 2.714e+03]\n",
      " [1.000e+00 1.000e+00 2.000e+00 ... 2.899e+03 2.899e+03 2.899e+03]\n",
      " [1.000e+00 1.000e+00 2.000e+00 ... 2.717e+03 2.717e+03 2.717e+03]\n",
      " ...\n",
      " [1.000e+00 1.000e+00 2.000e+00 ... 2.726e+03 2.727e+03 2.728e+03]\n",
      " [1.000e+00 2.000e+00 3.000e+00 ... 2.708e+03 2.708e+03 2.708e+03]\n",
      " [1.000e+00 2.000e+00 3.000e+00 ... 2.715e+03 2.715e+03 2.716e+03]]\n",
      "./results/case1_MLP_MagicTelescope_9999_25_margin.pkl.gz\n",
      "[[1.000e+00 2.000e+00 3.000e+00 ... 2.957e+03 2.958e+03 2.958e+03]\n",
      " [1.000e+00 2.000e+00 2.000e+00 ... 3.497e+03 3.497e+03 3.498e+03]\n",
      " [1.000e+00 1.000e+00 2.000e+00 ... 2.973e+03 2.973e+03 2.973e+03]\n",
      " ...\n",
      " [1.000e+00 2.000e+00 3.000e+00 ... 2.924e+03 2.925e+03 2.925e+03]\n",
      " [1.000e+00 2.000e+00 2.000e+00 ... 3.523e+03 3.523e+03 3.523e+03]\n",
      " [1.000e+00 2.000e+00 3.000e+00 ... 3.482e+03 3.483e+03 3.484e+03]]\n",
      "./results/case1_MLP_MagicTelescope_9999_25_cesa.pkl.gz\n",
      "[[1.000e+00 1.000e+00 2.000e+00 ... 3.521e+03 3.522e+03 3.523e+03]\n",
      " [1.000e+00 2.000e+00 2.000e+00 ... 3.541e+03 3.541e+03 3.541e+03]\n",
      " [1.000e+00 2.000e+00 3.000e+00 ... 6.496e+03 6.496e+03 6.497e+03]\n",
      " ...\n",
      " [1.000e+00 2.000e+00 3.000e+00 ... 3.228e+03 3.228e+03 3.228e+03]\n",
      " [1.000e+00 2.000e+00 2.000e+00 ... 2.988e+03 2.988e+03 2.988e+03]\n",
      " [1.000e+00 2.000e+00 3.000e+00 ... 3.281e+03 3.282e+03 3.283e+03]]\n"
     ]
    }
   ],
   "source": [
    "def format_perf(perf, model, dataset, l_label):\n",
    "\n",
    "    processed_data = []\n",
    "    i = 0\n",
    "    for item in perf:\n",
    "        processed_item = {}\n",
    "        # key_mapping = dict( zip( item.keys(), [10, 50, 100, 250, 500, 750, 1000, 2500, 5000, 7500, 9000]))\n",
    "        new_dict = item #{key_mapping[old_key]: value for old_key, value in item.items()}\n",
    "        for key in new_dict:\n",
    "            # processed_item[f'accuracy_{key}'] = new_dict[key]['accuracy']\n",
    "            processed_item[f'f1_{key}'] = new_dict[key]['f1']\n",
    "        processed_item['Seed'] = i\n",
    "        processed_item['Model'] = model\n",
    "        processed_item['Dataset'] = dataset\n",
    "        processed_item['Approach'] = l_label\n",
    "        i = i+1\n",
    "        processed_data.append(processed_item)\n",
    "    return processed_data\n",
    "\n",
    "\n",
    "def convert_action_history(action_history, n_folds):\n",
    "    counters = []\n",
    "    for history in action_history:\n",
    "        counter = np.cumsum([ 1 if action == 0 else 0 for action in history ])\n",
    "        counters.append(counter)\n",
    "\n",
    "    std = 2.575 * np.std(counters, axis = 0) / n_folds \n",
    "    # std = np.std(counters, axis = 0) / n_folds \n",
    "\n",
    "    return np.mean(counters, axis = 0), std \n",
    "\n",
    "n_folds = 26\n",
    "horizon = 9999\n",
    "model = 'MLP'\n",
    "\n",
    "material = {\n",
    "    #'EEneuralcbpside_v5': {'color': [255, 255, 0], 'label': 'EEneuralcbpside_v5'},  # Red\n",
    "    'ineural6': {'color': [51, 255, 255], 'label':'IneurAL (official)'},                    # Yellow\n",
    "    'ineural3': {'color': [0, 0, 255], 'label':'IneurAL (less exploration)'},                    # Cyan\n",
    "    'neuronal6': {'color': [255, 0, 255], 'label':'Neuronal (official)'},                  # Magenta\n",
    "    'neuronal3': {'color': [160, 160, 160], 'label':'Neuronal (less exploration)'},                   # Orange\n",
    "    'EEneuralcbpside_v6': {'color': [255, 0, 0], 'label': 'Neural-CBP'},  # Red\n",
    "    'margin': {'color': [160, 160, 160], 'label':'Margin'},\n",
    "    'cesa': {'color': [0, 0, 255], 'label':'Cesa'},\n",
    "}\n",
    "\n",
    "fig = go.Figure( )\n",
    "\n",
    "data_models = {}\n",
    "perfs_final = {}\n",
    "explo_final = {}\n",
    "explo2_final = {}\n",
    "\n",
    "for model in ['MLP']:  # 'LeNet'\n",
    "\n",
    "    if model == 'MLP':\n",
    "        n_folds = 25\n",
    "        datasets = ['MNISTbinary', 'adult', 'MagicTelescope' ] # 'covertype', 'shuttle',\n",
    "    # else:\n",
    "    #     datasets = ['MNIST', 'FASHION', 'CIFAR10',]\n",
    "    #     n_folds = 25\n",
    "\n",
    "    data_regrets = {} \n",
    "    data_perfs = {} \n",
    "    data_explo = {}\n",
    "    data_explo2 = {}\n",
    "    for data in datasets: \n",
    "\n",
    "        # if data in ['MNIST', 'FASHION', 'CIFAR10']:\n",
    "        #     case = 'case2' \n",
    "        # elif data in ['covertype', 'shuttle']:\n",
    "        #     case = 'game_case_seven'\n",
    "        # else:\n",
    "        case = 'case1'\n",
    "        \n",
    "        final_regrets = {}\n",
    "        final_perfs = {}\n",
    "        explo_perfs = {}\n",
    "        explo2_perfs = {}\n",
    "        for agent_name in material.keys():\n",
    "\n",
    "            color, l_label = material[agent_name]['color'], material[agent_name]['label']\n",
    "\n",
    "            r,g,b = color\n",
    "\n",
    "            # try:\n",
    "            direct = './results/'\n",
    "            path = os.path.join(direct, '{}_{}_{}_{}_{}_{}.pkl.gz'.format(case, model, data, horizon,n_folds,agent_name) )\n",
    "            print(path)\n",
    "            regret, action_history,outcome_history, perf = loadall_results2(path, n_folds)\n",
    "            regret = np.array(regret)\n",
    "            print(regret)\n",
    "            regret = regret#[1:]\n",
    "\n",
    "            final_regrets[l_label] = regret[:,-1] \n",
    "            final_perfs[l_label] = pd.DataFrame( format_perf(perf, model, data, l_label) )\n",
    "\n",
    "            m, s = convert_action_history(action_history, n_folds)\n",
    "            explo_perfs[l_label] = m\n",
    "            explo2_perfs[l_label] = s\n",
    "\n",
    "\n",
    "        if data == 'MNISTbinary':\n",
    "            data = 'MNISTbinary'\n",
    "        if data == 'FASHION':\n",
    "            data = 'FASHION'\n",
    "            \n",
    "        data_regrets[data] = final_regrets\n",
    "\n",
    "        dataframes_list = list(final_perfs.values())\n",
    "        concatenated_df = pd.concat(dataframes_list, axis=0)\n",
    "        data_perfs[data] = concatenated_df\n",
    "\n",
    "        data_explo[data] = explo_perfs\n",
    "        data_explo2[data] = explo2_perfs\n",
    "        \n",
    "    data_models[model] = data_regrets\n",
    "    dataframes_list = list(data_perfs.values())\n",
    "    concatenated_df = pd.concat(dataframes_list, axis=0)\n",
    "\n",
    "    explo_final[model] = data_explo\n",
    "    explo2_final[model] = data_explo2\n"
   ]
  },
  {
   "cell_type": "code",
   "execution_count": 24,
   "metadata": {},
   "outputs": [],
   "source": [
    "import pandas as pd\n",
    "# pd.DataFrame(data_regrets)\n",
    "# data_regrets\n",
    "\n",
    "samples = []\n",
    "# Iterate over the dictionary to extract data\n",
    "for model, dataset in data_models.items():\n",
    "    for data, approach in dataset.items():\n",
    "        for appr, values in approach.items():\n",
    "            i = 0\n",
    "            for val in values:\n",
    "                # print(i, appr,val)\n",
    "                samples.append([i, model, data, appr, val])\n",
    "                i = i+1\n",
    "\n",
    "# Create a DataFrame\n",
    "df = pd.DataFrame(samples, columns=['Seed','Model', 'Dataset', 'Approach', 'Value'])\n",
    "df = pd.merge(df, concatenated_df, on=['Model', 'Dataset', 'Approach', 'Seed'])\n"
   ]
  },
  {
   "cell_type": "code",
   "execution_count": 25,
   "metadata": {},
   "outputs": [],
   "source": [
    "exclude_columns = ['Seed', 'Model', 'Dataset', 'Approach']\n",
    "\n",
    "agg_columns = [col for col in df.columns if col not in exclude_columns]\n",
    "\n",
    "df_mean = df.groupby(['Model', 'Dataset', 'Approach'])[agg_columns].agg(['mean',]) # 'std'\n",
    "df_mean.columns = df_mean.columns.get_level_values(0)\n",
    "df_mean = df_mean.reset_index()\n",
    "\n",
    "df_std = df.groupby(['Model', 'Dataset', 'Approach'])[agg_columns].agg(['std',]) # 'std'\n",
    "df_std.columns = df_std.columns.get_level_values(0)\n",
    "df_std = df_std.reset_index()\n"
   ]
  },
  {
   "cell_type": "code",
   "execution_count": 18,
   "metadata": {},
   "outputs": [
    {
     "data": {
      "text/html": [
       "<div>\n",
       "<style scoped>\n",
       "    .dataframe tbody tr th:only-of-type {\n",
       "        vertical-align: middle;\n",
       "    }\n",
       "\n",
       "    .dataframe tbody tr th {\n",
       "        vertical-align: top;\n",
       "    }\n",
       "\n",
       "    .dataframe thead th {\n",
       "        text-align: right;\n",
       "    }\n",
       "</style>\n",
       "<table border=\"1\" class=\"dataframe\">\n",
       "  <thead>\n",
       "    <tr style=\"text-align: right;\">\n",
       "      <th></th>\n",
       "      <th>Model</th>\n",
       "      <th>Dataset</th>\n",
       "      <th>Approach</th>\n",
       "      <th>Value</th>\n",
       "      <th>f1_10</th>\n",
       "      <th>f1_25</th>\n",
       "      <th>f1_50</th>\n",
       "      <th>f1_100</th>\n",
       "      <th>f1_150</th>\n",
       "      <th>f1_250</th>\n",
       "      <th>f1_300</th>\n",
       "      <th>f1_400</th>\n",
       "      <th>f1_500</th>\n",
       "      <th>f1_750</th>\n",
       "      <th>f1_1000</th>\n",
       "      <th>f1_2500</th>\n",
       "      <th>f1_5000</th>\n",
       "      <th>f1_7500</th>\n",
       "      <th>f1_9000</th>\n",
       "    </tr>\n",
       "  </thead>\n",
       "  <tbody>\n",
       "    <tr>\n",
       "      <th>0</th>\n",
       "      <td>MLP</td>\n",
       "      <td>MNISTbinary</td>\n",
       "      <td>Cesa</td>\n",
       "      <td>2977.000000</td>\n",
       "      <td>0.568238</td>\n",
       "      <td>0.645666</td>\n",
       "      <td>0.711848</td>\n",
       "      <td>0.751586</td>\n",
       "      <td>0.767998</td>\n",
       "      <td>0.805913</td>\n",
       "      <td>0.820426</td>\n",
       "      <td>NaN</td>\n",
       "      <td>NaN</td>\n",
       "      <td>NaN</td>\n",
       "      <td>NaN</td>\n",
       "      <td>NaN</td>\n",
       "      <td>NaN</td>\n",
       "      <td>NaN</td>\n",
       "      <td>NaN</td>\n",
       "    </tr>\n",
       "    <tr>\n",
       "      <th>1</th>\n",
       "      <td>MLP</td>\n",
       "      <td>MNISTbinary</td>\n",
       "      <td>IneurAL (less exploration)</td>\n",
       "      <td>1726.960000</td>\n",
       "      <td>0.615288</td>\n",
       "      <td>0.661782</td>\n",
       "      <td>0.767658</td>\n",
       "      <td>0.827885</td>\n",
       "      <td>0.858855</td>\n",
       "      <td>0.899090</td>\n",
       "      <td>0.899259</td>\n",
       "      <td>0.917804</td>\n",
       "      <td>0.929422</td>\n",
       "      <td>0.948996</td>\n",
       "      <td>0.957344</td>\n",
       "      <td>NaN</td>\n",
       "      <td>NaN</td>\n",
       "      <td>NaN</td>\n",
       "      <td>NaN</td>\n",
       "    </tr>\n",
       "    <tr>\n",
       "      <th>2</th>\n",
       "      <td>MLP</td>\n",
       "      <td>MNISTbinary</td>\n",
       "      <td>IneurAL (official)</td>\n",
       "      <td>3929.480000</td>\n",
       "      <td>0.642092</td>\n",
       "      <td>0.724833</td>\n",
       "      <td>0.754211</td>\n",
       "      <td>0.817592</td>\n",
       "      <td>0.849508</td>\n",
       "      <td>0.878427</td>\n",
       "      <td>0.887737</td>\n",
       "      <td>0.908128</td>\n",
       "      <td>0.920958</td>\n",
       "      <td>0.931547</td>\n",
       "      <td>0.940196</td>\n",
       "      <td>0.962636</td>\n",
       "      <td>NaN</td>\n",
       "      <td>NaN</td>\n",
       "      <td>NaN</td>\n",
       "    </tr>\n",
       "    <tr>\n",
       "      <th>3</th>\n",
       "      <td>MLP</td>\n",
       "      <td>MNISTbinary</td>\n",
       "      <td>Margin</td>\n",
       "      <td>3216.720000</td>\n",
       "      <td>0.625721</td>\n",
       "      <td>0.731007</td>\n",
       "      <td>0.782585</td>\n",
       "      <td>0.828519</td>\n",
       "      <td>0.844651</td>\n",
       "      <td>NaN</td>\n",
       "      <td>NaN</td>\n",
       "      <td>NaN</td>\n",
       "      <td>NaN</td>\n",
       "      <td>NaN</td>\n",
       "      <td>NaN</td>\n",
       "      <td>NaN</td>\n",
       "      <td>NaN</td>\n",
       "      <td>NaN</td>\n",
       "      <td>NaN</td>\n",
       "    </tr>\n",
       "    <tr>\n",
       "      <th>4</th>\n",
       "      <td>MLP</td>\n",
       "      <td>MNISTbinary</td>\n",
       "      <td>Neural-CBP</td>\n",
       "      <td>1351.920000</td>\n",
       "      <td>0.563043</td>\n",
       "      <td>0.661735</td>\n",
       "      <td>0.712713</td>\n",
       "      <td>0.765570</td>\n",
       "      <td>0.844704</td>\n",
       "      <td>0.878209</td>\n",
       "      <td>0.892330</td>\n",
       "      <td>0.921480</td>\n",
       "      <td>0.930657</td>\n",
       "      <td>0.959398</td>\n",
       "      <td>NaN</td>\n",
       "      <td>NaN</td>\n",
       "      <td>NaN</td>\n",
       "      <td>NaN</td>\n",
       "      <td>NaN</td>\n",
       "    </tr>\n",
       "    <tr>\n",
       "      <th>5</th>\n",
       "      <td>MLP</td>\n",
       "      <td>MNISTbinary</td>\n",
       "      <td>Neuronal (less exploration)</td>\n",
       "      <td>1721.440000</td>\n",
       "      <td>0.540633</td>\n",
       "      <td>0.688922</td>\n",
       "      <td>0.711540</td>\n",
       "      <td>0.764573</td>\n",
       "      <td>0.806937</td>\n",
       "      <td>0.858876</td>\n",
       "      <td>0.870025</td>\n",
       "      <td>0.879378</td>\n",
       "      <td>0.902361</td>\n",
       "      <td>0.943535</td>\n",
       "      <td>0.958173</td>\n",
       "      <td>NaN</td>\n",
       "      <td>NaN</td>\n",
       "      <td>NaN</td>\n",
       "      <td>NaN</td>\n",
       "    </tr>\n",
       "    <tr>\n",
       "      <th>6</th>\n",
       "      <td>MLP</td>\n",
       "      <td>MNISTbinary</td>\n",
       "      <td>Neuronal (official)</td>\n",
       "      <td>1721.880000</td>\n",
       "      <td>0.516245</td>\n",
       "      <td>0.695775</td>\n",
       "      <td>0.748138</td>\n",
       "      <td>0.777061</td>\n",
       "      <td>0.796724</td>\n",
       "      <td>0.839723</td>\n",
       "      <td>0.856389</td>\n",
       "      <td>0.876672</td>\n",
       "      <td>0.893953</td>\n",
       "      <td>0.926266</td>\n",
       "      <td>0.951217</td>\n",
       "      <td>NaN</td>\n",
       "      <td>NaN</td>\n",
       "      <td>NaN</td>\n",
       "      <td>NaN</td>\n",
       "    </tr>\n",
       "    <tr>\n",
       "      <th>7</th>\n",
       "      <td>MLP</td>\n",
       "      <td>MagicTelescope</td>\n",
       "      <td>Cesa</td>\n",
       "      <td>3642.640000</td>\n",
       "      <td>0.586103</td>\n",
       "      <td>0.619484</td>\n",
       "      <td>0.640232</td>\n",
       "      <td>0.665762</td>\n",
       "      <td>0.687672</td>\n",
       "      <td>0.727292</td>\n",
       "      <td>0.732047</td>\n",
       "      <td>0.737341</td>\n",
       "      <td>0.732789</td>\n",
       "      <td>NaN</td>\n",
       "      <td>NaN</td>\n",
       "      <td>NaN</td>\n",
       "      <td>NaN</td>\n",
       "      <td>NaN</td>\n",
       "      <td>NaN</td>\n",
       "    </tr>\n",
       "    <tr>\n",
       "      <th>8</th>\n",
       "      <td>MLP</td>\n",
       "      <td>MagicTelescope</td>\n",
       "      <td>IneurAL (less exploration)</td>\n",
       "      <td>5946.040000</td>\n",
       "      <td>0.543773</td>\n",
       "      <td>0.541352</td>\n",
       "      <td>0.582987</td>\n",
       "      <td>0.651005</td>\n",
       "      <td>0.694560</td>\n",
       "      <td>0.734544</td>\n",
       "      <td>0.741788</td>\n",
       "      <td>0.733132</td>\n",
       "      <td>0.741263</td>\n",
       "      <td>0.779434</td>\n",
       "      <td>0.789238</td>\n",
       "      <td>0.805177</td>\n",
       "      <td>0.801097</td>\n",
       "      <td>NaN</td>\n",
       "      <td>NaN</td>\n",
       "    </tr>\n",
       "    <tr>\n",
       "      <th>9</th>\n",
       "      <td>MLP</td>\n",
       "      <td>MagicTelescope</td>\n",
       "      <td>IneurAL (official)</td>\n",
       "      <td>9010.640000</td>\n",
       "      <td>0.524904</td>\n",
       "      <td>0.553888</td>\n",
       "      <td>0.577778</td>\n",
       "      <td>0.648732</td>\n",
       "      <td>0.680297</td>\n",
       "      <td>0.715722</td>\n",
       "      <td>0.721845</td>\n",
       "      <td>0.741578</td>\n",
       "      <td>0.754551</td>\n",
       "      <td>0.770596</td>\n",
       "      <td>0.774626</td>\n",
       "      <td>0.791568</td>\n",
       "      <td>0.789695</td>\n",
       "      <td>0.789071</td>\n",
       "      <td>0.800284</td>\n",
       "    </tr>\n",
       "    <tr>\n",
       "      <th>10</th>\n",
       "      <td>MLP</td>\n",
       "      <td>MagicTelescope</td>\n",
       "      <td>Margin</td>\n",
       "      <td>3801.080000</td>\n",
       "      <td>0.580521</td>\n",
       "      <td>0.597466</td>\n",
       "      <td>0.649058</td>\n",
       "      <td>NaN</td>\n",
       "      <td>NaN</td>\n",
       "      <td>NaN</td>\n",
       "      <td>NaN</td>\n",
       "      <td>NaN</td>\n",
       "      <td>NaN</td>\n",
       "      <td>NaN</td>\n",
       "      <td>NaN</td>\n",
       "      <td>NaN</td>\n",
       "      <td>NaN</td>\n",
       "      <td>NaN</td>\n",
       "      <td>NaN</td>\n",
       "    </tr>\n",
       "    <tr>\n",
       "      <th>11</th>\n",
       "      <td>MLP</td>\n",
       "      <td>MagicTelescope</td>\n",
       "      <td>Neural-CBP</td>\n",
       "      <td>3370.360000</td>\n",
       "      <td>0.600872</td>\n",
       "      <td>0.644513</td>\n",
       "      <td>0.675558</td>\n",
       "      <td>0.697495</td>\n",
       "      <td>0.711712</td>\n",
       "      <td>0.740975</td>\n",
       "      <td>0.750908</td>\n",
       "      <td>0.771552</td>\n",
       "      <td>0.781847</td>\n",
       "      <td>0.801952</td>\n",
       "      <td>NaN</td>\n",
       "      <td>NaN</td>\n",
       "      <td>NaN</td>\n",
       "      <td>NaN</td>\n",
       "      <td>NaN</td>\n",
       "    </tr>\n",
       "    <tr>\n",
       "      <th>12</th>\n",
       "      <td>MLP</td>\n",
       "      <td>MagicTelescope</td>\n",
       "      <td>Neuronal (less exploration)</td>\n",
       "      <td>4442.160000</td>\n",
       "      <td>0.646890</td>\n",
       "      <td>0.670315</td>\n",
       "      <td>0.668638</td>\n",
       "      <td>0.659200</td>\n",
       "      <td>0.668638</td>\n",
       "      <td>0.664309</td>\n",
       "      <td>0.669513</td>\n",
       "      <td>0.669797</td>\n",
       "      <td>NaN</td>\n",
       "      <td>NaN</td>\n",
       "      <td>NaN</td>\n",
       "      <td>NaN</td>\n",
       "      <td>NaN</td>\n",
       "      <td>NaN</td>\n",
       "      <td>NaN</td>\n",
       "    </tr>\n",
       "    <tr>\n",
       "      <th>13</th>\n",
       "      <td>MLP</td>\n",
       "      <td>MagicTelescope</td>\n",
       "      <td>Neuronal (official)</td>\n",
       "      <td>4324.560000</td>\n",
       "      <td>0.517396</td>\n",
       "      <td>0.636572</td>\n",
       "      <td>0.650153</td>\n",
       "      <td>0.656616</td>\n",
       "      <td>0.667671</td>\n",
       "      <td>0.683810</td>\n",
       "      <td>0.688287</td>\n",
       "      <td>0.693220</td>\n",
       "      <td>0.695578</td>\n",
       "      <td>0.701401</td>\n",
       "      <td>0.711033</td>\n",
       "      <td>0.775258</td>\n",
       "      <td>NaN</td>\n",
       "      <td>NaN</td>\n",
       "      <td>NaN</td>\n",
       "    </tr>\n",
       "    <tr>\n",
       "      <th>14</th>\n",
       "      <td>MLP</td>\n",
       "      <td>adult</td>\n",
       "      <td>Cesa</td>\n",
       "      <td>2455.520000</td>\n",
       "      <td>0.678200</td>\n",
       "      <td>0.698723</td>\n",
       "      <td>0.705487</td>\n",
       "      <td>0.718593</td>\n",
       "      <td>0.725572</td>\n",
       "      <td>0.731281</td>\n",
       "      <td>0.732546</td>\n",
       "      <td>0.734850</td>\n",
       "      <td>0.736479</td>\n",
       "      <td>NaN</td>\n",
       "      <td>NaN</td>\n",
       "      <td>NaN</td>\n",
       "      <td>NaN</td>\n",
       "      <td>NaN</td>\n",
       "      <td>NaN</td>\n",
       "    </tr>\n",
       "    <tr>\n",
       "      <th>15</th>\n",
       "      <td>MLP</td>\n",
       "      <td>adult</td>\n",
       "      <td>IneurAL (less exploration)</td>\n",
       "      <td>4421.840000</td>\n",
       "      <td>0.637206</td>\n",
       "      <td>0.598047</td>\n",
       "      <td>0.551963</td>\n",
       "      <td>0.382891</td>\n",
       "      <td>0.522896</td>\n",
       "      <td>0.528841</td>\n",
       "      <td>0.528875</td>\n",
       "      <td>0.563011</td>\n",
       "      <td>0.648578</td>\n",
       "      <td>0.391994</td>\n",
       "      <td>0.647654</td>\n",
       "      <td>0.090862</td>\n",
       "      <td>0.757072</td>\n",
       "      <td>0.738804</td>\n",
       "      <td>NaN</td>\n",
       "    </tr>\n",
       "    <tr>\n",
       "      <th>16</th>\n",
       "      <td>MLP</td>\n",
       "      <td>adult</td>\n",
       "      <td>IneurAL (official)</td>\n",
       "      <td>8165.560000</td>\n",
       "      <td>0.591418</td>\n",
       "      <td>0.686827</td>\n",
       "      <td>0.652325</td>\n",
       "      <td>0.546874</td>\n",
       "      <td>0.629888</td>\n",
       "      <td>0.702439</td>\n",
       "      <td>0.701965</td>\n",
       "      <td>0.722275</td>\n",
       "      <td>0.724906</td>\n",
       "      <td>0.522425</td>\n",
       "      <td>0.603350</td>\n",
       "      <td>0.668343</td>\n",
       "      <td>0.754590</td>\n",
       "      <td>0.758710</td>\n",
       "      <td>0.770923</td>\n",
       "    </tr>\n",
       "    <tr>\n",
       "      <th>17</th>\n",
       "      <td>MLP</td>\n",
       "      <td>adult</td>\n",
       "      <td>Margin</td>\n",
       "      <td>2889.958333</td>\n",
       "      <td>0.620511</td>\n",
       "      <td>0.622568</td>\n",
       "      <td>0.501180</td>\n",
       "      <td>0.529887</td>\n",
       "      <td>0.531867</td>\n",
       "      <td>0.309678</td>\n",
       "      <td>0.309678</td>\n",
       "      <td>0.309678</td>\n",
       "      <td>NaN</td>\n",
       "      <td>NaN</td>\n",
       "      <td>NaN</td>\n",
       "      <td>NaN</td>\n",
       "      <td>NaN</td>\n",
       "      <td>NaN</td>\n",
       "      <td>NaN</td>\n",
       "    </tr>\n",
       "    <tr>\n",
       "      <th>18</th>\n",
       "      <td>MLP</td>\n",
       "      <td>adult</td>\n",
       "      <td>Neural-CBP</td>\n",
       "      <td>2968.880000</td>\n",
       "      <td>0.535760</td>\n",
       "      <td>0.578461</td>\n",
       "      <td>0.615291</td>\n",
       "      <td>0.606654</td>\n",
       "      <td>0.734977</td>\n",
       "      <td>0.735382</td>\n",
       "      <td>0.737970</td>\n",
       "      <td>NaN</td>\n",
       "      <td>NaN</td>\n",
       "      <td>NaN</td>\n",
       "      <td>NaN</td>\n",
       "      <td>NaN</td>\n",
       "      <td>NaN</td>\n",
       "      <td>NaN</td>\n",
       "      <td>NaN</td>\n",
       "    </tr>\n",
       "    <tr>\n",
       "      <th>19</th>\n",
       "      <td>MLP</td>\n",
       "      <td>adult</td>\n",
       "      <td>Neuronal (less exploration)</td>\n",
       "      <td>3292.640000</td>\n",
       "      <td>0.581790</td>\n",
       "      <td>0.693611</td>\n",
       "      <td>0.601908</td>\n",
       "      <td>0.599819</td>\n",
       "      <td>0.600913</td>\n",
       "      <td>0.608303</td>\n",
       "      <td>0.608303</td>\n",
       "      <td>0.608303</td>\n",
       "      <td>0.608303</td>\n",
       "      <td>0.726861</td>\n",
       "      <td>NaN</td>\n",
       "      <td>NaN</td>\n",
       "      <td>NaN</td>\n",
       "      <td>NaN</td>\n",
       "      <td>NaN</td>\n",
       "    </tr>\n",
       "    <tr>\n",
       "      <th>20</th>\n",
       "      <td>MLP</td>\n",
       "      <td>adult</td>\n",
       "      <td>Neuronal (official)</td>\n",
       "      <td>4949.800000</td>\n",
       "      <td>0.586762</td>\n",
       "      <td>0.668164</td>\n",
       "      <td>0.672846</td>\n",
       "      <td>0.671414</td>\n",
       "      <td>0.672358</td>\n",
       "      <td>0.675149</td>\n",
       "      <td>0.677934</td>\n",
       "      <td>0.680075</td>\n",
       "      <td>0.681670</td>\n",
       "      <td>0.688247</td>\n",
       "      <td>0.696047</td>\n",
       "      <td>0.717060</td>\n",
       "      <td>0.736917</td>\n",
       "      <td>0.738761</td>\n",
       "      <td>NaN</td>\n",
       "    </tr>\n",
       "  </tbody>\n",
       "</table>\n",
       "</div>"
      ],
      "text/plain": [
       "   Model         Dataset                     Approach        Value     f1_10  \\\n",
       "0    MLP     MNISTbinary                         Cesa  2977.000000  0.568238   \n",
       "1    MLP     MNISTbinary   IneurAL (less exploration)  1726.960000  0.615288   \n",
       "2    MLP     MNISTbinary           IneurAL (official)  3929.480000  0.642092   \n",
       "3    MLP     MNISTbinary                       Margin  3216.720000  0.625721   \n",
       "4    MLP     MNISTbinary                   Neural-CBP  1351.920000  0.563043   \n",
       "5    MLP     MNISTbinary  Neuronal (less exploration)  1721.440000  0.540633   \n",
       "6    MLP     MNISTbinary          Neuronal (official)  1721.880000  0.516245   \n",
       "7    MLP  MagicTelescope                         Cesa  3642.640000  0.586103   \n",
       "8    MLP  MagicTelescope   IneurAL (less exploration)  5946.040000  0.543773   \n",
       "9    MLP  MagicTelescope           IneurAL (official)  9010.640000  0.524904   \n",
       "10   MLP  MagicTelescope                       Margin  3801.080000  0.580521   \n",
       "11   MLP  MagicTelescope                   Neural-CBP  3370.360000  0.600872   \n",
       "12   MLP  MagicTelescope  Neuronal (less exploration)  4442.160000  0.646890   \n",
       "13   MLP  MagicTelescope          Neuronal (official)  4324.560000  0.517396   \n",
       "14   MLP           adult                         Cesa  2455.520000  0.678200   \n",
       "15   MLP           adult   IneurAL (less exploration)  4421.840000  0.637206   \n",
       "16   MLP           adult           IneurAL (official)  8165.560000  0.591418   \n",
       "17   MLP           adult                       Margin  2889.958333  0.620511   \n",
       "18   MLP           adult                   Neural-CBP  2968.880000  0.535760   \n",
       "19   MLP           adult  Neuronal (less exploration)  3292.640000  0.581790   \n",
       "20   MLP           adult          Neuronal (official)  4949.800000  0.586762   \n",
       "\n",
       "       f1_25     f1_50    f1_100    f1_150    f1_250    f1_300    f1_400  \\\n",
       "0   0.645666  0.711848  0.751586  0.767998  0.805913  0.820426       NaN   \n",
       "1   0.661782  0.767658  0.827885  0.858855  0.899090  0.899259  0.917804   \n",
       "2   0.724833  0.754211  0.817592  0.849508  0.878427  0.887737  0.908128   \n",
       "3   0.731007  0.782585  0.828519  0.844651       NaN       NaN       NaN   \n",
       "4   0.661735  0.712713  0.765570  0.844704  0.878209  0.892330  0.921480   \n",
       "5   0.688922  0.711540  0.764573  0.806937  0.858876  0.870025  0.879378   \n",
       "6   0.695775  0.748138  0.777061  0.796724  0.839723  0.856389  0.876672   \n",
       "7   0.619484  0.640232  0.665762  0.687672  0.727292  0.732047  0.737341   \n",
       "8   0.541352  0.582987  0.651005  0.694560  0.734544  0.741788  0.733132   \n",
       "9   0.553888  0.577778  0.648732  0.680297  0.715722  0.721845  0.741578   \n",
       "10  0.597466  0.649058       NaN       NaN       NaN       NaN       NaN   \n",
       "11  0.644513  0.675558  0.697495  0.711712  0.740975  0.750908  0.771552   \n",
       "12  0.670315  0.668638  0.659200  0.668638  0.664309  0.669513  0.669797   \n",
       "13  0.636572  0.650153  0.656616  0.667671  0.683810  0.688287  0.693220   \n",
       "14  0.698723  0.705487  0.718593  0.725572  0.731281  0.732546  0.734850   \n",
       "15  0.598047  0.551963  0.382891  0.522896  0.528841  0.528875  0.563011   \n",
       "16  0.686827  0.652325  0.546874  0.629888  0.702439  0.701965  0.722275   \n",
       "17  0.622568  0.501180  0.529887  0.531867  0.309678  0.309678  0.309678   \n",
       "18  0.578461  0.615291  0.606654  0.734977  0.735382  0.737970       NaN   \n",
       "19  0.693611  0.601908  0.599819  0.600913  0.608303  0.608303  0.608303   \n",
       "20  0.668164  0.672846  0.671414  0.672358  0.675149  0.677934  0.680075   \n",
       "\n",
       "      f1_500    f1_750   f1_1000   f1_2500   f1_5000   f1_7500   f1_9000  \n",
       "0        NaN       NaN       NaN       NaN       NaN       NaN       NaN  \n",
       "1   0.929422  0.948996  0.957344       NaN       NaN       NaN       NaN  \n",
       "2   0.920958  0.931547  0.940196  0.962636       NaN       NaN       NaN  \n",
       "3        NaN       NaN       NaN       NaN       NaN       NaN       NaN  \n",
       "4   0.930657  0.959398       NaN       NaN       NaN       NaN       NaN  \n",
       "5   0.902361  0.943535  0.958173       NaN       NaN       NaN       NaN  \n",
       "6   0.893953  0.926266  0.951217       NaN       NaN       NaN       NaN  \n",
       "7   0.732789       NaN       NaN       NaN       NaN       NaN       NaN  \n",
       "8   0.741263  0.779434  0.789238  0.805177  0.801097       NaN       NaN  \n",
       "9   0.754551  0.770596  0.774626  0.791568  0.789695  0.789071  0.800284  \n",
       "10       NaN       NaN       NaN       NaN       NaN       NaN       NaN  \n",
       "11  0.781847  0.801952       NaN       NaN       NaN       NaN       NaN  \n",
       "12       NaN       NaN       NaN       NaN       NaN       NaN       NaN  \n",
       "13  0.695578  0.701401  0.711033  0.775258       NaN       NaN       NaN  \n",
       "14  0.736479       NaN       NaN       NaN       NaN       NaN       NaN  \n",
       "15  0.648578  0.391994  0.647654  0.090862  0.757072  0.738804       NaN  \n",
       "16  0.724906  0.522425  0.603350  0.668343  0.754590  0.758710  0.770923  \n",
       "17       NaN       NaN       NaN       NaN       NaN       NaN       NaN  \n",
       "18       NaN       NaN       NaN       NaN       NaN       NaN       NaN  \n",
       "19  0.608303  0.726861       NaN       NaN       NaN       NaN       NaN  \n",
       "20  0.681670  0.688247  0.696047  0.717060  0.736917  0.738761       NaN  "
      ]
     },
     "execution_count": 18,
     "metadata": {},
     "output_type": "execute_result"
    }
   ],
   "source": [
    "df_mean"
   ]
  },
  {
   "cell_type": "markdown",
   "metadata": {},
   "source": []
  },
  {
   "cell_type": "code",
   "execution_count": 27,
   "metadata": {},
   "outputs": [
    {
     "data": {
      "application/vnd.plotly.v1+json": {
       "config": {
        "plotlyServerURL": "https://plot.ly"
       },
       "data": [
        {
         "error_y": {
          "array": [
           0.016386955539218085,
           0.01739457246494505,
           0.017317134846134567,
           0.012084660444396942,
           0.011750285433152591,
           0.005877302067051291,
           0.005945091796359262,
           0.006257696731962078,
           0.005437402772794752,
           0.003039475808323723,
           0.002838867732202385,
           0.0011543040012857559,
           0.001426968318317755,
           0.003361464687786775
          ],
          "thickness": 1,
          "type": "data",
          "visible": true,
          "width": 3
         },
         "line": {
          "color": "rgba(255,161,90,1)",
          "dash": "solid",
          "width": 1
         },
         "marker": {
          "size": 2.5
         },
         "name": "IneurAL (official)",
         "type": "scatter",
         "x": [
          10,
          25,
          50,
          100,
          150,
          250,
          300,
          400,
          500,
          750,
          1000,
          2500,
          5000,
          7500,
          9000
         ],
         "xaxis": "x",
         "y": [
          0.5249037700603649,
          0.5538880573266939,
          0.5777775141235899,
          0.6487319453940401,
          0.6802970382377697,
          0.7157223479096189,
          0.721844787364654,
          0.741577602132334,
          0.7545511992133521,
          0.7705963200983043,
          0.7746263059018872,
          0.7915678916259834,
          0.7896954876474256,
          0.7890709527053561
         ],
         "yaxis": "y"
        },
        {
         "error_y": {
          "array": [
           0.013249360409431244,
           0.015555832939163832,
           0.013501134741587942,
           0.007628814991406438,
           0.006038754286075507,
           0.005841031850304902,
           0.005910961482585479,
           0.014197495369871568,
           0.014305672407318821,
           0.002244252882435786,
           0.0021104133815813106,
           0.0014430274881694317,
           0.0012848101389538733,
           null
          ],
          "thickness": 1,
          "type": "data",
          "visible": true,
          "width": 3
         },
         "line": {
          "color": "rgba(25,211,243,1)",
          "dash": "solid",
          "width": 1
         },
         "marker": {
          "size": 2.5
         },
         "name": "IneurAL (less exploration)",
         "type": "scatter",
         "x": [
          10,
          25,
          50,
          100,
          150,
          250,
          300,
          400,
          500,
          750,
          1000,
          2500,
          5000,
          7500,
          9000
         ],
         "xaxis": "x",
         "y": [
          0.5437728363136186,
          0.5413516593248177,
          0.5829868344304923,
          0.6510053713088806,
          0.6945602312038692,
          0.7345436046465716,
          0.74178834924404,
          0.7331318267370179,
          0.7412625215890231,
          0.7794340438006199,
          0.7892375564178911,
          0.805176912191023,
          0.801097206514585,
          null
         ],
         "yaxis": "y"
        },
        {
         "error_y": {
          "array": [
           0.012447992323535297,
           0.006832243993986792,
           0.005919074403137436,
           0.005970353004338696,
           0.005688002269328608,
           0.005293162762475883,
           0.00490186417589045,
           0.004749334797729363,
           0.00474102160146563,
           0.004836775839918822,
           0.004726215277146542,
           0.0016214886850549502,
           null,
           null
          ],
          "thickness": 1,
          "type": "data",
          "visible": true,
          "width": 3
         },
         "line": {
          "color": "rgba(255,102,146,1)",
          "dash": "solid",
          "width": 1
         },
         "marker": {
          "size": 2.5
         },
         "name": "Neuronal (official)",
         "type": "scatter",
         "x": [
          10,
          25,
          50,
          100,
          150,
          250,
          300,
          400,
          500,
          750,
          1000,
          2500,
          5000,
          7500,
          9000
         ],
         "xaxis": "x",
         "y": [
          0.5173964232492969,
          0.6365715550727102,
          0.650153416580128,
          0.6566156983136592,
          0.6676706751321677,
          0.6838096603535909,
          0.6882871724192069,
          0.6932196494478465,
          0.695578330302517,
          0.7014008325358221,
          0.7110325763646815,
          0.7752579846883096,
          null,
          null
         ],
         "yaxis": "y"
        },
        {
         "error_y": {
          "array": [
           null,
           null,
           null,
           null,
           null,
           null,
           null,
           null,
           null,
           null,
           null,
           null,
           null,
           null
          ],
          "thickness": 1,
          "type": "data",
          "visible": true,
          "width": 3
         },
         "line": {
          "color": "rgba(182,232,128,1)",
          "dash": "solid",
          "width": 1
         },
         "marker": {
          "size": 2.5
         },
         "name": "Neuronal (less exploration)",
         "type": "scatter",
         "x": [
          10,
          25,
          50,
          100,
          150,
          250,
          300,
          400,
          500,
          750,
          1000,
          2500,
          5000,
          7500,
          9000
         ],
         "xaxis": "x",
         "y": [
          0.6468899189664531,
          0.6703147303961643,
          0.6686375030828691,
          0.6592000601535309,
          0.6686375030828691,
          0.6643088058193075,
          0.6695126547909498,
          0.6697972164593996,
          null,
          null,
          null,
          null,
          null,
          null
         ],
         "yaxis": "y"
        },
        {
         "error_y": {
          "array": [
           0.011710020779745858,
           0.009900676494890698,
           0.011376364831661316,
           0.014115864048856223,
           0.0008157281270860273,
           null,
           null,
           null,
           null,
           null,
           null,
           null,
           null,
           null
          ],
          "thickness": 1,
          "type": "data",
          "visible": true,
          "width": 3
         },
         "line": {
          "color": "rgba(255,151,255,1)",
          "dash": "solid",
          "width": 1
         },
         "marker": {
          "size": 2.5
         },
         "name": "Margin",
         "type": "scatter",
         "x": [
          10,
          25,
          50,
          100,
          150,
          250,
          300,
          400,
          500,
          750,
          1000,
          2500,
          5000,
          7500,
          9000
         ],
         "xaxis": "x",
         "y": [
          0.5853521356477741,
          0.6067108946187152,
          0.6047587825092989,
          0.5210033129917238,
          0.4883104839489683,
          null,
          null,
          null,
          null,
          null,
          null,
          null,
          null,
          null
         ],
         "yaxis": "y"
        },
        {
         "error_y": {
          "array": [
           0.004795690178926656,
           0.004682772365758666,
           0.005579073969286116,
           0.005302025061980987,
           0.0044756092482024,
           0.0017658365043850702,
           0.0021125679881035873,
           0.0015565819381391705,
           null,
           null,
           null,
           null,
           null,
           null
          ],
          "thickness": 1,
          "type": "data",
          "visible": true,
          "width": 3
         },
         "line": {
          "color": "rgba(254,203,82,1)",
          "dash": "solid",
          "width": 1
         },
         "marker": {
          "size": 2.5
         },
         "name": "Cesa",
         "type": "scatter",
         "x": [
          10,
          25,
          50,
          100,
          150,
          250,
          300,
          400,
          500,
          750,
          1000,
          2500,
          5000,
          7500,
          9000
         ],
         "xaxis": "x",
         "y": [
          0.5861032285061386,
          0.6194839709329133,
          0.6402315607705049,
          0.6657624191480336,
          0.6876720035638021,
          0.7272918804908401,
          0.7320469860912115,
          0.7373410137352882,
          0.7327887893309263,
          null,
          null,
          null,
          null,
          null
         ],
         "yaxis": "y"
        },
        {
         "error_y": {
          "array": [
           0.005786389014969916,
           0.0037639540369179443,
           0.003718190821798869,
           0.0032084764936041728,
           0.0027722288577637353,
           0.0027350998087936856,
           0.0022905326669744315,
           0.0016646670574459379,
           0.0015522338020820198,
           0.000449124635212503,
           null,
           null,
           null,
           null
          ],
          "thickness": 1,
          "type": "data",
          "visible": true,
          "width": 3
         },
         "line": {
          "color": "rgba(171,99,250,1)",
          "dash": "solid",
          "width": 1
         },
         "marker": {
          "size": 2.5
         },
         "name": "Neural-CBP",
         "type": "scatter",
         "x": [
          10,
          25,
          50,
          100,
          150,
          250,
          300,
          400,
          500,
          750,
          1000,
          2500,
          5000,
          7500,
          9000
         ],
         "xaxis": "x",
         "y": [
          0.6008717565963353,
          0.6445126085191532,
          0.6755583492242256,
          0.6974951799619328,
          0.7117118795500095,
          0.7409749725595468,
          0.7509080691459109,
          0.7715516472630727,
          0.7818471489071431,
          0.8019524571952884,
          null,
          null,
          null,
          null
         ],
         "yaxis": "y"
        }
       ],
       "layout": {
        "height": 180,
        "margin": {
         "b": 0,
         "l": 0,
         "r": 0,
         "t": 0
        },
        "paper_bgcolor": "white",
        "plot_bgcolor": "white",
        "showlegend": false,
        "template": {
         "data": {
          "bar": [
           {
            "error_x": {
             "color": "#2a3f5f"
            },
            "error_y": {
             "color": "#2a3f5f"
            },
            "marker": {
             "line": {
              "color": "#E5ECF6",
              "width": 0.5
             },
             "pattern": {
              "fillmode": "overlay",
              "size": 10,
              "solidity": 0.2
             }
            },
            "type": "bar"
           }
          ],
          "barpolar": [
           {
            "marker": {
             "line": {
              "color": "#E5ECF6",
              "width": 0.5
             },
             "pattern": {
              "fillmode": "overlay",
              "size": 10,
              "solidity": 0.2
             }
            },
            "type": "barpolar"
           }
          ],
          "carpet": [
           {
            "aaxis": {
             "endlinecolor": "#2a3f5f",
             "gridcolor": "white",
             "linecolor": "white",
             "minorgridcolor": "white",
             "startlinecolor": "#2a3f5f"
            },
            "baxis": {
             "endlinecolor": "#2a3f5f",
             "gridcolor": "white",
             "linecolor": "white",
             "minorgridcolor": "white",
             "startlinecolor": "#2a3f5f"
            },
            "type": "carpet"
           }
          ],
          "choropleth": [
           {
            "colorbar": {
             "outlinewidth": 0,
             "ticks": ""
            },
            "type": "choropleth"
           }
          ],
          "contour": [
           {
            "colorbar": {
             "outlinewidth": 0,
             "ticks": ""
            },
            "colorscale": [
             [
              0,
              "#0d0887"
             ],
             [
              0.1111111111111111,
              "#46039f"
             ],
             [
              0.2222222222222222,
              "#7201a8"
             ],
             [
              0.3333333333333333,
              "#9c179e"
             ],
             [
              0.4444444444444444,
              "#bd3786"
             ],
             [
              0.5555555555555556,
              "#d8576b"
             ],
             [
              0.6666666666666666,
              "#ed7953"
             ],
             [
              0.7777777777777778,
              "#fb9f3a"
             ],
             [
              0.8888888888888888,
              "#fdca26"
             ],
             [
              1,
              "#f0f921"
             ]
            ],
            "type": "contour"
           }
          ],
          "contourcarpet": [
           {
            "colorbar": {
             "outlinewidth": 0,
             "ticks": ""
            },
            "type": "contourcarpet"
           }
          ],
          "heatmap": [
           {
            "colorbar": {
             "outlinewidth": 0,
             "ticks": ""
            },
            "colorscale": [
             [
              0,
              "#0d0887"
             ],
             [
              0.1111111111111111,
              "#46039f"
             ],
             [
              0.2222222222222222,
              "#7201a8"
             ],
             [
              0.3333333333333333,
              "#9c179e"
             ],
             [
              0.4444444444444444,
              "#bd3786"
             ],
             [
              0.5555555555555556,
              "#d8576b"
             ],
             [
              0.6666666666666666,
              "#ed7953"
             ],
             [
              0.7777777777777778,
              "#fb9f3a"
             ],
             [
              0.8888888888888888,
              "#fdca26"
             ],
             [
              1,
              "#f0f921"
             ]
            ],
            "type": "heatmap"
           }
          ],
          "heatmapgl": [
           {
            "colorbar": {
             "outlinewidth": 0,
             "ticks": ""
            },
            "colorscale": [
             [
              0,
              "#0d0887"
             ],
             [
              0.1111111111111111,
              "#46039f"
             ],
             [
              0.2222222222222222,
              "#7201a8"
             ],
             [
              0.3333333333333333,
              "#9c179e"
             ],
             [
              0.4444444444444444,
              "#bd3786"
             ],
             [
              0.5555555555555556,
              "#d8576b"
             ],
             [
              0.6666666666666666,
              "#ed7953"
             ],
             [
              0.7777777777777778,
              "#fb9f3a"
             ],
             [
              0.8888888888888888,
              "#fdca26"
             ],
             [
              1,
              "#f0f921"
             ]
            ],
            "type": "heatmapgl"
           }
          ],
          "histogram": [
           {
            "marker": {
             "pattern": {
              "fillmode": "overlay",
              "size": 10,
              "solidity": 0.2
             }
            },
            "type": "histogram"
           }
          ],
          "histogram2d": [
           {
            "colorbar": {
             "outlinewidth": 0,
             "ticks": ""
            },
            "colorscale": [
             [
              0,
              "#0d0887"
             ],
             [
              0.1111111111111111,
              "#46039f"
             ],
             [
              0.2222222222222222,
              "#7201a8"
             ],
             [
              0.3333333333333333,
              "#9c179e"
             ],
             [
              0.4444444444444444,
              "#bd3786"
             ],
             [
              0.5555555555555556,
              "#d8576b"
             ],
             [
              0.6666666666666666,
              "#ed7953"
             ],
             [
              0.7777777777777778,
              "#fb9f3a"
             ],
             [
              0.8888888888888888,
              "#fdca26"
             ],
             [
              1,
              "#f0f921"
             ]
            ],
            "type": "histogram2d"
           }
          ],
          "histogram2dcontour": [
           {
            "colorbar": {
             "outlinewidth": 0,
             "ticks": ""
            },
            "colorscale": [
             [
              0,
              "#0d0887"
             ],
             [
              0.1111111111111111,
              "#46039f"
             ],
             [
              0.2222222222222222,
              "#7201a8"
             ],
             [
              0.3333333333333333,
              "#9c179e"
             ],
             [
              0.4444444444444444,
              "#bd3786"
             ],
             [
              0.5555555555555556,
              "#d8576b"
             ],
             [
              0.6666666666666666,
              "#ed7953"
             ],
             [
              0.7777777777777778,
              "#fb9f3a"
             ],
             [
              0.8888888888888888,
              "#fdca26"
             ],
             [
              1,
              "#f0f921"
             ]
            ],
            "type": "histogram2dcontour"
           }
          ],
          "mesh3d": [
           {
            "colorbar": {
             "outlinewidth": 0,
             "ticks": ""
            },
            "type": "mesh3d"
           }
          ],
          "parcoords": [
           {
            "line": {
             "colorbar": {
              "outlinewidth": 0,
              "ticks": ""
             }
            },
            "type": "parcoords"
           }
          ],
          "pie": [
           {
            "automargin": true,
            "type": "pie"
           }
          ],
          "scatter": [
           {
            "fillpattern": {
             "fillmode": "overlay",
             "size": 10,
             "solidity": 0.2
            },
            "type": "scatter"
           }
          ],
          "scatter3d": [
           {
            "line": {
             "colorbar": {
              "outlinewidth": 0,
              "ticks": ""
             }
            },
            "marker": {
             "colorbar": {
              "outlinewidth": 0,
              "ticks": ""
             }
            },
            "type": "scatter3d"
           }
          ],
          "scattercarpet": [
           {
            "marker": {
             "colorbar": {
              "outlinewidth": 0,
              "ticks": ""
             }
            },
            "type": "scattercarpet"
           }
          ],
          "scattergeo": [
           {
            "marker": {
             "colorbar": {
              "outlinewidth": 0,
              "ticks": ""
             }
            },
            "type": "scattergeo"
           }
          ],
          "scattergl": [
           {
            "marker": {
             "colorbar": {
              "outlinewidth": 0,
              "ticks": ""
             }
            },
            "type": "scattergl"
           }
          ],
          "scattermapbox": [
           {
            "marker": {
             "colorbar": {
              "outlinewidth": 0,
              "ticks": ""
             }
            },
            "type": "scattermapbox"
           }
          ],
          "scatterpolar": [
           {
            "marker": {
             "colorbar": {
              "outlinewidth": 0,
              "ticks": ""
             }
            },
            "type": "scatterpolar"
           }
          ],
          "scatterpolargl": [
           {
            "marker": {
             "colorbar": {
              "outlinewidth": 0,
              "ticks": ""
             }
            },
            "type": "scatterpolargl"
           }
          ],
          "scatterternary": [
           {
            "marker": {
             "colorbar": {
              "outlinewidth": 0,
              "ticks": ""
             }
            },
            "type": "scatterternary"
           }
          ],
          "surface": [
           {
            "colorbar": {
             "outlinewidth": 0,
             "ticks": ""
            },
            "colorscale": [
             [
              0,
              "#0d0887"
             ],
             [
              0.1111111111111111,
              "#46039f"
             ],
             [
              0.2222222222222222,
              "#7201a8"
             ],
             [
              0.3333333333333333,
              "#9c179e"
             ],
             [
              0.4444444444444444,
              "#bd3786"
             ],
             [
              0.5555555555555556,
              "#d8576b"
             ],
             [
              0.6666666666666666,
              "#ed7953"
             ],
             [
              0.7777777777777778,
              "#fb9f3a"
             ],
             [
              0.8888888888888888,
              "#fdca26"
             ],
             [
              1,
              "#f0f921"
             ]
            ],
            "type": "surface"
           }
          ],
          "table": [
           {
            "cells": {
             "fill": {
              "color": "#EBF0F8"
             },
             "line": {
              "color": "white"
             }
            },
            "header": {
             "fill": {
              "color": "#C8D4E3"
             },
             "line": {
              "color": "white"
             }
            },
            "type": "table"
           }
          ]
         },
         "layout": {
          "annotationdefaults": {
           "arrowcolor": "#2a3f5f",
           "arrowhead": 0,
           "arrowwidth": 1
          },
          "autotypenumbers": "strict",
          "coloraxis": {
           "colorbar": {
            "outlinewidth": 0,
            "ticks": ""
           }
          },
          "colorscale": {
           "diverging": [
            [
             0,
             "#8e0152"
            ],
            [
             0.1,
             "#c51b7d"
            ],
            [
             0.2,
             "#de77ae"
            ],
            [
             0.3,
             "#f1b6da"
            ],
            [
             0.4,
             "#fde0ef"
            ],
            [
             0.5,
             "#f7f7f7"
            ],
            [
             0.6,
             "#e6f5d0"
            ],
            [
             0.7,
             "#b8e186"
            ],
            [
             0.8,
             "#7fbc41"
            ],
            [
             0.9,
             "#4d9221"
            ],
            [
             1,
             "#276419"
            ]
           ],
           "sequential": [
            [
             0,
             "#0d0887"
            ],
            [
             0.1111111111111111,
             "#46039f"
            ],
            [
             0.2222222222222222,
             "#7201a8"
            ],
            [
             0.3333333333333333,
             "#9c179e"
            ],
            [
             0.4444444444444444,
             "#bd3786"
            ],
            [
             0.5555555555555556,
             "#d8576b"
            ],
            [
             0.6666666666666666,
             "#ed7953"
            ],
            [
             0.7777777777777778,
             "#fb9f3a"
            ],
            [
             0.8888888888888888,
             "#fdca26"
            ],
            [
             1,
             "#f0f921"
            ]
           ],
           "sequentialminus": [
            [
             0,
             "#0d0887"
            ],
            [
             0.1111111111111111,
             "#46039f"
            ],
            [
             0.2222222222222222,
             "#7201a8"
            ],
            [
             0.3333333333333333,
             "#9c179e"
            ],
            [
             0.4444444444444444,
             "#bd3786"
            ],
            [
             0.5555555555555556,
             "#d8576b"
            ],
            [
             0.6666666666666666,
             "#ed7953"
            ],
            [
             0.7777777777777778,
             "#fb9f3a"
            ],
            [
             0.8888888888888888,
             "#fdca26"
            ],
            [
             1,
             "#f0f921"
            ]
           ]
          },
          "colorway": [
           "#636efa",
           "#EF553B",
           "#00cc96",
           "#ab63fa",
           "#FFA15A",
           "#19d3f3",
           "#FF6692",
           "#B6E880",
           "#FF97FF",
           "#FECB52"
          ],
          "font": {
           "color": "#2a3f5f"
          },
          "geo": {
           "bgcolor": "white",
           "lakecolor": "white",
           "landcolor": "#E5ECF6",
           "showlakes": true,
           "showland": true,
           "subunitcolor": "white"
          },
          "hoverlabel": {
           "align": "left"
          },
          "hovermode": "closest",
          "mapbox": {
           "style": "light"
          },
          "paper_bgcolor": "white",
          "plot_bgcolor": "#E5ECF6",
          "polar": {
           "angularaxis": {
            "gridcolor": "white",
            "linecolor": "white",
            "ticks": ""
           },
           "bgcolor": "#E5ECF6",
           "radialaxis": {
            "gridcolor": "white",
            "linecolor": "white",
            "ticks": ""
           }
          },
          "scene": {
           "xaxis": {
            "backgroundcolor": "#E5ECF6",
            "gridcolor": "white",
            "gridwidth": 2,
            "linecolor": "white",
            "showbackground": true,
            "ticks": "",
            "zerolinecolor": "white"
           },
           "yaxis": {
            "backgroundcolor": "#E5ECF6",
            "gridcolor": "white",
            "gridwidth": 2,
            "linecolor": "white",
            "showbackground": true,
            "ticks": "",
            "zerolinecolor": "white"
           },
           "zaxis": {
            "backgroundcolor": "#E5ECF6",
            "gridcolor": "white",
            "gridwidth": 2,
            "linecolor": "white",
            "showbackground": true,
            "ticks": "",
            "zerolinecolor": "white"
           }
          },
          "shapedefaults": {
           "line": {
            "color": "#2a3f5f"
           }
          },
          "ternary": {
           "aaxis": {
            "gridcolor": "white",
            "linecolor": "white",
            "ticks": ""
           },
           "baxis": {
            "gridcolor": "white",
            "linecolor": "white",
            "ticks": ""
           },
           "bgcolor": "#E5ECF6",
           "caxis": {
            "gridcolor": "white",
            "linecolor": "white",
            "ticks": ""
           }
          },
          "title": {
           "x": 0.05
          },
          "xaxis": {
           "automargin": true,
           "gridcolor": "white",
           "linecolor": "white",
           "ticks": "",
           "title": {
            "standoff": 15
           },
           "zerolinecolor": "white",
           "zerolinewidth": 2
          },
          "yaxis": {
           "automargin": true,
           "gridcolor": "white",
           "linecolor": "white",
           "ticks": "",
           "title": {
            "standoff": 15
           },
           "zerolinecolor": "white",
           "zerolinewidth": 2
          }
         }
        },
        "width": 220,
        "xaxis": {
         "anchor": "y",
         "domain": [
          0,
          1
         ],
         "gridcolor": "lightgrey",
         "tickfont": {
          "size": 10.5
         },
         "tickmode": "array",
         "title": {
          "font": {
           "size": 10.5
          },
          "standoff": 5,
          "text": "Expert query volume"
         },
         "type": "log"
        },
        "yaxis": {
         "anchor": "x",
         "domain": [
          0,
          1
         ],
         "gridcolor": "lightgrey",
         "tickfont": {
          "size": 10.5
         },
         "tickvals": [
          0,
          0.1,
          0.2,
          0.3,
          0.4,
          0.5,
          0.6,
          0.7,
          0.8,
          0.9,
          1
         ],
         "title": {
          "font": {
           "size": 10.5
          },
          "standoff": 5,
          "text": "f1-score ± 99% CI"
         }
        }
       }
      }
     },
     "metadata": {},
     "output_type": "display_data"
    }
   ],
   "source": [
    "import plotly.graph_objects as go\n",
    "from plotly.subplots import make_subplots\n",
    "import numpy as np\n",
    "\n",
    "import plotly.graph_objects as go\n",
    "import plotly.express as px\n",
    "\n",
    "dataset = 'MagicTelescope'\n",
    "\n",
    "approaches = {\n",
    "    #'EEneuralcbpside_v5': {'color': [255, 255, 0], 'label': 'EEneuralcbpside_v5'},  # Red\n",
    "    'IneurAL (official)': {'color': [255, 161, 90], 'label':'IneurAL6'},                    # Yellow\n",
    "    'IneurAL (less exploration)': {'color': [25, 211, 243], 'label':'IneurAL3'},                    # Cyan\n",
    "    'Neuronal (official)': {'color': [255, 102, 146], 'label':'neuronal6'},                  # Magenta\n",
    "    'Neuronal (less exploration)': {'color': [182, 232, 128], 'label':'neuronal3'},                   # Orange\n",
    "    'Margin': {'color': [255, 151, 255], 'label':'margin'},\n",
    "    'Cesa': {'color': [254, 203, 82], 'label':'cesa'},\n",
    "    'Neural-CBP': {'color': [171, 99, 250], 'label': 'EEneuralcbpside_v6'},  # Red\n",
    "}\n",
    "\n",
    "thresholds = ['f1_10', 'f1_25', 'f1_50', 'f1_100', 'f1_150',\n",
    "              'f1_250', 'f1_300', 'f1_400', 'f1_500', 'f1_750', \n",
    "              'f1_1000', 'f1_2500', 'f1_5000', 'f1_7500',]\n",
    "\n",
    "# Create a subplot with 1 row and 2 columns\n",
    "fig = make_subplots(rows=1, cols=1,) #subplot_titles=(\"f1-score\", \"# of labelled observations\")\n",
    "\n",
    "# Add your traces for the first figure to the first subplot\n",
    "for approach in approaches.keys():\n",
    "    # ... [your existing code for calculating mean_values, std_values, and color] ...\n",
    "    mean_values = [] \n",
    "    std_values = []\n",
    "    r,g,b = approaches[approach]['color']\n",
    "    \n",
    "    for threshold in thresholds:\n",
    "        mean_value = df_mean[(df_mean['Dataset'] == dataset) & (df_mean['Approach'] == approach)][threshold].values[0]\n",
    "        mean_values.append(mean_value)\n",
    "\n",
    "        std_value = df_std[(df_std['Dataset'] == dataset) & (df_std['Approach'] == approach)][threshold].values[0]\n",
    "        std_values.append( 2.575 * std_value / n_folds  )\n",
    "        # std_values.append(  std_value)\n",
    "\n",
    "    fig.add_trace(go.Scatter(\n",
    "        x=[10, 25, 50, 100, 150, 250, 300, 400, 500, 750, 1000, 2500, 5000, 7500, 9000], \n",
    "        y=mean_values,\n",
    "        error_y=dict(type='data', array=std_values, visible=True, thickness=1, width=3),\n",
    "        line=dict(dash='solid', width=1, color='rgba({},{},{},1)'.format(r,g,b)),\n",
    "        marker=dict(size=2.5),\n",
    "        name=approach), \n",
    "        row=1, col=1)\n",
    "\n",
    "# Add your traces for the second figure to the second subplot\n",
    "# for approach in approaches.keys():\n",
    "#     # ... [your existing code for calculating explo_value, upper, and color] ...\n",
    "#     r,g,b = approaches[approach]['color']\n",
    "#     explo_value = explo_final['MLP'][dataset][approach]\n",
    "#     upper = explo_value + explo2_final['MLP'][dataset][approach]\n",
    "#     xcoords = np.arange(0,horizon,1).tolist()\n",
    "\n",
    "#     fig.add_trace(go.Scatter(\n",
    "#         x=xcoords+xcoords[::-1], \n",
    "#         y=upper.tolist()+explo_value.tolist()[::-1],  \n",
    "#         fill='toself',\n",
    "#         fillcolor='rgba({},{},{},0.2)'.format(r,g,b),\n",
    "#         line=dict(color='rgba({},{},{},1)'.format(r,g,b), width=0),\n",
    "#         hoverinfo=\"skip\"),\n",
    "#         row=1, col=2)\n",
    "    \n",
    "#     fig.add_trace(go.Scatter(\n",
    "#         x=xcoords, \n",
    "#         y=explo_value,\n",
    "#         line=dict(dash='solid', width=2, color='rgba({},{},{},1)'.format(r,g,b)),\n",
    "#         name=approach), \n",
    "#         row=1, col=2)\n",
    "\n",
    "# Update layout and axes for the combined figure\n",
    "siz = 12.5\n",
    "fig.update_layout(\n",
    "    width=220,  # Adjusted for two subplots\n",
    "    height=180,\n",
    "    plot_bgcolor='white',\n",
    "    paper_bgcolor='white',\n",
    "    margin=dict(l=0, r=0, t=0, b=0),\n",
    "    showlegend=False\n",
    ")\n",
    "\n",
    "# Update xaxis and yaxis properties for each subplot\n",
    "fig.update_xaxes(title_text=\"Expert query volume\", row=1, col=1, gridcolor='lightgrey', tickmode='array', type=\"log\", title_standoff=5, title_font=dict(size=siz-2), tickfont=dict(size=siz-2))\n",
    "fig.update_yaxes(title_text=\"f1-score ± 99% CI\",  row=1, col=1, gridcolor='lightgrey', #range=[0,1.05]\n",
    "                 title_standoff=5, title_font=dict(size=siz-2), tickfont=dict(size=siz-2), tickvals=[0, 0.1, 0.2, 0.3, 0.4, 0.5, 0.6, 0.7, 0.8, 0.9, 1] )\n",
    "\n",
    "# fig.update_xaxes(title_text=\"Round\", row=1, col=2, gridcolor='lightgrey', tickmode='array', title_standoff=5, title_font=dict(size=siz-2), tickfont=dict(size=siz-2))\n",
    "# fig.update_yaxes(title_text=\"# of labels ± 99% CI\", range=[0,4.5], row=1, col=2, gridcolor='lightgrey',type=\"log\", title_standoff=0, title_font=dict(size=siz-2), tickfont=dict(size=siz-2))\n",
    "\n",
    "fig.show()\n",
    "\n",
    "# Save the combined figure as a PDF\n",
    "# fig.write_image(\"./figures/combined_{}_{}_{}.pdf\".format(case, model, dataset))\n",
    "# fig.write_image(\"./figures/tst.pdf\".format(case, model, dataset))\n",
    "# fig.write_image(\"./figures/f1_{}_{}_{}_cr.pdf\".format(case, model, dataset))\n"
   ]
  },
  {
   "cell_type": "code",
   "execution_count": 17,
   "metadata": {},
   "outputs": [
    {
     "data": {
      "application/vnd.plotly.v1+json": {
       "config": {
        "plotlyServerURL": "https://plot.ly"
       },
       "data": [
        {
         "error_y": {
          "array": [],
          "thickness": 1,
          "type": "data",
          "visible": true,
          "width": 3
         },
         "line": {
          "color": "rgba(255,161,90,1)",
          "dash": "solid",
          "width": 2
         },
         "marker": {
          "size": 2.5
         },
         "name": "IneurAL (official)",
         "showlegend": true,
         "type": "scatter",
         "x": [
          1
         ],
         "xaxis": "x",
         "y": [
          1
         ],
         "yaxis": "y"
        },
        {
         "error_y": {
          "array": [],
          "thickness": 1,
          "type": "data",
          "visible": true,
          "width": 3
         },
         "line": {
          "color": "rgba(25,211,243,1)",
          "dash": "solid",
          "width": 2
         },
         "marker": {
          "size": 2.5
         },
         "name": "IneurAL (less exploration)",
         "showlegend": true,
         "type": "scatter",
         "x": [
          1
         ],
         "xaxis": "x",
         "y": [
          1
         ],
         "yaxis": "y"
        },
        {
         "error_y": {
          "array": [],
          "thickness": 1,
          "type": "data",
          "visible": true,
          "width": 3
         },
         "line": {
          "color": "rgba(255,102,146,1)",
          "dash": "solid",
          "width": 2
         },
         "marker": {
          "size": 2.5
         },
         "name": "Neuronal (official)",
         "showlegend": true,
         "type": "scatter",
         "x": [
          1
         ],
         "xaxis": "x",
         "y": [
          1
         ],
         "yaxis": "y"
        },
        {
         "error_y": {
          "array": [],
          "thickness": 1,
          "type": "data",
          "visible": true,
          "width": 3
         },
         "line": {
          "color": "rgba(182,232,128,1)",
          "dash": "solid",
          "width": 2
         },
         "marker": {
          "size": 2.5
         },
         "name": "Neuronal (less exploration)",
         "showlegend": true,
         "type": "scatter",
         "x": [
          1
         ],
         "xaxis": "x",
         "y": [
          1
         ],
         "yaxis": "y"
        },
        {
         "error_y": {
          "array": [],
          "thickness": 1,
          "type": "data",
          "visible": true,
          "width": 3
         },
         "line": {
          "color": "rgba(171,99,250,1)",
          "dash": "solid",
          "width": 2
         },
         "marker": {
          "size": 2.5
         },
         "name": "Neural-CBP",
         "showlegend": true,
         "type": "scatter",
         "x": [
          1
         ],
         "xaxis": "x",
         "y": [
          1
         ],
         "yaxis": "y"
        }
       ],
       "layout": {
        "height": 60,
        "legend": {
         "bgcolor": "rgba(255,255,255,1)",
         "font": {
          "color": "black",
          "size": 12.5
         },
         "orientation": "h",
         "x": 0.5,
         "xanchor": "center",
         "y": 0.5,
         "yanchor": "middle"
        },
        "margin": {
         "b": 0,
         "l": 0,
         "r": 0,
         "t": 0
        },
        "paper_bgcolor": "white",
        "plot_bgcolor": "white",
        "showlegend": true,
        "template": {
         "data": {
          "bar": [
           {
            "error_x": {
             "color": "#2a3f5f"
            },
            "error_y": {
             "color": "#2a3f5f"
            },
            "marker": {
             "line": {
              "color": "#E5ECF6",
              "width": 0.5
             },
             "pattern": {
              "fillmode": "overlay",
              "size": 10,
              "solidity": 0.2
             }
            },
            "type": "bar"
           }
          ],
          "barpolar": [
           {
            "marker": {
             "line": {
              "color": "#E5ECF6",
              "width": 0.5
             },
             "pattern": {
              "fillmode": "overlay",
              "size": 10,
              "solidity": 0.2
             }
            },
            "type": "barpolar"
           }
          ],
          "carpet": [
           {
            "aaxis": {
             "endlinecolor": "#2a3f5f",
             "gridcolor": "white",
             "linecolor": "white",
             "minorgridcolor": "white",
             "startlinecolor": "#2a3f5f"
            },
            "baxis": {
             "endlinecolor": "#2a3f5f",
             "gridcolor": "white",
             "linecolor": "white",
             "minorgridcolor": "white",
             "startlinecolor": "#2a3f5f"
            },
            "type": "carpet"
           }
          ],
          "choropleth": [
           {
            "colorbar": {
             "outlinewidth": 0,
             "ticks": ""
            },
            "type": "choropleth"
           }
          ],
          "contour": [
           {
            "colorbar": {
             "outlinewidth": 0,
             "ticks": ""
            },
            "colorscale": [
             [
              0,
              "#0d0887"
             ],
             [
              0.1111111111111111,
              "#46039f"
             ],
             [
              0.2222222222222222,
              "#7201a8"
             ],
             [
              0.3333333333333333,
              "#9c179e"
             ],
             [
              0.4444444444444444,
              "#bd3786"
             ],
             [
              0.5555555555555556,
              "#d8576b"
             ],
             [
              0.6666666666666666,
              "#ed7953"
             ],
             [
              0.7777777777777778,
              "#fb9f3a"
             ],
             [
              0.8888888888888888,
              "#fdca26"
             ],
             [
              1,
              "#f0f921"
             ]
            ],
            "type": "contour"
           }
          ],
          "contourcarpet": [
           {
            "colorbar": {
             "outlinewidth": 0,
             "ticks": ""
            },
            "type": "contourcarpet"
           }
          ],
          "heatmap": [
           {
            "colorbar": {
             "outlinewidth": 0,
             "ticks": ""
            },
            "colorscale": [
             [
              0,
              "#0d0887"
             ],
             [
              0.1111111111111111,
              "#46039f"
             ],
             [
              0.2222222222222222,
              "#7201a8"
             ],
             [
              0.3333333333333333,
              "#9c179e"
             ],
             [
              0.4444444444444444,
              "#bd3786"
             ],
             [
              0.5555555555555556,
              "#d8576b"
             ],
             [
              0.6666666666666666,
              "#ed7953"
             ],
             [
              0.7777777777777778,
              "#fb9f3a"
             ],
             [
              0.8888888888888888,
              "#fdca26"
             ],
             [
              1,
              "#f0f921"
             ]
            ],
            "type": "heatmap"
           }
          ],
          "heatmapgl": [
           {
            "colorbar": {
             "outlinewidth": 0,
             "ticks": ""
            },
            "colorscale": [
             [
              0,
              "#0d0887"
             ],
             [
              0.1111111111111111,
              "#46039f"
             ],
             [
              0.2222222222222222,
              "#7201a8"
             ],
             [
              0.3333333333333333,
              "#9c179e"
             ],
             [
              0.4444444444444444,
              "#bd3786"
             ],
             [
              0.5555555555555556,
              "#d8576b"
             ],
             [
              0.6666666666666666,
              "#ed7953"
             ],
             [
              0.7777777777777778,
              "#fb9f3a"
             ],
             [
              0.8888888888888888,
              "#fdca26"
             ],
             [
              1,
              "#f0f921"
             ]
            ],
            "type": "heatmapgl"
           }
          ],
          "histogram": [
           {
            "marker": {
             "pattern": {
              "fillmode": "overlay",
              "size": 10,
              "solidity": 0.2
             }
            },
            "type": "histogram"
           }
          ],
          "histogram2d": [
           {
            "colorbar": {
             "outlinewidth": 0,
             "ticks": ""
            },
            "colorscale": [
             [
              0,
              "#0d0887"
             ],
             [
              0.1111111111111111,
              "#46039f"
             ],
             [
              0.2222222222222222,
              "#7201a8"
             ],
             [
              0.3333333333333333,
              "#9c179e"
             ],
             [
              0.4444444444444444,
              "#bd3786"
             ],
             [
              0.5555555555555556,
              "#d8576b"
             ],
             [
              0.6666666666666666,
              "#ed7953"
             ],
             [
              0.7777777777777778,
              "#fb9f3a"
             ],
             [
              0.8888888888888888,
              "#fdca26"
             ],
             [
              1,
              "#f0f921"
             ]
            ],
            "type": "histogram2d"
           }
          ],
          "histogram2dcontour": [
           {
            "colorbar": {
             "outlinewidth": 0,
             "ticks": ""
            },
            "colorscale": [
             [
              0,
              "#0d0887"
             ],
             [
              0.1111111111111111,
              "#46039f"
             ],
             [
              0.2222222222222222,
              "#7201a8"
             ],
             [
              0.3333333333333333,
              "#9c179e"
             ],
             [
              0.4444444444444444,
              "#bd3786"
             ],
             [
              0.5555555555555556,
              "#d8576b"
             ],
             [
              0.6666666666666666,
              "#ed7953"
             ],
             [
              0.7777777777777778,
              "#fb9f3a"
             ],
             [
              0.8888888888888888,
              "#fdca26"
             ],
             [
              1,
              "#f0f921"
             ]
            ],
            "type": "histogram2dcontour"
           }
          ],
          "mesh3d": [
           {
            "colorbar": {
             "outlinewidth": 0,
             "ticks": ""
            },
            "type": "mesh3d"
           }
          ],
          "parcoords": [
           {
            "line": {
             "colorbar": {
              "outlinewidth": 0,
              "ticks": ""
             }
            },
            "type": "parcoords"
           }
          ],
          "pie": [
           {
            "automargin": true,
            "type": "pie"
           }
          ],
          "scatter": [
           {
            "fillpattern": {
             "fillmode": "overlay",
             "size": 10,
             "solidity": 0.2
            },
            "type": "scatter"
           }
          ],
          "scatter3d": [
           {
            "line": {
             "colorbar": {
              "outlinewidth": 0,
              "ticks": ""
             }
            },
            "marker": {
             "colorbar": {
              "outlinewidth": 0,
              "ticks": ""
             }
            },
            "type": "scatter3d"
           }
          ],
          "scattercarpet": [
           {
            "marker": {
             "colorbar": {
              "outlinewidth": 0,
              "ticks": ""
             }
            },
            "type": "scattercarpet"
           }
          ],
          "scattergeo": [
           {
            "marker": {
             "colorbar": {
              "outlinewidth": 0,
              "ticks": ""
             }
            },
            "type": "scattergeo"
           }
          ],
          "scattergl": [
           {
            "marker": {
             "colorbar": {
              "outlinewidth": 0,
              "ticks": ""
             }
            },
            "type": "scattergl"
           }
          ],
          "scattermapbox": [
           {
            "marker": {
             "colorbar": {
              "outlinewidth": 0,
              "ticks": ""
             }
            },
            "type": "scattermapbox"
           }
          ],
          "scatterpolar": [
           {
            "marker": {
             "colorbar": {
              "outlinewidth": 0,
              "ticks": ""
             }
            },
            "type": "scatterpolar"
           }
          ],
          "scatterpolargl": [
           {
            "marker": {
             "colorbar": {
              "outlinewidth": 0,
              "ticks": ""
             }
            },
            "type": "scatterpolargl"
           }
          ],
          "scatterternary": [
           {
            "marker": {
             "colorbar": {
              "outlinewidth": 0,
              "ticks": ""
             }
            },
            "type": "scatterternary"
           }
          ],
          "surface": [
           {
            "colorbar": {
             "outlinewidth": 0,
             "ticks": ""
            },
            "colorscale": [
             [
              0,
              "#0d0887"
             ],
             [
              0.1111111111111111,
              "#46039f"
             ],
             [
              0.2222222222222222,
              "#7201a8"
             ],
             [
              0.3333333333333333,
              "#9c179e"
             ],
             [
              0.4444444444444444,
              "#bd3786"
             ],
             [
              0.5555555555555556,
              "#d8576b"
             ],
             [
              0.6666666666666666,
              "#ed7953"
             ],
             [
              0.7777777777777778,
              "#fb9f3a"
             ],
             [
              0.8888888888888888,
              "#fdca26"
             ],
             [
              1,
              "#f0f921"
             ]
            ],
            "type": "surface"
           }
          ],
          "table": [
           {
            "cells": {
             "fill": {
              "color": "#EBF0F8"
             },
             "line": {
              "color": "white"
             }
            },
            "header": {
             "fill": {
              "color": "#C8D4E3"
             },
             "line": {
              "color": "white"
             }
            },
            "type": "table"
           }
          ]
         },
         "layout": {
          "annotationdefaults": {
           "arrowcolor": "#2a3f5f",
           "arrowhead": 0,
           "arrowwidth": 1
          },
          "autotypenumbers": "strict",
          "coloraxis": {
           "colorbar": {
            "outlinewidth": 0,
            "ticks": ""
           }
          },
          "colorscale": {
           "diverging": [
            [
             0,
             "#8e0152"
            ],
            [
             0.1,
             "#c51b7d"
            ],
            [
             0.2,
             "#de77ae"
            ],
            [
             0.3,
             "#f1b6da"
            ],
            [
             0.4,
             "#fde0ef"
            ],
            [
             0.5,
             "#f7f7f7"
            ],
            [
             0.6,
             "#e6f5d0"
            ],
            [
             0.7,
             "#b8e186"
            ],
            [
             0.8,
             "#7fbc41"
            ],
            [
             0.9,
             "#4d9221"
            ],
            [
             1,
             "#276419"
            ]
           ],
           "sequential": [
            [
             0,
             "#0d0887"
            ],
            [
             0.1111111111111111,
             "#46039f"
            ],
            [
             0.2222222222222222,
             "#7201a8"
            ],
            [
             0.3333333333333333,
             "#9c179e"
            ],
            [
             0.4444444444444444,
             "#bd3786"
            ],
            [
             0.5555555555555556,
             "#d8576b"
            ],
            [
             0.6666666666666666,
             "#ed7953"
            ],
            [
             0.7777777777777778,
             "#fb9f3a"
            ],
            [
             0.8888888888888888,
             "#fdca26"
            ],
            [
             1,
             "#f0f921"
            ]
           ],
           "sequentialminus": [
            [
             0,
             "#0d0887"
            ],
            [
             0.1111111111111111,
             "#46039f"
            ],
            [
             0.2222222222222222,
             "#7201a8"
            ],
            [
             0.3333333333333333,
             "#9c179e"
            ],
            [
             0.4444444444444444,
             "#bd3786"
            ],
            [
             0.5555555555555556,
             "#d8576b"
            ],
            [
             0.6666666666666666,
             "#ed7953"
            ],
            [
             0.7777777777777778,
             "#fb9f3a"
            ],
            [
             0.8888888888888888,
             "#fdca26"
            ],
            [
             1,
             "#f0f921"
            ]
           ]
          },
          "colorway": [
           "#636efa",
           "#EF553B",
           "#00cc96",
           "#ab63fa",
           "#FFA15A",
           "#19d3f3",
           "#FF6692",
           "#B6E880",
           "#FF97FF",
           "#FECB52"
          ],
          "font": {
           "color": "#2a3f5f"
          },
          "geo": {
           "bgcolor": "white",
           "lakecolor": "white",
           "landcolor": "#E5ECF6",
           "showlakes": true,
           "showland": true,
           "subunitcolor": "white"
          },
          "hoverlabel": {
           "align": "left"
          },
          "hovermode": "closest",
          "mapbox": {
           "style": "light"
          },
          "paper_bgcolor": "white",
          "plot_bgcolor": "#E5ECF6",
          "polar": {
           "angularaxis": {
            "gridcolor": "white",
            "linecolor": "white",
            "ticks": ""
           },
           "bgcolor": "#E5ECF6",
           "radialaxis": {
            "gridcolor": "white",
            "linecolor": "white",
            "ticks": ""
           }
          },
          "scene": {
           "xaxis": {
            "backgroundcolor": "#E5ECF6",
            "gridcolor": "white",
            "gridwidth": 2,
            "linecolor": "white",
            "showbackground": true,
            "ticks": "",
            "zerolinecolor": "white"
           },
           "yaxis": {
            "backgroundcolor": "#E5ECF6",
            "gridcolor": "white",
            "gridwidth": 2,
            "linecolor": "white",
            "showbackground": true,
            "ticks": "",
            "zerolinecolor": "white"
           },
           "zaxis": {
            "backgroundcolor": "#E5ECF6",
            "gridcolor": "white",
            "gridwidth": 2,
            "linecolor": "white",
            "showbackground": true,
            "ticks": "",
            "zerolinecolor": "white"
           }
          },
          "shapedefaults": {
           "line": {
            "color": "#2a3f5f"
           }
          },
          "ternary": {
           "aaxis": {
            "gridcolor": "white",
            "linecolor": "white",
            "ticks": ""
           },
           "baxis": {
            "gridcolor": "white",
            "linecolor": "white",
            "ticks": ""
           },
           "bgcolor": "#E5ECF6",
           "caxis": {
            "gridcolor": "white",
            "linecolor": "white",
            "ticks": ""
           }
          },
          "title": {
           "x": 0.05
          },
          "xaxis": {
           "automargin": true,
           "gridcolor": "white",
           "linecolor": "white",
           "ticks": "",
           "title": {
            "standoff": 15
           },
           "zerolinecolor": "white",
           "zerolinewidth": 2
          },
          "yaxis": {
           "automargin": true,
           "gridcolor": "white",
           "linecolor": "white",
           "ticks": "",
           "title": {
            "standoff": 15
           },
           "zerolinecolor": "white",
           "zerolinewidth": 2
          }
         }
        },
        "width": 440,
        "xaxis": {
         "anchor": "y",
         "domain": [
          0,
          1
         ],
         "showgrid": false,
         "showticklabels": false,
         "visible": false,
         "zeroline": false
        },
        "yaxis": {
         "anchor": "x",
         "domain": [
          0,
          1
         ],
         "showgrid": false,
         "showticklabels": false,
         "visible": false,
         "zeroline": false
        }
       }
      }
     },
     "metadata": {},
     "output_type": "display_data"
    }
   ],
   "source": [
    "import plotly.graph_objects as go\n",
    "from plotly.subplots import make_subplots\n",
    "import numpy as np\n",
    "\n",
    "import plotly.graph_objects as go\n",
    "import plotly.express as px\n",
    "\n",
    "dataset = 'MagicTelescope'\n",
    "\n",
    "approaches = {\n",
    "    #'EEneuralcbpside_v5': {'color': [255, 255, 0], 'labeMNISTbinaryl': 'EEneuralcbpside_v5'},  # Red\n",
    "    'IneurAL (official)': {'color': [255, 161, 90], 'label':'IneurAL6'},                    # Yellow\n",
    "    'IneurAL (less exploration)': {'color': [25, 211, 243], 'label':'IneurAL3'},                    # Cyan\n",
    "    'Neuronal (official)': {'color': [255, 102, 146], 'label':'neuronal6'},                  # Magenta\n",
    "    'Neuronal (less exploration)': {'color': [182, 232, 128], 'label':'neuronal3'},                   # Orange\n",
    "    # 'Margin': {'color': [255, 151, 255], 'label':'margin'},\n",
    "    # 'Cesa': {'color': [254, 203, 82], 'label':'cesa'},\n",
    "    'Neural-CBP': {'color': [171, 99, 250], 'label': 'EEneuralcbpside_v6'},  # Red\n",
    "}\n",
    "\n",
    "\n",
    "# Create a subplot with 1 row and 2 columns\n",
    "fig = make_subplots(rows=1, cols=1, ) #\n",
    "\n",
    "# Add your traces for the first figure to the first subplot\n",
    "for approach in approaches.keys():\n",
    "    # ... [your existing code for calculating mean_values, std_values, and color] ...\n",
    "    mean_values = [] \n",
    "    std_values = []\n",
    "    r,g,b = approaches[approach]['color']\n",
    "    \n",
    "    fig.add_trace(go.Scatter(\n",
    "        x=[1],  # Dummy x values, not shown\n",
    "        y=[1],  # Dummy y values, not shown\n",
    "        error_y=dict(type='data', array=std_values, visible=True, thickness=1, width=3),\n",
    "        line=dict(dash='solid', width=2, color='rgba({},{},{},1)'.format(r,g,b)),\n",
    "        marker=dict(size=2.5),\n",
    "        name=approach, showlegend=True, ), \n",
    "        row=1, col=1)\n",
    "\n",
    "\n",
    "# Update layout and axes for the combined figure\n",
    "siz = 12.5\n",
    "fig.update_layout(\n",
    "    # width=220,  # Adjusted for two subplots\n",
    "    # height=180,\n",
    "    width=440,  # Adjusted for two subplots\n",
    "    height=60,\n",
    "    plot_bgcolor='white',\n",
    "    paper_bgcolor='white',\n",
    "    margin=dict(l=0, r=0, t=0, b=0),\n",
    "    showlegend=True,\n",
    "    xaxis=dict(showgrid=False, showticklabels=False, zeroline=False, visible=False),  # Set visible to False\n",
    "    yaxis=dict(showgrid=False, showticklabels=False, zeroline=False, visible=False),  # Set visible to False\n",
    "\n",
    "    legend=dict(\n",
    "        orientation=\"h\",\n",
    "        yanchor=\"middle\",\n",
    "        y=0.5,  # Adjust this value to position the legend\n",
    "        xanchor=\"center\",\n",
    "        x=0.5,\n",
    "        bgcolor='rgba(255,255,255,1)',\n",
    "        font=dict(size=siz, color='black'),  # Increase legend font size\n",
    "        # title=dict(\n",
    "        #     text='<b>Legend</b>',  # Set the text for your legend title\n",
    "        #     font=dict(size=siz)  # Optionally set the font size for the legend title\n",
    "        # )\n",
    "    )\n",
    ")\n",
    "\n",
    "\n",
    "fig.show()\n",
    "\n",
    "# Save the combined figure as a PDF\n",
    "# fig.write_image(\"./figures/binary_legend_cr.png\".format(case, model, dataset), scale=10)\n",
    "fig.write_image(\"./figures/nonbinary_legend_cr.png\".format(case, model, dataset), scale=10)\n",
    "# fig.write_image(\"./figures/nonbinary_LeNet_legend_cr.png\".format(case, model, dataset), scale=10)\n"
   ]
  }
 ],
 "metadata": {
  "kernelspec": {
   "display_name": ".venv",
   "language": "python",
   "name": "python3"
  },
  "language_info": {
   "codemirror_mode": {
    "name": "ipython",
    "version": 3
   },
   "file_extension": ".py",
   "mimetype": "text/x-python",
   "name": "python",
   "nbconvert_exporter": "python",
   "pygments_lexer": "ipython3",
   "version": "3.8.16"
  },
  "orig_nbformat": 4
 },
 "nbformat": 4,
 "nbformat_minor": 2
}
