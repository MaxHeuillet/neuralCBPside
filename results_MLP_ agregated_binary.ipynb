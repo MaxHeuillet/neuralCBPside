{
 "cells": [
  {
   "cell_type": "code",
   "execution_count": 3,
   "metadata": {},
   "outputs": [],
   "source": [
    "import os\n",
    "import numpy as np\n",
    "import plotly.graph_objects as go\n",
    "import pandas as pd\n",
    "import gzip\n",
    "import pickle as pkl\n",
    "\n",
    "def loadall_results2(path, n_folds):\n",
    "    regret = []\n",
    "    history_actions = []\n",
    "    history_outcomes = []\n",
    "    perf = []\n",
    "    with gzip.open(  path ,'rb') as f:\n",
    "        for i in range(n_folds+1):\n",
    "            try:\n",
    "                data = pkl.load(f)\n",
    "            except EOFError:\n",
    "                break\n",
    "\n",
    "            if type(data) == dict:\n",
    "                regret.append( data['regret'] ) \n",
    "                history_actions.append( data['action_history'] )\n",
    "                history_outcomes.append( data['outcome_history'] ) \n",
    "                perf.append( data['pred'] ) \n",
    "\n",
    "    return regret, history_actions, history_outcomes, perf"
   ]
  },
  {
   "cell_type": "code",
   "execution_count": 25,
   "metadata": {},
   "outputs": [],
   "source": [
    "n_folds = 25\n",
    "horizon = 9999\n",
    "context = 'MNISTbinary'\n",
    "model = 'MLP'\n",
    "case = 'case1'\n",
    "agent_name = 'EEneuralcbpside_v6' #ineural6, neuronal6\n",
    "\n",
    "direct = './results/'\n",
    "path = os.path.join(direct, '{}_{}_{}_{}_{}_{}.pkl.gz'.format(case,model,context,horizon,n_folds,agent_name) )\n",
    "regret, action_history,outcome_history, perf = loadall_results2(path, n_folds)\n"
   ]
  },
  {
   "cell_type": "code",
   "execution_count": 44,
   "metadata": {},
   "outputs": [],
   "source": [
    "# Process the list to create a format suitable for DataFrame\n",
    "\n",
    "\n",
    "# Create DataFrame\n",
    "df = pd.DataFrame(processed_data)\n"
   ]
  },
  {
   "cell_type": "code",
   "execution_count": 4,
   "metadata": {},
   "outputs": [
    {
     "name": "stdout",
     "output_type": "stream",
     "text": [
      "./results/case1_MLP_MNISTbinary_9999_25_EEneuralcbpside_v6.pkl.gz\n",
      "./results/case1_MLP_MNISTbinary_9999_25_ineural6.pkl.gz\n",
      "./results/case1_MLP_MNISTbinary_9999_25_ineural3.pkl.gz\n",
      "./results/case1_MLP_MNISTbinary_9999_25_neuronal6.pkl.gz\n",
      "./results/case1_MLP_MNISTbinary_9999_25_neuronal3.pkl.gz\n",
      "./results/case1_MLP_MNISTbinary_9999_25_margin.pkl.gz\n",
      "./results/case1_MLP_MNISTbinary_9999_25_cesa.pkl.gz\n",
      "./results/case1_MLP_MagicTelescope_9999_25_EEneuralcbpside_v6.pkl.gz\n",
      "./results/case1_MLP_MagicTelescope_9999_25_ineural6.pkl.gz\n",
      "./results/case1_MLP_MagicTelescope_9999_25_ineural3.pkl.gz\n",
      "./results/case1_MLP_MagicTelescope_9999_25_neuronal6.pkl.gz\n",
      "./results/case1_MLP_MagicTelescope_9999_25_neuronal3.pkl.gz\n",
      "./results/case1_MLP_MagicTelescope_9999_25_margin.pkl.gz\n",
      "./results/case1_MLP_MagicTelescope_9999_25_cesa.pkl.gz\n",
      "./results/case1_MLP_adult_9999_25_EEneuralcbpside_v6.pkl.gz\n",
      "./results/case1_MLP_adult_9999_25_ineural6.pkl.gz\n",
      "./results/case1_MLP_adult_9999_25_ineural3.pkl.gz\n",
      "./results/case1_MLP_adult_9999_25_neuronal6.pkl.gz\n",
      "./results/case1_MLP_adult_9999_25_neuronal3.pkl.gz\n",
      "./results/case1_MLP_adult_9999_25_margin.pkl.gz\n",
      "./results/case1_MLP_adult_9999_25_cesa.pkl.gz\n"
     ]
    }
   ],
   "source": [
    "def format_perf(perf, model, dataset, l_label):\n",
    "    processed_data = []\n",
    "    i = 0\n",
    "    for item in perf:\n",
    "        processed_item = {}\n",
    "        for key in item:\n",
    "            processed_item[f'accuracy_{key}'] = item[key]['accuracy']\n",
    "            processed_item[f'f1_{key}'] = item[key]['f1']\n",
    "        processed_item['Seed'] = i\n",
    "        processed_item['Model'] = model\n",
    "        processed_item['Dataset'] = dataset\n",
    "        processed_item['Approach'] = l_label\n",
    "        i = i+1\n",
    "        processed_data.append(processed_item)\n",
    "    return processed_data\n",
    "\n",
    "\n",
    "\n",
    "n_folds = 26\n",
    "horizon = 9999\n",
    "model = 'MLP'\n",
    "\n",
    "material = {\n",
    "    #'EEneuralcbpside_v5': {'color': [255, 255, 0], 'label': 'EEneuralcbpside_v5'},  # Red\n",
    "    'EEneuralcbpside_v6': {'color': [255, 0, 0], 'label': 'Neural-CBP'},  # Red\n",
    "    'ineural6': {'color': [51, 255, 255], 'label':'IneurAL (official)'},                    # Yellow\n",
    "    'ineural3': {'color': [0, 0, 255], 'label':'IneurAL (tuned)'},                    # Cyan\n",
    "    'neuronal6': {'color': [255, 0, 255], 'label':'Neuronal (official)'},                  # Magenta\n",
    "    'neuronal3': {'color': [160, 160, 160], 'label':'Neuronal (tuned)'},                   # Orange\n",
    "    'margin': {'color': [160, 160, 160], 'label':'Margin'},\n",
    "    'cesa': {'color': [0, 0, 255], 'label':'Cesa'},\n",
    "}\n",
    "\n",
    "fig = go.Figure( )\n",
    "\n",
    "data_models = {}\n",
    "perfs_final = {}\n",
    "for model in ['MLP']:  # 'LeNet'\n",
    "\n",
    "    if model == 'MLP':\n",
    "        n_folds = 25\n",
    "        datasets = ['MNISTbinary', 'MagicTelescope', 'adult', ] # 'MNIST', 'FASHION', 'covertype', 'shuttle',\n",
    "    # else:\n",
    "    #     datasets = ['MNIST', 'FASHION', 'CIFAR10',]\n",
    "    #     n_folds = 25\n",
    "\n",
    "    data_regrets = {} \n",
    "    data_perfs = {} \n",
    "    for data in datasets: \n",
    "\n",
    "        # if data in ['MNIST', 'FASHION', 'CIFAR10']:\n",
    "        #     case = 'case2' \n",
    "        # elif data in ['covertype', 'shuttle']:\n",
    "        #     case = 'game_case_seven'\n",
    "        # else:\n",
    "        case = 'case1'\n",
    "        \n",
    "        final_regrets = {}\n",
    "        final_perfs = {}\n",
    "        for agent_name in material.keys():\n",
    "\n",
    "            color, l_label = material[agent_name]['color'], material[agent_name]['label']\n",
    "\n",
    "            r,g,b = color\n",
    "\n",
    "            # try:\n",
    "            direct = './results/'\n",
    "            path = os.path.join(direct, '{}_{}_{}_{}_{}_{}.pkl.gz'.format(case, model, data, horizon,n_folds,agent_name) )\n",
    "            print(path)\n",
    "            regret, action_history,outcome_history, perf = loadall_results2(path, n_folds)\n",
    "            regret = np.array(regret)\n",
    "            regret = regret#[1:]\n",
    "            # regret = regret.astype(np.float32)\n",
    "            # print(regret.shape)\n",
    "            \n",
    "            final_regrets[l_label] = regret[:,-1] \n",
    "            final_perfs[l_label] = pd.DataFrame( format_perf(perf, model, data, l_label) )\n",
    "            # except:\n",
    "            #     print('hey')\n",
    "            #     regret = np.zeros((n_folds,horizon))\n",
    "\n",
    "        if data == 'MNISTbinary':\n",
    "            data = 'MNISTbinary'\n",
    "        if data == 'FASHION':\n",
    "            data = 'Fashion'\n",
    "            \n",
    "        data_regrets[data] = final_regrets\n",
    "\n",
    "        dataframes_list = list(final_perfs.values())\n",
    "        concatenated_df = pd.concat(dataframes_list, axis=0)\n",
    "        data_perfs[data] = concatenated_df\n",
    "        \n",
    "    data_models[model] = data_regrets\n",
    "    dataframes_list = list(data_perfs.values())\n",
    "    concatenated_df = pd.concat(dataframes_list, axis=0)\n",
    "\n",
    "# fig.show()\n",
    "# fig.write_image(\"./figures/case1_{}_{}.pdf\".format(model, context) )"
   ]
  },
  {
   "cell_type": "code",
   "execution_count": 5,
   "metadata": {},
   "outputs": [],
   "source": [
    "import pandas as pd\n",
    "# pd.DataFrame(data_regrets)\n",
    "# data_regrets\n",
    "\n",
    "samples = []\n",
    "# Iterate over the dictionary to extract data\n",
    "for model, dataset in data_models.items():\n",
    "    for data, approach in dataset.items():\n",
    "        for appr, values in approach.items():\n",
    "            i = 0\n",
    "            for val in values:\n",
    "                # print(i, appr,val)\n",
    "                samples.append([i, model, data, appr, val])\n",
    "                i = i+1\n",
    "\n",
    "# Create a DataFrame\n",
    "df = pd.DataFrame(samples, columns=['Seed','Model', 'Dataset', 'Approach', 'Value'])\n",
    "df = pd.merge(df, concatenated_df, on=['Model', 'Dataset', 'Approach', 'Seed'])\n",
    "\n",
    "# Calculate mean and standard error for each group\n",
    "# grouped = df.groupby(['Model', 'Dataset', 'Approach'])\n",
    "# mean = grouped['Value'].mean().reset_index()\n",
    "# std_error = grouped['Value'].std() / np.sqrt(grouped['Value'].count())\n",
    "# std_error = std_error.reset_index()\n",
    "# # Merge the mean and standard error into a single DataFrame\n",
    "# result = pd.merge(mean, std_error, on=['Model', 'Dataset', 'Approach'])\n",
    "# result.rename(columns={'Value_x': 'Mean', 'Value_y': 'StdError'}, inplace=True)\n",
    "# result['merge'] = result['Model'] + result['Approach']\n",
    "# result['merge2'] = result['Model'] + result['Dataset']"
   ]
  },
  {
   "cell_type": "code",
   "execution_count": 107,
   "metadata": {},
   "outputs": [],
   "source": [
    "df.to_csv('experiment.csv', index=False)"
   ]
  },
  {
   "cell_type": "code",
   "execution_count": 6,
   "metadata": {},
   "outputs": [
    {
     "data": {
      "text/html": [
       "<div>\n",
       "<style scoped>\n",
       "    .dataframe tbody tr th:only-of-type {\n",
       "        vertical-align: middle;\n",
       "    }\n",
       "\n",
       "    .dataframe tbody tr th {\n",
       "        vertical-align: top;\n",
       "    }\n",
       "\n",
       "    .dataframe thead tr th {\n",
       "        text-align: left;\n",
       "    }\n",
       "\n",
       "    .dataframe thead tr:last-of-type th {\n",
       "        text-align: right;\n",
       "    }\n",
       "</style>\n",
       "<table border=\"1\" class=\"dataframe\">\n",
       "  <thead>\n",
       "    <tr>\n",
       "      <th></th>\n",
       "      <th></th>\n",
       "      <th></th>\n",
       "      <th>Value</th>\n",
       "      <th>accuracy_10</th>\n",
       "      <th>f1_10</th>\n",
       "      <th>accuracy_50</th>\n",
       "      <th>f1_50</th>\n",
       "      <th>accuracy_100</th>\n",
       "      <th>f1_100</th>\n",
       "      <th>accuracy_250</th>\n",
       "      <th>f1_250</th>\n",
       "      <th>accuracy_500</th>\n",
       "      <th>...</th>\n",
       "      <th>accuracy_1000</th>\n",
       "      <th>f1_1000</th>\n",
       "      <th>accuracy_2500</th>\n",
       "      <th>f1_2500</th>\n",
       "      <th>accuracy_5000</th>\n",
       "      <th>f1_5000</th>\n",
       "      <th>accuracy_7500</th>\n",
       "      <th>f1_7500</th>\n",
       "      <th>accuracy_9000</th>\n",
       "      <th>f1_9000</th>\n",
       "    </tr>\n",
       "    <tr>\n",
       "      <th></th>\n",
       "      <th></th>\n",
       "      <th></th>\n",
       "      <th>mean</th>\n",
       "      <th>mean</th>\n",
       "      <th>mean</th>\n",
       "      <th>mean</th>\n",
       "      <th>mean</th>\n",
       "      <th>mean</th>\n",
       "      <th>mean</th>\n",
       "      <th>mean</th>\n",
       "      <th>mean</th>\n",
       "      <th>mean</th>\n",
       "      <th>...</th>\n",
       "      <th>mean</th>\n",
       "      <th>mean</th>\n",
       "      <th>mean</th>\n",
       "      <th>mean</th>\n",
       "      <th>mean</th>\n",
       "      <th>mean</th>\n",
       "      <th>mean</th>\n",
       "      <th>mean</th>\n",
       "      <th>mean</th>\n",
       "      <th>mean</th>\n",
       "    </tr>\n",
       "    <tr>\n",
       "      <th>Model</th>\n",
       "      <th>Dataset</th>\n",
       "      <th>Approach</th>\n",
       "      <th></th>\n",
       "      <th></th>\n",
       "      <th></th>\n",
       "      <th></th>\n",
       "      <th></th>\n",
       "      <th></th>\n",
       "      <th></th>\n",
       "      <th></th>\n",
       "      <th></th>\n",
       "      <th></th>\n",
       "      <th></th>\n",
       "      <th></th>\n",
       "      <th></th>\n",
       "      <th></th>\n",
       "      <th></th>\n",
       "      <th></th>\n",
       "      <th></th>\n",
       "      <th></th>\n",
       "      <th></th>\n",
       "      <th></th>\n",
       "      <th></th>\n",
       "    </tr>\n",
       "  </thead>\n",
       "  <tbody>\n",
       "    <tr>\n",
       "      <th rowspan=\"21\" valign=\"top\">MLP</th>\n",
       "      <th rowspan=\"7\" valign=\"top\">MNISTbinary</th>\n",
       "      <th>Cesa</th>\n",
       "      <td>4857.56</td>\n",
       "      <td>NaN</td>\n",
       "      <td>NaN</td>\n",
       "      <td>NaN</td>\n",
       "      <td>NaN</td>\n",
       "      <td>NaN</td>\n",
       "      <td>NaN</td>\n",
       "      <td>NaN</td>\n",
       "      <td>NaN</td>\n",
       "      <td>NaN</td>\n",
       "      <td>...</td>\n",
       "      <td>NaN</td>\n",
       "      <td>NaN</td>\n",
       "      <td>NaN</td>\n",
       "      <td>NaN</td>\n",
       "      <td>NaN</td>\n",
       "      <td>NaN</td>\n",
       "      <td>NaN</td>\n",
       "      <td>NaN</td>\n",
       "      <td>NaN</td>\n",
       "      <td>NaN</td>\n",
       "    </tr>\n",
       "    <tr>\n",
       "      <th>IneurAL (official)</th>\n",
       "      <td>3929.48</td>\n",
       "      <td>0.658688</td>\n",
       "      <td>0.642092</td>\n",
       "      <td>0.759192</td>\n",
       "      <td>0.754211</td>\n",
       "      <td>0.819428</td>\n",
       "      <td>0.817592</td>\n",
       "      <td>0.878760</td>\n",
       "      <td>0.878427</td>\n",
       "      <td>0.921016</td>\n",
       "      <td>...</td>\n",
       "      <td>0.940228</td>\n",
       "      <td>0.940196</td>\n",
       "      <td>0.962640</td>\n",
       "      <td>0.962636</td>\n",
       "      <td>NaN</td>\n",
       "      <td>NaN</td>\n",
       "      <td>NaN</td>\n",
       "      <td>NaN</td>\n",
       "      <td>NaN</td>\n",
       "      <td>NaN</td>\n",
       "    </tr>\n",
       "    <tr>\n",
       "      <th>IneurAL (tuned)</th>\n",
       "      <td>1726.96</td>\n",
       "      <td>0.643038</td>\n",
       "      <td>0.615288</td>\n",
       "      <td>0.770204</td>\n",
       "      <td>0.767658</td>\n",
       "      <td>0.828729</td>\n",
       "      <td>0.827885</td>\n",
       "      <td>0.899200</td>\n",
       "      <td>0.899090</td>\n",
       "      <td>0.929462</td>\n",
       "      <td>...</td>\n",
       "      <td>0.957350</td>\n",
       "      <td>0.957344</td>\n",
       "      <td>NaN</td>\n",
       "      <td>NaN</td>\n",
       "      <td>NaN</td>\n",
       "      <td>NaN</td>\n",
       "      <td>NaN</td>\n",
       "      <td>NaN</td>\n",
       "      <td>NaN</td>\n",
       "      <td>NaN</td>\n",
       "    </tr>\n",
       "    <tr>\n",
       "      <th>Margin</th>\n",
       "      <td>3216.72</td>\n",
       "      <td>0.492600</td>\n",
       "      <td>0.325144</td>\n",
       "      <td>0.492600</td>\n",
       "      <td>0.325144</td>\n",
       "      <td>0.492600</td>\n",
       "      <td>0.325144</td>\n",
       "      <td>NaN</td>\n",
       "      <td>NaN</td>\n",
       "      <td>NaN</td>\n",
       "      <td>...</td>\n",
       "      <td>NaN</td>\n",
       "      <td>NaN</td>\n",
       "      <td>NaN</td>\n",
       "      <td>NaN</td>\n",
       "      <td>NaN</td>\n",
       "      <td>NaN</td>\n",
       "      <td>NaN</td>\n",
       "      <td>NaN</td>\n",
       "      <td>NaN</td>\n",
       "      <td>NaN</td>\n",
       "    </tr>\n",
       "    <tr>\n",
       "      <th>Neural-CBP</th>\n",
       "      <td>1351.92</td>\n",
       "      <td>0.611452</td>\n",
       "      <td>0.563043</td>\n",
       "      <td>0.722312</td>\n",
       "      <td>0.712713</td>\n",
       "      <td>0.775408</td>\n",
       "      <td>0.765570</td>\n",
       "      <td>0.878884</td>\n",
       "      <td>0.878209</td>\n",
       "      <td>0.930774</td>\n",
       "      <td>...</td>\n",
       "      <td>NaN</td>\n",
       "      <td>NaN</td>\n",
       "      <td>NaN</td>\n",
       "      <td>NaN</td>\n",
       "      <td>NaN</td>\n",
       "      <td>NaN</td>\n",
       "      <td>NaN</td>\n",
       "      <td>NaN</td>\n",
       "      <td>NaN</td>\n",
       "      <td>NaN</td>\n",
       "    </tr>\n",
       "    <tr>\n",
       "      <th>Neuronal (official)</th>\n",
       "      <td>1721.88</td>\n",
       "      <td>0.567744</td>\n",
       "      <td>0.516245</td>\n",
       "      <td>0.753144</td>\n",
       "      <td>0.748138</td>\n",
       "      <td>0.778388</td>\n",
       "      <td>0.777061</td>\n",
       "      <td>0.839920</td>\n",
       "      <td>0.839723</td>\n",
       "      <td>0.894012</td>\n",
       "      <td>...</td>\n",
       "      <td>0.951220</td>\n",
       "      <td>0.951217</td>\n",
       "      <td>NaN</td>\n",
       "      <td>NaN</td>\n",
       "      <td>NaN</td>\n",
       "      <td>NaN</td>\n",
       "      <td>NaN</td>\n",
       "      <td>NaN</td>\n",
       "      <td>NaN</td>\n",
       "      <td>NaN</td>\n",
       "    </tr>\n",
       "    <tr>\n",
       "      <th>Neuronal (tuned)</th>\n",
       "      <td>1721.44</td>\n",
       "      <td>0.590775</td>\n",
       "      <td>0.540633</td>\n",
       "      <td>0.720904</td>\n",
       "      <td>0.711540</td>\n",
       "      <td>0.767248</td>\n",
       "      <td>0.764573</td>\n",
       "      <td>0.859100</td>\n",
       "      <td>0.858876</td>\n",
       "      <td>0.902400</td>\n",
       "      <td>...</td>\n",
       "      <td>0.958175</td>\n",
       "      <td>0.958173</td>\n",
       "      <td>NaN</td>\n",
       "      <td>NaN</td>\n",
       "      <td>NaN</td>\n",
       "      <td>NaN</td>\n",
       "      <td>NaN</td>\n",
       "      <td>NaN</td>\n",
       "      <td>NaN</td>\n",
       "      <td>NaN</td>\n",
       "    </tr>\n",
       "    <tr>\n",
       "      <th rowspan=\"7\" valign=\"top\">MagicTelescope</th>\n",
       "      <th>Cesa</th>\n",
       "      <td>3578.52</td>\n",
       "      <td>0.449452</td>\n",
       "      <td>0.290726</td>\n",
       "      <td>0.449452</td>\n",
       "      <td>0.290726</td>\n",
       "      <td>0.449452</td>\n",
       "      <td>0.290726</td>\n",
       "      <td>0.370534</td>\n",
       "      <td>0.203807</td>\n",
       "      <td>NaN</td>\n",
       "      <td>...</td>\n",
       "      <td>NaN</td>\n",
       "      <td>NaN</td>\n",
       "      <td>NaN</td>\n",
       "      <td>NaN</td>\n",
       "      <td>NaN</td>\n",
       "      <td>NaN</td>\n",
       "      <td>NaN</td>\n",
       "      <td>NaN</td>\n",
       "      <td>NaN</td>\n",
       "      <td>NaN</td>\n",
       "    </tr>\n",
       "    <tr>\n",
       "      <th>IneurAL (official)</th>\n",
       "      <td>9058.72</td>\n",
       "      <td>0.619334</td>\n",
       "      <td>0.591787</td>\n",
       "      <td>0.662909</td>\n",
       "      <td>0.637522</td>\n",
       "      <td>0.687712</td>\n",
       "      <td>0.671124</td>\n",
       "      <td>0.733336</td>\n",
       "      <td>0.730389</td>\n",
       "      <td>0.767190</td>\n",
       "      <td>...</td>\n",
       "      <td>0.777442</td>\n",
       "      <td>0.774260</td>\n",
       "      <td>0.788936</td>\n",
       "      <td>0.785230</td>\n",
       "      <td>0.787943</td>\n",
       "      <td>0.784985</td>\n",
       "      <td>0.799290</td>\n",
       "      <td>0.795223</td>\n",
       "      <td>0.811006</td>\n",
       "      <td>0.807921</td>\n",
       "    </tr>\n",
       "    <tr>\n",
       "      <th>IneurAL (tuned)</th>\n",
       "      <td>6225.28</td>\n",
       "      <td>0.630701</td>\n",
       "      <td>0.568581</td>\n",
       "      <td>0.654360</td>\n",
       "      <td>0.617064</td>\n",
       "      <td>0.685653</td>\n",
       "      <td>0.668178</td>\n",
       "      <td>0.725085</td>\n",
       "      <td>0.713912</td>\n",
       "      <td>0.772325</td>\n",
       "      <td>...</td>\n",
       "      <td>0.790582</td>\n",
       "      <td>0.787813</td>\n",
       "      <td>0.803324</td>\n",
       "      <td>0.798147</td>\n",
       "      <td>0.806627</td>\n",
       "      <td>0.803432</td>\n",
       "      <td>NaN</td>\n",
       "      <td>NaN</td>\n",
       "      <td>NaN</td>\n",
       "      <td>NaN</td>\n",
       "    </tr>\n",
       "    <tr>\n",
       "      <th>Margin</th>\n",
       "      <td>3459.84</td>\n",
       "      <td>0.501147</td>\n",
       "      <td>0.347732</td>\n",
       "      <td>0.499737</td>\n",
       "      <td>0.346076</td>\n",
       "      <td>0.652471</td>\n",
       "      <td>0.515262</td>\n",
       "      <td>NaN</td>\n",
       "      <td>NaN</td>\n",
       "      <td>NaN</td>\n",
       "      <td>...</td>\n",
       "      <td>NaN</td>\n",
       "      <td>NaN</td>\n",
       "      <td>NaN</td>\n",
       "      <td>NaN</td>\n",
       "      <td>NaN</td>\n",
       "      <td>NaN</td>\n",
       "      <td>NaN</td>\n",
       "      <td>NaN</td>\n",
       "      <td>NaN</td>\n",
       "      <td>NaN</td>\n",
       "    </tr>\n",
       "    <tr>\n",
       "      <th>Neural-CBP</th>\n",
       "      <td>3469.84</td>\n",
       "      <td>0.615352</td>\n",
       "      <td>0.595573</td>\n",
       "      <td>0.696927</td>\n",
       "      <td>0.673456</td>\n",
       "      <td>0.721696</td>\n",
       "      <td>0.701046</td>\n",
       "      <td>0.750914</td>\n",
       "      <td>0.738177</td>\n",
       "      <td>0.784823</td>\n",
       "      <td>...</td>\n",
       "      <td>NaN</td>\n",
       "      <td>NaN</td>\n",
       "      <td>NaN</td>\n",
       "      <td>NaN</td>\n",
       "      <td>NaN</td>\n",
       "      <td>NaN</td>\n",
       "      <td>NaN</td>\n",
       "      <td>NaN</td>\n",
       "      <td>NaN</td>\n",
       "      <td>NaN</td>\n",
       "    </tr>\n",
       "    <tr>\n",
       "      <th>Neuronal (official)</th>\n",
       "      <td>4433.44</td>\n",
       "      <td>0.627134</td>\n",
       "      <td>0.537558</td>\n",
       "      <td>0.683967</td>\n",
       "      <td>0.649076</td>\n",
       "      <td>0.694207</td>\n",
       "      <td>0.650958</td>\n",
       "      <td>0.710605</td>\n",
       "      <td>0.677331</td>\n",
       "      <td>0.724075</td>\n",
       "      <td>...</td>\n",
       "      <td>0.742577</td>\n",
       "      <td>0.725563</td>\n",
       "      <td>0.782092</td>\n",
       "      <td>0.774271</td>\n",
       "      <td>NaN</td>\n",
       "      <td>NaN</td>\n",
       "      <td>NaN</td>\n",
       "      <td>NaN</td>\n",
       "      <td>NaN</td>\n",
       "      <td>NaN</td>\n",
       "    </tr>\n",
       "    <tr>\n",
       "      <th>Neuronal (tuned)</th>\n",
       "      <td>4439.04</td>\n",
       "      <td>0.611520</td>\n",
       "      <td>0.571841</td>\n",
       "      <td>0.669588</td>\n",
       "      <td>0.617490</td>\n",
       "      <td>0.683958</td>\n",
       "      <td>0.632980</td>\n",
       "      <td>0.705573</td>\n",
       "      <td>0.646479</td>\n",
       "      <td>0.702243</td>\n",
       "      <td>...</td>\n",
       "      <td>NaN</td>\n",
       "      <td>NaN</td>\n",
       "      <td>NaN</td>\n",
       "      <td>NaN</td>\n",
       "      <td>NaN</td>\n",
       "      <td>NaN</td>\n",
       "      <td>NaN</td>\n",
       "      <td>NaN</td>\n",
       "      <td>NaN</td>\n",
       "      <td>NaN</td>\n",
       "    </tr>\n",
       "    <tr>\n",
       "      <th rowspan=\"7\" valign=\"top\">adult</th>\n",
       "      <th>Cesa</th>\n",
       "      <td>2695.56</td>\n",
       "      <td>0.473823</td>\n",
       "      <td>0.346161</td>\n",
       "      <td>0.473823</td>\n",
       "      <td>0.346161</td>\n",
       "      <td>0.473823</td>\n",
       "      <td>0.346161</td>\n",
       "      <td>0.402919</td>\n",
       "      <td>0.269472</td>\n",
       "      <td>0.240207</td>\n",
       "      <td>...</td>\n",
       "      <td>NaN</td>\n",
       "      <td>NaN</td>\n",
       "      <td>NaN</td>\n",
       "      <td>NaN</td>\n",
       "      <td>NaN</td>\n",
       "      <td>NaN</td>\n",
       "      <td>NaN</td>\n",
       "      <td>NaN</td>\n",
       "      <td>NaN</td>\n",
       "      <td>NaN</td>\n",
       "    </tr>\n",
       "    <tr>\n",
       "      <th>IneurAL (official)</th>\n",
       "      <td>9054.12</td>\n",
       "      <td>0.745679</td>\n",
       "      <td>0.655577</td>\n",
       "      <td>0.773037</td>\n",
       "      <td>0.707472</td>\n",
       "      <td>0.580468</td>\n",
       "      <td>0.496274</td>\n",
       "      <td>0.776834</td>\n",
       "      <td>0.721181</td>\n",
       "      <td>0.754947</td>\n",
       "      <td>...</td>\n",
       "      <td>0.703326</td>\n",
       "      <td>0.655425</td>\n",
       "      <td>0.705271</td>\n",
       "      <td>0.649168</td>\n",
       "      <td>0.758883</td>\n",
       "      <td>0.723097</td>\n",
       "      <td>0.778735</td>\n",
       "      <td>0.760426</td>\n",
       "      <td>0.777308</td>\n",
       "      <td>0.758285</td>\n",
       "    </tr>\n",
       "    <tr>\n",
       "      <th>IneurAL (tuned)</th>\n",
       "      <td>3972.84</td>\n",
       "      <td>0.655228</td>\n",
       "      <td>0.548743</td>\n",
       "      <td>0.636027</td>\n",
       "      <td>0.527199</td>\n",
       "      <td>0.636004</td>\n",
       "      <td>0.527146</td>\n",
       "      <td>0.640132</td>\n",
       "      <td>0.537573</td>\n",
       "      <td>0.721640</td>\n",
       "      <td>...</td>\n",
       "      <td>0.780469</td>\n",
       "      <td>0.709789</td>\n",
       "      <td>0.798417</td>\n",
       "      <td>0.754448</td>\n",
       "      <td>NaN</td>\n",
       "      <td>NaN</td>\n",
       "      <td>NaN</td>\n",
       "      <td>NaN</td>\n",
       "      <td>NaN</td>\n",
       "      <td>NaN</td>\n",
       "    </tr>\n",
       "    <tr>\n",
       "      <th>Margin</th>\n",
       "      <td>2845.24</td>\n",
       "      <td>0.632677</td>\n",
       "      <td>0.519022</td>\n",
       "      <td>0.613309</td>\n",
       "      <td>0.497801</td>\n",
       "      <td>0.633888</td>\n",
       "      <td>0.520920</td>\n",
       "      <td>NaN</td>\n",
       "      <td>NaN</td>\n",
       "      <td>NaN</td>\n",
       "      <td>...</td>\n",
       "      <td>NaN</td>\n",
       "      <td>NaN</td>\n",
       "      <td>NaN</td>\n",
       "      <td>NaN</td>\n",
       "      <td>NaN</td>\n",
       "      <td>NaN</td>\n",
       "      <td>NaN</td>\n",
       "      <td>NaN</td>\n",
       "      <td>NaN</td>\n",
       "      <td>NaN</td>\n",
       "    </tr>\n",
       "    <tr>\n",
       "      <th>Neural-CBP</th>\n",
       "      <td>3445.20</td>\n",
       "      <td>0.592175</td>\n",
       "      <td>0.484292</td>\n",
       "      <td>0.662269</td>\n",
       "      <td>0.575130</td>\n",
       "      <td>0.791835</td>\n",
       "      <td>0.734500</td>\n",
       "      <td>0.791183</td>\n",
       "      <td>0.734952</td>\n",
       "      <td>NaN</td>\n",
       "      <td>...</td>\n",
       "      <td>NaN</td>\n",
       "      <td>NaN</td>\n",
       "      <td>NaN</td>\n",
       "      <td>NaN</td>\n",
       "      <td>NaN</td>\n",
       "      <td>NaN</td>\n",
       "      <td>NaN</td>\n",
       "      <td>NaN</td>\n",
       "      <td>NaN</td>\n",
       "      <td>NaN</td>\n",
       "    </tr>\n",
       "    <tr>\n",
       "      <th>Neuronal (official)</th>\n",
       "      <td>4562.84</td>\n",
       "      <td>0.739866</td>\n",
       "      <td>0.635286</td>\n",
       "      <td>0.768537</td>\n",
       "      <td>0.675892</td>\n",
       "      <td>0.768254</td>\n",
       "      <td>0.675205</td>\n",
       "      <td>0.770126</td>\n",
       "      <td>0.679755</td>\n",
       "      <td>0.773275</td>\n",
       "      <td>...</td>\n",
       "      <td>0.778861</td>\n",
       "      <td>0.700497</td>\n",
       "      <td>0.787488</td>\n",
       "      <td>0.723176</td>\n",
       "      <td>0.792534</td>\n",
       "      <td>0.738271</td>\n",
       "      <td>0.794459</td>\n",
       "      <td>0.747113</td>\n",
       "      <td>NaN</td>\n",
       "      <td>NaN</td>\n",
       "    </tr>\n",
       "    <tr>\n",
       "      <th>Neuronal (tuned)</th>\n",
       "      <td>3668.36</td>\n",
       "      <td>0.767572</td>\n",
       "      <td>0.666641</td>\n",
       "      <td>0.788181</td>\n",
       "      <td>0.716209</td>\n",
       "      <td>0.782517</td>\n",
       "      <td>0.726252</td>\n",
       "      <td>0.782517</td>\n",
       "      <td>0.726252</td>\n",
       "      <td>0.782517</td>\n",
       "      <td>...</td>\n",
       "      <td>NaN</td>\n",
       "      <td>NaN</td>\n",
       "      <td>NaN</td>\n",
       "      <td>NaN</td>\n",
       "      <td>NaN</td>\n",
       "      <td>NaN</td>\n",
       "      <td>NaN</td>\n",
       "      <td>NaN</td>\n",
       "      <td>NaN</td>\n",
       "      <td>NaN</td>\n",
       "    </tr>\n",
       "  </tbody>\n",
       "</table>\n",
       "<p>21 rows × 23 columns</p>\n",
       "</div>"
      ],
      "text/plain": [
       "                                            Value accuracy_10     f1_10  \\\n",
       "                                             mean        mean      mean   \n",
       "Model Dataset        Approach                                             \n",
       "MLP   MNISTbinary    Cesa                 4857.56         NaN       NaN   \n",
       "                     IneurAL (official)   3929.48    0.658688  0.642092   \n",
       "                     IneurAL (tuned)      1726.96    0.643038  0.615288   \n",
       "                     Margin               3216.72    0.492600  0.325144   \n",
       "                     Neural-CBP           1351.92    0.611452  0.563043   \n",
       "                     Neuronal (official)  1721.88    0.567744  0.516245   \n",
       "                     Neuronal (tuned)     1721.44    0.590775  0.540633   \n",
       "      MagicTelescope Cesa                 3578.52    0.449452  0.290726   \n",
       "                     IneurAL (official)   9058.72    0.619334  0.591787   \n",
       "                     IneurAL (tuned)      6225.28    0.630701  0.568581   \n",
       "                     Margin               3459.84    0.501147  0.347732   \n",
       "                     Neural-CBP           3469.84    0.615352  0.595573   \n",
       "                     Neuronal (official)  4433.44    0.627134  0.537558   \n",
       "                     Neuronal (tuned)     4439.04    0.611520  0.571841   \n",
       "      adult          Cesa                 2695.56    0.473823  0.346161   \n",
       "                     IneurAL (official)   9054.12    0.745679  0.655577   \n",
       "                     IneurAL (tuned)      3972.84    0.655228  0.548743   \n",
       "                     Margin               2845.24    0.632677  0.519022   \n",
       "                     Neural-CBP           3445.20    0.592175  0.484292   \n",
       "                     Neuronal (official)  4562.84    0.739866  0.635286   \n",
       "                     Neuronal (tuned)     3668.36    0.767572  0.666641   \n",
       "\n",
       "                                         accuracy_50     f1_50 accuracy_100  \\\n",
       "                                                mean      mean         mean   \n",
       "Model Dataset        Approach                                                 \n",
       "MLP   MNISTbinary    Cesa                        NaN       NaN          NaN   \n",
       "                     IneurAL (official)     0.759192  0.754211     0.819428   \n",
       "                     IneurAL (tuned)        0.770204  0.767658     0.828729   \n",
       "                     Margin                 0.492600  0.325144     0.492600   \n",
       "                     Neural-CBP             0.722312  0.712713     0.775408   \n",
       "                     Neuronal (official)    0.753144  0.748138     0.778388   \n",
       "                     Neuronal (tuned)       0.720904  0.711540     0.767248   \n",
       "      MagicTelescope Cesa                   0.449452  0.290726     0.449452   \n",
       "                     IneurAL (official)     0.662909  0.637522     0.687712   \n",
       "                     IneurAL (tuned)        0.654360  0.617064     0.685653   \n",
       "                     Margin                 0.499737  0.346076     0.652471   \n",
       "                     Neural-CBP             0.696927  0.673456     0.721696   \n",
       "                     Neuronal (official)    0.683967  0.649076     0.694207   \n",
       "                     Neuronal (tuned)       0.669588  0.617490     0.683958   \n",
       "      adult          Cesa                   0.473823  0.346161     0.473823   \n",
       "                     IneurAL (official)     0.773037  0.707472     0.580468   \n",
       "                     IneurAL (tuned)        0.636027  0.527199     0.636004   \n",
       "                     Margin                 0.613309  0.497801     0.633888   \n",
       "                     Neural-CBP             0.662269  0.575130     0.791835   \n",
       "                     Neuronal (official)    0.768537  0.675892     0.768254   \n",
       "                     Neuronal (tuned)       0.788181  0.716209     0.782517   \n",
       "\n",
       "                                            f1_100 accuracy_250    f1_250  \\\n",
       "                                              mean         mean      mean   \n",
       "Model Dataset        Approach                                               \n",
       "MLP   MNISTbinary    Cesa                      NaN          NaN       NaN   \n",
       "                     IneurAL (official)   0.817592     0.878760  0.878427   \n",
       "                     IneurAL (tuned)      0.827885     0.899200  0.899090   \n",
       "                     Margin               0.325144          NaN       NaN   \n",
       "                     Neural-CBP           0.765570     0.878884  0.878209   \n",
       "                     Neuronal (official)  0.777061     0.839920  0.839723   \n",
       "                     Neuronal (tuned)     0.764573     0.859100  0.858876   \n",
       "      MagicTelescope Cesa                 0.290726     0.370534  0.203807   \n",
       "                     IneurAL (official)   0.671124     0.733336  0.730389   \n",
       "                     IneurAL (tuned)      0.668178     0.725085  0.713912   \n",
       "                     Margin               0.515262          NaN       NaN   \n",
       "                     Neural-CBP           0.701046     0.750914  0.738177   \n",
       "                     Neuronal (official)  0.650958     0.710605  0.677331   \n",
       "                     Neuronal (tuned)     0.632980     0.705573  0.646479   \n",
       "      adult          Cesa                 0.346161     0.402919  0.269472   \n",
       "                     IneurAL (official)   0.496274     0.776834  0.721181   \n",
       "                     IneurAL (tuned)      0.527146     0.640132  0.537573   \n",
       "                     Margin               0.520920          NaN       NaN   \n",
       "                     Neural-CBP           0.734500     0.791183  0.734952   \n",
       "                     Neuronal (official)  0.675205     0.770126  0.679755   \n",
       "                     Neuronal (tuned)     0.726252     0.782517  0.726252   \n",
       "\n",
       "                                         accuracy_500  ... accuracy_1000  \\\n",
       "                                                 mean  ...          mean   \n",
       "Model Dataset        Approach                          ...                 \n",
       "MLP   MNISTbinary    Cesa                         NaN  ...           NaN   \n",
       "                     IneurAL (official)      0.921016  ...      0.940228   \n",
       "                     IneurAL (tuned)         0.929462  ...      0.957350   \n",
       "                     Margin                       NaN  ...           NaN   \n",
       "                     Neural-CBP              0.930774  ...           NaN   \n",
       "                     Neuronal (official)     0.894012  ...      0.951220   \n",
       "                     Neuronal (tuned)        0.902400  ...      0.958175   \n",
       "      MagicTelescope Cesa                         NaN  ...           NaN   \n",
       "                     IneurAL (official)      0.767190  ...      0.777442   \n",
       "                     IneurAL (tuned)         0.772325  ...      0.790582   \n",
       "                     Margin                       NaN  ...           NaN   \n",
       "                     Neural-CBP              0.784823  ...           NaN   \n",
       "                     Neuronal (official)     0.724075  ...      0.742577   \n",
       "                     Neuronal (tuned)        0.702243  ...           NaN   \n",
       "      adult          Cesa                    0.240207  ...           NaN   \n",
       "                     IneurAL (official)      0.754947  ...      0.703326   \n",
       "                     IneurAL (tuned)         0.721640  ...      0.780469   \n",
       "                     Margin                       NaN  ...           NaN   \n",
       "                     Neural-CBP                   NaN  ...           NaN   \n",
       "                     Neuronal (official)     0.773275  ...      0.778861   \n",
       "                     Neuronal (tuned)        0.782517  ...           NaN   \n",
       "\n",
       "                                           f1_1000 accuracy_2500   f1_2500  \\\n",
       "                                              mean          mean      mean   \n",
       "Model Dataset        Approach                                                \n",
       "MLP   MNISTbinary    Cesa                      NaN           NaN       NaN   \n",
       "                     IneurAL (official)   0.940196      0.962640  0.962636   \n",
       "                     IneurAL (tuned)      0.957344           NaN       NaN   \n",
       "                     Margin                    NaN           NaN       NaN   \n",
       "                     Neural-CBP                NaN           NaN       NaN   \n",
       "                     Neuronal (official)  0.951217           NaN       NaN   \n",
       "                     Neuronal (tuned)     0.958173           NaN       NaN   \n",
       "      MagicTelescope Cesa                      NaN           NaN       NaN   \n",
       "                     IneurAL (official)   0.774260      0.788936  0.785230   \n",
       "                     IneurAL (tuned)      0.787813      0.803324  0.798147   \n",
       "                     Margin                    NaN           NaN       NaN   \n",
       "                     Neural-CBP                NaN           NaN       NaN   \n",
       "                     Neuronal (official)  0.725563      0.782092  0.774271   \n",
       "                     Neuronal (tuned)          NaN           NaN       NaN   \n",
       "      adult          Cesa                      NaN           NaN       NaN   \n",
       "                     IneurAL (official)   0.655425      0.705271  0.649168   \n",
       "                     IneurAL (tuned)      0.709789      0.798417  0.754448   \n",
       "                     Margin                    NaN           NaN       NaN   \n",
       "                     Neural-CBP                NaN           NaN       NaN   \n",
       "                     Neuronal (official)  0.700497      0.787488  0.723176   \n",
       "                     Neuronal (tuned)          NaN           NaN       NaN   \n",
       "\n",
       "                                         accuracy_5000   f1_5000  \\\n",
       "                                                  mean      mean   \n",
       "Model Dataset        Approach                                      \n",
       "MLP   MNISTbinary    Cesa                          NaN       NaN   \n",
       "                     IneurAL (official)            NaN       NaN   \n",
       "                     IneurAL (tuned)               NaN       NaN   \n",
       "                     Margin                        NaN       NaN   \n",
       "                     Neural-CBP                    NaN       NaN   \n",
       "                     Neuronal (official)           NaN       NaN   \n",
       "                     Neuronal (tuned)              NaN       NaN   \n",
       "      MagicTelescope Cesa                          NaN       NaN   \n",
       "                     IneurAL (official)       0.787943  0.784985   \n",
       "                     IneurAL (tuned)          0.806627  0.803432   \n",
       "                     Margin                        NaN       NaN   \n",
       "                     Neural-CBP                    NaN       NaN   \n",
       "                     Neuronal (official)           NaN       NaN   \n",
       "                     Neuronal (tuned)              NaN       NaN   \n",
       "      adult          Cesa                          NaN       NaN   \n",
       "                     IneurAL (official)       0.758883  0.723097   \n",
       "                     IneurAL (tuned)               NaN       NaN   \n",
       "                     Margin                        NaN       NaN   \n",
       "                     Neural-CBP                    NaN       NaN   \n",
       "                     Neuronal (official)      0.792534  0.738271   \n",
       "                     Neuronal (tuned)              NaN       NaN   \n",
       "\n",
       "                                         accuracy_7500   f1_7500  \\\n",
       "                                                  mean      mean   \n",
       "Model Dataset        Approach                                      \n",
       "MLP   MNISTbinary    Cesa                          NaN       NaN   \n",
       "                     IneurAL (official)            NaN       NaN   \n",
       "                     IneurAL (tuned)               NaN       NaN   \n",
       "                     Margin                        NaN       NaN   \n",
       "                     Neural-CBP                    NaN       NaN   \n",
       "                     Neuronal (official)           NaN       NaN   \n",
       "                     Neuronal (tuned)              NaN       NaN   \n",
       "      MagicTelescope Cesa                          NaN       NaN   \n",
       "                     IneurAL (official)       0.799290  0.795223   \n",
       "                     IneurAL (tuned)               NaN       NaN   \n",
       "                     Margin                        NaN       NaN   \n",
       "                     Neural-CBP                    NaN       NaN   \n",
       "                     Neuronal (official)           NaN       NaN   \n",
       "                     Neuronal (tuned)              NaN       NaN   \n",
       "      adult          Cesa                          NaN       NaN   \n",
       "                     IneurAL (official)       0.778735  0.760426   \n",
       "                     IneurAL (tuned)               NaN       NaN   \n",
       "                     Margin                        NaN       NaN   \n",
       "                     Neural-CBP                    NaN       NaN   \n",
       "                     Neuronal (official)      0.794459  0.747113   \n",
       "                     Neuronal (tuned)              NaN       NaN   \n",
       "\n",
       "                                         accuracy_9000   f1_9000  \n",
       "                                                  mean      mean  \n",
       "Model Dataset        Approach                                     \n",
       "MLP   MNISTbinary    Cesa                          NaN       NaN  \n",
       "                     IneurAL (official)            NaN       NaN  \n",
       "                     IneurAL (tuned)               NaN       NaN  \n",
       "                     Margin                        NaN       NaN  \n",
       "                     Neural-CBP                    NaN       NaN  \n",
       "                     Neuronal (official)           NaN       NaN  \n",
       "                     Neuronal (tuned)              NaN       NaN  \n",
       "      MagicTelescope Cesa                          NaN       NaN  \n",
       "                     IneurAL (official)       0.811006  0.807921  \n",
       "                     IneurAL (tuned)               NaN       NaN  \n",
       "                     Margin                        NaN       NaN  \n",
       "                     Neural-CBP                    NaN       NaN  \n",
       "                     Neuronal (official)           NaN       NaN  \n",
       "                     Neuronal (tuned)              NaN       NaN  \n",
       "      adult          Cesa                          NaN       NaN  \n",
       "                     IneurAL (official)       0.777308  0.758285  \n",
       "                     IneurAL (tuned)               NaN       NaN  \n",
       "                     Margin                        NaN       NaN  \n",
       "                     Neural-CBP                    NaN       NaN  \n",
       "                     Neuronal (official)           NaN       NaN  \n",
       "                     Neuronal (tuned)              NaN       NaN  \n",
       "\n",
       "[21 rows x 23 columns]"
      ]
     },
     "execution_count": 6,
     "metadata": {},
     "output_type": "execute_result"
    }
   ],
   "source": [
    "import pandas as pd\n",
    "\n",
    "# Load the dataframe from the provided file\n",
    "# df = pd.read_csv('/mnt/data/experiment.csv')\n",
    "\n",
    "# Columns to exclude from the aggregation\n",
    "exclude_columns = ['Seed', 'Model', 'Dataset', 'Approach']\n",
    "\n",
    "# Selecting the columns for which to calculate mean and std\n",
    "agg_columns = [col for col in df.columns if col not in exclude_columns]\n",
    "\n",
    "# Grouping by 'Model', 'Dataset', 'Approach' and calculating mean and std\n",
    "grouped_df = df.groupby(['Model', 'Dataset', 'Approach'])[agg_columns].agg(['mean']) #, 'std'\n",
    "\n",
    "grouped_df#.head()  # Display the first few rows of the result\n"
   ]
  },
  {
   "cell_type": "code",
   "execution_count": 7,
   "metadata": {},
   "outputs": [],
   "source": [
    "df.to_csv('experiment.csv', index=False)"
   ]
  },
  {
   "cell_type": "code",
   "execution_count": 23,
   "metadata": {},
   "outputs": [
    {
     "name": "stdout",
     "output_type": "stream",
     "text": [
      "['MLPMNIST binary' 'MLPMagicTelescope' 'MLPadult']\n"
     ]
    },
    {
     "data": {
      "application/vnd.plotly.v1+json": {
       "config": {
        "plotlyServerURL": "https://plot.ly"
       },
       "data": [
        {
         "error_y": {
          "array": [],
          "thickness": 1,
          "type": "data",
          "visible": true
         },
         "marker": {
          "color": "#AB63FA",
          "pattern": {
           "fgcolor": "black",
           "shape": "x"
          }
         },
         "name": "Neural-CBP",
         "type": "bar",
         "x": [],
         "y": []
        },
        {
         "error_y": {
          "array": [],
          "thickness": 1,
          "type": "data",
          "visible": true
         },
         "marker": {
          "color": "#FFA15A"
         },
         "name": "Neuronal (official)",
         "showlegend": true,
         "type": "bar",
         "x": [],
         "y": []
        },
        {
         "error_y": {
          "array": [],
          "thickness": 1,
          "type": "data",
          "visible": true
         },
         "marker": {
          "color": "#19D3F3"
         },
         "name": "Neuronal (tuned)",
         "showlegend": true,
         "type": "bar",
         "x": [],
         "y": []
        },
        {
         "error_y": {
          "array": [
           24.017725690476933,
           249.5383412544827,
           308.79584337628876
          ],
          "thickness": 1,
          "type": "data",
          "visible": true
         },
         "marker": {
          "color": "#AB63FA",
          "pattern": {
           "fgcolor": "black",
           "shape": "x"
          }
         },
         "name": "Neural-CBP",
         "type": "bar",
         "x": [
          "MLPMNIST binary",
          "MLPMagicTelescope",
          "MLPadult"
         ],
         "y": [
          1343.4166666666667,
          3437.0833333333335,
          2817.0833333333335
         ]
        },
        {
         "error_y": {
          "array": [
           9.871823466347267,
           176.91410733401753,
           472.1882568685046
          ],
          "thickness": 1,
          "type": "data",
          "visible": true
         },
         "marker": {
          "color": "#FFA15A"
         },
         "name": "Neuronal (official)",
         "showlegend": true,
         "type": "bar",
         "x": [
          "MLPMNIST binary",
          "MLPMagicTelescope",
          "MLPadult"
         ],
         "y": [
          1721,
          4204.541666666667,
          4431.208333333333
         ]
        },
        {
         "error_y": {
          "array": [
           214.88886841790466,
           294.3611048855546,
           299.3976973938012
          ],
          "thickness": 1,
          "type": "data",
          "visible": true
         },
         "marker": {
          "color": "#19D3F3"
         },
         "name": "Neuronal (tuned)",
         "showlegend": true,
         "type": "bar",
         "x": [
          "MLPMNIST binary",
          "MLPMagicTelescope",
          "MLPadult"
         ],
         "y": [
          1736.875,
          4491.541666666667,
          2849.375
         ]
        },
        {
         "error_y": {
          "array": [
           46.258057628173276,
           42.71996218493316,
           153.44263491658677
          ],
          "thickness": 1,
          "type": "data",
          "visible": true
         },
         "marker": {
          "color": "#FF6692"
         },
         "name": "IneurAL (official)",
         "showlegend": true,
         "type": "bar",
         "x": [
          "MLPMNIST binary",
          "MLPMagicTelescope",
          "MLPadult"
         ],
         "y": [
          3924.4583333333335,
          9097.666666666666,
          9386.25
         ]
        },
        {
         "error_y": {
          "array": [
           145.78887003335979,
           154.8276264139129,
           458.1557184671283
          ],
          "thickness": 1,
          "type": "data",
          "visible": true
         },
         "marker": {
          "color": "#B6E880"
         },
         "name": "IneurAL (tuned)",
         "showlegend": true,
         "type": "bar",
         "x": [
          "MLPMNIST binary",
          "MLPMagicTelescope",
          "MLPadult"
         ],
         "y": [
          1737.4166666666667,
          5767.083333333333,
          4410.375
         ]
        },
        {
         "error_y": {
          "array": [
           103.55124543801143,
           233.9006483210856,
           215.15245251464754
          ],
          "thickness": 1,
          "type": "data",
          "visible": true
         },
         "marker": {
          "color": "#FF97FF"
         },
         "name": "Cesa",
         "showlegend": true,
         "type": "bar",
         "x": [
          "MLPMNIST binary",
          "MLPMagicTelescope",
          "MLPadult"
         ],
         "y": [
          4765.041666666667,
          3529.3333333333335,
          2717.2916666666665
         ]
        },
        {
         "error_y": {
          "array": [
           298.7673497428107,
           249.50310219964473,
           304.18600246264276
          ],
          "thickness": 1,
          "type": "data",
          "visible": true
         },
         "marker": {
          "color": "#FECB52"
         },
         "name": "Margin",
         "showlegend": true,
         "type": "bar",
         "x": [
          "MLPMNIST binary",
          "MLPMagicTelescope",
          "MLPadult"
         ],
         "y": [
          3264.9583333333335,
          4006.75,
          2784.75
         ]
        }
       ],
       "layout": {
        "barmode": "group",
        "height": 220,
        "legend": {
         "font": {
          "size": 13
         },
         "orientation": "h",
         "x": 0.5,
         "xanchor": "center",
         "y": -0.3,
         "yanchor": "bottom"
        },
        "margin": {
         "b": 20,
         "l": 20,
         "r": 1,
         "t": 25
        },
        "paper_bgcolor": "white",
        "plot_bgcolor": "white",
        "shapes": [
         {
          "line": {
           "color": "black",
           "dash": "dot",
           "width": 2
          },
          "type": "line",
          "x0": 0.5,
          "x1": 0.5,
          "xref": "x",
          "y0": 0,
          "y1": 1,
          "yref": "y domain"
         },
         {
          "line": {
           "color": "black",
           "dash": "dot",
           "width": 2
          },
          "type": "line",
          "x0": 1.5,
          "x1": 1.5,
          "xref": "x",
          "y0": 0,
          "y1": 1,
          "yref": "y domain"
         }
        ],
        "template": {
         "data": {
          "bar": [
           {
            "error_x": {
             "color": "#2a3f5f"
            },
            "error_y": {
             "color": "#2a3f5f"
            },
            "marker": {
             "line": {
              "color": "#E5ECF6",
              "width": 0.5
             },
             "pattern": {
              "fillmode": "overlay",
              "size": 10,
              "solidity": 0.2
             }
            },
            "type": "bar"
           }
          ],
          "barpolar": [
           {
            "marker": {
             "line": {
              "color": "#E5ECF6",
              "width": 0.5
             },
             "pattern": {
              "fillmode": "overlay",
              "size": 10,
              "solidity": 0.2
             }
            },
            "type": "barpolar"
           }
          ],
          "carpet": [
           {
            "aaxis": {
             "endlinecolor": "#2a3f5f",
             "gridcolor": "white",
             "linecolor": "white",
             "minorgridcolor": "white",
             "startlinecolor": "#2a3f5f"
            },
            "baxis": {
             "endlinecolor": "#2a3f5f",
             "gridcolor": "white",
             "linecolor": "white",
             "minorgridcolor": "white",
             "startlinecolor": "#2a3f5f"
            },
            "type": "carpet"
           }
          ],
          "choropleth": [
           {
            "colorbar": {
             "outlinewidth": 0,
             "ticks": ""
            },
            "type": "choropleth"
           }
          ],
          "contour": [
           {
            "colorbar": {
             "outlinewidth": 0,
             "ticks": ""
            },
            "colorscale": [
             [
              0,
              "#0d0887"
             ],
             [
              0.1111111111111111,
              "#46039f"
             ],
             [
              0.2222222222222222,
              "#7201a8"
             ],
             [
              0.3333333333333333,
              "#9c179e"
             ],
             [
              0.4444444444444444,
              "#bd3786"
             ],
             [
              0.5555555555555556,
              "#d8576b"
             ],
             [
              0.6666666666666666,
              "#ed7953"
             ],
             [
              0.7777777777777778,
              "#fb9f3a"
             ],
             [
              0.8888888888888888,
              "#fdca26"
             ],
             [
              1,
              "#f0f921"
             ]
            ],
            "type": "contour"
           }
          ],
          "contourcarpet": [
           {
            "colorbar": {
             "outlinewidth": 0,
             "ticks": ""
            },
            "type": "contourcarpet"
           }
          ],
          "heatmap": [
           {
            "colorbar": {
             "outlinewidth": 0,
             "ticks": ""
            },
            "colorscale": [
             [
              0,
              "#0d0887"
             ],
             [
              0.1111111111111111,
              "#46039f"
             ],
             [
              0.2222222222222222,
              "#7201a8"
             ],
             [
              0.3333333333333333,
              "#9c179e"
             ],
             [
              0.4444444444444444,
              "#bd3786"
             ],
             [
              0.5555555555555556,
              "#d8576b"
             ],
             [
              0.6666666666666666,
              "#ed7953"
             ],
             [
              0.7777777777777778,
              "#fb9f3a"
             ],
             [
              0.8888888888888888,
              "#fdca26"
             ],
             [
              1,
              "#f0f921"
             ]
            ],
            "type": "heatmap"
           }
          ],
          "heatmapgl": [
           {
            "colorbar": {
             "outlinewidth": 0,
             "ticks": ""
            },
            "colorscale": [
             [
              0,
              "#0d0887"
             ],
             [
              0.1111111111111111,
              "#46039f"
             ],
             [
              0.2222222222222222,
              "#7201a8"
             ],
             [
              0.3333333333333333,
              "#9c179e"
             ],
             [
              0.4444444444444444,
              "#bd3786"
             ],
             [
              0.5555555555555556,
              "#d8576b"
             ],
             [
              0.6666666666666666,
              "#ed7953"
             ],
             [
              0.7777777777777778,
              "#fb9f3a"
             ],
             [
              0.8888888888888888,
              "#fdca26"
             ],
             [
              1,
              "#f0f921"
             ]
            ],
            "type": "heatmapgl"
           }
          ],
          "histogram": [
           {
            "marker": {
             "pattern": {
              "fillmode": "overlay",
              "size": 10,
              "solidity": 0.2
             }
            },
            "type": "histogram"
           }
          ],
          "histogram2d": [
           {
            "colorbar": {
             "outlinewidth": 0,
             "ticks": ""
            },
            "colorscale": [
             [
              0,
              "#0d0887"
             ],
             [
              0.1111111111111111,
              "#46039f"
             ],
             [
              0.2222222222222222,
              "#7201a8"
             ],
             [
              0.3333333333333333,
              "#9c179e"
             ],
             [
              0.4444444444444444,
              "#bd3786"
             ],
             [
              0.5555555555555556,
              "#d8576b"
             ],
             [
              0.6666666666666666,
              "#ed7953"
             ],
             [
              0.7777777777777778,
              "#fb9f3a"
             ],
             [
              0.8888888888888888,
              "#fdca26"
             ],
             [
              1,
              "#f0f921"
             ]
            ],
            "type": "histogram2d"
           }
          ],
          "histogram2dcontour": [
           {
            "colorbar": {
             "outlinewidth": 0,
             "ticks": ""
            },
            "colorscale": [
             [
              0,
              "#0d0887"
             ],
             [
              0.1111111111111111,
              "#46039f"
             ],
             [
              0.2222222222222222,
              "#7201a8"
             ],
             [
              0.3333333333333333,
              "#9c179e"
             ],
             [
              0.4444444444444444,
              "#bd3786"
             ],
             [
              0.5555555555555556,
              "#d8576b"
             ],
             [
              0.6666666666666666,
              "#ed7953"
             ],
             [
              0.7777777777777778,
              "#fb9f3a"
             ],
             [
              0.8888888888888888,
              "#fdca26"
             ],
             [
              1,
              "#f0f921"
             ]
            ],
            "type": "histogram2dcontour"
           }
          ],
          "mesh3d": [
           {
            "colorbar": {
             "outlinewidth": 0,
             "ticks": ""
            },
            "type": "mesh3d"
           }
          ],
          "parcoords": [
           {
            "line": {
             "colorbar": {
              "outlinewidth": 0,
              "ticks": ""
             }
            },
            "type": "parcoords"
           }
          ],
          "pie": [
           {
            "automargin": true,
            "type": "pie"
           }
          ],
          "scatter": [
           {
            "fillpattern": {
             "fillmode": "overlay",
             "size": 10,
             "solidity": 0.2
            },
            "type": "scatter"
           }
          ],
          "scatter3d": [
           {
            "line": {
             "colorbar": {
              "outlinewidth": 0,
              "ticks": ""
             }
            },
            "marker": {
             "colorbar": {
              "outlinewidth": 0,
              "ticks": ""
             }
            },
            "type": "scatter3d"
           }
          ],
          "scattercarpet": [
           {
            "marker": {
             "colorbar": {
              "outlinewidth": 0,
              "ticks": ""
             }
            },
            "type": "scattercarpet"
           }
          ],
          "scattergeo": [
           {
            "marker": {
             "colorbar": {
              "outlinewidth": 0,
              "ticks": ""
             }
            },
            "type": "scattergeo"
           }
          ],
          "scattergl": [
           {
            "marker": {
             "colorbar": {
              "outlinewidth": 0,
              "ticks": ""
             }
            },
            "type": "scattergl"
           }
          ],
          "scattermapbox": [
           {
            "marker": {
             "colorbar": {
              "outlinewidth": 0,
              "ticks": ""
             }
            },
            "type": "scattermapbox"
           }
          ],
          "scatterpolar": [
           {
            "marker": {
             "colorbar": {
              "outlinewidth": 0,
              "ticks": ""
             }
            },
            "type": "scatterpolar"
           }
          ],
          "scatterpolargl": [
           {
            "marker": {
             "colorbar": {
              "outlinewidth": 0,
              "ticks": ""
             }
            },
            "type": "scatterpolargl"
           }
          ],
          "scatterternary": [
           {
            "marker": {
             "colorbar": {
              "outlinewidth": 0,
              "ticks": ""
             }
            },
            "type": "scatterternary"
           }
          ],
          "surface": [
           {
            "colorbar": {
             "outlinewidth": 0,
             "ticks": ""
            },
            "colorscale": [
             [
              0,
              "#0d0887"
             ],
             [
              0.1111111111111111,
              "#46039f"
             ],
             [
              0.2222222222222222,
              "#7201a8"
             ],
             [
              0.3333333333333333,
              "#9c179e"
             ],
             [
              0.4444444444444444,
              "#bd3786"
             ],
             [
              0.5555555555555556,
              "#d8576b"
             ],
             [
              0.6666666666666666,
              "#ed7953"
             ],
             [
              0.7777777777777778,
              "#fb9f3a"
             ],
             [
              0.8888888888888888,
              "#fdca26"
             ],
             [
              1,
              "#f0f921"
             ]
            ],
            "type": "surface"
           }
          ],
          "table": [
           {
            "cells": {
             "fill": {
              "color": "#EBF0F8"
             },
             "line": {
              "color": "white"
             }
            },
            "header": {
             "fill": {
              "color": "#C8D4E3"
             },
             "line": {
              "color": "white"
             }
            },
            "type": "table"
           }
          ]
         },
         "layout": {
          "annotationdefaults": {
           "arrowcolor": "#2a3f5f",
           "arrowhead": 0,
           "arrowwidth": 1
          },
          "autotypenumbers": "strict",
          "coloraxis": {
           "colorbar": {
            "outlinewidth": 0,
            "ticks": ""
           }
          },
          "colorscale": {
           "diverging": [
            [
             0,
             "#8e0152"
            ],
            [
             0.1,
             "#c51b7d"
            ],
            [
             0.2,
             "#de77ae"
            ],
            [
             0.3,
             "#f1b6da"
            ],
            [
             0.4,
             "#fde0ef"
            ],
            [
             0.5,
             "#f7f7f7"
            ],
            [
             0.6,
             "#e6f5d0"
            ],
            [
             0.7,
             "#b8e186"
            ],
            [
             0.8,
             "#7fbc41"
            ],
            [
             0.9,
             "#4d9221"
            ],
            [
             1,
             "#276419"
            ]
           ],
           "sequential": [
            [
             0,
             "#0d0887"
            ],
            [
             0.1111111111111111,
             "#46039f"
            ],
            [
             0.2222222222222222,
             "#7201a8"
            ],
            [
             0.3333333333333333,
             "#9c179e"
            ],
            [
             0.4444444444444444,
             "#bd3786"
            ],
            [
             0.5555555555555556,
             "#d8576b"
            ],
            [
             0.6666666666666666,
             "#ed7953"
            ],
            [
             0.7777777777777778,
             "#fb9f3a"
            ],
            [
             0.8888888888888888,
             "#fdca26"
            ],
            [
             1,
             "#f0f921"
            ]
           ],
           "sequentialminus": [
            [
             0,
             "#0d0887"
            ],
            [
             0.1111111111111111,
             "#46039f"
            ],
            [
             0.2222222222222222,
             "#7201a8"
            ],
            [
             0.3333333333333333,
             "#9c179e"
            ],
            [
             0.4444444444444444,
             "#bd3786"
            ],
            [
             0.5555555555555556,
             "#d8576b"
            ],
            [
             0.6666666666666666,
             "#ed7953"
            ],
            [
             0.7777777777777778,
             "#fb9f3a"
            ],
            [
             0.8888888888888888,
             "#fdca26"
            ],
            [
             1,
             "#f0f921"
            ]
           ]
          },
          "colorway": [
           "#636efa",
           "#EF553B",
           "#00cc96",
           "#ab63fa",
           "#FFA15A",
           "#19d3f3",
           "#FF6692",
           "#B6E880",
           "#FF97FF",
           "#FECB52"
          ],
          "font": {
           "color": "#2a3f5f"
          },
          "geo": {
           "bgcolor": "white",
           "lakecolor": "white",
           "landcolor": "#E5ECF6",
           "showlakes": true,
           "showland": true,
           "subunitcolor": "white"
          },
          "hoverlabel": {
           "align": "left"
          },
          "hovermode": "closest",
          "mapbox": {
           "style": "light"
          },
          "paper_bgcolor": "white",
          "plot_bgcolor": "#E5ECF6",
          "polar": {
           "angularaxis": {
            "gridcolor": "white",
            "linecolor": "white",
            "ticks": ""
           },
           "bgcolor": "#E5ECF6",
           "radialaxis": {
            "gridcolor": "white",
            "linecolor": "white",
            "ticks": ""
           }
          },
          "scene": {
           "xaxis": {
            "backgroundcolor": "#E5ECF6",
            "gridcolor": "white",
            "gridwidth": 2,
            "linecolor": "white",
            "showbackground": true,
            "ticks": "",
            "zerolinecolor": "white"
           },
           "yaxis": {
            "backgroundcolor": "#E5ECF6",
            "gridcolor": "white",
            "gridwidth": 2,
            "linecolor": "white",
            "showbackground": true,
            "ticks": "",
            "zerolinecolor": "white"
           },
           "zaxis": {
            "backgroundcolor": "#E5ECF6",
            "gridcolor": "white",
            "gridwidth": 2,
            "linecolor": "white",
            "showbackground": true,
            "ticks": "",
            "zerolinecolor": "white"
           }
          },
          "shapedefaults": {
           "line": {
            "color": "#2a3f5f"
           }
          },
          "ternary": {
           "aaxis": {
            "gridcolor": "white",
            "linecolor": "white",
            "ticks": ""
           },
           "baxis": {
            "gridcolor": "white",
            "linecolor": "white",
            "ticks": ""
           },
           "bgcolor": "#E5ECF6",
           "caxis": {
            "gridcolor": "white",
            "linecolor": "white",
            "ticks": ""
           }
          },
          "title": {
           "x": 0.05
          },
          "xaxis": {
           "automargin": true,
           "gridcolor": "white",
           "linecolor": "white",
           "ticks": "",
           "title": {
            "standoff": 15
           },
           "zerolinecolor": "white",
           "zerolinewidth": 2
          },
          "yaxis": {
           "automargin": true,
           "gridcolor": "white",
           "linecolor": "white",
           "ticks": "",
           "title": {
            "standoff": 15
           },
           "zerolinecolor": "white",
           "zerolinewidth": 2
          }
         }
        },
        "width": 1000,
        "xaxis": {
         "tickfont": {
          "size": 11
         },
         "tickmode": "array",
         "ticktext": [
          "MNIST binary",
          "MagicTelescope",
          "adult"
         ],
         "tickvals": [
          "MLPMNIST binary",
          "MLPMagicTelescope",
          "MLPadult"
         ]
        },
        "yaxis": {
         "gridcolor": "lightgrey",
         "tickfont": {
          "size": 13
         },
         "title": {
          "font": {
           "size": 13
          },
          "standoff": 10,
          "text": "Final regret ± standard dev."
         }
        }
       }
      }
     },
     "metadata": {},
     "output_type": "display_data"
    }
   ],
   "source": [
    "import pandas as pd\n",
    "import plotly.graph_objects as go\n",
    "import numpy as np\n",
    "import plotly.express as px\n",
    "# Assuming df is your DataFrame and it has columns 'Dataset', 'Value', 'Model'\n",
    "\n",
    "w = 0.1\n",
    "def remove_substrings(s, substrings):\n",
    "    for substring in substrings:\n",
    "        s = s.replace(substring, '')\n",
    "    return s\n",
    "\n",
    "\n",
    "# approaches = result['merge'].unique()\n",
    "approaches = np.array(['LeNetNeural-CBP', 'LeNetNeuronal (official)', 'LeNetNeuronal (tuned)',\n",
    "                        'MLPNeural-CBP', 'MLPNeuronal (official)','MLPNeuronal (tuned)', 'MLPIneurAL (official)', \n",
    "                        'MLPIneurAL (tuned)',  'MLPCesa', 'MLPMargin' ], dtype=object) \n",
    "approaches_names = [ remove_substrings(model, ['LeNet', 'MLP']) for model in approaches ]\n",
    "default_colors = px.colors.qualitative.Plotly\n",
    "model_colors = {model_n:col for model_n,col in zip(approaches_names,default_colors) }\n",
    "\n",
    "\n",
    "# Create an empty figure\n",
    "fig = go.Figure()\n",
    "\n",
    "\n",
    "views = []\n",
    "for appr, appr_name in zip(approaches,approaches_names):\n",
    "\n",
    "    subset = result[result['merge'] == appr]\n",
    "    # dec = False\n",
    "    # if appr_name not in views:\n",
    "    #     dec = True\n",
    "    #     views.append(appr_name)\n",
    "    \n",
    "\n",
    "    if 'CBP' in appr_name:\n",
    "        fig.add_trace(go.Bar(\n",
    "            x=subset['merge2'],\n",
    "            y=subset['Mean'],\n",
    "            name=appr_name,\n",
    "            error_y=dict(type='data', array=subset['StdError'], visible=True,thickness=1 ),\n",
    "            marker_color=model_colors[appr_name],marker_pattern_shape='x',marker_pattern_fgcolor='black', \n",
    "            # showlegend = dec,\n",
    "            # width=w\n",
    "            ))\n",
    "    else: \n",
    "        fig.add_trace(go.Bar(\n",
    "            x=subset['merge2'],\n",
    "            y=subset['Mean'],\n",
    "            name=appr_name,\n",
    "            error_y=dict(type='data', array=subset['StdError'], visible=True,thickness=1 ),\n",
    "            marker_color=model_colors[appr_name], \n",
    "            # showlegend = dec,\n",
    "            # width=w\n",
    "            ))\n",
    "\n",
    "\n",
    "# Add vertical black lines between data groups\n",
    "\n",
    "datasets = result['merge2'].unique()\n",
    "print(datasets)\n",
    "for i, dataset in enumerate(datasets[:-1]):\n",
    "    if i == 2:\n",
    "        fig.add_vline(x=i + 0.5, line_width=2, line_color=\"black\")\n",
    "    else:\n",
    "        fig.add_vline(x=i + 0.5, line_width=2, line_color=\"black\",  line_dash=\"dot\")\n",
    "\n",
    "\n",
    "siz = 13\n",
    "\n",
    "# fig.add_shape(\n",
    "#     type=\"line\", xref=\"paper\", yref=\"paper\",\n",
    "#     x0=0.31,\n",
    "#     y0=1.01,\n",
    "#     x1=0.99,\n",
    "#     y1=1.01,\n",
    "#     line_width=2,\n",
    "#     label=dict(text=\"MLP\", font=dict(size=siz+2)),\n",
    "# )\n",
    "\n",
    "\n",
    "# fig.add_shape(\n",
    "#     type=\"line\", xref=\"paper\", yref=\"paper\",\n",
    "#     x0=0.31,\n",
    "#     y0=1.0125,\n",
    "#     x1=0.31,\n",
    "#     y1=0.95,\n",
    "#     line_width=2,\n",
    "# )\n",
    "\n",
    "\n",
    "# fig.add_shape(\n",
    "#     type=\"line\", xref=\"paper\", yref=\"paper\",\n",
    "#     x0=0.99,\n",
    "#     y0=1.0125,\n",
    "#     x1=0.99,\n",
    "#     y1=0.95,\n",
    "#     line_width=2,\n",
    "# )\n",
    "\n",
    "\n",
    "\n",
    "# fig.add_shape(\n",
    "#     type=\"line\", xref=\"paper\", yref=\"paper\",\n",
    "#     x0=0.01,\n",
    "#     y0=1.01,\n",
    "#     x1=0.29,\n",
    "#     y1=1.01,\n",
    "#     line_width=2,\n",
    "#     label=dict(text=\"LeNet\", font=dict(size=siz+2)),\n",
    "# )\n",
    "\n",
    "\n",
    "# fig.add_shape(\n",
    "#     type=\"line\", xref=\"paper\", yref=\"paper\",\n",
    "#     x0=0.01,\n",
    "#     y0=1.0125,\n",
    "#     x1=0.01,\n",
    "#     y1=0.95,\n",
    "#     line_width=2,\n",
    "# )\n",
    "\n",
    "# fig.add_shape(\n",
    "#     type=\"line\", xref=\"paper\", yref=\"paper\",\n",
    "#     x0=0.29,\n",
    "#     y0=1.0125,\n",
    "#     x1=0.29,\n",
    "#     y1=0.95,\n",
    "#     line_width=2,\n",
    "# )\n",
    "\n",
    "# fig.update_traces(width=0.05)\n",
    "\n",
    "# fig.update_traces(\n",
    "#     marker_pattern_shape='/',  # This sets a grid-like pattern. Use '+' for a cross pattern.\n",
    "#     marker_pattern_fgcolor='black',  # Foreground color of the pattern\n",
    "#     marker_pattern_bgcolor='rgba(0,0,0,0)'  # Transparent background color for the pattern\n",
    "# )\n",
    "\n",
    "fig.update_layout(\n",
    "    width=1000,\n",
    "    height=220,\n",
    "    plot_bgcolor='white',  # Sets the plot background color\n",
    "    paper_bgcolor='white',  # Sets the overall figure background color\n",
    "    barmode='group',\n",
    "    margin=dict(l=20, r=1, t=25, b=20),  # Small margins\n",
    "    xaxis=dict(\n",
    "        tickmode='array',\n",
    "        tickvals=result['merge2'].unique(),\n",
    "        ticktext = [ remove_substrings(model, ['LeNet', 'MLP']) for model in result['merge2'].unique() ],\n",
    "        tickfont=dict(size=siz-2)  # Increase X-axis tick font size\n",
    "    ),\n",
    "    yaxis=dict(\n",
    "        gridcolor='lightgrey',\n",
    "        title=\"Final regret ± standard dev.\",\n",
    "        title_standoff=10,\n",
    "        title_font=dict(size=siz),\n",
    "        tickfont=dict(size=siz)  # Increase Y-axis tick font size\n",
    "    ),\n",
    "    legend=dict(\n",
    "        orientation=\"h\",\n",
    "        yanchor=\"bottom\",\n",
    "        y=-0.3,  # Adjust this value to position the legend\n",
    "        xanchor=\"center\",\n",
    "        x=0.5,\n",
    "        font=dict(size=siz)  # Increase legend font size\n",
    "    ),\n",
    ")\n",
    "\n",
    "fig.show()\n",
    "# fig.write_image(\"./results_MLP.pdf\" )"
   ]
  }
 ],
 "metadata": {
  "kernelspec": {
   "display_name": ".venv",
   "language": "python",
   "name": "python3"
  },
  "language_info": {
   "codemirror_mode": {
    "name": "ipython",
    "version": 3
   },
   "file_extension": ".py",
   "mimetype": "text/x-python",
   "name": "python",
   "nbconvert_exporter": "python",
   "pygments_lexer": "ipython3",
   "version": "3.8.10"
  },
  "orig_nbformat": 4
 },
 "nbformat": 4,
 "nbformat_minor": 2
}
