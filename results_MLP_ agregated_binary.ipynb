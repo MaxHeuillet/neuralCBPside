{
 "cells": [
  {
   "cell_type": "code",
   "execution_count": 1,
   "metadata": {},
   "outputs": [],
   "source": [
    "import os\n",
    "import numpy as np\n",
    "import plotly.graph_objects as go\n",
    "import pandas as pd\n",
    "import gzip\n",
    "import pickle as pkl\n",
    "import pandas as pd\n",
    "\n",
    "def loadall_results2(path, n_folds):\n",
    "    regret = []\n",
    "    history_actions = []\n",
    "    history_outcomes = []\n",
    "    perf = []\n",
    "    with gzip.open(  path ,'rb') as f:\n",
    "        for i in range(n_folds+1):\n",
    "            try:\n",
    "                data = pkl.load(f)\n",
    "            except EOFError:\n",
    "                break\n",
    "\n",
    "            if type(data) == dict:\n",
    "                regret.append( data['regret'] ) \n",
    "                history_actions.append( data['action_history'] )\n",
    "                history_outcomes.append( data['outcome_history'] ) \n",
    "                perf.append( data['pred'] ) \n",
    "\n",
    "    return regret, history_actions, history_outcomes, perf"
   ]
  },
  {
   "cell_type": "code",
   "execution_count": 25,
   "metadata": {},
   "outputs": [],
   "source": [
    "n_folds = 25\n",
    "horizon = 9999\n",
    "context = 'MNISTbinary'\n",
    "model = 'MLP'\n",
    "case = 'case1'\n",
    "agent_name = 'EEneuralcbpside_v6' #ineural6, neuronal6\n",
    "\n",
    "direct = './results/'\n",
    "path = os.path.join(direct, '{}_{}_{}_{}_{}_{}.pkl.gz'.format(case,model,context,horizon,n_folds,agent_name) )\n",
    "regret, action_history, outcome_history, perf = loadall_results2(path, n_folds)\n"
   ]
  },
  {
   "cell_type": "code",
   "execution_count": 2,
   "metadata": {},
   "outputs": [
    {
     "name": "stdout",
     "output_type": "stream",
     "text": [
      "./results/case1_MLP_MNISTbinary_9999_25_ineural6.pkl.gz\n",
      "[[1.000e+00 1.000e+00 2.000e+00 ... 1.358e+03 1.358e+03 1.358e+03]\n",
      " [1.000e+00 2.000e+00 3.000e+00 ... 1.387e+03 1.387e+03 1.387e+03]\n",
      " [1.000e+00 1.000e+00 1.000e+00 ... 1.484e+03 1.484e+03 1.485e+03]\n",
      " ...\n",
      " [1.000e+00 1.000e+00 1.000e+00 ... 1.418e+03 1.418e+03 1.418e+03]\n",
      " [1.000e+00 1.000e+00 2.000e+00 ... 1.395e+03 1.395e+03 1.395e+03]\n",
      " [1.000e+00 2.000e+00 2.000e+00 ... 1.505e+03 1.505e+03 1.505e+03]]\n",
      "./results/case1_MLP_MNISTbinary_9999_25_ineural3.pkl.gz\n",
      "[[1.000e+00 1.000e+00 2.000e+00 ... 1.162e+03 1.162e+03 1.162e+03]\n",
      " [1.000e+00 2.000e+00 2.000e+00 ... 1.572e+03 1.572e+03 1.572e+03]\n",
      " [1.000e+00 1.000e+00 2.000e+00 ... 1.148e+03 1.148e+03 1.148e+03]\n",
      " ...\n",
      " [1.000e+00 2.000e+00 2.000e+00 ... 1.246e+03 1.246e+03 1.246e+03]\n",
      " [1.000e+00 1.000e+00 2.000e+00 ... 1.192e+03 1.192e+03 1.192e+03]\n",
      " [1.000e+00 1.000e+00 1.000e+00 ... 1.237e+03 1.237e+03 1.237e+03]]\n",
      "./results/case1_MLP_MNISTbinary_9999_25_neuronal6.pkl.gz\n",
      "[[1.000e+00 1.000e+00 2.000e+00 ... 1.202e+03 1.202e+03 1.202e+03]\n",
      " [1.000e+00 2.000e+00 2.000e+00 ... 1.255e+03 1.255e+03 1.255e+03]\n",
      " [1.000e+00 1.000e+00 2.000e+00 ... 1.259e+03 1.259e+03 1.259e+03]\n",
      " ...\n",
      " [1.000e+00 1.000e+00 2.000e+00 ... 1.300e+03 1.300e+03 1.300e+03]\n",
      " [1.000e+00 2.000e+00 3.000e+00 ... 1.334e+03 1.334e+03 1.334e+03]\n",
      " [1.000e+00 2.000e+00 2.000e+00 ... 1.357e+03 1.357e+03 1.357e+03]]\n",
      "./results/case1_MLP_MNISTbinary_9999_25_neuronal3.pkl.gz\n",
      "[[1.000e+00 1.000e+00 2.000e+00 ... 1.048e+03 1.048e+03 1.048e+03]\n",
      " [1.000e+00 2.000e+00 2.000e+00 ... 1.034e+03 1.034e+03 1.034e+03]\n",
      " [1.000e+00 1.000e+00 1.000e+00 ... 1.090e+03 1.090e+03 1.091e+03]\n",
      " ...\n",
      " [1.000e+00 1.000e+00 1.000e+00 ... 1.079e+03 1.079e+03 1.079e+03]\n",
      " [1.000e+00 2.000e+00 2.000e+00 ... 1.067e+03 1.067e+03 1.067e+03]\n",
      " [1.000e+00 1.000e+00 2.000e+00 ... 1.046e+03 1.046e+03 1.046e+03]]\n",
      "./results/case1_MLP_MNISTbinary_9999_25_EEneuralcbpside_v6.pkl.gz\n",
      "[[1.000e+00 2.000e+00 2.000e+00 ... 5.511e+03 5.512e+03 5.512e+03]\n",
      " [1.000e+00 2.000e+00 2.000e+00 ... 5.126e+03 5.126e+03 5.126e+03]\n",
      " [1.000e+00 2.000e+00 2.000e+00 ... 4.920e+03 4.920e+03 4.920e+03]\n",
      " ...\n",
      " [1.000e+00 2.000e+00 3.000e+00 ... 1.251e+03 1.251e+03 1.251e+03]\n",
      " [1.000e+00 1.000e+00 1.000e+00 ... 1.296e+03 1.296e+03 1.296e+03]\n",
      " [1.000e+00 1.000e+00 2.000e+00 ... 1.240e+03 1.240e+03 1.240e+03]]\n",
      "./results/case1_MLP_MNISTbinary_9999_25_margin.pkl.gz\n",
      "[[1.000e+00 1.000e+00 2.000e+00 ... 1.886e+03 1.886e+03 1.886e+03]\n",
      " [1.000e+00 1.000e+00 1.000e+00 ... 1.585e+03 1.585e+03 1.585e+03]\n",
      " [1.000e+00 2.000e+00 2.000e+00 ... 2.124e+03 2.124e+03 2.125e+03]\n",
      " ...\n",
      " [1.000e+00 2.000e+00 2.000e+00 ... 1.565e+03 1.565e+03 1.565e+03]\n",
      " [1.000e+00 1.000e+00 1.000e+00 ... 1.711e+03 1.711e+03 1.712e+03]\n",
      " [1.000e+00 1.000e+00 2.000e+00 ... 2.060e+03 2.060e+03 2.060e+03]]\n",
      "./results/case1_MLP_MNISTbinary_9999_25_cesa.pkl.gz\n",
      "[[1.000e+00 1.000e+00 2.000e+00 ... 2.105e+03 2.105e+03 2.105e+03]\n",
      " [1.000e+00 1.000e+00 1.000e+00 ... 1.860e+03 1.860e+03 1.860e+03]\n",
      " [1.000e+00 1.000e+00 2.000e+00 ... 2.022e+03 2.023e+03 2.023e+03]\n",
      " ...\n",
      " [1.000e+00 1.000e+00 2.000e+00 ... 1.997e+03 1.997e+03 1.997e+03]\n",
      " [1.000e+00 2.000e+00 2.000e+00 ... 2.424e+03 2.425e+03 2.425e+03]\n",
      " [1.000e+00 2.000e+00 2.000e+00 ... 1.883e+03 1.883e+03 1.883e+03]]\n",
      "./results/case1_MLP_adult_9999_25_ineural6.pkl.gz\n",
      "[[1.000e+00 1.000e+00 2.000e+00 ... 2.387e+03 2.387e+03 2.387e+03]\n",
      " [1.000e+00 1.000e+00 2.000e+00 ... 7.634e+03 7.635e+03 7.636e+03]\n",
      " [1.000e+00 2.000e+00 3.000e+00 ... 5.921e+03 5.921e+03 5.922e+03]\n",
      " ...\n",
      " [1.000e+00 2.000e+00 3.000e+00 ... 8.031e+03 8.032e+03 8.033e+03]\n",
      " [1.000e+00 1.000e+00 1.000e+00 ... 8.170e+03 8.171e+03 8.172e+03]\n",
      " [1.000e+00 2.000e+00 3.000e+00 ... 8.213e+03 8.214e+03 8.215e+03]]\n",
      "./results/case1_MLP_adult_9999_25_ineural3.pkl.gz\n",
      "[[1.000e+00 2.000e+00 3.000e+00 ... 2.319e+03 2.319e+03 2.319e+03]\n",
      " [1.000e+00 1.000e+00 2.000e+00 ... 2.454e+03 2.454e+03 2.454e+03]\n",
      " [1.000e+00 1.000e+00 2.000e+00 ... 2.434e+03 2.435e+03 2.436e+03]\n",
      " ...\n",
      " [1.000e+00 2.000e+00 3.000e+00 ... 5.530e+03 5.531e+03 5.532e+03]\n",
      " [1.000e+00 2.000e+00 2.000e+00 ... 6.087e+03 6.087e+03 6.088e+03]\n",
      " [1.000e+00 2.000e+00 2.000e+00 ... 6.252e+03 6.253e+03 6.254e+03]]\n",
      "./results/case1_MLP_adult_9999_25_neuronal6.pkl.gz\n",
      "[[1.000e+00 2.000e+00 2.000e+00 ... 2.398e+03 2.398e+03 2.398e+03]\n",
      " [1.000e+00 1.000e+00 2.000e+00 ... 2.504e+03 2.504e+03 2.504e+03]\n",
      " [1.000e+00 1.000e+00 1.000e+00 ... 2.361e+03 2.362e+03 2.362e+03]\n",
      " ...\n",
      " [1.000e+00 2.000e+00 2.000e+00 ... 4.216e+03 4.216e+03 4.216e+03]\n",
      " [1.000e+00 2.000e+00 2.000e+00 ... 4.173e+03 4.173e+03 4.173e+03]\n",
      " [1.000e+00 1.000e+00 2.000e+00 ... 4.583e+03 4.584e+03 4.584e+03]]\n",
      "./results/case1_MLP_adult_9999_25_neuronal3.pkl.gz\n",
      "[[1.000e+00 2.000e+00 2.000e+00 ... 2.351e+03 2.351e+03 2.352e+03]\n",
      " [1.000e+00 2.000e+00 3.000e+00 ... 2.446e+03 2.446e+03 2.446e+03]\n",
      " [1.000e+00 2.000e+00 2.000e+00 ... 2.367e+03 2.367e+03 2.367e+03]\n",
      " ...\n",
      " [1.000e+00 2.000e+00 2.000e+00 ... 2.480e+03 2.480e+03 2.481e+03]\n",
      " [1.000e+00 1.000e+00 2.000e+00 ... 2.535e+03 2.536e+03 2.536e+03]\n",
      " [1.000e+00 1.000e+00 1.000e+00 ... 2.529e+03 2.529e+03 2.530e+03]]\n",
      "./results/case1_MLP_adult_9999_25_EEneuralcbpside_v6.pkl.gz\n",
      "[[1.000e+00 1.000e+00 1.000e+00 ... 2.386e+03 2.386e+03 2.387e+03]\n",
      " [1.000e+00 2.000e+00 2.000e+00 ... 2.399e+03 2.399e+03 2.400e+03]\n",
      " [1.000e+00 1.000e+00 1.000e+00 ... 2.395e+03 2.396e+03 2.397e+03]\n",
      " ...\n",
      " [1.000e+00 2.000e+00 3.000e+00 ... 7.667e+03 7.667e+03 7.668e+03]\n",
      " [1.000e+00 2.000e+00 2.000e+00 ... 2.385e+03 2.385e+03 2.386e+03]\n",
      " [1.000e+00 2.000e+00 2.000e+00 ... 2.353e+03 2.354e+03 2.354e+03]]\n",
      "./results/case1_MLP_adult_9999_25_margin.pkl.gz\n",
      "[[1.000e+00 2.000e+00 3.000e+00 ... 3.662e+03 3.663e+03 3.664e+03]\n",
      " [1.000e+00 1.000e+00 2.000e+00 ... 2.197e+03 2.197e+03 2.197e+03]\n",
      " [1.000e+00 2.000e+00 2.000e+00 ... 7.615e+03 7.616e+03 7.617e+03]\n",
      " ...\n",
      " [1.000e+00 2.000e+00 2.000e+00 ... 2.169e+03 2.169e+03 2.169e+03]\n",
      " [1.000e+00 1.000e+00 1.000e+00 ... 7.669e+03 7.670e+03 7.671e+03]\n",
      " [1.000e+00 2.000e+00 3.000e+00 ... 2.142e+03 2.142e+03 2.143e+03]]\n",
      "./results/case1_MLP_adult_9999_25_cesa.pkl.gz\n",
      "[[1.000e+00 1.000e+00 2.000e+00 ... 2.341e+03 2.341e+03 2.341e+03]\n",
      " [1.000e+00 1.000e+00 2.000e+00 ... 2.361e+03 2.361e+03 2.362e+03]\n",
      " [1.000e+00 1.000e+00 2.000e+00 ... 2.415e+03 2.415e+03 2.415e+03]\n",
      " ...\n",
      " [1.000e+00 1.000e+00 1.000e+00 ... 2.292e+03 2.292e+03 2.293e+03]\n",
      " [1.000e+00 2.000e+00 3.000e+00 ... 2.558e+03 2.559e+03 2.560e+03]\n",
      " [1.000e+00 2.000e+00 3.000e+00 ... 2.556e+03 2.557e+03 2.557e+03]]\n",
      "./results/case1_MLP_MagicTelescope_9999_25_ineural6.pkl.gz\n",
      "[[1.000e+00 2.000e+00 3.000e+00 ... 3.819e+03 3.820e+03 3.821e+03]\n",
      " [1.000e+00 2.000e+00 2.000e+00 ... 3.786e+03 3.786e+03 3.786e+03]\n",
      " [1.000e+00 1.000e+00 2.000e+00 ... 4.093e+03 4.093e+03 4.093e+03]\n",
      " ...\n",
      " [1.000e+00 2.000e+00 3.000e+00 ... 4.196e+03 4.197e+03 4.198e+03]\n",
      " [1.000e+00 2.000e+00 2.000e+00 ... 4.279e+03 4.280e+03 4.280e+03]\n",
      " [1.000e+00 1.000e+00 1.000e+00 ... 4.166e+03 4.166e+03 4.166e+03]]\n",
      "./results/case1_MLP_MagicTelescope_9999_25_ineural3.pkl.gz\n",
      "[[1.000e+00 2.000e+00 3.000e+00 ... 6.523e+03 6.524e+03 6.525e+03]\n",
      " [1.000e+00 2.000e+00 2.000e+00 ... 3.326e+03 3.326e+03 3.326e+03]\n",
      " [1.000e+00 1.000e+00 1.000e+00 ... 3.216e+03 3.216e+03 3.217e+03]\n",
      " ...\n",
      " [1.000e+00 2.000e+00 3.000e+00 ... 3.269e+03 3.269e+03 3.269e+03]\n",
      " [1.000e+00 1.000e+00 2.000e+00 ... 3.582e+03 3.582e+03 3.582e+03]\n",
      " [1.000e+00 2.000e+00 2.000e+00 ... 3.136e+03 3.137e+03 3.137e+03]]\n",
      "./results/case1_MLP_MagicTelescope_9999_25_neuronal6.pkl.gz\n",
      "[[1.000e+00 1.000e+00 1.000e+00 ... 3.514e+03 3.514e+03 3.514e+03]\n",
      " [1.000e+00 2.000e+00 2.000e+00 ... 3.500e+03 3.500e+03 3.500e+03]\n",
      " [1.000e+00 1.000e+00 2.000e+00 ... 3.434e+03 3.434e+03 3.434e+03]\n",
      " ...\n",
      " [1.000e+00 1.000e+00 2.000e+00 ... 3.258e+03 3.258e+03 3.258e+03]\n",
      " [1.000e+00 2.000e+00 2.000e+00 ... 3.081e+03 3.081e+03 3.081e+03]\n",
      " [1.000e+00 1.000e+00 2.000e+00 ... 3.139e+03 3.139e+03 3.140e+03]]\n",
      "./results/case1_MLP_MagicTelescope_9999_25_neuronal3.pkl.gz\n",
      "[[1.000e+00 1.000e+00 2.000e+00 ... 3.219e+03 3.219e+03 3.220e+03]\n",
      " [1.000e+00 1.000e+00 1.000e+00 ... 3.549e+03 3.549e+03 3.550e+03]\n",
      " [1.000e+00 2.000e+00 2.000e+00 ... 3.486e+03 3.487e+03 3.487e+03]\n",
      " ...\n",
      " [1.000e+00 1.000e+00 1.000e+00 ... 2.689e+03 2.689e+03 2.690e+03]\n",
      " [1.000e+00 2.000e+00 3.000e+00 ... 2.571e+03 2.571e+03 2.571e+03]\n",
      " [1.000e+00 1.000e+00 1.000e+00 ... 2.658e+03 2.658e+03 2.659e+03]]\n",
      "./results/case1_MLP_MagicTelescope_9999_25_EEneuralcbpside_v6.pkl.gz\n",
      "[[1.000e+00 1.000e+00 1.000e+00 ... 6.471e+03 6.471e+03 6.472e+03]\n",
      " [1.000e+00 2.000e+00 3.000e+00 ... 3.519e+03 3.520e+03 3.520e+03]\n",
      " [1.000e+00 2.000e+00 3.000e+00 ... 3.502e+03 3.502e+03 3.502e+03]\n",
      " ...\n",
      " [1.000e+00 1.000e+00 1.000e+00 ... 3.068e+03 3.069e+03 3.070e+03]\n",
      " [1.000e+00 2.000e+00 2.000e+00 ... 2.921e+03 2.921e+03 2.921e+03]\n",
      " [1.000e+00 2.000e+00 3.000e+00 ... 2.792e+03 2.792e+03 2.792e+03]]\n",
      "./results/case1_MLP_MagicTelescope_9999_25_margin.pkl.gz\n",
      "[[1.000e+00 2.000e+00 3.000e+00 ... 3.528e+03 3.528e+03 3.528e+03]\n",
      " [1.000e+00 1.000e+00 1.000e+00 ... 2.896e+03 2.896e+03 2.896e+03]\n",
      " [1.000e+00 1.000e+00 1.000e+00 ... 2.515e+03 2.515e+03 2.515e+03]\n",
      " ...\n",
      " [1.000e+00 2.000e+00 2.000e+00 ... 6.511e+03 6.511e+03 6.512e+03]\n",
      " [1.000e+00 2.000e+00 2.000e+00 ... 3.124e+03 3.125e+03 3.126e+03]\n",
      " [1.000e+00 1.000e+00 2.000e+00 ... 3.205e+03 3.205e+03 3.206e+03]]\n",
      "./results/case1_MLP_MagicTelescope_9999_25_cesa.pkl.gz\n",
      "[[1.000e+00 2.000e+00 2.000e+00 ... 3.058e+03 3.058e+03 3.058e+03]\n",
      " [1.000e+00 1.000e+00 2.000e+00 ... 3.509e+03 3.510e+03 3.510e+03]\n",
      " [1.000e+00 1.000e+00 1.000e+00 ... 2.768e+03 2.769e+03 2.769e+03]\n",
      " ...\n",
      " [1.000e+00 2.000e+00 3.000e+00 ... 2.642e+03 2.642e+03 2.642e+03]\n",
      " [1.000e+00 2.000e+00 2.000e+00 ... 3.542e+03 3.543e+03 3.544e+03]\n",
      " [1.000e+00 2.000e+00 2.000e+00 ... 2.891e+03 2.892e+03 2.892e+03]]\n"
     ]
    }
   ],
   "source": [
    "def format_perf(perf, model, dataset, l_label):\n",
    "\n",
    "    processed_data = []\n",
    "    i = 0\n",
    "    for item in perf:\n",
    "        processed_item = {}\n",
    "        # key_mapping = dict( zip( item.keys(), [10, 50, 100, 250, 500, 750, 1000, 2500, 5000, 7500, 9000]))\n",
    "        new_dict = item #{key_mapping[old_key]: value for old_key, value in item.items()}\n",
    "        for key in new_dict:\n",
    "            # processed_item[f'accuracy_{key}'] = new_dict[key]['accuracy']\n",
    "            processed_item[f'f1_{key}'] = new_dict[key]['f1']\n",
    "        processed_item['Seed'] = i\n",
    "        processed_item['Model'] = model\n",
    "        processed_item['Dataset'] = dataset\n",
    "        processed_item['Approach'] = l_label\n",
    "        i = i+1\n",
    "        processed_data.append(processed_item)\n",
    "    return processed_data\n",
    "\n",
    "\n",
    "def convert_action_history(action_history, n_folds):\n",
    "    counters = []\n",
    "    for history in action_history:\n",
    "        counter = np.cumsum([ 1 if action == 0 else 0 for action in history ])\n",
    "        counters.append(counter)\n",
    "\n",
    "    std = 2.575 * np.std(counters, axis = 0) / n_folds \n",
    "    # std = np.std(counters, axis = 0) / n_folds \n",
    "\n",
    "    return np.mean(counters, axis = 0), std \n",
    "\n",
    "n_folds = 26\n",
    "horizon = 9999\n",
    "model = 'MLP'\n",
    "\n",
    "material = {\n",
    "    #'EEneuralcbpside_v5': {'color': [255, 255, 0], 'label': 'EEneuralcbpside_v5'},  # Red\n",
    "    'ineural6': {'color': [51, 255, 255], 'label':'IneurAL (official)'},                    # Yellow\n",
    "    'ineural3': {'color': [0, 0, 255], 'label':'IneurAL (tuned)'},                    # Cyan\n",
    "    'neuronal6': {'color': [255, 0, 255], 'label':'Neuronal (official)'},                  # Magenta\n",
    "    'neuronal3': {'color': [160, 160, 160], 'label':'Neuronal (tuned)'},                   # Orange\n",
    "    'EEneuralcbpside_v6': {'color': [255, 0, 0], 'label': 'Neural-CBP'},  # Red\n",
    "    'margin': {'color': [160, 160, 160], 'label':'Margin'},\n",
    "    'cesa': {'color': [0, 0, 255], 'label':'Cesa'},\n",
    "}\n",
    "\n",
    "fig = go.Figure( )\n",
    "\n",
    "data_models = {}\n",
    "perfs_final = {}\n",
    "explo_final = {}\n",
    "explo2_final = {}\n",
    "\n",
    "for model in ['MLP']:  # 'LeNet'\n",
    "\n",
    "    if model == 'MLP':\n",
    "        n_folds = 25\n",
    "        datasets = ['MNISTbinary', 'adult', 'MagicTelescope' ] # 'covertype', 'shuttle',\n",
    "    # else:\n",
    "    #     datasets = ['MNIST', 'FASHION', 'CIFAR10',]\n",
    "    #     n_folds = 25\n",
    "\n",
    "    data_regrets = {} \n",
    "    data_perfs = {} \n",
    "    data_explo = {}\n",
    "    data_explo2 = {}\n",
    "    for data in datasets: \n",
    "\n",
    "        # if data in ['MNIST', 'FASHION', 'CIFAR10']:\n",
    "        #     case = 'case2' \n",
    "        # elif data in ['covertype', 'shuttle']:\n",
    "        #     case = 'game_case_seven'\n",
    "        # else:\n",
    "        case = 'case1'\n",
    "        \n",
    "        final_regrets = {}\n",
    "        final_perfs = {}\n",
    "        explo_perfs = {}\n",
    "        explo2_perfs = {}\n",
    "        for agent_name in material.keys():\n",
    "\n",
    "            color, l_label = material[agent_name]['color'], material[agent_name]['label']\n",
    "\n",
    "            r,g,b = color\n",
    "\n",
    "            # try:\n",
    "            direct = './results/'\n",
    "            path = os.path.join(direct, '{}_{}_{}_{}_{}_{}.pkl.gz'.format(case, model, data, horizon,n_folds,agent_name) )\n",
    "            print(path)\n",
    "            regret, action_history,outcome_history, perf = loadall_results2(path, n_folds)\n",
    "            regret = np.array(regret)\n",
    "            print(regret)\n",
    "            regret = regret#[1:]\n",
    "\n",
    "            final_regrets[l_label] = regret[:,-1] \n",
    "            final_perfs[l_label] = pd.DataFrame( format_perf(perf, model, data, l_label) )\n",
    "\n",
    "            m, s = convert_action_history(action_history, n_folds)\n",
    "            explo_perfs[l_label] = m\n",
    "            explo2_perfs[l_label] = s\n",
    "\n",
    "\n",
    "        if data == 'MNISTbinary':\n",
    "            data = 'MNISTbinary'\n",
    "        if data == 'FASHION':\n",
    "            data = 'FASHION'\n",
    "            \n",
    "        data_regrets[data] = final_regrets\n",
    "\n",
    "        dataframes_list = list(final_perfs.values())\n",
    "        concatenated_df = pd.concat(dataframes_list, axis=0)\n",
    "        data_perfs[data] = concatenated_df\n",
    "\n",
    "        data_explo[data] = explo_perfs\n",
    "        data_explo2[data] = explo2_perfs\n",
    "        \n",
    "    data_models[model] = data_regrets\n",
    "    dataframes_list = list(data_perfs.values())\n",
    "    concatenated_df = pd.concat(dataframes_list, axis=0)\n",
    "\n",
    "    explo_final[model] = data_explo\n",
    "    explo2_final[model] = data_explo2\n"
   ]
  },
  {
   "cell_type": "code",
   "execution_count": 3,
   "metadata": {},
   "outputs": [],
   "source": [
    "import pandas as pd\n",
    "# pd.DataFrame(data_regrets)\n",
    "# data_regrets\n",
    "\n",
    "samples = []\n",
    "# Iterate over the dictionary to extract data\n",
    "for model, dataset in data_models.items():\n",
    "    for data, approach in dataset.items():\n",
    "        for appr, values in approach.items():\n",
    "            i = 0\n",
    "            for val in values:\n",
    "                # print(i, appr,val)\n",
    "                samples.append([i, model, data, appr, val])\n",
    "                i = i+1\n",
    "\n",
    "# Create a DataFrame\n",
    "df = pd.DataFrame(samples, columns=['Seed','Model', 'Dataset', 'Approach', 'Value'])\n",
    "df = pd.merge(df, concatenated_df, on=['Model', 'Dataset', 'Approach', 'Seed'])\n"
   ]
  },
  {
   "cell_type": "code",
   "execution_count": 4,
   "metadata": {},
   "outputs": [],
   "source": [
    "exclude_columns = ['Seed', 'Model', 'Dataset', 'Approach']\n",
    "\n",
    "agg_columns = [col for col in df.columns if col not in exclude_columns]\n",
    "\n",
    "df_mean = df.groupby(['Model', 'Dataset', 'Approach'])[agg_columns].agg(['mean',]) # 'std'\n",
    "df_mean.columns = df_mean.columns.get_level_values(0)\n",
    "df_mean = df_mean.reset_index()\n",
    "\n",
    "df_std = df.groupby(['Model', 'Dataset', 'Approach'])[agg_columns].agg(['std',]) # 'std'\n",
    "df_std.columns = df_std.columns.get_level_values(0)\n",
    "df_std = df_std.reset_index()\n"
   ]
  },
  {
   "cell_type": "markdown",
   "metadata": {},
   "source": []
  },
  {
   "cell_type": "code",
   "execution_count": 10,
   "metadata": {},
   "outputs": [
    {
     "data": {
      "application/vnd.plotly.v1+json": {
       "config": {
        "plotlyServerURL": "https://plot.ly"
       },
       "data": [
        {
         "error_y": {
          "array": [
           0.012881407437291468,
           0.003063258262492686,
           0.013057636925637012,
           0.0025465850371447253,
           0.002118264791020529,
           0.0026199679696572733,
           0.0012585234517653635,
           0.0016824123952079123,
           0.0016937310968669407,
           0.004843178857142755,
           0.002767021056091257,
           0.0021240280613410963,
           0.0014724363919636592,
           0.0007974197616947362
          ],
          "thickness": 1,
          "type": "data",
          "visible": true,
          "width": 3
         },
         "line": {
          "color": "rgba(255,161,90,1)",
          "dash": "solid",
          "width": 1
         },
         "marker": {
          "size": 2.5
         },
         "name": "IneurAL (official)",
         "type": "scatter",
         "x": [
          10,
          25,
          50,
          100,
          150,
          250,
          300,
          400,
          500,
          750,
          1000,
          2500,
          5000,
          7500,
          9000
         ],
         "xaxis": "x",
         "y": [
          0.6628809947795429,
          0.7179193877883664,
          0.7192505436025135,
          0.7441508100055083,
          0.7435899448883542,
          0.7455831417405178,
          0.752828004878407,
          0.7740538436778936,
          0.7957930531936452,
          0.7973941678832698,
          0.8028432459740412,
          0.8152016042886282,
          0.8280135755358794,
          0.8407202535991068
         ],
         "yaxis": "y"
        },
        {
         "error_y": {
          "array": [
           0.018952442076998047,
           0.001362967647810617,
           0.0009532359559676335,
           0.0015211874485317356,
           0.0017431592653753489,
           0.0014883446016159673,
           0.001444009942011077,
           0.002379923182776115,
           0.002011558082903436,
           0.0020400659255494437,
           0.0018087060922084466,
           0.0010793144475328702,
           0.0007542640717174922,
           null
          ],
          "thickness": 1,
          "type": "data",
          "visible": true,
          "width": 3
         },
         "line": {
          "color": "rgba(25,211,243,1)",
          "dash": "solid",
          "width": 1
         },
         "marker": {
          "size": 2.5
         },
         "name": "IneurAL (tuned)",
         "type": "scatter",
         "x": [
          10,
          25,
          50,
          100,
          150,
          250,
          300,
          400,
          500,
          750,
          1000,
          2500,
          5000,
          7500,
          9000
         ],
         "xaxis": "x",
         "y": [
          0.6298661816324671,
          0.737920329506316,
          0.7461206262648121,
          0.7488462537312124,
          0.7450788571843439,
          0.7502746601886383,
          0.7556191200661742,
          0.7735769509612436,
          0.785192137670999,
          0.7964302502775387,
          0.8089862836847173,
          0.8276528717362314,
          0.832800473064915,
          null
         ],
         "yaxis": "y"
        },
        {
         "error_y": {
          "array": [
           0.024854642891988462,
           0.0006667947711246467,
           0.000650263526859238,
           0.001025297552807825,
           0.0014964047883148659,
           0.0007190605427791014,
           0.0007534910758036603,
           0.0009686070748210828,
           0.0010868747257825424,
           0.0009129235451723821,
           0.0010065478430330574,
           0.0025721240225607526,
           null,
           null
          ],
          "thickness": 1,
          "type": "data",
          "visible": true,
          "width": 3
         },
         "line": {
          "color": "rgba(255,102,146,1)",
          "dash": "solid",
          "width": 1
         },
         "marker": {
          "size": 2.5
         },
         "name": "Neuronal (official)",
         "type": "scatter",
         "x": [
          10,
          25,
          50,
          100,
          150,
          250,
          300,
          400,
          500,
          750,
          1000,
          2500,
          5000,
          7500,
          9000
         ],
         "xaxis": "x",
         "y": [
          0.5278214236978274,
          0.6567204630725806,
          0.6723691359366745,
          0.6910151058707655,
          0.7104276424445606,
          0.738589355195179,
          0.7433177253892514,
          0.7470111306993605,
          0.7489375108706146,
          0.7529392663814793,
          0.7554609545750958,
          0.8003181495238654,
          null,
          null
         ],
         "yaxis": "y"
        },
        {
         "error_y": {
          "array": [
           0.024590672847468534,
           0.01284716826665119,
           0.0016732104620634345,
           0.0010373860422195134,
           0.0008053664513088504,
           0.0009773372399619307,
           0.0010083396855558218,
           0.0011051438251692832,
           0.0010163546462053736,
           null,
           null,
           null,
           null,
           null
          ],
          "thickness": 1,
          "type": "data",
          "visible": true,
          "width": 3
         },
         "line": {
          "color": "rgba(182,232,128,1)",
          "dash": "solid",
          "width": 1
         },
         "marker": {
          "size": 2.5
         },
         "name": "Neuronal (tuned)",
         "type": "scatter",
         "x": [
          10,
          25,
          50,
          100,
          150,
          250,
          300,
          400,
          500,
          750,
          1000,
          2500,
          5000,
          7500,
          9000
         ],
         "xaxis": "x",
         "y": [
          0.5369472260053406,
          0.646825887049081,
          0.6846638740886425,
          0.707715656585471,
          0.7292731144039185,
          0.7428772422252117,
          0.7482743014151214,
          0.751324981676407,
          0.7517867670465121,
          null,
          null,
          null,
          null,
          null
         ],
         "yaxis": "y"
        },
        {
         "error_y": {
          "array": [
           0.030563243449944766,
           0.0014766443224895017,
           0.0007487900758818164,
           null,
           null,
           null,
           null,
           null,
           null,
           null,
           null,
           null,
           null,
           null
          ],
          "thickness": 1,
          "type": "data",
          "visible": true,
          "width": 3
         },
         "line": {
          "color": "rgba(255,151,255,1)",
          "dash": "solid",
          "width": 1
         },
         "marker": {
          "size": 2.5
         },
         "name": "Margin",
         "type": "scatter",
         "x": [
          10,
          25,
          50,
          100,
          150,
          250,
          300,
          400,
          500,
          750,
          1000,
          2500,
          5000,
          7500,
          9000
         ],
         "xaxis": "x",
         "y": [
          0.5275359361780039,
          0.735548064225827,
          0.7419778690636832,
          0.7404366694804217,
          null,
          null,
          null,
          null,
          null,
          null,
          null,
          null,
          null,
          null
         ],
         "yaxis": "y"
        },
        {
         "error_y": {
          "array": [
           0.01148213806910667,
           0.0023825124629058463,
           0.003752771575990364,
           0.0028784313619936107,
           0.0021732019710616664,
           0.0009624767191549626,
           0.0010082655836786175,
           0.0010962512777524351,
           0.0012598176612674708,
           null,
           null,
           null,
           null,
           null
          ],
          "thickness": 1,
          "type": "data",
          "visible": true,
          "width": 3
         },
         "line": {
          "color": "rgba(254,203,82,1)",
          "dash": "solid",
          "width": 1
         },
         "marker": {
          "size": 2.5
         },
         "name": "Cesa",
         "type": "scatter",
         "x": [
          10,
          25,
          50,
          100,
          150,
          250,
          300,
          400,
          500,
          750,
          1000,
          2500,
          5000,
          7500,
          9000
         ],
         "xaxis": "x",
         "y": [
          0.642280337316838,
          0.671046950468901,
          0.7028503522217643,
          0.7325756376689458,
          0.7373244594389564,
          0.7442578775985197,
          0.7434482568962391,
          0.7429172792935518,
          0.7380188135326103,
          null,
          null,
          null,
          null,
          null
         ],
         "yaxis": "y"
        },
        {
         "error_y": {
          "array": [
           0.0002505814792229807,
           0.0007607646739028017,
           null,
           null,
           null,
           null,
           null,
           null,
           null,
           null,
           null,
           null,
           null,
           null
          ],
          "thickness": 1,
          "type": "data",
          "visible": true,
          "width": 3
         },
         "line": {
          "color": "rgba(171,99,250,1)",
          "dash": "solid",
          "width": 1
         },
         "marker": {
          "size": 2.5
         },
         "name": "Neural-CBP",
         "type": "scatter",
         "x": [
          10,
          25,
          50,
          100,
          150,
          250,
          300,
          400,
          500,
          750,
          1000,
          2500,
          5000,
          7500,
          9000
         ],
         "xaxis": "x",
         "y": [
          0.683202145864175,
          0.7354737812547776,
          0.7287827597956391,
          null,
          null,
          null,
          null,
          null,
          null,
          null,
          null,
          null,
          null,
          null
         ],
         "yaxis": "y"
        }
       ],
       "layout": {
        "height": 180,
        "margin": {
         "b": 0,
         "l": 0,
         "r": 0,
         "t": 0
        },
        "paper_bgcolor": "white",
        "plot_bgcolor": "white",
        "showlegend": false,
        "template": {
         "data": {
          "bar": [
           {
            "error_x": {
             "color": "#2a3f5f"
            },
            "error_y": {
             "color": "#2a3f5f"
            },
            "marker": {
             "line": {
              "color": "#E5ECF6",
              "width": 0.5
             },
             "pattern": {
              "fillmode": "overlay",
              "size": 10,
              "solidity": 0.2
             }
            },
            "type": "bar"
           }
          ],
          "barpolar": [
           {
            "marker": {
             "line": {
              "color": "#E5ECF6",
              "width": 0.5
             },
             "pattern": {
              "fillmode": "overlay",
              "size": 10,
              "solidity": 0.2
             }
            },
            "type": "barpolar"
           }
          ],
          "carpet": [
           {
            "aaxis": {
             "endlinecolor": "#2a3f5f",
             "gridcolor": "white",
             "linecolor": "white",
             "minorgridcolor": "white",
             "startlinecolor": "#2a3f5f"
            },
            "baxis": {
             "endlinecolor": "#2a3f5f",
             "gridcolor": "white",
             "linecolor": "white",
             "minorgridcolor": "white",
             "startlinecolor": "#2a3f5f"
            },
            "type": "carpet"
           }
          ],
          "choropleth": [
           {
            "colorbar": {
             "outlinewidth": 0,
             "ticks": ""
            },
            "type": "choropleth"
           }
          ],
          "contour": [
           {
            "colorbar": {
             "outlinewidth": 0,
             "ticks": ""
            },
            "colorscale": [
             [
              0,
              "#0d0887"
             ],
             [
              0.1111111111111111,
              "#46039f"
             ],
             [
              0.2222222222222222,
              "#7201a8"
             ],
             [
              0.3333333333333333,
              "#9c179e"
             ],
             [
              0.4444444444444444,
              "#bd3786"
             ],
             [
              0.5555555555555556,
              "#d8576b"
             ],
             [
              0.6666666666666666,
              "#ed7953"
             ],
             [
              0.7777777777777778,
              "#fb9f3a"
             ],
             [
              0.8888888888888888,
              "#fdca26"
             ],
             [
              1,
              "#f0f921"
             ]
            ],
            "type": "contour"
           }
          ],
          "contourcarpet": [
           {
            "colorbar": {
             "outlinewidth": 0,
             "ticks": ""
            },
            "type": "contourcarpet"
           }
          ],
          "heatmap": [
           {
            "colorbar": {
             "outlinewidth": 0,
             "ticks": ""
            },
            "colorscale": [
             [
              0,
              "#0d0887"
             ],
             [
              0.1111111111111111,
              "#46039f"
             ],
             [
              0.2222222222222222,
              "#7201a8"
             ],
             [
              0.3333333333333333,
              "#9c179e"
             ],
             [
              0.4444444444444444,
              "#bd3786"
             ],
             [
              0.5555555555555556,
              "#d8576b"
             ],
             [
              0.6666666666666666,
              "#ed7953"
             ],
             [
              0.7777777777777778,
              "#fb9f3a"
             ],
             [
              0.8888888888888888,
              "#fdca26"
             ],
             [
              1,
              "#f0f921"
             ]
            ],
            "type": "heatmap"
           }
          ],
          "heatmapgl": [
           {
            "colorbar": {
             "outlinewidth": 0,
             "ticks": ""
            },
            "colorscale": [
             [
              0,
              "#0d0887"
             ],
             [
              0.1111111111111111,
              "#46039f"
             ],
             [
              0.2222222222222222,
              "#7201a8"
             ],
             [
              0.3333333333333333,
              "#9c179e"
             ],
             [
              0.4444444444444444,
              "#bd3786"
             ],
             [
              0.5555555555555556,
              "#d8576b"
             ],
             [
              0.6666666666666666,
              "#ed7953"
             ],
             [
              0.7777777777777778,
              "#fb9f3a"
             ],
             [
              0.8888888888888888,
              "#fdca26"
             ],
             [
              1,
              "#f0f921"
             ]
            ],
            "type": "heatmapgl"
           }
          ],
          "histogram": [
           {
            "marker": {
             "pattern": {
              "fillmode": "overlay",
              "size": 10,
              "solidity": 0.2
             }
            },
            "type": "histogram"
           }
          ],
          "histogram2d": [
           {
            "colorbar": {
             "outlinewidth": 0,
             "ticks": ""
            },
            "colorscale": [
             [
              0,
              "#0d0887"
             ],
             [
              0.1111111111111111,
              "#46039f"
             ],
             [
              0.2222222222222222,
              "#7201a8"
             ],
             [
              0.3333333333333333,
              "#9c179e"
             ],
             [
              0.4444444444444444,
              "#bd3786"
             ],
             [
              0.5555555555555556,
              "#d8576b"
             ],
             [
              0.6666666666666666,
              "#ed7953"
             ],
             [
              0.7777777777777778,
              "#fb9f3a"
             ],
             [
              0.8888888888888888,
              "#fdca26"
             ],
             [
              1,
              "#f0f921"
             ]
            ],
            "type": "histogram2d"
           }
          ],
          "histogram2dcontour": [
           {
            "colorbar": {
             "outlinewidth": 0,
             "ticks": ""
            },
            "colorscale": [
             [
              0,
              "#0d0887"
             ],
             [
              0.1111111111111111,
              "#46039f"
             ],
             [
              0.2222222222222222,
              "#7201a8"
             ],
             [
              0.3333333333333333,
              "#9c179e"
             ],
             [
              0.4444444444444444,
              "#bd3786"
             ],
             [
              0.5555555555555556,
              "#d8576b"
             ],
             [
              0.6666666666666666,
              "#ed7953"
             ],
             [
              0.7777777777777778,
              "#fb9f3a"
             ],
             [
              0.8888888888888888,
              "#fdca26"
             ],
             [
              1,
              "#f0f921"
             ]
            ],
            "type": "histogram2dcontour"
           }
          ],
          "mesh3d": [
           {
            "colorbar": {
             "outlinewidth": 0,
             "ticks": ""
            },
            "type": "mesh3d"
           }
          ],
          "parcoords": [
           {
            "line": {
             "colorbar": {
              "outlinewidth": 0,
              "ticks": ""
             }
            },
            "type": "parcoords"
           }
          ],
          "pie": [
           {
            "automargin": true,
            "type": "pie"
           }
          ],
          "scatter": [
           {
            "fillpattern": {
             "fillmode": "overlay",
             "size": 10,
             "solidity": 0.2
            },
            "type": "scatter"
           }
          ],
          "scatter3d": [
           {
            "line": {
             "colorbar": {
              "outlinewidth": 0,
              "ticks": ""
             }
            },
            "marker": {
             "colorbar": {
              "outlinewidth": 0,
              "ticks": ""
             }
            },
            "type": "scatter3d"
           }
          ],
          "scattercarpet": [
           {
            "marker": {
             "colorbar": {
              "outlinewidth": 0,
              "ticks": ""
             }
            },
            "type": "scattercarpet"
           }
          ],
          "scattergeo": [
           {
            "marker": {
             "colorbar": {
              "outlinewidth": 0,
              "ticks": ""
             }
            },
            "type": "scattergeo"
           }
          ],
          "scattergl": [
           {
            "marker": {
             "colorbar": {
              "outlinewidth": 0,
              "ticks": ""
             }
            },
            "type": "scattergl"
           }
          ],
          "scattermapbox": [
           {
            "marker": {
             "colorbar": {
              "outlinewidth": 0,
              "ticks": ""
             }
            },
            "type": "scattermapbox"
           }
          ],
          "scatterpolar": [
           {
            "marker": {
             "colorbar": {
              "outlinewidth": 0,
              "ticks": ""
             }
            },
            "type": "scatterpolar"
           }
          ],
          "scatterpolargl": [
           {
            "marker": {
             "colorbar": {
              "outlinewidth": 0,
              "ticks": ""
             }
            },
            "type": "scatterpolargl"
           }
          ],
          "scatterternary": [
           {
            "marker": {
             "colorbar": {
              "outlinewidth": 0,
              "ticks": ""
             }
            },
            "type": "scatterternary"
           }
          ],
          "surface": [
           {
            "colorbar": {
             "outlinewidth": 0,
             "ticks": ""
            },
            "colorscale": [
             [
              0,
              "#0d0887"
             ],
             [
              0.1111111111111111,
              "#46039f"
             ],
             [
              0.2222222222222222,
              "#7201a8"
             ],
             [
              0.3333333333333333,
              "#9c179e"
             ],
             [
              0.4444444444444444,
              "#bd3786"
             ],
             [
              0.5555555555555556,
              "#d8576b"
             ],
             [
              0.6666666666666666,
              "#ed7953"
             ],
             [
              0.7777777777777778,
              "#fb9f3a"
             ],
             [
              0.8888888888888888,
              "#fdca26"
             ],
             [
              1,
              "#f0f921"
             ]
            ],
            "type": "surface"
           }
          ],
          "table": [
           {
            "cells": {
             "fill": {
              "color": "#EBF0F8"
             },
             "line": {
              "color": "white"
             }
            },
            "header": {
             "fill": {
              "color": "#C8D4E3"
             },
             "line": {
              "color": "white"
             }
            },
            "type": "table"
           }
          ]
         },
         "layout": {
          "annotationdefaults": {
           "arrowcolor": "#2a3f5f",
           "arrowhead": 0,
           "arrowwidth": 1
          },
          "autotypenumbers": "strict",
          "coloraxis": {
           "colorbar": {
            "outlinewidth": 0,
            "ticks": ""
           }
          },
          "colorscale": {
           "diverging": [
            [
             0,
             "#8e0152"
            ],
            [
             0.1,
             "#c51b7d"
            ],
            [
             0.2,
             "#de77ae"
            ],
            [
             0.3,
             "#f1b6da"
            ],
            [
             0.4,
             "#fde0ef"
            ],
            [
             0.5,
             "#f7f7f7"
            ],
            [
             0.6,
             "#e6f5d0"
            ],
            [
             0.7,
             "#b8e186"
            ],
            [
             0.8,
             "#7fbc41"
            ],
            [
             0.9,
             "#4d9221"
            ],
            [
             1,
             "#276419"
            ]
           ],
           "sequential": [
            [
             0,
             "#0d0887"
            ],
            [
             0.1111111111111111,
             "#46039f"
            ],
            [
             0.2222222222222222,
             "#7201a8"
            ],
            [
             0.3333333333333333,
             "#9c179e"
            ],
            [
             0.4444444444444444,
             "#bd3786"
            ],
            [
             0.5555555555555556,
             "#d8576b"
            ],
            [
             0.6666666666666666,
             "#ed7953"
            ],
            [
             0.7777777777777778,
             "#fb9f3a"
            ],
            [
             0.8888888888888888,
             "#fdca26"
            ],
            [
             1,
             "#f0f921"
            ]
           ],
           "sequentialminus": [
            [
             0,
             "#0d0887"
            ],
            [
             0.1111111111111111,
             "#46039f"
            ],
            [
             0.2222222222222222,
             "#7201a8"
            ],
            [
             0.3333333333333333,
             "#9c179e"
            ],
            [
             0.4444444444444444,
             "#bd3786"
            ],
            [
             0.5555555555555556,
             "#d8576b"
            ],
            [
             0.6666666666666666,
             "#ed7953"
            ],
            [
             0.7777777777777778,
             "#fb9f3a"
            ],
            [
             0.8888888888888888,
             "#fdca26"
            ],
            [
             1,
             "#f0f921"
            ]
           ]
          },
          "colorway": [
           "#636efa",
           "#EF553B",
           "#00cc96",
           "#ab63fa",
           "#FFA15A",
           "#19d3f3",
           "#FF6692",
           "#B6E880",
           "#FF97FF",
           "#FECB52"
          ],
          "font": {
           "color": "#2a3f5f"
          },
          "geo": {
           "bgcolor": "white",
           "lakecolor": "white",
           "landcolor": "#E5ECF6",
           "showlakes": true,
           "showland": true,
           "subunitcolor": "white"
          },
          "hoverlabel": {
           "align": "left"
          },
          "hovermode": "closest",
          "mapbox": {
           "style": "light"
          },
          "paper_bgcolor": "white",
          "plot_bgcolor": "#E5ECF6",
          "polar": {
           "angularaxis": {
            "gridcolor": "white",
            "linecolor": "white",
            "ticks": ""
           },
           "bgcolor": "#E5ECF6",
           "radialaxis": {
            "gridcolor": "white",
            "linecolor": "white",
            "ticks": ""
           }
          },
          "scene": {
           "xaxis": {
            "backgroundcolor": "#E5ECF6",
            "gridcolor": "white",
            "gridwidth": 2,
            "linecolor": "white",
            "showbackground": true,
            "ticks": "",
            "zerolinecolor": "white"
           },
           "yaxis": {
            "backgroundcolor": "#E5ECF6",
            "gridcolor": "white",
            "gridwidth": 2,
            "linecolor": "white",
            "showbackground": true,
            "ticks": "",
            "zerolinecolor": "white"
           },
           "zaxis": {
            "backgroundcolor": "#E5ECF6",
            "gridcolor": "white",
            "gridwidth": 2,
            "linecolor": "white",
            "showbackground": true,
            "ticks": "",
            "zerolinecolor": "white"
           }
          },
          "shapedefaults": {
           "line": {
            "color": "#2a3f5f"
           }
          },
          "ternary": {
           "aaxis": {
            "gridcolor": "white",
            "linecolor": "white",
            "ticks": ""
           },
           "baxis": {
            "gridcolor": "white",
            "linecolor": "white",
            "ticks": ""
           },
           "bgcolor": "#E5ECF6",
           "caxis": {
            "gridcolor": "white",
            "linecolor": "white",
            "ticks": ""
           }
          },
          "title": {
           "x": 0.05
          },
          "xaxis": {
           "automargin": true,
           "gridcolor": "white",
           "linecolor": "white",
           "ticks": "",
           "title": {
            "standoff": 15
           },
           "zerolinecolor": "white",
           "zerolinewidth": 2
          },
          "yaxis": {
           "automargin": true,
           "gridcolor": "white",
           "linecolor": "white",
           "ticks": "",
           "title": {
            "standoff": 15
           },
           "zerolinecolor": "white",
           "zerolinewidth": 2
          }
         }
        },
        "width": 220,
        "xaxis": {
         "anchor": "y",
         "domain": [
          0,
          1
         ],
         "gridcolor": "lightgrey",
         "tickfont": {
          "size": 10.5
         },
         "tickmode": "array",
         "title": {
          "font": {
           "size": 10.5
          },
          "standoff": 5,
          "text": "Expert query volume"
         },
         "type": "log"
        },
        "yaxis": {
         "anchor": "x",
         "domain": [
          0,
          1
         ],
         "gridcolor": "lightgrey",
         "tickfont": {
          "size": 10.5
         },
         "tickvals": [
          0,
          0.1,
          0.2,
          0.3,
          0.4,
          0.5,
          0.6,
          0.7,
          0.8,
          0.9,
          1
         ],
         "title": {
          "font": {
           "size": 10.5
          },
          "standoff": 5,
          "text": "f1-score ± 99% CI"
         }
        }
       }
      }
     },
     "metadata": {},
     "output_type": "display_data"
    }
   ],
   "source": [
    "import plotly.graph_objects as go\n",
    "from plotly.subplots import make_subplots\n",
    "import numpy as np\n",
    "\n",
    "import plotly.graph_objects as go\n",
    "import plotly.express as px\n",
    "\n",
    "dataset = 'adult'\n",
    "\n",
    "approaches = {\n",
    "    #'EEneuralcbpside_v5': {'color': [255, 255, 0], 'label': 'EEneuralcbpside_v5'},  # Red\n",
    "    'IneurAL (official)': {'color': [255, 161, 90], 'label':'IneurAL6'},                    # Yellow\n",
    "    'IneurAL (tuned)': {'color': [25, 211, 243], 'label':'IneurAL3'},                    # Cyan\n",
    "    'Neuronal (official)': {'color': [255, 102, 146], 'label':'neuronal6'},                  # Magenta\n",
    "    'Neuronal (tuned)': {'color': [182, 232, 128], 'label':'neuronal3'},                   # Orange\n",
    "    'Margin': {'color': [255, 151, 255], 'label':'margin'},\n",
    "    'Cesa': {'color': [254, 203, 82], 'label':'cesa'},\n",
    "    'Neural-CBP': {'color': [171, 99, 250], 'label': 'EEneuralcbpside_v6'},  # Red\n",
    "}\n",
    "\n",
    "thresholds = ['f1_10', 'f1_25', 'f1_50', 'f1_100', 'f1_150',\n",
    "              'f1_250', 'f1_300', 'f1_400', 'f1_500', 'f1_750', \n",
    "              'f1_1000', 'f1_2500', 'f1_5000', 'f1_7500',]\n",
    "\n",
    "# Create a subplot with 1 row and 2 columns\n",
    "fig = make_subplots(rows=1, cols=1,) #subplot_titles=(\"f1-score\", \"# of labelled observations\")\n",
    "\n",
    "# Add your traces for the first figure to the first subplot\n",
    "for approach in approaches.keys():\n",
    "    # ... [your existing code for calculating mean_values, std_values, and color] ...\n",
    "    mean_values = [] \n",
    "    std_values = []\n",
    "    r,g,b = approaches[approach]['color']\n",
    "    \n",
    "    for threshold in thresholds:\n",
    "        mean_value = df_mean[(df_mean['Dataset'] == dataset) & (df_mean['Approach'] == approach)][threshold].values[0]\n",
    "        mean_values.append(mean_value)\n",
    "\n",
    "        std_value = df_std[(df_std['Dataset'] == dataset) & (df_std['Approach'] == approach)][threshold].values[0]\n",
    "        std_values.append( 2.575 * std_value / n_folds  )\n",
    "        # std_values.append(  std_value)\n",
    "\n",
    "    fig.add_trace(go.Scatter(\n",
    "        x=[10, 25, 50, 100, 150, 250, 300, 400, 500, 750, 1000, 2500, 5000, 7500, 9000], \n",
    "        y=mean_values,\n",
    "        error_y=dict(type='data', array=std_values, visible=True, thickness=1, width=3),\n",
    "        line=dict(dash='solid', width=1, color='rgba({},{},{},1)'.format(r,g,b)),\n",
    "        marker=dict(size=2.5),\n",
    "        name=approach), \n",
    "        row=1, col=1)\n",
    "\n",
    "# Add your traces for the second figure to the second subplot\n",
    "# for approach in approaches.keys():\n",
    "#     # ... [your existing code for calculating explo_value, upper, and color] ...\n",
    "#     r,g,b = approaches[approach]['color']\n",
    "#     explo_value = explo_final['MLP'][dataset][approach]\n",
    "#     upper = explo_value + explo2_final['MLP'][dataset][approach]\n",
    "#     xcoords = np.arange(0,horizon,1).tolist()\n",
    "\n",
    "#     fig.add_trace(go.Scatter(\n",
    "#         x=xcoords+xcoords[::-1], \n",
    "#         y=upper.tolist()+explo_value.tolist()[::-1],  \n",
    "#         fill='toself',\n",
    "#         fillcolor='rgba({},{},{},0.2)'.format(r,g,b),\n",
    "#         line=dict(color='rgba({},{},{},1)'.format(r,g,b), width=0),\n",
    "#         hoverinfo=\"skip\"),\n",
    "#         row=1, col=2)\n",
    "    \n",
    "#     fig.add_trace(go.Scatter(\n",
    "#         x=xcoords, \n",
    "#         y=explo_value,\n",
    "#         line=dict(dash='solid', width=2, color='rgba({},{},{},1)'.format(r,g,b)),\n",
    "#         name=approach), \n",
    "#         row=1, col=2)\n",
    "\n",
    "# Update layout and axes for the combined figure\n",
    "siz = 12.5\n",
    "fig.update_layout(\n",
    "    width=220,  # Adjusted for two subplots\n",
    "    height=180,\n",
    "    plot_bgcolor='white',\n",
    "    paper_bgcolor='white',\n",
    "    margin=dict(l=0, r=0, t=0, b=0),\n",
    "    showlegend=False\n",
    ")\n",
    "\n",
    "# Update xaxis and yaxis properties for each subplot\n",
    "fig.update_xaxes(title_text=\"Expert query volume\", row=1, col=1, gridcolor='lightgrey', tickmode='array', type=\"log\", title_standoff=5, title_font=dict(size=siz-2), tickfont=dict(size=siz-2))\n",
    "fig.update_yaxes(title_text=\"f1-score ± 99% CI\",  row=1, col=1, gridcolor='lightgrey', #range=[0,1.05]\n",
    "                 title_standoff=5, title_font=dict(size=siz-2), tickfont=dict(size=siz-2), tickvals=[0, 0.1, 0.2, 0.3, 0.4, 0.5, 0.6, 0.7, 0.8, 0.9, 1] )\n",
    "\n",
    "# fig.update_xaxes(title_text=\"Round\", row=1, col=2, gridcolor='lightgrey', tickmode='array', title_standoff=5, title_font=dict(size=siz-2), tickfont=dict(size=siz-2))\n",
    "# fig.update_yaxes(title_text=\"# of labels ± 99% CI\", range=[0,4.5], row=1, col=2, gridcolor='lightgrey',type=\"log\", title_standoff=0, title_font=dict(size=siz-2), tickfont=dict(size=siz-2))\n",
    "\n",
    "fig.show()\n",
    "\n",
    "# Save the combined figure as a PDF\n",
    "# fig.write_image(\"./figures/combined_{}_{}_{}.pdf\".format(case, model, dataset))\n",
    "# fig.write_image(\"./figures/tst.pdf\".format(case, model, dataset))\n",
    "# fig.write_image(\"./figures/f1_{}_{}_{}.pdf\".format(case, model, dataset))\n"
   ]
  },
  {
   "cell_type": "code",
   "execution_count": 87,
   "metadata": {},
   "outputs": [
    {
     "data": {
      "application/vnd.plotly.v1+json": {
       "config": {
        "plotlyServerURL": "https://plot.ly"
       },
       "data": [
        {
         "error_y": {
          "array": [
           0.15909665572056395,
           0.16887934431985488,
           0.1681275227780055,
           0.11732680043103827,
           0.11408044109856885,
           0.05706118511700282,
           0.0577193378287307,
           0.060754337203515314,
           0.05279031818247331,
           0.02950947386722061,
           0.027561822642741596,
           0.011206834963939377,
           0.013854061342890824,
           0.03263557949307548
          ],
          "thickness": 1,
          "type": "data",
          "visible": true,
          "width": 3
         },
         "line": {
          "color": "rgba(255,161,90,1)",
          "dash": "solid",
          "width": 2
         },
         "marker": {
          "size": 2.5
         },
         "name": "IneurAL (official)",
         "type": "scatter",
         "x": [
          10,
          25,
          50,
          100,
          150,
          250,
          300,
          400,
          500,
          750,
          1000,
          2500,
          5000,
          7500,
          9000
         ],
         "xaxis": "x",
         "y": [
          0.5249037700603649,
          0.5538880573266939,
          0.5777775141235899,
          0.6487319453940401,
          0.6802970382377697,
          0.7157223479096189,
          0.721844787364654,
          0.741577602132334,
          0.7545511992133521,
          0.7705963200983043,
          0.7746263059018872,
          0.7915678916259834,
          0.7896954876474256,
          0.7890709527053561
         ],
         "yaxis": "y"
        },
        {
         "error_y": {
          "array": [
           0.12863456708185672,
           0.15102750426372652,
           0.13107897807366933,
           0.07406616496511105,
           0.05862868238908259,
           0.05670904709033885,
           0.05738797555908231,
           0.1378397608725395,
           0.13889002337202738,
           0.021788862936269766,
           0.020489450306614664,
           0.014009975613295452,
           0.01247388484421236,
           null
          ],
          "thickness": 1,
          "type": "data",
          "visible": true,
          "width": 3
         },
         "line": {
          "color": "rgba(25,211,243,1)",
          "dash": "solid",
          "width": 2
         },
         "marker": {
          "size": 2.5
         },
         "name": "IneurAL (tuned)",
         "type": "scatter",
         "x": [
          10,
          25,
          50,
          100,
          150,
          250,
          300,
          400,
          500,
          750,
          1000,
          2500,
          5000,
          7500,
          9000
         ],
         "xaxis": "x",
         "y": [
          0.5437728363136186,
          0.5413516593248177,
          0.5829868344304923,
          0.6510053713088806,
          0.6945602312038692,
          0.7345436046465716,
          0.74178834924404,
          0.7331318267370179,
          0.7412625215890231,
          0.7794340438006199,
          0.7892375564178911,
          0.805176912191023,
          0.801097206514585,
          null
         ],
         "yaxis": "y"
        },
        {
         "error_y": {
          "array": [
           0.1208542944032553,
           0.06633246596103681,
           0.05746674177803335,
           0.05796459227513297,
           0.05522332300319036,
           0.05138992973277556,
           0.04759091432903349,
           0.04611004657989672,
           0.04602933593655951,
           0.046958988737075935,
           0.045885585215014964,
           0.015742608592766504,
           null,
           null
          ],
          "thickness": 1,
          "type": "data",
          "visible": true,
          "width": 3
         },
         "line": {
          "color": "rgba(255,102,146,1)",
          "dash": "solid",
          "width": 2
         },
         "marker": {
          "size": 2.5
         },
         "name": "Neuronal (official)",
         "type": "scatter",
         "x": [
          10,
          25,
          50,
          100,
          150,
          250,
          300,
          400,
          500,
          750,
          1000,
          2500,
          5000,
          7500,
          9000
         ],
         "xaxis": "x",
         "y": [
          0.5173964232492969,
          0.6365715550727102,
          0.650153416580128,
          0.6566156983136592,
          0.6676706751321677,
          0.6838096603535909,
          0.6882871724192069,
          0.6932196494478465,
          0.695578330302517,
          0.7014008325358221,
          0.7110325763646815,
          0.7752579846883096,
          null,
          null
         ],
         "yaxis": "y"
        },
        {
         "error_y": {
          "array": [
           null,
           null,
           null,
           null,
           null,
           null,
           null,
           null,
           null,
           null,
           null,
           null,
           null,
           null
          ],
          "thickness": 1,
          "type": "data",
          "visible": true,
          "width": 3
         },
         "line": {
          "color": "rgba(182,232,128,1)",
          "dash": "solid",
          "width": 2
         },
         "marker": {
          "size": 2.5
         },
         "name": "Neuronal (tuned)",
         "type": "scatter",
         "x": [
          10,
          25,
          50,
          100,
          150,
          250,
          300,
          400,
          500,
          750,
          1000,
          2500,
          5000,
          7500,
          9000
         ],
         "xaxis": "x",
         "y": [
          0.6468899189664531,
          0.6703147303961643,
          0.6686375030828691,
          0.6592000601535309,
          0.6686375030828691,
          0.6643088058193075,
          0.6695126547909498,
          0.6697972164593996,
          null,
          null,
          null,
          null,
          null,
          null
         ],
         "yaxis": "y"
        },
        {
         "error_y": {
          "array": [
           0.16783670464491054,
           0.16800654168571,
           0.17202902532427775,
           0.23643587806582292,
           null,
           null,
           null,
           null,
           null,
           null,
           null,
           null,
           null,
           null
          ],
          "thickness": 1,
          "type": "data",
          "visible": true,
          "width": 3
         },
         "line": {
          "color": "rgba(255,151,255,1)",
          "dash": "solid",
          "width": 2
         },
         "marker": {
          "size": 2.5
         },
         "name": "Margin",
         "type": "scatter",
         "x": [
          10,
          25,
          50,
          100,
          150,
          250,
          300,
          400,
          500,
          750,
          1000,
          2500,
          5000,
          7500,
          9000
         ],
         "xaxis": "x",
         "y": [
          0.3461637707100547,
          0.3367258861542408,
          0.36009819349568456,
          0.342520206602418,
          null,
          null,
          null,
          null,
          null,
          null,
          null,
          null,
          null,
          null
         ],
         "yaxis": "y"
        },
        {
         "error_y": {
          "array": [
           0.16670332795766415,
           0.16670332795766415,
           0.16670332795766415,
           0.16885121839079753,
           0.16897233330892725,
           0.14830383667809244,
           0.1531848103680448,
           0.0056674250546144824,
           null,
           null,
           null,
           null,
           null,
           null
          ],
          "thickness": 1,
          "type": "data",
          "visible": true,
          "width": 3
         },
         "line": {
          "color": "rgba(254,203,82,1)",
          "dash": "solid",
          "width": 2
         },
         "marker": {
          "size": 2.5
         },
         "name": "Cesa",
         "type": "scatter",
         "x": [
          10,
          25,
          50,
          100,
          150,
          250,
          300,
          400,
          500,
          750,
          1000,
          2500,
          5000,
          7500,
          9000
         ],
         "xaxis": "x",
         "y": [
          0.37294585865296676,
          0.37294585865296676,
          0.37294585865296676,
          0.36620558197542324,
          0.3566644624341005,
          0.2695479062449219,
          0.2784667344328208,
          0.1837417006703981,
          null,
          null,
          null,
          null,
          null,
          null
         ],
         "yaxis": "y"
        },
        {
         "error_y": {
          "array": [
           0.05617853412592151,
           0.03654324307687324,
           0.03609894001746475,
           0.031150257219457987,
           0.026914843279259568,
           0.026554367075666847,
           0.02223818123276147,
           0.016161816091708133,
           0.015070231088174948,
           0.004360433351577699,
           null,
           null,
           null,
           null
          ],
          "thickness": 1,
          "type": "data",
          "visible": true,
          "width": 3
         },
         "line": {
          "color": "rgba(171,99,250,1)",
          "dash": "solid",
          "width": 2
         },
         "marker": {
          "size": 2.5
         },
         "name": "Neural-CBP",
         "type": "scatter",
         "x": [
          10,
          25,
          50,
          100,
          150,
          250,
          300,
          400,
          500,
          750,
          1000,
          2500,
          5000,
          7500,
          9000
         ],
         "xaxis": "x",
         "y": [
          0.6008717565963353,
          0.6445126085191532,
          0.6755583492242256,
          0.6974951799619328,
          0.7117118795500095,
          0.7409749725595468,
          0.7509080691459109,
          0.7715516472630727,
          0.7818471489071431,
          0.8019524571952884,
          null,
          null,
          null,
          null
         ],
         "yaxis": "y"
        }
       ],
       "layout": {
        "height": 180,
        "legend": {
         "bgcolor": "rgba(0,0,0,0)",
         "font": {
          "size": 12.5
         },
         "orientation": "v",
         "x": 0.5,
         "xanchor": "center",
         "y": 0.5,
         "yanchor": "middle"
        },
        "margin": {
         "b": 0,
         "l": 0,
         "r": 0,
         "t": 3
        },
        "paper_bgcolor": "white",
        "plot_bgcolor": "white",
        "showlegend": true,
        "template": {
         "data": {
          "bar": [
           {
            "error_x": {
             "color": "#2a3f5f"
            },
            "error_y": {
             "color": "#2a3f5f"
            },
            "marker": {
             "line": {
              "color": "#E5ECF6",
              "width": 0.5
             },
             "pattern": {
              "fillmode": "overlay",
              "size": 10,
              "solidity": 0.2
             }
            },
            "type": "bar"
           }
          ],
          "barpolar": [
           {
            "marker": {
             "line": {
              "color": "#E5ECF6",
              "width": 0.5
             },
             "pattern": {
              "fillmode": "overlay",
              "size": 10,
              "solidity": 0.2
             }
            },
            "type": "barpolar"
           }
          ],
          "carpet": [
           {
            "aaxis": {
             "endlinecolor": "#2a3f5f",
             "gridcolor": "white",
             "linecolor": "white",
             "minorgridcolor": "white",
             "startlinecolor": "#2a3f5f"
            },
            "baxis": {
             "endlinecolor": "#2a3f5f",
             "gridcolor": "white",
             "linecolor": "white",
             "minorgridcolor": "white",
             "startlinecolor": "#2a3f5f"
            },
            "type": "carpet"
           }
          ],
          "choropleth": [
           {
            "colorbar": {
             "outlinewidth": 0,
             "ticks": ""
            },
            "type": "choropleth"
           }
          ],
          "contour": [
           {
            "colorbar": {
             "outlinewidth": 0,
             "ticks": ""
            },
            "colorscale": [
             [
              0,
              "#0d0887"
             ],
             [
              0.1111111111111111,
              "#46039f"
             ],
             [
              0.2222222222222222,
              "#7201a8"
             ],
             [
              0.3333333333333333,
              "#9c179e"
             ],
             [
              0.4444444444444444,
              "#bd3786"
             ],
             [
              0.5555555555555556,
              "#d8576b"
             ],
             [
              0.6666666666666666,
              "#ed7953"
             ],
             [
              0.7777777777777778,
              "#fb9f3a"
             ],
             [
              0.8888888888888888,
              "#fdca26"
             ],
             [
              1,
              "#f0f921"
             ]
            ],
            "type": "contour"
           }
          ],
          "contourcarpet": [
           {
            "colorbar": {
             "outlinewidth": 0,
             "ticks": ""
            },
            "type": "contourcarpet"
           }
          ],
          "heatmap": [
           {
            "colorbar": {
             "outlinewidth": 0,
             "ticks": ""
            },
            "colorscale": [
             [
              0,
              "#0d0887"
             ],
             [
              0.1111111111111111,
              "#46039f"
             ],
             [
              0.2222222222222222,
              "#7201a8"
             ],
             [
              0.3333333333333333,
              "#9c179e"
             ],
             [
              0.4444444444444444,
              "#bd3786"
             ],
             [
              0.5555555555555556,
              "#d8576b"
             ],
             [
              0.6666666666666666,
              "#ed7953"
             ],
             [
              0.7777777777777778,
              "#fb9f3a"
             ],
             [
              0.8888888888888888,
              "#fdca26"
             ],
             [
              1,
              "#f0f921"
             ]
            ],
            "type": "heatmap"
           }
          ],
          "heatmapgl": [
           {
            "colorbar": {
             "outlinewidth": 0,
             "ticks": ""
            },
            "colorscale": [
             [
              0,
              "#0d0887"
             ],
             [
              0.1111111111111111,
              "#46039f"
             ],
             [
              0.2222222222222222,
              "#7201a8"
             ],
             [
              0.3333333333333333,
              "#9c179e"
             ],
             [
              0.4444444444444444,
              "#bd3786"
             ],
             [
              0.5555555555555556,
              "#d8576b"
             ],
             [
              0.6666666666666666,
              "#ed7953"
             ],
             [
              0.7777777777777778,
              "#fb9f3a"
             ],
             [
              0.8888888888888888,
              "#fdca26"
             ],
             [
              1,
              "#f0f921"
             ]
            ],
            "type": "heatmapgl"
           }
          ],
          "histogram": [
           {
            "marker": {
             "pattern": {
              "fillmode": "overlay",
              "size": 10,
              "solidity": 0.2
             }
            },
            "type": "histogram"
           }
          ],
          "histogram2d": [
           {
            "colorbar": {
             "outlinewidth": 0,
             "ticks": ""
            },
            "colorscale": [
             [
              0,
              "#0d0887"
             ],
             [
              0.1111111111111111,
              "#46039f"
             ],
             [
              0.2222222222222222,
              "#7201a8"
             ],
             [
              0.3333333333333333,
              "#9c179e"
             ],
             [
              0.4444444444444444,
              "#bd3786"
             ],
             [
              0.5555555555555556,
              "#d8576b"
             ],
             [
              0.6666666666666666,
              "#ed7953"
             ],
             [
              0.7777777777777778,
              "#fb9f3a"
             ],
             [
              0.8888888888888888,
              "#fdca26"
             ],
             [
              1,
              "#f0f921"
             ]
            ],
            "type": "histogram2d"
           }
          ],
          "histogram2dcontour": [
           {
            "colorbar": {
             "outlinewidth": 0,
             "ticks": ""
            },
            "colorscale": [
             [
              0,
              "#0d0887"
             ],
             [
              0.1111111111111111,
              "#46039f"
             ],
             [
              0.2222222222222222,
              "#7201a8"
             ],
             [
              0.3333333333333333,
              "#9c179e"
             ],
             [
              0.4444444444444444,
              "#bd3786"
             ],
             [
              0.5555555555555556,
              "#d8576b"
             ],
             [
              0.6666666666666666,
              "#ed7953"
             ],
             [
              0.7777777777777778,
              "#fb9f3a"
             ],
             [
              0.8888888888888888,
              "#fdca26"
             ],
             [
              1,
              "#f0f921"
             ]
            ],
            "type": "histogram2dcontour"
           }
          ],
          "mesh3d": [
           {
            "colorbar": {
             "outlinewidth": 0,
             "ticks": ""
            },
            "type": "mesh3d"
           }
          ],
          "parcoords": [
           {
            "line": {
             "colorbar": {
              "outlinewidth": 0,
              "ticks": ""
             }
            },
            "type": "parcoords"
           }
          ],
          "pie": [
           {
            "automargin": true,
            "type": "pie"
           }
          ],
          "scatter": [
           {
            "fillpattern": {
             "fillmode": "overlay",
             "size": 10,
             "solidity": 0.2
            },
            "type": "scatter"
           }
          ],
          "scatter3d": [
           {
            "line": {
             "colorbar": {
              "outlinewidth": 0,
              "ticks": ""
             }
            },
            "marker": {
             "colorbar": {
              "outlinewidth": 0,
              "ticks": ""
             }
            },
            "type": "scatter3d"
           }
          ],
          "scattercarpet": [
           {
            "marker": {
             "colorbar": {
              "outlinewidth": 0,
              "ticks": ""
             }
            },
            "type": "scattercarpet"
           }
          ],
          "scattergeo": [
           {
            "marker": {
             "colorbar": {
              "outlinewidth": 0,
              "ticks": ""
             }
            },
            "type": "scattergeo"
           }
          ],
          "scattergl": [
           {
            "marker": {
             "colorbar": {
              "outlinewidth": 0,
              "ticks": ""
             }
            },
            "type": "scattergl"
           }
          ],
          "scattermapbox": [
           {
            "marker": {
             "colorbar": {
              "outlinewidth": 0,
              "ticks": ""
             }
            },
            "type": "scattermapbox"
           }
          ],
          "scatterpolar": [
           {
            "marker": {
             "colorbar": {
              "outlinewidth": 0,
              "ticks": ""
             }
            },
            "type": "scatterpolar"
           }
          ],
          "scatterpolargl": [
           {
            "marker": {
             "colorbar": {
              "outlinewidth": 0,
              "ticks": ""
             }
            },
            "type": "scatterpolargl"
           }
          ],
          "scatterternary": [
           {
            "marker": {
             "colorbar": {
              "outlinewidth": 0,
              "ticks": ""
             }
            },
            "type": "scatterternary"
           }
          ],
          "surface": [
           {
            "colorbar": {
             "outlinewidth": 0,
             "ticks": ""
            },
            "colorscale": [
             [
              0,
              "#0d0887"
             ],
             [
              0.1111111111111111,
              "#46039f"
             ],
             [
              0.2222222222222222,
              "#7201a8"
             ],
             [
              0.3333333333333333,
              "#9c179e"
             ],
             [
              0.4444444444444444,
              "#bd3786"
             ],
             [
              0.5555555555555556,
              "#d8576b"
             ],
             [
              0.6666666666666666,
              "#ed7953"
             ],
             [
              0.7777777777777778,
              "#fb9f3a"
             ],
             [
              0.8888888888888888,
              "#fdca26"
             ],
             [
              1,
              "#f0f921"
             ]
            ],
            "type": "surface"
           }
          ],
          "table": [
           {
            "cells": {
             "fill": {
              "color": "#EBF0F8"
             },
             "line": {
              "color": "white"
             }
            },
            "header": {
             "fill": {
              "color": "#C8D4E3"
             },
             "line": {
              "color": "white"
             }
            },
            "type": "table"
           }
          ]
         },
         "layout": {
          "annotationdefaults": {
           "arrowcolor": "#2a3f5f",
           "arrowhead": 0,
           "arrowwidth": 1
          },
          "autotypenumbers": "strict",
          "coloraxis": {
           "colorbar": {
            "outlinewidth": 0,
            "ticks": ""
           }
          },
          "colorscale": {
           "diverging": [
            [
             0,
             "#8e0152"
            ],
            [
             0.1,
             "#c51b7d"
            ],
            [
             0.2,
             "#de77ae"
            ],
            [
             0.3,
             "#f1b6da"
            ],
            [
             0.4,
             "#fde0ef"
            ],
            [
             0.5,
             "#f7f7f7"
            ],
            [
             0.6,
             "#e6f5d0"
            ],
            [
             0.7,
             "#b8e186"
            ],
            [
             0.8,
             "#7fbc41"
            ],
            [
             0.9,
             "#4d9221"
            ],
            [
             1,
             "#276419"
            ]
           ],
           "sequential": [
            [
             0,
             "#0d0887"
            ],
            [
             0.1111111111111111,
             "#46039f"
            ],
            [
             0.2222222222222222,
             "#7201a8"
            ],
            [
             0.3333333333333333,
             "#9c179e"
            ],
            [
             0.4444444444444444,
             "#bd3786"
            ],
            [
             0.5555555555555556,
             "#d8576b"
            ],
            [
             0.6666666666666666,
             "#ed7953"
            ],
            [
             0.7777777777777778,
             "#fb9f3a"
            ],
            [
             0.8888888888888888,
             "#fdca26"
            ],
            [
             1,
             "#f0f921"
            ]
           ],
           "sequentialminus": [
            [
             0,
             "#0d0887"
            ],
            [
             0.1111111111111111,
             "#46039f"
            ],
            [
             0.2222222222222222,
             "#7201a8"
            ],
            [
             0.3333333333333333,
             "#9c179e"
            ],
            [
             0.4444444444444444,
             "#bd3786"
            ],
            [
             0.5555555555555556,
             "#d8576b"
            ],
            [
             0.6666666666666666,
             "#ed7953"
            ],
            [
             0.7777777777777778,
             "#fb9f3a"
            ],
            [
             0.8888888888888888,
             "#fdca26"
            ],
            [
             1,
             "#f0f921"
            ]
           ]
          },
          "colorway": [
           "#636efa",
           "#EF553B",
           "#00cc96",
           "#ab63fa",
           "#FFA15A",
           "#19d3f3",
           "#FF6692",
           "#B6E880",
           "#FF97FF",
           "#FECB52"
          ],
          "font": {
           "color": "#2a3f5f"
          },
          "geo": {
           "bgcolor": "white",
           "lakecolor": "white",
           "landcolor": "#E5ECF6",
           "showlakes": true,
           "showland": true,
           "subunitcolor": "white"
          },
          "hoverlabel": {
           "align": "left"
          },
          "hovermode": "closest",
          "mapbox": {
           "style": "light"
          },
          "paper_bgcolor": "white",
          "plot_bgcolor": "#E5ECF6",
          "polar": {
           "angularaxis": {
            "gridcolor": "white",
            "linecolor": "white",
            "ticks": ""
           },
           "bgcolor": "#E5ECF6",
           "radialaxis": {
            "gridcolor": "white",
            "linecolor": "white",
            "ticks": ""
           }
          },
          "scene": {
           "xaxis": {
            "backgroundcolor": "#E5ECF6",
            "gridcolor": "white",
            "gridwidth": 2,
            "linecolor": "white",
            "showbackground": true,
            "ticks": "",
            "zerolinecolor": "white"
           },
           "yaxis": {
            "backgroundcolor": "#E5ECF6",
            "gridcolor": "white",
            "gridwidth": 2,
            "linecolor": "white",
            "showbackground": true,
            "ticks": "",
            "zerolinecolor": "white"
           },
           "zaxis": {
            "backgroundcolor": "#E5ECF6",
            "gridcolor": "white",
            "gridwidth": 2,
            "linecolor": "white",
            "showbackground": true,
            "ticks": "",
            "zerolinecolor": "white"
           }
          },
          "shapedefaults": {
           "line": {
            "color": "#2a3f5f"
           }
          },
          "ternary": {
           "aaxis": {
            "gridcolor": "white",
            "linecolor": "white",
            "ticks": ""
           },
           "baxis": {
            "gridcolor": "white",
            "linecolor": "white",
            "ticks": ""
           },
           "bgcolor": "#E5ECF6",
           "caxis": {
            "gridcolor": "white",
            "linecolor": "white",
            "ticks": ""
           }
          },
          "title": {
           "x": 0.05
          },
          "xaxis": {
           "automargin": true,
           "gridcolor": "white",
           "linecolor": "white",
           "ticks": "",
           "title": {
            "standoff": 15
           },
           "zerolinecolor": "white",
           "zerolinewidth": 2
          },
          "yaxis": {
           "automargin": true,
           "gridcolor": "white",
           "linecolor": "white",
           "ticks": "",
           "title": {
            "standoff": 15
           },
           "zerolinecolor": "white",
           "zerolinewidth": 2
          }
         }
        },
        "width": 220,
        "xaxis": {
         "anchor": "y",
         "domain": [
          0,
          1
         ],
         "gridcolor": "lightgrey",
         "tickfont": {
          "size": 10.5
         },
         "tickmode": "array",
         "title": {
          "font": {
           "size": 10.5
          },
          "standoff": 5,
          "text": "Round"
         },
         "type": "log"
        },
        "yaxis": {
         "anchor": "x",
         "domain": [
          0,
          1
         ],
         "gridcolor": "lightgrey",
         "tickfont": {
          "size": 10.5
         },
         "title": {
          "font": {
           "size": 10.5
          },
          "standoff": 5,
          "text": "f1-score"
         }
        }
       }
      }
     },
     "metadata": {},
     "output_type": "display_data"
    }
   ],
   "source": [
    "import plotly.graph_objects as go\n",
    "from plotly.subplots import make_subplots\n",
    "import numpy as np\n",
    "\n",
    "import plotly.graph_objects as go\n",
    "import plotly.express as px\n",
    "\n",
    "dataset = 'MagicTelescope'\n",
    "\n",
    "approaches = {\n",
    "    #'EEneuralcbpside_v5': {'color': [255, 255, 0], 'labeMNISTbinaryl': 'EEneuralcbpside_v5'},  # Red\n",
    "    'IneurAL (official)': {'color': [255, 161, 90], 'label':'IneurAL6'},                    # Yellow\n",
    "    'IneurAL (tuned)': {'color': [25, 211, 243], 'label':'IneurAL3'},                    # Cyan\n",
    "    'Neuronal (official)': {'color': [255, 102, 146], 'label':'neuronal6'},                  # Magenta\n",
    "    'Neuronal (tuned)': {'color': [182, 232, 128], 'label':'neuronal3'},                   # Orange\n",
    "    'Margin': {'color': [255, 151, 255], 'label':'margin'},\n",
    "    'Cesa': {'color': [254, 203, 82], 'label':'cesa'},\n",
    "    'Neural-CBP': {'color': [171, 99, 250], 'label': 'EEneuralcbpside_v6'},  # Red\n",
    "}\n",
    "\n",
    "thresholds = ['f1_10', 'f1_25', 'f1_50', 'f1_100', 'f1_150',\n",
    "              'f1_250', 'f1_300', 'f1_400', 'f1_500', 'f1_750', \n",
    "              'f1_1000', 'f1_2500', 'f1_5000', 'f1_7500',]\n",
    "\n",
    "# Create a subplot with 1 row and 2 columns\n",
    "fig = make_subplots(rows=1, cols=1, ) #\n",
    "\n",
    "# Add your traces for the first figure to the first subplot\n",
    "for approach in approaches.keys():\n",
    "    # ... [your existing code for calculating mean_values, std_values, and color] ...\n",
    "    mean_values = [] \n",
    "    std_values = []\n",
    "    r,g,b = approaches[approach]['color']\n",
    "    \n",
    "    for threshold in thresholds:\n",
    "        mean_value = df_mean[(df_mean['Dataset'] == dataset) & (df_mean['Approach'] == approach)][threshold].values[0]\n",
    "        mean_values.append(mean_value)\n",
    "\n",
    "        std_value = df_std[(df_std['Dataset'] == dataset) & (df_std['Approach'] == approach)][threshold].values[0]\n",
    "        std_values.append(std_value)\n",
    "\n",
    "    fig.add_trace(go.Scatter(\n",
    "        x=[10, 25, 50, 100, 150, 250, 300, 400, 500, 750, 1000, 2500, 5000, 7500, 9000], \n",
    "        y=mean_values,\n",
    "        error_y=dict(type='data', array=std_values, visible=True, thickness=1, width=3),\n",
    "        line=dict(dash='solid', width=2, color='rgba({},{},{},1)'.format(r,g,b)),\n",
    "        marker=dict(size=2.5),\n",
    "        name=approach), \n",
    "        row=1, col=1)\n",
    "\n",
    "# Add your traces for the second figure to the second subplot\n",
    "# for approach in approaches.keys():\n",
    "#     # ... [your existing code for calculating explo_value, upper, and color] ...\n",
    "#     r,g,b = approaches[approach]['color']\n",
    "#     explo_value = explo_final['MLP'][dataset][approach]\n",
    "#     upper = explo_value + explo2_final['MLP'][dataset][approach]\n",
    "#     xcoords = np.arange(0,horizon,1).tolist()\n",
    "\n",
    "#     fig.add_trace(go.Scatter(\n",
    "#         x=xcoords+xcoords[::-1], \n",
    "#         y=upper.tolist()+explo_value.tolist()[::-1],  \n",
    "#         fill='toself',\n",
    "#         fillcolor='rgba({},{},{},0.2)'.format(r,g,b),\n",
    "#         showlegend=False,\n",
    "#         line=dict(color='rgba({},{},{},1)'.format(r,g,b), width=0),\n",
    "#         hoverinfo=\"skip\"),\n",
    "#         row=1, col=2)\n",
    "    \n",
    "#     fig.add_trace(go.Scatter(\n",
    "#         x=xcoords, \n",
    "#         y=explo_value,\n",
    "#         showlegend=False,\n",
    "#         line=dict(dash='solid', width=2, color='rgba({},{},{},1)'.format(r,g,b)),\n",
    "#         name=approach), \n",
    "#         row=1, col=2)\n",
    "\n",
    "# Update layout and axes for the combined figure\n",
    "siz = 12.5\n",
    "fig.update_layout(\n",
    "    width=220,  # Adjusted for two subplots\n",
    "    height=180,\n",
    "    plot_bgcolor='white',\n",
    "    paper_bgcolor='white',\n",
    "    margin=dict(l=0, r=0, t=3, b=0),\n",
    "    showlegend=True,\n",
    "    # xaxis=dict(showgrid=False, showticklabels=False, zeroline=False, visible=False),  # Set visible to False\n",
    "    # yaxis=dict(showgrid=False, showticklabels=False, zeroline=False, visible=False),  # Set visible to False\n",
    "\n",
    "    legend=dict(\n",
    "        orientation=\"v\",\n",
    "        yanchor=\"middle\",\n",
    "        y=0.5,  # Adjust this value to position the legend\n",
    "        xanchor=\"center\",\n",
    "        x=0.5,\n",
    "        bgcolor='rgba(0,0,0,0)',\n",
    "        font=dict(size=siz),  # Increase legend font size\n",
    "        # title=dict(\n",
    "        #     text='<b>Legend</b>',  # Set the text for your legend title\n",
    "        #     font=dict(size=siz)  # Optionally set the font size for the legend title\n",
    "        # )\n",
    "    )\n",
    ")\n",
    "\n",
    "# Update xaxis and yaxis properties for each subplot\n",
    "fig.update_xaxes(title_text=\"Round\", row=1, col=1, gridcolor='lightgrey', tickmode='array', type=\"log\", title_standoff=5, title_font=dict(size=siz-2), tickfont=dict(size=siz-2))\n",
    "fig.update_yaxes(title_text=\"f1-score\", row=1, col=1, gridcolor='lightgrey', title_standoff=5, title_font=dict(size=siz-2), tickfont=dict(size=siz-2))\n",
    "\n",
    "# fig.update_xaxes(title_text=\"Round\", row=1, col=2, gridcolor='lightgrey', tickmode='array', title_standoff=5, title_font=dict(size=siz-2), tickfont=dict(size=siz-2))\n",
    "# fig.update_yaxes(title_text=\"# of labelled observations\", row=1, col=2, gridcolor='lightgrey',type=\"log\", title_standoff=0, title_font=dict(size=siz-2), tickfont=dict(size=siz-2))\n",
    "\n",
    "fig.show()\n",
    "\n",
    "# Save the combined figure as a PDF\n",
    "fig.write_image(\"./figures/binary_legend.png\".format(case, model, dataset), scale=10)\n"
   ]
  },
  {
   "cell_type": "code",
   "execution_count": 63,
   "metadata": {},
   "outputs": [
    {
     "data": {
      "application/vnd.plotly.v1+json": {
       "config": {
        "plotlyServerURL": "https://plot.ly"
       },
       "data": [
        {
         "marker": {
          "color": "rgba(255,161,90,1)"
         },
         "mode": "markers",
         "name": "IneurAL6",
         "type": "scatter",
         "x": [
          null
         ],
         "y": [
          null
         ]
        },
        {
         "marker": {
          "color": "rgba(25,211,243,1)"
         },
         "mode": "markers",
         "name": "IneurAL3",
         "type": "scatter",
         "x": [
          null
         ],
         "y": [
          null
         ]
        },
        {
         "marker": {
          "color": "rgba(255,102,146,1)"
         },
         "mode": "markers",
         "name": "neuronal6",
         "type": "scatter",
         "x": [
          null
         ],
         "y": [
          null
         ]
        },
        {
         "marker": {
          "color": "rgba(182,232,128,1)"
         },
         "mode": "markers",
         "name": "neuronal3",
         "type": "scatter",
         "x": [
          null
         ],
         "y": [
          null
         ]
        },
        {
         "marker": {
          "color": "rgba(255,151,255,1)"
         },
         "mode": "markers",
         "name": "margin",
         "type": "scatter",
         "x": [
          null
         ],
         "y": [
          null
         ]
        },
        {
         "marker": {
          "color": "rgba(254,203,82,1)"
         },
         "mode": "markers",
         "name": "cesa",
         "type": "scatter",
         "x": [
          null
         ],
         "y": [
          null
         ]
        },
        {
         "marker": {
          "color": "rgba(171,99,250,1)"
         },
         "mode": "markers",
         "name": "EEneuralcbpside_v6",
         "type": "scatter",
         "x": [
          null
         ],
         "y": [
          null
         ]
        }
       ],
       "layout": {
        "height": 220,
        "legend": {
         "font": {
          "size": 12.5
         },
         "orientation": "v",
         "x": 0.5,
         "xanchor": "center",
         "y": 0.55,
         "yanchor": "middle"
        },
        "margin": {
         "b": 0,
         "l": 0,
         "r": 0,
         "t": 0
        },
        "paper_bgcolor": "white",
        "plot_bgcolor": "white",
        "showlegend": true,
        "template": {
         "data": {
          "bar": [
           {
            "error_x": {
             "color": "#2a3f5f"
            },
            "error_y": {
             "color": "#2a3f5f"
            },
            "marker": {
             "line": {
              "color": "#E5ECF6",
              "width": 0.5
             },
             "pattern": {
              "fillmode": "overlay",
              "size": 10,
              "solidity": 0.2
             }
            },
            "type": "bar"
           }
          ],
          "barpolar": [
           {
            "marker": {
             "line": {
              "color": "#E5ECF6",
              "width": 0.5
             },
             "pattern": {
              "fillmode": "overlay",
              "size": 10,
              "solidity": 0.2
             }
            },
            "type": "barpolar"
           }
          ],
          "carpet": [
           {
            "aaxis": {
             "endlinecolor": "#2a3f5f",
             "gridcolor": "white",
             "linecolor": "white",
             "minorgridcolor": "white",
             "startlinecolor": "#2a3f5f"
            },
            "baxis": {
             "endlinecolor": "#2a3f5f",
             "gridcolor": "white",
             "linecolor": "white",
             "minorgridcolor": "white",
             "startlinecolor": "#2a3f5f"
            },
            "type": "carpet"
           }
          ],
          "choropleth": [
           {
            "colorbar": {
             "outlinewidth": 0,
             "ticks": ""
            },
            "type": "choropleth"
           }
          ],
          "contour": [
           {
            "colorbar": {
             "outlinewidth": 0,
             "ticks": ""
            },
            "colorscale": [
             [
              0,
              "#0d0887"
             ],
             [
              0.1111111111111111,
              "#46039f"
             ],
             [
              0.2222222222222222,
              "#7201a8"
             ],
             [
              0.3333333333333333,
              "#9c179e"
             ],
             [
              0.4444444444444444,
              "#bd3786"
             ],
             [
              0.5555555555555556,
              "#d8576b"
             ],
             [
              0.6666666666666666,
              "#ed7953"
             ],
             [
              0.7777777777777778,
              "#fb9f3a"
             ],
             [
              0.8888888888888888,
              "#fdca26"
             ],
             [
              1,
              "#f0f921"
             ]
            ],
            "type": "contour"
           }
          ],
          "contourcarpet": [
           {
            "colorbar": {
             "outlinewidth": 0,
             "ticks": ""
            },
            "type": "contourcarpet"
           }
          ],
          "heatmap": [
           {
            "colorbar": {
             "outlinewidth": 0,
             "ticks": ""
            },
            "colorscale": [
             [
              0,
              "#0d0887"
             ],
             [
              0.1111111111111111,
              "#46039f"
             ],
             [
              0.2222222222222222,
              "#7201a8"
             ],
             [
              0.3333333333333333,
              "#9c179e"
             ],
             [
              0.4444444444444444,
              "#bd3786"
             ],
             [
              0.5555555555555556,
              "#d8576b"
             ],
             [
              0.6666666666666666,
              "#ed7953"
             ],
             [
              0.7777777777777778,
              "#fb9f3a"
             ],
             [
              0.8888888888888888,
              "#fdca26"
             ],
             [
              1,
              "#f0f921"
             ]
            ],
            "type": "heatmap"
           }
          ],
          "heatmapgl": [
           {
            "colorbar": {
             "outlinewidth": 0,
             "ticks": ""
            },
            "colorscale": [
             [
              0,
              "#0d0887"
             ],
             [
              0.1111111111111111,
              "#46039f"
             ],
             [
              0.2222222222222222,
              "#7201a8"
             ],
             [
              0.3333333333333333,
              "#9c179e"
             ],
             [
              0.4444444444444444,
              "#bd3786"
             ],
             [
              0.5555555555555556,
              "#d8576b"
             ],
             [
              0.6666666666666666,
              "#ed7953"
             ],
             [
              0.7777777777777778,
              "#fb9f3a"
             ],
             [
              0.8888888888888888,
              "#fdca26"
             ],
             [
              1,
              "#f0f921"
             ]
            ],
            "type": "heatmapgl"
           }
          ],
          "histogram": [
           {
            "marker": {
             "pattern": {
              "fillmode": "overlay",
              "size": 10,
              "solidity": 0.2
             }
            },
            "type": "histogram"
           }
          ],
          "histogram2d": [
           {
            "colorbar": {
             "outlinewidth": 0,
             "ticks": ""
            },
            "colorscale": [
             [
              0,
              "#0d0887"
             ],
             [
              0.1111111111111111,
              "#46039f"
             ],
             [
              0.2222222222222222,
              "#7201a8"
             ],
             [
              0.3333333333333333,
              "#9c179e"
             ],
             [
              0.4444444444444444,
              "#bd3786"
             ],
             [
              0.5555555555555556,
              "#d8576b"
             ],
             [
              0.6666666666666666,
              "#ed7953"
             ],
             [
              0.7777777777777778,
              "#fb9f3a"
             ],
             [
              0.8888888888888888,
              "#fdca26"
             ],
             [
              1,
              "#f0f921"
             ]
            ],
            "type": "histogram2d"
           }
          ],
          "histogram2dcontour": [
           {
            "colorbar": {
             "outlinewidth": 0,
             "ticks": ""
            },
            "colorscale": [
             [
              0,
              "#0d0887"
             ],
             [
              0.1111111111111111,
              "#46039f"
             ],
             [
              0.2222222222222222,
              "#7201a8"
             ],
             [
              0.3333333333333333,
              "#9c179e"
             ],
             [
              0.4444444444444444,
              "#bd3786"
             ],
             [
              0.5555555555555556,
              "#d8576b"
             ],
             [
              0.6666666666666666,
              "#ed7953"
             ],
             [
              0.7777777777777778,
              "#fb9f3a"
             ],
             [
              0.8888888888888888,
              "#fdca26"
             ],
             [
              1,
              "#f0f921"
             ]
            ],
            "type": "histogram2dcontour"
           }
          ],
          "mesh3d": [
           {
            "colorbar": {
             "outlinewidth": 0,
             "ticks": ""
            },
            "type": "mesh3d"
           }
          ],
          "parcoords": [
           {
            "line": {
             "colorbar": {
              "outlinewidth": 0,
              "ticks": ""
             }
            },
            "type": "parcoords"
           }
          ],
          "pie": [
           {
            "automargin": true,
            "type": "pie"
           }
          ],
          "scatter": [
           {
            "fillpattern": {
             "fillmode": "overlay",
             "size": 10,
             "solidity": 0.2
            },
            "type": "scatter"
           }
          ],
          "scatter3d": [
           {
            "line": {
             "colorbar": {
              "outlinewidth": 0,
              "ticks": ""
             }
            },
            "marker": {
             "colorbar": {
              "outlinewidth": 0,
              "ticks": ""
             }
            },
            "type": "scatter3d"
           }
          ],
          "scattercarpet": [
           {
            "marker": {
             "colorbar": {
              "outlinewidth": 0,
              "ticks": ""
             }
            },
            "type": "scattercarpet"
           }
          ],
          "scattergeo": [
           {
            "marker": {
             "colorbar": {
              "outlinewidth": 0,
              "ticks": ""
             }
            },
            "type": "scattergeo"
           }
          ],
          "scattergl": [
           {
            "marker": {
             "colorbar": {
              "outlinewidth": 0,
              "ticks": ""
             }
            },
            "type": "scattergl"
           }
          ],
          "scattermapbox": [
           {
            "marker": {
             "colorbar": {
              "outlinewidth": 0,
              "ticks": ""
             }
            },
            "type": "scattermapbox"
           }
          ],
          "scatterpolar": [
           {
            "marker": {
             "colorbar": {
              "outlinewidth": 0,
              "ticks": ""
             }
            },
            "type": "scatterpolar"
           }
          ],
          "scatterpolargl": [
           {
            "marker": {
             "colorbar": {
              "outlinewidth": 0,
              "ticks": ""
             }
            },
            "type": "scatterpolargl"
           }
          ],
          "scatterternary": [
           {
            "marker": {
             "colorbar": {
              "outlinewidth": 0,
              "ticks": ""
             }
            },
            "type": "scatterternary"
           }
          ],
          "surface": [
           {
            "colorbar": {
             "outlinewidth": 0,
             "ticks": ""
            },
            "colorscale": [
             [
              0,
              "#0d0887"
             ],
             [
              0.1111111111111111,
              "#46039f"
             ],
             [
              0.2222222222222222,
              "#7201a8"
             ],
             [
              0.3333333333333333,
              "#9c179e"
             ],
             [
              0.4444444444444444,
              "#bd3786"
             ],
             [
              0.5555555555555556,
              "#d8576b"
             ],
             [
              0.6666666666666666,
              "#ed7953"
             ],
             [
              0.7777777777777778,
              "#fb9f3a"
             ],
             [
              0.8888888888888888,
              "#fdca26"
             ],
             [
              1,
              "#f0f921"
             ]
            ],
            "type": "surface"
           }
          ],
          "table": [
           {
            "cells": {
             "fill": {
              "color": "#EBF0F8"
             },
             "line": {
              "color": "white"
             }
            },
            "header": {
             "fill": {
              "color": "#C8D4E3"
             },
             "line": {
              "color": "white"
             }
            },
            "type": "table"
           }
          ]
         },
         "layout": {
          "annotationdefaults": {
           "arrowcolor": "#2a3f5f",
           "arrowhead": 0,
           "arrowwidth": 1
          },
          "autotypenumbers": "strict",
          "coloraxis": {
           "colorbar": {
            "outlinewidth": 0,
            "ticks": ""
           }
          },
          "colorscale": {
           "diverging": [
            [
             0,
             "#8e0152"
            ],
            [
             0.1,
             "#c51b7d"
            ],
            [
             0.2,
             "#de77ae"
            ],
            [
             0.3,
             "#f1b6da"
            ],
            [
             0.4,
             "#fde0ef"
            ],
            [
             0.5,
             "#f7f7f7"
            ],
            [
             0.6,
             "#e6f5d0"
            ],
            [
             0.7,
             "#b8e186"
            ],
            [
             0.8,
             "#7fbc41"
            ],
            [
             0.9,
             "#4d9221"
            ],
            [
             1,
             "#276419"
            ]
           ],
           "sequential": [
            [
             0,
             "#0d0887"
            ],
            [
             0.1111111111111111,
             "#46039f"
            ],
            [
             0.2222222222222222,
             "#7201a8"
            ],
            [
             0.3333333333333333,
             "#9c179e"
            ],
            [
             0.4444444444444444,
             "#bd3786"
            ],
            [
             0.5555555555555556,
             "#d8576b"
            ],
            [
             0.6666666666666666,
             "#ed7953"
            ],
            [
             0.7777777777777778,
             "#fb9f3a"
            ],
            [
             0.8888888888888888,
             "#fdca26"
            ],
            [
             1,
             "#f0f921"
            ]
           ],
           "sequentialminus": [
            [
             0,
             "#0d0887"
            ],
            [
             0.1111111111111111,
             "#46039f"
            ],
            [
             0.2222222222222222,
             "#7201a8"
            ],
            [
             0.3333333333333333,
             "#9c179e"
            ],
            [
             0.4444444444444444,
             "#bd3786"
            ],
            [
             0.5555555555555556,
             "#d8576b"
            ],
            [
             0.6666666666666666,
             "#ed7953"
            ],
            [
             0.7777777777777778,
             "#fb9f3a"
            ],
            [
             0.8888888888888888,
             "#fdca26"
            ],
            [
             1,
             "#f0f921"
            ]
           ]
          },
          "colorway": [
           "#636efa",
           "#EF553B",
           "#00cc96",
           "#ab63fa",
           "#FFA15A",
           "#19d3f3",
           "#FF6692",
           "#B6E880",
           "#FF97FF",
           "#FECB52"
          ],
          "font": {
           "color": "#2a3f5f"
          },
          "geo": {
           "bgcolor": "white",
           "lakecolor": "white",
           "landcolor": "#E5ECF6",
           "showlakes": true,
           "showland": true,
           "subunitcolor": "white"
          },
          "hoverlabel": {
           "align": "left"
          },
          "hovermode": "closest",
          "mapbox": {
           "style": "light"
          },
          "paper_bgcolor": "white",
          "plot_bgcolor": "#E5ECF6",
          "polar": {
           "angularaxis": {
            "gridcolor": "white",
            "linecolor": "white",
            "ticks": ""
           },
           "bgcolor": "#E5ECF6",
           "radialaxis": {
            "gridcolor": "white",
            "linecolor": "white",
            "ticks": ""
           }
          },
          "scene": {
           "xaxis": {
            "backgroundcolor": "#E5ECF6",
            "gridcolor": "white",
            "gridwidth": 2,
            "linecolor": "white",
            "showbackground": true,
            "ticks": "",
            "zerolinecolor": "white"
           },
           "yaxis": {
            "backgroundcolor": "#E5ECF6",
            "gridcolor": "white",
            "gridwidth": 2,
            "linecolor": "white",
            "showbackground": true,
            "ticks": "",
            "zerolinecolor": "white"
           },
           "zaxis": {
            "backgroundcolor": "#E5ECF6",
            "gridcolor": "white",
            "gridwidth": 2,
            "linecolor": "white",
            "showbackground": true,
            "ticks": "",
            "zerolinecolor": "white"
           }
          },
          "shapedefaults": {
           "line": {
            "color": "#2a3f5f"
           }
          },
          "ternary": {
           "aaxis": {
            "gridcolor": "white",
            "linecolor": "white",
            "ticks": ""
           },
           "baxis": {
            "gridcolor": "white",
            "linecolor": "white",
            "ticks": ""
           },
           "bgcolor": "#E5ECF6",
           "caxis": {
            "gridcolor": "white",
            "linecolor": "white",
            "ticks": ""
           }
          },
          "title": {
           "x": 0.05
          },
          "xaxis": {
           "automargin": true,
           "gridcolor": "white",
           "linecolor": "white",
           "ticks": "",
           "title": {
            "standoff": 15
           },
           "zerolinecolor": "white",
           "zerolinewidth": 2
          },
          "yaxis": {
           "automargin": true,
           "gridcolor": "white",
           "linecolor": "white",
           "ticks": "",
           "title": {
            "standoff": 15
           },
           "zerolinecolor": "white",
           "zerolinewidth": 2
          }
         }
        },
        "width": 220,
        "xaxis": {
         "anchor": "y",
         "domain": [
          0,
          1
         ],
         "showgrid": false,
         "showticklabels": false,
         "visible": false,
         "zeroline": false
        },
        "yaxis": {
         "anchor": "x",
         "domain": [
          0,
          1
         ],
         "showgrid": false,
         "showticklabels": false,
         "visible": false,
         "zeroline": false
        }
       }
      }
     },
     "metadata": {},
     "output_type": "display_data"
    }
   ],
   "source": [
    "import plotly.graph_objects as go\n",
    "from plotly.subplots import make_subplots\n",
    "\n",
    "# ... [your existing setup code for 'approaches' dictionary]\n",
    "\n",
    "# Create an empty subplot\n",
    "fig = make_subplots(rows=1, cols=1)\n",
    "\n",
    "# Add your traces only for the purpose of generating the legend\n",
    "for approach, info in approaches.items():\n",
    "    r, g, b = info['color']\n",
    "    fig.add_trace(go.Scatter(\n",
    "        x=[None],\n",
    "        y=[None],\n",
    "        mode='markers',\n",
    "        marker=dict(color='rgba({},{},{},1)'.format(r, g, b)),\n",
    "        name=info['label']\n",
    "    ))\n",
    "\n",
    "# Update layout and axes for the figure\n",
    "fig.update_layout(\n",
    "    width=220,\n",
    "    height=220,\n",
    "    plot_bgcolor='white',\n",
    "    paper_bgcolor='white',\n",
    "    showlegend=True,\n",
    "    legend=dict(\n",
    "        orientation=\"v\",\n",
    "        yanchor=\"middle\",\n",
    "        y=0.55,  # Adjust if necessary to position the legend\n",
    "        xanchor=\"center\",\n",
    "        x=0.5,\n",
    "        font=dict(size=12.5)\n",
    "    ),\n",
    "    xaxis=dict(showgrid=False, showticklabels=False, zeroline=False, visible=False),  # Set visible to False\n",
    "    yaxis=dict(showgrid=False, showticklabels=False, zeroline=False, visible=False),  # Set visible to False\n",
    "    margin=dict(l=0, r=0, t=0, b=0)\n",
    ")\n",
    "\n",
    "# Show the figure\n",
    "fig.show()\n",
    "\n",
    "# Save the figure with only the legend as a PDF\n",
    "fig.write_image(\"./figures/binary_legend.pdf\")\n"
   ]
  }
 ],
 "metadata": {
  "kernelspec": {
   "display_name": ".venv",
   "language": "python",
   "name": "python3"
  },
  "language_info": {
   "codemirror_mode": {
    "name": "ipython",
    "version": 3
   },
   "file_extension": ".py",
   "mimetype": "text/x-python",
   "name": "python",
   "nbconvert_exporter": "python",
   "pygments_lexer": "ipython3",
   "version": "3.8.16"
  },
  "orig_nbformat": 4
 },
 "nbformat": 4,
 "nbformat_minor": 2
}
