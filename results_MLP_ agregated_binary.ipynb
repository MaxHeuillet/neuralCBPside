{
 "cells": [
  {
   "cell_type": "code",
   "execution_count": 59,
   "metadata": {},
   "outputs": [],
   "source": [
    "import os\n",
    "import numpy as np\n",
    "import plotly.graph_objects as go\n",
    "import pandas as pd\n",
    "import gzip\n",
    "import pickle as pkl\n",
    "import pandas as pd\n",
    "\n",
    "def loadall_results2(path, n_folds):\n",
    "    regret = []\n",
    "    history_actions = []\n",
    "    history_outcomes = []\n",
    "    perf = []\n",
    "    with gzip.open(  path ,'rb') as f:\n",
    "        for i in range(n_folds+1):\n",
    "            try:\n",
    "                data = pkl.load(f)\n",
    "            except EOFError:\n",
    "                break\n",
    "\n",
    "            if type(data) == dict:\n",
    "                regret.append( data['regret'] ) \n",
    "                history_actions.append( data['action_history'] )\n",
    "                history_outcomes.append( data['outcome_history'] ) \n",
    "                perf.append( data['pred'] ) \n",
    "\n",
    "    return regret, history_actions, history_outcomes, perf"
   ]
  },
  {
   "cell_type": "code",
   "execution_count": 25,
   "metadata": {},
   "outputs": [],
   "source": [
    "n_folds = 25\n",
    "horizon = 9999\n",
    "context = 'MNISTbinary'\n",
    "model = 'MLP'\n",
    "case = 'case1'\n",
    "agent_name = 'EEneuralcbpside_v6' #ineural6, neuronal6\n",
    "\n",
    "direct = './results/'\n",
    "path = os.path.join(direct, '{}_{}_{}_{}_{}_{}.pkl.gz'.format(case,model,context,horizon,n_folds,agent_name) )\n",
    "regret, action_history, outcome_history, perf = loadall_results2(path, n_folds)\n"
   ]
  },
  {
   "cell_type": "code",
   "execution_count": 60,
   "metadata": {},
   "outputs": [
    {
     "name": "stdout",
     "output_type": "stream",
     "text": [
      "./results_neuronal_grid/case1_MLP_MNISTbinary_9999_25_ineural6.pkl.gz\n",
      "[[1.000e+00 1.000e+00 2.000e+00 ... 1.588e+03 1.588e+03 1.589e+03]\n",
      " [1.000e+00 1.000e+00 1.000e+00 ... 1.659e+03 1.659e+03 1.660e+03]\n",
      " [1.000e+00 2.000e+00 2.000e+00 ... 1.651e+03 1.651e+03 1.651e+03]\n",
      " ...\n",
      " [1.000e+00 1.000e+00 1.000e+00 ... 1.616e+03 1.616e+03 1.616e+03]\n",
      " [1.000e+00 1.000e+00 2.000e+00 ... 1.674e+03 1.674e+03 1.674e+03]\n",
      " [1.000e+00 1.000e+00 1.000e+00 ... 1.637e+03 1.637e+03 1.637e+03]]\n",
      "./results_neuronal_grid/case1_MLP_MNISTbinary_9999_25_ineural3.pkl.gz\n",
      "[[1.000e+00 1.000e+00 2.000e+00 ... 1.492e+03 1.492e+03 1.492e+03]\n",
      " [1.000e+00 1.000e+00 1.000e+00 ... 1.410e+03 1.410e+03 1.410e+03]\n",
      " [1.000e+00 2.000e+00 2.000e+00 ... 1.424e+03 1.424e+03 1.424e+03]\n",
      " ...\n",
      " [1.000e+00 1.000e+00 1.000e+00 ... 1.356e+03 1.356e+03 1.356e+03]\n",
      " [1.000e+00 1.000e+00 2.000e+00 ... 1.259e+03 1.259e+03 1.259e+03]\n",
      " [1.000e+00 1.000e+00 1.000e+00 ... 2.014e+03 2.014e+03 2.014e+03]]\n",
      "./results_neuronal_grid/case1_MLP_MNISTbinary_9999_25_neuronal6.pkl.gz\n",
      "[[1.000e+00 2.000e+00 3.000e+00 ... 1.531e+03 1.532e+03 1.532e+03]\n",
      " [1.000e+00 1.000e+00 2.000e+00 ... 1.525e+03 1.525e+03 1.525e+03]\n",
      " [1.000e+00 2.000e+00 2.000e+00 ... 1.542e+03 1.542e+03 1.542e+03]\n",
      " ...\n",
      " [1.000e+00 2.000e+00 3.000e+00 ... 1.619e+03 1.619e+03 1.619e+03]\n",
      " [1.000e+00 2.000e+00 2.000e+00 ... 1.536e+03 1.536e+03 1.536e+03]\n",
      " [1.000e+00 2.000e+00 2.000e+00 ... 1.567e+03 1.567e+03 1.567e+03]]\n",
      "./results_neuronal_grid/case1_MLP_MNISTbinary_9999_25_neuronal3.pkl.gz\n",
      "[[1.000e+00 1.000e+00 2.000e+00 ... 1.253e+03 1.253e+03 1.253e+03]\n",
      " [1.000e+00 2.000e+00 2.000e+00 ... 1.426e+03 1.426e+03 1.426e+03]\n",
      " [1.000e+00 1.000e+00 1.000e+00 ... 1.247e+03 1.247e+03 1.247e+03]\n",
      " ...\n",
      " [1.000e+00 2.000e+00 2.000e+00 ... 2.697e+03 2.697e+03 2.697e+03]\n",
      " [1.000e+00 1.000e+00 1.000e+00 ... 1.290e+03 1.290e+03 1.290e+03]\n",
      " [1.000e+00 1.000e+00 1.000e+00 ... 1.282e+03 1.282e+03 1.282e+03]]\n",
      "./results_neuronal_grid/case1_MLP_MNISTbinary_9999_25_EEneuralcbpside_v6.pkl.gz\n",
      "[[1.000e+00 1.000e+00 2.000e+00 ... 1.353e+03 1.353e+03 1.353e+03]\n",
      " [1.000e+00 1.000e+00 1.000e+00 ... 1.352e+03 1.352e+03 1.352e+03]\n",
      " [1.000e+00 2.000e+00 2.000e+00 ... 1.556e+03 1.556e+03 1.556e+03]\n",
      " ...\n",
      " [1.000e+00 1.000e+00 1.000e+00 ... 1.284e+03 1.284e+03 1.284e+03]\n",
      " [1.000e+00 1.000e+00 1.000e+00 ... 1.376e+03 1.376e+03 1.376e+03]\n",
      " [1.000e+00 1.000e+00 2.000e+00 ... 1.322e+03 1.322e+03 1.322e+03]]\n",
      "./results_neuronal_grid/case1_MLP_MNISTbinary_9999_25_margin.pkl.gz\n",
      "[[1.000e+00 2.000e+00 2.000e+00 ... 2.008e+03 2.008e+03 2.008e+03]\n",
      " [1.000e+00 1.000e+00 2.000e+00 ... 1.998e+03 1.998e+03 1.998e+03]\n",
      " [1.000e+00 1.000e+00 1.000e+00 ... 2.040e+03 2.040e+03 2.040e+03]\n",
      " ...\n",
      " [1.000e+00 1.000e+00 1.000e+00 ... 5.076e+03 5.077e+03 5.077e+03]\n",
      " [1.000e+00 1.000e+00 1.000e+00 ... 1.822e+03 1.822e+03 1.822e+03]\n",
      " [1.000e+00 1.000e+00 2.000e+00 ... 1.837e+03 1.837e+03 1.837e+03]]\n",
      "./results_neuronal_grid/case1_MLP_MNISTbinary_9999_25_cesa.pkl.gz\n",
      "[[1.000e+00 1.000e+00 2.000e+00 ... 2.350e+03 2.350e+03 2.350e+03]\n",
      " [1.000e+00 1.000e+00 1.000e+00 ... 1.842e+03 1.842e+03 1.842e+03]\n",
      " [1.000e+00 2.000e+00 2.000e+00 ... 1.988e+03 1.988e+03 1.988e+03]\n",
      " ...\n",
      " [1.000e+00 1.000e+00 1.000e+00 ... 2.739e+03 2.739e+03 2.739e+03]\n",
      " [1.000e+00 1.000e+00 1.000e+00 ... 5.076e+03 5.077e+03 5.077e+03]\n",
      " [1.000e+00 1.000e+00 2.000e+00 ... 1.948e+03 1.948e+03 1.948e+03]]\n",
      "./results_neuronal_grid/case1_MLP_adult_9999_25_ineural6.pkl.gz\n",
      "[[1.000e+00 1.000e+00 1.000e+00 ... 4.991e+03 4.992e+03 4.993e+03]\n",
      " [1.000e+00 1.000e+00 1.000e+00 ... 6.233e+03 6.234e+03 6.235e+03]\n",
      " [1.000e+00 2.000e+00 2.000e+00 ... 7.391e+03 7.392e+03 7.393e+03]\n",
      " ...\n",
      " [1.000e+00 1.000e+00 2.000e+00 ... 6.527e+03 6.528e+03 6.529e+03]\n",
      " [1.000e+00 2.000e+00 3.000e+00 ... 9.473e+03 9.474e+03 9.475e+03]\n",
      " [1.000e+00 2.000e+00 2.000e+00 ... 9.472e+03 9.473e+03 9.474e+03]]\n",
      "./results_neuronal_grid/case1_MLP_adult_9999_25_ineural3.pkl.gz\n",
      "[[1.000e+00 1.000e+00 2.000e+00 ... 3.949e+03 3.950e+03 3.950e+03]\n",
      " [1.000e+00 2.000e+00 2.000e+00 ... 7.588e+03 7.589e+03 7.590e+03]\n",
      " [1.000e+00 2.000e+00 2.000e+00 ... 2.324e+03 2.325e+03 2.325e+03]\n",
      " ...\n",
      " [1.000e+00 1.000e+00 2.000e+00 ... 3.317e+03 3.318e+03 3.318e+03]\n",
      " [1.000e+00 2.000e+00 3.000e+00 ... 2.439e+03 2.440e+03 2.440e+03]\n",
      " [1.000e+00 2.000e+00 2.000e+00 ... 2.480e+03 2.481e+03 2.481e+03]]\n",
      "./results_neuronal_grid/case1_MLP_adult_9999_25_neuronal6.pkl.gz\n",
      "[[1.000e+00 2.000e+00 2.000e+00 ... 2.400e+03 2.400e+03 2.401e+03]\n",
      " [1.000e+00 1.000e+00 2.000e+00 ... 7.623e+03 7.624e+03 7.625e+03]\n",
      " [1.000e+00 2.000e+00 2.000e+00 ... 2.414e+03 2.414e+03 2.414e+03]\n",
      " ...\n",
      " [1.000e+00 1.000e+00 1.000e+00 ... 7.584e+03 7.585e+03 7.585e+03]\n",
      " [1.000e+00 1.000e+00 2.000e+00 ... 2.428e+03 2.428e+03 2.428e+03]\n",
      " [1.000e+00 2.000e+00 3.000e+00 ... 2.424e+03 2.425e+03 2.425e+03]]\n",
      "./results_neuronal_grid/case1_MLP_adult_9999_25_neuronal3.pkl.gz\n",
      "[[1.000e+00 2.000e+00 3.000e+00 ... 2.394e+03 2.394e+03 2.394e+03]\n",
      " [1.000e+00 2.000e+00 2.000e+00 ... 2.415e+03 2.415e+03 2.415e+03]\n",
      " [1.000e+00 1.000e+00 2.000e+00 ... 7.563e+03 7.564e+03 7.565e+03]\n",
      " ...\n",
      " [1.000e+00 1.000e+00 2.000e+00 ... 7.596e+03 7.597e+03 7.598e+03]\n",
      " [1.000e+00 2.000e+00 3.000e+00 ... 7.525e+03 7.526e+03 7.527e+03]\n",
      " [1.000e+00 2.000e+00 2.000e+00 ... 2.412e+03 2.413e+03 2.413e+03]]\n",
      "./results_neuronal_grid/case1_MLP_adult_9999_25_EEneuralcbpside_v6.pkl.gz\n",
      "[[1.000e+00 2.000e+00 2.000e+00 ... 2.367e+03 2.367e+03 2.367e+03]\n",
      " [1.000e+00 2.000e+00 2.000e+00 ... 2.210e+03 2.210e+03 2.210e+03]\n",
      " [1.000e+00 2.000e+00 2.000e+00 ... 3.201e+03 3.201e+03 3.202e+03]\n",
      " ...\n",
      " [1.000e+00 2.000e+00 3.000e+00 ... 4.351e+03 4.352e+03 4.353e+03]\n",
      " [1.000e+00 2.000e+00 2.000e+00 ... 7.545e+03 7.546e+03 7.547e+03]\n",
      " [1.000e+00 1.000e+00 1.000e+00 ... 2.117e+03 2.117e+03 2.117e+03]]\n",
      "./results_neuronal_grid/case1_MLP_adult_9999_25_margin.pkl.gz\n",
      "[[1.000e+00 2.000e+00 2.000e+00 ... 2.390e+03 2.391e+03 2.392e+03]\n",
      " [1.000e+00 2.000e+00 2.000e+00 ... 2.480e+03 2.480e+03 2.480e+03]\n",
      " [1.000e+00 2.000e+00 3.000e+00 ... 2.404e+03 2.404e+03 2.404e+03]\n",
      " ...\n",
      " [1.000e+00 1.000e+00 1.000e+00 ... 2.414e+03 2.414e+03 2.415e+03]\n",
      " [1.000e+00 2.000e+00 3.000e+00 ... 2.326e+03 2.326e+03 2.326e+03]\n",
      " [1.000e+00 1.000e+00 2.000e+00 ... 2.354e+03 2.354e+03 2.354e+03]]\n",
      "./results_neuronal_grid/case1_MLP_adult_9999_25_cesa.pkl.gz\n",
      "[[1.000e+00 2.000e+00 3.000e+00 ... 2.370e+03 2.370e+03 2.370e+03]\n",
      " [1.000e+00 2.000e+00 2.000e+00 ... 7.691e+03 7.692e+03 7.692e+03]\n",
      " [1.000e+00 2.000e+00 2.000e+00 ... 6.123e+03 6.123e+03 6.124e+03]\n",
      " ...\n",
      " [1.000e+00 1.000e+00 2.000e+00 ... 2.326e+03 2.326e+03 2.326e+03]\n",
      " [1.000e+00 2.000e+00 3.000e+00 ... 2.526e+03 2.526e+03 2.526e+03]\n",
      " [1.000e+00 2.000e+00 2.000e+00 ... 2.515e+03 2.515e+03 2.515e+03]]\n",
      "./results_neuronal_grid/case1_MLP_MagicTelescope_9999_25_ineural6.pkl.gz\n",
      "[[1.000e+00 2.000e+00 3.000e+00 ... 6.497e+03 6.498e+03 6.499e+03]\n",
      " [1.000e+00 2.000e+00 2.000e+00 ... 7.821e+03 7.822e+03 7.823e+03]\n",
      " [1.000e+00 2.000e+00 3.000e+00 ... 7.109e+03 7.109e+03 7.109e+03]\n",
      " ...\n",
      " [1.000e+00 2.000e+00 3.000e+00 ... 7.742e+03 7.743e+03 7.743e+03]\n",
      " [1.000e+00 1.000e+00 1.000e+00 ... 7.600e+03 7.601e+03 7.602e+03]\n",
      " [1.000e+00 1.000e+00 2.000e+00 ... 7.441e+03 7.441e+03 7.441e+03]]\n",
      "./results_neuronal_grid/case1_MLP_MagicTelescope_9999_25_ineural3.pkl.gz\n",
      "[[1.000e+00 2.000e+00 3.000e+00 ... 6.493e+03 6.493e+03 6.493e+03]\n",
      " [1.000e+00 2.000e+00 2.000e+00 ... 6.421e+03 6.421e+03 6.422e+03]\n",
      " [1.000e+00 1.000e+00 1.000e+00 ... 4.862e+03 4.863e+03 4.863e+03]\n",
      " ...\n",
      " [1.000e+00 1.000e+00 1.000e+00 ... 5.295e+03 5.296e+03 5.297e+03]\n",
      " [1.000e+00 1.000e+00 2.000e+00 ... 5.179e+03 5.180e+03 5.181e+03]\n",
      " [1.000e+00 1.000e+00 1.000e+00 ... 5.331e+03 5.331e+03 5.331e+03]]\n",
      "./results_neuronal_grid/case1_MLP_MagicTelescope_9999_25_neuronal6.pkl.gz\n",
      "[[1.000e+00 2.000e+00 2.000e+00 ... 3.536e+03 3.537e+03 3.538e+03]\n",
      " [1.000e+00 2.000e+00 3.000e+00 ... 3.534e+03 3.534e+03 3.535e+03]\n",
      " [1.000e+00 1.000e+00 1.000e+00 ... 3.542e+03 3.542e+03 3.543e+03]\n",
      " ...\n",
      " [1.000e+00 1.000e+00 2.000e+00 ... 3.499e+03 3.500e+03 3.500e+03]\n",
      " [1.000e+00 2.000e+00 3.000e+00 ... 6.486e+03 6.487e+03 6.488e+03]\n",
      " [1.000e+00 2.000e+00 2.000e+00 ... 6.456e+03 6.457e+03 6.458e+03]]\n",
      "./results_neuronal_grid/case1_MLP_MagicTelescope_9999_25_neuronal3.pkl.gz\n",
      "[[1.000e+00 2.000e+00 2.000e+00 ... 3.538e+03 3.538e+03 3.538e+03]\n",
      " [1.000e+00 1.000e+00 1.000e+00 ... 3.562e+03 3.562e+03 3.562e+03]\n",
      " [1.000e+00 2.000e+00 3.000e+00 ... 3.493e+03 3.493e+03 3.493e+03]\n",
      " ...\n",
      " [1.000e+00 2.000e+00 3.000e+00 ... 6.527e+03 6.528e+03 6.528e+03]\n",
      " [1.000e+00 1.000e+00 1.000e+00 ... 6.501e+03 6.501e+03 6.502e+03]\n",
      " [1.000e+00 2.000e+00 2.000e+00 ... 3.561e+03 3.561e+03 3.562e+03]]\n",
      "./results_neuronal_grid/case1_MLP_MagicTelescope_9999_25_EEneuralcbpside_v6.pkl.gz\n",
      "[[1.000e+00 1.000e+00 2.000e+00 ... 2.714e+03 2.714e+03 2.714e+03]\n",
      " [1.000e+00 1.000e+00 2.000e+00 ... 2.899e+03 2.899e+03 2.899e+03]\n",
      " [1.000e+00 1.000e+00 2.000e+00 ... 2.717e+03 2.717e+03 2.717e+03]\n",
      " ...\n",
      " [1.000e+00 1.000e+00 2.000e+00 ... 2.726e+03 2.727e+03 2.728e+03]\n",
      " [1.000e+00 2.000e+00 3.000e+00 ... 2.708e+03 2.708e+03 2.708e+03]\n",
      " [1.000e+00 2.000e+00 3.000e+00 ... 2.715e+03 2.715e+03 2.716e+03]]\n",
      "./results_neuronal_grid/case1_MLP_MagicTelescope_9999_25_margin.pkl.gz\n",
      "[[1.000e+00 1.000e+00 1.000e+00 ... 3.668e+03 3.669e+03 3.669e+03]\n",
      " [1.000e+00 2.000e+00 3.000e+00 ... 3.390e+03 3.391e+03 3.392e+03]\n",
      " [1.000e+00 1.000e+00 2.000e+00 ... 3.507e+03 3.508e+03 3.508e+03]\n",
      " ...\n",
      " [1.000e+00 2.000e+00 2.000e+00 ... 3.534e+03 3.534e+03 3.534e+03]\n",
      " [1.000e+00 2.000e+00 2.000e+00 ... 3.470e+03 3.471e+03 3.472e+03]\n",
      " [1.000e+00 2.000e+00 2.000e+00 ... 2.987e+03 2.987e+03 2.987e+03]]\n",
      "./results_neuronal_grid/case1_MLP_MagicTelescope_9999_25_cesa.pkl.gz\n",
      "[[1.000e+00 2.000e+00 2.000e+00 ... 3.265e+03 3.266e+03 3.266e+03]\n",
      " [1.000e+00 1.000e+00 1.000e+00 ... 3.130e+03 3.130e+03 3.130e+03]\n",
      " [1.000e+00 1.000e+00 1.000e+00 ... 2.964e+03 2.965e+03 2.966e+03]\n",
      " ...\n",
      " [1.000e+00 2.000e+00 2.000e+00 ... 3.159e+03 3.159e+03 3.159e+03]\n",
      " [1.000e+00 2.000e+00 2.000e+00 ... 3.171e+03 3.171e+03 3.171e+03]\n",
      " [1.000e+00 1.000e+00 1.000e+00 ... 3.182e+03 3.182e+03 3.182e+03]]\n"
     ]
    }
   ],
   "source": [
    "def format_perf(perf, model, dataset, l_label):\n",
    "\n",
    "    processed_data = []\n",
    "    i = 0\n",
    "    for item in perf:\n",
    "        processed_item = {}\n",
    "        # key_mapping = dict( zip( item.keys(), [10, 50, 100, 250, 500, 750, 1000, 2500, 5000, 7500, 9000]))\n",
    "        new_dict = item #{key_mapping[old_key]: value for old_key, value in item.items()}\n",
    "        for key in new_dict:\n",
    "            # processed_item[f'accuracy_{key}'] = new_dict[key]['accuracy']\n",
    "            processed_item[f'f1_{key}'] = new_dict[key]['f1']\n",
    "        processed_item['Seed'] = i\n",
    "        processed_item['Model'] = model\n",
    "        processed_item['Dataset'] = dataset\n",
    "        processed_item['Approach'] = l_label\n",
    "        i = i+1\n",
    "        processed_data.append(processed_item)\n",
    "    return processed_data\n",
    "\n",
    "\n",
    "def convert_action_history(action_history, n_folds):\n",
    "    counters = []\n",
    "    for history in action_history:\n",
    "        counter = np.cumsum([ 1 if action == 0 else 0 for action in history ])\n",
    "        counters.append(counter)\n",
    "\n",
    "    std = 2.575 * np.std(counters, axis = 0) / n_folds \n",
    "    # std = np.std(counters, axis = 0) / n_folds \n",
    "\n",
    "    return np.mean(counters, axis = 0), std \n",
    "\n",
    "n_folds = 26\n",
    "horizon = 9999\n",
    "model = 'MLP'\n",
    "\n",
    "material = {\n",
    "    #'EEneuralcbpside_v5': {'color': [255, 255, 0], 'label': 'EEneuralcbpside_v5'},  # Red\n",
    "    'ineural6': {'color': [51, 255, 255], 'label':'IneurAL (official)'},                    # Yellow\n",
    "    'ineural3': {'color': [0, 0, 255], 'label':'IneurAL (less exploration)'},                    # Cyan\n",
    "    'neuronal6': {'color': [255, 0, 255], 'label':'Neuronal (official)'},                  # Magenta\n",
    "    'neuronal3': {'color': [160, 160, 160], 'label':'Neuronal (less exploration)'},                   # Orange\n",
    "    'EEneuralcbpside_v6': {'color': [255, 0, 0], 'label': 'Neural-CBP'},  # Red\n",
    "    'margin': {'color': [160, 160, 160], 'label':'Margin'},\n",
    "    'cesa': {'color': [0, 0, 255], 'label':'Cesa'},\n",
    "}\n",
    "\n",
    "fig = go.Figure( )\n",
    "\n",
    "data_models = {}\n",
    "perfs_final = {}\n",
    "explo_final = {}\n",
    "explo2_final = {}\n",
    "\n",
    "for model in ['MLP']:  # 'LeNet'\n",
    "\n",
    "    if model == 'MLP':\n",
    "        n_folds = 25\n",
    "        datasets = ['MNISTbinary', 'adult', 'MagicTelescope' ] # 'covertype', 'shuttle',\n",
    "    # else:\n",
    "    #     datasets = ['MNIST', 'FASHION', 'CIFAR10',]\n",
    "    #     n_folds = 25\n",
    "\n",
    "    data_regrets = {} \n",
    "    data_perfs = {} \n",
    "    data_explo = {}\n",
    "    data_explo2 = {}\n",
    "    for data in datasets: \n",
    "\n",
    "        # if data in ['MNIST', 'FASHION', 'CIFAR10']:\n",
    "        #     case = 'case2' \n",
    "        # elif data in ['covertype', 'shuttle']:\n",
    "        #     case = 'game_case_seven'\n",
    "        # else:\n",
    "        case = 'case1'\n",
    "        \n",
    "        final_regrets = {}\n",
    "        final_perfs = {}\n",
    "        explo_perfs = {}\n",
    "        explo2_perfs = {}\n",
    "        for agent_name in material.keys():\n",
    "\n",
    "            color, l_label = material[agent_name]['color'], material[agent_name]['label']\n",
    "\n",
    "            r,g,b = color\n",
    "\n",
    "            # try:\n",
    "            direct = './results_neuronal_grid/'\n",
    "            path = os.path.join(direct, '{}_{}_{}_{}_{}_{}.pkl.gz'.format(case, model, data, horizon,n_folds,agent_name) )\n",
    "            print(path)\n",
    "            regret, action_history,outcome_history, perf = loadall_results2(path, n_folds)\n",
    "            regret = np.array(regret)\n",
    "            print(regret)\n",
    "            regret = regret#[1:]\n",
    "\n",
    "            final_regrets[l_label] = regret[:,-1] \n",
    "            final_perfs[l_label] = pd.DataFrame( format_perf(perf, model, data, l_label) )\n",
    "\n",
    "            m, s = convert_action_history(action_history, n_folds)\n",
    "            explo_perfs[l_label] = m\n",
    "            explo2_perfs[l_label] = s\n",
    "\n",
    "\n",
    "        if data == 'MNISTbinary':\n",
    "            data = 'MNISTbinary'\n",
    "        if data == 'FASHION':\n",
    "            data = 'FASHION'\n",
    "            \n",
    "        data_regrets[data] = final_regrets\n",
    "\n",
    "        dataframes_list = list(final_perfs.values())\n",
    "        concatenated_df = pd.concat(dataframes_list, axis=0)\n",
    "        data_perfs[data] = concatenated_df\n",
    "\n",
    "        data_explo[data] = explo_perfs\n",
    "        data_explo2[data] = explo2_perfs\n",
    "        \n",
    "    data_models[model] = data_regrets\n",
    "    dataframes_list = list(data_perfs.values())\n",
    "    concatenated_df = pd.concat(dataframes_list, axis=0)\n",
    "\n",
    "    explo_final[model] = data_explo\n",
    "    explo2_final[model] = data_explo2\n"
   ]
  },
  {
   "cell_type": "code",
   "execution_count": 61,
   "metadata": {},
   "outputs": [],
   "source": [
    "import pandas as pd\n",
    "# pd.DataFrame(data_regrets)\n",
    "# data_regrets\n",
    "\n",
    "samples = []\n",
    "# Iterate over the dictionary to extract data\n",
    "for model, dataset in data_models.items():\n",
    "    for data, approach in dataset.items():\n",
    "        for appr, values in approach.items():\n",
    "            i = 0\n",
    "            for val in values:\n",
    "                # print(i, appr,val)\n",
    "                samples.append([i, model, data, appr, val])\n",
    "                i = i+1\n",
    "\n",
    "# Create a DataFrame\n",
    "df = pd.DataFrame(samples, columns=['Seed','Model', 'Dataset', 'Approach', 'Value'])\n",
    "df = pd.merge(df, concatenated_df, on=['Model', 'Dataset', 'Approach', 'Seed'])\n"
   ]
  },
  {
   "cell_type": "code",
   "execution_count": 62,
   "metadata": {},
   "outputs": [],
   "source": [
    "exclude_columns = ['Seed', 'Model', 'Dataset', 'Approach']\n",
    "\n",
    "agg_columns = [col for col in df.columns if col not in exclude_columns]\n",
    "\n",
    "df_mean = df.groupby(['Model', 'Dataset', 'Approach'])[agg_columns].agg(['mean',]) # 'std'\n",
    "df_mean.columns = df_mean.columns.get_level_values(0)\n",
    "df_mean = df_mean.reset_index()\n",
    "\n",
    "df_std = df.groupby(['Model', 'Dataset', 'Approach'])[agg_columns].agg(['std',]) # 'std'\n",
    "df_std.columns = df_std.columns.get_level_values(0)\n",
    "df_std = df_std.reset_index()\n"
   ]
  },
  {
   "cell_type": "markdown",
   "metadata": {},
   "source": []
  },
  {
   "cell_type": "code",
   "execution_count": 58,
   "metadata": {},
   "outputs": [
    {
     "data": {
      "application/vnd.plotly.v1+json": {
       "config": {
        "plotlyServerURL": "https://plot.ly"
       },
       "data": [
        {
         "error_y": {
          "array": [
           0.01655972375446739,
           0.015336021164902064,
           0.01659377099780187,
           0.007781139915141268,
           0.007660298911962359,
           0.00808293240951919,
           0.008423258022186467,
           0.008845744100202921,
           0.005065223051848981,
           0.004774026106051729,
           0.002958158280296524,
           0.0013032693833883882,
           0.0010975647752377304,
           0.0011978766587587041
          ],
          "thickness": 1,
          "type": "data",
          "visible": true,
          "width": 3
         },
         "line": {
          "color": "rgba(255,161,90,1)",
          "dash": "solid",
          "width": 1
         },
         "marker": {
          "size": 2.5
         },
         "name": "IneurAL (official)",
         "type": "scatter",
         "x": [
          10,
          25,
          50,
          100,
          150,
          250,
          300,
          400,
          500,
          750,
          1000,
          2500,
          5000,
          7500,
          9000
         ],
         "xaxis": "x",
         "y": [
          0.5100409447096877,
          0.535919428033902,
          0.5649143236782438,
          0.674504922219003,
          0.6838772160836385,
          0.705691254285106,
          0.7128270308782388,
          0.7241545501207471,
          0.7492698664299167,
          0.7617092810072422,
          0.7748038198619384,
          0.7989024450436443,
          0.8080944831422967,
          0.8195216773321917
         ],
         "yaxis": "y"
        },
        {
         "error_y": {
          "array": [
           0.013075533765419185,
           0.012427442483042117,
           0.010336274855376013,
           0.010908150849832583,
           0.011754557848323894,
           0.011378329532191535,
           0.011583821553700328,
           0.005782814835053361,
           0.0048946200282840215,
           0.00441267322012527,
           0.0026345426933181123,
           0.0011066113787146935,
           null,
           null
          ],
          "thickness": 1,
          "type": "data",
          "visible": true,
          "width": 3
         },
         "line": {
          "color": "rgba(25,211,243,1)",
          "dash": "solid",
          "width": 1
         },
         "marker": {
          "size": 2.5
         },
         "name": "IneurAL (less exploration)",
         "type": "scatter",
         "x": [
          10,
          25,
          50,
          100,
          150,
          250,
          300,
          400,
          500,
          750,
          1000,
          2500,
          5000,
          7500,
          9000
         ],
         "xaxis": "x",
         "y": [
          0.5709679810604421,
          0.5856083874944159,
          0.6233558075964271,
          0.6423206251153663,
          0.660219975587353,
          0.6932923391334498,
          0.6996657685891324,
          0.7212353936843909,
          0.7349763225080874,
          0.7579640646384497,
          0.7768766926548097,
          0.8057100130524699,
          null,
          null
         ],
         "yaxis": "y"
        },
        {
         "error_y": {
          "array": [
           null,
           null,
           null,
           null,
           null,
           null,
           null,
           null,
           null,
           null,
           null,
           null,
           null,
           null
          ],
          "thickness": 1,
          "type": "data",
          "visible": true,
          "width": 3
         },
         "line": {
          "color": "rgba(255,102,146,1)",
          "dash": "solid",
          "width": 1
         },
         "marker": {
          "size": 2.5
         },
         "name": "Neuronal (official)",
         "type": "scatter",
         "x": [
          10,
          25,
          50,
          100,
          150,
          250,
          300,
          400,
          500,
          750,
          1000,
          2500,
          5000,
          7500,
          9000
         ],
         "xaxis": "x",
         "y": [
          null,
          null,
          null,
          null,
          null,
          null,
          null,
          null,
          null,
          null,
          null,
          null,
          null,
          null
         ],
         "yaxis": "y"
        },
        {
         "error_y": {
          "array": [
           null,
           null,
           null,
           null,
           null,
           null,
           null,
           null,
           null,
           null,
           null,
           null,
           null,
           null
          ],
          "thickness": 1,
          "type": "data",
          "visible": true,
          "width": 3
         },
         "line": {
          "color": "rgba(182,232,128,1)",
          "dash": "solid",
          "width": 1
         },
         "marker": {
          "size": 2.5
         },
         "name": "Neuronal (less exploration)",
         "type": "scatter",
         "x": [
          10,
          25,
          50,
          100,
          150,
          250,
          300,
          400,
          500,
          750,
          1000,
          2500,
          5000,
          7500,
          9000
         ],
         "xaxis": "x",
         "y": [
          null,
          null,
          null,
          null,
          null,
          null,
          null,
          null,
          null,
          null,
          null,
          null,
          null,
          null
         ],
         "yaxis": "y"
        },
        {
         "error_y": {
          "array": [
           0.01180024700956586,
           0.006009397296012639,
           0.006141553855586823,
           0.0017541535422542713,
           null,
           null,
           null,
           null,
           null,
           null,
           null,
           null,
           null,
           null
          ],
          "thickness": 1,
          "type": "data",
          "visible": true,
          "width": 3
         },
         "line": {
          "color": "rgba(255,151,255,1)",
          "dash": "solid",
          "width": 1
         },
         "marker": {
          "size": 2.5
         },
         "name": "Margin",
         "type": "scatter",
         "x": [
          10,
          25,
          50,
          100,
          150,
          250,
          300,
          400,
          500,
          750,
          1000,
          2500,
          5000,
          7500,
          9000
         ],
         "xaxis": "x",
         "y": [
          0.5861809601162494,
          0.6331469461398207,
          0.6433163258717663,
          0.6626361101294809,
          null,
          null,
          null,
          null,
          null,
          null,
          null,
          null,
          null,
          null
         ],
         "yaxis": "y"
        },
        {
         "error_y": {
          "array": [
           0.011401817639554208,
           0.007491908743282111,
           0.006224836538953692,
           0.005049390261741822,
           0.004241676580294954,
           0.004273122435227859,
           0.004259031567057867,
           0.0017967991020636333,
           null,
           null,
           null,
           null,
           null,
           null
          ],
          "thickness": 1,
          "type": "data",
          "visible": true,
          "width": 3
         },
         "line": {
          "color": "rgba(254,203,82,1)",
          "dash": "solid",
          "width": 1
         },
         "marker": {
          "size": 2.5
         },
         "name": "Cesa",
         "type": "scatter",
         "x": [
          10,
          25,
          50,
          100,
          150,
          250,
          300,
          400,
          500,
          750,
          1000,
          2500,
          5000,
          7500,
          9000
         ],
         "xaxis": "x",
         "y": [
          0.5503335361745197,
          0.5891418798687236,
          0.6149561327088073,
          0.67038368318142,
          0.6869963788829934,
          0.7163313040151227,
          0.7184825930396807,
          0.7387894204098719,
          0.7222076439794537,
          null,
          null,
          null,
          null,
          null
         ],
         "yaxis": "y"
        },
        {
         "error_y": {
          "array": [
           0.005786389014969916,
           0.0037639540369179443,
           0.003718190821798869,
           0.0032084764936041728,
           0.0027722288577637353,
           0.0027350998087936856,
           0.0022905326669744315,
           0.0016646670574459379,
           0.0015522338020820198,
           0.000449124635212503,
           null,
           null,
           null,
           null
          ],
          "thickness": 1,
          "type": "data",
          "visible": true,
          "width": 3
         },
         "line": {
          "color": "rgba(171,99,250,1)",
          "dash": "solid",
          "width": 1
         },
         "marker": {
          "size": 2.5
         },
         "name": "Neural-CBP",
         "type": "scatter",
         "x": [
          10,
          25,
          50,
          100,
          150,
          250,
          300,
          400,
          500,
          750,
          1000,
          2500,
          5000,
          7500,
          9000
         ],
         "xaxis": "x",
         "y": [
          0.6008717565963353,
          0.6445126085191532,
          0.6755583492242256,
          0.6974951799619328,
          0.7117118795500095,
          0.7409749725595468,
          0.7509080691459109,
          0.7715516472630727,
          0.7818471489071431,
          0.8019524571952884,
          null,
          null,
          null,
          null
         ],
         "yaxis": "y"
        }
       ],
       "layout": {
        "height": 180,
        "margin": {
         "b": 0,
         "l": 0,
         "r": 0,
         "t": 0
        },
        "paper_bgcolor": "white",
        "plot_bgcolor": "white",
        "showlegend": false,
        "template": {
         "data": {
          "bar": [
           {
            "error_x": {
             "color": "#2a3f5f"
            },
            "error_y": {
             "color": "#2a3f5f"
            },
            "marker": {
             "line": {
              "color": "#E5ECF6",
              "width": 0.5
             },
             "pattern": {
              "fillmode": "overlay",
              "size": 10,
              "solidity": 0.2
             }
            },
            "type": "bar"
           }
          ],
          "barpolar": [
           {
            "marker": {
             "line": {
              "color": "#E5ECF6",
              "width": 0.5
             },
             "pattern": {
              "fillmode": "overlay",
              "size": 10,
              "solidity": 0.2
             }
            },
            "type": "barpolar"
           }
          ],
          "carpet": [
           {
            "aaxis": {
             "endlinecolor": "#2a3f5f",
             "gridcolor": "white",
             "linecolor": "white",
             "minorgridcolor": "white",
             "startlinecolor": "#2a3f5f"
            },
            "baxis": {
             "endlinecolor": "#2a3f5f",
             "gridcolor": "white",
             "linecolor": "white",
             "minorgridcolor": "white",
             "startlinecolor": "#2a3f5f"
            },
            "type": "carpet"
           }
          ],
          "choropleth": [
           {
            "colorbar": {
             "outlinewidth": 0,
             "ticks": ""
            },
            "type": "choropleth"
           }
          ],
          "contour": [
           {
            "colorbar": {
             "outlinewidth": 0,
             "ticks": ""
            },
            "colorscale": [
             [
              0,
              "#0d0887"
             ],
             [
              0.1111111111111111,
              "#46039f"
             ],
             [
              0.2222222222222222,
              "#7201a8"
             ],
             [
              0.3333333333333333,
              "#9c179e"
             ],
             [
              0.4444444444444444,
              "#bd3786"
             ],
             [
              0.5555555555555556,
              "#d8576b"
             ],
             [
              0.6666666666666666,
              "#ed7953"
             ],
             [
              0.7777777777777778,
              "#fb9f3a"
             ],
             [
              0.8888888888888888,
              "#fdca26"
             ],
             [
              1,
              "#f0f921"
             ]
            ],
            "type": "contour"
           }
          ],
          "contourcarpet": [
           {
            "colorbar": {
             "outlinewidth": 0,
             "ticks": ""
            },
            "type": "contourcarpet"
           }
          ],
          "heatmap": [
           {
            "colorbar": {
             "outlinewidth": 0,
             "ticks": ""
            },
            "colorscale": [
             [
              0,
              "#0d0887"
             ],
             [
              0.1111111111111111,
              "#46039f"
             ],
             [
              0.2222222222222222,
              "#7201a8"
             ],
             [
              0.3333333333333333,
              "#9c179e"
             ],
             [
              0.4444444444444444,
              "#bd3786"
             ],
             [
              0.5555555555555556,
              "#d8576b"
             ],
             [
              0.6666666666666666,
              "#ed7953"
             ],
             [
              0.7777777777777778,
              "#fb9f3a"
             ],
             [
              0.8888888888888888,
              "#fdca26"
             ],
             [
              1,
              "#f0f921"
             ]
            ],
            "type": "heatmap"
           }
          ],
          "heatmapgl": [
           {
            "colorbar": {
             "outlinewidth": 0,
             "ticks": ""
            },
            "colorscale": [
             [
              0,
              "#0d0887"
             ],
             [
              0.1111111111111111,
              "#46039f"
             ],
             [
              0.2222222222222222,
              "#7201a8"
             ],
             [
              0.3333333333333333,
              "#9c179e"
             ],
             [
              0.4444444444444444,
              "#bd3786"
             ],
             [
              0.5555555555555556,
              "#d8576b"
             ],
             [
              0.6666666666666666,
              "#ed7953"
             ],
             [
              0.7777777777777778,
              "#fb9f3a"
             ],
             [
              0.8888888888888888,
              "#fdca26"
             ],
             [
              1,
              "#f0f921"
             ]
            ],
            "type": "heatmapgl"
           }
          ],
          "histogram": [
           {
            "marker": {
             "pattern": {
              "fillmode": "overlay",
              "size": 10,
              "solidity": 0.2
             }
            },
            "type": "histogram"
           }
          ],
          "histogram2d": [
           {
            "colorbar": {
             "outlinewidth": 0,
             "ticks": ""
            },
            "colorscale": [
             [
              0,
              "#0d0887"
             ],
             [
              0.1111111111111111,
              "#46039f"
             ],
             [
              0.2222222222222222,
              "#7201a8"
             ],
             [
              0.3333333333333333,
              "#9c179e"
             ],
             [
              0.4444444444444444,
              "#bd3786"
             ],
             [
              0.5555555555555556,
              "#d8576b"
             ],
             [
              0.6666666666666666,
              "#ed7953"
             ],
             [
              0.7777777777777778,
              "#fb9f3a"
             ],
             [
              0.8888888888888888,
              "#fdca26"
             ],
             [
              1,
              "#f0f921"
             ]
            ],
            "type": "histogram2d"
           }
          ],
          "histogram2dcontour": [
           {
            "colorbar": {
             "outlinewidth": 0,
             "ticks": ""
            },
            "colorscale": [
             [
              0,
              "#0d0887"
             ],
             [
              0.1111111111111111,
              "#46039f"
             ],
             [
              0.2222222222222222,
              "#7201a8"
             ],
             [
              0.3333333333333333,
              "#9c179e"
             ],
             [
              0.4444444444444444,
              "#bd3786"
             ],
             [
              0.5555555555555556,
              "#d8576b"
             ],
             [
              0.6666666666666666,
              "#ed7953"
             ],
             [
              0.7777777777777778,
              "#fb9f3a"
             ],
             [
              0.8888888888888888,
              "#fdca26"
             ],
             [
              1,
              "#f0f921"
             ]
            ],
            "type": "histogram2dcontour"
           }
          ],
          "mesh3d": [
           {
            "colorbar": {
             "outlinewidth": 0,
             "ticks": ""
            },
            "type": "mesh3d"
           }
          ],
          "parcoords": [
           {
            "line": {
             "colorbar": {
              "outlinewidth": 0,
              "ticks": ""
             }
            },
            "type": "parcoords"
           }
          ],
          "pie": [
           {
            "automargin": true,
            "type": "pie"
           }
          ],
          "scatter": [
           {
            "fillpattern": {
             "fillmode": "overlay",
             "size": 10,
             "solidity": 0.2
            },
            "type": "scatter"
           }
          ],
          "scatter3d": [
           {
            "line": {
             "colorbar": {
              "outlinewidth": 0,
              "ticks": ""
             }
            },
            "marker": {
             "colorbar": {
              "outlinewidth": 0,
              "ticks": ""
             }
            },
            "type": "scatter3d"
           }
          ],
          "scattercarpet": [
           {
            "marker": {
             "colorbar": {
              "outlinewidth": 0,
              "ticks": ""
             }
            },
            "type": "scattercarpet"
           }
          ],
          "scattergeo": [
           {
            "marker": {
             "colorbar": {
              "outlinewidth": 0,
              "ticks": ""
             }
            },
            "type": "scattergeo"
           }
          ],
          "scattergl": [
           {
            "marker": {
             "colorbar": {
              "outlinewidth": 0,
              "ticks": ""
             }
            },
            "type": "scattergl"
           }
          ],
          "scattermapbox": [
           {
            "marker": {
             "colorbar": {
              "outlinewidth": 0,
              "ticks": ""
             }
            },
            "type": "scattermapbox"
           }
          ],
          "scatterpolar": [
           {
            "marker": {
             "colorbar": {
              "outlinewidth": 0,
              "ticks": ""
             }
            },
            "type": "scatterpolar"
           }
          ],
          "scatterpolargl": [
           {
            "marker": {
             "colorbar": {
              "outlinewidth": 0,
              "ticks": ""
             }
            },
            "type": "scatterpolargl"
           }
          ],
          "scatterternary": [
           {
            "marker": {
             "colorbar": {
              "outlinewidth": 0,
              "ticks": ""
             }
            },
            "type": "scatterternary"
           }
          ],
          "surface": [
           {
            "colorbar": {
             "outlinewidth": 0,
             "ticks": ""
            },
            "colorscale": [
             [
              0,
              "#0d0887"
             ],
             [
              0.1111111111111111,
              "#46039f"
             ],
             [
              0.2222222222222222,
              "#7201a8"
             ],
             [
              0.3333333333333333,
              "#9c179e"
             ],
             [
              0.4444444444444444,
              "#bd3786"
             ],
             [
              0.5555555555555556,
              "#d8576b"
             ],
             [
              0.6666666666666666,
              "#ed7953"
             ],
             [
              0.7777777777777778,
              "#fb9f3a"
             ],
             [
              0.8888888888888888,
              "#fdca26"
             ],
             [
              1,
              "#f0f921"
             ]
            ],
            "type": "surface"
           }
          ],
          "table": [
           {
            "cells": {
             "fill": {
              "color": "#EBF0F8"
             },
             "line": {
              "color": "white"
             }
            },
            "header": {
             "fill": {
              "color": "#C8D4E3"
             },
             "line": {
              "color": "white"
             }
            },
            "type": "table"
           }
          ]
         },
         "layout": {
          "annotationdefaults": {
           "arrowcolor": "#2a3f5f",
           "arrowhead": 0,
           "arrowwidth": 1
          },
          "autotypenumbers": "strict",
          "coloraxis": {
           "colorbar": {
            "outlinewidth": 0,
            "ticks": ""
           }
          },
          "colorscale": {
           "diverging": [
            [
             0,
             "#8e0152"
            ],
            [
             0.1,
             "#c51b7d"
            ],
            [
             0.2,
             "#de77ae"
            ],
            [
             0.3,
             "#f1b6da"
            ],
            [
             0.4,
             "#fde0ef"
            ],
            [
             0.5,
             "#f7f7f7"
            ],
            [
             0.6,
             "#e6f5d0"
            ],
            [
             0.7,
             "#b8e186"
            ],
            [
             0.8,
             "#7fbc41"
            ],
            [
             0.9,
             "#4d9221"
            ],
            [
             1,
             "#276419"
            ]
           ],
           "sequential": [
            [
             0,
             "#0d0887"
            ],
            [
             0.1111111111111111,
             "#46039f"
            ],
            [
             0.2222222222222222,
             "#7201a8"
            ],
            [
             0.3333333333333333,
             "#9c179e"
            ],
            [
             0.4444444444444444,
             "#bd3786"
            ],
            [
             0.5555555555555556,
             "#d8576b"
            ],
            [
             0.6666666666666666,
             "#ed7953"
            ],
            [
             0.7777777777777778,
             "#fb9f3a"
            ],
            [
             0.8888888888888888,
             "#fdca26"
            ],
            [
             1,
             "#f0f921"
            ]
           ],
           "sequentialminus": [
            [
             0,
             "#0d0887"
            ],
            [
             0.1111111111111111,
             "#46039f"
            ],
            [
             0.2222222222222222,
             "#7201a8"
            ],
            [
             0.3333333333333333,
             "#9c179e"
            ],
            [
             0.4444444444444444,
             "#bd3786"
            ],
            [
             0.5555555555555556,
             "#d8576b"
            ],
            [
             0.6666666666666666,
             "#ed7953"
            ],
            [
             0.7777777777777778,
             "#fb9f3a"
            ],
            [
             0.8888888888888888,
             "#fdca26"
            ],
            [
             1,
             "#f0f921"
            ]
           ]
          },
          "colorway": [
           "#636efa",
           "#EF553B",
           "#00cc96",
           "#ab63fa",
           "#FFA15A",
           "#19d3f3",
           "#FF6692",
           "#B6E880",
           "#FF97FF",
           "#FECB52"
          ],
          "font": {
           "color": "#2a3f5f"
          },
          "geo": {
           "bgcolor": "white",
           "lakecolor": "white",
           "landcolor": "#E5ECF6",
           "showlakes": true,
           "showland": true,
           "subunitcolor": "white"
          },
          "hoverlabel": {
           "align": "left"
          },
          "hovermode": "closest",
          "mapbox": {
           "style": "light"
          },
          "paper_bgcolor": "white",
          "plot_bgcolor": "#E5ECF6",
          "polar": {
           "angularaxis": {
            "gridcolor": "white",
            "linecolor": "white",
            "ticks": ""
           },
           "bgcolor": "#E5ECF6",
           "radialaxis": {
            "gridcolor": "white",
            "linecolor": "white",
            "ticks": ""
           }
          },
          "scene": {
           "xaxis": {
            "backgroundcolor": "#E5ECF6",
            "gridcolor": "white",
            "gridwidth": 2,
            "linecolor": "white",
            "showbackground": true,
            "ticks": "",
            "zerolinecolor": "white"
           },
           "yaxis": {
            "backgroundcolor": "#E5ECF6",
            "gridcolor": "white",
            "gridwidth": 2,
            "linecolor": "white",
            "showbackground": true,
            "ticks": "",
            "zerolinecolor": "white"
           },
           "zaxis": {
            "backgroundcolor": "#E5ECF6",
            "gridcolor": "white",
            "gridwidth": 2,
            "linecolor": "white",
            "showbackground": true,
            "ticks": "",
            "zerolinecolor": "white"
           }
          },
          "shapedefaults": {
           "line": {
            "color": "#2a3f5f"
           }
          },
          "ternary": {
           "aaxis": {
            "gridcolor": "white",
            "linecolor": "white",
            "ticks": ""
           },
           "baxis": {
            "gridcolor": "white",
            "linecolor": "white",
            "ticks": ""
           },
           "bgcolor": "#E5ECF6",
           "caxis": {
            "gridcolor": "white",
            "linecolor": "white",
            "ticks": ""
           }
          },
          "title": {
           "x": 0.05
          },
          "xaxis": {
           "automargin": true,
           "gridcolor": "white",
           "linecolor": "white",
           "ticks": "",
           "title": {
            "standoff": 15
           },
           "zerolinecolor": "white",
           "zerolinewidth": 2
          },
          "yaxis": {
           "automargin": true,
           "gridcolor": "white",
           "linecolor": "white",
           "ticks": "",
           "title": {
            "standoff": 15
           },
           "zerolinecolor": "white",
           "zerolinewidth": 2
          }
         }
        },
        "width": 220,
        "xaxis": {
         "anchor": "y",
         "domain": [
          0,
          1
         ],
         "gridcolor": "lightgrey",
         "tickfont": {
          "size": 10.5
         },
         "tickmode": "array",
         "title": {
          "font": {
           "size": 10.5
          },
          "standoff": 5,
          "text": "Expert query volume"
         },
         "type": "log"
        },
        "yaxis": {
         "anchor": "x",
         "domain": [
          0,
          1
         ],
         "gridcolor": "lightgrey",
         "tickfont": {
          "size": 10.5
         },
         "tickvals": [
          0,
          0.1,
          0.2,
          0.3,
          0.4,
          0.5,
          0.6,
          0.7,
          0.8,
          0.9,
          1
         ],
         "title": {
          "font": {
           "size": 10.5
          },
          "standoff": 5,
          "text": "f1-score ± 99% CI"
         }
        }
       }
      }
     },
     "metadata": {},
     "output_type": "display_data"
    }
   ],
   "source": [
    "import plotly.graph_objects as go\n",
    "from plotly.subplots import make_subplots\n",
    "import numpy as np\n",
    "\n",
    "import plotly.graph_objects as go\n",
    "import plotly.express as px\n",
    "\n",
    "dataset = 'MagicTelescope'\n",
    "\n",
    "approaches = {\n",
    "    #'EEneuralcbpside_v5': {'color': [255, 255, 0], 'label': 'EEneuralcbpside_v5'},  # Red\n",
    "    'IneurAL (official)': {'color': [255, 161, 90], 'label':'IneurAL6'},                    # Yellow\n",
    "    'IneurAL (less exploration)': {'color': [25, 211, 243], 'label':'IneurAL3'},                    # Cyan\n",
    "    'Neuronal (official)': {'color': [255, 102, 146], 'label':'neuronal6'},                  # Magenta\n",
    "    'Neuronal (less exploration)': {'color': [182, 232, 128], 'label':'neuronal3'},                   # Orange\n",
    "    'Margin': {'color': [255, 151, 255], 'label':'margin'},\n",
    "    'Cesa': {'color': [254, 203, 82], 'label':'cesa'},\n",
    "    'Neural-CBP': {'color': [171, 99, 250], 'label': 'EEneuralcbpside_v6'},  # Red\n",
    "}\n",
    "\n",
    "thresholds = ['f1_10', 'f1_25', 'f1_50', 'f1_100', 'f1_150',\n",
    "              'f1_250', 'f1_300', 'f1_400', 'f1_500', 'f1_750', \n",
    "              'f1_1000', 'f1_2500', 'f1_5000', 'f1_7500',]\n",
    "\n",
    "# Create a subplot with 1 row and 2 columns\n",
    "fig = make_subplots(rows=1, cols=1,) #subplot_titles=(\"f1-score\", \"# of labelled observations\")\n",
    "\n",
    "# Add your traces for the first figure to the first subplot\n",
    "for approach in approaches.keys():\n",
    "    # ... [your existing code for calculating mean_values, std_values, and color] ...\n",
    "    mean_values = [] \n",
    "    std_values = []\n",
    "    r,g,b = approaches[approach]['color']\n",
    "    \n",
    "    for threshold in thresholds:\n",
    "        mean_value = df_mean[(df_mean['Dataset'] == dataset) & (df_mean['Approach'] == approach)][threshold].values[0]\n",
    "        mean_values.append(mean_value)\n",
    "\n",
    "        std_value = df_std[(df_std['Dataset'] == dataset) & (df_std['Approach'] == approach)][threshold].values[0]\n",
    "        std_values.append( 2.575 * std_value / n_folds  )\n",
    "        # std_values.append(  std_value)\n",
    "\n",
    "    fig.add_trace(go.Scatter(\n",
    "        x=[10, 25, 50, 100, 150, 250, 300, 400, 500, 750, 1000, 2500, 5000, 7500, 9000], \n",
    "        y=mean_values,\n",
    "        error_y=dict(type='data', array=std_values, visible=True, thickness=1, width=3),\n",
    "        line=dict(dash='solid', width=1, color='rgba({},{},{},1)'.format(r,g,b)),\n",
    "        marker=dict(size=2.5),\n",
    "        name=approach), \n",
    "        row=1, col=1)\n",
    "\n",
    "# Add your traces for the second figure to the second subplot\n",
    "# for approach in approaches.keys():\n",
    "#     # ... [your existing code for calculating explo_value, upper, and color] ...\n",
    "#     r,g,b = approaches[approach]['color']\n",
    "#     explo_value = explo_final['MLP'][dataset][approach]\n",
    "#     upper = explo_value + explo2_final['MLP'][dataset][approach]\n",
    "#     xcoords = np.arange(0,horizon,1).tolist()\n",
    "\n",
    "#     fig.add_trace(go.Scatter(\n",
    "#         x=xcoords+xcoords[::-1], \n",
    "#         y=upper.tolist()+explo_value.tolist()[::-1],  \n",
    "#         fill='toself',\n",
    "#         fillcolor='rgba({},{},{},0.2)'.format(r,g,b),\n",
    "#         line=dict(color='rgba({},{},{},1)'.format(r,g,b), width=0),\n",
    "#         hoverinfo=\"skip\"),\n",
    "#         row=1, col=2)\n",
    "    \n",
    "#     fig.add_trace(go.Scatter(\n",
    "#         x=xcoords, \n",
    "#         y=explo_value,\n",
    "#         line=dict(dash='solid', width=2, color='rgba({},{},{},1)'.format(r,g,b)),\n",
    "#         name=approach), \n",
    "#         row=1, col=2)\n",
    "\n",
    "# Update layout and axes for the combined figure\n",
    "siz = 12.5\n",
    "fig.update_layout(\n",
    "    width=220,  # Adjusted for two subplots\n",
    "    height=180,\n",
    "    plot_bgcolor='white',\n",
    "    paper_bgcolor='white',\n",
    "    margin=dict(l=0, r=0, t=0, b=0),\n",
    "    showlegend=False\n",
    ")\n",
    "\n",
    "# Update xaxis and yaxis properties for each subplot\n",
    "fig.update_xaxes(title_text=\"Expert query volume\", row=1, col=1, gridcolor='lightgrey', tickmode='array', type=\"log\", title_standoff=5, title_font=dict(size=siz-2), tickfont=dict(size=siz-2))\n",
    "fig.update_yaxes(title_text=\"f1-score ± 99% CI\",  row=1, col=1, gridcolor='lightgrey', #range=[0,1.05]\n",
    "                 title_standoff=5, title_font=dict(size=siz-2), tickfont=dict(size=siz-2), tickvals=[0, 0.1, 0.2, 0.3, 0.4, 0.5, 0.6, 0.7, 0.8, 0.9, 1] )\n",
    "\n",
    "# fig.update_xaxes(title_text=\"Round\", row=1, col=2, gridcolor='lightgrey', tickmode='array', title_standoff=5, title_font=dict(size=siz-2), tickfont=dict(size=siz-2))\n",
    "# fig.update_yaxes(title_text=\"# of labels ± 99% CI\", range=[0,4.5], row=1, col=2, gridcolor='lightgrey',type=\"log\", title_standoff=0, title_font=dict(size=siz-2), tickfont=dict(size=siz-2))\n",
    "\n",
    "fig.show()\n",
    "\n",
    "# Save the combined figure as a PDF\n",
    "# fig.write_image(\"./figures/combined_{}_{}_{}.pdf\".format(case, model, dataset))\n",
    "fig.write_image(\"./figures/f1_{}_{}_{}_grid.pdf\".format(case, model, dataset))\n",
    "fig.write_image(\"./figures/f1_{}_{}_{}_grid.pdf\".format(case, model, dataset))\n"
   ]
  },
  {
   "cell_type": "code",
   "execution_count": 17,
   "metadata": {},
   "outputs": [
    {
     "data": {
      "application/vnd.plotly.v1+json": {
       "config": {
        "plotlyServerURL": "https://plot.ly"
       },
       "data": [
        {
         "error_y": {
          "array": [],
          "thickness": 1,
          "type": "data",
          "visible": true,
          "width": 3
         },
         "line": {
          "color": "rgba(255,161,90,1)",
          "dash": "solid",
          "width": 2
         },
         "marker": {
          "size": 2.5
         },
         "name": "IneurAL (official)",
         "showlegend": true,
         "type": "scatter",
         "x": [
          1
         ],
         "xaxis": "x",
         "y": [
          1
         ],
         "yaxis": "y"
        },
        {
         "error_y": {
          "array": [],
          "thickness": 1,
          "type": "data",
          "visible": true,
          "width": 3
         },
         "line": {
          "color": "rgba(25,211,243,1)",
          "dash": "solid",
          "width": 2
         },
         "marker": {
          "size": 2.5
         },
         "name": "IneurAL (less exploration)",
         "showlegend": true,
         "type": "scatter",
         "x": [
          1
         ],
         "xaxis": "x",
         "y": [
          1
         ],
         "yaxis": "y"
        },
        {
         "error_y": {
          "array": [],
          "thickness": 1,
          "type": "data",
          "visible": true,
          "width": 3
         },
         "line": {
          "color": "rgba(255,102,146,1)",
          "dash": "solid",
          "width": 2
         },
         "marker": {
          "size": 2.5
         },
         "name": "Neuronal (official)",
         "showlegend": true,
         "type": "scatter",
         "x": [
          1
         ],
         "xaxis": "x",
         "y": [
          1
         ],
         "yaxis": "y"
        },
        {
         "error_y": {
          "array": [],
          "thickness": 1,
          "type": "data",
          "visible": true,
          "width": 3
         },
         "line": {
          "color": "rgba(182,232,128,1)",
          "dash": "solid",
          "width": 2
         },
         "marker": {
          "size": 2.5
         },
         "name": "Neuronal (less exploration)",
         "showlegend": true,
         "type": "scatter",
         "x": [
          1
         ],
         "xaxis": "x",
         "y": [
          1
         ],
         "yaxis": "y"
        },
        {
         "error_y": {
          "array": [],
          "thickness": 1,
          "type": "data",
          "visible": true,
          "width": 3
         },
         "line": {
          "color": "rgba(171,99,250,1)",
          "dash": "solid",
          "width": 2
         },
         "marker": {
          "size": 2.5
         },
         "name": "Neural-CBP",
         "showlegend": true,
         "type": "scatter",
         "x": [
          1
         ],
         "xaxis": "x",
         "y": [
          1
         ],
         "yaxis": "y"
        }
       ],
       "layout": {
        "height": 60,
        "legend": {
         "bgcolor": "rgba(255,255,255,1)",
         "font": {
          "color": "black",
          "size": 12.5
         },
         "orientation": "h",
         "x": 0.5,
         "xanchor": "center",
         "y": 0.5,
         "yanchor": "middle"
        },
        "margin": {
         "b": 0,
         "l": 0,
         "r": 0,
         "t": 0
        },
        "paper_bgcolor": "white",
        "plot_bgcolor": "white",
        "showlegend": true,
        "template": {
         "data": {
          "bar": [
           {
            "error_x": {
             "color": "#2a3f5f"
            },
            "error_y": {
             "color": "#2a3f5f"
            },
            "marker": {
             "line": {
              "color": "#E5ECF6",
              "width": 0.5
             },
             "pattern": {
              "fillmode": "overlay",
              "size": 10,
              "solidity": 0.2
             }
            },
            "type": "bar"
           }
          ],
          "barpolar": [
           {
            "marker": {
             "line": {
              "color": "#E5ECF6",
              "width": 0.5
             },
             "pattern": {
              "fillmode": "overlay",
              "size": 10,
              "solidity": 0.2
             }
            },
            "type": "barpolar"
           }
          ],
          "carpet": [
           {
            "aaxis": {
             "endlinecolor": "#2a3f5f",
             "gridcolor": "white",
             "linecolor": "white",
             "minorgridcolor": "white",
             "startlinecolor": "#2a3f5f"
            },
            "baxis": {
             "endlinecolor": "#2a3f5f",
             "gridcolor": "white",
             "linecolor": "white",
             "minorgridcolor": "white",
             "startlinecolor": "#2a3f5f"
            },
            "type": "carpet"
           }
          ],
          "choropleth": [
           {
            "colorbar": {
             "outlinewidth": 0,
             "ticks": ""
            },
            "type": "choropleth"
           }
          ],
          "contour": [
           {
            "colorbar": {
             "outlinewidth": 0,
             "ticks": ""
            },
            "colorscale": [
             [
              0,
              "#0d0887"
             ],
             [
              0.1111111111111111,
              "#46039f"
             ],
             [
              0.2222222222222222,
              "#7201a8"
             ],
             [
              0.3333333333333333,
              "#9c179e"
             ],
             [
              0.4444444444444444,
              "#bd3786"
             ],
             [
              0.5555555555555556,
              "#d8576b"
             ],
             [
              0.6666666666666666,
              "#ed7953"
             ],
             [
              0.7777777777777778,
              "#fb9f3a"
             ],
             [
              0.8888888888888888,
              "#fdca26"
             ],
             [
              1,
              "#f0f921"
             ]
            ],
            "type": "contour"
           }
          ],
          "contourcarpet": [
           {
            "colorbar": {
             "outlinewidth": 0,
             "ticks": ""
            },
            "type": "contourcarpet"
           }
          ],
          "heatmap": [
           {
            "colorbar": {
             "outlinewidth": 0,
             "ticks": ""
            },
            "colorscale": [
             [
              0,
              "#0d0887"
             ],
             [
              0.1111111111111111,
              "#46039f"
             ],
             [
              0.2222222222222222,
              "#7201a8"
             ],
             [
              0.3333333333333333,
              "#9c179e"
             ],
             [
              0.4444444444444444,
              "#bd3786"
             ],
             [
              0.5555555555555556,
              "#d8576b"
             ],
             [
              0.6666666666666666,
              "#ed7953"
             ],
             [
              0.7777777777777778,
              "#fb9f3a"
             ],
             [
              0.8888888888888888,
              "#fdca26"
             ],
             [
              1,
              "#f0f921"
             ]
            ],
            "type": "heatmap"
           }
          ],
          "heatmapgl": [
           {
            "colorbar": {
             "outlinewidth": 0,
             "ticks": ""
            },
            "colorscale": [
             [
              0,
              "#0d0887"
             ],
             [
              0.1111111111111111,
              "#46039f"
             ],
             [
              0.2222222222222222,
              "#7201a8"
             ],
             [
              0.3333333333333333,
              "#9c179e"
             ],
             [
              0.4444444444444444,
              "#bd3786"
             ],
             [
              0.5555555555555556,
              "#d8576b"
             ],
             [
              0.6666666666666666,
              "#ed7953"
             ],
             [
              0.7777777777777778,
              "#fb9f3a"
             ],
             [
              0.8888888888888888,
              "#fdca26"
             ],
             [
              1,
              "#f0f921"
             ]
            ],
            "type": "heatmapgl"
           }
          ],
          "histogram": [
           {
            "marker": {
             "pattern": {
              "fillmode": "overlay",
              "size": 10,
              "solidity": 0.2
             }
            },
            "type": "histogram"
           }
          ],
          "histogram2d": [
           {
            "colorbar": {
             "outlinewidth": 0,
             "ticks": ""
            },
            "colorscale": [
             [
              0,
              "#0d0887"
             ],
             [
              0.1111111111111111,
              "#46039f"
             ],
             [
              0.2222222222222222,
              "#7201a8"
             ],
             [
              0.3333333333333333,
              "#9c179e"
             ],
             [
              0.4444444444444444,
              "#bd3786"
             ],
             [
              0.5555555555555556,
              "#d8576b"
             ],
             [
              0.6666666666666666,
              "#ed7953"
             ],
             [
              0.7777777777777778,
              "#fb9f3a"
             ],
             [
              0.8888888888888888,
              "#fdca26"
             ],
             [
              1,
              "#f0f921"
             ]
            ],
            "type": "histogram2d"
           }
          ],
          "histogram2dcontour": [
           {
            "colorbar": {
             "outlinewidth": 0,
             "ticks": ""
            },
            "colorscale": [
             [
              0,
              "#0d0887"
             ],
             [
              0.1111111111111111,
              "#46039f"
             ],
             [
              0.2222222222222222,
              "#7201a8"
             ],
             [
              0.3333333333333333,
              "#9c179e"
             ],
             [
              0.4444444444444444,
              "#bd3786"
             ],
             [
              0.5555555555555556,
              "#d8576b"
             ],
             [
              0.6666666666666666,
              "#ed7953"
             ],
             [
              0.7777777777777778,
              "#fb9f3a"
             ],
             [
              0.8888888888888888,
              "#fdca26"
             ],
             [
              1,
              "#f0f921"
             ]
            ],
            "type": "histogram2dcontour"
           }
          ],
          "mesh3d": [
           {
            "colorbar": {
             "outlinewidth": 0,
             "ticks": ""
            },
            "type": "mesh3d"
           }
          ],
          "parcoords": [
           {
            "line": {
             "colorbar": {
              "outlinewidth": 0,
              "ticks": ""
             }
            },
            "type": "parcoords"
           }
          ],
          "pie": [
           {
            "automargin": true,
            "type": "pie"
           }
          ],
          "scatter": [
           {
            "fillpattern": {
             "fillmode": "overlay",
             "size": 10,
             "solidity": 0.2
            },
            "type": "scatter"
           }
          ],
          "scatter3d": [
           {
            "line": {
             "colorbar": {
              "outlinewidth": 0,
              "ticks": ""
             }
            },
            "marker": {
             "colorbar": {
              "outlinewidth": 0,
              "ticks": ""
             }
            },
            "type": "scatter3d"
           }
          ],
          "scattercarpet": [
           {
            "marker": {
             "colorbar": {
              "outlinewidth": 0,
              "ticks": ""
             }
            },
            "type": "scattercarpet"
           }
          ],
          "scattergeo": [
           {
            "marker": {
             "colorbar": {
              "outlinewidth": 0,
              "ticks": ""
             }
            },
            "type": "scattergeo"
           }
          ],
          "scattergl": [
           {
            "marker": {
             "colorbar": {
              "outlinewidth": 0,
              "ticks": ""
             }
            },
            "type": "scattergl"
           }
          ],
          "scattermapbox": [
           {
            "marker": {
             "colorbar": {
              "outlinewidth": 0,
              "ticks": ""
             }
            },
            "type": "scattermapbox"
           }
          ],
          "scatterpolar": [
           {
            "marker": {
             "colorbar": {
              "outlinewidth": 0,
              "ticks": ""
             }
            },
            "type": "scatterpolar"
           }
          ],
          "scatterpolargl": [
           {
            "marker": {
             "colorbar": {
              "outlinewidth": 0,
              "ticks": ""
             }
            },
            "type": "scatterpolargl"
           }
          ],
          "scatterternary": [
           {
            "marker": {
             "colorbar": {
              "outlinewidth": 0,
              "ticks": ""
             }
            },
            "type": "scatterternary"
           }
          ],
          "surface": [
           {
            "colorbar": {
             "outlinewidth": 0,
             "ticks": ""
            },
            "colorscale": [
             [
              0,
              "#0d0887"
             ],
             [
              0.1111111111111111,
              "#46039f"
             ],
             [
              0.2222222222222222,
              "#7201a8"
             ],
             [
              0.3333333333333333,
              "#9c179e"
             ],
             [
              0.4444444444444444,
              "#bd3786"
             ],
             [
              0.5555555555555556,
              "#d8576b"
             ],
             [
              0.6666666666666666,
              "#ed7953"
             ],
             [
              0.7777777777777778,
              "#fb9f3a"
             ],
             [
              0.8888888888888888,
              "#fdca26"
             ],
             [
              1,
              "#f0f921"
             ]
            ],
            "type": "surface"
           }
          ],
          "table": [
           {
            "cells": {
             "fill": {
              "color": "#EBF0F8"
             },
             "line": {
              "color": "white"
             }
            },
            "header": {
             "fill": {
              "color": "#C8D4E3"
             },
             "line": {
              "color": "white"
             }
            },
            "type": "table"
           }
          ]
         },
         "layout": {
          "annotationdefaults": {
           "arrowcolor": "#2a3f5f",
           "arrowhead": 0,
           "arrowwidth": 1
          },
          "autotypenumbers": "strict",
          "coloraxis": {
           "colorbar": {
            "outlinewidth": 0,
            "ticks": ""
           }
          },
          "colorscale": {
           "diverging": [
            [
             0,
             "#8e0152"
            ],
            [
             0.1,
             "#c51b7d"
            ],
            [
             0.2,
             "#de77ae"
            ],
            [
             0.3,
             "#f1b6da"
            ],
            [
             0.4,
             "#fde0ef"
            ],
            [
             0.5,
             "#f7f7f7"
            ],
            [
             0.6,
             "#e6f5d0"
            ],
            [
             0.7,
             "#b8e186"
            ],
            [
             0.8,
             "#7fbc41"
            ],
            [
             0.9,
             "#4d9221"
            ],
            [
             1,
             "#276419"
            ]
           ],
           "sequential": [
            [
             0,
             "#0d0887"
            ],
            [
             0.1111111111111111,
             "#46039f"
            ],
            [
             0.2222222222222222,
             "#7201a8"
            ],
            [
             0.3333333333333333,
             "#9c179e"
            ],
            [
             0.4444444444444444,
             "#bd3786"
            ],
            [
             0.5555555555555556,
             "#d8576b"
            ],
            [
             0.6666666666666666,
             "#ed7953"
            ],
            [
             0.7777777777777778,
             "#fb9f3a"
            ],
            [
             0.8888888888888888,
             "#fdca26"
            ],
            [
             1,
             "#f0f921"
            ]
           ],
           "sequentialminus": [
            [
             0,
             "#0d0887"
            ],
            [
             0.1111111111111111,
             "#46039f"
            ],
            [
             0.2222222222222222,
             "#7201a8"
            ],
            [
             0.3333333333333333,
             "#9c179e"
            ],
            [
             0.4444444444444444,
             "#bd3786"
            ],
            [
             0.5555555555555556,
             "#d8576b"
            ],
            [
             0.6666666666666666,
             "#ed7953"
            ],
            [
             0.7777777777777778,
             "#fb9f3a"
            ],
            [
             0.8888888888888888,
             "#fdca26"
            ],
            [
             1,
             "#f0f921"
            ]
           ]
          },
          "colorway": [
           "#636efa",
           "#EF553B",
           "#00cc96",
           "#ab63fa",
           "#FFA15A",
           "#19d3f3",
           "#FF6692",
           "#B6E880",
           "#FF97FF",
           "#FECB52"
          ],
          "font": {
           "color": "#2a3f5f"
          },
          "geo": {
           "bgcolor": "white",
           "lakecolor": "white",
           "landcolor": "#E5ECF6",
           "showlakes": true,
           "showland": true,
           "subunitcolor": "white"
          },
          "hoverlabel": {
           "align": "left"
          },
          "hovermode": "closest",
          "mapbox": {
           "style": "light"
          },
          "paper_bgcolor": "white",
          "plot_bgcolor": "#E5ECF6",
          "polar": {
           "angularaxis": {
            "gridcolor": "white",
            "linecolor": "white",
            "ticks": ""
           },
           "bgcolor": "#E5ECF6",
           "radialaxis": {
            "gridcolor": "white",
            "linecolor": "white",
            "ticks": ""
           }
          },
          "scene": {
           "xaxis": {
            "backgroundcolor": "#E5ECF6",
            "gridcolor": "white",
            "gridwidth": 2,
            "linecolor": "white",
            "showbackground": true,
            "ticks": "",
            "zerolinecolor": "white"
           },
           "yaxis": {
            "backgroundcolor": "#E5ECF6",
            "gridcolor": "white",
            "gridwidth": 2,
            "linecolor": "white",
            "showbackground": true,
            "ticks": "",
            "zerolinecolor": "white"
           },
           "zaxis": {
            "backgroundcolor": "#E5ECF6",
            "gridcolor": "white",
            "gridwidth": 2,
            "linecolor": "white",
            "showbackground": true,
            "ticks": "",
            "zerolinecolor": "white"
           }
          },
          "shapedefaults": {
           "line": {
            "color": "#2a3f5f"
           }
          },
          "ternary": {
           "aaxis": {
            "gridcolor": "white",
            "linecolor": "white",
            "ticks": ""
           },
           "baxis": {
            "gridcolor": "white",
            "linecolor": "white",
            "ticks": ""
           },
           "bgcolor": "#E5ECF6",
           "caxis": {
            "gridcolor": "white",
            "linecolor": "white",
            "ticks": ""
           }
          },
          "title": {
           "x": 0.05
          },
          "xaxis": {
           "automargin": true,
           "gridcolor": "white",
           "linecolor": "white",
           "ticks": "",
           "title": {
            "standoff": 15
           },
           "zerolinecolor": "white",
           "zerolinewidth": 2
          },
          "yaxis": {
           "automargin": true,
           "gridcolor": "white",
           "linecolor": "white",
           "ticks": "",
           "title": {
            "standoff": 15
           },
           "zerolinecolor": "white",
           "zerolinewidth": 2
          }
         }
        },
        "width": 440,
        "xaxis": {
         "anchor": "y",
         "domain": [
          0,
          1
         ],
         "showgrid": false,
         "showticklabels": false,
         "visible": false,
         "zeroline": false
        },
        "yaxis": {
         "anchor": "x",
         "domain": [
          0,
          1
         ],
         "showgrid": false,
         "showticklabels": false,
         "visible": false,
         "zeroline": false
        }
       }
      }
     },
     "metadata": {},
     "output_type": "display_data"
    }
   ],
   "source": [
    "import plotly.graph_objects as go\n",
    "from plotly.subplots import make_subplots\n",
    "import numpy as np\n",
    "\n",
    "import plotly.graph_objects as go\n",
    "import plotly.express as px\n",
    "\n",
    "dataset = 'MagicTelescope'\n",
    "\n",
    "approaches = {\n",
    "    #'EEneuralcbpside_v5': {'color': [255, 255, 0], 'labeMNISTbinaryl': 'EEneuralcbpside_v5'},  # Red\n",
    "    'IneurAL (official)': {'color': [255, 161, 90], 'label':'IneurAL6'},                    # Yellow\n",
    "    'IneurAL (less exploration)': {'color': [25, 211, 243], 'label':'IneurAL3'},                    # Cyan\n",
    "    'Neuronal (official)': {'color': [255, 102, 146], 'label':'neuronal6'},                  # Magenta\n",
    "    'Neuronal (less exploration)': {'color': [182, 232, 128], 'label':'neuronal3'},                   # Orange\n",
    "    # 'Margin': {'color': [255, 151, 255], 'label':'margin'},\n",
    "    # 'Cesa': {'color': [254, 203, 82], 'label':'cesa'},\n",
    "    'Neural-CBP': {'color': [171, 99, 250], 'label': 'EEneuralcbpside_v6'},  # Red\n",
    "}\n",
    "\n",
    "\n",
    "# Create a subplot with 1 row and 2 columns\n",
    "fig = make_subplots(rows=1, cols=1, ) #\n",
    "\n",
    "# Add your traces for the first figure to the first subplot\n",
    "for approach in approaches.keys():\n",
    "    # ... [your existing code for calculating mean_values, std_values, and color] ...\n",
    "    mean_values = [] \n",
    "    std_values = []\n",
    "    r,g,b = approaches[approach]['color']\n",
    "    \n",
    "    fig.add_trace(go.Scatter(\n",
    "        x=[1],  # Dummy x values, not shown\n",
    "        y=[1],  # Dummy y values, not shown\n",
    "        error_y=dict(type='data', array=std_values, visible=True, thickness=1, width=3),\n",
    "        line=dict(dash='solid', width=2, color='rgba({},{},{},1)'.format(r,g,b)),\n",
    "        marker=dict(size=2.5),\n",
    "        name=approach, showlegend=True, ), \n",
    "        row=1, col=1)\n",
    "\n",
    "\n",
    "# Update layout and axes for the combined figure\n",
    "siz = 12.5\n",
    "fig.update_layout(\n",
    "    # width=220,  # Adjusted for two subplots\n",
    "    # height=180,\n",
    "    width=440,  # Adjusted for two subplots\n",
    "    height=60,\n",
    "    plot_bgcolor='white',\n",
    "    paper_bgcolor='white',\n",
    "    margin=dict(l=0, r=0, t=0, b=0),\n",
    "    showlegend=True,\n",
    "    xaxis=dict(showgrid=False, showticklabels=False, zeroline=False, visible=False),  # Set visible to False\n",
    "    yaxis=dict(showgrid=False, showticklabels=False, zeroline=False, visible=False),  # Set visible to False\n",
    "\n",
    "    legend=dict(\n",
    "        orientation=\"h\",\n",
    "        yanchor=\"middle\",\n",
    "        y=0.5,  # Adjust this value to position the legend\n",
    "        xanchor=\"center\",\n",
    "        x=0.5,\n",
    "        bgcolor='rgba(255,255,255,1)',\n",
    "        font=dict(size=siz, color='black'),  # Increase legend font size\n",
    "        # title=dict(\n",
    "        #     text='<b>Legend</b>',  # Set the text for your legend title\n",
    "        #     font=dict(size=siz)  # Optionally set the font size for the legend title\n",
    "        # )\n",
    "    )\n",
    ")\n",
    "\n",
    "\n",
    "fig.show()\n",
    "\n",
    "# Save the combined figure as a PDF\n",
    "# fig.write_image(\"./figures/binary_legend_cr.png\".format(case, model, dataset), scale=10)\n",
    "fig.write_image(\"./figures/nonbinary_legend_cr.png\".format(case, model, dataset), scale=10)\n",
    "# fig.write_image(\"./figures/nonbinary_LeNet_legend_cr.png\".format(case, model, dataset), scale=10)\n"
   ]
  }
 ],
 "metadata": {
  "kernelspec": {
   "display_name": ".venv",
   "language": "python",
   "name": "python3"
  },
  "language_info": {
   "codemirror_mode": {
    "name": "ipython",
    "version": 3
   },
   "file_extension": ".py",
   "mimetype": "text/x-python",
   "name": "python",
   "nbconvert_exporter": "python",
   "pygments_lexer": "ipython3",
   "version": "3.8.16"
  },
  "orig_nbformat": 4
 },
 "nbformat": 4,
 "nbformat_minor": 2
}
