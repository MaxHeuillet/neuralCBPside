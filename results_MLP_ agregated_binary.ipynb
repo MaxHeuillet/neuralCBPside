{
 "cells": [
  {
   "cell_type": "code",
   "execution_count": 1,
   "metadata": {},
   "outputs": [],
   "source": [
    "import os\n",
    "import numpy as np\n",
    "import plotly.graph_objects as go\n",
    "import pandas as pd\n",
    "import gzip\n",
    "import pickle as pkl\n",
    "import pandas as pd\n",
    "\n",
    "def loadall_results2(path, n_folds):\n",
    "    regret = []\n",
    "    history_actions = []\n",
    "    history_outcomes = []\n",
    "    perf = []\n",
    "    with gzip.open(  path ,'rb') as f:\n",
    "        for i in range(n_folds+1):\n",
    "            try:\n",
    "                data = pkl.load(f)\n",
    "            except EOFError:\n",
    "                break\n",
    "\n",
    "            if type(data) == dict:\n",
    "                regret.append( data['regret'] ) \n",
    "                history_actions.append( data['action_history'] )\n",
    "                history_outcomes.append( data['outcome_history'] ) \n",
    "                perf.append( data['pred'] ) \n",
    "\n",
    "    return regret, history_actions, history_outcomes, perf"
   ]
  },
  {
   "cell_type": "code",
   "execution_count": 25,
   "metadata": {},
   "outputs": [],
   "source": [
    "n_folds = 25\n",
    "horizon = 9999\n",
    "context = 'MNISTbinary'\n",
    "model = 'MLP'\n",
    "case = 'case1'\n",
    "agent_name = 'EEneuralcbpside_v6' #ineural6, neuronal6\n",
    "\n",
    "direct = './results/'\n",
    "path = os.path.join(direct, '{}_{}_{}_{}_{}_{}.pkl.gz'.format(case,model,context,horizon,n_folds,agent_name) )\n",
    "regret, action_history, outcome_history, perf = loadall_results2(path, n_folds)\n"
   ]
  },
  {
   "cell_type": "code",
   "execution_count": 2,
   "metadata": {},
   "outputs": [
    {
     "name": "stdout",
     "output_type": "stream",
     "text": [
      "./results/case1_MLP_MNISTbinary_9999_25_ineural6.pkl.gz\n",
      "[[1.000e+00 1.000e+00 2.000e+00 ... 1.588e+03 1.588e+03 1.589e+03]\n",
      " [1.000e+00 1.000e+00 1.000e+00 ... 1.659e+03 1.659e+03 1.660e+03]\n",
      " [1.000e+00 2.000e+00 2.000e+00 ... 1.651e+03 1.651e+03 1.651e+03]\n",
      " ...\n",
      " [1.000e+00 1.000e+00 1.000e+00 ... 1.616e+03 1.616e+03 1.616e+03]\n",
      " [1.000e+00 1.000e+00 2.000e+00 ... 1.674e+03 1.674e+03 1.674e+03]\n",
      " [1.000e+00 1.000e+00 1.000e+00 ... 1.637e+03 1.637e+03 1.637e+03]]\n",
      "./results/case1_MLP_MNISTbinary_9999_25_ineural3.pkl.gz\n",
      "[[1.000e+00 1.000e+00 2.000e+00 ... 1.492e+03 1.492e+03 1.492e+03]\n",
      " [1.000e+00 1.000e+00 1.000e+00 ... 1.410e+03 1.410e+03 1.410e+03]\n",
      " [1.000e+00 2.000e+00 2.000e+00 ... 1.424e+03 1.424e+03 1.424e+03]\n",
      " ...\n",
      " [1.000e+00 1.000e+00 1.000e+00 ... 1.356e+03 1.356e+03 1.356e+03]\n",
      " [1.000e+00 1.000e+00 2.000e+00 ... 1.259e+03 1.259e+03 1.259e+03]\n",
      " [1.000e+00 1.000e+00 1.000e+00 ... 2.014e+03 2.014e+03 2.014e+03]]\n",
      "./results/case1_MLP_MNISTbinary_9999_25_neuronal6.pkl.gz\n",
      "[[1.000e+00 1.000e+00 2.000e+00 ... 1.743e+03 1.743e+03 1.743e+03]\n",
      " [1.000e+00 1.000e+00 1.000e+00 ... 1.729e+03 1.729e+03 1.730e+03]\n",
      " [1.000e+00 2.000e+00 2.000e+00 ... 1.775e+03 1.775e+03 1.775e+03]\n",
      " ...\n",
      " [1.000e+00 2.000e+00 2.000e+00 ... 1.788e+03 1.788e+03 1.788e+03]\n",
      " [1.000e+00 2.000e+00 2.000e+00 ... 1.737e+03 1.737e+03 1.737e+03]\n",
      " [1.000e+00 1.000e+00 1.000e+00 ... 1.721e+03 1.721e+03 1.721e+03]]\n",
      "./results/case1_MLP_MNISTbinary_9999_25_neuronal3.pkl.gz\n",
      "[[1.000e+00 1.000e+00 2.000e+00 ... 1.351e+03 1.351e+03 1.351e+03]\n",
      " [1.000e+00 1.000e+00 2.000e+00 ... 1.338e+03 1.338e+03 1.338e+03]\n",
      " [1.000e+00 2.000e+00 2.000e+00 ... 1.451e+03 1.451e+03 1.452e+03]\n",
      " ...\n",
      " [1.000e+00 1.000e+00 1.000e+00 ... 1.474e+03 1.474e+03 1.474e+03]\n",
      " [1.000e+00 1.000e+00 2.000e+00 ... 1.413e+03 1.413e+03 1.413e+03]\n",
      " [1.000e+00 1.000e+00 2.000e+00 ... 1.437e+03 1.437e+03 1.437e+03]]\n",
      "./results/case1_MLP_MNISTbinary_9999_25_EEneuralcbpside_v6.pkl.gz\n",
      "[[1.000e+00 1.000e+00 2.000e+00 ... 1.353e+03 1.353e+03 1.353e+03]\n",
      " [1.000e+00 1.000e+00 1.000e+00 ... 1.352e+03 1.352e+03 1.352e+03]\n",
      " [1.000e+00 2.000e+00 2.000e+00 ... 1.556e+03 1.556e+03 1.556e+03]\n",
      " ...\n",
      " [1.000e+00 1.000e+00 1.000e+00 ... 1.284e+03 1.284e+03 1.284e+03]\n",
      " [1.000e+00 1.000e+00 1.000e+00 ... 1.376e+03 1.376e+03 1.376e+03]\n",
      " [1.000e+00 1.000e+00 2.000e+00 ... 1.322e+03 1.322e+03 1.322e+03]]\n",
      "./results/case1_MLP_MNISTbinary_9999_25_margin.pkl.gz\n",
      "[[1.000e+00 2.000e+00 3.000e+00 ... 5.093e+03 5.094e+03 5.095e+03]\n",
      " [1.000e+00 1.000e+00 2.000e+00 ... 2.059e+03 2.059e+03 2.059e+03]\n",
      " [1.000e+00 2.000e+00 2.000e+00 ... 2.158e+03 2.158e+03 2.158e+03]\n",
      " ...\n",
      " [1.000e+00 2.000e+00 2.000e+00 ... 5.061e+03 5.062e+03 5.062e+03]\n",
      " [1.000e+00 2.000e+00 3.000e+00 ... 5.114e+03 5.114e+03 5.115e+03]\n",
      " [1.000e+00 1.000e+00 1.000e+00 ... 1.923e+03 1.923e+03 1.923e+03]]\n",
      "./results/case1_MLP_MNISTbinary_9999_25_cesa.pkl.gz\n",
      "[[1.000e+00 1.000e+00 1.000e+00 ... 2.119e+03 2.119e+03 2.119e+03]\n",
      " [1.000e+00 1.000e+00 2.000e+00 ... 2.855e+03 2.855e+03 2.856e+03]\n",
      " [1.000e+00 2.000e+00 2.000e+00 ... 3.757e+03 3.757e+03 3.757e+03]\n",
      " ...\n",
      " [1.000e+00 1.000e+00 1.000e+00 ... 3.192e+03 3.193e+03 3.193e+03]\n",
      " [1.000e+00 1.000e+00 1.000e+00 ... 2.281e+03 2.281e+03 2.281e+03]\n",
      " [1.000e+00 1.000e+00 2.000e+00 ... 3.407e+03 3.407e+03 3.407e+03]]\n",
      "./results/case1_MLP_adult_9999_25_ineural6.pkl.gz\n",
      "[[1.000e+00 1.000e+00 1.000e+00 ... 4.991e+03 4.992e+03 4.993e+03]\n",
      " [1.000e+00 1.000e+00 1.000e+00 ... 6.233e+03 6.234e+03 6.235e+03]\n",
      " [1.000e+00 2.000e+00 2.000e+00 ... 7.391e+03 7.392e+03 7.393e+03]\n",
      " ...\n",
      " [1.000e+00 1.000e+00 2.000e+00 ... 6.527e+03 6.528e+03 6.529e+03]\n",
      " [1.000e+00 2.000e+00 3.000e+00 ... 9.473e+03 9.474e+03 9.475e+03]\n",
      " [1.000e+00 2.000e+00 2.000e+00 ... 9.472e+03 9.473e+03 9.474e+03]]\n",
      "./results/case1_MLP_adult_9999_25_ineural3.pkl.gz\n",
      "[[1.000e+00 1.000e+00 2.000e+00 ... 3.949e+03 3.950e+03 3.950e+03]\n",
      " [1.000e+00 2.000e+00 2.000e+00 ... 7.588e+03 7.589e+03 7.590e+03]\n",
      " [1.000e+00 2.000e+00 2.000e+00 ... 2.324e+03 2.325e+03 2.325e+03]\n",
      " ...\n",
      " [1.000e+00 1.000e+00 2.000e+00 ... 3.317e+03 3.318e+03 3.318e+03]\n",
      " [1.000e+00 2.000e+00 3.000e+00 ... 2.439e+03 2.440e+03 2.440e+03]\n",
      " [1.000e+00 2.000e+00 2.000e+00 ... 2.480e+03 2.481e+03 2.481e+03]]\n",
      "./results/case1_MLP_adult_9999_25_neuronal6.pkl.gz\n",
      "[[1.000e+00 2.000e+00 2.000e+00 ... 2.419e+03 2.419e+03 2.419e+03]\n",
      " [1.000e+00 1.000e+00 1.000e+00 ... 2.374e+03 2.374e+03 2.374e+03]\n",
      " [1.000e+00 1.000e+00 2.000e+00 ... 2.430e+03 2.430e+03 2.430e+03]\n",
      " ...\n",
      " [1.000e+00 1.000e+00 2.000e+00 ... 6.543e+03 6.544e+03 6.544e+03]\n",
      " [1.000e+00 2.000e+00 3.000e+00 ... 7.818e+03 7.818e+03 7.818e+03]\n",
      " [1.000e+00 1.000e+00 1.000e+00 ... 7.730e+03 7.730e+03 7.730e+03]]\n",
      "./results/case1_MLP_adult_9999_25_neuronal3.pkl.gz\n",
      "[[1.000e+00 1.000e+00 1.000e+00 ... 2.402e+03 2.402e+03 2.402e+03]\n",
      " [1.000e+00 1.000e+00 2.000e+00 ... 7.640e+03 7.641e+03 7.642e+03]\n",
      " [1.000e+00 1.000e+00 2.000e+00 ... 2.382e+03 2.383e+03 2.384e+03]\n",
      " ...\n",
      " [1.000e+00 1.000e+00 2.000e+00 ... 2.687e+03 2.687e+03 2.687e+03]\n",
      " [1.000e+00 1.000e+00 1.000e+00 ... 2.736e+03 2.736e+03 2.736e+03]\n",
      " [1.000e+00 1.000e+00 2.000e+00 ... 2.736e+03 2.737e+03 2.737e+03]]\n",
      "./results/case1_MLP_adult_9999_25_EEneuralcbpside_v6.pkl.gz\n",
      "[[1.000e+00 2.000e+00 2.000e+00 ... 2.367e+03 2.367e+03 2.367e+03]\n",
      " [1.000e+00 2.000e+00 2.000e+00 ... 2.210e+03 2.210e+03 2.210e+03]\n",
      " [1.000e+00 2.000e+00 2.000e+00 ... 3.201e+03 3.201e+03 3.202e+03]\n",
      " ...\n",
      " [1.000e+00 2.000e+00 3.000e+00 ... 4.351e+03 4.352e+03 4.353e+03]\n",
      " [1.000e+00 2.000e+00 2.000e+00 ... 7.545e+03 7.546e+03 7.547e+03]\n",
      " [1.000e+00 1.000e+00 1.000e+00 ... 2.117e+03 2.117e+03 2.117e+03]]\n",
      "./results/case1_MLP_adult_9999_25_margin.pkl.gz\n",
      "[[1.000e+00 1.000e+00 2.000e+00 ... 2.461e+03 2.461e+03 2.461e+03]\n",
      " [1.000e+00 2.000e+00 2.000e+00 ... 4.687e+03 4.687e+03 4.688e+03]\n",
      " [1.000e+00 1.000e+00 1.000e+00 ... 2.158e+03 2.159e+03 2.159e+03]\n",
      " ...\n",
      " [1.000e+00 1.000e+00 1.000e+00 ... 2.387e+03 2.387e+03 2.388e+03]\n",
      " [1.000e+00 2.000e+00 2.000e+00 ... 2.067e+03 2.067e+03 2.067e+03]\n",
      " [1.000e+00 2.000e+00 2.000e+00 ... 2.416e+03 2.416e+03 2.417e+03]]\n",
      "./results/case1_MLP_adult_9999_25_cesa.pkl.gz\n",
      "[[1.000e+00 2.000e+00 3.000e+00 ... 2.577e+03 2.577e+03 2.577e+03]\n",
      " [1.000e+00 1.000e+00 1.000e+00 ... 2.323e+03 2.323e+03 2.323e+03]\n",
      " [1.000e+00 1.000e+00 2.000e+00 ... 2.422e+03 2.422e+03 2.423e+03]\n",
      " ...\n",
      " [1.000e+00 1.000e+00 2.000e+00 ... 2.331e+03 2.332e+03 2.333e+03]\n",
      " [1.000e+00 2.000e+00 3.000e+00 ... 2.592e+03 2.592e+03 2.592e+03]\n",
      " [1.000e+00 2.000e+00 2.000e+00 ... 2.535e+03 2.536e+03 2.536e+03]]\n",
      "./results/case1_MLP_MagicTelescope_9999_25_ineural6.pkl.gz\n",
      "[[1.000e+00 2.000e+00 3.000e+00 ... 6.497e+03 6.498e+03 6.499e+03]\n",
      " [1.000e+00 2.000e+00 2.000e+00 ... 7.821e+03 7.822e+03 7.823e+03]\n",
      " [1.000e+00 2.000e+00 3.000e+00 ... 7.109e+03 7.109e+03 7.109e+03]\n",
      " ...\n",
      " [1.000e+00 2.000e+00 3.000e+00 ... 7.742e+03 7.743e+03 7.743e+03]\n",
      " [1.000e+00 1.000e+00 1.000e+00 ... 7.600e+03 7.601e+03 7.602e+03]\n",
      " [1.000e+00 1.000e+00 2.000e+00 ... 7.441e+03 7.441e+03 7.441e+03]]\n",
      "./results/case1_MLP_MagicTelescope_9999_25_ineural3.pkl.gz\n",
      "[[1.000e+00 2.000e+00 3.000e+00 ... 6.493e+03 6.493e+03 6.493e+03]\n",
      " [1.000e+00 2.000e+00 2.000e+00 ... 6.421e+03 6.421e+03 6.422e+03]\n",
      " [1.000e+00 1.000e+00 1.000e+00 ... 4.862e+03 4.863e+03 4.863e+03]\n",
      " ...\n",
      " [1.000e+00 1.000e+00 1.000e+00 ... 5.295e+03 5.296e+03 5.297e+03]\n",
      " [1.000e+00 1.000e+00 2.000e+00 ... 5.179e+03 5.180e+03 5.181e+03]\n",
      " [1.000e+00 1.000e+00 1.000e+00 ... 5.331e+03 5.331e+03 5.331e+03]]\n",
      "./results/case1_MLP_MagicTelescope_9999_25_neuronal6.pkl.gz\n",
      "[[1.000e+00 1.000e+00 1.000e+00 ... 3.514e+03 3.515e+03 3.515e+03]\n",
      " [1.000e+00 2.000e+00 3.000e+00 ... 3.556e+03 3.557e+03 3.557e+03]\n",
      " [1.000e+00 2.000e+00 2.000e+00 ... 3.542e+03 3.543e+03 3.543e+03]\n",
      " ...\n",
      " [1.000e+00 2.000e+00 2.000e+00 ... 5.123e+03 5.124e+03 5.125e+03]\n",
      " [1.000e+00 2.000e+00 2.000e+00 ... 5.187e+03 5.187e+03 5.187e+03]\n",
      " [1.000e+00 1.000e+00 2.000e+00 ... 5.067e+03 5.067e+03 5.067e+03]]\n",
      "./results/case1_MLP_MagicTelescope_9999_25_neuronal3.pkl.gz\n",
      "[[1.000e+00 2.000e+00 3.000e+00 ... 6.463e+03 6.463e+03 6.463e+03]\n",
      " [1.000e+00 2.000e+00 3.000e+00 ... 3.489e+03 3.490e+03 3.490e+03]\n",
      " [1.000e+00 2.000e+00 2.000e+00 ... 6.445e+03 6.446e+03 6.446e+03]\n",
      " ...\n",
      " [1.000e+00 1.000e+00 2.000e+00 ... 3.551e+03 3.551e+03 3.551e+03]\n",
      " [1.000e+00 2.000e+00 3.000e+00 ... 6.504e+03 6.505e+03 6.506e+03]\n",
      " [1.000e+00 1.000e+00 2.000e+00 ... 3.482e+03 3.482e+03 3.483e+03]]\n",
      "./results/case1_MLP_MagicTelescope_9999_25_EEneuralcbpside_v6.pkl.gz\n",
      "[[1.000e+00 1.000e+00 2.000e+00 ... 2.714e+03 2.714e+03 2.714e+03]\n",
      " [1.000e+00 1.000e+00 2.000e+00 ... 2.899e+03 2.899e+03 2.899e+03]\n",
      " [1.000e+00 1.000e+00 2.000e+00 ... 2.717e+03 2.717e+03 2.717e+03]\n",
      " ...\n",
      " [1.000e+00 1.000e+00 2.000e+00 ... 2.726e+03 2.727e+03 2.728e+03]\n",
      " [1.000e+00 2.000e+00 3.000e+00 ... 2.708e+03 2.708e+03 2.708e+03]\n",
      " [1.000e+00 2.000e+00 3.000e+00 ... 2.715e+03 2.715e+03 2.716e+03]]\n",
      "./results/case1_MLP_MagicTelescope_9999_25_margin.pkl.gz\n",
      "[[1.000e+00 1.000e+00 2.000e+00 ... 3.549e+03 3.550e+03 3.550e+03]\n",
      " [1.000e+00 1.000e+00 2.000e+00 ... 6.499e+03 6.499e+03 6.500e+03]\n",
      " [1.000e+00 1.000e+00 2.000e+00 ... 2.908e+03 2.908e+03 2.908e+03]\n",
      " ...\n",
      " [1.000e+00 2.000e+00 2.000e+00 ... 3.069e+03 3.069e+03 3.069e+03]\n",
      " [1.000e+00 1.000e+00 2.000e+00 ... 3.500e+03 3.501e+03 3.501e+03]\n",
      " [1.000e+00 1.000e+00 1.000e+00 ... 3.537e+03 3.537e+03 3.537e+03]]\n",
      "./results/case1_MLP_MagicTelescope_9999_25_cesa.pkl.gz\n",
      "[[1.000e+00 1.000e+00 2.000e+00 ... 3.521e+03 3.522e+03 3.523e+03]\n",
      " [1.000e+00 2.000e+00 2.000e+00 ... 3.541e+03 3.541e+03 3.541e+03]\n",
      " [1.000e+00 2.000e+00 3.000e+00 ... 6.496e+03 6.496e+03 6.497e+03]\n",
      " ...\n",
      " [1.000e+00 2.000e+00 3.000e+00 ... 3.228e+03 3.228e+03 3.228e+03]\n",
      " [1.000e+00 2.000e+00 2.000e+00 ... 2.988e+03 2.988e+03 2.988e+03]\n",
      " [1.000e+00 2.000e+00 3.000e+00 ... 3.281e+03 3.282e+03 3.283e+03]]\n"
     ]
    }
   ],
   "source": [
    "def format_perf(perf, model, dataset, l_label):\n",
    "\n",
    "    processed_data = []\n",
    "    i = 0\n",
    "    for item in perf:\n",
    "        processed_item = {}\n",
    "        # key_mapping = dict( zip( item.keys(), [10, 50, 100, 250, 500, 750, 1000, 2500, 5000, 7500, 9000]))\n",
    "        new_dict = item #{key_mapping[old_key]: value for old_key, value in item.items()}\n",
    "        for key in new_dict:\n",
    "            # processed_item[f'accuracy_{key}'] = new_dict[key]['accuracy']\n",
    "            processed_item[f'f1_{key}'] = new_dict[key]['f1']\n",
    "        processed_item['Seed'] = i\n",
    "        processed_item['Model'] = model\n",
    "        processed_item['Dataset'] = dataset\n",
    "        processed_item['Approach'] = l_label\n",
    "        i = i+1\n",
    "        processed_data.append(processed_item)\n",
    "    return processed_data\n",
    "\n",
    "\n",
    "def convert_action_history(action_history, n_folds):\n",
    "    counters = []\n",
    "    for history in action_history:\n",
    "        counter = np.cumsum([ 1 if action == 0 else 0 for action in history ])\n",
    "        counters.append(counter)\n",
    "\n",
    "    std = 2.575 * np.std(counters, axis = 0) / n_folds \n",
    "    # std = np.std(counters, axis = 0) / n_folds \n",
    "\n",
    "    return np.mean(counters, axis = 0), std \n",
    "\n",
    "n_folds = 26\n",
    "horizon = 9999\n",
    "model = 'MLP'\n",
    "\n",
    "material = {\n",
    "    #'EEneuralcbpside_v5': {'color': [255, 255, 0], 'label': 'EEneuralcbpside_v5'},  # Red\n",
    "    'ineural6': {'color': [51, 255, 255], 'label':'IneurAL (official)'},                    # Yellow\n",
    "    'ineural3': {'color': [0, 0, 255], 'label':'IneurAL (tuned)'},                    # Cyan\n",
    "    'neuronal6': {'color': [255, 0, 255], 'label':'Neuronal (official)'},                  # Magenta\n",
    "    'neuronal3': {'color': [160, 160, 160], 'label':'Neuronal (tuned)'},                   # Orange\n",
    "    'EEneuralcbpside_v6': {'color': [255, 0, 0], 'label': 'Neural-CBP'},  # Red\n",
    "    'margin': {'color': [160, 160, 160], 'label':'Margin'},\n",
    "    'cesa': {'color': [0, 0, 255], 'label':'Cesa'},\n",
    "}\n",
    "\n",
    "fig = go.Figure( )\n",
    "\n",
    "data_models = {}\n",
    "perfs_final = {}\n",
    "explo_final = {}\n",
    "explo2_final = {}\n",
    "\n",
    "for model in ['MLP']:  # 'LeNet'\n",
    "\n",
    "    if model == 'MLP':\n",
    "        n_folds = 25\n",
    "        datasets = ['MNISTbinary', 'adult', 'MagicTelescope' ] # 'covertype', 'shuttle',\n",
    "    # else:\n",
    "    #     datasets = ['MNIST', 'FASHION', 'CIFAR10',]\n",
    "    #     n_folds = 25\n",
    "\n",
    "    data_regrets = {} \n",
    "    data_perfs = {} \n",
    "    data_explo = {}\n",
    "    data_explo2 = {}\n",
    "    for data in datasets: \n",
    "\n",
    "        # if data in ['MNIST', 'FASHION', 'CIFAR10']:\n",
    "        #     case = 'case2' \n",
    "        # elif data in ['covertype', 'shuttle']:\n",
    "        #     case = 'game_case_seven'\n",
    "        # else:\n",
    "        case = 'case1'\n",
    "        \n",
    "        final_regrets = {}\n",
    "        final_perfs = {}\n",
    "        explo_perfs = {}\n",
    "        explo2_perfs = {}\n",
    "        for agent_name in material.keys():\n",
    "\n",
    "            color, l_label = material[agent_name]['color'], material[agent_name]['label']\n",
    "\n",
    "            r,g,b = color\n",
    "\n",
    "            # try:\n",
    "            direct = './results/'\n",
    "            path = os.path.join(direct, '{}_{}_{}_{}_{}_{}.pkl.gz'.format(case, model, data, horizon,n_folds,agent_name) )\n",
    "            print(path)\n",
    "            regret, action_history,outcome_history, perf = loadall_results2(path, n_folds)\n",
    "            regret = np.array(regret)\n",
    "            print(regret)\n",
    "            regret = regret#[1:]\n",
    "\n",
    "            final_regrets[l_label] = regret[:,-1] \n",
    "            final_perfs[l_label] = pd.DataFrame( format_perf(perf, model, data, l_label) )\n",
    "\n",
    "            m, s = convert_action_history(action_history, n_folds)\n",
    "            explo_perfs[l_label] = m\n",
    "            explo2_perfs[l_label] = s\n",
    "\n",
    "\n",
    "        if data == 'MNISTbinary':\n",
    "            data = 'MNISTbinary'\n",
    "        if data == 'FASHION':\n",
    "            data = 'FASHION'\n",
    "            \n",
    "        data_regrets[data] = final_regrets\n",
    "\n",
    "        dataframes_list = list(final_perfs.values())\n",
    "        concatenated_df = pd.concat(dataframes_list, axis=0)\n",
    "        data_perfs[data] = concatenated_df\n",
    "\n",
    "        data_explo[data] = explo_perfs\n",
    "        data_explo2[data] = explo2_perfs\n",
    "        \n",
    "    data_models[model] = data_regrets\n",
    "    dataframes_list = list(data_perfs.values())\n",
    "    concatenated_df = pd.concat(dataframes_list, axis=0)\n",
    "\n",
    "    explo_final[model] = data_explo\n",
    "    explo2_final[model] = data_explo2\n"
   ]
  },
  {
   "cell_type": "code",
   "execution_count": 3,
   "metadata": {},
   "outputs": [],
   "source": [
    "import pandas as pd\n",
    "# pd.DataFrame(data_regrets)\n",
    "# data_regrets\n",
    "\n",
    "samples = []\n",
    "# Iterate over the dictionary to extract data\n",
    "for model, dataset in data_models.items():\n",
    "    for data, approach in dataset.items():\n",
    "        for appr, values in approach.items():\n",
    "            i = 0\n",
    "            for val in values:\n",
    "                # print(i, appr,val)\n",
    "                samples.append([i, model, data, appr, val])\n",
    "                i = i+1\n",
    "\n",
    "# Create a DataFrame\n",
    "df = pd.DataFrame(samples, columns=['Seed','Model', 'Dataset', 'Approach', 'Value'])\n",
    "df = pd.merge(df, concatenated_df, on=['Model', 'Dataset', 'Approach', 'Seed'])\n"
   ]
  },
  {
   "cell_type": "code",
   "execution_count": 4,
   "metadata": {},
   "outputs": [],
   "source": [
    "exclude_columns = ['Seed', 'Model', 'Dataset', 'Approach']\n",
    "\n",
    "agg_columns = [col for col in df.columns if col not in exclude_columns]\n",
    "\n",
    "df_mean = df.groupby(['Model', 'Dataset', 'Approach'])[agg_columns].agg(['mean',]) # 'std'\n",
    "df_mean.columns = df_mean.columns.get_level_values(0)\n",
    "df_mean = df_mean.reset_index()\n",
    "\n",
    "df_std = df.groupby(['Model', 'Dataset', 'Approach'])[agg_columns].agg(['std',]) # 'std'\n",
    "df_std.columns = df_std.columns.get_level_values(0)\n",
    "df_std = df_std.reset_index()\n"
   ]
  },
  {
   "cell_type": "markdown",
   "metadata": {},
   "source": []
  },
  {
   "cell_type": "code",
   "execution_count": 7,
   "metadata": {},
   "outputs": [
    {
     "data": {
      "application/vnd.plotly.v1+json": {
       "config": {
        "plotlyServerURL": "https://plot.ly"
       },
       "data": [
        {
         "error_y": {
          "array": [
           0.01655972375446739,
           0.015336021164902064,
           0.01659377099780187,
           0.007781139915141268,
           0.007660298911962359,
           0.00808293240951919,
           0.008423258022186467,
           0.008845744100202921,
           0.005065223051848981,
           0.004774026106051729,
           0.002958158280296524,
           0.0013032693833883882,
           0.0010975647752377304,
           0.0011978766587587041
          ],
          "thickness": 1,
          "type": "data",
          "visible": true,
          "width": 3
         },
         "line": {
          "color": "rgba(255,161,90,1)",
          "dash": "solid",
          "width": 1
         },
         "marker": {
          "size": 2.5
         },
         "name": "IneurAL (official)",
         "type": "scatter",
         "x": [
          10,
          25,
          50,
          100,
          150,
          250,
          300,
          400,
          500,
          750,
          1000,
          2500,
          5000,
          7500,
          9000
         ],
         "xaxis": "x",
         "y": [
          0.5100409447096877,
          0.535919428033902,
          0.5649143236782438,
          0.674504922219003,
          0.6838772160836385,
          0.705691254285106,
          0.7128270308782388,
          0.7241545501207471,
          0.7492698664299167,
          0.7617092810072422,
          0.7748038198619384,
          0.7989024450436443,
          0.8080944831422967,
          0.8195216773321917
         ],
         "yaxis": "y"
        },
        {
         "error_y": {
          "array": [
           0.013075533765419185,
           0.012427442483042117,
           0.010336274855376013,
           0.010908150849832583,
           0.011754557848323894,
           0.011378329532191535,
           0.011583821553700328,
           0.005782814835053361,
           0.0048946200282840215,
           0.00441267322012527,
           0.0026345426933181123,
           0.0011066113787146935,
           null,
           null
          ],
          "thickness": 1,
          "type": "data",
          "visible": true,
          "width": 3
         },
         "line": {
          "color": "rgba(25,211,243,1)",
          "dash": "solid",
          "width": 1
         },
         "marker": {
          "size": 2.5
         },
         "name": "IneurAL (tuned)",
         "type": "scatter",
         "x": [
          10,
          25,
          50,
          100,
          150,
          250,
          300,
          400,
          500,
          750,
          1000,
          2500,
          5000,
          7500,
          9000
         ],
         "xaxis": "x",
         "y": [
          0.5709679810604421,
          0.5856083874944159,
          0.6233558075964271,
          0.6423206251153663,
          0.660219975587353,
          0.6932923391334498,
          0.6996657685891324,
          0.7212353936843909,
          0.7349763225080874,
          0.7579640646384497,
          0.7768766926548097,
          0.8057100130524699,
          null,
          null
         ],
         "yaxis": "y"
        },
        {
         "error_y": {
          "array": [
           0.012447992323535297,
           0.006832243993986792,
           0.005919074403137436,
           0.005970353004338696,
           0.005688002269328608,
           0.005293162762475883,
           0.00490186417589045,
           0.004749334797729363,
           0.00474102160146563,
           0.004836775839918822,
           0.004726215277146542,
           0.0016214886850549502,
           null,
           null
          ],
          "thickness": 1,
          "type": "data",
          "visible": true,
          "width": 3
         },
         "line": {
          "color": "rgba(255,102,146,1)",
          "dash": "solid",
          "width": 1
         },
         "marker": {
          "size": 2.5
         },
         "name": "Neuronal (official)",
         "type": "scatter",
         "x": [
          10,
          25,
          50,
          100,
          150,
          250,
          300,
          400,
          500,
          750,
          1000,
          2500,
          5000,
          7500,
          9000
         ],
         "xaxis": "x",
         "y": [
          0.5173964232492969,
          0.6365715550727102,
          0.650153416580128,
          0.6566156983136592,
          0.6676706751321677,
          0.6838096603535909,
          0.6882871724192069,
          0.6932196494478465,
          0.695578330302517,
          0.7014008325358221,
          0.7110325763646815,
          0.7752579846883096,
          null,
          null
         ],
         "yaxis": "y"
        },
        {
         "error_y": {
          "array": [
           null,
           null,
           null,
           null,
           null,
           null,
           null,
           null,
           null,
           null,
           null,
           null,
           null,
           null
          ],
          "thickness": 1,
          "type": "data",
          "visible": true,
          "width": 3
         },
         "line": {
          "color": "rgba(182,232,128,1)",
          "dash": "solid",
          "width": 1
         },
         "marker": {
          "size": 2.5
         },
         "name": "Neuronal (tuned)",
         "type": "scatter",
         "x": [
          10,
          25,
          50,
          100,
          150,
          250,
          300,
          400,
          500,
          750,
          1000,
          2500,
          5000,
          7500,
          9000
         ],
         "xaxis": "x",
         "y": [
          0.6468899189664531,
          0.6703147303961643,
          0.6686375030828691,
          0.6592000601535309,
          0.6686375030828691,
          0.6643088058193075,
          0.6695126547909498,
          0.6697972164593996,
          null,
          null,
          null,
          null,
          null,
          null
         ],
         "yaxis": "y"
        },
        {
         "error_y": {
          "array": [
           0.014056985174073743,
           0.013749724556412863,
           0.008544226522432315,
           null,
           null,
           null,
           null,
           null,
           null,
           null,
           null,
           null,
           null,
           null
          ],
          "thickness": 1,
          "type": "data",
          "visible": true,
          "width": 3
         },
         "line": {
          "color": "rgba(255,151,255,1)",
          "dash": "solid",
          "width": 1
         },
         "marker": {
          "size": 2.5
         },
         "name": "Margin",
         "type": "scatter",
         "x": [
          10,
          25,
          50,
          100,
          150,
          250,
          300,
          400,
          500,
          750,
          1000,
          2500,
          5000,
          7500,
          9000
         ],
         "xaxis": "x",
         "y": [
          0.5805205927177307,
          0.5974663614121893,
          0.6490584618751353,
          null,
          null,
          null,
          null,
          null,
          null,
          null,
          null,
          null,
          null,
          null
         ],
         "yaxis": "y"
        },
        {
         "error_y": {
          "array": [
           0.004795690178926656,
           0.004682772365758666,
           0.005579073969286116,
           0.005302025061980987,
           0.0044756092482024,
           0.0017658365043850702,
           0.0021125679881035873,
           0.0015565819381391705,
           null,
           null,
           null,
           null,
           null,
           null
          ],
          "thickness": 1,
          "type": "data",
          "visible": true,
          "width": 3
         },
         "line": {
          "color": "rgba(254,203,82,1)",
          "dash": "solid",
          "width": 1
         },
         "marker": {
          "size": 2.5
         },
         "name": "Cesa",
         "type": "scatter",
         "x": [
          10,
          25,
          50,
          100,
          150,
          250,
          300,
          400,
          500,
          750,
          1000,
          2500,
          5000,
          7500,
          9000
         ],
         "xaxis": "x",
         "y": [
          0.5861032285061386,
          0.6194839709329133,
          0.6402315607705049,
          0.6657624191480336,
          0.6876720035638021,
          0.7272918804908401,
          0.7320469860912115,
          0.7373410137352882,
          0.7327887893309263,
          null,
          null,
          null,
          null,
          null
         ],
         "yaxis": "y"
        },
        {
         "error_y": {
          "array": [
           0.005786389014969916,
           0.0037639540369179443,
           0.003718190821798869,
           0.0032084764936041728,
           0.0027722288577637353,
           0.0027350998087936856,
           0.0022905326669744315,
           0.0016646670574459379,
           0.0015522338020820198,
           0.000449124635212503,
           null,
           null,
           null,
           null
          ],
          "thickness": 1,
          "type": "data",
          "visible": true,
          "width": 3
         },
         "line": {
          "color": "rgba(171,99,250,1)",
          "dash": "solid",
          "width": 1
         },
         "marker": {
          "size": 2.5
         },
         "name": "Neural-CBP",
         "type": "scatter",
         "x": [
          10,
          25,
          50,
          100,
          150,
          250,
          300,
          400,
          500,
          750,
          1000,
          2500,
          5000,
          7500,
          9000
         ],
         "xaxis": "x",
         "y": [
          0.6008717565963353,
          0.6445126085191532,
          0.6755583492242256,
          0.6974951799619328,
          0.7117118795500095,
          0.7409749725595468,
          0.7509080691459109,
          0.7715516472630727,
          0.7818471489071431,
          0.8019524571952884,
          null,
          null,
          null,
          null
         ],
         "yaxis": "y"
        }
       ],
       "layout": {
        "height": 180,
        "margin": {
         "b": 0,
         "l": 0,
         "r": 0,
         "t": 0
        },
        "paper_bgcolor": "white",
        "plot_bgcolor": "white",
        "showlegend": false,
        "template": {
         "data": {
          "bar": [
           {
            "error_x": {
             "color": "#2a3f5f"
            },
            "error_y": {
             "color": "#2a3f5f"
            },
            "marker": {
             "line": {
              "color": "#E5ECF6",
              "width": 0.5
             },
             "pattern": {
              "fillmode": "overlay",
              "size": 10,
              "solidity": 0.2
             }
            },
            "type": "bar"
           }
          ],
          "barpolar": [
           {
            "marker": {
             "line": {
              "color": "#E5ECF6",
              "width": 0.5
             },
             "pattern": {
              "fillmode": "overlay",
              "size": 10,
              "solidity": 0.2
             }
            },
            "type": "barpolar"
           }
          ],
          "carpet": [
           {
            "aaxis": {
             "endlinecolor": "#2a3f5f",
             "gridcolor": "white",
             "linecolor": "white",
             "minorgridcolor": "white",
             "startlinecolor": "#2a3f5f"
            },
            "baxis": {
             "endlinecolor": "#2a3f5f",
             "gridcolor": "white",
             "linecolor": "white",
             "minorgridcolor": "white",
             "startlinecolor": "#2a3f5f"
            },
            "type": "carpet"
           }
          ],
          "choropleth": [
           {
            "colorbar": {
             "outlinewidth": 0,
             "ticks": ""
            },
            "type": "choropleth"
           }
          ],
          "contour": [
           {
            "colorbar": {
             "outlinewidth": 0,
             "ticks": ""
            },
            "colorscale": [
             [
              0,
              "#0d0887"
             ],
             [
              0.1111111111111111,
              "#46039f"
             ],
             [
              0.2222222222222222,
              "#7201a8"
             ],
             [
              0.3333333333333333,
              "#9c179e"
             ],
             [
              0.4444444444444444,
              "#bd3786"
             ],
             [
              0.5555555555555556,
              "#d8576b"
             ],
             [
              0.6666666666666666,
              "#ed7953"
             ],
             [
              0.7777777777777778,
              "#fb9f3a"
             ],
             [
              0.8888888888888888,
              "#fdca26"
             ],
             [
              1,
              "#f0f921"
             ]
            ],
            "type": "contour"
           }
          ],
          "contourcarpet": [
           {
            "colorbar": {
             "outlinewidth": 0,
             "ticks": ""
            },
            "type": "contourcarpet"
           }
          ],
          "heatmap": [
           {
            "colorbar": {
             "outlinewidth": 0,
             "ticks": ""
            },
            "colorscale": [
             [
              0,
              "#0d0887"
             ],
             [
              0.1111111111111111,
              "#46039f"
             ],
             [
              0.2222222222222222,
              "#7201a8"
             ],
             [
              0.3333333333333333,
              "#9c179e"
             ],
             [
              0.4444444444444444,
              "#bd3786"
             ],
             [
              0.5555555555555556,
              "#d8576b"
             ],
             [
              0.6666666666666666,
              "#ed7953"
             ],
             [
              0.7777777777777778,
              "#fb9f3a"
             ],
             [
              0.8888888888888888,
              "#fdca26"
             ],
             [
              1,
              "#f0f921"
             ]
            ],
            "type": "heatmap"
           }
          ],
          "heatmapgl": [
           {
            "colorbar": {
             "outlinewidth": 0,
             "ticks": ""
            },
            "colorscale": [
             [
              0,
              "#0d0887"
             ],
             [
              0.1111111111111111,
              "#46039f"
             ],
             [
              0.2222222222222222,
              "#7201a8"
             ],
             [
              0.3333333333333333,
              "#9c179e"
             ],
             [
              0.4444444444444444,
              "#bd3786"
             ],
             [
              0.5555555555555556,
              "#d8576b"
             ],
             [
              0.6666666666666666,
              "#ed7953"
             ],
             [
              0.7777777777777778,
              "#fb9f3a"
             ],
             [
              0.8888888888888888,
              "#fdca26"
             ],
             [
              1,
              "#f0f921"
             ]
            ],
            "type": "heatmapgl"
           }
          ],
          "histogram": [
           {
            "marker": {
             "pattern": {
              "fillmode": "overlay",
              "size": 10,
              "solidity": 0.2
             }
            },
            "type": "histogram"
           }
          ],
          "histogram2d": [
           {
            "colorbar": {
             "outlinewidth": 0,
             "ticks": ""
            },
            "colorscale": [
             [
              0,
              "#0d0887"
             ],
             [
              0.1111111111111111,
              "#46039f"
             ],
             [
              0.2222222222222222,
              "#7201a8"
             ],
             [
              0.3333333333333333,
              "#9c179e"
             ],
             [
              0.4444444444444444,
              "#bd3786"
             ],
             [
              0.5555555555555556,
              "#d8576b"
             ],
             [
              0.6666666666666666,
              "#ed7953"
             ],
             [
              0.7777777777777778,
              "#fb9f3a"
             ],
             [
              0.8888888888888888,
              "#fdca26"
             ],
             [
              1,
              "#f0f921"
             ]
            ],
            "type": "histogram2d"
           }
          ],
          "histogram2dcontour": [
           {
            "colorbar": {
             "outlinewidth": 0,
             "ticks": ""
            },
            "colorscale": [
             [
              0,
              "#0d0887"
             ],
             [
              0.1111111111111111,
              "#46039f"
             ],
             [
              0.2222222222222222,
              "#7201a8"
             ],
             [
              0.3333333333333333,
              "#9c179e"
             ],
             [
              0.4444444444444444,
              "#bd3786"
             ],
             [
              0.5555555555555556,
              "#d8576b"
             ],
             [
              0.6666666666666666,
              "#ed7953"
             ],
             [
              0.7777777777777778,
              "#fb9f3a"
             ],
             [
              0.8888888888888888,
              "#fdca26"
             ],
             [
              1,
              "#f0f921"
             ]
            ],
            "type": "histogram2dcontour"
           }
          ],
          "mesh3d": [
           {
            "colorbar": {
             "outlinewidth": 0,
             "ticks": ""
            },
            "type": "mesh3d"
           }
          ],
          "parcoords": [
           {
            "line": {
             "colorbar": {
              "outlinewidth": 0,
              "ticks": ""
             }
            },
            "type": "parcoords"
           }
          ],
          "pie": [
           {
            "automargin": true,
            "type": "pie"
           }
          ],
          "scatter": [
           {
            "fillpattern": {
             "fillmode": "overlay",
             "size": 10,
             "solidity": 0.2
            },
            "type": "scatter"
           }
          ],
          "scatter3d": [
           {
            "line": {
             "colorbar": {
              "outlinewidth": 0,
              "ticks": ""
             }
            },
            "marker": {
             "colorbar": {
              "outlinewidth": 0,
              "ticks": ""
             }
            },
            "type": "scatter3d"
           }
          ],
          "scattercarpet": [
           {
            "marker": {
             "colorbar": {
              "outlinewidth": 0,
              "ticks": ""
             }
            },
            "type": "scattercarpet"
           }
          ],
          "scattergeo": [
           {
            "marker": {
             "colorbar": {
              "outlinewidth": 0,
              "ticks": ""
             }
            },
            "type": "scattergeo"
           }
          ],
          "scattergl": [
           {
            "marker": {
             "colorbar": {
              "outlinewidth": 0,
              "ticks": ""
             }
            },
            "type": "scattergl"
           }
          ],
          "scattermapbox": [
           {
            "marker": {
             "colorbar": {
              "outlinewidth": 0,
              "ticks": ""
             }
            },
            "type": "scattermapbox"
           }
          ],
          "scatterpolar": [
           {
            "marker": {
             "colorbar": {
              "outlinewidth": 0,
              "ticks": ""
             }
            },
            "type": "scatterpolar"
           }
          ],
          "scatterpolargl": [
           {
            "marker": {
             "colorbar": {
              "outlinewidth": 0,
              "ticks": ""
             }
            },
            "type": "scatterpolargl"
           }
          ],
          "scatterternary": [
           {
            "marker": {
             "colorbar": {
              "outlinewidth": 0,
              "ticks": ""
             }
            },
            "type": "scatterternary"
           }
          ],
          "surface": [
           {
            "colorbar": {
             "outlinewidth": 0,
             "ticks": ""
            },
            "colorscale": [
             [
              0,
              "#0d0887"
             ],
             [
              0.1111111111111111,
              "#46039f"
             ],
             [
              0.2222222222222222,
              "#7201a8"
             ],
             [
              0.3333333333333333,
              "#9c179e"
             ],
             [
              0.4444444444444444,
              "#bd3786"
             ],
             [
              0.5555555555555556,
              "#d8576b"
             ],
             [
              0.6666666666666666,
              "#ed7953"
             ],
             [
              0.7777777777777778,
              "#fb9f3a"
             ],
             [
              0.8888888888888888,
              "#fdca26"
             ],
             [
              1,
              "#f0f921"
             ]
            ],
            "type": "surface"
           }
          ],
          "table": [
           {
            "cells": {
             "fill": {
              "color": "#EBF0F8"
             },
             "line": {
              "color": "white"
             }
            },
            "header": {
             "fill": {
              "color": "#C8D4E3"
             },
             "line": {
              "color": "white"
             }
            },
            "type": "table"
           }
          ]
         },
         "layout": {
          "annotationdefaults": {
           "arrowcolor": "#2a3f5f",
           "arrowhead": 0,
           "arrowwidth": 1
          },
          "autotypenumbers": "strict",
          "coloraxis": {
           "colorbar": {
            "outlinewidth": 0,
            "ticks": ""
           }
          },
          "colorscale": {
           "diverging": [
            [
             0,
             "#8e0152"
            ],
            [
             0.1,
             "#c51b7d"
            ],
            [
             0.2,
             "#de77ae"
            ],
            [
             0.3,
             "#f1b6da"
            ],
            [
             0.4,
             "#fde0ef"
            ],
            [
             0.5,
             "#f7f7f7"
            ],
            [
             0.6,
             "#e6f5d0"
            ],
            [
             0.7,
             "#b8e186"
            ],
            [
             0.8,
             "#7fbc41"
            ],
            [
             0.9,
             "#4d9221"
            ],
            [
             1,
             "#276419"
            ]
           ],
           "sequential": [
            [
             0,
             "#0d0887"
            ],
            [
             0.1111111111111111,
             "#46039f"
            ],
            [
             0.2222222222222222,
             "#7201a8"
            ],
            [
             0.3333333333333333,
             "#9c179e"
            ],
            [
             0.4444444444444444,
             "#bd3786"
            ],
            [
             0.5555555555555556,
             "#d8576b"
            ],
            [
             0.6666666666666666,
             "#ed7953"
            ],
            [
             0.7777777777777778,
             "#fb9f3a"
            ],
            [
             0.8888888888888888,
             "#fdca26"
            ],
            [
             1,
             "#f0f921"
            ]
           ],
           "sequentialminus": [
            [
             0,
             "#0d0887"
            ],
            [
             0.1111111111111111,
             "#46039f"
            ],
            [
             0.2222222222222222,
             "#7201a8"
            ],
            [
             0.3333333333333333,
             "#9c179e"
            ],
            [
             0.4444444444444444,
             "#bd3786"
            ],
            [
             0.5555555555555556,
             "#d8576b"
            ],
            [
             0.6666666666666666,
             "#ed7953"
            ],
            [
             0.7777777777777778,
             "#fb9f3a"
            ],
            [
             0.8888888888888888,
             "#fdca26"
            ],
            [
             1,
             "#f0f921"
            ]
           ]
          },
          "colorway": [
           "#636efa",
           "#EF553B",
           "#00cc96",
           "#ab63fa",
           "#FFA15A",
           "#19d3f3",
           "#FF6692",
           "#B6E880",
           "#FF97FF",
           "#FECB52"
          ],
          "font": {
           "color": "#2a3f5f"
          },
          "geo": {
           "bgcolor": "white",
           "lakecolor": "white",
           "landcolor": "#E5ECF6",
           "showlakes": true,
           "showland": true,
           "subunitcolor": "white"
          },
          "hoverlabel": {
           "align": "left"
          },
          "hovermode": "closest",
          "mapbox": {
           "style": "light"
          },
          "paper_bgcolor": "white",
          "plot_bgcolor": "#E5ECF6",
          "polar": {
           "angularaxis": {
            "gridcolor": "white",
            "linecolor": "white",
            "ticks": ""
           },
           "bgcolor": "#E5ECF6",
           "radialaxis": {
            "gridcolor": "white",
            "linecolor": "white",
            "ticks": ""
           }
          },
          "scene": {
           "xaxis": {
            "backgroundcolor": "#E5ECF6",
            "gridcolor": "white",
            "gridwidth": 2,
            "linecolor": "white",
            "showbackground": true,
            "ticks": "",
            "zerolinecolor": "white"
           },
           "yaxis": {
            "backgroundcolor": "#E5ECF6",
            "gridcolor": "white",
            "gridwidth": 2,
            "linecolor": "white",
            "showbackground": true,
            "ticks": "",
            "zerolinecolor": "white"
           },
           "zaxis": {
            "backgroundcolor": "#E5ECF6",
            "gridcolor": "white",
            "gridwidth": 2,
            "linecolor": "white",
            "showbackground": true,
            "ticks": "",
            "zerolinecolor": "white"
           }
          },
          "shapedefaults": {
           "line": {
            "color": "#2a3f5f"
           }
          },
          "ternary": {
           "aaxis": {
            "gridcolor": "white",
            "linecolor": "white",
            "ticks": ""
           },
           "baxis": {
            "gridcolor": "white",
            "linecolor": "white",
            "ticks": ""
           },
           "bgcolor": "#E5ECF6",
           "caxis": {
            "gridcolor": "white",
            "linecolor": "white",
            "ticks": ""
           }
          },
          "title": {
           "x": 0.05
          },
          "xaxis": {
           "automargin": true,
           "gridcolor": "white",
           "linecolor": "white",
           "ticks": "",
           "title": {
            "standoff": 15
           },
           "zerolinecolor": "white",
           "zerolinewidth": 2
          },
          "yaxis": {
           "automargin": true,
           "gridcolor": "white",
           "linecolor": "white",
           "ticks": "",
           "title": {
            "standoff": 15
           },
           "zerolinecolor": "white",
           "zerolinewidth": 2
          }
         }
        },
        "width": 220,
        "xaxis": {
         "anchor": "y",
         "domain": [
          0,
          1
         ],
         "gridcolor": "lightgrey",
         "tickfont": {
          "size": 10.5
         },
         "tickmode": "array",
         "title": {
          "font": {
           "size": 10.5
          },
          "standoff": 5,
          "text": "Expert query volume"
         },
         "type": "log"
        },
        "yaxis": {
         "anchor": "x",
         "domain": [
          0,
          1
         ],
         "gridcolor": "lightgrey",
         "tickfont": {
          "size": 10.5
         },
         "tickvals": [
          0,
          0.1,
          0.2,
          0.3,
          0.4,
          0.5,
          0.6,
          0.7,
          0.8,
          0.9,
          1
         ],
         "title": {
          "font": {
           "size": 10.5
          },
          "standoff": 5,
          "text": "f1-score ± 99% CI"
         }
        }
       }
      }
     },
     "metadata": {},
     "output_type": "display_data"
    }
   ],
   "source": [
    "import plotly.graph_objects as go\n",
    "from plotly.subplots import make_subplots\n",
    "import numpy as np\n",
    "\n",
    "import plotly.graph_objects as go\n",
    "import plotly.express as px\n",
    "\n",
    "dataset = 'MagicTelescope'\n",
    "\n",
    "approaches = {\n",
    "    #'EEneuralcbpside_v5': {'color': [255, 255, 0], 'label': 'EEneuralcbpside_v5'},  # Red\n",
    "    'IneurAL (official)': {'color': [255, 161, 90], 'label':'IneurAL6'},                    # Yellow\n",
    "    'IneurAL (tuned)': {'color': [25, 211, 243], 'label':'IneurAL3'},                    # Cyan\n",
    "    'Neuronal (official)': {'color': [255, 102, 146], 'label':'neuronal6'},                  # Magenta\n",
    "    'Neuronal (tuned)': {'color': [182, 232, 128], 'label':'neuronal3'},                   # Orange\n",
    "    'Margin': {'color': [255, 151, 255], 'label':'margin'},\n",
    "    'Cesa': {'color': [254, 203, 82], 'label':'cesa'},\n",
    "    'Neural-CBP': {'color': [171, 99, 250], 'label': 'EEneuralcbpside_v6'},  # Red\n",
    "}\n",
    "\n",
    "thresholds = ['f1_10', 'f1_25', 'f1_50', 'f1_100', 'f1_150',\n",
    "              'f1_250', 'f1_300', 'f1_400', 'f1_500', 'f1_750', \n",
    "              'f1_1000', 'f1_2500', 'f1_5000', 'f1_7500',]\n",
    "\n",
    "# Create a subplot with 1 row and 2 columns\n",
    "fig = make_subplots(rows=1, cols=1,) #subplot_titles=(\"f1-score\", \"# of labelled observations\")\n",
    "\n",
    "# Add your traces for the first figure to the first subplot\n",
    "for approach in approaches.keys():\n",
    "    # ... [your existing code for calculating mean_values, std_values, and color] ...\n",
    "    mean_values = [] \n",
    "    std_values = []\n",
    "    r,g,b = approaches[approach]['color']\n",
    "    \n",
    "    for threshold in thresholds:\n",
    "        mean_value = df_mean[(df_mean['Dataset'] == dataset) & (df_mean['Approach'] == approach)][threshold].values[0]\n",
    "        mean_values.append(mean_value)\n",
    "\n",
    "        std_value = df_std[(df_std['Dataset'] == dataset) & (df_std['Approach'] == approach)][threshold].values[0]\n",
    "        std_values.append( 2.575 * std_value / n_folds  )\n",
    "        # std_values.append(  std_value)\n",
    "\n",
    "    fig.add_trace(go.Scatter(\n",
    "        x=[10, 25, 50, 100, 150, 250, 300, 400, 500, 750, 1000, 2500, 5000, 7500, 9000], \n",
    "        y=mean_values,\n",
    "        error_y=dict(type='data', array=std_values, visible=True, thickness=1, width=3),\n",
    "        line=dict(dash='solid', width=1, color='rgba({},{},{},1)'.format(r,g,b)),\n",
    "        marker=dict(size=2.5),\n",
    "        name=approach), \n",
    "        row=1, col=1)\n",
    "\n",
    "# Add your traces for the second figure to the second subplot\n",
    "# for approach in approaches.keys():\n",
    "#     # ... [your existing code for calculating explo_value, upper, and color] ...\n",
    "#     r,g,b = approaches[approach]['color']\n",
    "#     explo_value = explo_final['MLP'][dataset][approach]\n",
    "#     upper = explo_value + explo2_final['MLP'][dataset][approach]\n",
    "#     xcoords = np.arange(0,horizon,1).tolist()\n",
    "\n",
    "#     fig.add_trace(go.Scatter(\n",
    "#         x=xcoords+xcoords[::-1], \n",
    "#         y=upper.tolist()+explo_value.tolist()[::-1],  \n",
    "#         fill='toself',\n",
    "#         fillcolor='rgba({},{},{},0.2)'.format(r,g,b),\n",
    "#         line=dict(color='rgba({},{},{},1)'.format(r,g,b), width=0),\n",
    "#         hoverinfo=\"skip\"),\n",
    "#         row=1, col=2)\n",
    "    \n",
    "#     fig.add_trace(go.Scatter(\n",
    "#         x=xcoords, \n",
    "#         y=explo_value,\n",
    "#         line=dict(dash='solid', width=2, color='rgba({},{},{},1)'.format(r,g,b)),\n",
    "#         name=approach), \n",
    "#         row=1, col=2)\n",
    "\n",
    "# Update layout and axes for the combined figure\n",
    "siz = 12.5\n",
    "fig.update_layout(\n",
    "    width=220,  # Adjusted for two subplots\n",
    "    height=180,\n",
    "    plot_bgcolor='white',\n",
    "    paper_bgcolor='white',\n",
    "    margin=dict(l=0, r=0, t=0, b=0),\n",
    "    showlegend=False\n",
    ")\n",
    "\n",
    "# Update xaxis and yaxis properties for each subplot\n",
    "fig.update_xaxes(title_text=\"Expert query volume\", row=1, col=1, gridcolor='lightgrey', tickmode='array', type=\"log\", title_standoff=5, title_font=dict(size=siz-2), tickfont=dict(size=siz-2))\n",
    "fig.update_yaxes(title_text=\"f1-score ± 99% CI\",  row=1, col=1, gridcolor='lightgrey', #range=[0,1.05]\n",
    "                 title_standoff=5, title_font=dict(size=siz-2), tickfont=dict(size=siz-2), tickvals=[0, 0.1, 0.2, 0.3, 0.4, 0.5, 0.6, 0.7, 0.8, 0.9, 1] )\n",
    "\n",
    "# fig.update_xaxes(title_text=\"Round\", row=1, col=2, gridcolor='lightgrey', tickmode='array', title_standoff=5, title_font=dict(size=siz-2), tickfont=dict(size=siz-2))\n",
    "# fig.update_yaxes(title_text=\"# of labels ± 99% CI\", range=[0,4.5], row=1, col=2, gridcolor='lightgrey',type=\"log\", title_standoff=0, title_font=dict(size=siz-2), tickfont=dict(size=siz-2))\n",
    "\n",
    "fig.show()\n",
    "\n",
    "# Save the combined figure as a PDF\n",
    "# fig.write_image(\"./figures/combined_{}_{}_{}.pdf\".format(case, model, dataset))\n",
    "fig.write_image(\"./figures/tst.pdf\".format(case, model, dataset))\n",
    "fig.write_image(\"./figures/f1_{}_{}_{}.pdf\".format(case, model, dataset))\n"
   ]
  },
  {
   "cell_type": "code",
   "execution_count": 87,
   "metadata": {},
   "outputs": [
    {
     "data": {
      "application/vnd.plotly.v1+json": {
       "config": {
        "plotlyServerURL": "https://plot.ly"
       },
       "data": [
        {
         "error_y": {
          "array": [
           0.15909665572056395,
           0.16887934431985488,
           0.1681275227780055,
           0.11732680043103827,
           0.11408044109856885,
           0.05706118511700282,
           0.0577193378287307,
           0.060754337203515314,
           0.05279031818247331,
           0.02950947386722061,
           0.027561822642741596,
           0.011206834963939377,
           0.013854061342890824,
           0.03263557949307548
          ],
          "thickness": 1,
          "type": "data",
          "visible": true,
          "width": 3
         },
         "line": {
          "color": "rgba(255,161,90,1)",
          "dash": "solid",
          "width": 2
         },
         "marker": {
          "size": 2.5
         },
         "name": "IneurAL (official)",
         "type": "scatter",
         "x": [
          10,
          25,
          50,
          100,
          150,
          250,
          300,
          400,
          500,
          750,
          1000,
          2500,
          5000,
          7500,
          9000
         ],
         "xaxis": "x",
         "y": [
          0.5249037700603649,
          0.5538880573266939,
          0.5777775141235899,
          0.6487319453940401,
          0.6802970382377697,
          0.7157223479096189,
          0.721844787364654,
          0.741577602132334,
          0.7545511992133521,
          0.7705963200983043,
          0.7746263059018872,
          0.7915678916259834,
          0.7896954876474256,
          0.7890709527053561
         ],
         "yaxis": "y"
        },
        {
         "error_y": {
          "array": [
           0.12863456708185672,
           0.15102750426372652,
           0.13107897807366933,
           0.07406616496511105,
           0.05862868238908259,
           0.05670904709033885,
           0.05738797555908231,
           0.1378397608725395,
           0.13889002337202738,
           0.021788862936269766,
           0.020489450306614664,
           0.014009975613295452,
           0.01247388484421236,
           null
          ],
          "thickness": 1,
          "type": "data",
          "visible": true,
          "width": 3
         },
         "line": {
          "color": "rgba(25,211,243,1)",
          "dash": "solid",
          "width": 2
         },
         "marker": {
          "size": 2.5
         },
         "name": "IneurAL (tuned)",
         "type": "scatter",
         "x": [
          10,
          25,
          50,
          100,
          150,
          250,
          300,
          400,
          500,
          750,
          1000,
          2500,
          5000,
          7500,
          9000
         ],
         "xaxis": "x",
         "y": [
          0.5437728363136186,
          0.5413516593248177,
          0.5829868344304923,
          0.6510053713088806,
          0.6945602312038692,
          0.7345436046465716,
          0.74178834924404,
          0.7331318267370179,
          0.7412625215890231,
          0.7794340438006199,
          0.7892375564178911,
          0.805176912191023,
          0.801097206514585,
          null
         ],
         "yaxis": "y"
        },
        {
         "error_y": {
          "array": [
           0.1208542944032553,
           0.06633246596103681,
           0.05746674177803335,
           0.05796459227513297,
           0.05522332300319036,
           0.05138992973277556,
           0.04759091432903349,
           0.04611004657989672,
           0.04602933593655951,
           0.046958988737075935,
           0.045885585215014964,
           0.015742608592766504,
           null,
           null
          ],
          "thickness": 1,
          "type": "data",
          "visible": true,
          "width": 3
         },
         "line": {
          "color": "rgba(255,102,146,1)",
          "dash": "solid",
          "width": 2
         },
         "marker": {
          "size": 2.5
         },
         "name": "Neuronal (official)",
         "type": "scatter",
         "x": [
          10,
          25,
          50,
          100,
          150,
          250,
          300,
          400,
          500,
          750,
          1000,
          2500,
          5000,
          7500,
          9000
         ],
         "xaxis": "x",
         "y": [
          0.5173964232492969,
          0.6365715550727102,
          0.650153416580128,
          0.6566156983136592,
          0.6676706751321677,
          0.6838096603535909,
          0.6882871724192069,
          0.6932196494478465,
          0.695578330302517,
          0.7014008325358221,
          0.7110325763646815,
          0.7752579846883096,
          null,
          null
         ],
         "yaxis": "y"
        },
        {
         "error_y": {
          "array": [
           null,
           null,
           null,
           null,
           null,
           null,
           null,
           null,
           null,
           null,
           null,
           null,
           null,
           null
          ],
          "thickness": 1,
          "type": "data",
          "visible": true,
          "width": 3
         },
         "line": {
          "color": "rgba(182,232,128,1)",
          "dash": "solid",
          "width": 2
         },
         "marker": {
          "size": 2.5
         },
         "name": "Neuronal (tuned)",
         "type": "scatter",
         "x": [
          10,
          25,
          50,
          100,
          150,
          250,
          300,
          400,
          500,
          750,
          1000,
          2500,
          5000,
          7500,
          9000
         ],
         "xaxis": "x",
         "y": [
          0.6468899189664531,
          0.6703147303961643,
          0.6686375030828691,
          0.6592000601535309,
          0.6686375030828691,
          0.6643088058193075,
          0.6695126547909498,
          0.6697972164593996,
          null,
          null,
          null,
          null,
          null,
          null
         ],
         "yaxis": "y"
        },
        {
         "error_y": {
          "array": [
           0.16783670464491054,
           0.16800654168571,
           0.17202902532427775,
           0.23643587806582292,
           null,
           null,
           null,
           null,
           null,
           null,
           null,
           null,
           null,
           null
          ],
          "thickness": 1,
          "type": "data",
          "visible": true,
          "width": 3
         },
         "line": {
          "color": "rgba(255,151,255,1)",
          "dash": "solid",
          "width": 2
         },
         "marker": {
          "size": 2.5
         },
         "name": "Margin",
         "type": "scatter",
         "x": [
          10,
          25,
          50,
          100,
          150,
          250,
          300,
          400,
          500,
          750,
          1000,
          2500,
          5000,
          7500,
          9000
         ],
         "xaxis": "x",
         "y": [
          0.3461637707100547,
          0.3367258861542408,
          0.36009819349568456,
          0.342520206602418,
          null,
          null,
          null,
          null,
          null,
          null,
          null,
          null,
          null,
          null
         ],
         "yaxis": "y"
        },
        {
         "error_y": {
          "array": [
           0.16670332795766415,
           0.16670332795766415,
           0.16670332795766415,
           0.16885121839079753,
           0.16897233330892725,
           0.14830383667809244,
           0.1531848103680448,
           0.0056674250546144824,
           null,
           null,
           null,
           null,
           null,
           null
          ],
          "thickness": 1,
          "type": "data",
          "visible": true,
          "width": 3
         },
         "line": {
          "color": "rgba(254,203,82,1)",
          "dash": "solid",
          "width": 2
         },
         "marker": {
          "size": 2.5
         },
         "name": "Cesa",
         "type": "scatter",
         "x": [
          10,
          25,
          50,
          100,
          150,
          250,
          300,
          400,
          500,
          750,
          1000,
          2500,
          5000,
          7500,
          9000
         ],
         "xaxis": "x",
         "y": [
          0.37294585865296676,
          0.37294585865296676,
          0.37294585865296676,
          0.36620558197542324,
          0.3566644624341005,
          0.2695479062449219,
          0.2784667344328208,
          0.1837417006703981,
          null,
          null,
          null,
          null,
          null,
          null
         ],
         "yaxis": "y"
        },
        {
         "error_y": {
          "array": [
           0.05617853412592151,
           0.03654324307687324,
           0.03609894001746475,
           0.031150257219457987,
           0.026914843279259568,
           0.026554367075666847,
           0.02223818123276147,
           0.016161816091708133,
           0.015070231088174948,
           0.004360433351577699,
           null,
           null,
           null,
           null
          ],
          "thickness": 1,
          "type": "data",
          "visible": true,
          "width": 3
         },
         "line": {
          "color": "rgba(171,99,250,1)",
          "dash": "solid",
          "width": 2
         },
         "marker": {
          "size": 2.5
         },
         "name": "Neural-CBP",
         "type": "scatter",
         "x": [
          10,
          25,
          50,
          100,
          150,
          250,
          300,
          400,
          500,
          750,
          1000,
          2500,
          5000,
          7500,
          9000
         ],
         "xaxis": "x",
         "y": [
          0.6008717565963353,
          0.6445126085191532,
          0.6755583492242256,
          0.6974951799619328,
          0.7117118795500095,
          0.7409749725595468,
          0.7509080691459109,
          0.7715516472630727,
          0.7818471489071431,
          0.8019524571952884,
          null,
          null,
          null,
          null
         ],
         "yaxis": "y"
        }
       ],
       "layout": {
        "height": 180,
        "legend": {
         "bgcolor": "rgba(0,0,0,0)",
         "font": {
          "size": 12.5
         },
         "orientation": "v",
         "x": 0.5,
         "xanchor": "center",
         "y": 0.5,
         "yanchor": "middle"
        },
        "margin": {
         "b": 0,
         "l": 0,
         "r": 0,
         "t": 3
        },
        "paper_bgcolor": "white",
        "plot_bgcolor": "white",
        "showlegend": true,
        "template": {
         "data": {
          "bar": [
           {
            "error_x": {
             "color": "#2a3f5f"
            },
            "error_y": {
             "color": "#2a3f5f"
            },
            "marker": {
             "line": {
              "color": "#E5ECF6",
              "width": 0.5
             },
             "pattern": {
              "fillmode": "overlay",
              "size": 10,
              "solidity": 0.2
             }
            },
            "type": "bar"
           }
          ],
          "barpolar": [
           {
            "marker": {
             "line": {
              "color": "#E5ECF6",
              "width": 0.5
             },
             "pattern": {
              "fillmode": "overlay",
              "size": 10,
              "solidity": 0.2
             }
            },
            "type": "barpolar"
           }
          ],
          "carpet": [
           {
            "aaxis": {
             "endlinecolor": "#2a3f5f",
             "gridcolor": "white",
             "linecolor": "white",
             "minorgridcolor": "white",
             "startlinecolor": "#2a3f5f"
            },
            "baxis": {
             "endlinecolor": "#2a3f5f",
             "gridcolor": "white",
             "linecolor": "white",
             "minorgridcolor": "white",
             "startlinecolor": "#2a3f5f"
            },
            "type": "carpet"
           }
          ],
          "choropleth": [
           {
            "colorbar": {
             "outlinewidth": 0,
             "ticks": ""
            },
            "type": "choropleth"
           }
          ],
          "contour": [
           {
            "colorbar": {
             "outlinewidth": 0,
             "ticks": ""
            },
            "colorscale": [
             [
              0,
              "#0d0887"
             ],
             [
              0.1111111111111111,
              "#46039f"
             ],
             [
              0.2222222222222222,
              "#7201a8"
             ],
             [
              0.3333333333333333,
              "#9c179e"
             ],
             [
              0.4444444444444444,
              "#bd3786"
             ],
             [
              0.5555555555555556,
              "#d8576b"
             ],
             [
              0.6666666666666666,
              "#ed7953"
             ],
             [
              0.7777777777777778,
              "#fb9f3a"
             ],
             [
              0.8888888888888888,
              "#fdca26"
             ],
             [
              1,
              "#f0f921"
             ]
            ],
            "type": "contour"
           }
          ],
          "contourcarpet": [
           {
            "colorbar": {
             "outlinewidth": 0,
             "ticks": ""
            },
            "type": "contourcarpet"
           }
          ],
          "heatmap": [
           {
            "colorbar": {
             "outlinewidth": 0,
             "ticks": ""
            },
            "colorscale": [
             [
              0,
              "#0d0887"
             ],
             [
              0.1111111111111111,
              "#46039f"
             ],
             [
              0.2222222222222222,
              "#7201a8"
             ],
             [
              0.3333333333333333,
              "#9c179e"
             ],
             [
              0.4444444444444444,
              "#bd3786"
             ],
             [
              0.5555555555555556,
              "#d8576b"
             ],
             [
              0.6666666666666666,
              "#ed7953"
             ],
             [
              0.7777777777777778,
              "#fb9f3a"
             ],
             [
              0.8888888888888888,
              "#fdca26"
             ],
             [
              1,
              "#f0f921"
             ]
            ],
            "type": "heatmap"
           }
          ],
          "heatmapgl": [
           {
            "colorbar": {
             "outlinewidth": 0,
             "ticks": ""
            },
            "colorscale": [
             [
              0,
              "#0d0887"
             ],
             [
              0.1111111111111111,
              "#46039f"
             ],
             [
              0.2222222222222222,
              "#7201a8"
             ],
             [
              0.3333333333333333,
              "#9c179e"
             ],
             [
              0.4444444444444444,
              "#bd3786"
             ],
             [
              0.5555555555555556,
              "#d8576b"
             ],
             [
              0.6666666666666666,
              "#ed7953"
             ],
             [
              0.7777777777777778,
              "#fb9f3a"
             ],
             [
              0.8888888888888888,
              "#fdca26"
             ],
             [
              1,
              "#f0f921"
             ]
            ],
            "type": "heatmapgl"
           }
          ],
          "histogram": [
           {
            "marker": {
             "pattern": {
              "fillmode": "overlay",
              "size": 10,
              "solidity": 0.2
             }
            },
            "type": "histogram"
           }
          ],
          "histogram2d": [
           {
            "colorbar": {
             "outlinewidth": 0,
             "ticks": ""
            },
            "colorscale": [
             [
              0,
              "#0d0887"
             ],
             [
              0.1111111111111111,
              "#46039f"
             ],
             [
              0.2222222222222222,
              "#7201a8"
             ],
             [
              0.3333333333333333,
              "#9c179e"
             ],
             [
              0.4444444444444444,
              "#bd3786"
             ],
             [
              0.5555555555555556,
              "#d8576b"
             ],
             [
              0.6666666666666666,
              "#ed7953"
             ],
             [
              0.7777777777777778,
              "#fb9f3a"
             ],
             [
              0.8888888888888888,
              "#fdca26"
             ],
             [
              1,
              "#f0f921"
             ]
            ],
            "type": "histogram2d"
           }
          ],
          "histogram2dcontour": [
           {
            "colorbar": {
             "outlinewidth": 0,
             "ticks": ""
            },
            "colorscale": [
             [
              0,
              "#0d0887"
             ],
             [
              0.1111111111111111,
              "#46039f"
             ],
             [
              0.2222222222222222,
              "#7201a8"
             ],
             [
              0.3333333333333333,
              "#9c179e"
             ],
             [
              0.4444444444444444,
              "#bd3786"
             ],
             [
              0.5555555555555556,
              "#d8576b"
             ],
             [
              0.6666666666666666,
              "#ed7953"
             ],
             [
              0.7777777777777778,
              "#fb9f3a"
             ],
             [
              0.8888888888888888,
              "#fdca26"
             ],
             [
              1,
              "#f0f921"
             ]
            ],
            "type": "histogram2dcontour"
           }
          ],
          "mesh3d": [
           {
            "colorbar": {
             "outlinewidth": 0,
             "ticks": ""
            },
            "type": "mesh3d"
           }
          ],
          "parcoords": [
           {
            "line": {
             "colorbar": {
              "outlinewidth": 0,
              "ticks": ""
             }
            },
            "type": "parcoords"
           }
          ],
          "pie": [
           {
            "automargin": true,
            "type": "pie"
           }
          ],
          "scatter": [
           {
            "fillpattern": {
             "fillmode": "overlay",
             "size": 10,
             "solidity": 0.2
            },
            "type": "scatter"
           }
          ],
          "scatter3d": [
           {
            "line": {
             "colorbar": {
              "outlinewidth": 0,
              "ticks": ""
             }
            },
            "marker": {
             "colorbar": {
              "outlinewidth": 0,
              "ticks": ""
             }
            },
            "type": "scatter3d"
           }
          ],
          "scattercarpet": [
           {
            "marker": {
             "colorbar": {
              "outlinewidth": 0,
              "ticks": ""
             }
            },
            "type": "scattercarpet"
           }
          ],
          "scattergeo": [
           {
            "marker": {
             "colorbar": {
              "outlinewidth": 0,
              "ticks": ""
             }
            },
            "type": "scattergeo"
           }
          ],
          "scattergl": [
           {
            "marker": {
             "colorbar": {
              "outlinewidth": 0,
              "ticks": ""
             }
            },
            "type": "scattergl"
           }
          ],
          "scattermapbox": [
           {
            "marker": {
             "colorbar": {
              "outlinewidth": 0,
              "ticks": ""
             }
            },
            "type": "scattermapbox"
           }
          ],
          "scatterpolar": [
           {
            "marker": {
             "colorbar": {
              "outlinewidth": 0,
              "ticks": ""
             }
            },
            "type": "scatterpolar"
           }
          ],
          "scatterpolargl": [
           {
            "marker": {
             "colorbar": {
              "outlinewidth": 0,
              "ticks": ""
             }
            },
            "type": "scatterpolargl"
           }
          ],
          "scatterternary": [
           {
            "marker": {
             "colorbar": {
              "outlinewidth": 0,
              "ticks": ""
             }
            },
            "type": "scatterternary"
           }
          ],
          "surface": [
           {
            "colorbar": {
             "outlinewidth": 0,
             "ticks": ""
            },
            "colorscale": [
             [
              0,
              "#0d0887"
             ],
             [
              0.1111111111111111,
              "#46039f"
             ],
             [
              0.2222222222222222,
              "#7201a8"
             ],
             [
              0.3333333333333333,
              "#9c179e"
             ],
             [
              0.4444444444444444,
              "#bd3786"
             ],
             [
              0.5555555555555556,
              "#d8576b"
             ],
             [
              0.6666666666666666,
              "#ed7953"
             ],
             [
              0.7777777777777778,
              "#fb9f3a"
             ],
             [
              0.8888888888888888,
              "#fdca26"
             ],
             [
              1,
              "#f0f921"
             ]
            ],
            "type": "surface"
           }
          ],
          "table": [
           {
            "cells": {
             "fill": {
              "color": "#EBF0F8"
             },
             "line": {
              "color": "white"
             }
            },
            "header": {
             "fill": {
              "color": "#C8D4E3"
             },
             "line": {
              "color": "white"
             }
            },
            "type": "table"
           }
          ]
         },
         "layout": {
          "annotationdefaults": {
           "arrowcolor": "#2a3f5f",
           "arrowhead": 0,
           "arrowwidth": 1
          },
          "autotypenumbers": "strict",
          "coloraxis": {
           "colorbar": {
            "outlinewidth": 0,
            "ticks": ""
           }
          },
          "colorscale": {
           "diverging": [
            [
             0,
             "#8e0152"
            ],
            [
             0.1,
             "#c51b7d"
            ],
            [
             0.2,
             "#de77ae"
            ],
            [
             0.3,
             "#f1b6da"
            ],
            [
             0.4,
             "#fde0ef"
            ],
            [
             0.5,
             "#f7f7f7"
            ],
            [
             0.6,
             "#e6f5d0"
            ],
            [
             0.7,
             "#b8e186"
            ],
            [
             0.8,
             "#7fbc41"
            ],
            [
             0.9,
             "#4d9221"
            ],
            [
             1,
             "#276419"
            ]
           ],
           "sequential": [
            [
             0,
             "#0d0887"
            ],
            [
             0.1111111111111111,
             "#46039f"
            ],
            [
             0.2222222222222222,
             "#7201a8"
            ],
            [
             0.3333333333333333,
             "#9c179e"
            ],
            [
             0.4444444444444444,
             "#bd3786"
            ],
            [
             0.5555555555555556,
             "#d8576b"
            ],
            [
             0.6666666666666666,
             "#ed7953"
            ],
            [
             0.7777777777777778,
             "#fb9f3a"
            ],
            [
             0.8888888888888888,
             "#fdca26"
            ],
            [
             1,
             "#f0f921"
            ]
           ],
           "sequentialminus": [
            [
             0,
             "#0d0887"
            ],
            [
             0.1111111111111111,
             "#46039f"
            ],
            [
             0.2222222222222222,
             "#7201a8"
            ],
            [
             0.3333333333333333,
             "#9c179e"
            ],
            [
             0.4444444444444444,
             "#bd3786"
            ],
            [
             0.5555555555555556,
             "#d8576b"
            ],
            [
             0.6666666666666666,
             "#ed7953"
            ],
            [
             0.7777777777777778,
             "#fb9f3a"
            ],
            [
             0.8888888888888888,
             "#fdca26"
            ],
            [
             1,
             "#f0f921"
            ]
           ]
          },
          "colorway": [
           "#636efa",
           "#EF553B",
           "#00cc96",
           "#ab63fa",
           "#FFA15A",
           "#19d3f3",
           "#FF6692",
           "#B6E880",
           "#FF97FF",
           "#FECB52"
          ],
          "font": {
           "color": "#2a3f5f"
          },
          "geo": {
           "bgcolor": "white",
           "lakecolor": "white",
           "landcolor": "#E5ECF6",
           "showlakes": true,
           "showland": true,
           "subunitcolor": "white"
          },
          "hoverlabel": {
           "align": "left"
          },
          "hovermode": "closest",
          "mapbox": {
           "style": "light"
          },
          "paper_bgcolor": "white",
          "plot_bgcolor": "#E5ECF6",
          "polar": {
           "angularaxis": {
            "gridcolor": "white",
            "linecolor": "white",
            "ticks": ""
           },
           "bgcolor": "#E5ECF6",
           "radialaxis": {
            "gridcolor": "white",
            "linecolor": "white",
            "ticks": ""
           }
          },
          "scene": {
           "xaxis": {
            "backgroundcolor": "#E5ECF6",
            "gridcolor": "white",
            "gridwidth": 2,
            "linecolor": "white",
            "showbackground": true,
            "ticks": "",
            "zerolinecolor": "white"
           },
           "yaxis": {
            "backgroundcolor": "#E5ECF6",
            "gridcolor": "white",
            "gridwidth": 2,
            "linecolor": "white",
            "showbackground": true,
            "ticks": "",
            "zerolinecolor": "white"
           },
           "zaxis": {
            "backgroundcolor": "#E5ECF6",
            "gridcolor": "white",
            "gridwidth": 2,
            "linecolor": "white",
            "showbackground": true,
            "ticks": "",
            "zerolinecolor": "white"
           }
          },
          "shapedefaults": {
           "line": {
            "color": "#2a3f5f"
           }
          },
          "ternary": {
           "aaxis": {
            "gridcolor": "white",
            "linecolor": "white",
            "ticks": ""
           },
           "baxis": {
            "gridcolor": "white",
            "linecolor": "white",
            "ticks": ""
           },
           "bgcolor": "#E5ECF6",
           "caxis": {
            "gridcolor": "white",
            "linecolor": "white",
            "ticks": ""
           }
          },
          "title": {
           "x": 0.05
          },
          "xaxis": {
           "automargin": true,
           "gridcolor": "white",
           "linecolor": "white",
           "ticks": "",
           "title": {
            "standoff": 15
           },
           "zerolinecolor": "white",
           "zerolinewidth": 2
          },
          "yaxis": {
           "automargin": true,
           "gridcolor": "white",
           "linecolor": "white",
           "ticks": "",
           "title": {
            "standoff": 15
           },
           "zerolinecolor": "white",
           "zerolinewidth": 2
          }
         }
        },
        "width": 220,
        "xaxis": {
         "anchor": "y",
         "domain": [
          0,
          1
         ],
         "gridcolor": "lightgrey",
         "tickfont": {
          "size": 10.5
         },
         "tickmode": "array",
         "title": {
          "font": {
           "size": 10.5
          },
          "standoff": 5,
          "text": "Round"
         },
         "type": "log"
        },
        "yaxis": {
         "anchor": "x",
         "domain": [
          0,
          1
         ],
         "gridcolor": "lightgrey",
         "tickfont": {
          "size": 10.5
         },
         "title": {
          "font": {
           "size": 10.5
          },
          "standoff": 5,
          "text": "f1-score"
         }
        }
       }
      }
     },
     "metadata": {},
     "output_type": "display_data"
    }
   ],
   "source": [
    "import plotly.graph_objects as go\n",
    "from plotly.subplots import make_subplots\n",
    "import numpy as np\n",
    "\n",
    "import plotly.graph_objects as go\n",
    "import plotly.express as px\n",
    "\n",
    "dataset = 'MagicTelescope'\n",
    "\n",
    "approaches = {\n",
    "    #'EEneuralcbpside_v5': {'color': [255, 255, 0], 'labeMNISTbinaryl': 'EEneuralcbpside_v5'},  # Red\n",
    "    'IneurAL (official)': {'color': [255, 161, 90], 'label':'IneurAL6'},                    # Yellow\n",
    "    'IneurAL (tuned)': {'color': [25, 211, 243], 'label':'IneurAL3'},                    # Cyan\n",
    "    'Neuronal (official)': {'color': [255, 102, 146], 'label':'neuronal6'},                  # Magenta\n",
    "    'Neuronal (tuned)': {'color': [182, 232, 128], 'label':'neuronal3'},                   # Orange\n",
    "    'Margin': {'color': [255, 151, 255], 'label':'margin'},\n",
    "    'Cesa': {'color': [254, 203, 82], 'label':'cesa'},\n",
    "    'Neural-CBP': {'color': [171, 99, 250], 'label': 'EEneuralcbpside_v6'},  # Red\n",
    "}\n",
    "\n",
    "thresholds = ['f1_10', 'f1_25', 'f1_50', 'f1_100', 'f1_150',\n",
    "              'f1_250', 'f1_300', 'f1_400', 'f1_500', 'f1_750', \n",
    "              'f1_1000', 'f1_2500', 'f1_5000', 'f1_7500',]\n",
    "\n",
    "# Create a subplot with 1 row and 2 columns\n",
    "fig = make_subplots(rows=1, cols=1, ) #\n",
    "\n",
    "# Add your traces for the first figure to the first subplot\n",
    "for approach in approaches.keys():\n",
    "    # ... [your existing code for calculating mean_values, std_values, and color] ...\n",
    "    mean_values = [] \n",
    "    std_values = []\n",
    "    r,g,b = approaches[approach]['color']\n",
    "    \n",
    "    for threshold in thresholds:\n",
    "        mean_value = df_mean[(df_mean['Dataset'] == dataset) & (df_mean['Approach'] == approach)][threshold].values[0]\n",
    "        mean_values.append(mean_value)\n",
    "\n",
    "        std_value = df_std[(df_std['Dataset'] == dataset) & (df_std['Approach'] == approach)][threshold].values[0]\n",
    "        std_values.append(std_value)\n",
    "\n",
    "    fig.add_trace(go.Scatter(\n",
    "        x=[10, 25, 50, 100, 150, 250, 300, 400, 500, 750, 1000, 2500, 5000, 7500, 9000], \n",
    "        y=mean_values,\n",
    "        error_y=dict(type='data', array=std_values, visible=True, thickness=1, width=3),\n",
    "        line=dict(dash='solid', width=2, color='rgba({},{},{},1)'.format(r,g,b)),\n",
    "        marker=dict(size=2.5),\n",
    "        name=approach), \n",
    "        row=1, col=1)\n",
    "\n",
    "# Add your traces for the second figure to the second subplot\n",
    "# for approach in approaches.keys():\n",
    "#     # ... [your existing code for calculating explo_value, upper, and color] ...\n",
    "#     r,g,b = approaches[approach]['color']\n",
    "#     explo_value = explo_final['MLP'][dataset][approach]\n",
    "#     upper = explo_value + explo2_final['MLP'][dataset][approach]\n",
    "#     xcoords = np.arange(0,horizon,1).tolist()\n",
    "\n",
    "#     fig.add_trace(go.Scatter(\n",
    "#         x=xcoords+xcoords[::-1], \n",
    "#         y=upper.tolist()+explo_value.tolist()[::-1],  \n",
    "#         fill='toself',\n",
    "#         fillcolor='rgba({},{},{},0.2)'.format(r,g,b),\n",
    "#         showlegend=False,\n",
    "#         line=dict(color='rgba({},{},{},1)'.format(r,g,b), width=0),\n",
    "#         hoverinfo=\"skip\"),\n",
    "#         row=1, col=2)\n",
    "    \n",
    "#     fig.add_trace(go.Scatter(\n",
    "#         x=xcoords, \n",
    "#         y=explo_value,\n",
    "#         showlegend=False,\n",
    "#         line=dict(dash='solid', width=2, color='rgba({},{},{},1)'.format(r,g,b)),\n",
    "#         name=approach), \n",
    "#         row=1, col=2)\n",
    "\n",
    "# Update layout and axes for the combined figure\n",
    "siz = 12.5\n",
    "fig.update_layout(\n",
    "    width=220,  # Adjusted for two subplots\n",
    "    height=180,\n",
    "    plot_bgcolor='white',\n",
    "    paper_bgcolor='white',\n",
    "    margin=dict(l=0, r=0, t=3, b=0),\n",
    "    showlegend=True,\n",
    "    # xaxis=dict(showgrid=False, showticklabels=False, zeroline=False, visible=False),  # Set visible to False\n",
    "    # yaxis=dict(showgrid=False, showticklabels=False, zeroline=False, visible=False),  # Set visible to False\n",
    "\n",
    "    legend=dict(\n",
    "        orientation=\"v\",\n",
    "        yanchor=\"middle\",\n",
    "        y=0.5,  # Adjust this value to position the legend\n",
    "        xanchor=\"center\",\n",
    "        x=0.5,\n",
    "        bgcolor='rgba(0,0,0,0)',\n",
    "        font=dict(size=siz),  # Increase legend font size\n",
    "        # title=dict(\n",
    "        #     text='<b>Legend</b>',  # Set the text for your legend title\n",
    "        #     font=dict(size=siz)  # Optionally set the font size for the legend title\n",
    "        # )\n",
    "    )\n",
    ")\n",
    "\n",
    "# Update xaxis and yaxis properties for each subplot\n",
    "fig.update_xaxes(title_text=\"Round\", row=1, col=1, gridcolor='lightgrey', tickmode='array', type=\"log\", title_standoff=5, title_font=dict(size=siz-2), tickfont=dict(size=siz-2))\n",
    "fig.update_yaxes(title_text=\"f1-score\", row=1, col=1, gridcolor='lightgrey', title_standoff=5, title_font=dict(size=siz-2), tickfont=dict(size=siz-2))\n",
    "\n",
    "# fig.update_xaxes(title_text=\"Round\", row=1, col=2, gridcolor='lightgrey', tickmode='array', title_standoff=5, title_font=dict(size=siz-2), tickfont=dict(size=siz-2))\n",
    "# fig.update_yaxes(title_text=\"# of labelled observations\", row=1, col=2, gridcolor='lightgrey',type=\"log\", title_standoff=0, title_font=dict(size=siz-2), tickfont=dict(size=siz-2))\n",
    "\n",
    "fig.show()\n",
    "\n",
    "# Save the combined figure as a PDF\n",
    "fig.write_image(\"./figures/binary_legend.png\".format(case, model, dataset), scale=10)\n"
   ]
  },
  {
   "cell_type": "code",
   "execution_count": 63,
   "metadata": {},
   "outputs": [
    {
     "data": {
      "application/vnd.plotly.v1+json": {
       "config": {
        "plotlyServerURL": "https://plot.ly"
       },
       "data": [
        {
         "marker": {
          "color": "rgba(255,161,90,1)"
         },
         "mode": "markers",
         "name": "IneurAL6",
         "type": "scatter",
         "x": [
          null
         ],
         "y": [
          null
         ]
        },
        {
         "marker": {
          "color": "rgba(25,211,243,1)"
         },
         "mode": "markers",
         "name": "IneurAL3",
         "type": "scatter",
         "x": [
          null
         ],
         "y": [
          null
         ]
        },
        {
         "marker": {
          "color": "rgba(255,102,146,1)"
         },
         "mode": "markers",
         "name": "neuronal6",
         "type": "scatter",
         "x": [
          null
         ],
         "y": [
          null
         ]
        },
        {
         "marker": {
          "color": "rgba(182,232,128,1)"
         },
         "mode": "markers",
         "name": "neuronal3",
         "type": "scatter",
         "x": [
          null
         ],
         "y": [
          null
         ]
        },
        {
         "marker": {
          "color": "rgba(255,151,255,1)"
         },
         "mode": "markers",
         "name": "margin",
         "type": "scatter",
         "x": [
          null
         ],
         "y": [
          null
         ]
        },
        {
         "marker": {
          "color": "rgba(254,203,82,1)"
         },
         "mode": "markers",
         "name": "cesa",
         "type": "scatter",
         "x": [
          null
         ],
         "y": [
          null
         ]
        },
        {
         "marker": {
          "color": "rgba(171,99,250,1)"
         },
         "mode": "markers",
         "name": "EEneuralcbpside_v6",
         "type": "scatter",
         "x": [
          null
         ],
         "y": [
          null
         ]
        }
       ],
       "layout": {
        "height": 220,
        "legend": {
         "font": {
          "size": 12.5
         },
         "orientation": "v",
         "x": 0.5,
         "xanchor": "center",
         "y": 0.55,
         "yanchor": "middle"
        },
        "margin": {
         "b": 0,
         "l": 0,
         "r": 0,
         "t": 0
        },
        "paper_bgcolor": "white",
        "plot_bgcolor": "white",
        "showlegend": true,
        "template": {
         "data": {
          "bar": [
           {
            "error_x": {
             "color": "#2a3f5f"
            },
            "error_y": {
             "color": "#2a3f5f"
            },
            "marker": {
             "line": {
              "color": "#E5ECF6",
              "width": 0.5
             },
             "pattern": {
              "fillmode": "overlay",
              "size": 10,
              "solidity": 0.2
             }
            },
            "type": "bar"
           }
          ],
          "barpolar": [
           {
            "marker": {
             "line": {
              "color": "#E5ECF6",
              "width": 0.5
             },
             "pattern": {
              "fillmode": "overlay",
              "size": 10,
              "solidity": 0.2
             }
            },
            "type": "barpolar"
           }
          ],
          "carpet": [
           {
            "aaxis": {
             "endlinecolor": "#2a3f5f",
             "gridcolor": "white",
             "linecolor": "white",
             "minorgridcolor": "white",
             "startlinecolor": "#2a3f5f"
            },
            "baxis": {
             "endlinecolor": "#2a3f5f",
             "gridcolor": "white",
             "linecolor": "white",
             "minorgridcolor": "white",
             "startlinecolor": "#2a3f5f"
            },
            "type": "carpet"
           }
          ],
          "choropleth": [
           {
            "colorbar": {
             "outlinewidth": 0,
             "ticks": ""
            },
            "type": "choropleth"
           }
          ],
          "contour": [
           {
            "colorbar": {
             "outlinewidth": 0,
             "ticks": ""
            },
            "colorscale": [
             [
              0,
              "#0d0887"
             ],
             [
              0.1111111111111111,
              "#46039f"
             ],
             [
              0.2222222222222222,
              "#7201a8"
             ],
             [
              0.3333333333333333,
              "#9c179e"
             ],
             [
              0.4444444444444444,
              "#bd3786"
             ],
             [
              0.5555555555555556,
              "#d8576b"
             ],
             [
              0.6666666666666666,
              "#ed7953"
             ],
             [
              0.7777777777777778,
              "#fb9f3a"
             ],
             [
              0.8888888888888888,
              "#fdca26"
             ],
             [
              1,
              "#f0f921"
             ]
            ],
            "type": "contour"
           }
          ],
          "contourcarpet": [
           {
            "colorbar": {
             "outlinewidth": 0,
             "ticks": ""
            },
            "type": "contourcarpet"
           }
          ],
          "heatmap": [
           {
            "colorbar": {
             "outlinewidth": 0,
             "ticks": ""
            },
            "colorscale": [
             [
              0,
              "#0d0887"
             ],
             [
              0.1111111111111111,
              "#46039f"
             ],
             [
              0.2222222222222222,
              "#7201a8"
             ],
             [
              0.3333333333333333,
              "#9c179e"
             ],
             [
              0.4444444444444444,
              "#bd3786"
             ],
             [
              0.5555555555555556,
              "#d8576b"
             ],
             [
              0.6666666666666666,
              "#ed7953"
             ],
             [
              0.7777777777777778,
              "#fb9f3a"
             ],
             [
              0.8888888888888888,
              "#fdca26"
             ],
             [
              1,
              "#f0f921"
             ]
            ],
            "type": "heatmap"
           }
          ],
          "heatmapgl": [
           {
            "colorbar": {
             "outlinewidth": 0,
             "ticks": ""
            },
            "colorscale": [
             [
              0,
              "#0d0887"
             ],
             [
              0.1111111111111111,
              "#46039f"
             ],
             [
              0.2222222222222222,
              "#7201a8"
             ],
             [
              0.3333333333333333,
              "#9c179e"
             ],
             [
              0.4444444444444444,
              "#bd3786"
             ],
             [
              0.5555555555555556,
              "#d8576b"
             ],
             [
              0.6666666666666666,
              "#ed7953"
             ],
             [
              0.7777777777777778,
              "#fb9f3a"
             ],
             [
              0.8888888888888888,
              "#fdca26"
             ],
             [
              1,
              "#f0f921"
             ]
            ],
            "type": "heatmapgl"
           }
          ],
          "histogram": [
           {
            "marker": {
             "pattern": {
              "fillmode": "overlay",
              "size": 10,
              "solidity": 0.2
             }
            },
            "type": "histogram"
           }
          ],
          "histogram2d": [
           {
            "colorbar": {
             "outlinewidth": 0,
             "ticks": ""
            },
            "colorscale": [
             [
              0,
              "#0d0887"
             ],
             [
              0.1111111111111111,
              "#46039f"
             ],
             [
              0.2222222222222222,
              "#7201a8"
             ],
             [
              0.3333333333333333,
              "#9c179e"
             ],
             [
              0.4444444444444444,
              "#bd3786"
             ],
             [
              0.5555555555555556,
              "#d8576b"
             ],
             [
              0.6666666666666666,
              "#ed7953"
             ],
             [
              0.7777777777777778,
              "#fb9f3a"
             ],
             [
              0.8888888888888888,
              "#fdca26"
             ],
             [
              1,
              "#f0f921"
             ]
            ],
            "type": "histogram2d"
           }
          ],
          "histogram2dcontour": [
           {
            "colorbar": {
             "outlinewidth": 0,
             "ticks": ""
            },
            "colorscale": [
             [
              0,
              "#0d0887"
             ],
             [
              0.1111111111111111,
              "#46039f"
             ],
             [
              0.2222222222222222,
              "#7201a8"
             ],
             [
              0.3333333333333333,
              "#9c179e"
             ],
             [
              0.4444444444444444,
              "#bd3786"
             ],
             [
              0.5555555555555556,
              "#d8576b"
             ],
             [
              0.6666666666666666,
              "#ed7953"
             ],
             [
              0.7777777777777778,
              "#fb9f3a"
             ],
             [
              0.8888888888888888,
              "#fdca26"
             ],
             [
              1,
              "#f0f921"
             ]
            ],
            "type": "histogram2dcontour"
           }
          ],
          "mesh3d": [
           {
            "colorbar": {
             "outlinewidth": 0,
             "ticks": ""
            },
            "type": "mesh3d"
           }
          ],
          "parcoords": [
           {
            "line": {
             "colorbar": {
              "outlinewidth": 0,
              "ticks": ""
             }
            },
            "type": "parcoords"
           }
          ],
          "pie": [
           {
            "automargin": true,
            "type": "pie"
           }
          ],
          "scatter": [
           {
            "fillpattern": {
             "fillmode": "overlay",
             "size": 10,
             "solidity": 0.2
            },
            "type": "scatter"
           }
          ],
          "scatter3d": [
           {
            "line": {
             "colorbar": {
              "outlinewidth": 0,
              "ticks": ""
             }
            },
            "marker": {
             "colorbar": {
              "outlinewidth": 0,
              "ticks": ""
             }
            },
            "type": "scatter3d"
           }
          ],
          "scattercarpet": [
           {
            "marker": {
             "colorbar": {
              "outlinewidth": 0,
              "ticks": ""
             }
            },
            "type": "scattercarpet"
           }
          ],
          "scattergeo": [
           {
            "marker": {
             "colorbar": {
              "outlinewidth": 0,
              "ticks": ""
             }
            },
            "type": "scattergeo"
           }
          ],
          "scattergl": [
           {
            "marker": {
             "colorbar": {
              "outlinewidth": 0,
              "ticks": ""
             }
            },
            "type": "scattergl"
           }
          ],
          "scattermapbox": [
           {
            "marker": {
             "colorbar": {
              "outlinewidth": 0,
              "ticks": ""
             }
            },
            "type": "scattermapbox"
           }
          ],
          "scatterpolar": [
           {
            "marker": {
             "colorbar": {
              "outlinewidth": 0,
              "ticks": ""
             }
            },
            "type": "scatterpolar"
           }
          ],
          "scatterpolargl": [
           {
            "marker": {
             "colorbar": {
              "outlinewidth": 0,
              "ticks": ""
             }
            },
            "type": "scatterpolargl"
           }
          ],
          "scatterternary": [
           {
            "marker": {
             "colorbar": {
              "outlinewidth": 0,
              "ticks": ""
             }
            },
            "type": "scatterternary"
           }
          ],
          "surface": [
           {
            "colorbar": {
             "outlinewidth": 0,
             "ticks": ""
            },
            "colorscale": [
             [
              0,
              "#0d0887"
             ],
             [
              0.1111111111111111,
              "#46039f"
             ],
             [
              0.2222222222222222,
              "#7201a8"
             ],
             [
              0.3333333333333333,
              "#9c179e"
             ],
             [
              0.4444444444444444,
              "#bd3786"
             ],
             [
              0.5555555555555556,
              "#d8576b"
             ],
             [
              0.6666666666666666,
              "#ed7953"
             ],
             [
              0.7777777777777778,
              "#fb9f3a"
             ],
             [
              0.8888888888888888,
              "#fdca26"
             ],
             [
              1,
              "#f0f921"
             ]
            ],
            "type": "surface"
           }
          ],
          "table": [
           {
            "cells": {
             "fill": {
              "color": "#EBF0F8"
             },
             "line": {
              "color": "white"
             }
            },
            "header": {
             "fill": {
              "color": "#C8D4E3"
             },
             "line": {
              "color": "white"
             }
            },
            "type": "table"
           }
          ]
         },
         "layout": {
          "annotationdefaults": {
           "arrowcolor": "#2a3f5f",
           "arrowhead": 0,
           "arrowwidth": 1
          },
          "autotypenumbers": "strict",
          "coloraxis": {
           "colorbar": {
            "outlinewidth": 0,
            "ticks": ""
           }
          },
          "colorscale": {
           "diverging": [
            [
             0,
             "#8e0152"
            ],
            [
             0.1,
             "#c51b7d"
            ],
            [
             0.2,
             "#de77ae"
            ],
            [
             0.3,
             "#f1b6da"
            ],
            [
             0.4,
             "#fde0ef"
            ],
            [
             0.5,
             "#f7f7f7"
            ],
            [
             0.6,
             "#e6f5d0"
            ],
            [
             0.7,
             "#b8e186"
            ],
            [
             0.8,
             "#7fbc41"
            ],
            [
             0.9,
             "#4d9221"
            ],
            [
             1,
             "#276419"
            ]
           ],
           "sequential": [
            [
             0,
             "#0d0887"
            ],
            [
             0.1111111111111111,
             "#46039f"
            ],
            [
             0.2222222222222222,
             "#7201a8"
            ],
            [
             0.3333333333333333,
             "#9c179e"
            ],
            [
             0.4444444444444444,
             "#bd3786"
            ],
            [
             0.5555555555555556,
             "#d8576b"
            ],
            [
             0.6666666666666666,
             "#ed7953"
            ],
            [
             0.7777777777777778,
             "#fb9f3a"
            ],
            [
             0.8888888888888888,
             "#fdca26"
            ],
            [
             1,
             "#f0f921"
            ]
           ],
           "sequentialminus": [
            [
             0,
             "#0d0887"
            ],
            [
             0.1111111111111111,
             "#46039f"
            ],
            [
             0.2222222222222222,
             "#7201a8"
            ],
            [
             0.3333333333333333,
             "#9c179e"
            ],
            [
             0.4444444444444444,
             "#bd3786"
            ],
            [
             0.5555555555555556,
             "#d8576b"
            ],
            [
             0.6666666666666666,
             "#ed7953"
            ],
            [
             0.7777777777777778,
             "#fb9f3a"
            ],
            [
             0.8888888888888888,
             "#fdca26"
            ],
            [
             1,
             "#f0f921"
            ]
           ]
          },
          "colorway": [
           "#636efa",
           "#EF553B",
           "#00cc96",
           "#ab63fa",
           "#FFA15A",
           "#19d3f3",
           "#FF6692",
           "#B6E880",
           "#FF97FF",
           "#FECB52"
          ],
          "font": {
           "color": "#2a3f5f"
          },
          "geo": {
           "bgcolor": "white",
           "lakecolor": "white",
           "landcolor": "#E5ECF6",
           "showlakes": true,
           "showland": true,
           "subunitcolor": "white"
          },
          "hoverlabel": {
           "align": "left"
          },
          "hovermode": "closest",
          "mapbox": {
           "style": "light"
          },
          "paper_bgcolor": "white",
          "plot_bgcolor": "#E5ECF6",
          "polar": {
           "angularaxis": {
            "gridcolor": "white",
            "linecolor": "white",
            "ticks": ""
           },
           "bgcolor": "#E5ECF6",
           "radialaxis": {
            "gridcolor": "white",
            "linecolor": "white",
            "ticks": ""
           }
          },
          "scene": {
           "xaxis": {
            "backgroundcolor": "#E5ECF6",
            "gridcolor": "white",
            "gridwidth": 2,
            "linecolor": "white",
            "showbackground": true,
            "ticks": "",
            "zerolinecolor": "white"
           },
           "yaxis": {
            "backgroundcolor": "#E5ECF6",
            "gridcolor": "white",
            "gridwidth": 2,
            "linecolor": "white",
            "showbackground": true,
            "ticks": "",
            "zerolinecolor": "white"
           },
           "zaxis": {
            "backgroundcolor": "#E5ECF6",
            "gridcolor": "white",
            "gridwidth": 2,
            "linecolor": "white",
            "showbackground": true,
            "ticks": "",
            "zerolinecolor": "white"
           }
          },
          "shapedefaults": {
           "line": {
            "color": "#2a3f5f"
           }
          },
          "ternary": {
           "aaxis": {
            "gridcolor": "white",
            "linecolor": "white",
            "ticks": ""
           },
           "baxis": {
            "gridcolor": "white",
            "linecolor": "white",
            "ticks": ""
           },
           "bgcolor": "#E5ECF6",
           "caxis": {
            "gridcolor": "white",
            "linecolor": "white",
            "ticks": ""
           }
          },
          "title": {
           "x": 0.05
          },
          "xaxis": {
           "automargin": true,
           "gridcolor": "white",
           "linecolor": "white",
           "ticks": "",
           "title": {
            "standoff": 15
           },
           "zerolinecolor": "white",
           "zerolinewidth": 2
          },
          "yaxis": {
           "automargin": true,
           "gridcolor": "white",
           "linecolor": "white",
           "ticks": "",
           "title": {
            "standoff": 15
           },
           "zerolinecolor": "white",
           "zerolinewidth": 2
          }
         }
        },
        "width": 220,
        "xaxis": {
         "anchor": "y",
         "domain": [
          0,
          1
         ],
         "showgrid": false,
         "showticklabels": false,
         "visible": false,
         "zeroline": false
        },
        "yaxis": {
         "anchor": "x",
         "domain": [
          0,
          1
         ],
         "showgrid": false,
         "showticklabels": false,
         "visible": false,
         "zeroline": false
        }
       }
      }
     },
     "metadata": {},
     "output_type": "display_data"
    }
   ],
   "source": [
    "import plotly.graph_objects as go\n",
    "from plotly.subplots import make_subplots\n",
    "\n",
    "# ... [your existing setup code for 'approaches' dictionary]\n",
    "\n",
    "# Create an empty subplot\n",
    "fig = make_subplots(rows=1, cols=1)\n",
    "\n",
    "# Add your traces only for the purpose of generating the legend\n",
    "for approach, info in approaches.items():\n",
    "    r, g, b = info['color']\n",
    "    fig.add_trace(go.Scatter(\n",
    "        x=[None],\n",
    "        y=[None],\n",
    "        mode='markers',\n",
    "        marker=dict(color='rgba({},{},{},1)'.format(r, g, b)),\n",
    "        name=info['label']\n",
    "    ))\n",
    "\n",
    "# Update layout and axes for the figure\n",
    "fig.update_layout(\n",
    "    width=220,\n",
    "    height=220,\n",
    "    plot_bgcolor='white',\n",
    "    paper_bgcolor='white',\n",
    "    showlegend=True,\n",
    "    legend=dict(\n",
    "        orientation=\"v\",\n",
    "        yanchor=\"middle\",\n",
    "        y=0.55,  # Adjust if necessary to position the legend\n",
    "        xanchor=\"center\",\n",
    "        x=0.5,\n",
    "        font=dict(size=12.5)\n",
    "    ),\n",
    "    xaxis=dict(showgrid=False, showticklabels=False, zeroline=False, visible=False),  # Set visible to False\n",
    "    yaxis=dict(showgrid=False, showticklabels=False, zeroline=False, visible=False),  # Set visible to False\n",
    "    margin=dict(l=0, r=0, t=0, b=0)\n",
    ")\n",
    "\n",
    "# Show the figure\n",
    "fig.show()\n",
    "\n",
    "# Save the figure with only the legend as a PDF\n",
    "fig.write_image(\"./figures/binary_legend.pdf\")\n"
   ]
  }
 ],
 "metadata": {
  "kernelspec": {
   "display_name": ".venv",
   "language": "python",
   "name": "python3"
  },
  "language_info": {
   "codemirror_mode": {
    "name": "ipython",
    "version": 3
   },
   "file_extension": ".py",
   "mimetype": "text/x-python",
   "name": "python",
   "nbconvert_exporter": "python",
   "pygments_lexer": "ipython3",
   "version": "3.8.16"
  },
  "orig_nbformat": 4
 },
 "nbformat": 4,
 "nbformat_minor": 2
}
