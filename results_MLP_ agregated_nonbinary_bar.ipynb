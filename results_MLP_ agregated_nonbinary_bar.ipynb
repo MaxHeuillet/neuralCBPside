{
 "cells": [
  {
   "cell_type": "code",
   "execution_count": 13,
   "metadata": {},
   "outputs": [],
   "source": [
    "import os\n",
    "import numpy as np\n",
    "import plotly.graph_objects as go\n",
    "\n",
    "import gzip\n",
    "import pickle as pkl\n",
    "\n",
    "def loadall_results2(path, n_folds):\n",
    "    regret = []\n",
    "    history_actions = []\n",
    "    history_outcomes = []\n",
    "    perf = []\n",
    "    with gzip.open(  path ,'rb') as f:\n",
    "        for i in range(n_folds+1):\n",
    "            try:\n",
    "                data = pkl.load(f)\n",
    "            except EOFError:\n",
    "                break\n",
    "\n",
    "            if type(data) == dict:\n",
    "                regret.append( data['regret'] ) \n",
    "                history_actions.append( data['action_history'] )\n",
    "                history_outcomes.append( data['outcome_history'] ) \n",
    "                perf.append( data['pred'] ) \n",
    "\n",
    "    \n",
    "    return regret, history_actions, history_outcomes, perf"
   ]
  },
  {
   "cell_type": "code",
   "execution_count": 14,
   "metadata": {},
   "outputs": [],
   "source": [
    "n_folds = 25\n",
    "horizon = 9999\n",
    "context = 'covertype'\n",
    "model = 'MLP'\n",
    "case = 'game_case_seven'\n",
    "agent_name = 'ineural3' #ineural6, neuronal6\n",
    "\n",
    "direct = './results/'\n",
    "path = os.path.join(direct, '{}_{}_{}_{}_{}_{}.pkl.gz'.format(case,model,context,horizon,n_folds,agent_name) )\n",
    "regret, action_history,outcome_history, perf = loadall_results2(path, n_folds)\n",
    "\n",
    "\n"
   ]
  },
  {
   "cell_type": "code",
   "execution_count": 14,
   "metadata": {},
   "outputs": [
    {
     "name": "stdout",
     "output_type": "stream",
     "text": [
      "./results/case2_MLP_MNIST_9999_25_EEneuralcbpside_v6.pkl.gz\n",
      "25\n",
      "m [[885, 'MNIST', 'Neural-CBP'], [1167, 'MNIST', 'Neural-CBP'], [1060, 'MNIST', 'Neural-CBP'], [947, 'MNIST', 'Neural-CBP'], [1029, 'MNIST', 'Neural-CBP'], [1254, 'MNIST', 'Neural-CBP'], [1132, 'MNIST', 'Neural-CBP'], [1189, 'MNIST', 'Neural-CBP'], [1045, 'MNIST', 'Neural-CBP'], [1038, 'MNIST', 'Neural-CBP'], [1058, 'MNIST', 'Neural-CBP'], [1104, 'MNIST', 'Neural-CBP'], [1198, 'MNIST', 'Neural-CBP'], [1057, 'MNIST', 'Neural-CBP'], [1184, 'MNIST', 'Neural-CBP'], [1112, 'MNIST', 'Neural-CBP'], [1176, 'MNIST', 'Neural-CBP'], [1109, 'MNIST', 'Neural-CBP'], [1195, 'MNIST', 'Neural-CBP'], [1203, 'MNIST', 'Neural-CBP'], [1223, 'MNIST', 'Neural-CBP'], [1209, 'MNIST', 'Neural-CBP'], [1058, 'MNIST', 'Neural-CBP'], [1150, 'MNIST', 'Neural-CBP'], [1255, 'MNIST', 'Neural-CBP']]\n",
      "./results/case2_MLP_MNIST_9999_25_ineural6.pkl.gz\n",
      "25\n",
      "m [[3477, 'MNIST', 'IneurAL (official)'], [4246, 'MNIST', 'IneurAL (official)'], [4066, 'MNIST', 'IneurAL (official)'], [3862, 'MNIST', 'IneurAL (official)'], [3763, 'MNIST', 'IneurAL (official)'], [3760, 'MNIST', 'IneurAL (official)'], [3975, 'MNIST', 'IneurAL (official)'], [3620, 'MNIST', 'IneurAL (official)'], [4084, 'MNIST', 'IneurAL (official)'], [3798, 'MNIST', 'IneurAL (official)'], [3856, 'MNIST', 'IneurAL (official)'], [3815, 'MNIST', 'IneurAL (official)'], [3681, 'MNIST', 'IneurAL (official)'], [3980, 'MNIST', 'IneurAL (official)'], [3905, 'MNIST', 'IneurAL (official)'], [3939, 'MNIST', 'IneurAL (official)'], [3725, 'MNIST', 'IneurAL (official)'], [3708, 'MNIST', 'IneurAL (official)'], [3492, 'MNIST', 'IneurAL (official)'], [3904, 'MNIST', 'IneurAL (official)'], [4076, 'MNIST', 'IneurAL (official)'], [3931, 'MNIST', 'IneurAL (official)'], [3897, 'MNIST', 'IneurAL (official)'], [3831, 'MNIST', 'IneurAL (official)'], [3607, 'MNIST', 'IneurAL (official)']]\n",
      "./results/case2_MLP_MNIST_9999_25_ineural3.pkl.gz\n",
      "25\n",
      "m [[1717, 'MNIST', 'IneurAL (tuned)'], [1888, 'MNIST', 'IneurAL (tuned)'], [1762, 'MNIST', 'IneurAL (tuned)'], [1752, 'MNIST', 'IneurAL (tuned)'], [1774, 'MNIST', 'IneurAL (tuned)'], [1791, 'MNIST', 'IneurAL (tuned)'], [1799, 'MNIST', 'IneurAL (tuned)'], [1759, 'MNIST', 'IneurAL (tuned)'], [1773, 'MNIST', 'IneurAL (tuned)'], [1864, 'MNIST', 'IneurAL (tuned)'], [1828, 'MNIST', 'IneurAL (tuned)'], [1870, 'MNIST', 'IneurAL (tuned)'], [1871, 'MNIST', 'IneurAL (tuned)'], [1771, 'MNIST', 'IneurAL (tuned)'], [1742, 'MNIST', 'IneurAL (tuned)'], [1675, 'MNIST', 'IneurAL (tuned)'], [1772, 'MNIST', 'IneurAL (tuned)'], [1721, 'MNIST', 'IneurAL (tuned)'], [1790, 'MNIST', 'IneurAL (tuned)'], [1843, 'MNIST', 'IneurAL (tuned)'], [1785, 'MNIST', 'IneurAL (tuned)'], [1743, 'MNIST', 'IneurAL (tuned)'], [1820, 'MNIST', 'IneurAL (tuned)'], [1842, 'MNIST', 'IneurAL (tuned)'], [1762, 'MNIST', 'IneurAL (tuned)']]\n",
      "./results/case2_MLP_MNIST_9999_25_neuronal6.pkl.gz\n",
      "25\n",
      "m [[4030, 'MNIST', 'Neuronal (official)'], [4030, 'MNIST', 'Neuronal (official)'], [4113, 'MNIST', 'Neuronal (official)'], [4098, 'MNIST', 'Neuronal (official)'], [4067, 'MNIST', 'Neuronal (official)'], [4048, 'MNIST', 'Neuronal (official)'], [4105, 'MNIST', 'Neuronal (official)'], [4122, 'MNIST', 'Neuronal (official)'], [4040, 'MNIST', 'Neuronal (official)'], [4135, 'MNIST', 'Neuronal (official)'], [4159, 'MNIST', 'Neuronal (official)'], [4170, 'MNIST', 'Neuronal (official)'], [4278, 'MNIST', 'Neuronal (official)'], [4230, 'MNIST', 'Neuronal (official)'], [4000, 'MNIST', 'Neuronal (official)'], [4026, 'MNIST', 'Neuronal (official)'], [4163, 'MNIST', 'Neuronal (official)'], [4026, 'MNIST', 'Neuronal (official)'], [4095, 'MNIST', 'Neuronal (official)'], [3975, 'MNIST', 'Neuronal (official)'], [4061, 'MNIST', 'Neuronal (official)'], [4055, 'MNIST', 'Neuronal (official)'], [4089, 'MNIST', 'Neuronal (official)'], [4153, 'MNIST', 'Neuronal (official)'], [4104, 'MNIST', 'Neuronal (official)']]\n",
      "./results/case2_MLP_MNIST_9999_25_neuronal3.pkl.gz\n",
      "25\n",
      "m [[2587, 'MNIST', 'Neuronal (tuned)'], [2580, 'MNIST', 'Neuronal (tuned)'], [2597, 'MNIST', 'Neuronal (tuned)'], [2628, 'MNIST', 'Neuronal (tuned)'], [2597, 'MNIST', 'Neuronal (tuned)'], [2629, 'MNIST', 'Neuronal (tuned)'], [2592, 'MNIST', 'Neuronal (tuned)'], [2658, 'MNIST', 'Neuronal (tuned)'], [2590, 'MNIST', 'Neuronal (tuned)'], [2566, 'MNIST', 'Neuronal (tuned)'], [2579, 'MNIST', 'Neuronal (tuned)'], [2615, 'MNIST', 'Neuronal (tuned)'], [2611, 'MNIST', 'Neuronal (tuned)'], [2603, 'MNIST', 'Neuronal (tuned)'], [2613, 'MNIST', 'Neuronal (tuned)'], [2654, 'MNIST', 'Neuronal (tuned)'], [2661, 'MNIST', 'Neuronal (tuned)'], [2644, 'MNIST', 'Neuronal (tuned)'], [2709, 'MNIST', 'Neuronal (tuned)'], [2597, 'MNIST', 'Neuronal (tuned)'], [2542, 'MNIST', 'Neuronal (tuned)'], [2577, 'MNIST', 'Neuronal (tuned)'], [2621, 'MNIST', 'Neuronal (tuned)'], [2542, 'MNIST', 'Neuronal (tuned)'], [2626, 'MNIST', 'Neuronal (tuned)']]\n",
      "./results/case2_MLP_FASHION_9999_25_EEneuralcbpside_v6.pkl.gz\n",
      "25\n",
      "m [[898, 'FASHION', 'Neural-CBP'], [964, 'FASHION', 'Neural-CBP'], [908, 'FASHION', 'Neural-CBP'], [1149, 'FASHION', 'Neural-CBP'], [936, 'FASHION', 'Neural-CBP'], [1069, 'FASHION', 'Neural-CBP'], [1251, 'FASHION', 'Neural-CBP'], [1225, 'FASHION', 'Neural-CBP'], [1165, 'FASHION', 'Neural-CBP'], [1143, 'FASHION', 'Neural-CBP'], [1102, 'FASHION', 'Neural-CBP'], [1125, 'FASHION', 'Neural-CBP'], [1092, 'FASHION', 'Neural-CBP'], [1060, 'FASHION', 'Neural-CBP'], [1181, 'FASHION', 'Neural-CBP'], [1092, 'FASHION', 'Neural-CBP'], [1022, 'FASHION', 'Neural-CBP'], [1009, 'FASHION', 'Neural-CBP'], [1101, 'FASHION', 'Neural-CBP'], [1125, 'FASHION', 'Neural-CBP'], [1178, 'FASHION', 'Neural-CBP'], [1106, 'FASHION', 'Neural-CBP'], [850, 'FASHION', 'Neural-CBP'], [1348, 'FASHION', 'Neural-CBP'], [1077, 'FASHION', 'Neural-CBP']]\n",
      "./results/case2_MLP_FASHION_9999_25_ineural6.pkl.gz\n",
      "25\n",
      "m [[4283, 'FASHION', 'IneurAL (official)'], [4489, 'FASHION', 'IneurAL (official)'], [4350, 'FASHION', 'IneurAL (official)'], [4344, 'FASHION', 'IneurAL (official)'], [4536, 'FASHION', 'IneurAL (official)'], [4461, 'FASHION', 'IneurAL (official)'], [4381, 'FASHION', 'IneurAL (official)'], [4586, 'FASHION', 'IneurAL (official)'], [4288, 'FASHION', 'IneurAL (official)'], [4393, 'FASHION', 'IneurAL (official)'], [4331, 'FASHION', 'IneurAL (official)'], [4512, 'FASHION', 'IneurAL (official)'], [4357, 'FASHION', 'IneurAL (official)'], [4594, 'FASHION', 'IneurAL (official)'], [4632, 'FASHION', 'IneurAL (official)'], [4378, 'FASHION', 'IneurAL (official)'], [4486, 'FASHION', 'IneurAL (official)'], [4139, 'FASHION', 'IneurAL (official)'], [4527, 'FASHION', 'IneurAL (official)'], [4223, 'FASHION', 'IneurAL (official)'], [4430, 'FASHION', 'IneurAL (official)'], [4426, 'FASHION', 'IneurAL (official)'], [4147, 'FASHION', 'IneurAL (official)'], [4273, 'FASHION', 'IneurAL (official)'], [4603, 'FASHION', 'IneurAL (official)']]\n",
      "./results/case2_MLP_FASHION_9999_25_ineural3.pkl.gz\n",
      "25\n",
      "m [[2197, 'FASHION', 'IneurAL (tuned)'], [2295, 'FASHION', 'IneurAL (tuned)'], [2054, 'FASHION', 'IneurAL (tuned)'], [2179, 'FASHION', 'IneurAL (tuned)'], [2087, 'FASHION', 'IneurAL (tuned)'], [2319, 'FASHION', 'IneurAL (tuned)'], [2045, 'FASHION', 'IneurAL (tuned)'], [2222, 'FASHION', 'IneurAL (tuned)'], [2082, 'FASHION', 'IneurAL (tuned)'], [2194, 'FASHION', 'IneurAL (tuned)'], [2194, 'FASHION', 'IneurAL (tuned)'], [2181, 'FASHION', 'IneurAL (tuned)'], [2145, 'FASHION', 'IneurAL (tuned)'], [2164, 'FASHION', 'IneurAL (tuned)'], [2106, 'FASHION', 'IneurAL (tuned)'], [2256, 'FASHION', 'IneurAL (tuned)'], [2230, 'FASHION', 'IneurAL (tuned)'], [2221, 'FASHION', 'IneurAL (tuned)'], [2306, 'FASHION', 'IneurAL (tuned)'], [2273, 'FASHION', 'IneurAL (tuned)'], [2233, 'FASHION', 'IneurAL (tuned)'], [2134, 'FASHION', 'IneurAL (tuned)'], [2180, 'FASHION', 'IneurAL (tuned)'], [2129, 'FASHION', 'IneurAL (tuned)'], [2295, 'FASHION', 'IneurAL (tuned)']]\n",
      "./results/case2_MLP_FASHION_9999_25_neuronal6.pkl.gz\n",
      "25\n",
      "m [[4650, 'FASHION', 'Neuronal (official)'], [4590, 'FASHION', 'Neuronal (official)'], [4692, 'FASHION', 'Neuronal (official)'], [4696, 'FASHION', 'Neuronal (official)'], [4729, 'FASHION', 'Neuronal (official)'], [4810, 'FASHION', 'Neuronal (official)'], [4646, 'FASHION', 'Neuronal (official)'], [4776, 'FASHION', 'Neuronal (official)'], [4638, 'FASHION', 'Neuronal (official)'], [4847, 'FASHION', 'Neuronal (official)'], [4641, 'FASHION', 'Neuronal (official)'], [4658, 'FASHION', 'Neuronal (official)'], [4643, 'FASHION', 'Neuronal (official)'], [4737, 'FASHION', 'Neuronal (official)'], [4796, 'FASHION', 'Neuronal (official)'], [4707, 'FASHION', 'Neuronal (official)'], [4637, 'FASHION', 'Neuronal (official)'], [4760, 'FASHION', 'Neuronal (official)'], [4570, 'FASHION', 'Neuronal (official)'], [4698, 'FASHION', 'Neuronal (official)'], [4719, 'FASHION', 'Neuronal (official)'], [4734, 'FASHION', 'Neuronal (official)'], [4754, 'FASHION', 'Neuronal (official)'], [4900, 'FASHION', 'Neuronal (official)'], [4824, 'FASHION', 'Neuronal (official)']]\n",
      "./results/case2_MLP_FASHION_9999_25_neuronal3.pkl.gz\n",
      "25\n",
      "m [[2968, 'FASHION', 'Neuronal (tuned)'], [2986, 'FASHION', 'Neuronal (tuned)'], [3072, 'FASHION', 'Neuronal (tuned)'], [3078, 'FASHION', 'Neuronal (tuned)'], [3042, 'FASHION', 'Neuronal (tuned)'], [3100, 'FASHION', 'Neuronal (tuned)'], [3058, 'FASHION', 'Neuronal (tuned)'], [3129, 'FASHION', 'Neuronal (tuned)'], [3068, 'FASHION', 'Neuronal (tuned)'], [3009, 'FASHION', 'Neuronal (tuned)'], [3010, 'FASHION', 'Neuronal (tuned)'], [3023, 'FASHION', 'Neuronal (tuned)'], [2998, 'FASHION', 'Neuronal (tuned)'], [3221, 'FASHION', 'Neuronal (tuned)'], [3101, 'FASHION', 'Neuronal (tuned)'], [3161, 'FASHION', 'Neuronal (tuned)'], [3079, 'FASHION', 'Neuronal (tuned)'], [3093, 'FASHION', 'Neuronal (tuned)'], [3151, 'FASHION', 'Neuronal (tuned)'], [3268, 'FASHION', 'Neuronal (tuned)'], [3107, 'FASHION', 'Neuronal (tuned)'], [3074, 'FASHION', 'Neuronal (tuned)'], [2961, 'FASHION', 'Neuronal (tuned)'], [3034, 'FASHION', 'Neuronal (tuned)'], [3171, 'FASHION', 'Neuronal (tuned)']]\n",
      "./results/game_case_seven_MLP_covertype_9999_25_EEneuralcbpside_v6.pkl.gz\n",
      "25\n",
      "m [[9, 'covertype', 'Neural-CBP'], [4, 'covertype', 'Neural-CBP'], [1, 'covertype', 'Neural-CBP'], [9, 'covertype', 'Neural-CBP'], [1347, 'covertype', 'Neural-CBP'], [322, 'covertype', 'Neural-CBP'], [5, 'covertype', 'Neural-CBP'], [5, 'covertype', 'Neural-CBP'], [5, 'covertype', 'Neural-CBP'], [24, 'covertype', 'Neural-CBP'], [3, 'covertype', 'Neural-CBP'], [1444, 'covertype', 'Neural-CBP'], [4, 'covertype', 'Neural-CBP'], [908, 'covertype', 'Neural-CBP'], [1029, 'covertype', 'Neural-CBP'], [1278, 'covertype', 'Neural-CBP'], [1048, 'covertype', 'Neural-CBP'], [3, 'covertype', 'Neural-CBP'], [1346, 'covertype', 'Neural-CBP'], [1176, 'covertype', 'Neural-CBP'], [1117, 'covertype', 'Neural-CBP'], [1149, 'covertype', 'Neural-CBP'], [1062, 'covertype', 'Neural-CBP'], [695, 'covertype', 'Neural-CBP'], [1108, 'covertype', 'Neural-CBP']]\n",
      "./results/game_case_seven_MLP_covertype_9999_25_ineural6.pkl.gz\n",
      "25\n",
      "m [[1, 'covertype', 'IneurAL (official)'], [1, 'covertype', 'IneurAL (official)'], [1, 'covertype', 'IneurAL (official)'], [1, 'covertype', 'IneurAL (official)'], [1, 'covertype', 'IneurAL (official)'], [1, 'covertype', 'IneurAL (official)'], [1, 'covertype', 'IneurAL (official)'], [1, 'covertype', 'IneurAL (official)'], [1, 'covertype', 'IneurAL (official)'], [1, 'covertype', 'IneurAL (official)'], [1, 'covertype', 'IneurAL (official)'], [1, 'covertype', 'IneurAL (official)'], [1, 'covertype', 'IneurAL (official)'], [1, 'covertype', 'IneurAL (official)'], [1, 'covertype', 'IneurAL (official)'], [1, 'covertype', 'IneurAL (official)'], [1, 'covertype', 'IneurAL (official)'], [1, 'covertype', 'IneurAL (official)'], [1, 'covertype', 'IneurAL (official)'], [1, 'covertype', 'IneurAL (official)'], [1, 'covertype', 'IneurAL (official)'], [1, 'covertype', 'IneurAL (official)'], [1, 'covertype', 'IneurAL (official)'], [1, 'covertype', 'IneurAL (official)'], [1, 'covertype', 'IneurAL (official)']]\n",
      "./results/game_case_seven_MLP_covertype_9999_25_ineural3.pkl.gz\n",
      "25\n",
      "m [[1, 'covertype', 'IneurAL (tuned)'], [1, 'covertype', 'IneurAL (tuned)'], [1, 'covertype', 'IneurAL (tuned)'], [1, 'covertype', 'IneurAL (tuned)'], [1, 'covertype', 'IneurAL (tuned)'], [1, 'covertype', 'IneurAL (tuned)'], [1, 'covertype', 'IneurAL (tuned)'], [1, 'covertype', 'IneurAL (tuned)'], [1, 'covertype', 'IneurAL (tuned)'], [1, 'covertype', 'IneurAL (tuned)'], [1, 'covertype', 'IneurAL (tuned)'], [1, 'covertype', 'IneurAL (tuned)'], [1, 'covertype', 'IneurAL (tuned)'], [1, 'covertype', 'IneurAL (tuned)'], [1, 'covertype', 'IneurAL (tuned)'], [1, 'covertype', 'IneurAL (tuned)'], [1, 'covertype', 'IneurAL (tuned)'], [1, 'covertype', 'IneurAL (tuned)'], [1, 'covertype', 'IneurAL (tuned)'], [1, 'covertype', 'IneurAL (tuned)'], [1, 'covertype', 'IneurAL (tuned)'], [1, 'covertype', 'IneurAL (tuned)'], [1, 'covertype', 'IneurAL (tuned)'], [1, 'covertype', 'IneurAL (tuned)'], [1, 'covertype', 'IneurAL (tuned)']]\n",
      "./results/game_case_seven_MLP_covertype_9999_25_neuronal6.pkl.gz\n",
      "25\n",
      "m [[7053, 'covertype', 'Neuronal (official)'], [7341, 'covertype', 'Neuronal (official)'], [7282, 'covertype', 'Neuronal (official)'], [7478, 'covertype', 'Neuronal (official)'], [7443, 'covertype', 'Neuronal (official)'], [7158, 'covertype', 'Neuronal (official)'], [7665, 'covertype', 'Neuronal (official)'], [7778, 'covertype', 'Neuronal (official)'], [6796, 'covertype', 'Neuronal (official)'], [7289, 'covertype', 'Neuronal (official)'], [7085, 'covertype', 'Neuronal (official)'], [7187, 'covertype', 'Neuronal (official)'], [7156, 'covertype', 'Neuronal (official)'], [6744, 'covertype', 'Neuronal (official)'], [7101, 'covertype', 'Neuronal (official)'], [7267, 'covertype', 'Neuronal (official)'], [6902, 'covertype', 'Neuronal (official)'], [7453, 'covertype', 'Neuronal (official)'], [7541, 'covertype', 'Neuronal (official)'], [7380, 'covertype', 'Neuronal (official)'], [7299, 'covertype', 'Neuronal (official)'], [7580, 'covertype', 'Neuronal (official)'], [7497, 'covertype', 'Neuronal (official)'], [7494, 'covertype', 'Neuronal (official)'], [7834, 'covertype', 'Neuronal (official)']]\n",
      "./results/game_case_seven_MLP_covertype_9999_25_neuronal3.pkl.gz\n",
      "25\n",
      "m [[3, 'covertype', 'Neuronal (tuned)'], [9, 'covertype', 'Neuronal (tuned)'], [559, 'covertype', 'Neuronal (tuned)'], [2547, 'covertype', 'Neuronal (tuned)'], [3535, 'covertype', 'Neuronal (tuned)'], [2846, 'covertype', 'Neuronal (tuned)'], [4414, 'covertype', 'Neuronal (tuned)'], [3270, 'covertype', 'Neuronal (tuned)'], [3290, 'covertype', 'Neuronal (tuned)'], [3568, 'covertype', 'Neuronal (tuned)'], [3152, 'covertype', 'Neuronal (tuned)'], [2982, 'covertype', 'Neuronal (tuned)'], [3968, 'covertype', 'Neuronal (tuned)'], [4113, 'covertype', 'Neuronal (tuned)'], [4118, 'covertype', 'Neuronal (tuned)'], [4430, 'covertype', 'Neuronal (tuned)'], [3831, 'covertype', 'Neuronal (tuned)'], [3838, 'covertype', 'Neuronal (tuned)'], [4814, 'covertype', 'Neuronal (tuned)'], [4139, 'covertype', 'Neuronal (tuned)'], [4460, 'covertype', 'Neuronal (tuned)'], [4245, 'covertype', 'Neuronal (tuned)'], [4490, 'covertype', 'Neuronal (tuned)'], [4578, 'covertype', 'Neuronal (tuned)'], [4339, 'covertype', 'Neuronal (tuned)']]\n",
      "./results/game_case_seven_MLP_shuttle_9999_25_EEneuralcbpside_v6.pkl.gz\n",
      "25\n",
      "m [[1, 'shuttle', 'Neural-CBP'], [3, 'shuttle', 'Neural-CBP'], [3, 'shuttle', 'Neural-CBP'], [2, 'shuttle', 'Neural-CBP'], [2, 'shuttle', 'Neural-CBP'], [371, 'shuttle', 'Neural-CBP'], [451, 'shuttle', 'Neural-CBP'], [354, 'shuttle', 'Neural-CBP'], [678, 'shuttle', 'Neural-CBP'], [8, 'shuttle', 'Neural-CBP'], [3, 'shuttle', 'Neural-CBP'], [2, 'shuttle', 'Neural-CBP'], [72, 'shuttle', 'Neural-CBP'], [1, 'shuttle', 'Neural-CBP'], [401, 'shuttle', 'Neural-CBP'], [142, 'shuttle', 'Neural-CBP'], [103, 'shuttle', 'Neural-CBP'], [197, 'shuttle', 'Neural-CBP'], [485, 'shuttle', 'Neural-CBP'], [3, 'shuttle', 'Neural-CBP'], [94, 'shuttle', 'Neural-CBP'], [94, 'shuttle', 'Neural-CBP'], [239, 'shuttle', 'Neural-CBP'], [147, 'shuttle', 'Neural-CBP'], [297, 'shuttle', 'Neural-CBP']]\n",
      "./results/game_case_seven_MLP_shuttle_9999_25_ineural6.pkl.gz\n",
      "25\n",
      "m [[8031, 'shuttle', 'IneurAL (official)'], [8098, 'shuttle', 'IneurAL (official)'], [5706, 'shuttle', 'IneurAL (official)'], [7977, 'shuttle', 'IneurAL (official)'], [9134, 'shuttle', 'IneurAL (official)'], [8579, 'shuttle', 'IneurAL (official)'], [8121, 'shuttle', 'IneurAL (official)'], [7561, 'shuttle', 'IneurAL (official)'], [8708, 'shuttle', 'IneurAL (official)'], [9137, 'shuttle', 'IneurAL (official)'], [7454, 'shuttle', 'IneurAL (official)'], [7519, 'shuttle', 'IneurAL (official)'], [9635, 'shuttle', 'IneurAL (official)'], [6488, 'shuttle', 'IneurAL (official)'], [8898, 'shuttle', 'IneurAL (official)'], [8541, 'shuttle', 'IneurAL (official)'], [8813, 'shuttle', 'IneurAL (official)'], [9252, 'shuttle', 'IneurAL (official)'], [6035, 'shuttle', 'IneurAL (official)'], [8462, 'shuttle', 'IneurAL (official)'], [7772, 'shuttle', 'IneurAL (official)'], [8540, 'shuttle', 'IneurAL (official)'], [7647, 'shuttle', 'IneurAL (official)'], [7782, 'shuttle', 'IneurAL (official)'], [6489, 'shuttle', 'IneurAL (official)']]\n",
      "./results/game_case_seven_MLP_shuttle_9999_25_ineural3.pkl.gz\n",
      "25\n",
      "m [[359, 'shuttle', 'IneurAL (tuned)'], [2485, 'shuttle', 'IneurAL (tuned)'], [2700, 'shuttle', 'IneurAL (tuned)'], [4678, 'shuttle', 'IneurAL (tuned)'], [2666, 'shuttle', 'IneurAL (tuned)'], [2191, 'shuttle', 'IneurAL (tuned)'], [3479, 'shuttle', 'IneurAL (tuned)'], [1869, 'shuttle', 'IneurAL (tuned)'], [3457, 'shuttle', 'IneurAL (tuned)'], [3168, 'shuttle', 'IneurAL (tuned)'], [3826, 'shuttle', 'IneurAL (tuned)'], [3594, 'shuttle', 'IneurAL (tuned)'], [4663, 'shuttle', 'IneurAL (tuned)'], [3443, 'shuttle', 'IneurAL (tuned)'], [2717, 'shuttle', 'IneurAL (tuned)'], [2793, 'shuttle', 'IneurAL (tuned)'], [2655, 'shuttle', 'IneurAL (tuned)'], [2607, 'shuttle', 'IneurAL (tuned)'], [2278, 'shuttle', 'IneurAL (tuned)'], [2482, 'shuttle', 'IneurAL (tuned)'], [3513, 'shuttle', 'IneurAL (tuned)'], [1967, 'shuttle', 'IneurAL (tuned)'], [1899, 'shuttle', 'IneurAL (tuned)'], [1667, 'shuttle', 'IneurAL (tuned)'], [3252, 'shuttle', 'IneurAL (tuned)']]\n",
      "./results/game_case_seven_MLP_shuttle_9999_25_neuronal6.pkl.gz\n",
      "25\n",
      "m [[5, 'shuttle', 'Neuronal (official)'], [3, 'shuttle', 'Neuronal (official)'], [1, 'shuttle', 'Neuronal (official)'], [8, 'shuttle', 'Neuronal (official)'], [3, 'shuttle', 'Neuronal (official)'], [3, 'shuttle', 'Neuronal (official)'], [1169, 'shuttle', 'Neuronal (official)'], [1378, 'shuttle', 'Neuronal (official)'], [1353, 'shuttle', 'Neuronal (official)'], [1191, 'shuttle', 'Neuronal (official)'], [53, 'shuttle', 'Neuronal (official)'], [1472, 'shuttle', 'Neuronal (official)'], [1369, 'shuttle', 'Neuronal (official)'], [1501, 'shuttle', 'Neuronal (official)'], [10, 'shuttle', 'Neuronal (official)'], [1775, 'shuttle', 'Neuronal (official)'], [1715, 'shuttle', 'Neuronal (official)'], [2, 'shuttle', 'Neuronal (official)'], [1644, 'shuttle', 'Neuronal (official)'], [3, 'shuttle', 'Neuronal (official)'], [3, 'shuttle', 'Neuronal (official)'], [1225, 'shuttle', 'Neuronal (official)'], [1197, 'shuttle', 'Neuronal (official)'], [1471, 'shuttle', 'Neuronal (official)'], [1449, 'shuttle', 'Neuronal (official)']]\n",
      "./results/game_case_seven_MLP_shuttle_9999_25_neuronal3.pkl.gz\n",
      "25\n",
      "m [[1, 'shuttle', 'Neuronal (tuned)'], [1, 'shuttle', 'Neuronal (tuned)'], [1, 'shuttle', 'Neuronal (tuned)'], [1, 'shuttle', 'Neuronal (tuned)'], [27, 'shuttle', 'Neuronal (tuned)'], [7, 'shuttle', 'Neuronal (tuned)'], [1, 'shuttle', 'Neuronal (tuned)'], [1, 'shuttle', 'Neuronal (tuned)'], [1, 'shuttle', 'Neuronal (tuned)'], [9, 'shuttle', 'Neuronal (tuned)'], [2, 'shuttle', 'Neuronal (tuned)'], [1, 'shuttle', 'Neuronal (tuned)'], [2, 'shuttle', 'Neuronal (tuned)'], [1, 'shuttle', 'Neuronal (tuned)'], [1, 'shuttle', 'Neuronal (tuned)'], [1, 'shuttle', 'Neuronal (tuned)'], [1, 'shuttle', 'Neuronal (tuned)'], [1, 'shuttle', 'Neuronal (tuned)'], [1, 'shuttle', 'Neuronal (tuned)'], [1, 'shuttle', 'Neuronal (tuned)'], [1, 'shuttle', 'Neuronal (tuned)'], [1, 'shuttle', 'Neuronal (tuned)'], [1, 'shuttle', 'Neuronal (tuned)'], [1, 'shuttle', 'Neuronal (tuned)'], [1, 'shuttle', 'Neuronal (tuned)']]\n"
     ]
    }
   ],
   "source": [
    "def convert_action_history(action_history,data, l_label):\n",
    "    counters = []\n",
    "    for history in action_history:\n",
    "\n",
    "        counter = sum([ 1 if action == 0 else 0 for action in history ])\n",
    "        counters.append( [counter, data, l_label] )\n",
    "\n",
    "    # counters.append(data)\n",
    "    # counters.append(l_label)\n",
    "    # std = 2.575 * np.std(counters, axis = 0) / n_folds \n",
    "    # std = np.std(counters, axis = 0) #/ n_folds \n",
    "\n",
    "    return counters#np.mean(counters, axis = 0), std \n",
    "\n",
    "n_folds = 25\n",
    "horizon = 9999\n",
    "model = 'MLP'\n",
    "\n",
    "\n",
    "material = {\n",
    "    'EEneuralcbpside_v6': {'color': [255, 0, 0], 'label': 'Neural-CBP'},  # Red\n",
    "    'ineural6': {'color': [51, 255, 255], 'label':'IneurAL (official)'},                    # Yellow\n",
    "    'ineural3': {'color': [0, 0, 255], 'label':'IneurAL (tuned)'},                    # Cyan\n",
    "    'neuronal6': {'color': [255, 0, 255], 'label':'Neuronal (official)'},                  # Magenta\n",
    "    'neuronal3': {'color': [160, 160, 160], 'label':'Neuronal (tuned)'},                   # Orange\n",
    "}\n",
    "\n",
    "fig = go.Figure( )\n",
    "\n",
    "exploration_dataset = []\n",
    "data_models = {}\n",
    "for model in ['MLP']: #, 'LeNet'\n",
    "\n",
    "    n_folds = 25\n",
    "    datasets = [ 'MNIST', 'FASHION', 'covertype', 'shuttle', ] #\n",
    "\n",
    "    data_regrets = {} \n",
    "    for data in datasets: \n",
    "\n",
    "        if data in ['MNIST', 'FASHION', 'CIFAR10']:\n",
    "            case = 'case2' \n",
    "        elif data in ['covertype', 'shuttle']:\n",
    "            case = 'game_case_seven'\n",
    "        # else:\n",
    "        # case = 'case1'\n",
    "            \n",
    "        final_regrets = {}\n",
    "        for agent_name in material.keys():\n",
    "\n",
    "            color, l_label = material[agent_name]['color'], material[agent_name]['label']\n",
    "\n",
    "            r,g,b = color\n",
    "\n",
    "            direct = './results/'\n",
    "            path = os.path.join(direct, '{}_{}_{}_{}_{}_{}.pkl.gz'.format(case, model, data, horizon,n_folds,agent_name) )\n",
    "            print(path)\n",
    "            result, history_actions, history_outcomes, perf = loadall_results2(path, n_folds)\n",
    "            result = np.array(result)\n",
    "            # result = result[1:]\n",
    "            result = result.astype(np.float32)\n",
    "            print(  len(history_actions) )\n",
    "            final_regrets[l_label] = result[:,-1] \n",
    "            m = convert_action_history(history_actions, data, l_label)\n",
    "            print('m', m)\n",
    "\n",
    "            exploration_dataset.extend( m )\n",
    "\n",
    "\n",
    "        if data == 'MNISTbinary':\n",
    "            data = 'MNIST binary'\n",
    "        if data == 'FASHION':\n",
    "            data = 'Fashion'\n",
    "            \n",
    "        data_regrets[data] = final_regrets\n",
    "        \n",
    "    data_models[model] = data_regrets"
   ]
  },
  {
   "cell_type": "code",
   "execution_count": 15,
   "metadata": {},
   "outputs": [],
   "source": [
    "import pandas as pd\n",
    "exploration_dataset = np.array(exploration_dataset)\n",
    "exploration_dataset = pd.DataFrame(exploration_dataset)\n",
    "exploration_dataset.dtypes\n",
    "exploration_dataset[0].astype(float)\n",
    "\n",
    "exploration_dataset.columns = ['Explore', 'Dataset', 'Approach']\n",
    "exploration_dataset['Explore'] = exploration_dataset['Explore'].astype(int)"
   ]
  },
  {
   "cell_type": "code",
   "execution_count": 16,
   "metadata": {},
   "outputs": [],
   "source": [
    "import pandas as pd\n",
    "# pd.DataFrame(data_regrets)\n",
    "# data_regrets\n",
    "\n",
    "samples = []\n",
    "\n",
    "# Iterate over the dictionary to extract data\n",
    "for model, dataset in data_models.items():\n",
    "    for data, approach in dataset.items():\n",
    "        for appr, values in approach.items():\n",
    "            for val in values:\n",
    "                samples.append([model, data, appr, val])\n",
    "\n",
    "# Create a DataFrame\n",
    "df = pd.DataFrame(samples, columns=['Model','Dataset', 'Approach', 'Value'])\n",
    "\n",
    "# Calculate mean and standard error for each group\n",
    "grouped = df.groupby(['Model', 'Dataset', 'Approach'])\n",
    "mean = grouped['Value'].mean().reset_index()\n",
    "\n",
    "std_error = 2.576 * grouped['Value'].std() / np.sqrt(grouped['Value'].count())\n",
    "# grouped['Value'].std() / np.sqrt(grouped['Value'].count())\n",
    "std_error = std_error.reset_index()\n",
    "\n",
    "# Merge the mean and standard error into a single DataFrame\n",
    "result = pd.merge(mean, std_error, on=['Model', 'Dataset', 'Approach'])\n",
    "result.rename(columns={'Value_x': 'Mean', 'Value_y': 'StdError'}, inplace=True)\n",
    "\n",
    "result['merge'] = result['Model'] + result['Approach']\n",
    "result['merge2'] = result['Model'] + result['Dataset']"
   ]
  },
  {
   "cell_type": "code",
   "execution_count": 17,
   "metadata": {},
   "outputs": [
    {
     "name": "stderr",
     "output_type": "stream",
     "text": [
      "/tmp/ipykernel_34033/116208432.py:39: RuntimeWarning:\n",
      "\n",
      "Precision loss occurred in moment calculation due to catastrophic cancellation. This occurs when the data are nearly identical. Results may be unreliable.\n",
      "\n",
      "/tmp/ipykernel_34033/116208432.py:39: RuntimeWarning:\n",
      "\n",
      "Precision loss occurred in moment calculation due to catastrophic cancellation. This occurs when the data are nearly identical. Results may be unreliable.\n",
      "\n"
     ]
    }
   ],
   "source": [
    "from scipy.stats import ttest_ind,mannwhitneyu\n",
    "# np.set_printoptions(suppress=True)\n",
    "\n",
    "\n",
    "final_values = []\n",
    "\n",
    "for data_name in ['MNIST', 'Fashion', 'covertype', 'shuttle'] : \n",
    "    subdf = df[ df['Dataset']== data_name ]\n",
    "\n",
    "    data_name2 = 'FASHION' if data_name =='Fashion' else data_name\n",
    "    subdf_exp = exploration_dataset[ exploration_dataset['Dataset']== data_name2 ]\n",
    "\n",
    "    dataset = pd.DataFrame([data_name] * 25)\n",
    "    # dataset_expl = pd.DataFrame([data_name] * 25)\n",
    "\n",
    "    final_dataset = []\n",
    "    references = []\n",
    "\n",
    "    for approach in ['Neural-CBP', 'IneurAL (official)', 'IneurAL (tuned)', 'Neuronal (official)', 'Neuronal (tuned)', ]:\n",
    "        \n",
    "        values = subdf[ subdf['Approach'] == approach]['Value']\n",
    "        values.name = '{}'.format(approach)\n",
    "        values = values.reset_index(drop=True)\n",
    "        dataset['{}'.format(approach)] = values\n",
    "\n",
    "        mean = np.mean(values)\n",
    "        \n",
    "\n",
    "        s, p = ttest_ind(df[  (df['Approach'] == 'Neural-CBP') & (df['Dataset'] == data_name)  ]['Value'], \n",
    "                    df[  (df['Approach'] == approach) & (df['Dataset'] == data_name)  ]['Value'], equal_var=False)\n",
    "        \n",
    "        values_exp = subdf_exp[ subdf_exp['Approach'] == approach]['Explore']\n",
    "        values_exp.name = '{}'.format(approach)\n",
    "        values_exp = values_exp.reset_index(drop=True)\n",
    "        values_exp = values_exp.astype(int)\n",
    "\n",
    "        mean_exp = np.mean(values_exp)\n",
    "\n",
    "        s, p_exp = ttest_ind( exploration_dataset[  (exploration_dataset['Approach'] == 'Neural-CBP') & (exploration_dataset['Dataset'] == data_name2)  ]['Explore'], \n",
    "                    exploration_dataset[  (exploration_dataset['Approach'] == approach) & (exploration_dataset['Dataset'] == data_name2)  ]['Explore'], equal_var=False)\n",
    "        \n",
    "        final_dataset.append( [  mean, p, mean_exp, p_exp ] )\n",
    "        references.append([ data_name ,  approach, ] )\n",
    "\n",
    "    final_dataset = np.array(final_dataset)\n",
    "    references = np.array(references)\n",
    "        \n",
    "\n",
    "    df_dropped = dataset.drop(columns=[0])\n",
    "    results = []\n",
    "    for i in range(25):\n",
    "        perfs = np.array( df_dropped.iloc[i].tolist() )\n",
    "        minimum = min( perfs )\n",
    "        strategy_won = (perfs == minimum)\n",
    "        results.append(strategy_won)  \n",
    "\n",
    "    results = np.array( results )  \n",
    "    true_counts = results.sum(axis=0)\n",
    "    true_counts = true_counts.reshape(-1, 1)\n",
    "\n",
    "\n",
    "    final = np.hstack( (final_dataset, true_counts) )\n",
    "    final = np.round(final,3)\n",
    "    final = np.hstack( (references, final) )\n",
    "\n",
    "    final_values.append(final)\n",
    "\n",
    "final_values = np.array(final_values)\n",
    "final_values = np.vstack(final_values)\n",
    "dataframe = pd.DataFrame(final_values)\n",
    "dataframe.columns = ['Dataset', 'Approach', 'Mean regret', 'p-value', 'Mean Exploration', 'p-value (exploration)', 'win count',]\n",
    "\n",
    "dataframe = dataframe[ ['Dataset', 'Approach', 'Mean regret', 'p-value', 'win count', 'Mean Exploration', 'p-value (exploration)'  ] ]\n",
    "# dataframe.to_csv('figures/results_nonbinary_MLP.csv', index = False)"
   ]
  },
  {
   "cell_type": "code",
   "execution_count": 18,
   "metadata": {},
   "outputs": [
    {
     "name": "stdout",
     "output_type": "stream",
     "text": [
      "MLPNeural-CBP\n",
      "MLPIneurAL (official)\n",
      "MLPIneurAL (tuned)\n",
      "MLPNeuronal (official)\n",
      "MLPNeuronal (tuned)\n",
      "['MLPFashion' 'MLPMNIST' 'MLPcovertype' 'MLPshuttle']\n"
     ]
    },
    {
     "data": {
      "application/vnd.plotly.v1+json": {
       "config": {
        "plotlyServerURL": "https://plot.ly"
       },
       "data": [
        {
         "error_y": {
          "array": [
           104.51948714965393,
           71.98348883321505,
           399.7761539655722,
           753.9610332693832
          ],
          "thickness": 1,
          "type": "data",
          "visible": true
         },
         "marker": {
          "color": "rgba(171,99,250,1)",
          "pattern": {
           "fgcolor": "black",
           "shape": "x"
          }
         },
         "name": "Neural-CBP",
         "showlegend": true,
         "type": "bar",
         "x": [
          "MLPFashion",
          "MLPMNIST",
          "MLPcovertype",
          "MLPshuttle"
         ],
         "y": [
          3065.199951171875,
          2275.0400390625,
          5096.72021484375,
          1837.6800537109375
         ]
        },
        {
         "error_y": {
          "array": [
           67.23084957848042,
           93.77570805082235,
           686.4280187776205,
           505.6032912567982
          ],
          "thickness": 1,
          "type": "data",
          "visible": true
         },
         "marker": {
          "color": "rgba(255,161,90,1)"
         },
         "name": "IneurAL (official)",
         "showlegend": true,
         "type": "bar",
         "x": [
          "MLPFashion",
          "MLPMNIST",
          "MLPcovertype",
          "MLPshuttle"
         ],
         "y": [
          4907.240234375,
          3994.919921875,
          6295.64013671875,
          8169.60009765625
         ]
        },
        {
         "error_y": {
          "array": [
           58.38159471855492,
           38.10739061966854,
           840.6530082531565,
           475.6393599120903
          ],
          "thickness": 1,
          "type": "data",
          "visible": true
         },
         "marker": {
          "color": "rgba(25,211,243,1)"
         },
         "name": "IneurAL (tuned)",
         "showlegend": true,
         "type": "bar",
         "x": [
          "MLPFashion",
          "MLPMNIST",
          "MLPcovertype",
          "MLPshuttle"
         ],
         "y": [
          3467.9599609375,
          2366.199951171875,
          6616.0400390625,
          3574.360107421875
         ]
        },
        {
         "error_y": {
          "array": [
           37.13966704652039,
           36.253781186357216,
           105.77834334083568,
           183.7413038829713
          ],
          "thickness": 1,
          "type": "data",
          "visible": true
         },
         "marker": {
          "color": "rgba(255,102,146,1)"
         },
         "name": "Neuronal (official)",
         "showlegend": true,
         "type": "bar",
         "x": [
          "MLPFashion",
          "MLPMNIST",
          "MLPcovertype",
          "MLPshuttle"
         ],
         "y": [
          4884.080078125,
          4125.9599609375,
          7849.27978515625,
          1888.8800048828125
         ]
        },
        {
         "error_y": {
          "array": [
           36.28056787759895,
           19.28784766382535,
           193.75679747704064,
           1371.2074051950954
          ],
          "thickness": 1,
          "type": "data",
          "visible": true
         },
         "marker": {
          "color": "rgba(182,232,128,1)"
         },
         "name": "Neuronal (tuned)",
         "showlegend": true,
         "type": "bar",
         "x": [
          "MLPFashion",
          "MLPMNIST",
          "MLPcovertype",
          "MLPshuttle"
         ],
         "y": [
          3590.8798828125,
          2729.639892578125,
          5636.83984375,
          3451.60009765625
         ]
        }
       ],
       "layout": {
        "barmode": "group",
        "height": 180,
        "margin": {
         "b": 0,
         "l": 0,
         "r": 0,
         "t": 0
        },
        "paper_bgcolor": "white",
        "plot_bgcolor": "white",
        "shapes": [
         {
          "line": {
           "color": "black",
           "dash": "dot",
           "width": 2
          },
          "type": "line",
          "x0": 0.5,
          "x1": 0.5,
          "xref": "x",
          "y0": 0,
          "y1": 1,
          "yref": "y domain"
         },
         {
          "line": {
           "color": "black",
           "dash": "dot",
           "width": 2
          },
          "type": "line",
          "x0": 1.5,
          "x1": 1.5,
          "xref": "x",
          "y0": 0,
          "y1": 1,
          "yref": "y domain"
         },
         {
          "line": {
           "color": "black",
           "dash": "dot",
           "width": 2
          },
          "type": "line",
          "x0": 2.5,
          "x1": 2.5,
          "xref": "x",
          "y0": 0,
          "y1": 1,
          "yref": "y domain"
         }
        ],
        "showlegend": false,
        "template": {
         "data": {
          "bar": [
           {
            "error_x": {
             "color": "#2a3f5f"
            },
            "error_y": {
             "color": "#2a3f5f"
            },
            "marker": {
             "line": {
              "color": "#E5ECF6",
              "width": 0.5
             },
             "pattern": {
              "fillmode": "overlay",
              "size": 10,
              "solidity": 0.2
             }
            },
            "type": "bar"
           }
          ],
          "barpolar": [
           {
            "marker": {
             "line": {
              "color": "#E5ECF6",
              "width": 0.5
             },
             "pattern": {
              "fillmode": "overlay",
              "size": 10,
              "solidity": 0.2
             }
            },
            "type": "barpolar"
           }
          ],
          "carpet": [
           {
            "aaxis": {
             "endlinecolor": "#2a3f5f",
             "gridcolor": "white",
             "linecolor": "white",
             "minorgridcolor": "white",
             "startlinecolor": "#2a3f5f"
            },
            "baxis": {
             "endlinecolor": "#2a3f5f",
             "gridcolor": "white",
             "linecolor": "white",
             "minorgridcolor": "white",
             "startlinecolor": "#2a3f5f"
            },
            "type": "carpet"
           }
          ],
          "choropleth": [
           {
            "colorbar": {
             "outlinewidth": 0,
             "ticks": ""
            },
            "type": "choropleth"
           }
          ],
          "contour": [
           {
            "colorbar": {
             "outlinewidth": 0,
             "ticks": ""
            },
            "colorscale": [
             [
              0,
              "#0d0887"
             ],
             [
              0.1111111111111111,
              "#46039f"
             ],
             [
              0.2222222222222222,
              "#7201a8"
             ],
             [
              0.3333333333333333,
              "#9c179e"
             ],
             [
              0.4444444444444444,
              "#bd3786"
             ],
             [
              0.5555555555555556,
              "#d8576b"
             ],
             [
              0.6666666666666666,
              "#ed7953"
             ],
             [
              0.7777777777777778,
              "#fb9f3a"
             ],
             [
              0.8888888888888888,
              "#fdca26"
             ],
             [
              1,
              "#f0f921"
             ]
            ],
            "type": "contour"
           }
          ],
          "contourcarpet": [
           {
            "colorbar": {
             "outlinewidth": 0,
             "ticks": ""
            },
            "type": "contourcarpet"
           }
          ],
          "heatmap": [
           {
            "colorbar": {
             "outlinewidth": 0,
             "ticks": ""
            },
            "colorscale": [
             [
              0,
              "#0d0887"
             ],
             [
              0.1111111111111111,
              "#46039f"
             ],
             [
              0.2222222222222222,
              "#7201a8"
             ],
             [
              0.3333333333333333,
              "#9c179e"
             ],
             [
              0.4444444444444444,
              "#bd3786"
             ],
             [
              0.5555555555555556,
              "#d8576b"
             ],
             [
              0.6666666666666666,
              "#ed7953"
             ],
             [
              0.7777777777777778,
              "#fb9f3a"
             ],
             [
              0.8888888888888888,
              "#fdca26"
             ],
             [
              1,
              "#f0f921"
             ]
            ],
            "type": "heatmap"
           }
          ],
          "heatmapgl": [
           {
            "colorbar": {
             "outlinewidth": 0,
             "ticks": ""
            },
            "colorscale": [
             [
              0,
              "#0d0887"
             ],
             [
              0.1111111111111111,
              "#46039f"
             ],
             [
              0.2222222222222222,
              "#7201a8"
             ],
             [
              0.3333333333333333,
              "#9c179e"
             ],
             [
              0.4444444444444444,
              "#bd3786"
             ],
             [
              0.5555555555555556,
              "#d8576b"
             ],
             [
              0.6666666666666666,
              "#ed7953"
             ],
             [
              0.7777777777777778,
              "#fb9f3a"
             ],
             [
              0.8888888888888888,
              "#fdca26"
             ],
             [
              1,
              "#f0f921"
             ]
            ],
            "type": "heatmapgl"
           }
          ],
          "histogram": [
           {
            "marker": {
             "pattern": {
              "fillmode": "overlay",
              "size": 10,
              "solidity": 0.2
             }
            },
            "type": "histogram"
           }
          ],
          "histogram2d": [
           {
            "colorbar": {
             "outlinewidth": 0,
             "ticks": ""
            },
            "colorscale": [
             [
              0,
              "#0d0887"
             ],
             [
              0.1111111111111111,
              "#46039f"
             ],
             [
              0.2222222222222222,
              "#7201a8"
             ],
             [
              0.3333333333333333,
              "#9c179e"
             ],
             [
              0.4444444444444444,
              "#bd3786"
             ],
             [
              0.5555555555555556,
              "#d8576b"
             ],
             [
              0.6666666666666666,
              "#ed7953"
             ],
             [
              0.7777777777777778,
              "#fb9f3a"
             ],
             [
              0.8888888888888888,
              "#fdca26"
             ],
             [
              1,
              "#f0f921"
             ]
            ],
            "type": "histogram2d"
           }
          ],
          "histogram2dcontour": [
           {
            "colorbar": {
             "outlinewidth": 0,
             "ticks": ""
            },
            "colorscale": [
             [
              0,
              "#0d0887"
             ],
             [
              0.1111111111111111,
              "#46039f"
             ],
             [
              0.2222222222222222,
              "#7201a8"
             ],
             [
              0.3333333333333333,
              "#9c179e"
             ],
             [
              0.4444444444444444,
              "#bd3786"
             ],
             [
              0.5555555555555556,
              "#d8576b"
             ],
             [
              0.6666666666666666,
              "#ed7953"
             ],
             [
              0.7777777777777778,
              "#fb9f3a"
             ],
             [
              0.8888888888888888,
              "#fdca26"
             ],
             [
              1,
              "#f0f921"
             ]
            ],
            "type": "histogram2dcontour"
           }
          ],
          "mesh3d": [
           {
            "colorbar": {
             "outlinewidth": 0,
             "ticks": ""
            },
            "type": "mesh3d"
           }
          ],
          "parcoords": [
           {
            "line": {
             "colorbar": {
              "outlinewidth": 0,
              "ticks": ""
             }
            },
            "type": "parcoords"
           }
          ],
          "pie": [
           {
            "automargin": true,
            "type": "pie"
           }
          ],
          "scatter": [
           {
            "fillpattern": {
             "fillmode": "overlay",
             "size": 10,
             "solidity": 0.2
            },
            "type": "scatter"
           }
          ],
          "scatter3d": [
           {
            "line": {
             "colorbar": {
              "outlinewidth": 0,
              "ticks": ""
             }
            },
            "marker": {
             "colorbar": {
              "outlinewidth": 0,
              "ticks": ""
             }
            },
            "type": "scatter3d"
           }
          ],
          "scattercarpet": [
           {
            "marker": {
             "colorbar": {
              "outlinewidth": 0,
              "ticks": ""
             }
            },
            "type": "scattercarpet"
           }
          ],
          "scattergeo": [
           {
            "marker": {
             "colorbar": {
              "outlinewidth": 0,
              "ticks": ""
             }
            },
            "type": "scattergeo"
           }
          ],
          "scattergl": [
           {
            "marker": {
             "colorbar": {
              "outlinewidth": 0,
              "ticks": ""
             }
            },
            "type": "scattergl"
           }
          ],
          "scattermapbox": [
           {
            "marker": {
             "colorbar": {
              "outlinewidth": 0,
              "ticks": ""
             }
            },
            "type": "scattermapbox"
           }
          ],
          "scatterpolar": [
           {
            "marker": {
             "colorbar": {
              "outlinewidth": 0,
              "ticks": ""
             }
            },
            "type": "scatterpolar"
           }
          ],
          "scatterpolargl": [
           {
            "marker": {
             "colorbar": {
              "outlinewidth": 0,
              "ticks": ""
             }
            },
            "type": "scatterpolargl"
           }
          ],
          "scatterternary": [
           {
            "marker": {
             "colorbar": {
              "outlinewidth": 0,
              "ticks": ""
             }
            },
            "type": "scatterternary"
           }
          ],
          "surface": [
           {
            "colorbar": {
             "outlinewidth": 0,
             "ticks": ""
            },
            "colorscale": [
             [
              0,
              "#0d0887"
             ],
             [
              0.1111111111111111,
              "#46039f"
             ],
             [
              0.2222222222222222,
              "#7201a8"
             ],
             [
              0.3333333333333333,
              "#9c179e"
             ],
             [
              0.4444444444444444,
              "#bd3786"
             ],
             [
              0.5555555555555556,
              "#d8576b"
             ],
             [
              0.6666666666666666,
              "#ed7953"
             ],
             [
              0.7777777777777778,
              "#fb9f3a"
             ],
             [
              0.8888888888888888,
              "#fdca26"
             ],
             [
              1,
              "#f0f921"
             ]
            ],
            "type": "surface"
           }
          ],
          "table": [
           {
            "cells": {
             "fill": {
              "color": "#EBF0F8"
             },
             "line": {
              "color": "white"
             }
            },
            "header": {
             "fill": {
              "color": "#C8D4E3"
             },
             "line": {
              "color": "white"
             }
            },
            "type": "table"
           }
          ]
         },
         "layout": {
          "annotationdefaults": {
           "arrowcolor": "#2a3f5f",
           "arrowhead": 0,
           "arrowwidth": 1
          },
          "autotypenumbers": "strict",
          "coloraxis": {
           "colorbar": {
            "outlinewidth": 0,
            "ticks": ""
           }
          },
          "colorscale": {
           "diverging": [
            [
             0,
             "#8e0152"
            ],
            [
             0.1,
             "#c51b7d"
            ],
            [
             0.2,
             "#de77ae"
            ],
            [
             0.3,
             "#f1b6da"
            ],
            [
             0.4,
             "#fde0ef"
            ],
            [
             0.5,
             "#f7f7f7"
            ],
            [
             0.6,
             "#e6f5d0"
            ],
            [
             0.7,
             "#b8e186"
            ],
            [
             0.8,
             "#7fbc41"
            ],
            [
             0.9,
             "#4d9221"
            ],
            [
             1,
             "#276419"
            ]
           ],
           "sequential": [
            [
             0,
             "#0d0887"
            ],
            [
             0.1111111111111111,
             "#46039f"
            ],
            [
             0.2222222222222222,
             "#7201a8"
            ],
            [
             0.3333333333333333,
             "#9c179e"
            ],
            [
             0.4444444444444444,
             "#bd3786"
            ],
            [
             0.5555555555555556,
             "#d8576b"
            ],
            [
             0.6666666666666666,
             "#ed7953"
            ],
            [
             0.7777777777777778,
             "#fb9f3a"
            ],
            [
             0.8888888888888888,
             "#fdca26"
            ],
            [
             1,
             "#f0f921"
            ]
           ],
           "sequentialminus": [
            [
             0,
             "#0d0887"
            ],
            [
             0.1111111111111111,
             "#46039f"
            ],
            [
             0.2222222222222222,
             "#7201a8"
            ],
            [
             0.3333333333333333,
             "#9c179e"
            ],
            [
             0.4444444444444444,
             "#bd3786"
            ],
            [
             0.5555555555555556,
             "#d8576b"
            ],
            [
             0.6666666666666666,
             "#ed7953"
            ],
            [
             0.7777777777777778,
             "#fb9f3a"
            ],
            [
             0.8888888888888888,
             "#fdca26"
            ],
            [
             1,
             "#f0f921"
            ]
           ]
          },
          "colorway": [
           "#636efa",
           "#EF553B",
           "#00cc96",
           "#ab63fa",
           "#FFA15A",
           "#19d3f3",
           "#FF6692",
           "#B6E880",
           "#FF97FF",
           "#FECB52"
          ],
          "font": {
           "color": "#2a3f5f"
          },
          "geo": {
           "bgcolor": "white",
           "lakecolor": "white",
           "landcolor": "#E5ECF6",
           "showlakes": true,
           "showland": true,
           "subunitcolor": "white"
          },
          "hoverlabel": {
           "align": "left"
          },
          "hovermode": "closest",
          "mapbox": {
           "style": "light"
          },
          "paper_bgcolor": "white",
          "plot_bgcolor": "#E5ECF6",
          "polar": {
           "angularaxis": {
            "gridcolor": "white",
            "linecolor": "white",
            "ticks": ""
           },
           "bgcolor": "#E5ECF6",
           "radialaxis": {
            "gridcolor": "white",
            "linecolor": "white",
            "ticks": ""
           }
          },
          "scene": {
           "xaxis": {
            "backgroundcolor": "#E5ECF6",
            "gridcolor": "white",
            "gridwidth": 2,
            "linecolor": "white",
            "showbackground": true,
            "ticks": "",
            "zerolinecolor": "white"
           },
           "yaxis": {
            "backgroundcolor": "#E5ECF6",
            "gridcolor": "white",
            "gridwidth": 2,
            "linecolor": "white",
            "showbackground": true,
            "ticks": "",
            "zerolinecolor": "white"
           },
           "zaxis": {
            "backgroundcolor": "#E5ECF6",
            "gridcolor": "white",
            "gridwidth": 2,
            "linecolor": "white",
            "showbackground": true,
            "ticks": "",
            "zerolinecolor": "white"
           }
          },
          "shapedefaults": {
           "line": {
            "color": "#2a3f5f"
           }
          },
          "ternary": {
           "aaxis": {
            "gridcolor": "white",
            "linecolor": "white",
            "ticks": ""
           },
           "baxis": {
            "gridcolor": "white",
            "linecolor": "white",
            "ticks": ""
           },
           "bgcolor": "#E5ECF6",
           "caxis": {
            "gridcolor": "white",
            "linecolor": "white",
            "ticks": ""
           }
          },
          "title": {
           "x": 0.05
          },
          "xaxis": {
           "automargin": true,
           "gridcolor": "white",
           "linecolor": "white",
           "ticks": "",
           "title": {
            "standoff": 15
           },
           "zerolinecolor": "white",
           "zerolinewidth": 2
          },
          "yaxis": {
           "automargin": true,
           "gridcolor": "white",
           "linecolor": "white",
           "ticks": "",
           "title": {
            "standoff": 15
           },
           "zerolinecolor": "white",
           "zerolinewidth": 2
          }
         }
        },
        "width": 440,
        "xaxis": {
         "tickfont": {
          "size": 11
         },
         "tickmode": "array",
         "ticktext": [
          "Fashion",
          "MNIST",
          "covertype",
          "shuttle"
         ],
         "tickvals": [
          "MLPFashion",
          "MLPMNIST",
          "MLPcovertype",
          "MLPshuttle"
         ]
        },
        "yaxis": {
         "gridcolor": "lightgrey",
         "tickfont": {
          "size": 10
         },
         "tickmode": "array",
         "ticktext": [
          "1k",
          "2k",
          "3k",
          "4k",
          "5k",
          "7k",
          "9k"
         ],
         "tickvals": [
          1000,
          2000,
          3000,
          4000,
          5000,
          7000,
          9000
         ],
         "title": {
          "font": {
           "size": 13
          },
          "standoff": 5,
          "text": "Final regret ± 99% CI"
         }
        }
       }
      }
     },
     "metadata": {},
     "output_type": "display_data"
    }
   ],
   "source": [
    "import pandas as pd\n",
    "import plotly.graph_objects as go\n",
    "import numpy as np\n",
    "import plotly.express as px\n",
    "# Assuming df is your DataFrame and it has columns 'Dataset', 'Value', 'Model'\n",
    "\n",
    "w = 0.1\n",
    "def remove_substrings(s, substrings):\n",
    "    for substring in substrings:\n",
    "        s = s.replace(substring, '')\n",
    "    return s\n",
    "\n",
    "\n",
    "# approaches = result['merge'].unique()\n",
    "# 'LeNetNeural-CBP', 'LeNetNeuronal (official)', 'LeNetNeuronal (tuned)',\n",
    "# approaches = np.array([ 'MLPNeural-CBP', 'MLPNeuronal (official)','MLPNeuronal (tuned)', 'MLPIneurAL (official)', \n",
    "#                         'MLPIneurAL (tuned)',  'MLPCesa', 'MLPMargin' ], dtype=object) \n",
    "# approaches_names = [ remove_substrings(model, ['LeNet', 'MLP']) for model in approaches ]\n",
    "# default_colors = px.colors.qualitative.Plotly\n",
    "# model_colors = {model_n:col for model_n,col in zip(approaches_names,default_colors) }\n",
    "\n",
    "approaches = {\n",
    "    #'EEneuralcbpside_v5': {'color': [255, 255, 0], 'label': 'EEneuralcbpside_v5'},  # Red\n",
    "    'MLPNeural-CBP': {'color': [171, 99, 250], 'label': 'Neural-CBP'},  # Red\n",
    "    'MLPIneurAL (official)': {'color': [255, 161, 90], 'label':'IneurAL (official)'},                    # Yellow\n",
    "    'MLPIneurAL (tuned)': {'color': [25, 211, 243], 'label':'IneurAL (tuned)'},                    # Cyan\n",
    "    'MLPNeuronal (official)': {'color': [255, 102, 146], 'label':'Neuronal (official)'},                  # Magenta\n",
    "    'MLPNeuronal (tuned)': {'color': [182, 232, 128], 'label':'Neuronal (tuned)'},                   # Orange\n",
    "    # 'MLPMargin': {'color': [255, 151, 255], 'label':'Margin'},\n",
    "    # 'MLPCesa': {'color': [254, 203, 82], 'label':'Cesa'},\n",
    "}\n",
    "\n",
    "\n",
    "# Create an empty figure\n",
    "fig = go.Figure()\n",
    "\n",
    "\n",
    "views = []\n",
    "for appr in approaches.keys():\n",
    "    print(appr)\n",
    "    appr_name = approaches[appr]['label']\n",
    "    r,g,b = approaches[appr]['color']\n",
    "\n",
    "    subset = result[result['merge'] == appr]\n",
    "    dec = False\n",
    "    if appr_name not in views:\n",
    "        dec = True\n",
    "        views.append(appr_name)\n",
    "    \n",
    "\n",
    "    if 'CBP' in appr_name:\n",
    "        fig.add_trace(go.Bar(\n",
    "            x=subset['merge2'],\n",
    "            y=subset['Mean'],\n",
    "            name=appr_name,\n",
    "            error_y=dict(type='data', array=subset['StdError'], visible=True,thickness=1 ),\n",
    "            marker_color='rgba({},{},{},1)'.format(r,g,b),marker_pattern_shape='x',marker_pattern_fgcolor='black', \n",
    "            showlegend = dec,\n",
    "            # width=w\n",
    "            ))\n",
    "    else: \n",
    "        fig.add_trace(go.Bar(\n",
    "            x=subset['merge2'],\n",
    "            y=subset['Mean'],\n",
    "            name=appr_name,\n",
    "            error_y=dict(type='data', array=subset['StdError'], visible=True,thickness=1 ),\n",
    "            marker_color='rgba({},{},{},1)'.format(r,g,b), \n",
    "            showlegend = dec,\n",
    "            # width=w\n",
    "            ))\n",
    "\n",
    "\n",
    "# Add vertical black lines between data groups\n",
    "\n",
    "datasets = result['merge2'].unique()\n",
    "print(datasets)\n",
    "for i, dataset in enumerate(datasets[:-1]):\n",
    "    if i == 2:\n",
    "        fig.add_vline(x=i + 0.5, line_width=2, line_color=\"black\",   line_dash=\"dot\")\n",
    "    else:\n",
    "        fig.add_vline(x=i + 0.5, line_width=2, line_color=\"black\",  line_dash=\"dot\")\n",
    "\n",
    "\n",
    "siz = 13\n",
    "\n",
    "def format_tick(val):\n",
    "    \"\"\" Custom function to format the tick labels. \"\"\"\n",
    "    return f'{int(val / 1000)}k' if val >= 1000 else str(val)\n",
    "\n",
    "\n",
    "fig.update_layout(\n",
    "    width=440,\n",
    "    height=180,\n",
    "    plot_bgcolor='white',  # Sets the plot background color\n",
    "    paper_bgcolor='white',  # Sets the overall figure background color\n",
    "    barmode='group',\n",
    "    margin=dict(l=0, r=0, t=0, b=0),  # Small margins\n",
    "    xaxis=dict(\n",
    "        tickmode='array',\n",
    "        tickvals=result['merge2'].unique(),\n",
    "        ticktext = [ remove_substrings(model, ['LeNet', 'MLP']) for model in result['merge2'].unique() ],\n",
    "        tickfont=dict(size=siz-2)  # Increase X-axis tick font size\n",
    "    ),\n",
    "    yaxis=dict(\n",
    "        # type=\"log\",\n",
    "        gridcolor='lightgrey',\n",
    "        title=\"Final regret ± 99% CI\",\n",
    "        title_standoff=5,\n",
    "        title_font=dict(size=siz),\n",
    "        tickfont=dict(size=siz-3) , # Increase Y-axis tick font size\n",
    "        tickmode='array',\n",
    "        tickvals=[1000, 2000, 3000, 4000, 5000, 7000, 9000 ],  # Specify the values where you want ticks\n",
    "        ticktext=[format_tick(val) for val in [1000, 2000, 3000, 4000, 5000, 7000, 9000]]  # Format those values\n",
    "    ),\n",
    "    showlegend=False\n",
    "\n",
    "    # legend=dict(\n",
    "    #     orientation=\"h\",\n",
    "    #     yanchor=\"bottom\",\n",
    "    #     y=-0.3,  # Adjust this value to position the legend\n",
    "    #     xanchor=\"center\",\n",
    "    #     x=0.5,\n",
    "    #     font=dict(size=siz)  # Increase legend font size\n",
    "    # ),\n",
    ")\n",
    "\n",
    "fig.show()\n",
    "# fig.write_image(\"./figures/results_nonbinary_MLP.pdf\" )\n",
    "# fig.write_image(\"./figures/results_nonbinary_MLP.pdf\" )"
   ]
  }
 ],
 "metadata": {
  "kernelspec": {
   "display_name": ".venv",
   "language": "python",
   "name": "python3"
  },
  "language_info": {
   "codemirror_mode": {
    "name": "ipython",
    "version": 3
   },
   "file_extension": ".py",
   "mimetype": "text/x-python",
   "name": "python",
   "nbconvert_exporter": "python",
   "pygments_lexer": "ipython3",
   "version": "3.8.16"
  },
  "orig_nbformat": 4
 },
 "nbformat": 4,
 "nbformat_minor": 2
}
