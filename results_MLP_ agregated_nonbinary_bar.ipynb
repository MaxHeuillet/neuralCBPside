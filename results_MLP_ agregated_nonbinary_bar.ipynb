{
 "cells": [
  {
   "cell_type": "code",
   "execution_count": 10,
   "metadata": {},
   "outputs": [],
   "source": [
    "import os\n",
    "import numpy as np\n",
    "import plotly.graph_objects as go\n",
    "\n",
    "import gzip\n",
    "import pickle as pkl\n",
    "\n",
    "def loadall_results2(path, n_folds):\n",
    "    regret = []\n",
    "    history_actions = []\n",
    "    history_outcomes = []\n",
    "    perf = []\n",
    "    with gzip.open(  path ,'rb') as f:\n",
    "        for i in range(n_folds+1):\n",
    "            try:\n",
    "                data = pkl.load(f)\n",
    "            except EOFError:\n",
    "                break\n",
    "\n",
    "            if type(data) == dict:\n",
    "                regret.append( data['regret'] ) \n",
    "                history_actions.append( data['action_history'] )\n",
    "                history_outcomes.append( data['outcome_history'] ) \n",
    "                perf.append( data['pred'] ) \n",
    "\n",
    "    \n",
    "    return regret, history_actions, history_outcomes, perf"
   ]
  },
  {
   "cell_type": "code",
   "execution_count": 20,
   "metadata": {},
   "outputs": [],
   "source": [
    "n_folds = 25\n",
    "horizon = 9999\n",
    "context = 'covertype'\n",
    "model = 'MLP'\n",
    "case = 'game_case_seven'\n",
    "agent_name = 'ineural3' #ineural6, neuronal6\n",
    "\n",
    "direct = './results/'\n",
    "path = os.path.join(direct, '{}_{}_{}_{}_{}_{}.pkl.gz'.format(case,model,context,horizon,n_folds,agent_name) )\n",
    "regret, action_history,outcome_history, perf = loadall_results2(path, n_folds)\n"
   ]
  },
  {
   "cell_type": "code",
   "execution_count": 11,
   "metadata": {},
   "outputs": [
    {
     "name": "stdout",
     "output_type": "stream",
     "text": [
      "./results/case2_MLP_MNIST_9999_25_EEneuralcbpside_v6.pkl.gz\n",
      "25\n",
      "m [[1333, 'MNIST', 'Neural-CBP'], [1306, 'MNIST', 'Neural-CBP'], [1298, 'MNIST', 'Neural-CBP'], [1361, 'MNIST', 'Neural-CBP'], [1234, 'MNIST', 'Neural-CBP'], [1314, 'MNIST', 'Neural-CBP'], [1375, 'MNIST', 'Neural-CBP'], [1294, 'MNIST', 'Neural-CBP'], [1314, 'MNIST', 'Neural-CBP'], [1325, 'MNIST', 'Neural-CBP'], [1323, 'MNIST', 'Neural-CBP'], [1290, 'MNIST', 'Neural-CBP'], [1348, 'MNIST', 'Neural-CBP'], [1324, 'MNIST', 'Neural-CBP'], [1261, 'MNIST', 'Neural-CBP'], [1301, 'MNIST', 'Neural-CBP'], [1297, 'MNIST', 'Neural-CBP'], [1181, 'MNIST', 'Neural-CBP'], [1369, 'MNIST', 'Neural-CBP'], [1321, 'MNIST', 'Neural-CBP'], [1286, 'MNIST', 'Neural-CBP'], [1384, 'MNIST', 'Neural-CBP'], [1239, 'MNIST', 'Neural-CBP'], [1201, 'MNIST', 'Neural-CBP'], [1352, 'MNIST', 'Neural-CBP']]\n",
      "./results/case2_MLP_MNIST_9999_25_ineural6.pkl.gz\n",
      "25\n",
      "m [[3836, 'MNIST', 'IneurAL (official)'], [3757, 'MNIST', 'IneurAL (official)'], [3619, 'MNIST', 'IneurAL (official)'], [3990, 'MNIST', 'IneurAL (official)'], [4169, 'MNIST', 'IneurAL (official)'], [4067, 'MNIST', 'IneurAL (official)'], [4018, 'MNIST', 'IneurAL (official)'], [4087, 'MNIST', 'IneurAL (official)'], [3898, 'MNIST', 'IneurAL (official)'], [3931, 'MNIST', 'IneurAL (official)'], [4131, 'MNIST', 'IneurAL (official)'], [3835, 'MNIST', 'IneurAL (official)'], [3813, 'MNIST', 'IneurAL (official)'], [3891, 'MNIST', 'IneurAL (official)'], [3977, 'MNIST', 'IneurAL (official)'], [3580, 'MNIST', 'IneurAL (official)'], [3590, 'MNIST', 'IneurAL (official)'], [3962, 'MNIST', 'IneurAL (official)'], [4082, 'MNIST', 'IneurAL (official)'], [3544, 'MNIST', 'IneurAL (official)'], [3577, 'MNIST', 'IneurAL (official)'], [3827, 'MNIST', 'IneurAL (official)'], [3842, 'MNIST', 'IneurAL (official)'], [3750, 'MNIST', 'IneurAL (official)'], [3980, 'MNIST', 'IneurAL (official)']]\n",
      "./results/case2_MLP_MNIST_9999_25_ineural3.pkl.gz\n",
      "25\n",
      "m [[1816, 'MNIST', 'IneurAL (less exploration)'], [1709, 'MNIST', 'IneurAL (less exploration)'], [1721, 'MNIST', 'IneurAL (less exploration)'], [1937, 'MNIST', 'IneurAL (less exploration)'], [1823, 'MNIST', 'IneurAL (less exploration)'], [1868, 'MNIST', 'IneurAL (less exploration)'], [1820, 'MNIST', 'IneurAL (less exploration)'], [1944, 'MNIST', 'IneurAL (less exploration)'], [1779, 'MNIST', 'IneurAL (less exploration)'], [1692, 'MNIST', 'IneurAL (less exploration)'], [1801, 'MNIST', 'IneurAL (less exploration)'], [1812, 'MNIST', 'IneurAL (less exploration)'], [1818, 'MNIST', 'IneurAL (less exploration)'], [1903, 'MNIST', 'IneurAL (less exploration)'], [1846, 'MNIST', 'IneurAL (less exploration)'], [1877, 'MNIST', 'IneurAL (less exploration)'], [1809, 'MNIST', 'IneurAL (less exploration)'], [1851, 'MNIST', 'IneurAL (less exploration)'], [1801, 'MNIST', 'IneurAL (less exploration)'], [1909, 'MNIST', 'IneurAL (less exploration)'], [1786, 'MNIST', 'IneurAL (less exploration)'], [1717, 'MNIST', 'IneurAL (less exploration)'], [1836, 'MNIST', 'IneurAL (less exploration)'], [1773, 'MNIST', 'IneurAL (less exploration)'], [1816, 'MNIST', 'IneurAL (less exploration)']]\n",
      "./results/case2_MLP_MNIST_9999_25_neuronal6b.pkl.gz\n",
      "25\n",
      "m [[3136, 'MNIST', 'Neuronal (official)'], [3297, 'MNIST', 'Neuronal (official)'], [3336, 'MNIST', 'Neuronal (official)'], [3287, 'MNIST', 'Neuronal (official)'], [3269, 'MNIST', 'Neuronal (official)'], [3195, 'MNIST', 'Neuronal (official)'], [3300, 'MNIST', 'Neuronal (official)'], [3276, 'MNIST', 'Neuronal (official)'], [3237, 'MNIST', 'Neuronal (official)'], [3319, 'MNIST', 'Neuronal (official)'], [3355, 'MNIST', 'Neuronal (official)'], [3270, 'MNIST', 'Neuronal (official)'], [3251, 'MNIST', 'Neuronal (official)'], [3236, 'MNIST', 'Neuronal (official)'], [3075, 'MNIST', 'Neuronal (official)'], [3376, 'MNIST', 'Neuronal (official)'], [3037, 'MNIST', 'Neuronal (official)'], [3170, 'MNIST', 'Neuronal (official)'], [3138, 'MNIST', 'Neuronal (official)'], [3182, 'MNIST', 'Neuronal (official)'], [3142, 'MNIST', 'Neuronal (official)'], [3161, 'MNIST', 'Neuronal (official)'], [3223, 'MNIST', 'Neuronal (official)'], [3089, 'MNIST', 'Neuronal (official)'], [3264, 'MNIST', 'Neuronal (official)']]\n",
      "./results/case2_MLP_MNIST_9999_25_neuronal3b.pkl.gz\n",
      "25\n",
      "m [[1992, 'MNIST', 'Neuronal (less exploration)'], [2015, 'MNIST', 'Neuronal (less exploration)'], [2017, 'MNIST', 'Neuronal (less exploration)'], [2074, 'MNIST', 'Neuronal (less exploration)'], [1989, 'MNIST', 'Neuronal (less exploration)'], [2107, 'MNIST', 'Neuronal (less exploration)'], [2113, 'MNIST', 'Neuronal (less exploration)'], [2112, 'MNIST', 'Neuronal (less exploration)'], [2019, 'MNIST', 'Neuronal (less exploration)'], [2090, 'MNIST', 'Neuronal (less exploration)'], [2106, 'MNIST', 'Neuronal (less exploration)'], [2055, 'MNIST', 'Neuronal (less exploration)'], [2015, 'MNIST', 'Neuronal (less exploration)'], [1993, 'MNIST', 'Neuronal (less exploration)'], [2140, 'MNIST', 'Neuronal (less exploration)'], [1925, 'MNIST', 'Neuronal (less exploration)'], [1940, 'MNIST', 'Neuronal (less exploration)'], [1923, 'MNIST', 'Neuronal (less exploration)'], [2037, 'MNIST', 'Neuronal (less exploration)'], [2053, 'MNIST', 'Neuronal (less exploration)'], [2002, 'MNIST', 'Neuronal (less exploration)'], [1963, 'MNIST', 'Neuronal (less exploration)'], [1979, 'MNIST', 'Neuronal (less exploration)'], [2014, 'MNIST', 'Neuronal (less exploration)'], [2088, 'MNIST', 'Neuronal (less exploration)']]\n",
      "./results/case2_MLP_FASHION_9999_25_EEneuralcbpside_v6.pkl.gz\n",
      "25\n",
      "m [[1554, 'FASHION', 'Neural-CBP'], [1391, 'FASHION', 'Neural-CBP'], [1464, 'FASHION', 'Neural-CBP'], [1662, 'FASHION', 'Neural-CBP'], [1552, 'FASHION', 'Neural-CBP'], [1548, 'FASHION', 'Neural-CBP'], [1430, 'FASHION', 'Neural-CBP'], [1576, 'FASHION', 'Neural-CBP'], [1526, 'FASHION', 'Neural-CBP'], [1516, 'FASHION', 'Neural-CBP'], [1533, 'FASHION', 'Neural-CBP'], [1569, 'FASHION', 'Neural-CBP'], [1480, 'FASHION', 'Neural-CBP'], [1577, 'FASHION', 'Neural-CBP'], [1527, 'FASHION', 'Neural-CBP'], [1492, 'FASHION', 'Neural-CBP'], [1571, 'FASHION', 'Neural-CBP'], [1599, 'FASHION', 'Neural-CBP'], [1368, 'FASHION', 'Neural-CBP'], [1517, 'FASHION', 'Neural-CBP'], [1564, 'FASHION', 'Neural-CBP'], [1508, 'FASHION', 'Neural-CBP'], [1587, 'FASHION', 'Neural-CBP'], [1500, 'FASHION', 'Neural-CBP'], [1487, 'FASHION', 'Neural-CBP']]\n",
      "./results/case2_MLP_FASHION_9999_25_ineural6.pkl.gz\n",
      "25\n",
      "m [[4307, 'FASHION', 'IneurAL (official)'], [4119, 'FASHION', 'IneurAL (official)'], [4284, 'FASHION', 'IneurAL (official)'], [4603, 'FASHION', 'IneurAL (official)'], [4420, 'FASHION', 'IneurAL (official)'], [4600, 'FASHION', 'IneurAL (official)'], [4174, 'FASHION', 'IneurAL (official)'], [4252, 'FASHION', 'IneurAL (official)'], [4542, 'FASHION', 'IneurAL (official)'], [4186, 'FASHION', 'IneurAL (official)'], [4482, 'FASHION', 'IneurAL (official)'], [4561, 'FASHION', 'IneurAL (official)'], [4255, 'FASHION', 'IneurAL (official)'], [4469, 'FASHION', 'IneurAL (official)'], [4244, 'FASHION', 'IneurAL (official)'], [4611, 'FASHION', 'IneurAL (official)'], [4438, 'FASHION', 'IneurAL (official)'], [4289, 'FASHION', 'IneurAL (official)'], [4359, 'FASHION', 'IneurAL (official)'], [4324, 'FASHION', 'IneurAL (official)'], [4218, 'FASHION', 'IneurAL (official)'], [4400, 'FASHION', 'IneurAL (official)'], [4413, 'FASHION', 'IneurAL (official)'], [4577, 'FASHION', 'IneurAL (official)'], [4445, 'FASHION', 'IneurAL (official)']]\n",
      "./results/case2_MLP_FASHION_9999_25_ineural3.pkl.gz\n",
      "25\n",
      "m [[2124, 'FASHION', 'IneurAL (less exploration)'], [2118, 'FASHION', 'IneurAL (less exploration)'], [2256, 'FASHION', 'IneurAL (less exploration)'], [2071, 'FASHION', 'IneurAL (less exploration)'], [2123, 'FASHION', 'IneurAL (less exploration)'], [2301, 'FASHION', 'IneurAL (less exploration)'], [2256, 'FASHION', 'IneurAL (less exploration)'], [2291, 'FASHION', 'IneurAL (less exploration)'], [2340, 'FASHION', 'IneurAL (less exploration)'], [2237, 'FASHION', 'IneurAL (less exploration)'], [2221, 'FASHION', 'IneurAL (less exploration)'], [2364, 'FASHION', 'IneurAL (less exploration)'], [2163, 'FASHION', 'IneurAL (less exploration)'], [2089, 'FASHION', 'IneurAL (less exploration)'], [2085, 'FASHION', 'IneurAL (less exploration)'], [2333, 'FASHION', 'IneurAL (less exploration)'], [2326, 'FASHION', 'IneurAL (less exploration)'], [2289, 'FASHION', 'IneurAL (less exploration)'], [2283, 'FASHION', 'IneurAL (less exploration)'], [2110, 'FASHION', 'IneurAL (less exploration)'], [2341, 'FASHION', 'IneurAL (less exploration)'], [2084, 'FASHION', 'IneurAL (less exploration)'], [2129, 'FASHION', 'IneurAL (less exploration)'], [2188, 'FASHION', 'IneurAL (less exploration)'], [2133, 'FASHION', 'IneurAL (less exploration)']]\n",
      "./results/case2_MLP_FASHION_9999_25_neuronal6b.pkl.gz\n",
      "25\n",
      "m [[4039, 'FASHION', 'Neuronal (official)'], [4284, 'FASHION', 'Neuronal (official)'], [4035, 'FASHION', 'Neuronal (official)'], [4054, 'FASHION', 'Neuronal (official)'], [4226, 'FASHION', 'Neuronal (official)'], [4259, 'FASHION', 'Neuronal (official)'], [4255, 'FASHION', 'Neuronal (official)'], [4227, 'FASHION', 'Neuronal (official)'], [4186, 'FASHION', 'Neuronal (official)'], [4178, 'FASHION', 'Neuronal (official)'], [4089, 'FASHION', 'Neuronal (official)'], [4338, 'FASHION', 'Neuronal (official)'], [4104, 'FASHION', 'Neuronal (official)'], [4101, 'FASHION', 'Neuronal (official)'], [4303, 'FASHION', 'Neuronal (official)'], [4219, 'FASHION', 'Neuronal (official)'], [4206, 'FASHION', 'Neuronal (official)'], [4132, 'FASHION', 'Neuronal (official)'], [4220, 'FASHION', 'Neuronal (official)'], [4207, 'FASHION', 'Neuronal (official)'], [4277, 'FASHION', 'Neuronal (official)'], [4225, 'FASHION', 'Neuronal (official)'], [4166, 'FASHION', 'Neuronal (official)'], [4235, 'FASHION', 'Neuronal (official)'], [4267, 'FASHION', 'Neuronal (official)']]\n",
      "./results/case2_MLP_FASHION_9999_25_neuronal3b.pkl.gz\n",
      "25\n",
      "m [[2740, 'FASHION', 'Neuronal (less exploration)'], [2872, 'FASHION', 'Neuronal (less exploration)'], [2708, 'FASHION', 'Neuronal (less exploration)'], [2804, 'FASHION', 'Neuronal (less exploration)'], [2812, 'FASHION', 'Neuronal (less exploration)'], [2871, 'FASHION', 'Neuronal (less exploration)'], [2786, 'FASHION', 'Neuronal (less exploration)'], [2760, 'FASHION', 'Neuronal (less exploration)'], [2772, 'FASHION', 'Neuronal (less exploration)'], [2731, 'FASHION', 'Neuronal (less exploration)'], [2889, 'FASHION', 'Neuronal (less exploration)'], [2687, 'FASHION', 'Neuronal (less exploration)'], [2714, 'FASHION', 'Neuronal (less exploration)'], [2753, 'FASHION', 'Neuronal (less exploration)'], [2780, 'FASHION', 'Neuronal (less exploration)'], [2805, 'FASHION', 'Neuronal (less exploration)'], [2685, 'FASHION', 'Neuronal (less exploration)'], [2829, 'FASHION', 'Neuronal (less exploration)'], [2875, 'FASHION', 'Neuronal (less exploration)'], [2824, 'FASHION', 'Neuronal (less exploration)'], [2866, 'FASHION', 'Neuronal (less exploration)'], [2835, 'FASHION', 'Neuronal (less exploration)'], [2743, 'FASHION', 'Neuronal (less exploration)'], [2723, 'FASHION', 'Neuronal (less exploration)'], [2572, 'FASHION', 'Neuronal (less exploration)']]\n",
      "./results/game_case_seven_MLP_covertype_9999_25_EEneuralcbpside_v6.pkl.gz\n",
      "25\n",
      "m [[1, 'covertype', 'Neural-CBP'], [1, 'covertype', 'Neural-CBP'], [3, 'covertype', 'Neural-CBP'], [7, 'covertype', 'Neural-CBP'], [5, 'covertype', 'Neural-CBP'], [2, 'covertype', 'Neural-CBP'], [152, 'covertype', 'Neural-CBP'], [489, 'covertype', 'Neural-CBP'], [587, 'covertype', 'Neural-CBP'], [15, 'covertype', 'Neural-CBP'], [665, 'covertype', 'Neural-CBP'], [2, 'covertype', 'Neural-CBP'], [2, 'covertype', 'Neural-CBP'], [2, 'covertype', 'Neural-CBP'], [2, 'covertype', 'Neural-CBP'], [95, 'covertype', 'Neural-CBP'], [849, 'covertype', 'Neural-CBP'], [858, 'covertype', 'Neural-CBP'], [2, 'covertype', 'Neural-CBP'], [1108, 'covertype', 'Neural-CBP'], [956, 'covertype', 'Neural-CBP'], [1105, 'covertype', 'Neural-CBP'], [1040, 'covertype', 'Neural-CBP'], [1384, 'covertype', 'Neural-CBP'], [1842, 'covertype', 'Neural-CBP']]\n",
      "./results/game_case_seven_MLP_covertype_9999_25_ineural6.pkl.gz\n",
      "25\n",
      "m [[3, 'covertype', 'IneurAL (official)'], [8728, 'covertype', 'IneurAL (official)'], [8201, 'covertype', 'IneurAL (official)'], [8611, 'covertype', 'IneurAL (official)'], [8610, 'covertype', 'IneurAL (official)'], [8905, 'covertype', 'IneurAL (official)'], [8482, 'covertype', 'IneurAL (official)'], [8597, 'covertype', 'IneurAL (official)'], [8323, 'covertype', 'IneurAL (official)'], [6834, 'covertype', 'IneurAL (official)'], [7076, 'covertype', 'IneurAL (official)'], [8921, 'covertype', 'IneurAL (official)'], [8888, 'covertype', 'IneurAL (official)'], [8686, 'covertype', 'IneurAL (official)'], [8597, 'covertype', 'IneurAL (official)'], [8681, 'covertype', 'IneurAL (official)'], [8825, 'covertype', 'IneurAL (official)'], [9099, 'covertype', 'IneurAL (official)'], [9197, 'covertype', 'IneurAL (official)'], [8397, 'covertype', 'IneurAL (official)'], [8480, 'covertype', 'IneurAL (official)'], [8988, 'covertype', 'IneurAL (official)'], [8862, 'covertype', 'IneurAL (official)'], [8940, 'covertype', 'IneurAL (official)'], [8962, 'covertype', 'IneurAL (official)']]\n",
      "./results/game_case_seven_MLP_covertype_9999_25_ineural3.pkl.gz\n",
      "25\n",
      "m [[3, 'covertype', 'IneurAL (less exploration)'], [3, 'covertype', 'IneurAL (less exploration)'], [15, 'covertype', 'IneurAL (less exploration)'], [3, 'covertype', 'IneurAL (less exploration)'], [4373, 'covertype', 'IneurAL (less exploration)'], [5567, 'covertype', 'IneurAL (less exploration)'], [5703, 'covertype', 'IneurAL (less exploration)'], [5716, 'covertype', 'IneurAL (less exploration)'], [4963, 'covertype', 'IneurAL (less exploration)'], [5922, 'covertype', 'IneurAL (less exploration)'], [5762, 'covertype', 'IneurAL (less exploration)'], [5818, 'covertype', 'IneurAL (less exploration)'], [6097, 'covertype', 'IneurAL (less exploration)'], [5735, 'covertype', 'IneurAL (less exploration)'], [5677, 'covertype', 'IneurAL (less exploration)'], [6434, 'covertype', 'IneurAL (less exploration)'], [5946, 'covertype', 'IneurAL (less exploration)'], [5584, 'covertype', 'IneurAL (less exploration)'], [6117, 'covertype', 'IneurAL (less exploration)'], [6318, 'covertype', 'IneurAL (less exploration)'], [5906, 'covertype', 'IneurAL (less exploration)'], [5874, 'covertype', 'IneurAL (less exploration)'], [6277, 'covertype', 'IneurAL (less exploration)'], [5814, 'covertype', 'IneurAL (less exploration)'], [5926, 'covertype', 'IneurAL (less exploration)']]\n",
      "./results/game_case_seven_MLP_covertype_9999_25_neuronal6b.pkl.gz\n",
      "25\n",
      "m [[4397, 'covertype', 'Neuronal (official)'], [4733, 'covertype', 'Neuronal (official)'], [5051, 'covertype', 'Neuronal (official)'], [5089, 'covertype', 'Neuronal (official)'], [4303, 'covertype', 'Neuronal (official)'], [5642, 'covertype', 'Neuronal (official)'], [4239, 'covertype', 'Neuronal (official)'], [4784, 'covertype', 'Neuronal (official)'], [4378, 'covertype', 'Neuronal (official)'], [4584, 'covertype', 'Neuronal (official)'], [4671, 'covertype', 'Neuronal (official)'], [5067, 'covertype', 'Neuronal (official)'], [5116, 'covertype', 'Neuronal (official)'], [3977, 'covertype', 'Neuronal (official)'], [5084, 'covertype', 'Neuronal (official)'], [5568, 'covertype', 'Neuronal (official)'], [4378, 'covertype', 'Neuronal (official)'], [4379, 'covertype', 'Neuronal (official)'], [4938, 'covertype', 'Neuronal (official)'], [4768, 'covertype', 'Neuronal (official)'], [4721, 'covertype', 'Neuronal (official)'], [5129, 'covertype', 'Neuronal (official)'], [4764, 'covertype', 'Neuronal (official)'], [5279, 'covertype', 'Neuronal (official)'], [5023, 'covertype', 'Neuronal (official)']]\n",
      "./results/game_case_seven_MLP_covertype_9999_25_neuronal3b.pkl.gz\n",
      "25\n",
      "m [[2099, 'covertype', 'Neuronal (less exploration)'], [5, 'covertype', 'Neuronal (less exploration)'], [8, 'covertype', 'Neuronal (less exploration)'], [7, 'covertype', 'Neuronal (less exploration)'], [6, 'covertype', 'Neuronal (less exploration)'], [3, 'covertype', 'Neuronal (less exploration)'], [846, 'covertype', 'Neuronal (less exploration)'], [1897, 'covertype', 'Neuronal (less exploration)'], [2518, 'covertype', 'Neuronal (less exploration)'], [2783, 'covertype', 'Neuronal (less exploration)'], [21, 'covertype', 'Neuronal (less exploration)'], [937, 'covertype', 'Neuronal (less exploration)'], [1809, 'covertype', 'Neuronal (less exploration)'], [1956, 'covertype', 'Neuronal (less exploration)'], [2236, 'covertype', 'Neuronal (less exploration)'], [2381, 'covertype', 'Neuronal (less exploration)'], [2321, 'covertype', 'Neuronal (less exploration)'], [2417, 'covertype', 'Neuronal (less exploration)'], [2445, 'covertype', 'Neuronal (less exploration)'], [2636, 'covertype', 'Neuronal (less exploration)'], [8, 'covertype', 'Neuronal (less exploration)'], [20, 'covertype', 'Neuronal (less exploration)'], [12, 'covertype', 'Neuronal (less exploration)'], [1853, 'covertype', 'Neuronal (less exploration)'], [2036, 'covertype', 'Neuronal (less exploration)']]\n",
      "./results/game_case_seven_MLP_shuttle_9999_25_EEneuralcbpside_v6.pkl.gz\n",
      "25\n",
      "m [[259, 'shuttle', 'Neural-CBP'], [188, 'shuttle', 'Neural-CBP'], [104, 'shuttle', 'Neural-CBP'], [79, 'shuttle', 'Neural-CBP'], [60, 'shuttle', 'Neural-CBP'], [230, 'shuttle', 'Neural-CBP'], [373, 'shuttle', 'Neural-CBP'], [289, 'shuttle', 'Neural-CBP'], [106, 'shuttle', 'Neural-CBP'], [232, 'shuttle', 'Neural-CBP'], [227, 'shuttle', 'Neural-CBP'], [5, 'shuttle', 'Neural-CBP'], [174, 'shuttle', 'Neural-CBP'], [202, 'shuttle', 'Neural-CBP'], [5, 'shuttle', 'Neural-CBP'], [246, 'shuttle', 'Neural-CBP'], [3, 'shuttle', 'Neural-CBP'], [224, 'shuttle', 'Neural-CBP'], [230, 'shuttle', 'Neural-CBP'], [229, 'shuttle', 'Neural-CBP'], [178, 'shuttle', 'Neural-CBP'], [295, 'shuttle', 'Neural-CBP'], [517, 'shuttle', 'Neural-CBP'], [176, 'shuttle', 'Neural-CBP'], [121, 'shuttle', 'Neural-CBP']]\n",
      "./results/game_case_seven_MLP_shuttle_9999_25_ineural6.pkl.gz\n",
      "25\n",
      "m [[7282, 'shuttle', 'IneurAL (official)'], [8175, 'shuttle', 'IneurAL (official)'], [8594, 'shuttle', 'IneurAL (official)'], [7931, 'shuttle', 'IneurAL (official)'], [6974, 'shuttle', 'IneurAL (official)'], [8908, 'shuttle', 'IneurAL (official)'], [6931, 'shuttle', 'IneurAL (official)'], [6289, 'shuttle', 'IneurAL (official)'], [8768, 'shuttle', 'IneurAL (official)'], [9138, 'shuttle', 'IneurAL (official)'], [7580, 'shuttle', 'IneurAL (official)'], [9556, 'shuttle', 'IneurAL (official)'], [7270, 'shuttle', 'IneurAL (official)'], [6537, 'shuttle', 'IneurAL (official)'], [7918, 'shuttle', 'IneurAL (official)'], [8481, 'shuttle', 'IneurAL (official)'], [8708, 'shuttle', 'IneurAL (official)'], [7951, 'shuttle', 'IneurAL (official)'], [5311, 'shuttle', 'IneurAL (official)'], [7341, 'shuttle', 'IneurAL (official)'], [8661, 'shuttle', 'IneurAL (official)'], [9503, 'shuttle', 'IneurAL (official)'], [8335, 'shuttle', 'IneurAL (official)'], [7783, 'shuttle', 'IneurAL (official)'], [7600, 'shuttle', 'IneurAL (official)']]\n",
      "./results/game_case_seven_MLP_shuttle_9999_25_ineural3.pkl.gz\n",
      "25\n",
      "m [[2251, 'shuttle', 'IneurAL (less exploration)'], [1551, 'shuttle', 'IneurAL (less exploration)'], [1228, 'shuttle', 'IneurAL (less exploration)'], [2387, 'shuttle', 'IneurAL (less exploration)'], [1447, 'shuttle', 'IneurAL (less exploration)'], [2632, 'shuttle', 'IneurAL (less exploration)'], [3071, 'shuttle', 'IneurAL (less exploration)'], [1869, 'shuttle', 'IneurAL (less exploration)'], [2843, 'shuttle', 'IneurAL (less exploration)'], [2144, 'shuttle', 'IneurAL (less exploration)'], [2015, 'shuttle', 'IneurAL (less exploration)'], [2354, 'shuttle', 'IneurAL (less exploration)'], [3147, 'shuttle', 'IneurAL (less exploration)'], [1917, 'shuttle', 'IneurAL (less exploration)'], [1650, 'shuttle', 'IneurAL (less exploration)'], [2583, 'shuttle', 'IneurAL (less exploration)'], [2589, 'shuttle', 'IneurAL (less exploration)'], [2040, 'shuttle', 'IneurAL (less exploration)'], [2878, 'shuttle', 'IneurAL (less exploration)'], [2746, 'shuttle', 'IneurAL (less exploration)'], [1804, 'shuttle', 'IneurAL (less exploration)'], [2332, 'shuttle', 'IneurAL (less exploration)'], [1873, 'shuttle', 'IneurAL (less exploration)'], [3341, 'shuttle', 'IneurAL (less exploration)'], [2620, 'shuttle', 'IneurAL (less exploration)']]\n",
      "./results/game_case_seven_MLP_shuttle_9999_25_neuronal6b.pkl.gz\n",
      "25\n",
      "m [[3, 'shuttle', 'Neuronal (official)'], [3, 'shuttle', 'Neuronal (official)'], [3, 'shuttle', 'Neuronal (official)'], [3, 'shuttle', 'Neuronal (official)'], [387, 'shuttle', 'Neuronal (official)'], [399, 'shuttle', 'Neuronal (official)'], [452, 'shuttle', 'Neuronal (official)'], [686, 'shuttle', 'Neuronal (official)'], [445, 'shuttle', 'Neuronal (official)'], [3, 'shuttle', 'Neuronal (official)'], [3, 'shuttle', 'Neuronal (official)'], [3, 'shuttle', 'Neuronal (official)'], [3, 'shuttle', 'Neuronal (official)'], [400, 'shuttle', 'Neuronal (official)'], [3, 'shuttle', 'Neuronal (official)'], [3, 'shuttle', 'Neuronal (official)'], [307, 'shuttle', 'Neuronal (official)'], [537, 'shuttle', 'Neuronal (official)'], [327, 'shuttle', 'Neuronal (official)'], [3, 'shuttle', 'Neuronal (official)'], [3, 'shuttle', 'Neuronal (official)'], [3, 'shuttle', 'Neuronal (official)'], [3, 'shuttle', 'Neuronal (official)'], [3, 'shuttle', 'Neuronal (official)'], [602, 'shuttle', 'Neuronal (official)']]\n",
      "./results/game_case_seven_MLP_shuttle_9999_25_neuronal3b.pkl.gz\n",
      "25\n",
      "m [[3, 'shuttle', 'Neuronal (less exploration)'], [3, 'shuttle', 'Neuronal (less exploration)'], [338, 'shuttle', 'Neuronal (less exploration)'], [3, 'shuttle', 'Neuronal (less exploration)'], [3, 'shuttle', 'Neuronal (less exploration)'], [3, 'shuttle', 'Neuronal (less exploration)'], [3, 'shuttle', 'Neuronal (less exploration)'], [3, 'shuttle', 'Neuronal (less exploration)'], [326, 'shuttle', 'Neuronal (less exploration)'], [3, 'shuttle', 'Neuronal (less exploration)'], [298, 'shuttle', 'Neuronal (less exploration)'], [283, 'shuttle', 'Neuronal (less exploration)'], [349, 'shuttle', 'Neuronal (less exploration)'], [454, 'shuttle', 'Neuronal (less exploration)'], [3, 'shuttle', 'Neuronal (less exploration)'], [1, 'shuttle', 'Neuronal (less exploration)'], [3, 'shuttle', 'Neuronal (less exploration)'], [3, 'shuttle', 'Neuronal (less exploration)'], [249, 'shuttle', 'Neuronal (less exploration)'], [329, 'shuttle', 'Neuronal (less exploration)'], [361, 'shuttle', 'Neuronal (less exploration)'], [250, 'shuttle', 'Neuronal (less exploration)'], [485, 'shuttle', 'Neuronal (less exploration)'], [3, 'shuttle', 'Neuronal (less exploration)'], [170, 'shuttle', 'Neuronal (less exploration)']]\n"
     ]
    }
   ],
   "source": [
    "def convert_action_history(action_history,data, l_label):\n",
    "    counters = []\n",
    "    for history in action_history:\n",
    "\n",
    "        counter = sum([ 1 if action == 0 else 0 for action in history ])\n",
    "        counters.append( [counter, data, l_label] )\n",
    "\n",
    "    # counters.append(data)\n",
    "    # counters.append(l_label)\n",
    "    # std = 2.575 * np.std(counters, axis = 0) / n_folds \n",
    "    # std = np.std(counters, axis = 0) #/ n_folds \n",
    "\n",
    "    return counters#np.mean(counters, axis = 0), std \n",
    "\n",
    "n_folds = 25\n",
    "horizon = 9999\n",
    "model = 'MLP'\n",
    "\n",
    "\n",
    "material = {\n",
    "    'EEneuralcbpside_v6': {'color': [255, 0, 0], 'label': 'Neural-CBP'},  # Red\n",
    "    'ineural6': {'color': [51, 255, 255], 'label':'IneurAL (official)'},                    # Yellow\n",
    "    'ineural3': {'color': [0, 0, 255], 'label':'IneurAL (less exploration)'},                    # Cyan\n",
    "    'neuronal6b': {'color': [255, 0, 255], 'label':'Neuronal (official)'},                  # Magenta\n",
    "    'neuronal3b': {'color': [160, 160, 160], 'label':'Neuronal (less exploration)'},                   # Orange\n",
    "}\n",
    "\n",
    "fig = go.Figure( )\n",
    "\n",
    "exploration_dataset = []\n",
    "data_models = {}\n",
    "for model in ['MLP']: #, 'LeNet'\n",
    "\n",
    "    n_folds = 25\n",
    "    datasets = [ 'MNIST', 'FASHION', 'covertype', 'shuttle', ] #\n",
    "\n",
    "    data_regrets = {} \n",
    "    for data in datasets: \n",
    "\n",
    "        if data in ['MNIST', 'FASHION', 'CIFAR10']:\n",
    "            case = 'case2' \n",
    "        elif data in ['covertype', 'shuttle']:\n",
    "            case = 'game_case_seven'\n",
    "        # else:\n",
    "        # case = 'case1'\n",
    "            \n",
    "        final_regrets = {}\n",
    "        for agent_name in material.keys():\n",
    "\n",
    "            color, l_label = material[agent_name]['color'], material[agent_name]['label']\n",
    "\n",
    "            r,g,b = color\n",
    "\n",
    "            direct = './results/'\n",
    "            path = os.path.join(direct, '{}_{}_{}_{}_{}_{}.pkl.gz'.format(case, model, data, horizon,n_folds,agent_name) )\n",
    "            print(path)\n",
    "            result, history_actions, history_outcomes, perf = loadall_results2(path, n_folds)\n",
    "            result = np.array(result)\n",
    "            # result = result[1:]\n",
    "            result = result.astype(np.float32)\n",
    "            print(  len(history_actions) )\n",
    "            final_regrets[l_label] = result[:,-1] \n",
    "            m = convert_action_history(history_actions, data, l_label)\n",
    "            print('m', m)\n",
    "\n",
    "            exploration_dataset.extend( m )\n",
    "\n",
    "\n",
    "        if data == 'MNISTbinary':\n",
    "            data = 'MNIST binary'\n",
    "        if data == 'FASHION':\n",
    "            data = 'Fashion'\n",
    "            \n",
    "        data_regrets[data] = final_regrets\n",
    "        \n",
    "    data_models[model] = data_regrets"
   ]
  },
  {
   "cell_type": "code",
   "execution_count": 12,
   "metadata": {},
   "outputs": [],
   "source": [
    "import pandas as pd\n",
    "exploration_dataset = np.array(exploration_dataset)\n",
    "exploration_dataset = pd.DataFrame(exploration_dataset)\n",
    "exploration_dataset.dtypes\n",
    "exploration_dataset[0].astype(float)\n",
    "\n",
    "exploration_dataset.columns = ['Explore', 'Dataset', 'Approach']\n",
    "exploration_dataset['Explore'] = exploration_dataset['Explore'].astype(int)"
   ]
  },
  {
   "cell_type": "code",
   "execution_count": 13,
   "metadata": {},
   "outputs": [],
   "source": [
    "import pandas as pd\n",
    "# pd.DataFrame(data_regrets)\n",
    "# data_regrets\n",
    "\n",
    "samples = []\n",
    "\n",
    "# Iterate over the dictionary to extract data\n",
    "for model, dataset in data_models.items():\n",
    "    for data, approach in dataset.items():\n",
    "        for appr, values in approach.items():\n",
    "            for val in values:\n",
    "                samples.append([model, data, appr, val])\n",
    "\n",
    "# Create a DataFrame\n",
    "df = pd.DataFrame(samples, columns=['Model','Dataset', 'Approach', 'Value'])\n",
    "\n",
    "# Calculate mean and standard error for each group\n",
    "grouped = df.groupby(['Model', 'Dataset', 'Approach'])\n",
    "mean = grouped['Value'].mean().reset_index()\n",
    "\n",
    "std_error = 2.576 * grouped['Value'].std() / np.sqrt(grouped['Value'].count())\n",
    "# grouped['Value'].std() / np.sqrt(grouped['Value'].count())\n",
    "std_error = std_error.reset_index()\n",
    "\n",
    "# Merge the mean and standard error into a single DataFrame\n",
    "result = pd.merge(mean, std_error, on=['Model', 'Dataset', 'Approach'])\n",
    "result.rename(columns={'Value_x': 'Mean', 'Value_y': 'StdError'}, inplace=True)\n",
    "\n",
    "result['merge'] = result['Model'] + result['Approach']\n",
    "result['merge2'] = result['Model'] + result['Dataset']"
   ]
  },
  {
   "cell_type": "code",
   "execution_count": 14,
   "metadata": {},
   "outputs": [],
   "source": [
    "from scipy.stats import ttest_ind,mannwhitneyu\n",
    "# np.set_printoptions(suppress=True)\n",
    "\n",
    "\n",
    "final_values = []\n",
    "\n",
    "for data_name in ['MNIST', 'Fashion', 'covertype', 'shuttle'] : \n",
    "    subdf = df[ df['Dataset']== data_name ]\n",
    "\n",
    "    data_name2 = 'FASHION' if data_name =='Fashion' else data_name\n",
    "    subdf_exp = exploration_dataset[ exploration_dataset['Dataset']== data_name2 ]\n",
    "\n",
    "    dataset = pd.DataFrame([data_name] * 25)\n",
    "    # dataset_expl = pd.DataFrame([data_name] * 25)\n",
    "\n",
    "    final_dataset = []\n",
    "    references = []\n",
    "\n",
    "    for approach in ['Neural-CBP', 'IneurAL (official)', 'IneurAL (less exploration)', 'Neuronal (official)', 'Neuronal (less exploration)', ]:\n",
    "        \n",
    "        values = subdf[ subdf['Approach'] == approach]['Value']\n",
    "        values.name = '{}'.format(approach)\n",
    "        values = values.reset_index(drop=True)\n",
    "        dataset['{}'.format(approach)] = values\n",
    "\n",
    "        mean = np.mean(values)\n",
    "        \n",
    "\n",
    "        s, p = ttest_ind(df[  (df['Approach'] == 'Neural-CBP') & (df['Dataset'] == data_name)  ]['Value'], \n",
    "                    df[  (df['Approach'] == approach) & (df['Dataset'] == data_name)  ]['Value'], equal_var=False)\n",
    "        \n",
    "        values_exp = subdf_exp[ subdf_exp['Approach'] == approach]['Explore']\n",
    "        values_exp.name = '{}'.format(approach)\n",
    "        values_exp = values_exp.reset_index(drop=True)\n",
    "        values_exp = values_exp.astype(int)\n",
    "\n",
    "        mean_exp = np.mean(values_exp)\n",
    "\n",
    "        s, p_exp = ttest_ind( exploration_dataset[  (exploration_dataset['Approach'] == 'Neural-CBP') & (exploration_dataset['Dataset'] == data_name2)  ]['Explore'], \n",
    "                    exploration_dataset[  (exploration_dataset['Approach'] == approach) & (exploration_dataset['Dataset'] == data_name2)  ]['Explore'], equal_var=False)\n",
    "        \n",
    "        final_dataset.append( [  mean, p, mean_exp, p_exp ] )\n",
    "        references.append([ data_name ,  approach, ] )\n",
    "\n",
    "    final_dataset = np.array(final_dataset)\n",
    "    references = np.array(references)\n",
    "        \n",
    "\n",
    "    df_dropped = dataset.drop(columns=[0])\n",
    "    results = []\n",
    "    for i in range(25):\n",
    "        perfs = np.array( df_dropped.iloc[i].tolist() )\n",
    "        minimum = min( perfs )\n",
    "        strategy_won = (perfs == minimum)\n",
    "        results.append(strategy_won)  \n",
    "\n",
    "    results = np.array( results )  \n",
    "    true_counts = results.sum(axis=0)\n",
    "    true_counts = true_counts.reshape(-1, 1)\n",
    "\n",
    "\n",
    "    final = np.hstack( (final_dataset, true_counts) )\n",
    "    final = np.round(final,3)\n",
    "    final = np.hstack( (references, final) )\n",
    "\n",
    "    final_values.append(final)\n",
    "\n",
    "final_values = np.array(final_values)\n",
    "final_values = np.vstack(final_values)\n",
    "dataframe = pd.DataFrame(final_values)\n",
    "dataframe.columns = ['Dataset', 'Approach', 'Mean regret', 'p-value', 'Mean Exploration', 'p-value (exploration)', 'win count',]\n",
    "\n",
    "dataframe = dataframe[ ['Dataset', 'Approach', 'Mean regret', 'p-value', 'win count', 'Mean Exploration', 'p-value (exploration)'  ] ]\n",
    "dataframe.to_csv('./cr_figures/results_nonbinary_MLP_b.csv', index = False)"
   ]
  },
  {
   "cell_type": "code",
   "execution_count": 16,
   "metadata": {},
   "outputs": [
    {
     "name": "stdout",
     "output_type": "stream",
     "text": [
      "MLPNeural-CBP\n",
      "MLPIneurAL (official)\n",
      "MLPIneurAL (less exploration)\n",
      "MLPNeuronal (official)\n",
      "MLPNeuronal (less exploration)\n",
      "['MLPFashion' 'MLPMNIST' 'MLPcovertype' 'MLPshuttle']\n"
     ]
    },
    {
     "data": {
      "application/vnd.plotly.v1+json": {
       "config": {
        "plotlyServerURL": "https://plot.ly"
       },
       "data": [
        {
         "error_y": {
          "array": [
           33.311601212854754,
           26.537168002914957,
           358.47337098847987,
           370.2265903128249
          ],
          "thickness": 1,
          "type": "data",
          "visible": true
         },
         "marker": {
          "color": "rgba(171,99,250,1)",
          "pattern": {
           "fgcolor": "black",
           "shape": "x"
          }
         },
         "name": "Neural-CBP",
         "showlegend": true,
         "type": "bar",
         "x": [
          "MLPFashion",
          "MLPMNIST",
          "MLPcovertype",
          "MLPshuttle"
         ],
         "y": [
          2898.239990234375,
          1811.9599609375,
          5060.240234375,
          907.5599975585938
         ]
        },
        {
         "error_y": {
          "array": [
           70.57176301357175,
           90.38293845027177,
           442.91628239157006,
           516.3893257057132
          ],
          "thickness": 1,
          "type": "data",
          "visible": true
         },
         "marker": {
          "color": "rgba(255,161,90,1)"
         },
         "name": "IneurAL (official)",
         "showlegend": true,
         "type": "bar",
         "x": [
          "MLPFashion",
          "MLPMNIST",
          "MLPcovertype",
          "MLPshuttle"
         ],
         "y": [
          4882.47998046875,
          4016.840087890625,
          9129.6796875,
          7989.8798828125
         ]
        },
        {
         "error_y": {
          "array": [
           46.51048194637707,
           38.84578390691756,
           439.84140847687166,
           366.28965548608255
          ],
          "thickness": 1,
          "type": "data",
          "visible": true
         },
         "marker": {
          "color": "rgba(25,211,243,1)"
         },
         "name": "IneurAL (less exploration)",
         "showlegend": true,
         "type": "bar",
         "x": [
          "MLPFashion",
          "MLPMNIST",
          "MLPcovertype",
          "MLPshuttle"
         ],
         "y": [
          3437.760009765625,
          2371.360107421875,
          7707.72021484375,
          2810.080078125
         ]
        },
        {
         "error_y": {
          "array": [
           38.92496534964334,
           45.04392156284798,
           145.80535320493186,
           393.5322052078327
          ],
          "thickness": 1,
          "type": "data",
          "visible": true
         },
         "marker": {
          "color": "rgba(255,102,146,1)"
         },
         "name": "Neuronal (official)",
         "showlegend": true,
         "type": "bar",
         "x": [
          "MLPFashion",
          "MLPMNIST",
          "MLPcovertype",
          "MLPshuttle"
         ],
         "y": [
          4466.759765625,
          3275,
          5970.9599609375,
          1547.0799560546875
         ]
        },
        {
         "error_y": {
          "array": [
           32.20483564756907,
           32.260626616340495,
           390.1446163045438,
           359.4397333284863
          ],
          "thickness": 1,
          "type": "data",
          "visible": true
         },
         "marker": {
          "color": "rgba(182,232,128,1)"
         },
         "name": "Neuronal (less exploration)",
         "showlegend": true,
         "type": "bar",
         "x": [
          "MLPFashion",
          "MLPMNIST",
          "MLPcovertype",
          "MLPshuttle"
         ],
         "y": [
          3417.43994140625,
          2213.159912109375,
          5060.919921875,
          1524
         ]
        }
       ],
       "layout": {
        "barmode": "group",
        "height": 180,
        "margin": {
         "b": 0,
         "l": 0,
         "r": 0,
         "t": 0
        },
        "paper_bgcolor": "white",
        "plot_bgcolor": "white",
        "shapes": [
         {
          "line": {
           "color": "black",
           "dash": "dot",
           "width": 2
          },
          "type": "line",
          "x0": 0.5,
          "x1": 0.5,
          "xref": "x",
          "y0": 0,
          "y1": 1,
          "yref": "y domain"
         },
         {
          "line": {
           "color": "black",
           "dash": "dot",
           "width": 2
          },
          "type": "line",
          "x0": 1.5,
          "x1": 1.5,
          "xref": "x",
          "y0": 0,
          "y1": 1,
          "yref": "y domain"
         },
         {
          "line": {
           "color": "black",
           "dash": "dot",
           "width": 2
          },
          "type": "line",
          "x0": 2.5,
          "x1": 2.5,
          "xref": "x",
          "y0": 0,
          "y1": 1,
          "yref": "y domain"
         }
        ],
        "showlegend": false,
        "template": {
         "data": {
          "bar": [
           {
            "error_x": {
             "color": "#2a3f5f"
            },
            "error_y": {
             "color": "#2a3f5f"
            },
            "marker": {
             "line": {
              "color": "#E5ECF6",
              "width": 0.5
             },
             "pattern": {
              "fillmode": "overlay",
              "size": 10,
              "solidity": 0.2
             }
            },
            "type": "bar"
           }
          ],
          "barpolar": [
           {
            "marker": {
             "line": {
              "color": "#E5ECF6",
              "width": 0.5
             },
             "pattern": {
              "fillmode": "overlay",
              "size": 10,
              "solidity": 0.2
             }
            },
            "type": "barpolar"
           }
          ],
          "carpet": [
           {
            "aaxis": {
             "endlinecolor": "#2a3f5f",
             "gridcolor": "white",
             "linecolor": "white",
             "minorgridcolor": "white",
             "startlinecolor": "#2a3f5f"
            },
            "baxis": {
             "endlinecolor": "#2a3f5f",
             "gridcolor": "white",
             "linecolor": "white",
             "minorgridcolor": "white",
             "startlinecolor": "#2a3f5f"
            },
            "type": "carpet"
           }
          ],
          "choropleth": [
           {
            "colorbar": {
             "outlinewidth": 0,
             "ticks": ""
            },
            "type": "choropleth"
           }
          ],
          "contour": [
           {
            "colorbar": {
             "outlinewidth": 0,
             "ticks": ""
            },
            "colorscale": [
             [
              0,
              "#0d0887"
             ],
             [
              0.1111111111111111,
              "#46039f"
             ],
             [
              0.2222222222222222,
              "#7201a8"
             ],
             [
              0.3333333333333333,
              "#9c179e"
             ],
             [
              0.4444444444444444,
              "#bd3786"
             ],
             [
              0.5555555555555556,
              "#d8576b"
             ],
             [
              0.6666666666666666,
              "#ed7953"
             ],
             [
              0.7777777777777778,
              "#fb9f3a"
             ],
             [
              0.8888888888888888,
              "#fdca26"
             ],
             [
              1,
              "#f0f921"
             ]
            ],
            "type": "contour"
           }
          ],
          "contourcarpet": [
           {
            "colorbar": {
             "outlinewidth": 0,
             "ticks": ""
            },
            "type": "contourcarpet"
           }
          ],
          "heatmap": [
           {
            "colorbar": {
             "outlinewidth": 0,
             "ticks": ""
            },
            "colorscale": [
             [
              0,
              "#0d0887"
             ],
             [
              0.1111111111111111,
              "#46039f"
             ],
             [
              0.2222222222222222,
              "#7201a8"
             ],
             [
              0.3333333333333333,
              "#9c179e"
             ],
             [
              0.4444444444444444,
              "#bd3786"
             ],
             [
              0.5555555555555556,
              "#d8576b"
             ],
             [
              0.6666666666666666,
              "#ed7953"
             ],
             [
              0.7777777777777778,
              "#fb9f3a"
             ],
             [
              0.8888888888888888,
              "#fdca26"
             ],
             [
              1,
              "#f0f921"
             ]
            ],
            "type": "heatmap"
           }
          ],
          "heatmapgl": [
           {
            "colorbar": {
             "outlinewidth": 0,
             "ticks": ""
            },
            "colorscale": [
             [
              0,
              "#0d0887"
             ],
             [
              0.1111111111111111,
              "#46039f"
             ],
             [
              0.2222222222222222,
              "#7201a8"
             ],
             [
              0.3333333333333333,
              "#9c179e"
             ],
             [
              0.4444444444444444,
              "#bd3786"
             ],
             [
              0.5555555555555556,
              "#d8576b"
             ],
             [
              0.6666666666666666,
              "#ed7953"
             ],
             [
              0.7777777777777778,
              "#fb9f3a"
             ],
             [
              0.8888888888888888,
              "#fdca26"
             ],
             [
              1,
              "#f0f921"
             ]
            ],
            "type": "heatmapgl"
           }
          ],
          "histogram": [
           {
            "marker": {
             "pattern": {
              "fillmode": "overlay",
              "size": 10,
              "solidity": 0.2
             }
            },
            "type": "histogram"
           }
          ],
          "histogram2d": [
           {
            "colorbar": {
             "outlinewidth": 0,
             "ticks": ""
            },
            "colorscale": [
             [
              0,
              "#0d0887"
             ],
             [
              0.1111111111111111,
              "#46039f"
             ],
             [
              0.2222222222222222,
              "#7201a8"
             ],
             [
              0.3333333333333333,
              "#9c179e"
             ],
             [
              0.4444444444444444,
              "#bd3786"
             ],
             [
              0.5555555555555556,
              "#d8576b"
             ],
             [
              0.6666666666666666,
              "#ed7953"
             ],
             [
              0.7777777777777778,
              "#fb9f3a"
             ],
             [
              0.8888888888888888,
              "#fdca26"
             ],
             [
              1,
              "#f0f921"
             ]
            ],
            "type": "histogram2d"
           }
          ],
          "histogram2dcontour": [
           {
            "colorbar": {
             "outlinewidth": 0,
             "ticks": ""
            },
            "colorscale": [
             [
              0,
              "#0d0887"
             ],
             [
              0.1111111111111111,
              "#46039f"
             ],
             [
              0.2222222222222222,
              "#7201a8"
             ],
             [
              0.3333333333333333,
              "#9c179e"
             ],
             [
              0.4444444444444444,
              "#bd3786"
             ],
             [
              0.5555555555555556,
              "#d8576b"
             ],
             [
              0.6666666666666666,
              "#ed7953"
             ],
             [
              0.7777777777777778,
              "#fb9f3a"
             ],
             [
              0.8888888888888888,
              "#fdca26"
             ],
             [
              1,
              "#f0f921"
             ]
            ],
            "type": "histogram2dcontour"
           }
          ],
          "mesh3d": [
           {
            "colorbar": {
             "outlinewidth": 0,
             "ticks": ""
            },
            "type": "mesh3d"
           }
          ],
          "parcoords": [
           {
            "line": {
             "colorbar": {
              "outlinewidth": 0,
              "ticks": ""
             }
            },
            "type": "parcoords"
           }
          ],
          "pie": [
           {
            "automargin": true,
            "type": "pie"
           }
          ],
          "scatter": [
           {
            "fillpattern": {
             "fillmode": "overlay",
             "size": 10,
             "solidity": 0.2
            },
            "type": "scatter"
           }
          ],
          "scatter3d": [
           {
            "line": {
             "colorbar": {
              "outlinewidth": 0,
              "ticks": ""
             }
            },
            "marker": {
             "colorbar": {
              "outlinewidth": 0,
              "ticks": ""
             }
            },
            "type": "scatter3d"
           }
          ],
          "scattercarpet": [
           {
            "marker": {
             "colorbar": {
              "outlinewidth": 0,
              "ticks": ""
             }
            },
            "type": "scattercarpet"
           }
          ],
          "scattergeo": [
           {
            "marker": {
             "colorbar": {
              "outlinewidth": 0,
              "ticks": ""
             }
            },
            "type": "scattergeo"
           }
          ],
          "scattergl": [
           {
            "marker": {
             "colorbar": {
              "outlinewidth": 0,
              "ticks": ""
             }
            },
            "type": "scattergl"
           }
          ],
          "scattermapbox": [
           {
            "marker": {
             "colorbar": {
              "outlinewidth": 0,
              "ticks": ""
             }
            },
            "type": "scattermapbox"
           }
          ],
          "scatterpolar": [
           {
            "marker": {
             "colorbar": {
              "outlinewidth": 0,
              "ticks": ""
             }
            },
            "type": "scatterpolar"
           }
          ],
          "scatterpolargl": [
           {
            "marker": {
             "colorbar": {
              "outlinewidth": 0,
              "ticks": ""
             }
            },
            "type": "scatterpolargl"
           }
          ],
          "scatterternary": [
           {
            "marker": {
             "colorbar": {
              "outlinewidth": 0,
              "ticks": ""
             }
            },
            "type": "scatterternary"
           }
          ],
          "surface": [
           {
            "colorbar": {
             "outlinewidth": 0,
             "ticks": ""
            },
            "colorscale": [
             [
              0,
              "#0d0887"
             ],
             [
              0.1111111111111111,
              "#46039f"
             ],
             [
              0.2222222222222222,
              "#7201a8"
             ],
             [
              0.3333333333333333,
              "#9c179e"
             ],
             [
              0.4444444444444444,
              "#bd3786"
             ],
             [
              0.5555555555555556,
              "#d8576b"
             ],
             [
              0.6666666666666666,
              "#ed7953"
             ],
             [
              0.7777777777777778,
              "#fb9f3a"
             ],
             [
              0.8888888888888888,
              "#fdca26"
             ],
             [
              1,
              "#f0f921"
             ]
            ],
            "type": "surface"
           }
          ],
          "table": [
           {
            "cells": {
             "fill": {
              "color": "#EBF0F8"
             },
             "line": {
              "color": "white"
             }
            },
            "header": {
             "fill": {
              "color": "#C8D4E3"
             },
             "line": {
              "color": "white"
             }
            },
            "type": "table"
           }
          ]
         },
         "layout": {
          "annotationdefaults": {
           "arrowcolor": "#2a3f5f",
           "arrowhead": 0,
           "arrowwidth": 1
          },
          "autotypenumbers": "strict",
          "coloraxis": {
           "colorbar": {
            "outlinewidth": 0,
            "ticks": ""
           }
          },
          "colorscale": {
           "diverging": [
            [
             0,
             "#8e0152"
            ],
            [
             0.1,
             "#c51b7d"
            ],
            [
             0.2,
             "#de77ae"
            ],
            [
             0.3,
             "#f1b6da"
            ],
            [
             0.4,
             "#fde0ef"
            ],
            [
             0.5,
             "#f7f7f7"
            ],
            [
             0.6,
             "#e6f5d0"
            ],
            [
             0.7,
             "#b8e186"
            ],
            [
             0.8,
             "#7fbc41"
            ],
            [
             0.9,
             "#4d9221"
            ],
            [
             1,
             "#276419"
            ]
           ],
           "sequential": [
            [
             0,
             "#0d0887"
            ],
            [
             0.1111111111111111,
             "#46039f"
            ],
            [
             0.2222222222222222,
             "#7201a8"
            ],
            [
             0.3333333333333333,
             "#9c179e"
            ],
            [
             0.4444444444444444,
             "#bd3786"
            ],
            [
             0.5555555555555556,
             "#d8576b"
            ],
            [
             0.6666666666666666,
             "#ed7953"
            ],
            [
             0.7777777777777778,
             "#fb9f3a"
            ],
            [
             0.8888888888888888,
             "#fdca26"
            ],
            [
             1,
             "#f0f921"
            ]
           ],
           "sequentialminus": [
            [
             0,
             "#0d0887"
            ],
            [
             0.1111111111111111,
             "#46039f"
            ],
            [
             0.2222222222222222,
             "#7201a8"
            ],
            [
             0.3333333333333333,
             "#9c179e"
            ],
            [
             0.4444444444444444,
             "#bd3786"
            ],
            [
             0.5555555555555556,
             "#d8576b"
            ],
            [
             0.6666666666666666,
             "#ed7953"
            ],
            [
             0.7777777777777778,
             "#fb9f3a"
            ],
            [
             0.8888888888888888,
             "#fdca26"
            ],
            [
             1,
             "#f0f921"
            ]
           ]
          },
          "colorway": [
           "#636efa",
           "#EF553B",
           "#00cc96",
           "#ab63fa",
           "#FFA15A",
           "#19d3f3",
           "#FF6692",
           "#B6E880",
           "#FF97FF",
           "#FECB52"
          ],
          "font": {
           "color": "#2a3f5f"
          },
          "geo": {
           "bgcolor": "white",
           "lakecolor": "white",
           "landcolor": "#E5ECF6",
           "showlakes": true,
           "showland": true,
           "subunitcolor": "white"
          },
          "hoverlabel": {
           "align": "left"
          },
          "hovermode": "closest",
          "mapbox": {
           "style": "light"
          },
          "paper_bgcolor": "white",
          "plot_bgcolor": "#E5ECF6",
          "polar": {
           "angularaxis": {
            "gridcolor": "white",
            "linecolor": "white",
            "ticks": ""
           },
           "bgcolor": "#E5ECF6",
           "radialaxis": {
            "gridcolor": "white",
            "linecolor": "white",
            "ticks": ""
           }
          },
          "scene": {
           "xaxis": {
            "backgroundcolor": "#E5ECF6",
            "gridcolor": "white",
            "gridwidth": 2,
            "linecolor": "white",
            "showbackground": true,
            "ticks": "",
            "zerolinecolor": "white"
           },
           "yaxis": {
            "backgroundcolor": "#E5ECF6",
            "gridcolor": "white",
            "gridwidth": 2,
            "linecolor": "white",
            "showbackground": true,
            "ticks": "",
            "zerolinecolor": "white"
           },
           "zaxis": {
            "backgroundcolor": "#E5ECF6",
            "gridcolor": "white",
            "gridwidth": 2,
            "linecolor": "white",
            "showbackground": true,
            "ticks": "",
            "zerolinecolor": "white"
           }
          },
          "shapedefaults": {
           "line": {
            "color": "#2a3f5f"
           }
          },
          "ternary": {
           "aaxis": {
            "gridcolor": "white",
            "linecolor": "white",
            "ticks": ""
           },
           "baxis": {
            "gridcolor": "white",
            "linecolor": "white",
            "ticks": ""
           },
           "bgcolor": "#E5ECF6",
           "caxis": {
            "gridcolor": "white",
            "linecolor": "white",
            "ticks": ""
           }
          },
          "title": {
           "x": 0.05
          },
          "xaxis": {
           "automargin": true,
           "gridcolor": "white",
           "linecolor": "white",
           "ticks": "",
           "title": {
            "standoff": 15
           },
           "zerolinecolor": "white",
           "zerolinewidth": 2
          },
          "yaxis": {
           "automargin": true,
           "gridcolor": "white",
           "linecolor": "white",
           "ticks": "",
           "title": {
            "standoff": 15
           },
           "zerolinecolor": "white",
           "zerolinewidth": 2
          }
         }
        },
        "width": 440,
        "xaxis": {
         "tickfont": {
          "size": 11
         },
         "tickmode": "array",
         "ticktext": [
          "Fashion",
          "MNIST",
          "covertype",
          "shuttle"
         ],
         "tickvals": [
          "MLPFashion",
          "MLPMNIST",
          "MLPcovertype",
          "MLPshuttle"
         ]
        },
        "yaxis": {
         "gridcolor": "lightgrey",
         "tickfont": {
          "size": 10
         },
         "tickmode": "array",
         "ticktext": [
          "1k",
          "2k",
          "3k",
          "4k",
          "5k",
          "7k",
          "9k"
         ],
         "tickvals": [
          1000,
          2000,
          3000,
          4000,
          5000,
          7000,
          9000
         ],
         "title": {
          "font": {
           "size": 13
          },
          "standoff": 5,
          "text": "Final regret ± 99% CI"
         }
        }
       }
      }
     },
     "metadata": {},
     "output_type": "display_data"
    }
   ],
   "source": [
    "import pandas as pd\n",
    "import plotly.graph_objects as go\n",
    "import numpy as np\n",
    "import plotly.express as px\n",
    "# Assuming df is your DataFrame and it has columns 'Dataset', 'Value', 'Model'\n",
    "\n",
    "w = 0.1\n",
    "def remove_substrings(s, substrings):\n",
    "    for substring in substrings:\n",
    "        s = s.replace(substring, '')\n",
    "    return s\n",
    "\n",
    "\n",
    "# approaches = result['merge'].unique()\n",
    "# 'LeNetNeural-CBP', 'LeNetNeuronal (official)', 'LeNetNeuronal (tuned)',\n",
    "# approaches = np.array([ 'MLPNeural-CBP', 'MLPNeuronal (official)','MLPNeuronal (tuned)', 'MLPIneurAL (official)', \n",
    "#                         'MLPIneurAL (tuned)',  'MLPCesa', 'MLPMargin' ], dtype=object) \n",
    "# approaches_names = [ remove_substrings(model, ['LeNet', 'MLP']) for model in approaches ]\n",
    "# default_colors = px.colors.qualitative.Plotly\n",
    "# model_colors = {model_n:col for model_n,col in zip(approaches_names,default_colors) }\n",
    "\n",
    "approaches = {\n",
    "    #'EEneuralcbpside_v5': {'color': [255, 255, 0], 'label': 'EEneuralcbpside_v5'},  # Red\n",
    "    'MLPNeural-CBP': {'color': [171, 99, 250], 'label': 'Neural-CBP'},  # Red\n",
    "    'MLPIneurAL (official)': {'color': [255, 161, 90], 'label':'IneurAL (official)'},                    # Yellow\n",
    "    'MLPIneurAL (less exploration)': {'color': [25, 211, 243], 'label':'IneurAL (less exploration)'},                    # Cyan\n",
    "    'MLPNeuronal (official)': {'color': [255, 102, 146], 'label':'Neuronal (official)'},                  # Magenta\n",
    "    'MLPNeuronal (less exploration)': {'color': [182, 232, 128], 'label':'Neuronal (less exploration)'},                   # Orange\n",
    "    # 'MLPMargin': {'color': [255, 151, 255], 'label':'Margin'},\n",
    "    # 'MLPCesa': {'color': [254, 203, 82], 'label':'Cesa'},\n",
    "}\n",
    "\n",
    "\n",
    "# Create an empty figure\n",
    "fig = go.Figure()\n",
    "\n",
    "\n",
    "views = []\n",
    "for appr in approaches.keys():\n",
    "    print(appr)\n",
    "    appr_name = approaches[appr]['label']\n",
    "    r,g,b = approaches[appr]['color']\n",
    "\n",
    "    subset = result[result['merge'] == appr]\n",
    "    dec = False\n",
    "    if appr_name not in views:\n",
    "        dec = True\n",
    "        views.append(appr_name)\n",
    "    \n",
    "\n",
    "    if 'CBP' in appr_name:\n",
    "        fig.add_trace(go.Bar(\n",
    "            x=subset['merge2'],\n",
    "            y=subset['Mean'],\n",
    "            name=appr_name,\n",
    "            error_y=dict(type='data', array=subset['StdError'], visible=True,thickness=1 ),\n",
    "            marker_color='rgba({},{},{},1)'.format(r,g,b),marker_pattern_shape='x',marker_pattern_fgcolor='black', \n",
    "            showlegend = dec,\n",
    "            # width=w\n",
    "            ))\n",
    "    else: \n",
    "        fig.add_trace(go.Bar(\n",
    "            x=subset['merge2'],\n",
    "            y=subset['Mean'],\n",
    "            name=appr_name,\n",
    "            error_y=dict(type='data', array=subset['StdError'], visible=True,thickness=1 ),\n",
    "            marker_color='rgba({},{},{},1)'.format(r,g,b), \n",
    "            showlegend = dec,\n",
    "            # width=w\n",
    "            ))\n",
    "\n",
    "\n",
    "# Add vertical black lines between data groups\n",
    "\n",
    "datasets = result['merge2'].unique()\n",
    "print(datasets)\n",
    "for i, dataset in enumerate(datasets[:-1]):\n",
    "    if i == 2:\n",
    "        fig.add_vline(x=i + 0.5, line_width=2, line_color=\"black\",   line_dash=\"dot\")\n",
    "    else:\n",
    "        fig.add_vline(x=i + 0.5, line_width=2, line_color=\"black\",  line_dash=\"dot\")\n",
    "\n",
    "\n",
    "siz = 13\n",
    "\n",
    "def format_tick(val):\n",
    "    \"\"\" Custom function to format the tick labels. \"\"\"\n",
    "    return f'{int(val / 1000)}k' if val >= 1000 else str(val)\n",
    "\n",
    "\n",
    "fig.update_layout(\n",
    "    width=440,\n",
    "    height=180,\n",
    "    plot_bgcolor='white',  # Sets the plot background color\n",
    "    paper_bgcolor='white',  # Sets the overall figure background color\n",
    "    barmode='group',\n",
    "    margin=dict(l=0, r=0, t=0, b=0),  # Small margins\n",
    "    xaxis=dict(\n",
    "        tickmode='array',\n",
    "        tickvals=result['merge2'].unique(),\n",
    "        ticktext = [ remove_substrings(model, ['LeNet', 'MLP']) for model in result['merge2'].unique() ],\n",
    "        tickfont=dict(size=siz-2)  # Increase X-axis tick font size\n",
    "    ),\n",
    "    yaxis=dict(\n",
    "        # type=\"log\",\n",
    "        gridcolor='lightgrey',\n",
    "        title=\"Final regret ± 99% CI\",\n",
    "        title_standoff=5,\n",
    "        title_font=dict(size=siz),\n",
    "        tickfont=dict(size=siz-3) , # Increase Y-axis tick font size\n",
    "        tickmode='array',\n",
    "        tickvals=[1000, 2000, 3000, 4000, 5000, 7000, 9000 ],  # Specify the values where you want ticks\n",
    "        ticktext=[format_tick(val) for val in [1000, 2000, 3000, 4000, 5000, 7000, 9000]]  # Format those values\n",
    "    ),\n",
    "    showlegend=False\n",
    "\n",
    "    # legend=dict(\n",
    "    #     orientation=\"h\",\n",
    "    #     yanchor=\"bottom\",\n",
    "    #     y=-0.3,  # Adjust this value to position the legend\n",
    "    #     xanchor=\"center\",\n",
    "    #     x=0.5,\n",
    "    #     font=dict(size=siz)  # Increase legend font size\n",
    "    # ),\n",
    ")\n",
    "\n",
    "fig.show()\n",
    "fig.write_image(\"./cr_figures/results_nonbinary_MLP_b.pdf\" )\n",
    "fig.write_image(\"./cr_figures/results_nonbinary_MLP_b.pdf\" )"
   ]
  }
 ],
 "metadata": {
  "kernelspec": {
   "display_name": ".venv",
   "language": "python",
   "name": "python3"
  },
  "language_info": {
   "codemirror_mode": {
    "name": "ipython",
    "version": 3
   },
   "file_extension": ".py",
   "mimetype": "text/x-python",
   "name": "python",
   "nbconvert_exporter": "python",
   "pygments_lexer": "ipython3",
   "version": "3.8.16"
  },
  "orig_nbformat": 4
 },
 "nbformat": 4,
 "nbformat_minor": 2
}
