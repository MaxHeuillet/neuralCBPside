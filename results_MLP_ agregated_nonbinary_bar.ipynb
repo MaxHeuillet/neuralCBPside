{
 "cells": [
  {
   "cell_type": "code",
   "execution_count": 1,
   "metadata": {},
   "outputs": [],
   "source": [
    "import os\n",
    "import numpy as np\n",
    "import plotly.graph_objects as go\n",
    "\n",
    "import gzip\n",
    "import pickle as pkl\n",
    "\n",
    "def loadall_results2(path, n_folds):\n",
    "    regret = []\n",
    "    history_actions = []\n",
    "    history_outcomes = []\n",
    "    perf = []\n",
    "    with gzip.open(  path ,'rb') as f:\n",
    "        for i in range(n_folds+1):\n",
    "            try:\n",
    "                data = pkl.load(f)\n",
    "            except EOFError:\n",
    "                break\n",
    "\n",
    "            if type(data) == dict:\n",
    "                regret.append( data['regret'] ) \n",
    "                history_actions.append( data['action_history'] )\n",
    "                history_outcomes.append( data['outcome_history'] ) \n",
    "                perf.append( data['pred'] ) \n",
    "\n",
    "    \n",
    "    return regret, history_actions, history_outcomes, perf"
   ]
  },
  {
   "cell_type": "code",
   "execution_count": 14,
   "metadata": {},
   "outputs": [],
   "source": [
    "n_folds = 25\n",
    "horizon = 9999\n",
    "context = 'covertype'\n",
    "model = 'MLP'\n",
    "case = 'game_case_seven'\n",
    "agent_name = 'ineural3' #ineural6, neuronal6\n",
    "\n",
    "direct = './results/'\n",
    "path = os.path.join(direct, '{}_{}_{}_{}_{}_{}.pkl.gz'.format(case,model,context,horizon,n_folds,agent_name) )\n",
    "regret, action_history,outcome_history, perf = loadall_results2(path, n_folds)\n",
    "\n",
    "\n"
   ]
  },
  {
   "cell_type": "code",
   "execution_count": 2,
   "metadata": {},
   "outputs": [
    {
     "name": "stdout",
     "output_type": "stream",
     "text": [
      "./results/case2_MLP_MNIST_9999_25_EEneuralcbpside_v6.pkl.gz\n",
      "25\n",
      "m [[1782, 'MNIST', 'Neural-CBP'], [1794, 'MNIST', 'Neural-CBP'], [1813, 'MNIST', 'Neural-CBP'], [1828, 'MNIST', 'Neural-CBP'], [1818, 'MNIST', 'Neural-CBP'], [1533, 'MNIST', 'Neural-CBP'], [1821, 'MNIST', 'Neural-CBP'], [1687, 'MNIST', 'Neural-CBP'], [1848, 'MNIST', 'Neural-CBP'], [1721, 'MNIST', 'Neural-CBP'], [1828, 'MNIST', 'Neural-CBP'], [1720, 'MNIST', 'Neural-CBP'], [1728, 'MNIST', 'Neural-CBP'], [1758, 'MNIST', 'Neural-CBP'], [1788, 'MNIST', 'Neural-CBP'], [1856, 'MNIST', 'Neural-CBP'], [1832, 'MNIST', 'Neural-CBP'], [1769, 'MNIST', 'Neural-CBP'], [1798, 'MNIST', 'Neural-CBP'], [1723, 'MNIST', 'Neural-CBP'], [1794, 'MNIST', 'Neural-CBP'], [1761, 'MNIST', 'Neural-CBP'], [1822, 'MNIST', 'Neural-CBP'], [1618, 'MNIST', 'Neural-CBP'], [1826, 'MNIST', 'Neural-CBP']]\n",
      "./results/case2_MLP_MNIST_9999_25_ineural6.pkl.gz\n",
      "25\n",
      "m [[2900, 'MNIST', 'IneurAL (official)'], [3139, 'MNIST', 'IneurAL (official)'], [3158, 'MNIST', 'IneurAL (official)'], [3116, 'MNIST', 'IneurAL (official)'], [3035, 'MNIST', 'IneurAL (official)'], [3290, 'MNIST', 'IneurAL (official)'], [3201, 'MNIST', 'IneurAL (official)'], [3191, 'MNIST', 'IneurAL (official)'], [3223, 'MNIST', 'IneurAL (official)'], [2872, 'MNIST', 'IneurAL (official)'], [3123, 'MNIST', 'IneurAL (official)'], [3290, 'MNIST', 'IneurAL (official)'], [3224, 'MNIST', 'IneurAL (official)'], [2983, 'MNIST', 'IneurAL (official)'], [3383, 'MNIST', 'IneurAL (official)'], [3325, 'MNIST', 'IneurAL (official)'], [3236, 'MNIST', 'IneurAL (official)'], [3166, 'MNIST', 'IneurAL (official)'], [2983, 'MNIST', 'IneurAL (official)'], [3266, 'MNIST', 'IneurAL (official)'], [3213, 'MNIST', 'IneurAL (official)'], [3315, 'MNIST', 'IneurAL (official)'], [3181, 'MNIST', 'IneurAL (official)'], [3303, 'MNIST', 'IneurAL (official)'], [3254, 'MNIST', 'IneurAL (official)']]\n",
      "./results/case2_MLP_MNIST_9999_25_ineural3.pkl.gz\n",
      "25\n",
      "m [[1524, 'MNIST', 'IneurAL (tuned)'], [1564, 'MNIST', 'IneurAL (tuned)'], [1554, 'MNIST', 'IneurAL (tuned)'], [1637, 'MNIST', 'IneurAL (tuned)'], [1571, 'MNIST', 'IneurAL (tuned)'], [1617, 'MNIST', 'IneurAL (tuned)'], [1645, 'MNIST', 'IneurAL (tuned)'], [1549, 'MNIST', 'IneurAL (tuned)'], [1670, 'MNIST', 'IneurAL (tuned)'], [1576, 'MNIST', 'IneurAL (tuned)'], [1628, 'MNIST', 'IneurAL (tuned)'], [1665, 'MNIST', 'IneurAL (tuned)'], [1605, 'MNIST', 'IneurAL (tuned)'], [1587, 'MNIST', 'IneurAL (tuned)'], [1633, 'MNIST', 'IneurAL (tuned)'], [1566, 'MNIST', 'IneurAL (tuned)'], [1617, 'MNIST', 'IneurAL (tuned)'], [1612, 'MNIST', 'IneurAL (tuned)'], [1580, 'MNIST', 'IneurAL (tuned)'], [1644, 'MNIST', 'IneurAL (tuned)'], [1642, 'MNIST', 'IneurAL (tuned)'], [1536, 'MNIST', 'IneurAL (tuned)'], [1541, 'MNIST', 'IneurAL (tuned)'], [1516, 'MNIST', 'IneurAL (tuned)'], [1617, 'MNIST', 'IneurAL (tuned)']]\n",
      "./results/case2_MLP_MNIST_9999_25_neuronal6.pkl.gz\n",
      "25\n",
      "m [[3206, 'MNIST', 'Neuronal (official)'], [3210, 'MNIST', 'Neuronal (official)'], [3280, 'MNIST', 'Neuronal (official)'], [3285, 'MNIST', 'Neuronal (official)'], [3328, 'MNIST', 'Neuronal (official)'], [3264, 'MNIST', 'Neuronal (official)'], [3476, 'MNIST', 'Neuronal (official)'], [3331, 'MNIST', 'Neuronal (official)'], [3464, 'MNIST', 'Neuronal (official)'], [3535, 'MNIST', 'Neuronal (official)'], [3336, 'MNIST', 'Neuronal (official)'], [3425, 'MNIST', 'Neuronal (official)'], [3468, 'MNIST', 'Neuronal (official)'], [3561, 'MNIST', 'Neuronal (official)'], [3557, 'MNIST', 'Neuronal (official)'], [3541, 'MNIST', 'Neuronal (official)'], [3595, 'MNIST', 'Neuronal (official)'], [3543, 'MNIST', 'Neuronal (official)'], [3542, 'MNIST', 'Neuronal (official)'], [3601, 'MNIST', 'Neuronal (official)'], [3549, 'MNIST', 'Neuronal (official)'], [3555, 'MNIST', 'Neuronal (official)'], [3540, 'MNIST', 'Neuronal (official)'], [3661, 'MNIST', 'Neuronal (official)'], [3609, 'MNIST', 'Neuronal (official)']]\n",
      "./results/case2_MLP_MNIST_9999_25_neuronal3.pkl.gz\n",
      "25\n",
      "m [[2158, 'MNIST', 'Neuronal (tuned)'], [2173, 'MNIST', 'Neuronal (tuned)'], [2075, 'MNIST', 'Neuronal (tuned)'], [2265, 'MNIST', 'Neuronal (tuned)'], [2153, 'MNIST', 'Neuronal (tuned)'], [2255, 'MNIST', 'Neuronal (tuned)'], [2246, 'MNIST', 'Neuronal (tuned)'], [2202, 'MNIST', 'Neuronal (tuned)'], [2213, 'MNIST', 'Neuronal (tuned)'], [2167, 'MNIST', 'Neuronal (tuned)'], [2267, 'MNIST', 'Neuronal (tuned)'], [2239, 'MNIST', 'Neuronal (tuned)'], [2166, 'MNIST', 'Neuronal (tuned)'], [2329, 'MNIST', 'Neuronal (tuned)'], [2255, 'MNIST', 'Neuronal (tuned)'], [2093, 'MNIST', 'Neuronal (tuned)'], [2243, 'MNIST', 'Neuronal (tuned)'], [2026, 'MNIST', 'Neuronal (tuned)'], [2145, 'MNIST', 'Neuronal (tuned)'], [2109, 'MNIST', 'Neuronal (tuned)'], [2113, 'MNIST', 'Neuronal (tuned)'], [2129, 'MNIST', 'Neuronal (tuned)'], [2173, 'MNIST', 'Neuronal (tuned)'], [2142, 'MNIST', 'Neuronal (tuned)'], [2287, 'MNIST', 'Neuronal (tuned)']]\n",
      "./results/case2_MLP_FASHION_9999_25_EEneuralcbpside_v6.pkl.gz\n",
      "25\n",
      "m [[2100, 'FASHION', 'Neural-CBP'], [2240, 'FASHION', 'Neural-CBP'], [2223, 'FASHION', 'Neural-CBP'], [1894, 'FASHION', 'Neural-CBP'], [2214, 'FASHION', 'Neural-CBP'], [2108, 'FASHION', 'Neural-CBP'], [2197, 'FASHION', 'Neural-CBP'], [2126, 'FASHION', 'Neural-CBP'], [2143, 'FASHION', 'Neural-CBP'], [2185, 'FASHION', 'Neural-CBP'], [2158, 'FASHION', 'Neural-CBP'], [2150, 'FASHION', 'Neural-CBP'], [2280, 'FASHION', 'Neural-CBP'], [2168, 'FASHION', 'Neural-CBP'], [2331, 'FASHION', 'Neural-CBP'], [2148, 'FASHION', 'Neural-CBP'], [2156, 'FASHION', 'Neural-CBP'], [2148, 'FASHION', 'Neural-CBP'], [2069, 'FASHION', 'Neural-CBP'], [2117, 'FASHION', 'Neural-CBP'], [2159, 'FASHION', 'Neural-CBP'], [2217, 'FASHION', 'Neural-CBP'], [2128, 'FASHION', 'Neural-CBP'], [2237, 'FASHION', 'Neural-CBP'], [2176, 'FASHION', 'Neural-CBP']]\n",
      "./results/case2_MLP_FASHION_9999_25_ineural6.pkl.gz\n",
      "25\n",
      "m [[3501, 'FASHION', 'IneurAL (official)'], [3616, 'FASHION', 'IneurAL (official)'], [3697, 'FASHION', 'IneurAL (official)'], [3611, 'FASHION', 'IneurAL (official)'], [3596, 'FASHION', 'IneurAL (official)'], [3640, 'FASHION', 'IneurAL (official)'], [3653, 'FASHION', 'IneurAL (official)'], [3743, 'FASHION', 'IneurAL (official)'], [3465, 'FASHION', 'IneurAL (official)'], [3576, 'FASHION', 'IneurAL (official)'], [3747, 'FASHION', 'IneurAL (official)'], [3535, 'FASHION', 'IneurAL (official)'], [3630, 'FASHION', 'IneurAL (official)'], [3819, 'FASHION', 'IneurAL (official)'], [3711, 'FASHION', 'IneurAL (official)'], [3735, 'FASHION', 'IneurAL (official)'], [3497, 'FASHION', 'IneurAL (official)'], [3677, 'FASHION', 'IneurAL (official)'], [3792, 'FASHION', 'IneurAL (official)'], [3608, 'FASHION', 'IneurAL (official)'], [3600, 'FASHION', 'IneurAL (official)'], [3729, 'FASHION', 'IneurAL (official)'], [3604, 'FASHION', 'IneurAL (official)'], [3795, 'FASHION', 'IneurAL (official)'], [3656, 'FASHION', 'IneurAL (official)']]\n",
      "./results/case2_MLP_FASHION_9999_25_ineural3.pkl.gz\n",
      "25\n",
      "m [[1805, 'FASHION', 'IneurAL (tuned)'], [2019, 'FASHION', 'IneurAL (tuned)'], [2047, 'FASHION', 'IneurAL (tuned)'], [2003, 'FASHION', 'IneurAL (tuned)'], [1872, 'FASHION', 'IneurAL (tuned)'], [1994, 'FASHION', 'IneurAL (tuned)'], [1908, 'FASHION', 'IneurAL (tuned)'], [1952, 'FASHION', 'IneurAL (tuned)'], [1982, 'FASHION', 'IneurAL (tuned)'], [1936, 'FASHION', 'IneurAL (tuned)'], [1965, 'FASHION', 'IneurAL (tuned)'], [1880, 'FASHION', 'IneurAL (tuned)'], [1933, 'FASHION', 'IneurAL (tuned)'], [1838, 'FASHION', 'IneurAL (tuned)'], [1925, 'FASHION', 'IneurAL (tuned)'], [1880, 'FASHION', 'IneurAL (tuned)'], [1901, 'FASHION', 'IneurAL (tuned)'], [1874, 'FASHION', 'IneurAL (tuned)'], [1898, 'FASHION', 'IneurAL (tuned)'], [1916, 'FASHION', 'IneurAL (tuned)'], [2041, 'FASHION', 'IneurAL (tuned)'], [2016, 'FASHION', 'IneurAL (tuned)'], [2053, 'FASHION', 'IneurAL (tuned)'], [1908, 'FASHION', 'IneurAL (tuned)'], [1987, 'FASHION', 'IneurAL (tuned)']]\n",
      "./results/case2_MLP_FASHION_9999_25_neuronal6.pkl.gz\n",
      "25\n",
      "m [[3983, 'FASHION', 'Neuronal (official)'], [4077, 'FASHION', 'Neuronal (official)'], [4164, 'FASHION', 'Neuronal (official)'], [4220, 'FASHION', 'Neuronal (official)'], [4134, 'FASHION', 'Neuronal (official)'], [4110, 'FASHION', 'Neuronal (official)'], [4100, 'FASHION', 'Neuronal (official)'], [4252, 'FASHION', 'Neuronal (official)'], [4053, 'FASHION', 'Neuronal (official)'], [4097, 'FASHION', 'Neuronal (official)'], [4233, 'FASHION', 'Neuronal (official)'], [4271, 'FASHION', 'Neuronal (official)'], [4249, 'FASHION', 'Neuronal (official)'], [4205, 'FASHION', 'Neuronal (official)'], [4223, 'FASHION', 'Neuronal (official)'], [4229, 'FASHION', 'Neuronal (official)'], [4291, 'FASHION', 'Neuronal (official)'], [4275, 'FASHION', 'Neuronal (official)'], [4319, 'FASHION', 'Neuronal (official)'], [4288, 'FASHION', 'Neuronal (official)'], [4231, 'FASHION', 'Neuronal (official)'], [4235, 'FASHION', 'Neuronal (official)'], [4252, 'FASHION', 'Neuronal (official)'], [4318, 'FASHION', 'Neuronal (official)'], [4498, 'FASHION', 'Neuronal (official)']]\n",
      "./results/case2_MLP_FASHION_9999_25_neuronal3.pkl.gz\n",
      "25\n",
      "m [[2452, 'FASHION', 'Neuronal (tuned)'], [2491, 'FASHION', 'Neuronal (tuned)'], [2537, 'FASHION', 'Neuronal (tuned)'], [2505, 'FASHION', 'Neuronal (tuned)'], [2339, 'FASHION', 'Neuronal (tuned)'], [2599, 'FASHION', 'Neuronal (tuned)'], [2610, 'FASHION', 'Neuronal (tuned)'], [2588, 'FASHION', 'Neuronal (tuned)'], [2593, 'FASHION', 'Neuronal (tuned)'], [2635, 'FASHION', 'Neuronal (tuned)'], [2567, 'FASHION', 'Neuronal (tuned)'], [2434, 'FASHION', 'Neuronal (tuned)'], [2543, 'FASHION', 'Neuronal (tuned)'], [2469, 'FASHION', 'Neuronal (tuned)'], [2521, 'FASHION', 'Neuronal (tuned)'], [2695, 'FASHION', 'Neuronal (tuned)'], [2459, 'FASHION', 'Neuronal (tuned)'], [2454, 'FASHION', 'Neuronal (tuned)'], [2470, 'FASHION', 'Neuronal (tuned)'], [2582, 'FASHION', 'Neuronal (tuned)'], [2597, 'FASHION', 'Neuronal (tuned)'], [2618, 'FASHION', 'Neuronal (tuned)'], [2618, 'FASHION', 'Neuronal (tuned)'], [2669, 'FASHION', 'Neuronal (tuned)'], [2728, 'FASHION', 'Neuronal (tuned)']]\n",
      "./results/game_case_seven_MLP_covertype_9999_25_EEneuralcbpside_v6.pkl.gz\n",
      "25\n",
      "m [[1, 'covertype', 'Neural-CBP'], [1, 'covertype', 'Neural-CBP'], [3, 'covertype', 'Neural-CBP'], [35, 'covertype', 'Neural-CBP'], [3, 'covertype', 'Neural-CBP'], [9, 'covertype', 'Neural-CBP'], [6, 'covertype', 'Neural-CBP'], [3, 'covertype', 'Neural-CBP'], [3, 'covertype', 'Neural-CBP'], [34, 'covertype', 'Neural-CBP'], [8, 'covertype', 'Neural-CBP'], [5, 'covertype', 'Neural-CBP'], [3, 'covertype', 'Neural-CBP'], [36, 'covertype', 'Neural-CBP'], [8, 'covertype', 'Neural-CBP'], [3, 'covertype', 'Neural-CBP'], [3, 'covertype', 'Neural-CBP'], [5, 'covertype', 'Neural-CBP'], [6, 'covertype', 'Neural-CBP'], [3, 'covertype', 'Neural-CBP'], [3, 'covertype', 'Neural-CBP'], [912, 'covertype', 'Neural-CBP'], [1433, 'covertype', 'Neural-CBP'], [1571, 'covertype', 'Neural-CBP'], [1705, 'covertype', 'Neural-CBP']]\n",
      "./results/game_case_seven_MLP_covertype_9999_25_ineural6.pkl.gz\n",
      "25\n",
      "m [[3, 'covertype', 'IneurAL (official)'], [3, 'covertype', 'IneurAL (official)'], [3, 'covertype', 'IneurAL (official)'], [5, 'covertype', 'IneurAL (official)'], [3, 'covertype', 'IneurAL (official)'], [3, 'covertype', 'IneurAL (official)'], [3, 'covertype', 'IneurAL (official)'], [3, 'covertype', 'IneurAL (official)'], [4415, 'covertype', 'IneurAL (official)'], [4486, 'covertype', 'IneurAL (official)'], [4544, 'covertype', 'IneurAL (official)'], [4598, 'covertype', 'IneurAL (official)'], [4700, 'covertype', 'IneurAL (official)'], [4892, 'covertype', 'IneurAL (official)'], [4695, 'covertype', 'IneurAL (official)'], [4764, 'covertype', 'IneurAL (official)'], [4796, 'covertype', 'IneurAL (official)'], [4858, 'covertype', 'IneurAL (official)'], [4953, 'covertype', 'IneurAL (official)'], [4971, 'covertype', 'IneurAL (official)'], [4984, 'covertype', 'IneurAL (official)'], [4968, 'covertype', 'IneurAL (official)'], [5046, 'covertype', 'IneurAL (official)'], [5064, 'covertype', 'IneurAL (official)'], [5179, 'covertype', 'IneurAL (official)']]\n",
      "./results/game_case_seven_MLP_covertype_9999_25_ineural3.pkl.gz\n",
      "25\n",
      "m [[3, 'covertype', 'IneurAL (tuned)'], [6, 'covertype', 'IneurAL (tuned)'], [3, 'covertype', 'IneurAL (tuned)'], [5, 'covertype', 'IneurAL (tuned)'], [4, 'covertype', 'IneurAL (tuned)'], [6, 'covertype', 'IneurAL (tuned)'], [3, 'covertype', 'IneurAL (tuned)'], [4, 'covertype', 'IneurAL (tuned)'], [3, 'covertype', 'IneurAL (tuned)'], [14, 'covertype', 'IneurAL (tuned)'], [6, 'covertype', 'IneurAL (tuned)'], [4, 'covertype', 'IneurAL (tuned)'], [13, 'covertype', 'IneurAL (tuned)'], [8, 'covertype', 'IneurAL (tuned)'], [4, 'covertype', 'IneurAL (tuned)'], [5, 'covertype', 'IneurAL (tuned)'], [4, 'covertype', 'IneurAL (tuned)'], [12, 'covertype', 'IneurAL (tuned)'], [2057, 'covertype', 'IneurAL (tuned)'], [2412, 'covertype', 'IneurAL (tuned)'], [2226, 'covertype', 'IneurAL (tuned)'], [2304, 'covertype', 'IneurAL (tuned)'], [2460, 'covertype', 'IneurAL (tuned)'], [2536, 'covertype', 'IneurAL (tuned)'], [2459, 'covertype', 'IneurAL (tuned)']]\n",
      "./results/game_case_seven_MLP_covertype_9999_25_neuronal6.pkl.gz\n",
      "25\n",
      "m [[2342, 'covertype', 'Neuronal (official)'], [2384, 'covertype', 'Neuronal (official)'], [2535, 'covertype', 'Neuronal (official)'], [2650, 'covertype', 'Neuronal (official)'], [2628, 'covertype', 'Neuronal (official)'], [2666, 'covertype', 'Neuronal (official)'], [2309, 'covertype', 'Neuronal (official)'], [2725, 'covertype', 'Neuronal (official)'], [2491, 'covertype', 'Neuronal (official)'], [2862, 'covertype', 'Neuronal (official)'], [2881, 'covertype', 'Neuronal (official)'], [2578, 'covertype', 'Neuronal (official)'], [2890, 'covertype', 'Neuronal (official)'], [2664, 'covertype', 'Neuronal (official)'], [2612, 'covertype', 'Neuronal (official)'], [2636, 'covertype', 'Neuronal (official)'], [2773, 'covertype', 'Neuronal (official)'], [3003, 'covertype', 'Neuronal (official)'], [2808, 'covertype', 'Neuronal (official)'], [2731, 'covertype', 'Neuronal (official)'], [2716, 'covertype', 'Neuronal (official)'], [2719, 'covertype', 'Neuronal (official)'], [2730, 'covertype', 'Neuronal (official)'], [2770, 'covertype', 'Neuronal (official)'], [3060, 'covertype', 'Neuronal (official)']]\n",
      "./results/game_case_seven_MLP_covertype_9999_25_neuronal3.pkl.gz\n",
      "25\n",
      "m [[1349, 'covertype', 'Neuronal (tuned)'], [1400, 'covertype', 'Neuronal (tuned)'], [1445, 'covertype', 'Neuronal (tuned)'], [1426, 'covertype', 'Neuronal (tuned)'], [1366, 'covertype', 'Neuronal (tuned)'], [1390, 'covertype', 'Neuronal (tuned)'], [1416, 'covertype', 'Neuronal (tuned)'], [1432, 'covertype', 'Neuronal (tuned)'], [1432, 'covertype', 'Neuronal (tuned)'], [1493, 'covertype', 'Neuronal (tuned)'], [1510, 'covertype', 'Neuronal (tuned)'], [1554, 'covertype', 'Neuronal (tuned)'], [1536, 'covertype', 'Neuronal (tuned)'], [1495, 'covertype', 'Neuronal (tuned)'], [1588, 'covertype', 'Neuronal (tuned)'], [1591, 'covertype', 'Neuronal (tuned)'], [1586, 'covertype', 'Neuronal (tuned)'], [1663, 'covertype', 'Neuronal (tuned)'], [1224, 'covertype', 'Neuronal (tuned)'], [1242, 'covertype', 'Neuronal (tuned)'], [1295, 'covertype', 'Neuronal (tuned)'], [1318, 'covertype', 'Neuronal (tuned)'], [1415, 'covertype', 'Neuronal (tuned)'], [1411, 'covertype', 'Neuronal (tuned)'], [1595, 'covertype', 'Neuronal (tuned)']]\n",
      "./results/game_case_seven_MLP_shuttle_9999_25_EEneuralcbpside_v6.pkl.gz\n",
      "25\n",
      "m [[4, 'shuttle', 'Neural-CBP'], [39, 'shuttle', 'Neural-CBP'], [52, 'shuttle', 'Neural-CBP'], [3, 'shuttle', 'Neural-CBP'], [52, 'shuttle', 'Neural-CBP'], [42, 'shuttle', 'Neural-CBP'], [56, 'shuttle', 'Neural-CBP'], [69, 'shuttle', 'Neural-CBP'], [3, 'shuttle', 'Neural-CBP'], [95, 'shuttle', 'Neural-CBP'], [5, 'shuttle', 'Neural-CBP'], [52, 'shuttle', 'Neural-CBP'], [61, 'shuttle', 'Neural-CBP'], [57, 'shuttle', 'Neural-CBP'], [2, 'shuttle', 'Neural-CBP'], [80, 'shuttle', 'Neural-CBP'], [77, 'shuttle', 'Neural-CBP'], [56, 'shuttle', 'Neural-CBP'], [55, 'shuttle', 'Neural-CBP'], [57, 'shuttle', 'Neural-CBP'], [49, 'shuttle', 'Neural-CBP'], [83, 'shuttle', 'Neural-CBP'], [3, 'shuttle', 'Neural-CBP'], [57, 'shuttle', 'Neural-CBP'], [49, 'shuttle', 'Neural-CBP']]\n",
      "./results/game_case_seven_MLP_shuttle_9999_25_ineural6.pkl.gz\n",
      "25\n",
      "m [[1926, 'shuttle', 'IneurAL (official)'], [1727, 'shuttle', 'IneurAL (official)'], [1665, 'shuttle', 'IneurAL (official)'], [1835, 'shuttle', 'IneurAL (official)'], [1658, 'shuttle', 'IneurAL (official)'], [1886, 'shuttle', 'IneurAL (official)'], [2134, 'shuttle', 'IneurAL (official)'], [1833, 'shuttle', 'IneurAL (official)'], [1920, 'shuttle', 'IneurAL (official)'], [1772, 'shuttle', 'IneurAL (official)'], [1580, 'shuttle', 'IneurAL (official)'], [2332, 'shuttle', 'IneurAL (official)'], [1959, 'shuttle', 'IneurAL (official)'], [2323, 'shuttle', 'IneurAL (official)'], [1820, 'shuttle', 'IneurAL (official)'], [2178, 'shuttle', 'IneurAL (official)'], [2240, 'shuttle', 'IneurAL (official)'], [1951, 'shuttle', 'IneurAL (official)'], [1960, 'shuttle', 'IneurAL (official)'], [1915, 'shuttle', 'IneurAL (official)'], [1862, 'shuttle', 'IneurAL (official)'], [2105, 'shuttle', 'IneurAL (official)'], [2234, 'shuttle', 'IneurAL (official)'], [2520, 'shuttle', 'IneurAL (official)'], [2798, 'shuttle', 'IneurAL (official)']]\n",
      "./results/game_case_seven_MLP_shuttle_9999_25_ineural3.pkl.gz\n",
      "25\n",
      "m [[611, 'shuttle', 'IneurAL (tuned)'], [627, 'shuttle', 'IneurAL (tuned)'], [716, 'shuttle', 'IneurAL (tuned)'], [734, 'shuttle', 'IneurAL (tuned)'], [804, 'shuttle', 'IneurAL (tuned)'], [659, 'shuttle', 'IneurAL (tuned)'], [758, 'shuttle', 'IneurAL (tuned)'], [877, 'shuttle', 'IneurAL (tuned)'], [767, 'shuttle', 'IneurAL (tuned)'], [687, 'shuttle', 'IneurAL (tuned)'], [111, 'shuttle', 'IneurAL (tuned)'], [649, 'shuttle', 'IneurAL (tuned)'], [783, 'shuttle', 'IneurAL (tuned)'], [742, 'shuttle', 'IneurAL (tuned)'], [724, 'shuttle', 'IneurAL (tuned)'], [732, 'shuttle', 'IneurAL (tuned)'], [826, 'shuttle', 'IneurAL (tuned)'], [756, 'shuttle', 'IneurAL (tuned)'], [702, 'shuttle', 'IneurAL (tuned)'], [662, 'shuttle', 'IneurAL (tuned)'], [738, 'shuttle', 'IneurAL (tuned)'], [696, 'shuttle', 'IneurAL (tuned)'], [694, 'shuttle', 'IneurAL (tuned)'], [542, 'shuttle', 'IneurAL (tuned)'], [495, 'shuttle', 'IneurAL (tuned)']]\n",
      "./results/game_case_seven_MLP_shuttle_9999_25_neuronal6.pkl.gz\n",
      "25\n",
      "m [[323, 'shuttle', 'Neuronal (official)'], [352, 'shuttle', 'Neuronal (official)'], [355, 'shuttle', 'Neuronal (official)'], [354, 'shuttle', 'Neuronal (official)'], [26, 'shuttle', 'Neuronal (official)'], [358, 'shuttle', 'Neuronal (official)'], [361, 'shuttle', 'Neuronal (official)'], [360, 'shuttle', 'Neuronal (official)'], [400, 'shuttle', 'Neuronal (official)'], [367, 'shuttle', 'Neuronal (official)'], [406, 'shuttle', 'Neuronal (official)'], [400, 'shuttle', 'Neuronal (official)'], [359, 'shuttle', 'Neuronal (official)'], [388, 'shuttle', 'Neuronal (official)'], [400, 'shuttle', 'Neuronal (official)'], [415, 'shuttle', 'Neuronal (official)'], [427, 'shuttle', 'Neuronal (official)'], [420, 'shuttle', 'Neuronal (official)'], [384, 'shuttle', 'Neuronal (official)'], [356, 'shuttle', 'Neuronal (official)'], [407, 'shuttle', 'Neuronal (official)'], [431, 'shuttle', 'Neuronal (official)'], [356, 'shuttle', 'Neuronal (official)'], [389, 'shuttle', 'Neuronal (official)'], [362, 'shuttle', 'Neuronal (official)']]\n",
      "./results/game_case_seven_MLP_shuttle_9999_25_neuronal3.pkl.gz\n",
      "25\n",
      "m [[9, 'shuttle', 'Neuronal (tuned)'], [241, 'shuttle', 'Neuronal (tuned)'], [256, 'shuttle', 'Neuronal (tuned)'], [233, 'shuttle', 'Neuronal (tuned)'], [233, 'shuttle', 'Neuronal (tuned)'], [268, 'shuttle', 'Neuronal (tuned)'], [14, 'shuttle', 'Neuronal (tuned)'], [273, 'shuttle', 'Neuronal (tuned)'], [266, 'shuttle', 'Neuronal (tuned)'], [260, 'shuttle', 'Neuronal (tuned)'], [270, 'shuttle', 'Neuronal (tuned)'], [233, 'shuttle', 'Neuronal (tuned)'], [18, 'shuttle', 'Neuronal (tuned)'], [269, 'shuttle', 'Neuronal (tuned)'], [235, 'shuttle', 'Neuronal (tuned)'], [247, 'shuttle', 'Neuronal (tuned)'], [267, 'shuttle', 'Neuronal (tuned)'], [267, 'shuttle', 'Neuronal (tuned)'], [291, 'shuttle', 'Neuronal (tuned)'], [237, 'shuttle', 'Neuronal (tuned)'], [270, 'shuttle', 'Neuronal (tuned)'], [243, 'shuttle', 'Neuronal (tuned)'], [281, 'shuttle', 'Neuronal (tuned)'], [269, 'shuttle', 'Neuronal (tuned)'], [272, 'shuttle', 'Neuronal (tuned)']]\n"
     ]
    }
   ],
   "source": [
    "def convert_action_history(action_history,data, l_label):\n",
    "    counters = []\n",
    "    for history in action_history:\n",
    "\n",
    "        counter = sum([ 1 if action == 0 else 0 for action in history ])\n",
    "        counters.append( [counter, data, l_label] )\n",
    "\n",
    "    # counters.append(data)\n",
    "    # counters.append(l_label)\n",
    "    # std = 2.575 * np.std(counters, axis = 0) / n_folds \n",
    "    # std = np.std(counters, axis = 0) #/ n_folds \n",
    "\n",
    "    return counters#np.mean(counters, axis = 0), std \n",
    "\n",
    "n_folds = 25\n",
    "horizon = 9999\n",
    "model = 'MLP'\n",
    "\n",
    "\n",
    "material = {\n",
    "    'EEneuralcbpside_v6': {'color': [255, 0, 0], 'label': 'Neural-CBP'},  # Red\n",
    "    'ineural6': {'color': [51, 255, 255], 'label':'IneurAL (official)'},                    # Yellow\n",
    "    'ineural3': {'color': [0, 0, 255], 'label':'IneurAL (tuned)'},                    # Cyan\n",
    "    'neuronal6': {'color': [255, 0, 255], 'label':'Neuronal (official)'},                  # Magenta\n",
    "    'neuronal3': {'color': [160, 160, 160], 'label':'Neuronal (tuned)'},                   # Orange\n",
    "}\n",
    "\n",
    "fig = go.Figure( )\n",
    "\n",
    "exploration_dataset = []\n",
    "data_models = {}\n",
    "for model in ['MLP']: #, 'LeNet'\n",
    "\n",
    "    n_folds = 25\n",
    "    datasets = [ 'MNIST', 'FASHION', 'covertype', 'shuttle', ]\n",
    "\n",
    "    data_regrets = {} \n",
    "    for data in datasets: \n",
    "\n",
    "        if data in ['MNIST', 'FASHION', 'CIFAR10']:\n",
    "            case = 'case2' \n",
    "        elif data in ['covertype', 'shuttle']:\n",
    "            case = 'game_case_seven'\n",
    "        # else:\n",
    "        # case = 'case1'\n",
    "            \n",
    "        final_regrets = {}\n",
    "        for agent_name in material.keys():\n",
    "\n",
    "            color, l_label = material[agent_name]['color'], material[agent_name]['label']\n",
    "\n",
    "            r,g,b = color\n",
    "\n",
    "            direct = './results/'\n",
    "            path = os.path.join(direct, '{}_{}_{}_{}_{}_{}.pkl.gz'.format(case, model, data, horizon,n_folds,agent_name) )\n",
    "            print(path)\n",
    "            result, history_actions, history_outcomes, perf = loadall_results2(path, n_folds)\n",
    "            result = np.array(result)\n",
    "            # result = result[1:]\n",
    "            result = result.astype(np.float32)\n",
    "            print(  len(history_actions) )\n",
    "            final_regrets[l_label] = result[:,-1] \n",
    "            m = convert_action_history(history_actions, data, l_label)\n",
    "            print('m', m)\n",
    "\n",
    "            exploration_dataset.extend( m )\n",
    "\n",
    "\n",
    "        if data == 'MNISTbinary':\n",
    "            data = 'MNIST binary'\n",
    "        if data == 'FASHION':\n",
    "            data = 'Fashion'\n",
    "            \n",
    "        data_regrets[data] = final_regrets\n",
    "        \n",
    "    data_models[model] = data_regrets"
   ]
  },
  {
   "cell_type": "code",
   "execution_count": 3,
   "metadata": {},
   "outputs": [],
   "source": [
    "import pandas as pd\n",
    "exploration_dataset = np.array(exploration_dataset)\n",
    "exploration_dataset = pd.DataFrame(exploration_dataset)\n",
    "exploration_dataset.dtypes\n",
    "exploration_dataset[0].astype(float)\n",
    "\n",
    "exploration_dataset.columns = ['Explore', 'Dataset', 'Approach']\n",
    "exploration_dataset['Explore'] = exploration_dataset['Explore'].astype(int)"
   ]
  },
  {
   "cell_type": "code",
   "execution_count": 4,
   "metadata": {},
   "outputs": [],
   "source": [
    "import pandas as pd\n",
    "# pd.DataFrame(data_regrets)\n",
    "# data_regrets\n",
    "\n",
    "samples = []\n",
    "\n",
    "# Iterate over the dictionary to extract data\n",
    "for model, dataset in data_models.items():\n",
    "    for data, approach in dataset.items():\n",
    "        for appr, values in approach.items():\n",
    "            for val in values:\n",
    "                samples.append([model, data, appr, val])\n",
    "\n",
    "# Create a DataFrame\n",
    "df = pd.DataFrame(samples, columns=['Model','Dataset', 'Approach', 'Value'])\n",
    "\n",
    "# Calculate mean and standard error for each group\n",
    "grouped = df.groupby(['Model', 'Dataset', 'Approach'])\n",
    "mean = grouped['Value'].mean().reset_index()\n",
    "\n",
    "std_error = 2.576 * grouped['Value'].std() / np.sqrt(grouped['Value'].count())\n",
    "# grouped['Value'].std() / np.sqrt(grouped['Value'].count())\n",
    "std_error = std_error.reset_index()\n",
    "\n",
    "# Merge the mean and standard error into a single DataFrame\n",
    "result = pd.merge(mean, std_error, on=['Model', 'Dataset', 'Approach'])\n",
    "result.rename(columns={'Value_x': 'Mean', 'Value_y': 'StdError'}, inplace=True)\n",
    "\n",
    "result['merge'] = result['Model'] + result['Approach']\n",
    "result['merge2'] = result['Model'] + result['Dataset']"
   ]
  },
  {
   "cell_type": "code",
   "execution_count": 18,
   "metadata": {},
   "outputs": [
    {
     "data": {
      "text/plain": [
       "array(['FASHION', 'MNIST', 'covertype', 'shuttle'], dtype=object)"
      ]
     },
     "execution_count": 18,
     "metadata": {},
     "output_type": "execute_result"
    }
   ],
   "source": [
    "np.unique(exploration_dataset.Dataset )"
   ]
  },
  {
   "cell_type": "code",
   "execution_count": 5,
   "metadata": {},
   "outputs": [],
   "source": [
    "from scipy.stats import ttest_ind,mannwhitneyu\n",
    "# np.set_printoptions(suppress=True)\n",
    "\n",
    "\n",
    "final_values = []\n",
    "\n",
    "for data_name in ['MNIST', 'Fashion', 'covertype', 'shuttle'] : \n",
    "    subdf = df[ df['Dataset']== data_name ]\n",
    "\n",
    "    data_name2 = 'FASHION' if data_name =='Fashion' else data_name\n",
    "    subdf_exp = exploration_dataset[ exploration_dataset['Dataset']== data_name2 ]\n",
    "\n",
    "    dataset = pd.DataFrame([data_name] * 25)\n",
    "    # dataset_expl = pd.DataFrame([data_name] * 25)\n",
    "\n",
    "    final_dataset = []\n",
    "    references = []\n",
    "\n",
    "    for approach in ['Neural-CBP', 'IneurAL (official)', 'IneurAL (tuned)', 'Neuronal (official)', 'Neuronal (tuned)', ]:\n",
    "        \n",
    "        values = subdf[ subdf['Approach'] == approach]['Value']\n",
    "        values.name = '{}'.format(approach)\n",
    "        values = values.reset_index(drop=True)\n",
    "        dataset['{}'.format(approach)] = values\n",
    "\n",
    "        mean = np.mean(values)\n",
    "        \n",
    "\n",
    "        s, p = ttest_ind(df[  (df['Approach'] == 'Neural-CBP') & (df['Dataset'] == data_name)  ]['Value'], \n",
    "                    df[  (df['Approach'] == approach) & (df['Dataset'] == data_name)  ]['Value'], equal_var=False)\n",
    "        \n",
    "        values_exp = subdf_exp[ subdf_exp['Approach'] == approach]['Explore']\n",
    "        values_exp.name = '{}'.format(approach)\n",
    "        values_exp = values_exp.reset_index(drop=True)\n",
    "        values_exp = values_exp.astype(int)\n",
    "\n",
    "        mean_exp = np.mean(values_exp)\n",
    "\n",
    "        s, p_exp = ttest_ind( exploration_dataset[  (exploration_dataset['Approach'] == 'Neural-CBP') & (exploration_dataset['Dataset'] == data_name2)  ]['Explore'], \n",
    "                    exploration_dataset[  (exploration_dataset['Approach'] == approach) & (exploration_dataset['Dataset'] == data_name2)  ]['Explore'], equal_var=False)\n",
    "        \n",
    "        final_dataset.append( [  mean, p, mean_exp, p_exp ] )\n",
    "        references.append([ data_name ,  approach, ] )\n",
    "\n",
    "    final_dataset = np.array(final_dataset)\n",
    "    references = np.array(references)\n",
    "        \n",
    "\n",
    "    df_dropped = dataset.drop(columns=[0])\n",
    "    results = []\n",
    "    for i in range(25):\n",
    "        perfs = np.array( df_dropped.iloc[i].tolist() )\n",
    "        minimum = min( perfs )\n",
    "        strategy_won = (perfs == minimum)\n",
    "        results.append(strategy_won)  \n",
    "\n",
    "    results = np.array( results )  \n",
    "    true_counts = results.sum(axis=0)\n",
    "    true_counts = true_counts.reshape(-1, 1)\n",
    "\n",
    "\n",
    "    final = np.hstack( (final_dataset, true_counts) )\n",
    "    final = np.round(final,3)\n",
    "    final = np.hstack( (references, final) )\n",
    "\n",
    "    final_values.append(final)\n",
    "\n",
    "final_values = np.array(final_values)\n",
    "final_values = np.vstack(final_values)\n",
    "dataframe = pd.DataFrame(final_values)\n",
    "dataframe.columns = ['Dataset', 'Approach', 'Mean regret', 'p-value', 'Mean Exploration', 'p-value (exploration)', 'win count',]\n",
    "\n",
    "dataframe = dataframe[ ['Dataset', 'Approach', 'Mean regret', 'p-value', 'win count', 'Mean Exploration', 'p-value (exploration)'  ] ]\n",
    "# dataframe.to_csv('figures/results_nonbinary_MLP.csv', index = False)"
   ]
  },
  {
   "cell_type": "code",
   "execution_count": 6,
   "metadata": {},
   "outputs": [
    {
     "name": "stdout",
     "output_type": "stream",
     "text": [
      "MLPNeural-CBP\n",
      "MLPIneurAL (official)\n",
      "MLPIneurAL (tuned)\n",
      "MLPNeuronal (official)\n",
      "MLPNeuronal (tuned)\n",
      "['MLPFashion' 'MLPMNIST' 'MLPcovertype' 'MLPshuttle']\n"
     ]
    },
    {
     "data": {
      "application/vnd.plotly.v1+json": {
       "config": {
        "plotlyServerURL": "https://plot.ly"
       },
       "data": [
        {
         "error_y": {
          "array": [
           33.156432406397464,
           30.480005893262767,
           594.2192547386001,
           528.5459808768193
          ],
          "thickness": 1,
          "type": "data",
          "visible": true
         },
         "marker": {
          "color": "rgba(171,99,250,1)",
          "pattern": {
           "fgcolor": "black",
           "shape": "x"
          }
         },
         "name": "Neural-CBP",
         "showlegend": true,
         "type": "bar",
         "x": [
          "MLPFashion",
          "MLPMNIST",
          "MLPcovertype",
          "MLPshuttle"
         ],
         "y": [
          3253.39990234375,
          2240.800048828125,
          5636.47998046875,
          949.8400268554688
         ]
        },
        {
         "error_y": {
          "array": [
           45.57731488014919,
           65.7933127041546,
           392.00173163777544,
           154.76472224881567
          ],
          "thickness": 1,
          "type": "data",
          "visible": true
         },
         "marker": {
          "color": "rgba(255,161,90,1)"
         },
         "name": "IneurAL (official)",
         "showlegend": true,
         "type": "bar",
         "x": [
          "MLPFashion",
          "MLPMNIST",
          "MLPcovertype",
          "MLPshuttle"
         ],
         "y": [
          4344.240234375,
          3347.60009765625,
          6290.1201171875,
          2090.919921875
         ]
        },
        {
         "error_y": {
          "array": [
           37.729012111049684,
           26.732956363759445,
           811.5312861244639,
           152.12881863383723
          ],
          "thickness": 1,
          "type": "data",
          "visible": true
         },
         "marker": {
          "color": "rgba(25,211,243,1)"
         },
         "name": "IneurAL (tuned)",
         "showlegend": true,
         "type": "bar",
         "x": [
          "MLPFashion",
          "MLPMNIST",
          "MLPcovertype",
          "MLPshuttle"
         ],
         "y": [
          3317.320068359375,
          2143.199951171875,
          6097.2001953125,
          1040.43994140625
         ]
        },
        {
         "error_y": {
          "array": [
           47.564457115018186,
           70.18890500657778,
           70.04403742640002,
           182.5161789527011
          ],
          "thickness": 1,
          "type": "data",
          "visible": true
         },
         "marker": {
          "color": "rgba(255,102,146,1)"
         },
         "name": "Neuronal (official)",
         "showlegend": true,
         "type": "bar",
         "x": [
          "MLPFashion",
          "MLPMNIST",
          "MLPcovertype",
          "MLPshuttle"
         ],
         "y": [
          4488.919921875,
          3522.320068359375,
          4914.240234375,
          498.1199951171875
         ]
        },
        {
         "error_y": {
          "array": [
           39.85333143781416,
           37.57673281669915,
           48.9537336005498,
           324.38698105068033
          ],
          "thickness": 1,
          "type": "data",
          "visible": true
         },
         "marker": {
          "color": "rgba(182,232,128,1)"
         },
         "name": "Neuronal (tuned)",
         "showlegend": true,
         "type": "bar",
         "x": [
          "MLPFashion",
          "MLPMNIST",
          "MLPcovertype",
          "MLPshuttle"
         ],
         "y": [
          3247.159912109375,
          2367.760009765625,
          4188.56005859375,
          740.1199951171875
         ]
        }
       ],
       "layout": {
        "barmode": "group",
        "height": 180,
        "margin": {
         "b": 0,
         "l": 0,
         "r": 0,
         "t": 0
        },
        "paper_bgcolor": "white",
        "plot_bgcolor": "white",
        "shapes": [
         {
          "line": {
           "color": "black",
           "dash": "dot",
           "width": 2
          },
          "type": "line",
          "x0": 0.5,
          "x1": 0.5,
          "xref": "x",
          "y0": 0,
          "y1": 1,
          "yref": "y domain"
         },
         {
          "line": {
           "color": "black",
           "dash": "dot",
           "width": 2
          },
          "type": "line",
          "x0": 1.5,
          "x1": 1.5,
          "xref": "x",
          "y0": 0,
          "y1": 1,
          "yref": "y domain"
         },
         {
          "line": {
           "color": "black",
           "dash": "dot",
           "width": 2
          },
          "type": "line",
          "x0": 2.5,
          "x1": 2.5,
          "xref": "x",
          "y0": 0,
          "y1": 1,
          "yref": "y domain"
         }
        ],
        "showlegend": false,
        "template": {
         "data": {
          "bar": [
           {
            "error_x": {
             "color": "#2a3f5f"
            },
            "error_y": {
             "color": "#2a3f5f"
            },
            "marker": {
             "line": {
              "color": "#E5ECF6",
              "width": 0.5
             },
             "pattern": {
              "fillmode": "overlay",
              "size": 10,
              "solidity": 0.2
             }
            },
            "type": "bar"
           }
          ],
          "barpolar": [
           {
            "marker": {
             "line": {
              "color": "#E5ECF6",
              "width": 0.5
             },
             "pattern": {
              "fillmode": "overlay",
              "size": 10,
              "solidity": 0.2
             }
            },
            "type": "barpolar"
           }
          ],
          "carpet": [
           {
            "aaxis": {
             "endlinecolor": "#2a3f5f",
             "gridcolor": "white",
             "linecolor": "white",
             "minorgridcolor": "white",
             "startlinecolor": "#2a3f5f"
            },
            "baxis": {
             "endlinecolor": "#2a3f5f",
             "gridcolor": "white",
             "linecolor": "white",
             "minorgridcolor": "white",
             "startlinecolor": "#2a3f5f"
            },
            "type": "carpet"
           }
          ],
          "choropleth": [
           {
            "colorbar": {
             "outlinewidth": 0,
             "ticks": ""
            },
            "type": "choropleth"
           }
          ],
          "contour": [
           {
            "colorbar": {
             "outlinewidth": 0,
             "ticks": ""
            },
            "colorscale": [
             [
              0,
              "#0d0887"
             ],
             [
              0.1111111111111111,
              "#46039f"
             ],
             [
              0.2222222222222222,
              "#7201a8"
             ],
             [
              0.3333333333333333,
              "#9c179e"
             ],
             [
              0.4444444444444444,
              "#bd3786"
             ],
             [
              0.5555555555555556,
              "#d8576b"
             ],
             [
              0.6666666666666666,
              "#ed7953"
             ],
             [
              0.7777777777777778,
              "#fb9f3a"
             ],
             [
              0.8888888888888888,
              "#fdca26"
             ],
             [
              1,
              "#f0f921"
             ]
            ],
            "type": "contour"
           }
          ],
          "contourcarpet": [
           {
            "colorbar": {
             "outlinewidth": 0,
             "ticks": ""
            },
            "type": "contourcarpet"
           }
          ],
          "heatmap": [
           {
            "colorbar": {
             "outlinewidth": 0,
             "ticks": ""
            },
            "colorscale": [
             [
              0,
              "#0d0887"
             ],
             [
              0.1111111111111111,
              "#46039f"
             ],
             [
              0.2222222222222222,
              "#7201a8"
             ],
             [
              0.3333333333333333,
              "#9c179e"
             ],
             [
              0.4444444444444444,
              "#bd3786"
             ],
             [
              0.5555555555555556,
              "#d8576b"
             ],
             [
              0.6666666666666666,
              "#ed7953"
             ],
             [
              0.7777777777777778,
              "#fb9f3a"
             ],
             [
              0.8888888888888888,
              "#fdca26"
             ],
             [
              1,
              "#f0f921"
             ]
            ],
            "type": "heatmap"
           }
          ],
          "heatmapgl": [
           {
            "colorbar": {
             "outlinewidth": 0,
             "ticks": ""
            },
            "colorscale": [
             [
              0,
              "#0d0887"
             ],
             [
              0.1111111111111111,
              "#46039f"
             ],
             [
              0.2222222222222222,
              "#7201a8"
             ],
             [
              0.3333333333333333,
              "#9c179e"
             ],
             [
              0.4444444444444444,
              "#bd3786"
             ],
             [
              0.5555555555555556,
              "#d8576b"
             ],
             [
              0.6666666666666666,
              "#ed7953"
             ],
             [
              0.7777777777777778,
              "#fb9f3a"
             ],
             [
              0.8888888888888888,
              "#fdca26"
             ],
             [
              1,
              "#f0f921"
             ]
            ],
            "type": "heatmapgl"
           }
          ],
          "histogram": [
           {
            "marker": {
             "pattern": {
              "fillmode": "overlay",
              "size": 10,
              "solidity": 0.2
             }
            },
            "type": "histogram"
           }
          ],
          "histogram2d": [
           {
            "colorbar": {
             "outlinewidth": 0,
             "ticks": ""
            },
            "colorscale": [
             [
              0,
              "#0d0887"
             ],
             [
              0.1111111111111111,
              "#46039f"
             ],
             [
              0.2222222222222222,
              "#7201a8"
             ],
             [
              0.3333333333333333,
              "#9c179e"
             ],
             [
              0.4444444444444444,
              "#bd3786"
             ],
             [
              0.5555555555555556,
              "#d8576b"
             ],
             [
              0.6666666666666666,
              "#ed7953"
             ],
             [
              0.7777777777777778,
              "#fb9f3a"
             ],
             [
              0.8888888888888888,
              "#fdca26"
             ],
             [
              1,
              "#f0f921"
             ]
            ],
            "type": "histogram2d"
           }
          ],
          "histogram2dcontour": [
           {
            "colorbar": {
             "outlinewidth": 0,
             "ticks": ""
            },
            "colorscale": [
             [
              0,
              "#0d0887"
             ],
             [
              0.1111111111111111,
              "#46039f"
             ],
             [
              0.2222222222222222,
              "#7201a8"
             ],
             [
              0.3333333333333333,
              "#9c179e"
             ],
             [
              0.4444444444444444,
              "#bd3786"
             ],
             [
              0.5555555555555556,
              "#d8576b"
             ],
             [
              0.6666666666666666,
              "#ed7953"
             ],
             [
              0.7777777777777778,
              "#fb9f3a"
             ],
             [
              0.8888888888888888,
              "#fdca26"
             ],
             [
              1,
              "#f0f921"
             ]
            ],
            "type": "histogram2dcontour"
           }
          ],
          "mesh3d": [
           {
            "colorbar": {
             "outlinewidth": 0,
             "ticks": ""
            },
            "type": "mesh3d"
           }
          ],
          "parcoords": [
           {
            "line": {
             "colorbar": {
              "outlinewidth": 0,
              "ticks": ""
             }
            },
            "type": "parcoords"
           }
          ],
          "pie": [
           {
            "automargin": true,
            "type": "pie"
           }
          ],
          "scatter": [
           {
            "fillpattern": {
             "fillmode": "overlay",
             "size": 10,
             "solidity": 0.2
            },
            "type": "scatter"
           }
          ],
          "scatter3d": [
           {
            "line": {
             "colorbar": {
              "outlinewidth": 0,
              "ticks": ""
             }
            },
            "marker": {
             "colorbar": {
              "outlinewidth": 0,
              "ticks": ""
             }
            },
            "type": "scatter3d"
           }
          ],
          "scattercarpet": [
           {
            "marker": {
             "colorbar": {
              "outlinewidth": 0,
              "ticks": ""
             }
            },
            "type": "scattercarpet"
           }
          ],
          "scattergeo": [
           {
            "marker": {
             "colorbar": {
              "outlinewidth": 0,
              "ticks": ""
             }
            },
            "type": "scattergeo"
           }
          ],
          "scattergl": [
           {
            "marker": {
             "colorbar": {
              "outlinewidth": 0,
              "ticks": ""
             }
            },
            "type": "scattergl"
           }
          ],
          "scattermapbox": [
           {
            "marker": {
             "colorbar": {
              "outlinewidth": 0,
              "ticks": ""
             }
            },
            "type": "scattermapbox"
           }
          ],
          "scatterpolar": [
           {
            "marker": {
             "colorbar": {
              "outlinewidth": 0,
              "ticks": ""
             }
            },
            "type": "scatterpolar"
           }
          ],
          "scatterpolargl": [
           {
            "marker": {
             "colorbar": {
              "outlinewidth": 0,
              "ticks": ""
             }
            },
            "type": "scatterpolargl"
           }
          ],
          "scatterternary": [
           {
            "marker": {
             "colorbar": {
              "outlinewidth": 0,
              "ticks": ""
             }
            },
            "type": "scatterternary"
           }
          ],
          "surface": [
           {
            "colorbar": {
             "outlinewidth": 0,
             "ticks": ""
            },
            "colorscale": [
             [
              0,
              "#0d0887"
             ],
             [
              0.1111111111111111,
              "#46039f"
             ],
             [
              0.2222222222222222,
              "#7201a8"
             ],
             [
              0.3333333333333333,
              "#9c179e"
             ],
             [
              0.4444444444444444,
              "#bd3786"
             ],
             [
              0.5555555555555556,
              "#d8576b"
             ],
             [
              0.6666666666666666,
              "#ed7953"
             ],
             [
              0.7777777777777778,
              "#fb9f3a"
             ],
             [
              0.8888888888888888,
              "#fdca26"
             ],
             [
              1,
              "#f0f921"
             ]
            ],
            "type": "surface"
           }
          ],
          "table": [
           {
            "cells": {
             "fill": {
              "color": "#EBF0F8"
             },
             "line": {
              "color": "white"
             }
            },
            "header": {
             "fill": {
              "color": "#C8D4E3"
             },
             "line": {
              "color": "white"
             }
            },
            "type": "table"
           }
          ]
         },
         "layout": {
          "annotationdefaults": {
           "arrowcolor": "#2a3f5f",
           "arrowhead": 0,
           "arrowwidth": 1
          },
          "autotypenumbers": "strict",
          "coloraxis": {
           "colorbar": {
            "outlinewidth": 0,
            "ticks": ""
           }
          },
          "colorscale": {
           "diverging": [
            [
             0,
             "#8e0152"
            ],
            [
             0.1,
             "#c51b7d"
            ],
            [
             0.2,
             "#de77ae"
            ],
            [
             0.3,
             "#f1b6da"
            ],
            [
             0.4,
             "#fde0ef"
            ],
            [
             0.5,
             "#f7f7f7"
            ],
            [
             0.6,
             "#e6f5d0"
            ],
            [
             0.7,
             "#b8e186"
            ],
            [
             0.8,
             "#7fbc41"
            ],
            [
             0.9,
             "#4d9221"
            ],
            [
             1,
             "#276419"
            ]
           ],
           "sequential": [
            [
             0,
             "#0d0887"
            ],
            [
             0.1111111111111111,
             "#46039f"
            ],
            [
             0.2222222222222222,
             "#7201a8"
            ],
            [
             0.3333333333333333,
             "#9c179e"
            ],
            [
             0.4444444444444444,
             "#bd3786"
            ],
            [
             0.5555555555555556,
             "#d8576b"
            ],
            [
             0.6666666666666666,
             "#ed7953"
            ],
            [
             0.7777777777777778,
             "#fb9f3a"
            ],
            [
             0.8888888888888888,
             "#fdca26"
            ],
            [
             1,
             "#f0f921"
            ]
           ],
           "sequentialminus": [
            [
             0,
             "#0d0887"
            ],
            [
             0.1111111111111111,
             "#46039f"
            ],
            [
             0.2222222222222222,
             "#7201a8"
            ],
            [
             0.3333333333333333,
             "#9c179e"
            ],
            [
             0.4444444444444444,
             "#bd3786"
            ],
            [
             0.5555555555555556,
             "#d8576b"
            ],
            [
             0.6666666666666666,
             "#ed7953"
            ],
            [
             0.7777777777777778,
             "#fb9f3a"
            ],
            [
             0.8888888888888888,
             "#fdca26"
            ],
            [
             1,
             "#f0f921"
            ]
           ]
          },
          "colorway": [
           "#636efa",
           "#EF553B",
           "#00cc96",
           "#ab63fa",
           "#FFA15A",
           "#19d3f3",
           "#FF6692",
           "#B6E880",
           "#FF97FF",
           "#FECB52"
          ],
          "font": {
           "color": "#2a3f5f"
          },
          "geo": {
           "bgcolor": "white",
           "lakecolor": "white",
           "landcolor": "#E5ECF6",
           "showlakes": true,
           "showland": true,
           "subunitcolor": "white"
          },
          "hoverlabel": {
           "align": "left"
          },
          "hovermode": "closest",
          "mapbox": {
           "style": "light"
          },
          "paper_bgcolor": "white",
          "plot_bgcolor": "#E5ECF6",
          "polar": {
           "angularaxis": {
            "gridcolor": "white",
            "linecolor": "white",
            "ticks": ""
           },
           "bgcolor": "#E5ECF6",
           "radialaxis": {
            "gridcolor": "white",
            "linecolor": "white",
            "ticks": ""
           }
          },
          "scene": {
           "xaxis": {
            "backgroundcolor": "#E5ECF6",
            "gridcolor": "white",
            "gridwidth": 2,
            "linecolor": "white",
            "showbackground": true,
            "ticks": "",
            "zerolinecolor": "white"
           },
           "yaxis": {
            "backgroundcolor": "#E5ECF6",
            "gridcolor": "white",
            "gridwidth": 2,
            "linecolor": "white",
            "showbackground": true,
            "ticks": "",
            "zerolinecolor": "white"
           },
           "zaxis": {
            "backgroundcolor": "#E5ECF6",
            "gridcolor": "white",
            "gridwidth": 2,
            "linecolor": "white",
            "showbackground": true,
            "ticks": "",
            "zerolinecolor": "white"
           }
          },
          "shapedefaults": {
           "line": {
            "color": "#2a3f5f"
           }
          },
          "ternary": {
           "aaxis": {
            "gridcolor": "white",
            "linecolor": "white",
            "ticks": ""
           },
           "baxis": {
            "gridcolor": "white",
            "linecolor": "white",
            "ticks": ""
           },
           "bgcolor": "#E5ECF6",
           "caxis": {
            "gridcolor": "white",
            "linecolor": "white",
            "ticks": ""
           }
          },
          "title": {
           "x": 0.05
          },
          "xaxis": {
           "automargin": true,
           "gridcolor": "white",
           "linecolor": "white",
           "ticks": "",
           "title": {
            "standoff": 15
           },
           "zerolinecolor": "white",
           "zerolinewidth": 2
          },
          "yaxis": {
           "automargin": true,
           "gridcolor": "white",
           "linecolor": "white",
           "ticks": "",
           "title": {
            "standoff": 15
           },
           "zerolinecolor": "white",
           "zerolinewidth": 2
          }
         }
        },
        "width": 440,
        "xaxis": {
         "tickfont": {
          "size": 11
         },
         "tickmode": "array",
         "ticktext": [
          "Fashion",
          "MNIST",
          "covertype",
          "shuttle"
         ],
         "tickvals": [
          "MLPFashion",
          "MLPMNIST",
          "MLPcovertype",
          "MLPshuttle"
         ]
        },
        "yaxis": {
         "gridcolor": "lightgrey",
         "tickfont": {
          "size": 10
         },
         "tickmode": "array",
         "ticktext": [
          "1k",
          "2k",
          "3k",
          "4k",
          "5k",
          "7k",
          "9k"
         ],
         "tickvals": [
          1000,
          2000,
          3000,
          4000,
          5000,
          7000,
          9000
         ],
         "title": {
          "font": {
           "size": 13
          },
          "standoff": 5,
          "text": "Final regret ± 99% CI"
         }
        }
       }
      }
     },
     "metadata": {},
     "output_type": "display_data"
    }
   ],
   "source": [
    "import pandas as pd\n",
    "import plotly.graph_objects as go\n",
    "import numpy as np\n",
    "import plotly.express as px\n",
    "# Assuming df is your DataFrame and it has columns 'Dataset', 'Value', 'Model'\n",
    "\n",
    "w = 0.1\n",
    "def remove_substrings(s, substrings):\n",
    "    for substring in substrings:\n",
    "        s = s.replace(substring, '')\n",
    "    return s\n",
    "\n",
    "\n",
    "# approaches = result['merge'].unique()\n",
    "# 'LeNetNeural-CBP', 'LeNetNeuronal (official)', 'LeNetNeuronal (tuned)',\n",
    "# approaches = np.array([ 'MLPNeural-CBP', 'MLPNeuronal (official)','MLPNeuronal (tuned)', 'MLPIneurAL (official)', \n",
    "#                         'MLPIneurAL (tuned)',  'MLPCesa', 'MLPMargin' ], dtype=object) \n",
    "# approaches_names = [ remove_substrings(model, ['LeNet', 'MLP']) for model in approaches ]\n",
    "# default_colors = px.colors.qualitative.Plotly\n",
    "# model_colors = {model_n:col for model_n,col in zip(approaches_names,default_colors) }\n",
    "\n",
    "approaches = {\n",
    "    #'EEneuralcbpside_v5': {'color': [255, 255, 0], 'label': 'EEneuralcbpside_v5'},  # Red\n",
    "    'MLPNeural-CBP': {'color': [171, 99, 250], 'label': 'Neural-CBP'},  # Red\n",
    "    'MLPIneurAL (official)': {'color': [255, 161, 90], 'label':'IneurAL (official)'},                    # Yellow\n",
    "    'MLPIneurAL (tuned)': {'color': [25, 211, 243], 'label':'IneurAL (tuned)'},                    # Cyan\n",
    "    'MLPNeuronal (official)': {'color': [255, 102, 146], 'label':'Neuronal (official)'},                  # Magenta\n",
    "    'MLPNeuronal (tuned)': {'color': [182, 232, 128], 'label':'Neuronal (tuned)'},                   # Orange\n",
    "    # 'MLPMargin': {'color': [255, 151, 255], 'label':'Margin'},\n",
    "    # 'MLPCesa': {'color': [254, 203, 82], 'label':'Cesa'},\n",
    "}\n",
    "\n",
    "\n",
    "# Create an empty figure\n",
    "fig = go.Figure()\n",
    "\n",
    "\n",
    "views = []\n",
    "for appr in approaches.keys():\n",
    "    print(appr)\n",
    "    appr_name = approaches[appr]['label']\n",
    "    r,g,b = approaches[appr]['color']\n",
    "\n",
    "    subset = result[result['merge'] == appr]\n",
    "    dec = False\n",
    "    if appr_name not in views:\n",
    "        dec = True\n",
    "        views.append(appr_name)\n",
    "    \n",
    "\n",
    "    if 'CBP' in appr_name:\n",
    "        fig.add_trace(go.Bar(\n",
    "            x=subset['merge2'],\n",
    "            y=subset['Mean'],\n",
    "            name=appr_name,\n",
    "            error_y=dict(type='data', array=subset['StdError'], visible=True,thickness=1 ),\n",
    "            marker_color='rgba({},{},{},1)'.format(r,g,b),marker_pattern_shape='x',marker_pattern_fgcolor='black', \n",
    "            showlegend = dec,\n",
    "            # width=w\n",
    "            ))\n",
    "    else: \n",
    "        fig.add_trace(go.Bar(\n",
    "            x=subset['merge2'],\n",
    "            y=subset['Mean'],\n",
    "            name=appr_name,\n",
    "            error_y=dict(type='data', array=subset['StdError'], visible=True,thickness=1 ),\n",
    "            marker_color='rgba({},{},{},1)'.format(r,g,b), \n",
    "            showlegend = dec,\n",
    "            # width=w\n",
    "            ))\n",
    "\n",
    "\n",
    "# Add vertical black lines between data groups\n",
    "\n",
    "datasets = result['merge2'].unique()\n",
    "print(datasets)\n",
    "for i, dataset in enumerate(datasets[:-1]):\n",
    "    if i == 2:\n",
    "        fig.add_vline(x=i + 0.5, line_width=2, line_color=\"black\",   line_dash=\"dot\")\n",
    "    else:\n",
    "        fig.add_vline(x=i + 0.5, line_width=2, line_color=\"black\",  line_dash=\"dot\")\n",
    "\n",
    "\n",
    "siz = 13\n",
    "\n",
    "def format_tick(val):\n",
    "    \"\"\" Custom function to format the tick labels. \"\"\"\n",
    "    return f'{int(val / 1000)}k' if val >= 1000 else str(val)\n",
    "\n",
    "\n",
    "fig.update_layout(\n",
    "    width=440,\n",
    "    height=180,\n",
    "    plot_bgcolor='white',  # Sets the plot background color\n",
    "    paper_bgcolor='white',  # Sets the overall figure background color\n",
    "    barmode='group',\n",
    "    margin=dict(l=0, r=0, t=0, b=0),  # Small margins\n",
    "    xaxis=dict(\n",
    "        tickmode='array',\n",
    "        tickvals=result['merge2'].unique(),\n",
    "        ticktext = [ remove_substrings(model, ['LeNet', 'MLP']) for model in result['merge2'].unique() ],\n",
    "        tickfont=dict(size=siz-2)  # Increase X-axis tick font size\n",
    "    ),\n",
    "    yaxis=dict(\n",
    "        # type=\"log\",\n",
    "        gridcolor='lightgrey',\n",
    "        title=\"Final regret ± 99% CI\",\n",
    "        title_standoff=5,\n",
    "        title_font=dict(size=siz),\n",
    "        tickfont=dict(size=siz-3) , # Increase Y-axis tick font size\n",
    "        tickmode='array',\n",
    "        tickvals=[1000, 2000, 3000, 4000, 5000, 7000, 9000 ],  # Specify the values where you want ticks\n",
    "        ticktext=[format_tick(val) for val in [1000, 2000, 3000, 4000, 5000, 7000, 9000]]  # Format those values\n",
    "    ),\n",
    "    showlegend=False\n",
    "\n",
    "    # legend=dict(\n",
    "    #     orientation=\"h\",\n",
    "    #     yanchor=\"bottom\",\n",
    "    #     y=-0.3,  # Adjust this value to position the legend\n",
    "    #     xanchor=\"center\",\n",
    "    #     x=0.5,\n",
    "    #     font=dict(size=siz)  # Increase legend font size\n",
    "    # ),\n",
    ")\n",
    "\n",
    "fig.show()\n",
    "# fig.write_image(\"./figures/results_nonbinary_MLP.pdf\" )\n",
    "# fig.write_image(\"./figures/results_nonbinary_MLP.pdf\" )"
   ]
  }
 ],
 "metadata": {
  "kernelspec": {
   "display_name": ".venv",
   "language": "python",
   "name": "python3"
  },
  "language_info": {
   "codemirror_mode": {
    "name": "ipython",
    "version": 3
   },
   "file_extension": ".py",
   "mimetype": "text/x-python",
   "name": "python",
   "nbconvert_exporter": "python",
   "pygments_lexer": "ipython3",
   "version": "3.8.16"
  },
  "orig_nbformat": 4
 },
 "nbformat": 4,
 "nbformat_minor": 2
}
